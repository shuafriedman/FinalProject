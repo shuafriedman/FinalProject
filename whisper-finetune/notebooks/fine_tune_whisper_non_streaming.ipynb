{
  "cells": [
    {
      "cell_type": "markdown",
      "id": "21b6316e-8a55-4549-a154-66d3da2ab74a",
      "metadata": {
        "id": "21b6316e-8a55-4549-a154-66d3da2ab74a"
      },
      "source": [
        "The Whisper checkpoints come in five configurations of varying model sizes.\n",
        "The smallest four are trained on either English-only or multilingual data.\n",
        "The largest checkpoint is multilingual only. All nine of the pre-trained checkpoints\n",
        "are available on the [Hugging Face Hub](https://huggingface.co/models?search=openai/whisper). The\n",
        "checkpoints are summarised in the following table with links to the models on the Hub:\n",
        "\n",
        "| Size   | Layers | Width | Heads | Parameters | English-only                                         | Multilingual                                      |\n",
        "|--------|--------|-------|-------|------------|------------------------------------------------------|---------------------------------------------------|\n",
        "| tiny   | 4      | 384   | 6     | 39 M       | [✓](https://huggingface.co/openai/whisper-tiny.en)   | [✓](https://huggingface.co/openai/whisper-tiny.)  |\n",
        "| base   | 6      | 512   | 8     | 74 M       | [✓](https://huggingface.co/openai/whisper-base.en)   | [✓](https://huggingface.co/openai/whisper-base)   |\n",
        "| small  | 12     | 768   | 12    | 244 M      | [✓](https://huggingface.co/openai/whisper-small.en)  | [✓](https://huggingface.co/openai/whisper-small)  |\n",
        "| medium | 24     | 1024  | 16    | 769 M      | [✓](https://huggingface.co/openai/whisper-medium.en) | [✓](https://huggingface.co/openai/whisper-medium) |\n",
        "| large  | 32     | 1280  | 20    | 1550 M     | x                                                    | [✓](https://huggingface.co/openai/whisper-large)  |\n",
        "\n",
        "For demonstration purposes, we'll fine-tune the multilingual version of the\n",
        "[`\"small\"`](https://huggingface.co/openai/whisper-small) checkpoint with 244M params (~= 1GB).\n",
        "As for our data, we'll train and evaluate our system on a low-resource language\n",
        "taken from the [Common Voice](https://huggingface.co/datasets/mozilla-foundation/raw_datasets_11_0)\n",
        "dataset. We'll show that with as little as 8 hours of fine-tuning data, we can achieve\n",
        "strong performance in this language."
      ]
    },
    {
      "cell_type": "code",
      "execution_count": 1,
      "id": "8lV_SS8Oyxwn",
      "metadata": {
        "colab": {
          "base_uri": "https://localhost:8080/"
        },
        "id": "8lV_SS8Oyxwn",
        "outputId": "1232872a-c148-4af9-a96d-b8cb42e09deb"
      },
      "outputs": [
        {
          "name": "stdout",
          "output_type": "stream",
          "text": [
            "/bin/bash: /anaconda/envs/azureml_py38_PT_TF/lib/libtinfo.so.6: no version information available (required by /bin/bash)\n",
            "Requirement already satisfied: transformers in /anaconda/envs/azureml_py38_PT_TF/lib/python3.8/site-packages (4.36.2)\n",
            "Requirement already satisfied: datasets in /anaconda/envs/azureml_py38_PT_TF/lib/python3.8/site-packages (2.16.1)\n",
            "Requirement already satisfied: accelerate in /anaconda/envs/azureml_py38_PT_TF/lib/python3.8/site-packages (0.25.0)\n",
            "Requirement already satisfied: evaluate in /anaconda/envs/azureml_py38_PT_TF/lib/python3.8/site-packages (0.4.1)\n",
            "Requirement already satisfied: jiwer in /anaconda/envs/azureml_py38_PT_TF/lib/python3.8/site-packages (3.0.3)\n",
            "Requirement already satisfied: librosa in /anaconda/envs/azureml_py38_PT_TF/lib/python3.8/site-packages (0.10.1)\n",
            "Requirement already satisfied: soundfile in /anaconda/envs/azureml_py38_PT_TF/lib/python3.8/site-packages (0.12.1)\n",
            "Requirement already satisfied: filelock in /anaconda/envs/azureml_py38_PT_TF/lib/python3.8/site-packages (from transformers) (3.13.1)\n",
            "Requirement already satisfied: tokenizers<0.19,>=0.14 in /anaconda/envs/azureml_py38_PT_TF/lib/python3.8/site-packages (from transformers) (0.15.0)\n",
            "Requirement already satisfied: regex!=2019.12.17 in /anaconda/envs/azureml_py38_PT_TF/lib/python3.8/site-packages (from transformers) (2023.12.25)\n",
            "Requirement already satisfied: safetensors>=0.3.1 in /anaconda/envs/azureml_py38_PT_TF/lib/python3.8/site-packages (from transformers) (0.4.1)\n",
            "Requirement already satisfied: requests in /anaconda/envs/azureml_py38_PT_TF/lib/python3.8/site-packages (from transformers) (2.31.0)\n",
            "Requirement already satisfied: numpy>=1.17 in /anaconda/envs/azureml_py38_PT_TF/lib/python3.8/site-packages (from transformers) (1.23.5)\n",
            "Requirement already satisfied: packaging>=20.0 in /anaconda/envs/azureml_py38_PT_TF/lib/python3.8/site-packages (from transformers) (23.1)\n",
            "Requirement already satisfied: pyyaml>=5.1 in /anaconda/envs/azureml_py38_PT_TF/lib/python3.8/site-packages (from transformers) (6.0)\n",
            "Requirement already satisfied: huggingface-hub<1.0,>=0.19.3 in /anaconda/envs/azureml_py38_PT_TF/lib/python3.8/site-packages (from transformers) (0.20.2)\n",
            "Requirement already satisfied: tqdm>=4.27 in /anaconda/envs/azureml_py38_PT_TF/lib/python3.8/site-packages (from transformers) (4.65.0)\n",
            "Requirement already satisfied: pyarrow-hotfix in /anaconda/envs/azureml_py38_PT_TF/lib/python3.8/site-packages (from datasets) (0.6)\n",
            "Requirement already satisfied: fsspec[http]<=2023.10.0,>=2023.1.0 in /anaconda/envs/azureml_py38_PT_TF/lib/python3.8/site-packages (from datasets) (2023.10.0)\n",
            "Requirement already satisfied: dill<0.3.8,>=0.3.0 in /anaconda/envs/azureml_py38_PT_TF/lib/python3.8/site-packages (from datasets) (0.3.7)\n",
            "Requirement already satisfied: pyarrow>=8.0.0 in /anaconda/envs/azureml_py38_PT_TF/lib/python3.8/site-packages (from datasets) (9.0.0)\n",
            "Requirement already satisfied: pandas in /anaconda/envs/azureml_py38_PT_TF/lib/python3.8/site-packages (from datasets) (2.0.2)\n",
            "Requirement already satisfied: xxhash in /anaconda/envs/azureml_py38_PT_TF/lib/python3.8/site-packages (from datasets) (3.4.1)\n",
            "Requirement already satisfied: multiprocess in /anaconda/envs/azureml_py38_PT_TF/lib/python3.8/site-packages (from datasets) (0.70.15)\n",
            "Requirement already satisfied: aiohttp in /anaconda/envs/azureml_py38_PT_TF/lib/python3.8/site-packages (from datasets) (3.9.1)\n",
            "Requirement already satisfied: psutil in /anaconda/envs/azureml_py38_PT_TF/lib/python3.8/site-packages (from accelerate) (5.9.5)\n",
            "Requirement already satisfied: torch>=1.10.0 in /anaconda/envs/azureml_py38_PT_TF/lib/python3.8/site-packages (from accelerate) (2.1.2)\n",
            "Requirement already satisfied: responses<0.19 in /anaconda/envs/azureml_py38_PT_TF/lib/python3.8/site-packages (from evaluate) (0.18.0)\n",
            "Requirement already satisfied: click<9.0.0,>=8.1.3 in /anaconda/envs/azureml_py38_PT_TF/lib/python3.8/site-packages (from jiwer) (8.1.3)\n",
            "Requirement already satisfied: rapidfuzz<4,>=3 in /anaconda/envs/azureml_py38_PT_TF/lib/python3.8/site-packages (from jiwer) (3.6.1)\n",
            "Requirement already satisfied: joblib>=0.14 in /anaconda/envs/azureml_py38_PT_TF/lib/python3.8/site-packages (from librosa) (1.2.0)\n",
            "Requirement already satisfied: msgpack>=1.0 in /anaconda/envs/azureml_py38_PT_TF/lib/python3.8/site-packages (from librosa) (1.0.7)\n",
            "Requirement already satisfied: typing-extensions>=4.1.1 in /anaconda/envs/azureml_py38_PT_TF/lib/python3.8/site-packages (from librosa) (4.6.3)\n",
            "Requirement already satisfied: numba>=0.51.0 in /anaconda/envs/azureml_py38_PT_TF/lib/python3.8/site-packages (from librosa) (0.58.1)\n",
            "Requirement already satisfied: decorator>=4.3.0 in /anaconda/envs/azureml_py38_PT_TF/lib/python3.8/site-packages (from librosa) (5.1.1)\n",
            "Requirement already satisfied: audioread>=2.1.9 in /anaconda/envs/azureml_py38_PT_TF/lib/python3.8/site-packages (from librosa) (3.0.1)\n",
            "Requirement already satisfied: scipy>=1.2.0 in /anaconda/envs/azureml_py38_PT_TF/lib/python3.8/site-packages (from librosa) (1.10.1)\n",
            "Requirement already satisfied: soxr>=0.3.2 in /anaconda/envs/azureml_py38_PT_TF/lib/python3.8/site-packages (from librosa) (0.3.7)\n",
            "Requirement already satisfied: lazy-loader>=0.1 in /anaconda/envs/azureml_py38_PT_TF/lib/python3.8/site-packages (from librosa) (0.3)\n",
            "Requirement already satisfied: pooch>=1.0 in /anaconda/envs/azureml_py38_PT_TF/lib/python3.8/site-packages (from librosa) (1.8.0)\n",
            "Requirement already satisfied: scikit-learn>=0.20.0 in /anaconda/envs/azureml_py38_PT_TF/lib/python3.8/site-packages (from librosa) (1.2.2)\n",
            "Requirement already satisfied: cffi>=1.0 in /anaconda/envs/azureml_py38_PT_TF/lib/python3.8/site-packages (from soundfile) (1.15.1)\n",
            "Requirement already satisfied: pycparser in /anaconda/envs/azureml_py38_PT_TF/lib/python3.8/site-packages (from cffi>=1.0->soundfile) (2.21)\n",
            "Requirement already satisfied: multidict<7.0,>=4.5 in /anaconda/envs/azureml_py38_PT_TF/lib/python3.8/site-packages (from aiohttp->datasets) (6.0.4)\n",
            "Requirement already satisfied: attrs>=17.3.0 in /anaconda/envs/azureml_py38_PT_TF/lib/python3.8/site-packages (from aiohttp->datasets) (23.1.0)\n",
            "Requirement already satisfied: aiosignal>=1.1.2 in /anaconda/envs/azureml_py38_PT_TF/lib/python3.8/site-packages (from aiohttp->datasets) (1.3.1)\n",
            "Requirement already satisfied: yarl<2.0,>=1.0 in /anaconda/envs/azureml_py38_PT_TF/lib/python3.8/site-packages (from aiohttp->datasets) (1.9.4)\n",
            "Requirement already satisfied: frozenlist>=1.1.1 in /anaconda/envs/azureml_py38_PT_TF/lib/python3.8/site-packages (from aiohttp->datasets) (1.4.1)\n",
            "Requirement already satisfied: async-timeout<5.0,>=4.0 in /anaconda/envs/azureml_py38_PT_TF/lib/python3.8/site-packages (from aiohttp->datasets) (4.0.3)\n",
            "Requirement already satisfied: importlib-metadata in /anaconda/envs/azureml_py38_PT_TF/lib/python3.8/site-packages (from numba>=0.51.0->librosa) (6.7.0)\n",
            "Requirement already satisfied: llvmlite<0.42,>=0.41.0dev0 in /anaconda/envs/azureml_py38_PT_TF/lib/python3.8/site-packages (from numba>=0.51.0->librosa) (0.41.1)\n",
            "Requirement already satisfied: platformdirs>=2.5.0 in /anaconda/envs/azureml_py38_PT_TF/lib/python3.8/site-packages (from pooch>=1.0->librosa) (3.7.0)\n",
            "Requirement already satisfied: urllib3<3,>=1.21.1 in /anaconda/envs/azureml_py38_PT_TF/lib/python3.8/site-packages (from requests->transformers) (1.26.16)\n",
            "Requirement already satisfied: idna<4,>=2.5 in /anaconda/envs/azureml_py38_PT_TF/lib/python3.8/site-packages (from requests->transformers) (3.4)\n",
            "Requirement already satisfied: charset-normalizer<4,>=2 in /anaconda/envs/azureml_py38_PT_TF/lib/python3.8/site-packages (from requests->transformers) (3.1.0)\n",
            "Requirement already satisfied: certifi>=2017.4.17 in /anaconda/envs/azureml_py38_PT_TF/lib/python3.8/site-packages (from requests->transformers) (2023.5.7)\n",
            "Requirement already satisfied: threadpoolctl>=2.0.0 in /anaconda/envs/azureml_py38_PT_TF/lib/python3.8/site-packages (from scikit-learn>=0.20.0->librosa) (3.1.0)\n",
            "Requirement already satisfied: nvidia-nvtx-cu12==12.1.105 in /anaconda/envs/azureml_py38_PT_TF/lib/python3.8/site-packages (from torch>=1.10.0->accelerate) (12.1.105)\n",
            "Requirement already satisfied: sympy in /anaconda/envs/azureml_py38_PT_TF/lib/python3.8/site-packages (from torch>=1.10.0->accelerate) (1.12)\n",
            "Requirement already satisfied: nvidia-cufft-cu12==11.0.2.54 in /anaconda/envs/azureml_py38_PT_TF/lib/python3.8/site-packages (from torch>=1.10.0->accelerate) (11.0.2.54)\n",
            "Requirement already satisfied: nvidia-curand-cu12==10.3.2.106 in /anaconda/envs/azureml_py38_PT_TF/lib/python3.8/site-packages (from torch>=1.10.0->accelerate) (10.3.2.106)\n",
            "Requirement already satisfied: nvidia-nccl-cu12==2.18.1 in /anaconda/envs/azureml_py38_PT_TF/lib/python3.8/site-packages (from torch>=1.10.0->accelerate) (2.18.1)\n",
            "Requirement already satisfied: networkx in /anaconda/envs/azureml_py38_PT_TF/lib/python3.8/site-packages (from torch>=1.10.0->accelerate) (3.1)\n",
            "Requirement already satisfied: nvidia-cuda-nvrtc-cu12==12.1.105 in /anaconda/envs/azureml_py38_PT_TF/lib/python3.8/site-packages (from torch>=1.10.0->accelerate) (12.1.105)\n",
            "Requirement already satisfied: nvidia-cusolver-cu12==11.4.5.107 in /anaconda/envs/azureml_py38_PT_TF/lib/python3.8/site-packages (from torch>=1.10.0->accelerate) (11.4.5.107)\n",
            "Requirement already satisfied: nvidia-cusparse-cu12==12.1.0.106 in /anaconda/envs/azureml_py38_PT_TF/lib/python3.8/site-packages (from torch>=1.10.0->accelerate) (12.1.0.106)\n",
            "Requirement already satisfied: nvidia-cublas-cu12==12.1.3.1 in /anaconda/envs/azureml_py38_PT_TF/lib/python3.8/site-packages (from torch>=1.10.0->accelerate) (12.1.3.1)\n",
            "Requirement already satisfied: jinja2 in /anaconda/envs/azureml_py38_PT_TF/lib/python3.8/site-packages (from torch>=1.10.0->accelerate) (3.1.2)\n",
            "Requirement already satisfied: nvidia-cuda-runtime-cu12==12.1.105 in /anaconda/envs/azureml_py38_PT_TF/lib/python3.8/site-packages (from torch>=1.10.0->accelerate) (12.1.105)\n",
            "Requirement already satisfied: nvidia-cuda-cupti-cu12==12.1.105 in /anaconda/envs/azureml_py38_PT_TF/lib/python3.8/site-packages (from torch>=1.10.0->accelerate) (12.1.105)\n",
            "Requirement already satisfied: nvidia-cudnn-cu12==8.9.2.26 in /anaconda/envs/azureml_py38_PT_TF/lib/python3.8/site-packages (from torch>=1.10.0->accelerate) (8.9.2.26)\n",
            "Requirement already satisfied: triton==2.1.0 in /anaconda/envs/azureml_py38_PT_TF/lib/python3.8/site-packages (from torch>=1.10.0->accelerate) (2.1.0)\n",
            "Requirement already satisfied: nvidia-nvjitlink-cu12 in /anaconda/envs/azureml_py38_PT_TF/lib/python3.8/site-packages (from nvidia-cusolver-cu12==11.4.5.107->torch>=1.10.0->accelerate) (12.3.101)\n",
            "Requirement already satisfied: pytz>=2020.1 in /anaconda/envs/azureml_py38_PT_TF/lib/python3.8/site-packages (from pandas->datasets) (2023.3)\n",
            "Requirement already satisfied: tzdata>=2022.1 in /anaconda/envs/azureml_py38_PT_TF/lib/python3.8/site-packages (from pandas->datasets) (2023.3)\n",
            "Requirement already satisfied: python-dateutil>=2.8.2 in /anaconda/envs/azureml_py38_PT_TF/lib/python3.8/site-packages (from pandas->datasets) (2.8.2)\n",
            "Requirement already satisfied: six>=1.5 in /anaconda/envs/azureml_py38_PT_TF/lib/python3.8/site-packages (from python-dateutil>=2.8.2->pandas->datasets) (1.16.0)\n",
            "Requirement already satisfied: zipp>=0.5 in /anaconda/envs/azureml_py38_PT_TF/lib/python3.8/site-packages (from importlib-metadata->numba>=0.51.0->librosa) (3.15.0)\n",
            "Requirement already satisfied: MarkupSafe>=2.0 in /anaconda/envs/azureml_py38_PT_TF/lib/python3.8/site-packages (from jinja2->torch>=1.10.0->accelerate) (2.1.3)\n",
            "Requirement already satisfied: mpmath>=0.19 in /anaconda/envs/azureml_py38_PT_TF/lib/python3.8/site-packages (from sympy->torch>=1.10.0->accelerate) (1.3.0)\n",
            "Note: you may need to restart the kernel to use updated packages.\n",
            "/bin/bash: /anaconda/envs/azureml_py38_PT_TF/lib/libtinfo.so.6: no version information available (required by /bin/bash)\n",
            "Note: you may need to restart the kernel to use updated packages.\n"
          ]
        }
      ],
      "source": [
        "%pip install transformers datasets accelerate evaluate jiwer librosa soundfile\n",
        "%pip install accelerate>=0.25.0"
      ]
    },
    {
      "cell_type": "code",
      "execution_count": 2,
      "id": "11b56860",
      "metadata": {},
      "outputs": [],
      "source": [
        "# from huggingface_hub import notebook_login\n",
        "\n",
        "# notebook_login()"
      ]
    },
    {
      "cell_type": "code",
      "execution_count": 2,
      "id": "eb5cf01d",
      "metadata": {},
      "outputs": [
        {
          "name": "stdout",
          "output_type": "stream",
          "text": [
            "/Users/shua/Desktop/FinalProject/whisper-finetune/notebooks\n"
          ]
        }
      ],
      "source": []
    },
    {
      "cell_type": "code",
      "execution_count": 5,
      "id": "a2787582-554f-44ce-9f38-4180a5ed6b44",
      "metadata": {
        "colab": {
          "base_uri": "https://localhost:8080/",
          "height": 176,
          "referenced_widgets": [
            "9166186d355343d1b993a82b4ee2a685",
            "ad56824961654ff09822160b12a4a027",
            "b77b115840024f298535780007281b33",
            "468419d3ccfa494086981a4a82d6033a",
            "3b6326fa66054f969c47d877fc748720",
            "9a144408ebfd48dcb05625f3138e0433",
            "dc39a74c6ec640a2bf57de3c4f7cec0b",
            "ad480193700545b48e46216888ce7a7a",
            "1faa2cc7430c4819b3c67d4642e5ed37",
            "e200fecaccc64b24a9f6a2a145a5b915",
            "0c6ef909fe15437d871adecbea14315a"
          ]
        },
        "id": "a2787582-554f-44ce-9f38-4180a5ed6b44",
        "outputId": "fa84f177-5deb-420f-ee9d-c0db251b4121"
      },
      "outputs": [
        {
          "name": "stdout",
          "output_type": "stream",
          "text": [
            "loading local data\n",
            "IterableDatasetDict({\n",
            "    train: Dataset({\n",
            "        features: ['audio', 'sentence'],\n",
            "        num_rows: 8000\n",
            "    })\n",
            "    test: Dataset({\n",
            "        features: ['audio', 'sentence'],\n",
            "        num_rows: 2000\n",
            "    })\n",
            "})\n"
          ]
        }
      ],
      "source": [
        "from datasets import load_dataset, IterableDatasetDict, load_from_disk\n",
        "import os\n",
        "path = '/Users/shua/Desktop/FinalProject/'\n",
        "dataset_path = path + \"datasets/kan_dataset\"\n",
        "raw_datasets = IterableDatasetDict()\n",
        "if os.path.exists(dataset_path)==False:\n",
        "    print('getting dataset from huggingface')\n",
        "    raw_datasets[\"train\"] = load_dataset(\"imvladikon/hebrew_speech_kan\", split=\"train\")  # set split=\"train+validation\" for low-resource\n",
        "    raw_datasets[\"test\"] = load_dataset(\"imvladikon/hebrew_speech_kan\", split=\"validation\") #no test for imvladikon hebrew\n",
        "    raw_datasets[\"train\"].save_to_disk(dataset_path + \"/train\")\n",
        "    raw_datasets[\"test\"].save_to_disk(dataset_path + \"/test\")\n",
        "else:\n",
        "    print(\"loading local data\")\n",
        "    raw_datasets[\"train\"] = load_from_disk(dataset_path + \"/train\")\n",
        "    raw_datasets[\"test\"] = load_from_disk(dataset_path + \"/test\")\n",
        "\n",
        "print(raw_datasets)"
      ]
    },
    {
      "cell_type": "code",
      "execution_count": 6,
      "id": "e683ba25",
      "metadata": {},
      "outputs": [
        {
          "data": {
            "text/plain": [
              "8000"
            ]
          },
          "execution_count": 6,
          "metadata": {},
          "output_type": "execute_result"
        }
      ],
      "source": [
        "#get num_rows of iterable dataset\n",
        "raw_datasets[\"train\"].num_rows"
      ]
    },
    {
      "cell_type": "code",
      "execution_count": 6,
      "id": "33d7860f",
      "metadata": {},
      "outputs": [],
      "source": [
        "raw_datasets[\"train\"] = raw_datasets[\"train\"].shuffle().select(range(500))\n",
        "raw_datasets[\"test\"] = raw_datasets[\"test\"].shuffle().select(range(50))"
      ]
    },
    {
      "cell_type": "code",
      "execution_count": 7,
      "id": "a2f66d1a",
      "metadata": {},
      "outputs": [
        {
          "name": "stdout",
          "output_type": "stream",
          "text": [
            "Folder Size: 1.4862149702385068 GB\n"
          ]
        }
      ],
      "source": [
        "#get memory size of raw_datasets[\"train\"]\n",
        "def get_folder_size(path):\n",
        "    total_size = 0\n",
        "    for dirpath, dirnames, filenames in os.walk(path):\n",
        "        for f in filenames:\n",
        "            fp = os.path.join(dirpath, f)\n",
        "            if os.path.isfile(fp):\n",
        "                total_size += os.path.getsize(fp)\n",
        "    return total_size\n",
        "\n",
        "folder_path = dataset_path + \"/train\"\n",
        "size_bytes = get_folder_size(folder_path)\n",
        "size_mb = size_bytes / (1024 * 1024)  # Convert bytes to megabytes\n",
        "size_gb = size_bytes / (1024 * 1024 * 1024)  # Convert bytes to gigabytes\n",
        "\n",
        "print(f\"Folder Size: {size_gb} GB\")"
      ]
    },
    {
      "cell_type": "code",
      "execution_count": 8,
      "id": "7280b682",
      "metadata": {},
      "outputs": [
        {
          "name": "stderr",
          "output_type": "stream",
          "text": [
            "/anaconda/envs/azureml_py38_PT_TF/lib/python3.8/site-packages/torch/cuda/__init__.py:611: UserWarning: Can't initialize NVML\n",
            "  warnings.warn(\"Can't initialize NVML\")\n",
            "/anaconda/envs/azureml_py38_PT_TF/lib/python3.8/site-packages/torch/cuda/__init__.py:740: UserWarning: CUDA initialization: The NVIDIA driver on your system is too old (found version 11040). Please update your GPU driver by downloading and installing a new version from the URL: http://www.nvidia.com/Download/index.aspx Alternatively, go to: https://pytorch.org to install a PyTorch version that has been compiled with your version of the CUDA driver. (Triggered internally at ../c10/cuda/CUDAFunctions.cpp:108.)\n",
            "  return torch._C._cuda_getDeviceCount() if nvml_count < 0 else nvml_count\n"
          ]
        }
      ],
      "source": [
        "from transformers import WhisperForConditionalGeneration\n",
        "\n",
        "model = WhisperForConditionalGeneration.from_pretrained(\"openai/whisper-small\")"
      ]
    },
    {
      "cell_type": "code",
      "execution_count": 9,
      "id": "bc77d7bb-f9e2-47f5-b663-30f7a4321ce5",
      "metadata": {
        "id": "bc77d7bb-f9e2-47f5-b663-30f7a4321ce5"
      },
      "outputs": [],
      "source": [
        "from transformers import WhisperFeatureExtractor\n",
        "\n",
        "feature_extractor = WhisperFeatureExtractor.from_pretrained(\"openai/whisper-small\")"
      ]
    },
    {
      "cell_type": "markdown",
      "id": "93748af7-b917-4ecf-a0c8-7d89077ff9cb",
      "metadata": {
        "id": "93748af7-b917-4ecf-a0c8-7d89077ff9cb"
      },
      "source": [
        "### Load WhisperTokenizer"
      ]
    },
    {
      "cell_type": "markdown",
      "id": "2bc82609-a9fb-447a-a2af-99597c864029",
      "metadata": {
        "id": "2bc82609-a9fb-447a-a2af-99597c864029"
      },
      "source": [
        "The Whisper model outputs a sequence of _token ids_. The tokenizer maps each of these token ids to their corresponding text string. For Hindi, we can load the pre-trained tokenizer and use it for fine-tuning without any further modifications. We simply have to\n",
        "specify the target language and the task. These arguments inform the\n",
        "tokenizer to prefix the language and task tokens to the start of encoded\n",
        "label sequences:"
      ]
    },
    {
      "cell_type": "code",
      "execution_count": 10,
      "id": "c7b07f9b-ae0e-4f89-98f0-0c50d432eab6",
      "metadata": {
        "colab": {
          "referenced_widgets": [
            "90d056e20b3e4f14ae0199a1a4ab1bb0",
            "d82a88daec0e4f14add691b7b903064c",
            "350acdb0f40e454099fa901e66de55f0",
            "2e6a82a462cc411d90fa1bea4ee60790",
            "c74bfee0198b4817832ea86e8e88d96c",
            "04fb2d81eff646068e10475a08ae42f4"
          ]
        },
        "id": "c7b07f9b-ae0e-4f89-98f0-0c50d432eab6",
        "outputId": "5c004b44-86e7-4e00-88be-39e0af5eed69"
      },
      "outputs": [],
      "source": [
        "from transformers import WhisperTokenizer\n",
        "\n",
        "tokenizer = WhisperTokenizer.from_pretrained(\"openai/whisper-small\", language=\"Hebrew\", task=\"transcribe\")"
      ]
    },
    {
      "cell_type": "markdown",
      "id": "d2ef23f3-f4a8-483a-a2dc-080a7496cb1b",
      "metadata": {
        "id": "d2ef23f3-f4a8-483a-a2dc-080a7496cb1b"
      },
      "source": [
        "### Combine To Create A WhisperProcessor"
      ]
    },
    {
      "cell_type": "markdown",
      "id": "5ff67654-5a29-4bb8-a69d-0228946c6f8d",
      "metadata": {
        "id": "5ff67654-5a29-4bb8-a69d-0228946c6f8d"
      },
      "source": [
        "To simplify using the feature extractor and tokenizer, we can _wrap_\n",
        "both into a single `WhisperProcessor` class. This processor object\n",
        "inherits from the `WhisperFeatureExtractor` and `WhisperProcessor`,\n",
        "and can be used on the audio inputs and model predictions as required.\n",
        "In doing so, we only need to keep track of two objects during training:\n",
        "the `processor` and the `model`:"
      ]
    },
    {
      "cell_type": "code",
      "execution_count": 11,
      "id": "77d9f0c5-8607-4642-a8ac-c3ab2e223ea6",
      "metadata": {
        "id": "77d9f0c5-8607-4642-a8ac-c3ab2e223ea6"
      },
      "outputs": [],
      "source": [
        "from transformers import WhisperProcessor\n",
        "\n",
        "processor = WhisperProcessor.from_pretrained(\"openai/whisper-small\", language=\"Hebrew\", task=\"transcribe\")"
      ]
    },
    {
      "cell_type": "markdown",
      "id": "381acd09-0b0f-4d04-9eb3-f028ac0e5f2c",
      "metadata": {
        "id": "381acd09-0b0f-4d04-9eb3-f028ac0e5f2c"
      },
      "source": [
        "### Prepare Data"
      ]
    },
    {
      "cell_type": "markdown",
      "id": "9649bf01-2e8a-45e5-8fca-441c13637b8f",
      "metadata": {
        "id": "9649bf01-2e8a-45e5-8fca-441c13637b8f"
      },
      "source": [
        "Let's print the first example of the Common Voice dataset to see\n",
        "what form the data is in:"
      ]
    },
    {
      "cell_type": "code",
      "execution_count": 12,
      "id": "6e6b0ec5-0c94-4e2c-ae24-c791be1b2255",
      "metadata": {
        "id": "6e6b0ec5-0c94-4e2c-ae24-c791be1b2255"
      },
      "outputs": [
        {
          "name": "stdout",
          "output_type": "stream",
          "text": [
            "{'audio': {'path': 'd870ee34ad48465da3608583f48c254a58.wav', 'array': array([0.01860046, 0.01480103, 0.00968933, ..., 0.54614258, 0.40432739,\n",
            "       0.28973389]), 'sampling_rate': 16000}, 'sentence': 'אפילו אהבתי את הצבא אהבתי את האימונים'}\n"
          ]
        }
      ],
      "source": [
        "print(raw_datasets[\"train\"][0])"
      ]
    },
    {
      "cell_type": "code",
      "execution_count": 13,
      "id": "4d07a962",
      "metadata": {},
      "outputs": [
        {
          "data": {
            "text/html": [
              "\n",
              "                <audio  controls=\"controls\" >\n",
              "                    <source src=\"data:audio/wav;base64,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\" type=\"audio/wav\" />\n",
              "                    Your browser does not support the audio element.\n",
              "                </audio>\n",
              "              "
            ],
            "text/plain": [
              "<IPython.lib.display.Audio object>"
            ]
          },
          "execution_count": 13,
          "metadata": {},
          "output_type": "execute_result"
        }
      ],
      "source": [
        "import numpy as np\n",
        "from IPython.display import Audio\n",
        "\n",
        "audio_array = np.array(raw_datasets[\"train\"][0]['audio']['array'])\n",
        "audio_rate = raw_datasets[\"train\"][1]['audio']['sampling_rate']\n",
        "Audio(audio_array, rate = audio_rate)"
      ]
    },
    {
      "cell_type": "markdown",
      "id": "5a679f05-063d-41b3-9b58-4fc9c6ccf4fd",
      "metadata": {
        "id": "5a679f05-063d-41b3-9b58-4fc9c6ccf4fd"
      },
      "source": [
        "Since\n",
        "our input audio is sampled at 48kHz, we need to _downsample_ it to\n",
        "16kHz prior to passing it to the Whisper feature extractor, 16kHz being the sampling rate expected by the Whisper model.\n",
        "\n",
        "We'll set the audio inputs to the correct sampling rate using dataset's\n",
        "[`cast_column`](https://huggingface.co/docs/datasets/package_reference/main_classes.html?highlight=cast_column#datasets.DatasetDict.cast_column)\n",
        "method. This operation does not change the audio in-place,\n",
        "but rather signals to `datasets` to resample audio samples _on the fly_ the\n",
        "first time that they are loaded:"
      ]
    },
    {
      "cell_type": "code",
      "execution_count": 14,
      "id": "f12e2e57-156f-417b-8cfb-69221cc198e8",
      "metadata": {
        "id": "f12e2e57-156f-417b-8cfb-69221cc198e8"
      },
      "outputs": [],
      "source": [
        "from datasets import Audio\n",
        "\n",
        "raw_datasets = raw_datasets.cast_column(\"audio\", Audio(sampling_rate=16000))"
      ]
    },
    {
      "cell_type": "markdown",
      "id": "00382a3e-abec-4cdd-a54c-d1aaa3ea4707",
      "metadata": {
        "id": "00382a3e-abec-4cdd-a54c-d1aaa3ea4707"
      },
      "source": [
        "Re-loading the first audio sample in the Common Voice dataset will resample\n",
        "it to the desired sampling rate:"
      ]
    },
    {
      "cell_type": "markdown",
      "id": "3df7378a-a4c0-45d7-8d07-defbd1062ab6",
      "metadata": {
        "id": "3df7378a-a4c0-45d7-8d07-defbd1062ab6"
      },
      "source": [
        "We'll define our pre-processing strategy. We advise that you **do not** lower-case the transcriptions or remove punctuation unless mixing different datasets. This will enable you to fine-tune Whisper models that can predict punctuation and casing. Later, you will see how we can evaluate the predictions without punctuation or casing, so that the models benefit from the WER improvement obtained by normalising the transcriptions while still predicting fully formatted transcriptions."
      ]
    },
    {
      "cell_type": "code",
      "execution_count": 15,
      "id": "d041650e-1c48-4439-87b3-5b6f4a514107",
      "metadata": {
        "id": "d041650e-1c48-4439-87b3-5b6f4a514107"
      },
      "outputs": [],
      "source": [
        "from transformers.models.whisper.english_normalizer import BasicTextNormalizer\n",
        "\n",
        "do_lower_case = False\n",
        "do_remove_punctuation = False\n",
        "\n",
        "normalizer = BasicTextNormalizer()"
      ]
    },
    {
      "cell_type": "markdown",
      "id": "89e12c2e-2f14-479b-987b-f0c75c881095",
      "metadata": {
        "id": "89e12c2e-2f14-479b-987b-f0c75c881095"
      },
      "source": [
        "Now we can write a function to prepare our data ready for the model:\n",
        "1. We load and resample the audio data by calling `batch[\"audio\"]`. As explained above, 🤗 Datasets performs any necessary resampling operations on the fly.\n",
        "2. We use the feature extractor to compute the log-Mel spectrogram input features from our 1-dimensional audio array.\n",
        "3. We perform any optional pre-processing (lower-case or remove punctuation).\n",
        "4. We encode the transcriptions to label ids through the use of the tokenizer."
      ]
    },
    {
      "cell_type": "code",
      "execution_count": 16,
      "id": "c085911c-a10a-41ef-8874-306e0503e9bb",
      "metadata": {
        "id": "c085911c-a10a-41ef-8874-306e0503e9bb"
      },
      "outputs": [],
      "source": [
        "def prepare_dataset(batch):\n",
        "    # load and (possibly) resample audio data to 16kHz\n",
        "    audio = batch[\"audio\"]\n",
        "\n",
        "    # compute log-Mel input features from input audio array\n",
        "    batch[\"input_features\"] = processor.feature_extractor(audio[\"array\"], sampling_rate=audio[\"sampling_rate\"]).input_features[0]\n",
        "    # compute input length of audio sample in seconds\n",
        "    batch[\"input_length\"] = len(audio[\"array\"]) / audio[\"sampling_rate\"]\n",
        "\n",
        "    # optional pre-processing steps\n",
        "    transcription = batch[\"sentence\"]\n",
        "    if do_lower_case:\n",
        "        transcription = transcription.lower()\n",
        "    if do_remove_punctuation:\n",
        "        transcription = normalizer(transcription).strip()\n",
        "\n",
        "    # encode target text to label ids\n",
        "    batch[\"labels\"] = processor.tokenizer(transcription).input_ids\n",
        "    return batch"
      ]
    },
    {
      "cell_type": "markdown",
      "id": "8c960965-9fb6-466f-9dbd-c9d43e71d9d0",
      "metadata": {
        "id": "8c960965-9fb6-466f-9dbd-c9d43e71d9d0"
      },
      "source": [
        "We can apply the data preparation function to all of our training examples using dataset's `.map` method. The argument `num_proc` specifies how many CPU cores to use. Setting `num_proc` > 1 will enable multiprocessing. If the `.map` method hangs with multiprocessing, set `num_proc=1` and process the dataset sequentially."
      ]
    },
    {
      "cell_type": "code",
      "execution_count": 17,
      "id": "7b73ab39-ffaf-4b9e-86e5-782963c6134b",
      "metadata": {
        "id": "7b73ab39-ffaf-4b9e-86e5-782963c6134b"
      },
      "outputs": [
        {
          "name": "stderr",
          "output_type": "stream",
          "text": [
            "Map:   0%|                                                                                                                                                                                                                                                                                                                                                                                                                                                                                                                                                                                                                                                                                                                                                                                                                                                                                                                                                                                              | 0/500 [00:00<?, ? examples/s]2024-01-08 10:09:03.232481: I tensorflow/core/platform/cpu_feature_guard.cc:193] This TensorFlow binary is optimized with oneAPI Deep Neural Network Library (oneDNN) to use the following CPU instructions in performance-critical operations:  AVX2 AVX512F FMA\n",
            "To enable them in other operations, rebuild TensorFlow with the appropriate compiler flags.\n",
            "2024-01-08 10:09:04.763076: W tensorflow/compiler/xla/stream_executor/platform/default/dso_loader.cc:64] Could not load dynamic library 'libnvinfer.so.7'; dlerror: libnvinfer.so.7: cannot open shared object file: No such file or directory; LD_LIBRARY_PATH: /anaconda/envs/azureml_py38_PT_TF/lib/\n",
            "2024-01-08 10:09:04.763240: W tensorflow/compiler/xla/stream_executor/platform/default/dso_loader.cc:64] Could not load dynamic library 'libnvinfer_plugin.so.7'; dlerror: libnvinfer_plugin.so.7: cannot open shared object file: No such file or directory; LD_LIBRARY_PATH: /anaconda/envs/azureml_py38_PT_TF/lib/\n",
            "2024-01-08 10:09:04.763251: W tensorflow/compiler/tf2tensorrt/utils/py_utils.cc:38] TF-TRT Warning: Cannot dlopen some TensorRT libraries. If you would like to use Nvidia GPU with TensorRT, please make sure the missing libraries mentioned above are installed properly.\n",
            "Map: 100%|████████████████████████████████████████████████████████████████████████████████████████████████████████████████████████████████████████████████████████████████████████████████████████████████████████████████████████████████████████████████████████████████████████████████████████████████████████████████████████████████████████████████████████████████████████████████████████████████████████████████████████████████████████████████████████████████████████████████████████████████████████████████████████████████████████████████████████████████████████████████████████████████████████████████████████████████████████████████████████████████████████████████████████████████████████████████████████████████████████████████████████████████████████████████████████████████████████████████████████████████████████████████████████████████████████████████████████████████████████████████████████████████████████████████████████████████████████████████████| 500/500 [00:58<00:00,  8.50 examples/s]\n",
            "Map: 100%|██████████████████████████████████████████████████████████████████████████████████████████████████████████████████████████████████████████████████████████████████████████████████████████████████████████████████████████████████████████████████████████████████████████████████████████████████████████████████████████████████████████████████████████████████████████████████████████████████████████████████████████████████████████████████████████████████████████████████████████████████████████████████████████████████████████████████████████████████████████████████████████████████████████████████████████████████████████████████████████████████████████████████████████████████████████████████████████████████████████████████████████████████████████████████████████████████████████████████████████████████████████████████████████████████████████████████████████████████████████████████████████████████████████████████████████████████████████████████████| 50/50 [00:06<00:00,  8.15 examples/s]\n"
          ]
        }
      ],
      "source": [
        "raw_datasets = raw_datasets.map(prepare_dataset, remove_columns=raw_datasets[\"train\"].features.keys()).with_format(\"torch\")"
      ]
    },
    {
      "cell_type": "markdown",
      "id": "54ce0fdb-7218-4a4d-b175-383980fec0df",
      "metadata": {
        "id": "54ce0fdb-7218-4a4d-b175-383980fec0df"
      },
      "source": [
        "Finally, we filter any training data with audio samples longer than 30s. These samples would otherwise be truncated by the Whisper feature-extractor which could affect the stability of training. We define a function that returns `True` for samples that are less than 30s, and `False` for those that are longer:"
      ]
    },
    {
      "cell_type": "code",
      "execution_count": 18,
      "id": "01cb25ef-4bb0-4325-9461-f59198acadf6",
      "metadata": {
        "id": "01cb25ef-4bb0-4325-9461-f59198acadf6"
      },
      "outputs": [],
      "source": [
        "max_input_length = 30.0\n",
        "\n",
        "def is_audio_in_length_range(length):\n",
        "    return length < max_input_length"
      ]
    },
    {
      "cell_type": "markdown",
      "id": "30e676a8-7ca8-4850-8c5d-5b2b00d13fba",
      "metadata": {
        "id": "30e676a8-7ca8-4850-8c5d-5b2b00d13fba"
      },
      "source": [
        "We apply our filter function to all samples of our training dataset through 🤗 Datasets' `.filter` method:"
      ]
    },
    {
      "cell_type": "code",
      "execution_count": 19,
      "id": "333f7f6e-6053-4d3b-8924-c733c79b82ac",
      "metadata": {
        "id": "333f7f6e-6053-4d3b-8924-c733c79b82ac"
      },
      "outputs": [
        {
          "name": "stderr",
          "output_type": "stream",
          "text": [
            "Filter: 100%|███████████████████████████████████████████████████████████████████████████████████████████████████████████████████████████████████████████████████████████████████████████████████████████████████████████████████████████████████████████████████████████████████████████████████████████████████████████████████████████████████████████████████████████████████████████████████████████████████████████████████████████████████████████████████████████████████████████████████████████████████████████████████████████████████████████████████████████████████████████████████████████████████████████████████████████████████████████████████████████████████████████████████████████████████████████████████████████████████████████████████████████████████████████████████████████████████████████████████████████████████████████████████████████████████████████████████████████████████████████████████████████████████████████████████████████████████████████████| 500/500 [00:00<00:00, 4921.38 examples/s]"
          ]
        },
        {
          "name": "stderr",
          "output_type": "stream",
          "text": [
            "Filter: 100%|███████████████████████████████████████████████████████████████████████████████████████████████████████████████████████████████████████████████████████████████████████████████████████████████████████████████████████████████████████████████████████████████████████████████████████████████████████████████████████████████████████████████████████████████████████████████████████████████████████████████████████████████████████████████████████████████████████████████████████████████████████████████████████████████████████████████████████████████████████████████████████████████████████████████████████████████████████████████████████████████████████████████████████████████████████████████████████████████████████████████████████████████████████████████████████████████████████████████████████████████████████████████████████████████████████████████████████████████████████████████████████████████████████████████████████████████████████████████| 500/500 [00:00<00:00, 3149.27 examples/s]\n"
          ]
        }
      ],
      "source": [
        "raw_datasets[\"train\"] = raw_datasets[\"train\"].filter(\n",
        "    is_audio_in_length_range,\n",
        "    input_columns=[\"input_length\"],\n",
        ")"
      ]
    },
    {
      "cell_type": "markdown",
      "id": "263a5a58-0239-4a25-b0df-c625fc9c5810",
      "metadata": {
        "id": "263a5a58-0239-4a25-b0df-c625fc9c5810"
      },
      "source": [
        "## Training and Evaluation"
      ]
    },
    {
      "cell_type": "markdown",
      "id": "a693e768-c5a6-453f-89a1-b601dcf7daf7",
      "metadata": {
        "id": "a693e768-c5a6-453f-89a1-b601dcf7daf7"
      },
      "source": [
        "Now that we've prepared our data, we're ready to dive into the training pipeline.\n",
        "The [🤗 Trainer](https://huggingface.co/transformers/master/main_classes/trainer.html?highlight=trainer)\n",
        "will do much of the heavy lifting for us. All we have to do is:\n",
        "\n",
        "- Define a data collator: the data collator takes our pre-processed data and prepares PyTorch tensors ready for the model.\n",
        "\n",
        "- Evaluation metrics: during evaluation, we want to evaluate the model using the [word error rate (WER)](https://huggingface.co/metrics/wer) metric. We need to define a `compute_metrics` function that handles this computation.\n",
        "\n",
        "- Load a pre-trained checkpoint: we need to load a pre-trained checkpoint and configure it correctly for training.\n",
        "\n",
        "- Define the training configuration: this will be used by the 🤗 Trainer to define the training schedule.\n",
        "\n",
        "Once we've fine-tuned the model, we will evaluate it on the test data to verify that we have correctly trained it\n",
        "to transcribe speech in Hindi."
      ]
    },
    {
      "cell_type": "markdown",
      "id": "8d230e6d-624c-400a-bbf5-fa660881df25",
      "metadata": {
        "id": "8d230e6d-624c-400a-bbf5-fa660881df25"
      },
      "source": [
        "### Define a Data Collator"
      ]
    },
    {
      "cell_type": "markdown",
      "id": "04def221-0637-4a69-b242-d3f0c1d0ee78",
      "metadata": {
        "id": "04def221-0637-4a69-b242-d3f0c1d0ee78"
      },
      "source": [
        "The data collator for a sequence-to-sequence speech model is unique in the sense that it\n",
        "treats the `input_features` and `labels` independently: the  `input_features` must be\n",
        "handled by the feature extractor and the `labels` by the tokenizer.\n",
        "\n",
        "The `input_features` are already padded to 30s and converted to a log-Mel spectrogram\n",
        "of fixed dimension by action of the feature extractor, so all we have to do is convert the `input_features`\n",
        "to batched PyTorch tensors. We do this using the feature extractor's `.pad` method with `return_tensors=pt`.\n",
        "\n",
        "The `labels` on the other hand are un-padded. We first pad the sequences\n",
        "to the maximum length in the batch using the tokenizer's `.pad` method. The padding tokens\n",
        "are then replaced by `-100` so that these tokens are **not** taken into account when\n",
        "computing the loss. We then cut the BOS token from the start of the label sequence as we\n",
        "append it later during training.\n",
        "\n",
        "We can leverage the `WhisperProcessor` we defined earlier to perform both the\n",
        "feature extractor and the tokenizer operations:"
      ]
    },
    {
      "cell_type": "code",
      "execution_count": 20,
      "id": "8326221e-ec13-4731-bb4e-51e5fc1486c5",
      "metadata": {
        "id": "8326221e-ec13-4731-bb4e-51e5fc1486c5"
      },
      "outputs": [],
      "source": [
        "import torch\n",
        "\n",
        "from dataclasses import dataclass\n",
        "from typing import Any, Dict, List, Union\n",
        "\n",
        "@dataclass\n",
        "class DataCollatorSpeechSeq2SeqWithPadding:\n",
        "    processor: Any\n",
        "\n",
        "    def __call__(self, features: List[Dict[str, Union[List[int], torch.Tensor]]]) -> Dict[str, torch.Tensor]:\n",
        "        # split inputs and labels since they have to be of different lengths and need different padding methods\n",
        "        # first treat the audio inputs by simply returning torch tensors\n",
        "        input_features = [{\"input_features\": feature[\"input_features\"]} for feature in features]\n",
        "        batch = self.processor.feature_extractor.pad(input_features, return_tensors=\"pt\")\n",
        "\n",
        "        # get the tokenized label sequences\n",
        "        label_features = [{\"input_ids\": feature[\"labels\"]} for feature in features]\n",
        "        # pad the labels to max length\n",
        "        labels_batch = self.processor.tokenizer.pad(label_features, return_tensors=\"pt\")\n",
        "\n",
        "        # replace padding with -100 to ignore loss correctly\n",
        "        labels = labels_batch[\"input_ids\"].masked_fill(labels_batch.attention_mask.ne(1), -100)\n",
        "\n",
        "        # if bos token is appended in previous tokenization step,\n",
        "        # cut bos token here as it's append later anyways\n",
        "        if (labels[:, 0] == self.processor.tokenizer.bos_token_id).all().cpu().item():\n",
        "            labels = labels[:, 1:]\n",
        "\n",
        "        batch[\"labels\"] = labels\n",
        "\n",
        "        return batch"
      ]
    },
    {
      "cell_type": "markdown",
      "id": "3cae7dbf-8a50-456e-a3a8-7fd005390f86",
      "metadata": {
        "id": "3cae7dbf-8a50-456e-a3a8-7fd005390f86"
      },
      "source": [
        "Let's initialise the data collator we've just defined:"
      ]
    },
    {
      "cell_type": "code",
      "execution_count": 21,
      "id": "fc834702-c0d3-4a96-b101-7b87be32bf42",
      "metadata": {
        "id": "fc834702-c0d3-4a96-b101-7b87be32bf42"
      },
      "outputs": [],
      "source": [
        "data_collator = DataCollatorSpeechSeq2SeqWithPadding(processor=processor)"
      ]
    },
    {
      "cell_type": "markdown",
      "id": "d62bb2ab-750a-45e7-82e9-61d6f4805698",
      "metadata": {
        "id": "d62bb2ab-750a-45e7-82e9-61d6f4805698"
      },
      "source": [
        "### Evaluation Metrics"
      ]
    },
    {
      "cell_type": "markdown",
      "id": "66fee1a7-a44c-461e-b047-c3917221572e",
      "metadata": {
        "id": "66fee1a7-a44c-461e-b047-c3917221572e"
      },
      "source": [
        "We'll use the word error rate (WER) metric, the 'de-facto' metric for assessing\n",
        "ASR systems. For more information, refer to the WER [docs](https://huggingface.co/metrics/wer). We'll load the WER metric from 🤗 Evaluate:"
      ]
    },
    {
      "cell_type": "code",
      "execution_count": 22,
      "id": "b22b4011-f31f-4b57-b684-c52332f92890",
      "metadata": {
        "id": "b22b4011-f31f-4b57-b684-c52332f92890"
      },
      "outputs": [],
      "source": [
        "import evaluate\n",
        "\n",
        "metric = evaluate.load(\"wer\")"
      ]
    },
    {
      "cell_type": "markdown",
      "id": "4f32cab6-31f0-4cb9-af4c-40ba0f5fc508",
      "metadata": {
        "id": "4f32cab6-31f0-4cb9-af4c-40ba0f5fc508"
      },
      "source": [
        "We then simply have to define a function that takes our model\n",
        "predictions and returns the WER metric. This function, called\n",
        "`compute_metrics`, first replaces `-100` with the `pad_token_id`\n",
        "in the `label_ids` (undoing the step we applied in the\n",
        "data collator to ignore padded tokens correctly in the loss).\n",
        "It then decodes the predicted and label ids to strings. Finally,\n",
        "it computes the WER between the predictions and reference labels.\n",
        "Here, we have the option of evaluating with the 'normalised' transcriptions\n",
        "and predictions. We recommend you set this to `True` to benefit from the WER\n",
        "improvement obtained by normalising the transcriptions."
      ]
    },
    {
      "cell_type": "code",
      "execution_count": 23,
      "id": "23959a70-22d0-4ffe-9fa1-72b61e75bb52",
      "metadata": {
        "id": "23959a70-22d0-4ffe-9fa1-72b61e75bb52"
      },
      "outputs": [],
      "source": [
        "# evaluate with the 'normalised' WER\n",
        "do_normalize_eval = True\n",
        "\n",
        "def compute_metrics(pred):\n",
        "    pred_ids = pred.predictions\n",
        "    label_ids = pred.label_ids\n",
        "\n",
        "    # replace -100 with the pad_token_id\n",
        "    label_ids[label_ids == -100] = processor.tokenizer.pad_token_id\n",
        "\n",
        "    # we do not want to group tokens when computing the metrics\n",
        "    pred_str = processor.tokenizer.batch_decode(pred_ids, skip_special_tokens=True)\n",
        "    label_str = processor.tokenizer.batch_decode(label_ids, skip_special_tokens=True)\n",
        "\n",
        "    if do_normalize_eval:\n",
        "        pred_str = [normalizer(pred) for pred in pred_str]\n",
        "        label_str = [normalizer(label) for label in label_str]\n",
        "\n",
        "    wer = 100 * metric.compute(predictions=pred_str, references=label_str)\n",
        "\n",
        "    return {\"wer\": wer}"
      ]
    },
    {
      "cell_type": "markdown",
      "id": "daf2a825-6d9f-4a23-b145-c37c0039075b",
      "metadata": {
        "id": "daf2a825-6d9f-4a23-b145-c37c0039075b"
      },
      "source": [
        "### Load a Pre-Trained Checkpoint"
      ]
    },
    {
      "cell_type": "markdown",
      "id": "437a97fa-4864-476b-8abc-f28b8166cfa5",
      "metadata": {
        "id": "437a97fa-4864-476b-8abc-f28b8166cfa5"
      },
      "source": [
        "Now let's load the pre-trained Whisper `small` checkpoint. Again, this\n",
        "is trivial through use of 🤗 Transformers!"
      ]
    },
    {
      "cell_type": "code",
      "execution_count": 24,
      "id": "5a10cc4b-07ec-4ebd-ac1d-7c601023594f",
      "metadata": {
        "id": "5a10cc4b-07ec-4ebd-ac1d-7c601023594f"
      },
      "outputs": [],
      "source": [
        "from transformers import WhisperForConditionalGeneration\n",
        "\n",
        "model = WhisperForConditionalGeneration.from_pretrained(\"openai/whisper-small\")"
      ]
    },
    {
      "cell_type": "markdown",
      "id": "a15ead5f-2277-4a39-937b-585c2497b2df",
      "metadata": {
        "id": "a15ead5f-2277-4a39-937b-585c2497b2df"
      },
      "source": [
        "Override generation arguments - no tokens are forced as decoder outputs (see [`forced_decoder_ids`](https://huggingface.co/docs/transformers/main_classes/text_generation#transformers.generation_utils.GenerationMixin.generate.forced_decoder_ids)), no tokens are suppressed during generation (see [`suppress_tokens`](https://huggingface.co/docs/transformers/main_classes/text_generation#transformers.generation_utils.GenerationMixin.generate.suppress_tokens)). Set `use_cache` to False since we're using gradient checkpointing, and the two are incompatible:"
      ]
    },
    {
      "cell_type": "code",
      "execution_count": 25,
      "id": "62038ba3-88ed-4fce-84db-338f50dcd04f",
      "metadata": {
        "id": "62038ba3-88ed-4fce-84db-338f50dcd04f"
      },
      "outputs": [],
      "source": [
        "model.config.forced_decoder_ids = None\n",
        "model.config.suppress_tokens = []\n",
        "model.config.use_cache = False"
      ]
    },
    {
      "cell_type": "markdown",
      "id": "2178dea4-80ca-47b6-b6ea-ba1915c90c06",
      "metadata": {
        "id": "2178dea4-80ca-47b6-b6ea-ba1915c90c06"
      },
      "source": [
        "### Define the Training Configuration"
      ]
    },
    {
      "cell_type": "markdown",
      "id": "c21af1e9-0188-4134-ac82-defc7bdcc436",
      "metadata": {
        "id": "c21af1e9-0188-4134-ac82-defc7bdcc436"
      },
      "source": [
        "In the final step, we define all the parameters related to training. For more detail on the training arguments, refer to the Seq2SeqTrainingArguments [docs](https://huggingface.co/docs/transformers/main_classes/trainer#transformers.Seq2SeqTrainingArguments)."
      ]
    },
    {
      "cell_type": "code",
      "execution_count": 43,
      "id": "aebd4ec1",
      "metadata": {},
      "outputs": [],
      "source": [
        "mlflow.autolog(disable=True)"
      ]
    },
    {
      "cell_type": "code",
      "execution_count": 55,
      "id": "0ae3e9af-97b7-4aa0-ae85-20b23b5bcb3a",
      "metadata": {
        "id": "0ae3e9af-97b7-4aa0-ae85-20b23b5bcb3a"
      },
      "outputs": [],
      "source": [
        "from transformers import Seq2SeqTrainingArguments\n",
        "\n",
        "training_args = Seq2SeqTrainingArguments(\n",
        "    output_dir=\"models/whisper-small\",\n",
        "    per_device_train_batch_size=32,\n",
        "    gradient_accumulation_steps=2,  # increase by 2x for every 2x decrease in batch size\n",
        "    learning_rate=1e-5,\n",
        "    warmup_steps=500,\n",
        "    # max_steps=5000,\n",
        "    gradient_checkpointing=True,\n",
        "    # fp16=True,\n",
        "    evaluation_strategy=\"steps\",\n",
        "    per_device_eval_batch_size=8,\n",
        "    predict_with_generate=True,\n",
        "    generation_max_length=225,\n",
        "    # save_steps=1000,\n",
        "    # eval_steps=1000,\n",
        "    logging_steps=50,\n",
        "    report_to=[\"tensorboard\"],\n",
        "    load_best_model_at_end=True,\n",
        "    metric_for_best_model=\"wer\",\n",
        "    greater_is_better=False,\n",
        "    num_train_epochs=1,\n",
        "    save_total_limit=1\n",
        ")"
      ]
    },
    {
      "cell_type": "markdown",
      "id": "b3a944d8-3112-4552-82a0-be25988b3857",
      "metadata": {
        "id": "b3a944d8-3112-4552-82a0-be25988b3857"
      },
      "source": [
        "**Note**: if one does not want to upload the model checkpoints to the Hub,\n",
        "set `push_to_hub=False`."
      ]
    },
    {
      "cell_type": "markdown",
      "id": "bac29114-d226-4f54-97cf-8718c9f94e1e",
      "metadata": {
        "id": "bac29114-d226-4f54-97cf-8718c9f94e1e"
      },
      "source": [
        "We can forward the training arguments to the 🤗 Trainer along with our model,\n",
        "dataset, data collator and `compute_metrics` function:"
      ]
    },
    {
      "cell_type": "code",
      "execution_count": 56,
      "id": "d546d7fe-0543-479a-b708-2ebabec19493",
      "metadata": {
        "id": "d546d7fe-0543-479a-b708-2ebabec19493"
      },
      "outputs": [],
      "source": [
        "from transformers import Seq2SeqTrainer\n",
        "\n",
        "trainer = Seq2SeqTrainer(\n",
        "    args=training_args,\n",
        "    model=model,\n",
        "    train_dataset=raw_datasets[\"train\"],\n",
        "    eval_dataset=raw_datasets[\"test\"],\n",
        "    data_collator=data_collator,\n",
        "    compute_metrics=compute_metrics,\n",
        "    tokenizer=processor.feature_extractor,\n",
        "     \n",
        ")"
      ]
    },
    {
      "cell_type": "markdown",
      "id": "uOrRhDGtN5S4",
      "metadata": {
        "id": "uOrRhDGtN5S4"
      },
      "source": [
        "We'll save the processor object once before starting training. Since the processor is not trainable, it won't change over the course of training:"
      ]
    },
    {
      "cell_type": "code",
      "execution_count": 57,
      "id": "-2zQwMfEOBJq",
      "metadata": {
        "id": "-2zQwMfEOBJq"
      },
      "outputs": [],
      "source": [
        "processor.save_pretrained(training_args.output_dir)"
      ]
    },
    {
      "cell_type": "markdown",
      "id": "7f404cf9-4345-468c-8196-4bd101d9bd51",
      "metadata": {
        "id": "7f404cf9-4345-468c-8196-4bd101d9bd51"
      },
      "source": [
        "### Training"
      ]
    },
    {
      "cell_type": "markdown",
      "id": "5e8b8d56-5a70-4f68-bd2e-f0752d0bd112",
      "metadata": {
        "id": "5e8b8d56-5a70-4f68-bd2e-f0752d0bd112"
      },
      "source": [
        "Training will take approximately 5-10 hours depending on your GPU. The peak GPU memory for the given training configuration is approximately 36GB.\n",
        "Depending on your GPU, it is possible that you will encounter a CUDA `\"out-of-memory\"` error when you launch training.\n",
        "In this case, you can reduce the `per_device_train_batch_size` incrementally by factors of 2\n",
        "and employ [`gradient_accumulation_steps`](https://huggingface.co/docs/transformers/main_classes/trainer#transformers.Seq2SeqTrainingArguments.gradient_accumulation_steps)\n",
        "to compensate.\n",
        "\n",
        "To launch training, simply execute:"
      ]
    },
    {
      "cell_type": "code",
      "execution_count": 58,
      "id": "ee8b7b8e-1c9a-4d77-9137-1778a629e6de",
      "metadata": {
        "id": "ee8b7b8e-1c9a-4d77-9137-1778a629e6de"
      },
      "outputs": [
        {
          "name": "stderr",
          "output_type": "stream",
          "text": [
            "/anaconda/envs/azureml_py38_PT_TF/lib/python3.8/site-packages/torch/utils/checkpoint.py:429: UserWarning: torch.utils.checkpoint: please pass in use_reentrant=True or use_reentrant=False explicitly. The default value of use_reentrant will be updated to be False in the future. To maintain current behavior, pass use_reentrant=True. It is recommended that you use use_reentrant=False. Refer to docs for more details on the differences between the two variants.\n",
            "  warnings.warn(\n"
          ]
        },
        {
          "data": {
            "text/html": [
              "\n",
              "    <div>\n",
              "      \n",
              "      <progress value='2' max='8' style='width:300px; height:20px; vertical-align: middle;'></progress>\n",
              "      [2/8 : < :, Epoch 0.12/1]\n",
              "    </div>\n",
              "    <table border=\"1\" class=\"dataframe\">\n",
              "  <thead>\n",
              " <tr style=\"text-align: left;\">\n",
              "      <th>Step</th>\n",
              "      <th>Training Loss</th>\n",
              "      <th>Validation Loss</th>\n",
              "    </tr>\n",
              "  </thead>\n",
              "  <tbody>\n",
              "  </tbody>\n",
              "</table><p>"
            ],
            "text/plain": [
              "<IPython.core.display.HTML object>"
            ]
          },
          "metadata": {},
          "output_type": "display_data"
        }
      ],
      "source": [
        "trainer.train()"
      ]
    },
    {
      "cell_type": "markdown",
      "id": "810ced54-7187-4a06-b2fe-ba6dcca94dc3",
      "metadata": {
        "id": "810ced54-7187-4a06-b2fe-ba6dcca94dc3"
      },
      "source": [
        "We can label our checkpoint with the `whisper-event` tag on push by setting the appropriate key-word arguments (kwargs):"
      ]
    },
    {
      "cell_type": "code",
      "execution_count": null,
      "id": "c704f91e-241b-48c9-b8e0-f0da396a9663",
      "metadata": {
        "id": "c704f91e-241b-48c9-b8e0-f0da396a9663"
      },
      "outputs": [],
      "source": [
        "kwargs = {\n",
        "    \"dataset_tags\": \"mozilla-foundation/raw_datasets_11_0\",\n",
        "    \"dataset\": \"Kan_dataset\",\n",
        "    \"language\": \"he\",\n",
        "    \"model_name\": \"Whisper Small HE\",  # a 'pretty' name for your model\n",
        "    \"finetuned_from\": \"openai/whisper-small\",\n",
        "    \"tasks\": \"automatic-speech-recognition\",\n",
        "    \"tags\": \"whisper-event\",\n",
        "}"
      ]
    },
    {
      "cell_type": "markdown",
      "id": "090d676a-f944-4297-a938-a40eda0b2b68",
      "metadata": {
        "id": "090d676a-f944-4297-a938-a40eda0b2b68"
      },
      "source": [
        "The training results can now be uploaded to the Hub. To do so, execute the `push_to_hub` command and save the preprocessor object we created:"
      ]
    },
    {
      "cell_type": "code",
      "execution_count": null,
      "id": "d7030622-caf7-4039-939b-6195cdaa2585",
      "metadata": {
        "id": "d7030622-caf7-4039-939b-6195cdaa2585"
      },
      "outputs": [
        {
          "ename": "ValueError",
          "evalue": "Token is required (write-access action) but no token found. You need to provide a token or be logged in to Hugging Face with `huggingface-cli login` or `huggingface_hub.login`. See https://huggingface.co/settings/tokens.",
          "output_type": "error",
          "traceback": [
            "\u001b[0;31m---------------------------------------------------------------------------\u001b[0m",
            "\u001b[0;31mValueError\u001b[0m                                Traceback (most recent call last)",
            "Cell \u001b[0;32mIn[28], line 1\u001b[0m\n\u001b[0;32m----> 1\u001b[0m trainer\u001b[39m.\u001b[39;49mpush_to_hub(\u001b[39m*\u001b[39;49m\u001b[39m*\u001b[39;49mkwargs)\n",
            "File \u001b[0;32m/home/zeus/miniconda3/envs/cloudspace/lib/python3.10/site-packages/transformers/trainer.py:3635\u001b[0m, in \u001b[0;36mTrainer.push_to_hub\u001b[0;34m(self, commit_message, blocking, **kwargs)\u001b[0m\n\u001b[1;32m   3633\u001b[0m \u001b[39m# In case the user calls this method with args.push_to_hub = False\u001b[39;00m\n\u001b[1;32m   3634\u001b[0m \u001b[39mif\u001b[39;00m \u001b[39mself\u001b[39m\u001b[39m.\u001b[39mhub_model_id \u001b[39mis\u001b[39;00m \u001b[39mNone\u001b[39;00m:\n\u001b[0;32m-> 3635\u001b[0m     \u001b[39mself\u001b[39;49m\u001b[39m.\u001b[39;49minit_hf_repo()\n\u001b[1;32m   3637\u001b[0m \u001b[39m# Needs to be executed on all processes for TPU training, but will only save on the processed determined by\u001b[39;00m\n\u001b[1;32m   3638\u001b[0m \u001b[39m# self.args.should_save.\u001b[39;00m\n\u001b[1;32m   3639\u001b[0m \u001b[39mself\u001b[39m\u001b[39m.\u001b[39msave_model(_internal_call\u001b[39m=\u001b[39m\u001b[39mTrue\u001b[39;00m)\n",
            "File \u001b[0;32m/home/zeus/miniconda3/envs/cloudspace/lib/python3.10/site-packages/transformers/trainer.py:3477\u001b[0m, in \u001b[0;36mTrainer.init_hf_repo\u001b[0;34m(self)\u001b[0m\n\u001b[1;32m   3474\u001b[0m \u001b[39melse\u001b[39;00m:\n\u001b[1;32m   3475\u001b[0m     repo_name \u001b[39m=\u001b[39m \u001b[39mself\u001b[39m\u001b[39m.\u001b[39margs\u001b[39m.\u001b[39mhub_model_id\n\u001b[0;32m-> 3477\u001b[0m repo_url \u001b[39m=\u001b[39m create_repo(repo_name, token\u001b[39m=\u001b[39;49m\u001b[39mself\u001b[39;49m\u001b[39m.\u001b[39;49margs\u001b[39m.\u001b[39;49mhub_token, private\u001b[39m=\u001b[39;49m\u001b[39mself\u001b[39;49m\u001b[39m.\u001b[39;49margs\u001b[39m.\u001b[39;49mhub_private_repo, exist_ok\u001b[39m=\u001b[39;49m\u001b[39mTrue\u001b[39;49;00m)\n\u001b[1;32m   3478\u001b[0m \u001b[39mself\u001b[39m\u001b[39m.\u001b[39mhub_model_id \u001b[39m=\u001b[39m repo_url\u001b[39m.\u001b[39mrepo_id\n\u001b[1;32m   3479\u001b[0m \u001b[39mself\u001b[39m\u001b[39m.\u001b[39mpush_in_progress \u001b[39m=\u001b[39m \u001b[39mNone\u001b[39;00m\n",
            "File \u001b[0;32m/home/zeus/miniconda3/envs/cloudspace/lib/python3.10/site-packages/huggingface_hub/utils/_validators.py:118\u001b[0m, in \u001b[0;36mvalidate_hf_hub_args.<locals>._inner_fn\u001b[0;34m(*args, **kwargs)\u001b[0m\n\u001b[1;32m    115\u001b[0m \u001b[39mif\u001b[39;00m check_use_auth_token:\n\u001b[1;32m    116\u001b[0m     kwargs \u001b[39m=\u001b[39m smoothly_deprecate_use_auth_token(fn_name\u001b[39m=\u001b[39mfn\u001b[39m.\u001b[39m\u001b[39m__name__\u001b[39m, has_token\u001b[39m=\u001b[39mhas_token, kwargs\u001b[39m=\u001b[39mkwargs)\n\u001b[0;32m--> 118\u001b[0m \u001b[39mreturn\u001b[39;00m fn(\u001b[39m*\u001b[39;49margs, \u001b[39m*\u001b[39;49m\u001b[39m*\u001b[39;49mkwargs)\n",
            "File \u001b[0;32m/home/zeus/miniconda3/envs/cloudspace/lib/python3.10/site-packages/huggingface_hub/hf_api.py:3162\u001b[0m, in \u001b[0;36mHfApi.create_repo\u001b[0;34m(self, repo_id, token, private, repo_type, exist_ok, space_sdk, space_hardware, space_storage, space_sleep_time, space_secrets, space_variables)\u001b[0m\n\u001b[1;32m   3158\u001b[0m \u001b[39mif\u001b[39;00m \u001b[39mgetattr\u001b[39m(\u001b[39mself\u001b[39m, \u001b[39m\"\u001b[39m\u001b[39m_lfsmultipartthresh\u001b[39m\u001b[39m\"\u001b[39m, \u001b[39mNone\u001b[39;00m):\n\u001b[1;32m   3159\u001b[0m     \u001b[39m# Testing purposes only.\u001b[39;00m\n\u001b[1;32m   3160\u001b[0m     \u001b[39m# See https://github.com/huggingface/huggingface_hub/pull/733/files#r820604472\u001b[39;00m\n\u001b[1;32m   3161\u001b[0m     json[\u001b[39m\"\u001b[39m\u001b[39mlfsmultipartthresh\u001b[39m\u001b[39m\"\u001b[39m] \u001b[39m=\u001b[39m \u001b[39mself\u001b[39m\u001b[39m.\u001b[39m_lfsmultipartthresh  \u001b[39m# type: ignore\u001b[39;00m\n\u001b[0;32m-> 3162\u001b[0m headers \u001b[39m=\u001b[39m \u001b[39mself\u001b[39;49m\u001b[39m.\u001b[39;49m_build_hf_headers(token\u001b[39m=\u001b[39;49mtoken, is_write_action\u001b[39m=\u001b[39;49m\u001b[39mTrue\u001b[39;49;00m)\n\u001b[1;32m   3164\u001b[0m \u001b[39mwhile\u001b[39;00m \u001b[39mTrue\u001b[39;00m:\n\u001b[1;32m   3165\u001b[0m     r \u001b[39m=\u001b[39m get_session()\u001b[39m.\u001b[39mpost(path, headers\u001b[39m=\u001b[39mheaders, json\u001b[39m=\u001b[39mjson)\n",
            "File \u001b[0;32m/home/zeus/miniconda3/envs/cloudspace/lib/python3.10/site-packages/huggingface_hub/hf_api.py:8191\u001b[0m, in \u001b[0;36mHfApi._build_hf_headers\u001b[0;34m(self, token, is_write_action, library_name, library_version, user_agent)\u001b[0m\n\u001b[1;32m   8188\u001b[0m \u001b[39mif\u001b[39;00m token \u001b[39mis\u001b[39;00m \u001b[39mNone\u001b[39;00m:\n\u001b[1;32m   8189\u001b[0m     \u001b[39m# Cannot do `token = token or self.token` as token can be `False`.\u001b[39;00m\n\u001b[1;32m   8190\u001b[0m     token \u001b[39m=\u001b[39m \u001b[39mself\u001b[39m\u001b[39m.\u001b[39mtoken\n\u001b[0;32m-> 8191\u001b[0m \u001b[39mreturn\u001b[39;00m build_hf_headers(\n\u001b[1;32m   8192\u001b[0m     token\u001b[39m=\u001b[39;49mtoken,\n\u001b[1;32m   8193\u001b[0m     is_write_action\u001b[39m=\u001b[39;49mis_write_action,\n\u001b[1;32m   8194\u001b[0m     library_name\u001b[39m=\u001b[39;49mlibrary_name \u001b[39mor\u001b[39;49;00m \u001b[39mself\u001b[39;49m\u001b[39m.\u001b[39;49mlibrary_name,\n\u001b[1;32m   8195\u001b[0m     library_version\u001b[39m=\u001b[39;49mlibrary_version \u001b[39mor\u001b[39;49;00m \u001b[39mself\u001b[39;49m\u001b[39m.\u001b[39;49mlibrary_version,\n\u001b[1;32m   8196\u001b[0m     user_agent\u001b[39m=\u001b[39;49muser_agent \u001b[39mor\u001b[39;49;00m \u001b[39mself\u001b[39;49m\u001b[39m.\u001b[39;49muser_agent,\n\u001b[1;32m   8197\u001b[0m )\n",
            "File \u001b[0;32m/home/zeus/miniconda3/envs/cloudspace/lib/python3.10/site-packages/huggingface_hub/utils/_validators.py:118\u001b[0m, in \u001b[0;36mvalidate_hf_hub_args.<locals>._inner_fn\u001b[0;34m(*args, **kwargs)\u001b[0m\n\u001b[1;32m    115\u001b[0m \u001b[39mif\u001b[39;00m check_use_auth_token:\n\u001b[1;32m    116\u001b[0m     kwargs \u001b[39m=\u001b[39m smoothly_deprecate_use_auth_token(fn_name\u001b[39m=\u001b[39mfn\u001b[39m.\u001b[39m\u001b[39m__name__\u001b[39m, has_token\u001b[39m=\u001b[39mhas_token, kwargs\u001b[39m=\u001b[39mkwargs)\n\u001b[0;32m--> 118\u001b[0m \u001b[39mreturn\u001b[39;00m fn(\u001b[39m*\u001b[39;49margs, \u001b[39m*\u001b[39;49m\u001b[39m*\u001b[39;49mkwargs)\n",
            "File \u001b[0;32m/home/zeus/miniconda3/envs/cloudspace/lib/python3.10/site-packages/huggingface_hub/utils/_headers.py:122\u001b[0m, in \u001b[0;36mbuild_hf_headers\u001b[0;34m(token, is_write_action, library_name, library_version, user_agent)\u001b[0m\n\u001b[1;32m    120\u001b[0m \u001b[39m# Get auth token to send\u001b[39;00m\n\u001b[1;32m    121\u001b[0m token_to_send \u001b[39m=\u001b[39m get_token_to_send(token)\n\u001b[0;32m--> 122\u001b[0m _validate_token_to_send(token_to_send, is_write_action\u001b[39m=\u001b[39;49mis_write_action)\n\u001b[1;32m    124\u001b[0m \u001b[39m# Combine headers\u001b[39;00m\n\u001b[1;32m    125\u001b[0m headers \u001b[39m=\u001b[39m {\n\u001b[1;32m    126\u001b[0m     \u001b[39m\"\u001b[39m\u001b[39muser-agent\u001b[39m\u001b[39m\"\u001b[39m: _http_user_agent(\n\u001b[1;32m    127\u001b[0m         library_name\u001b[39m=\u001b[39mlibrary_name,\n\u001b[0;32m   (...)\u001b[0m\n\u001b[1;32m    130\u001b[0m     )\n\u001b[1;32m    131\u001b[0m }\n",
            "File \u001b[0;32m/home/zeus/miniconda3/envs/cloudspace/lib/python3.10/site-packages/huggingface_hub/utils/_headers.py:172\u001b[0m, in \u001b[0;36m_validate_token_to_send\u001b[0;34m(token, is_write_action)\u001b[0m\n\u001b[1;32m    170\u001b[0m \u001b[39mif\u001b[39;00m is_write_action:\n\u001b[1;32m    171\u001b[0m     \u001b[39mif\u001b[39;00m token \u001b[39mis\u001b[39;00m \u001b[39mNone\u001b[39;00m:\n\u001b[0;32m--> 172\u001b[0m         \u001b[39mraise\u001b[39;00m \u001b[39mValueError\u001b[39;00m(\n\u001b[1;32m    173\u001b[0m             \u001b[39m\"\u001b[39m\u001b[39mToken is required (write-access action) but no token found. You need\u001b[39m\u001b[39m\"\u001b[39m\n\u001b[1;32m    174\u001b[0m             \u001b[39m\"\u001b[39m\u001b[39m to provide a token or be logged in to Hugging Face with\u001b[39m\u001b[39m\"\u001b[39m\n\u001b[1;32m    175\u001b[0m             \u001b[39m\"\u001b[39m\u001b[39m `huggingface-cli login` or `huggingface_hub.login`. See\u001b[39m\u001b[39m\"\u001b[39m\n\u001b[1;32m    176\u001b[0m             \u001b[39m\"\u001b[39m\u001b[39m https://huggingface.co/settings/tokens.\u001b[39m\u001b[39m\"\u001b[39m\n\u001b[1;32m    177\u001b[0m         )\n\u001b[1;32m    178\u001b[0m     \u001b[39mif\u001b[39;00m token\u001b[39m.\u001b[39mstartswith(\u001b[39m\"\u001b[39m\u001b[39mapi_org\u001b[39m\u001b[39m\"\u001b[39m):\n\u001b[1;32m    179\u001b[0m         \u001b[39mraise\u001b[39;00m \u001b[39mValueError\u001b[39;00m(\n\u001b[1;32m    180\u001b[0m             \u001b[39m\"\u001b[39m\u001b[39mYou must use your personal account token for write-access methods. To\u001b[39m\u001b[39m\"\u001b[39m\n\u001b[1;32m    181\u001b[0m             \u001b[39m\"\u001b[39m\u001b[39m generate a write-access token, go to\u001b[39m\u001b[39m\"\u001b[39m\n\u001b[1;32m    182\u001b[0m             \u001b[39m\"\u001b[39m\u001b[39m https://huggingface.co/settings/tokens\u001b[39m\u001b[39m\"\u001b[39m\n\u001b[1;32m    183\u001b[0m         )\n",
            "\u001b[0;31mValueError\u001b[0m: Token is required (write-access action) but no token found. You need to provide a token or be logged in to Hugging Face with `huggingface-cli login` or `huggingface_hub.login`. See https://huggingface.co/settings/tokens."
          ]
        }
      ],
      "source": [
        "# trainer.push_to_hub(**kwargs)"
      ]
    },
    {
      "cell_type": "code",
      "execution_count": null,
      "id": "0828d091",
      "metadata": {},
      "outputs": [],
      "source": [
        "trainer.save_model(training_args.output_dir)"
      ]
    },
    {
      "cell_type": "code",
      "execution_count": null,
      "id": "2106b71e",
      "metadata": {},
      "outputs": [
        {
          "data": {
            "text/html": [],
            "text/plain": [
              "<IPython.core.display.HTML object>"
            ]
          },
          "metadata": {},
          "output_type": "display_data"
        },
        {
          "name": "stdout",
          "output_type": "stream",
          "text": [
            "{'eval_loss': 1.783414602279663, 'eval_wer': 102.60389268805892, 'eval_runtime': 114.0421, 'eval_samples_per_second': 4.384, 'eval_steps_per_second': 0.552, 'epoch': 0.99}\n"
          ]
        }
      ],
      "source": [
        "eval_results = trainer.evaluate()\n",
        "\n",
        "print(eval_results)"
      ]
    },
    {
      "cell_type": "code",
      "execution_count": null,
      "id": "4e35a871",
      "metadata": {},
      "outputs": [],
      "source": [
        "#Show some exmaples of evaluation set audio, and inference transcription\n",
        "import torch\n",
        "import numpy as np\n",
        "from IPython.display import Audio\n",
        "\n",
        "def get_audio_array(audio):\n",
        "    audio_array = np.array(audio['array'])\n",
        "    audio_rate = audio['sampling_rate']\n",
        "    return audio_array, audio_rate\n",
        "\n",
        "def get_audio(audio):\n",
        "    audio_array, audio_rate = get_audio_array(audio)\n",
        "    return Audio(audio_array, rate = audio_rate)\n",
        "\n"
      ]
    },
    {
      "cell_type": "code",
      "execution_count": null,
      "id": "13880311",
      "metadata": {},
      "outputs": [
        {
          "data": {
            "text/html": [
              "\n",
              "                <audio  controls=\"controls\" >\n",
              "                    <source src=\"data:audio/wav;base64,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\" type=\"audio/wav\" />\n",
              "                    Your browser does not support the audio element.\n",
              "                </audio>\n",
              "              "
            ],
            "text/plain": [
              "<IPython.lib.display.Audio object>"
            ]
          },
          "execution_count": 73,
          "metadata": {},
          "output_type": "execute_result"
        }
      ],
      "source": [
        "#get audio and transcription from test set\n",
        "audio = raw_datasets[\"test\"][0]['audio']\n",
        "Audio(audio['array'], rate = audio['sampling_rate'])"
      ]
    },
    {
      "cell_type": "code",
      "execution_count": null,
      "id": "bc01fd53",
      "metadata": {},
      "outputs": [],
      "source": [
        "#run trainer inference on audio\n",
        "input_features = processor.feature_extractor(audio['array'], sampling_rate=audio['sampling_rate'])\n"
      ]
    },
    {
      "cell_type": "code",
      "execution_count": null,
      "id": "28381cdf",
      "metadata": {},
      "outputs": [],
      "source": [
        "input_features = torch.tensor(input_features['input_features']).unsqueeze(0)\n"
      ]
    },
    {
      "cell_type": "code",
      "execution_count": null,
      "id": "4dee0bab",
      "metadata": {},
      "outputs": [
        {
          "ename": "RuntimeError",
          "evalue": "Input type (torch.FloatTensor) and weight type (torch.cuda.FloatTensor) should be the same or input should be a MKLDNN tensor and weight is a dense tensor",
          "output_type": "error",
          "traceback": [
            "\u001b[0;31m---------------------------------------------------------------------------\u001b[0m",
            "\u001b[0;31mRuntimeError\u001b[0m                              Traceback (most recent call last)",
            "Cell \u001b[0;32mIn[92], line 2\u001b[0m\n\u001b[1;32m      1\u001b[0m input_features \u001b[38;5;241m=\u001b[39m input_features\u001b[38;5;241m.\u001b[39msqueeze(\u001b[38;5;241m0\u001b[39m)\u001b[38;5;241m.\u001b[39mtranspose(\u001b[38;5;241m0\u001b[39m, \u001b[38;5;241m1\u001b[39m)\u001b[38;5;241m.\u001b[39msqueeze(\u001b[38;5;241m0\u001b[39m)\n\u001b[0;32m----> 2\u001b[0m \u001b[43mtrainer\u001b[49m\u001b[38;5;241;43m.\u001b[39;49m\u001b[43mmodel\u001b[49m\u001b[38;5;241;43m.\u001b[39;49m\u001b[43mgenerate\u001b[49m\u001b[43m(\u001b[49m\u001b[43minput_features\u001b[49m\u001b[43m)\u001b[49m\n",
            "File \u001b[0;32m/home/zeus/miniconda3/envs/cloudspace/lib/python3.10/site-packages/transformers/models/whisper/modeling_whisper.py:2254\u001b[0m, in \u001b[0;36mWhisperForConditionalGeneration.generate\u001b[0;34m(self, input_features, generation_config, logits_processor, stopping_criteria, prefix_allowed_tokens_fn, synced_gpus, return_timestamps, task, language, is_multilingual, prompt_ids, num_segment_frames, return_token_timestamps, return_segments, attention_mask, time_precision, return_dict_in_generate, **kwargs)\u001b[0m\n\u001b[1;32m   2252\u001b[0m \u001b[38;5;66;03m# 5. If we're in shortform mode, simple generate the whole input at once and return the output\u001b[39;00m\n\u001b[1;32m   2253\u001b[0m \u001b[38;5;28;01mif\u001b[39;00m is_shortform:\n\u001b[0;32m-> 2254\u001b[0m     outputs \u001b[38;5;241m=\u001b[39m \u001b[38;5;28;43msuper\u001b[39;49m\u001b[43m(\u001b[49m\u001b[43m)\u001b[49m\u001b[38;5;241;43m.\u001b[39;49m\u001b[43mgenerate\u001b[49m\u001b[43m(\u001b[49m\n\u001b[1;32m   2255\u001b[0m \u001b[43m        \u001b[49m\u001b[43minput_features\u001b[49m\u001b[43m,\u001b[49m\n\u001b[1;32m   2256\u001b[0m \u001b[43m        \u001b[49m\u001b[43mgeneration_config\u001b[49m\u001b[43m,\u001b[49m\n\u001b[1;32m   2257\u001b[0m \u001b[43m        \u001b[49m\u001b[43mlogits_processor\u001b[49m\u001b[43m,\u001b[49m\n\u001b[1;32m   2258\u001b[0m \u001b[43m        \u001b[49m\u001b[43mstopping_criteria\u001b[49m\u001b[43m,\u001b[49m\n\u001b[1;32m   2259\u001b[0m \u001b[43m        \u001b[49m\u001b[43mprefix_allowed_tokens_fn\u001b[49m\u001b[43m,\u001b[49m\n\u001b[1;32m   2260\u001b[0m \u001b[43m        \u001b[49m\u001b[43msynced_gpus\u001b[49m\u001b[43m,\u001b[49m\n\u001b[1;32m   2261\u001b[0m \u001b[43m        \u001b[49m\u001b[43mreturn_dict_in_generate\u001b[49m\u001b[38;5;241;43m=\u001b[39;49m\u001b[43mreturn_dict_in_generate\u001b[49m\u001b[43m,\u001b[49m\n\u001b[1;32m   2262\u001b[0m \u001b[43m        \u001b[49m\u001b[38;5;241;43m*\u001b[39;49m\u001b[38;5;241;43m*\u001b[39;49m\u001b[43mkwargs\u001b[49m\u001b[43m,\u001b[49m\n\u001b[1;32m   2263\u001b[0m \u001b[43m    \u001b[49m\u001b[43m)\u001b[49m\n\u001b[1;32m   2265\u001b[0m     \u001b[38;5;28;01mif\u001b[39;00m return_token_timestamps \u001b[38;5;129;01mand\u001b[39;00m \u001b[38;5;28mhasattr\u001b[39m(generation_config, \u001b[38;5;124m\"\u001b[39m\u001b[38;5;124malignment_heads\u001b[39m\u001b[38;5;124m\"\u001b[39m):\n\u001b[1;32m   2266\u001b[0m         num_frames \u001b[38;5;241m=\u001b[39m \u001b[38;5;28mgetattr\u001b[39m(generation_config, \u001b[38;5;124m\"\u001b[39m\u001b[38;5;124mnum_frames\u001b[39m\u001b[38;5;124m\"\u001b[39m, \u001b[38;5;28;01mNone\u001b[39;00m)\n",
            "File \u001b[0;32m/home/zeus/miniconda3/envs/cloudspace/lib/python3.10/site-packages/torch/utils/_contextlib.py:115\u001b[0m, in \u001b[0;36mcontext_decorator.<locals>.decorate_context\u001b[0;34m(*args, **kwargs)\u001b[0m\n\u001b[1;32m    112\u001b[0m \u001b[38;5;129m@functools\u001b[39m\u001b[38;5;241m.\u001b[39mwraps(func)\n\u001b[1;32m    113\u001b[0m \u001b[38;5;28;01mdef\u001b[39;00m \u001b[38;5;21mdecorate_context\u001b[39m(\u001b[38;5;241m*\u001b[39margs, \u001b[38;5;241m*\u001b[39m\u001b[38;5;241m*\u001b[39mkwargs):\n\u001b[1;32m    114\u001b[0m     \u001b[38;5;28;01mwith\u001b[39;00m ctx_factory():\n\u001b[0;32m--> 115\u001b[0m         \u001b[38;5;28;01mreturn\u001b[39;00m \u001b[43mfunc\u001b[49m\u001b[43m(\u001b[49m\u001b[38;5;241;43m*\u001b[39;49m\u001b[43margs\u001b[49m\u001b[43m,\u001b[49m\u001b[43m \u001b[49m\u001b[38;5;241;43m*\u001b[39;49m\u001b[38;5;241;43m*\u001b[39;49m\u001b[43mkwargs\u001b[49m\u001b[43m)\u001b[49m\n",
            "File \u001b[0;32m/home/zeus/miniconda3/envs/cloudspace/lib/python3.10/site-packages/transformers/generation/utils.py:1593\u001b[0m, in \u001b[0;36mGenerationMixin.generate\u001b[0;34m(self, inputs, generation_config, logits_processor, stopping_criteria, prefix_allowed_tokens_fn, synced_gpus, assistant_model, streamer, negative_prompt_ids, negative_prompt_attention_mask, **kwargs)\u001b[0m\n\u001b[1;32m   1585\u001b[0m         logger\u001b[38;5;241m.\u001b[39mwarning(\n\u001b[1;32m   1586\u001b[0m             \u001b[38;5;124m\"\u001b[39m\u001b[38;5;124mA decoder-only architecture is being used, but right-padding was detected! For correct \u001b[39m\u001b[38;5;124m\"\u001b[39m\n\u001b[1;32m   1587\u001b[0m             \u001b[38;5;124m\"\u001b[39m\u001b[38;5;124mgeneration results, please set `padding_side=\u001b[39m\u001b[38;5;124m'\u001b[39m\u001b[38;5;124mleft\u001b[39m\u001b[38;5;124m'\u001b[39m\u001b[38;5;124m` when initializing the tokenizer.\u001b[39m\u001b[38;5;124m\"\u001b[39m\n\u001b[1;32m   1588\u001b[0m         )\n\u001b[1;32m   1590\u001b[0m \u001b[38;5;28;01mif\u001b[39;00m \u001b[38;5;28mself\u001b[39m\u001b[38;5;241m.\u001b[39mconfig\u001b[38;5;241m.\u001b[39mis_encoder_decoder \u001b[38;5;129;01mand\u001b[39;00m \u001b[38;5;124m\"\u001b[39m\u001b[38;5;124mencoder_outputs\u001b[39m\u001b[38;5;124m\"\u001b[39m \u001b[38;5;129;01mnot\u001b[39;00m \u001b[38;5;129;01min\u001b[39;00m model_kwargs:\n\u001b[1;32m   1591\u001b[0m     \u001b[38;5;66;03m# if model is encoder decoder encoder_outputs are created\u001b[39;00m\n\u001b[1;32m   1592\u001b[0m     \u001b[38;5;66;03m# and added to `model_kwargs`\u001b[39;00m\n\u001b[0;32m-> 1593\u001b[0m     model_kwargs \u001b[38;5;241m=\u001b[39m \u001b[38;5;28;43mself\u001b[39;49m\u001b[38;5;241;43m.\u001b[39;49m\u001b[43m_prepare_encoder_decoder_kwargs_for_generation\u001b[49m\u001b[43m(\u001b[49m\n\u001b[1;32m   1594\u001b[0m \u001b[43m        \u001b[49m\u001b[43minputs_tensor\u001b[49m\u001b[43m,\u001b[49m\u001b[43m \u001b[49m\u001b[43mmodel_kwargs\u001b[49m\u001b[43m,\u001b[49m\u001b[43m \u001b[49m\u001b[43mmodel_input_name\u001b[49m\n\u001b[1;32m   1595\u001b[0m \u001b[43m    \u001b[49m\u001b[43m)\u001b[49m\n\u001b[1;32m   1597\u001b[0m \u001b[38;5;66;03m# 5. Prepare `input_ids` which will be used for auto-regressive generation\u001b[39;00m\n\u001b[1;32m   1598\u001b[0m \u001b[38;5;28;01mif\u001b[39;00m \u001b[38;5;28mself\u001b[39m\u001b[38;5;241m.\u001b[39mconfig\u001b[38;5;241m.\u001b[39mis_encoder_decoder:\n",
            "File \u001b[0;32m/home/zeus/miniconda3/envs/cloudspace/lib/python3.10/site-packages/transformers/generation/utils.py:742\u001b[0m, in \u001b[0;36mGenerationMixin._prepare_encoder_decoder_kwargs_for_generation\u001b[0;34m(self, inputs_tensor, model_kwargs, model_input_name)\u001b[0m\n\u001b[1;32m    740\u001b[0m encoder_kwargs[\u001b[38;5;124m\"\u001b[39m\u001b[38;5;124mreturn_dict\u001b[39m\u001b[38;5;124m\"\u001b[39m] \u001b[38;5;241m=\u001b[39m \u001b[38;5;28;01mTrue\u001b[39;00m\n\u001b[1;32m    741\u001b[0m encoder_kwargs[model_input_name] \u001b[38;5;241m=\u001b[39m inputs_tensor\n\u001b[0;32m--> 742\u001b[0m model_kwargs[\u001b[38;5;124m\"\u001b[39m\u001b[38;5;124mencoder_outputs\u001b[39m\u001b[38;5;124m\"\u001b[39m]: ModelOutput \u001b[38;5;241m=\u001b[39m \u001b[43mencoder\u001b[49m\u001b[43m(\u001b[49m\u001b[38;5;241;43m*\u001b[39;49m\u001b[38;5;241;43m*\u001b[39;49m\u001b[43mencoder_kwargs\u001b[49m\u001b[43m)\u001b[49m\n\u001b[1;32m    744\u001b[0m \u001b[38;5;28;01mreturn\u001b[39;00m model_kwargs\n",
            "File \u001b[0;32m/home/zeus/miniconda3/envs/cloudspace/lib/python3.10/site-packages/torch/nn/modules/module.py:1518\u001b[0m, in \u001b[0;36mModule._wrapped_call_impl\u001b[0;34m(self, *args, **kwargs)\u001b[0m\n\u001b[1;32m   1516\u001b[0m     \u001b[38;5;28;01mreturn\u001b[39;00m \u001b[38;5;28mself\u001b[39m\u001b[38;5;241m.\u001b[39m_compiled_call_impl(\u001b[38;5;241m*\u001b[39margs, \u001b[38;5;241m*\u001b[39m\u001b[38;5;241m*\u001b[39mkwargs)  \u001b[38;5;66;03m# type: ignore[misc]\u001b[39;00m\n\u001b[1;32m   1517\u001b[0m \u001b[38;5;28;01melse\u001b[39;00m:\n\u001b[0;32m-> 1518\u001b[0m     \u001b[38;5;28;01mreturn\u001b[39;00m \u001b[38;5;28;43mself\u001b[39;49m\u001b[38;5;241;43m.\u001b[39;49m\u001b[43m_call_impl\u001b[49m\u001b[43m(\u001b[49m\u001b[38;5;241;43m*\u001b[39;49m\u001b[43margs\u001b[49m\u001b[43m,\u001b[49m\u001b[43m \u001b[49m\u001b[38;5;241;43m*\u001b[39;49m\u001b[38;5;241;43m*\u001b[39;49m\u001b[43mkwargs\u001b[49m\u001b[43m)\u001b[49m\n",
            "File \u001b[0;32m/home/zeus/miniconda3/envs/cloudspace/lib/python3.10/site-packages/torch/nn/modules/module.py:1527\u001b[0m, in \u001b[0;36mModule._call_impl\u001b[0;34m(self, *args, **kwargs)\u001b[0m\n\u001b[1;32m   1522\u001b[0m \u001b[38;5;66;03m# If we don't have any hooks, we want to skip the rest of the logic in\u001b[39;00m\n\u001b[1;32m   1523\u001b[0m \u001b[38;5;66;03m# this function, and just call forward.\u001b[39;00m\n\u001b[1;32m   1524\u001b[0m \u001b[38;5;28;01mif\u001b[39;00m \u001b[38;5;129;01mnot\u001b[39;00m (\u001b[38;5;28mself\u001b[39m\u001b[38;5;241m.\u001b[39m_backward_hooks \u001b[38;5;129;01mor\u001b[39;00m \u001b[38;5;28mself\u001b[39m\u001b[38;5;241m.\u001b[39m_backward_pre_hooks \u001b[38;5;129;01mor\u001b[39;00m \u001b[38;5;28mself\u001b[39m\u001b[38;5;241m.\u001b[39m_forward_hooks \u001b[38;5;129;01mor\u001b[39;00m \u001b[38;5;28mself\u001b[39m\u001b[38;5;241m.\u001b[39m_forward_pre_hooks\n\u001b[1;32m   1525\u001b[0m         \u001b[38;5;129;01mor\u001b[39;00m _global_backward_pre_hooks \u001b[38;5;129;01mor\u001b[39;00m _global_backward_hooks\n\u001b[1;32m   1526\u001b[0m         \u001b[38;5;129;01mor\u001b[39;00m _global_forward_hooks \u001b[38;5;129;01mor\u001b[39;00m _global_forward_pre_hooks):\n\u001b[0;32m-> 1527\u001b[0m     \u001b[38;5;28;01mreturn\u001b[39;00m \u001b[43mforward_call\u001b[49m\u001b[43m(\u001b[49m\u001b[38;5;241;43m*\u001b[39;49m\u001b[43margs\u001b[49m\u001b[43m,\u001b[49m\u001b[43m \u001b[49m\u001b[38;5;241;43m*\u001b[39;49m\u001b[38;5;241;43m*\u001b[39;49m\u001b[43mkwargs\u001b[49m\u001b[43m)\u001b[49m\n\u001b[1;32m   1529\u001b[0m \u001b[38;5;28;01mtry\u001b[39;00m:\n\u001b[1;32m   1530\u001b[0m     result \u001b[38;5;241m=\u001b[39m \u001b[38;5;28;01mNone\u001b[39;00m\n",
            "File \u001b[0;32m/home/zeus/miniconda3/envs/cloudspace/lib/python3.10/site-packages/transformers/models/whisper/modeling_whisper.py:1247\u001b[0m, in \u001b[0;36mWhisperEncoder.forward\u001b[0;34m(self, input_features, attention_mask, head_mask, output_attentions, output_hidden_states, return_dict)\u001b[0m\n\u001b[1;32m   1243\u001b[0m output_hidden_states \u001b[38;5;241m=\u001b[39m (\n\u001b[1;32m   1244\u001b[0m     output_hidden_states \u001b[38;5;28;01mif\u001b[39;00m output_hidden_states \u001b[38;5;129;01mis\u001b[39;00m \u001b[38;5;129;01mnot\u001b[39;00m \u001b[38;5;28;01mNone\u001b[39;00m \u001b[38;5;28;01melse\u001b[39;00m \u001b[38;5;28mself\u001b[39m\u001b[38;5;241m.\u001b[39mconfig\u001b[38;5;241m.\u001b[39moutput_hidden_states\n\u001b[1;32m   1245\u001b[0m )\n\u001b[1;32m   1246\u001b[0m return_dict \u001b[38;5;241m=\u001b[39m return_dict \u001b[38;5;28;01mif\u001b[39;00m return_dict \u001b[38;5;129;01mis\u001b[39;00m \u001b[38;5;129;01mnot\u001b[39;00m \u001b[38;5;28;01mNone\u001b[39;00m \u001b[38;5;28;01melse\u001b[39;00m \u001b[38;5;28mself\u001b[39m\u001b[38;5;241m.\u001b[39mconfig\u001b[38;5;241m.\u001b[39muse_return_dict\n\u001b[0;32m-> 1247\u001b[0m inputs_embeds \u001b[38;5;241m=\u001b[39m nn\u001b[38;5;241m.\u001b[39mfunctional\u001b[38;5;241m.\u001b[39mgelu(\u001b[38;5;28;43mself\u001b[39;49m\u001b[38;5;241;43m.\u001b[39;49m\u001b[43mconv1\u001b[49m\u001b[43m(\u001b[49m\u001b[43minput_features\u001b[49m\u001b[43m)\u001b[49m)\n\u001b[1;32m   1248\u001b[0m inputs_embeds \u001b[38;5;241m=\u001b[39m nn\u001b[38;5;241m.\u001b[39mfunctional\u001b[38;5;241m.\u001b[39mgelu(\u001b[38;5;28mself\u001b[39m\u001b[38;5;241m.\u001b[39mconv2(inputs_embeds))\n\u001b[1;32m   1250\u001b[0m inputs_embeds \u001b[38;5;241m=\u001b[39m inputs_embeds\u001b[38;5;241m.\u001b[39mpermute(\u001b[38;5;241m0\u001b[39m, \u001b[38;5;241m2\u001b[39m, \u001b[38;5;241m1\u001b[39m)\n",
            "File \u001b[0;32m/home/zeus/miniconda3/envs/cloudspace/lib/python3.10/site-packages/torch/nn/modules/module.py:1518\u001b[0m, in \u001b[0;36mModule._wrapped_call_impl\u001b[0;34m(self, *args, **kwargs)\u001b[0m\n\u001b[1;32m   1516\u001b[0m     \u001b[38;5;28;01mreturn\u001b[39;00m \u001b[38;5;28mself\u001b[39m\u001b[38;5;241m.\u001b[39m_compiled_call_impl(\u001b[38;5;241m*\u001b[39margs, \u001b[38;5;241m*\u001b[39m\u001b[38;5;241m*\u001b[39mkwargs)  \u001b[38;5;66;03m# type: ignore[misc]\u001b[39;00m\n\u001b[1;32m   1517\u001b[0m \u001b[38;5;28;01melse\u001b[39;00m:\n\u001b[0;32m-> 1518\u001b[0m     \u001b[38;5;28;01mreturn\u001b[39;00m \u001b[38;5;28;43mself\u001b[39;49m\u001b[38;5;241;43m.\u001b[39;49m\u001b[43m_call_impl\u001b[49m\u001b[43m(\u001b[49m\u001b[38;5;241;43m*\u001b[39;49m\u001b[43margs\u001b[49m\u001b[43m,\u001b[49m\u001b[43m \u001b[49m\u001b[38;5;241;43m*\u001b[39;49m\u001b[38;5;241;43m*\u001b[39;49m\u001b[43mkwargs\u001b[49m\u001b[43m)\u001b[49m\n",
            "File \u001b[0;32m/home/zeus/miniconda3/envs/cloudspace/lib/python3.10/site-packages/torch/nn/modules/module.py:1527\u001b[0m, in \u001b[0;36mModule._call_impl\u001b[0;34m(self, *args, **kwargs)\u001b[0m\n\u001b[1;32m   1522\u001b[0m \u001b[38;5;66;03m# If we don't have any hooks, we want to skip the rest of the logic in\u001b[39;00m\n\u001b[1;32m   1523\u001b[0m \u001b[38;5;66;03m# this function, and just call forward.\u001b[39;00m\n\u001b[1;32m   1524\u001b[0m \u001b[38;5;28;01mif\u001b[39;00m \u001b[38;5;129;01mnot\u001b[39;00m (\u001b[38;5;28mself\u001b[39m\u001b[38;5;241m.\u001b[39m_backward_hooks \u001b[38;5;129;01mor\u001b[39;00m \u001b[38;5;28mself\u001b[39m\u001b[38;5;241m.\u001b[39m_backward_pre_hooks \u001b[38;5;129;01mor\u001b[39;00m \u001b[38;5;28mself\u001b[39m\u001b[38;5;241m.\u001b[39m_forward_hooks \u001b[38;5;129;01mor\u001b[39;00m \u001b[38;5;28mself\u001b[39m\u001b[38;5;241m.\u001b[39m_forward_pre_hooks\n\u001b[1;32m   1525\u001b[0m         \u001b[38;5;129;01mor\u001b[39;00m _global_backward_pre_hooks \u001b[38;5;129;01mor\u001b[39;00m _global_backward_hooks\n\u001b[1;32m   1526\u001b[0m         \u001b[38;5;129;01mor\u001b[39;00m _global_forward_hooks \u001b[38;5;129;01mor\u001b[39;00m _global_forward_pre_hooks):\n\u001b[0;32m-> 1527\u001b[0m     \u001b[38;5;28;01mreturn\u001b[39;00m \u001b[43mforward_call\u001b[49m\u001b[43m(\u001b[49m\u001b[38;5;241;43m*\u001b[39;49m\u001b[43margs\u001b[49m\u001b[43m,\u001b[49m\u001b[43m \u001b[49m\u001b[38;5;241;43m*\u001b[39;49m\u001b[38;5;241;43m*\u001b[39;49m\u001b[43mkwargs\u001b[49m\u001b[43m)\u001b[49m\n\u001b[1;32m   1529\u001b[0m \u001b[38;5;28;01mtry\u001b[39;00m:\n\u001b[1;32m   1530\u001b[0m     result \u001b[38;5;241m=\u001b[39m \u001b[38;5;28;01mNone\u001b[39;00m\n",
            "File \u001b[0;32m/home/zeus/miniconda3/envs/cloudspace/lib/python3.10/site-packages/torch/nn/modules/conv.py:310\u001b[0m, in \u001b[0;36mConv1d.forward\u001b[0;34m(self, input)\u001b[0m\n\u001b[1;32m    309\u001b[0m \u001b[38;5;28;01mdef\u001b[39;00m \u001b[38;5;21mforward\u001b[39m(\u001b[38;5;28mself\u001b[39m, \u001b[38;5;28minput\u001b[39m: Tensor) \u001b[38;5;241m-\u001b[39m\u001b[38;5;241m>\u001b[39m Tensor:\n\u001b[0;32m--> 310\u001b[0m     \u001b[38;5;28;01mreturn\u001b[39;00m \u001b[38;5;28;43mself\u001b[39;49m\u001b[38;5;241;43m.\u001b[39;49m\u001b[43m_conv_forward\u001b[49m\u001b[43m(\u001b[49m\u001b[38;5;28;43minput\u001b[39;49m\u001b[43m,\u001b[49m\u001b[43m \u001b[49m\u001b[38;5;28;43mself\u001b[39;49m\u001b[38;5;241;43m.\u001b[39;49m\u001b[43mweight\u001b[49m\u001b[43m,\u001b[49m\u001b[43m \u001b[49m\u001b[38;5;28;43mself\u001b[39;49m\u001b[38;5;241;43m.\u001b[39;49m\u001b[43mbias\u001b[49m\u001b[43m)\u001b[49m\n",
            "File \u001b[0;32m/home/zeus/miniconda3/envs/cloudspace/lib/python3.10/site-packages/torch/nn/modules/conv.py:306\u001b[0m, in \u001b[0;36mConv1d._conv_forward\u001b[0;34m(self, input, weight, bias)\u001b[0m\n\u001b[1;32m    302\u001b[0m \u001b[38;5;28;01mif\u001b[39;00m \u001b[38;5;28mself\u001b[39m\u001b[38;5;241m.\u001b[39mpadding_mode \u001b[38;5;241m!=\u001b[39m \u001b[38;5;124m'\u001b[39m\u001b[38;5;124mzeros\u001b[39m\u001b[38;5;124m'\u001b[39m:\n\u001b[1;32m    303\u001b[0m     \u001b[38;5;28;01mreturn\u001b[39;00m F\u001b[38;5;241m.\u001b[39mconv1d(F\u001b[38;5;241m.\u001b[39mpad(\u001b[38;5;28minput\u001b[39m, \u001b[38;5;28mself\u001b[39m\u001b[38;5;241m.\u001b[39m_reversed_padding_repeated_twice, mode\u001b[38;5;241m=\u001b[39m\u001b[38;5;28mself\u001b[39m\u001b[38;5;241m.\u001b[39mpadding_mode),\n\u001b[1;32m    304\u001b[0m                     weight, bias, \u001b[38;5;28mself\u001b[39m\u001b[38;5;241m.\u001b[39mstride,\n\u001b[1;32m    305\u001b[0m                     _single(\u001b[38;5;241m0\u001b[39m), \u001b[38;5;28mself\u001b[39m\u001b[38;5;241m.\u001b[39mdilation, \u001b[38;5;28mself\u001b[39m\u001b[38;5;241m.\u001b[39mgroups)\n\u001b[0;32m--> 306\u001b[0m \u001b[38;5;28;01mreturn\u001b[39;00m \u001b[43mF\u001b[49m\u001b[38;5;241;43m.\u001b[39;49m\u001b[43mconv1d\u001b[49m\u001b[43m(\u001b[49m\u001b[38;5;28;43minput\u001b[39;49m\u001b[43m,\u001b[49m\u001b[43m \u001b[49m\u001b[43mweight\u001b[49m\u001b[43m,\u001b[49m\u001b[43m \u001b[49m\u001b[43mbias\u001b[49m\u001b[43m,\u001b[49m\u001b[43m \u001b[49m\u001b[38;5;28;43mself\u001b[39;49m\u001b[38;5;241;43m.\u001b[39;49m\u001b[43mstride\u001b[49m\u001b[43m,\u001b[49m\n\u001b[1;32m    307\u001b[0m \u001b[43m                \u001b[49m\u001b[38;5;28;43mself\u001b[39;49m\u001b[38;5;241;43m.\u001b[39;49m\u001b[43mpadding\u001b[49m\u001b[43m,\u001b[49m\u001b[43m \u001b[49m\u001b[38;5;28;43mself\u001b[39;49m\u001b[38;5;241;43m.\u001b[39;49m\u001b[43mdilation\u001b[49m\u001b[43m,\u001b[49m\u001b[43m \u001b[49m\u001b[38;5;28;43mself\u001b[39;49m\u001b[38;5;241;43m.\u001b[39;49m\u001b[43mgroups\u001b[49m\u001b[43m)\u001b[49m\n",
            "\u001b[0;31mRuntimeError\u001b[0m: Input type (torch.FloatTensor) and weight type (torch.cuda.FloatTensor) should be the same or input should be a MKLDNN tensor and weight is a dense tensor"
          ]
        }
      ],
      "source": [
        "#input features to 3d for tainer inference\n",
        "input_features = input_features.unsqueeze(0)\n",
        "trainer.model.eval()\n"
      ]
    },
    {
      "cell_type": "code",
      "execution_count": null,
      "id": "e78dec89",
      "metadata": {},
      "outputs": [],
      "source": [
        "pred_str = processor.tokenizer.batch_decode(pred_ids, skip_special_tokens=True)\n",
        "pred_str = [normalizer(pred) for pred in pred_str]\n",
        "print(pred_str)"
      ]
    },
    {
      "cell_type": "code",
      "execution_count": null,
      "id": "dcbd2ae6",
      "metadata": {},
      "outputs": [
        {
          "data": {
            "text/plain": [
              "{'input_features': tensor([[-0.2157, -0.1536, -0.3758,  ..., -0.7183, -0.7183, -0.7183],\n",
              "         [-0.2292,  0.0335, -0.0742,  ..., -0.7183, -0.7183, -0.7183],\n",
              "         [ 0.0114, -0.0122,  0.0385,  ..., -0.7183, -0.7183, -0.7183],\n",
              "         ...,\n",
              "         [-0.5890, -0.6197, -0.5224,  ..., -0.7183, -0.7183, -0.7183],\n",
              "         [-0.6554, -0.6833, -0.5973,  ..., -0.7183, -0.7183, -0.7183],\n",
              "         [-0.6185, -0.6578, -0.6475,  ..., -0.7183, -0.7183, -0.7183]]),\n",
              " 'input_length': tensor(1.),\n",
              " 'labels': tensor([50258, 50279, 50359, 50363,  7460,  1380, 16707, 12400,  9404,  2225,\n",
              "         50257])}"
            ]
          },
          "execution_count": 64,
          "metadata": {},
          "output_type": "execute_result"
        }
      ],
      "source": [
        "audio"
      ]
    },
    {
      "cell_type": "markdown",
      "id": "ca743fbd-602c-48d4-ba8d-a2fe60af64ba",
      "metadata": {
        "id": "ca743fbd-602c-48d4-ba8d-a2fe60af64ba"
      },
      "source": [
        "## Closing Remarks"
      ]
    },
    {
      "cell_type": "markdown",
      "id": "7f737783-2870-4e35-aa11-86a42d7d997a",
      "metadata": {
        "id": "7f737783-2870-4e35-aa11-86a42d7d997a"
      },
      "source": [
        "In this blog, we covered a step-by-step guide on fine-tuning Whisper for multilingual ASR\n",
        "using 🤗 Datasets, Transformers and the Hugging Face Hub. For more details on the Whisper model, the Common Voice dataset and the theory behind fine-tuning, refere to the accompanying [blog post](https://huggingface.co/blog/fine-tune-whisper). If you're interested in fine-tuning other\n",
        "Transformers models, both for English and multilingual ASR, be sure to check out the\n",
        "examples scripts at [examples/pytorch/speech-recognition](https://github.com/huggingface/transformers/tree/main/examples/pytorch/speech-recognition)."
      ]
    }
  ],
  "metadata": {
    "colab": {
      "provenance": [],
      "toc_visible": true
    },
    "kernel_info": {
      "name": "python3"
    },
    "kernelspec": {
      "display_name": "Python 3 (ipykernel)",
      "language": "python",
      "name": "python3"
    },
    "language_info": {
      "codemirror_mode": {
        "name": "ipython",
        "version": 3
      },
      "file_extension": ".py",
      "mimetype": "text/x-python",
      "name": "python",
      "nbconvert_exporter": "python",
      "pygments_lexer": "ipython3",
      "version": "3.11.6"
    },
    "microsoft": {
      "ms_spell_check": {
        "ms_spell_check_language": "en"
      }
    },
    "nteract": {
      "version": "nteract-front-end@1.0.0"
    },
    "widgets": {
      "application/vnd.jupyter.widget-state+json": {
        "0c6ef909fe15437d871adecbea14315a": {
          "model_module": "@jupyter-widgets/controls",
          "model_module_version": "1.5.0",
          "model_name": "DescriptionStyleModel",
          "state": {
            "_model_module": "@jupyter-widgets/controls",
            "_model_module_version": "1.5.0",
            "_model_name": "DescriptionStyleModel",
            "_view_count": null,
            "_view_module": "@jupyter-widgets/base",
            "_view_module_version": "1.2.0",
            "_view_name": "StyleView",
            "description_width": ""
          }
        },
        "1faa2cc7430c4819b3c67d4642e5ed37": {
          "model_module": "@jupyter-widgets/controls",
          "model_module_version": "1.5.0",
          "model_name": "ProgressStyleModel",
          "state": {
            "_model_module": "@jupyter-widgets/controls",
            "_model_module_version": "1.5.0",
            "_model_name": "ProgressStyleModel",
            "_view_count": null,
            "_view_module": "@jupyter-widgets/base",
            "_view_module_version": "1.2.0",
            "_view_name": "StyleView",
            "bar_color": null,
            "description_width": ""
          }
        },
        "3b6326fa66054f969c47d877fc748720": {
          "model_module": "@jupyter-widgets/base",
          "model_module_version": "1.2.0",
          "model_name": "LayoutModel",
          "state": {
            "_model_module": "@jupyter-widgets/base",
            "_model_module_version": "1.2.0",
            "_model_name": "LayoutModel",
            "_view_count": null,
            "_view_module": "@jupyter-widgets/base",
            "_view_module_version": "1.2.0",
            "_view_name": "LayoutView",
            "align_content": null,
            "align_items": null,
            "align_self": null,
            "border": null,
            "bottom": null,
            "display": null,
            "flex": null,
            "flex_flow": null,
            "grid_area": null,
            "grid_auto_columns": null,
            "grid_auto_flow": null,
            "grid_auto_rows": null,
            "grid_column": null,
            "grid_gap": null,
            "grid_row": null,
            "grid_template_areas": null,
            "grid_template_columns": null,
            "grid_template_rows": null,
            "height": null,
            "justify_content": null,
            "justify_items": null,
            "left": null,
            "margin": null,
            "max_height": null,
            "max_width": null,
            "min_height": null,
            "min_width": null,
            "object_fit": null,
            "object_position": null,
            "order": null,
            "overflow": null,
            "overflow_x": null,
            "overflow_y": null,
            "padding": null,
            "right": null,
            "top": null,
            "visibility": null,
            "width": null
          }
        },
        "468419d3ccfa494086981a4a82d6033a": {
          "model_module": "@jupyter-widgets/controls",
          "model_module_version": "1.5.0",
          "model_name": "HTMLModel",
          "state": {
            "_dom_classes": [],
            "_model_module": "@jupyter-widgets/controls",
            "_model_module_version": "1.5.0",
            "_model_name": "HTMLModel",
            "_view_count": null,
            "_view_module": "@jupyter-widgets/controls",
            "_view_module_version": "1.5.0",
            "_view_name": "HTMLView",
            "description": "",
            "description_tooltip": null,
            "layout": "IPY_MODEL_e200fecaccc64b24a9f6a2a145a5b915",
            "placeholder": "​",
            "style": "IPY_MODEL_0c6ef909fe15437d871adecbea14315a",
            "value": " 2.54k/2.54k [00:00&lt;00:00, 31.4kB/s]"
          }
        },
        "9166186d355343d1b993a82b4ee2a685": {
          "model_module": "@jupyter-widgets/controls",
          "model_module_version": "1.5.0",
          "model_name": "HBoxModel",
          "state": {
            "_dom_classes": [],
            "_model_module": "@jupyter-widgets/controls",
            "_model_module_version": "1.5.0",
            "_model_name": "HBoxModel",
            "_view_count": null,
            "_view_module": "@jupyter-widgets/controls",
            "_view_module_version": "1.5.0",
            "_view_name": "HBoxView",
            "box_style": "",
            "children": [
              "IPY_MODEL_ad56824961654ff09822160b12a4a027",
              "IPY_MODEL_b77b115840024f298535780007281b33",
              "IPY_MODEL_468419d3ccfa494086981a4a82d6033a"
            ],
            "layout": "IPY_MODEL_3b6326fa66054f969c47d877fc748720"
          }
        },
        "9a144408ebfd48dcb05625f3138e0433": {
          "model_module": "@jupyter-widgets/base",
          "model_module_version": "1.2.0",
          "model_name": "LayoutModel",
          "state": {
            "_model_module": "@jupyter-widgets/base",
            "_model_module_version": "1.2.0",
            "_model_name": "LayoutModel",
            "_view_count": null,
            "_view_module": "@jupyter-widgets/base",
            "_view_module_version": "1.2.0",
            "_view_name": "LayoutView",
            "align_content": null,
            "align_items": null,
            "align_self": null,
            "border": null,
            "bottom": null,
            "display": null,
            "flex": null,
            "flex_flow": null,
            "grid_area": null,
            "grid_auto_columns": null,
            "grid_auto_flow": null,
            "grid_auto_rows": null,
            "grid_column": null,
            "grid_gap": null,
            "grid_row": null,
            "grid_template_areas": null,
            "grid_template_columns": null,
            "grid_template_rows": null,
            "height": null,
            "justify_content": null,
            "justify_items": null,
            "left": null,
            "margin": null,
            "max_height": null,
            "max_width": null,
            "min_height": null,
            "min_width": null,
            "object_fit": null,
            "object_position": null,
            "order": null,
            "overflow": null,
            "overflow_x": null,
            "overflow_y": null,
            "padding": null,
            "right": null,
            "top": null,
            "visibility": null,
            "width": null
          }
        },
        "ad480193700545b48e46216888ce7a7a": {
          "model_module": "@jupyter-widgets/base",
          "model_module_version": "1.2.0",
          "model_name": "LayoutModel",
          "state": {
            "_model_module": "@jupyter-widgets/base",
            "_model_module_version": "1.2.0",
            "_model_name": "LayoutModel",
            "_view_count": null,
            "_view_module": "@jupyter-widgets/base",
            "_view_module_version": "1.2.0",
            "_view_name": "LayoutView",
            "align_content": null,
            "align_items": null,
            "align_self": null,
            "border": null,
            "bottom": null,
            "display": null,
            "flex": null,
            "flex_flow": null,
            "grid_area": null,
            "grid_auto_columns": null,
            "grid_auto_flow": null,
            "grid_auto_rows": null,
            "grid_column": null,
            "grid_gap": null,
            "grid_row": null,
            "grid_template_areas": null,
            "grid_template_columns": null,
            "grid_template_rows": null,
            "height": null,
            "justify_content": null,
            "justify_items": null,
            "left": null,
            "margin": null,
            "max_height": null,
            "max_width": null,
            "min_height": null,
            "min_width": null,
            "object_fit": null,
            "object_position": null,
            "order": null,
            "overflow": null,
            "overflow_x": null,
            "overflow_y": null,
            "padding": null,
            "right": null,
            "top": null,
            "visibility": null,
            "width": null
          }
        },
        "ad56824961654ff09822160b12a4a027": {
          "model_module": "@jupyter-widgets/controls",
          "model_module_version": "1.5.0",
          "model_name": "HTMLModel",
          "state": {
            "_dom_classes": [],
            "_model_module": "@jupyter-widgets/controls",
            "_model_module_version": "1.5.0",
            "_model_name": "HTMLModel",
            "_view_count": null,
            "_view_module": "@jupyter-widgets/controls",
            "_view_module_version": "1.5.0",
            "_view_name": "HTMLView",
            "description": "",
            "description_tooltip": null,
            "layout": "IPY_MODEL_9a144408ebfd48dcb05625f3138e0433",
            "placeholder": "​",
            "style": "IPY_MODEL_dc39a74c6ec640a2bf57de3c4f7cec0b",
            "value": "Downloading readme: 100%"
          }
        },
        "b77b115840024f298535780007281b33": {
          "model_module": "@jupyter-widgets/controls",
          "model_module_version": "1.5.0",
          "model_name": "FloatProgressModel",
          "state": {
            "_dom_classes": [],
            "_model_module": "@jupyter-widgets/controls",
            "_model_module_version": "1.5.0",
            "_model_name": "FloatProgressModel",
            "_view_count": null,
            "_view_module": "@jupyter-widgets/controls",
            "_view_module_version": "1.5.0",
            "_view_name": "ProgressView",
            "bar_style": "success",
            "description": "",
            "description_tooltip": null,
            "layout": "IPY_MODEL_ad480193700545b48e46216888ce7a7a",
            "max": 2540,
            "min": 0,
            "orientation": "horizontal",
            "style": "IPY_MODEL_1faa2cc7430c4819b3c67d4642e5ed37",
            "value": 2540
          }
        },
        "dc39a74c6ec640a2bf57de3c4f7cec0b": {
          "model_module": "@jupyter-widgets/controls",
          "model_module_version": "1.5.0",
          "model_name": "DescriptionStyleModel",
          "state": {
            "_model_module": "@jupyter-widgets/controls",
            "_model_module_version": "1.5.0",
            "_model_name": "DescriptionStyleModel",
            "_view_count": null,
            "_view_module": "@jupyter-widgets/base",
            "_view_module_version": "1.2.0",
            "_view_name": "StyleView",
            "description_width": ""
          }
        },
        "e200fecaccc64b24a9f6a2a145a5b915": {
          "model_module": "@jupyter-widgets/base",
          "model_module_version": "1.2.0",
          "model_name": "LayoutModel",
          "state": {
            "_model_module": "@jupyter-widgets/base",
            "_model_module_version": "1.2.0",
            "_model_name": "LayoutModel",
            "_view_count": null,
            "_view_module": "@jupyter-widgets/base",
            "_view_module_version": "1.2.0",
            "_view_name": "LayoutView",
            "align_content": null,
            "align_items": null,
            "align_self": null,
            "border": null,
            "bottom": null,
            "display": null,
            "flex": null,
            "flex_flow": null,
            "grid_area": null,
            "grid_auto_columns": null,
            "grid_auto_flow": null,
            "grid_auto_rows": null,
            "grid_column": null,
            "grid_gap": null,
            "grid_row": null,
            "grid_template_areas": null,
            "grid_template_columns": null,
            "grid_template_rows": null,
            "height": null,
            "justify_content": null,
            "justify_items": null,
            "left": null,
            "margin": null,
            "max_height": null,
            "max_width": null,
            "min_height": null,
            "min_width": null,
            "object_fit": null,
            "object_position": null,
            "order": null,
            "overflow": null,
            "overflow_x": null,
            "overflow_y": null,
            "padding": null,
            "right": null,
            "top": null,
            "visibility": null,
            "width": null
          }
        }
      }
    }
  },
  "nbformat": 4,
  "nbformat_minor": 5
}
