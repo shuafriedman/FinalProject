{
 "cells": [
  {
   "cell_type": "code",
   "execution_count": 1,
   "metadata": {},
   "outputs": [],
   "source": [
    "from datasets import load_from_disk, load_metric\n",
    "from transformers import Wav2Vec2BertProcessor, Wav2Vec2BertForCTC, BatchFeature\n",
    "from transformers import AutoModelForCTC, Wav2Vec2Processor\n",
    "from torch.utils.data.dataloader import DataLoader\n",
    "import torch\n",
    "from tqdm import tqdm\n",
    "from typing import Any, Dict, List, Optional, Union\n",
    "from dataclasses import dataclass, field\n",
    "\n",
    "import os"
   ]
  },
  {
   "cell_type": "code",
   "execution_count": 27,
   "metadata": {},
   "outputs": [],
   "source": [
    "dataset_for_wav2vec2=load_from_disk(\"/teamspace/studios/this_studio/datasets/fleurs-imvladikon-filtered-proc\")"
   ]
  },
  {
   "cell_type": "code",
   "execution_count": 58,
   "metadata": {},
   "outputs": [
    {
     "name": "stderr",
     "output_type": "stream",
     "text": [
      "Special tokens have been added in the vocabulary, make sure the associated word embeddings are fine-tuned or trained.\n",
      "Some weights of the model checkpoint at imvladikon/wav2vec2-xls-r-300m-hebrew were not used when initializing Wav2Vec2ForCTC: ['wav2vec2.encoder.pos_conv_embed.conv.weight_g', 'wav2vec2.encoder.pos_conv_embed.conv.weight_v']\n",
      "- This IS expected if you are initializing Wav2Vec2ForCTC from the checkpoint of a model trained on another task or with another architecture (e.g. initializing a BertForSequenceClassification model from a BertForPreTraining model).\n",
      "- This IS NOT expected if you are initializing Wav2Vec2ForCTC from the checkpoint of a model that you expect to be exactly identical (initializing a BertForSequenceClassification model from a BertForSequenceClassification model).\n",
      "Some weights of Wav2Vec2ForCTC were not initialized from the model checkpoint at imvladikon/wav2vec2-xls-r-300m-hebrew and are newly initialized: ['wav2vec2.encoder.pos_conv_embed.conv.parametrizations.weight.original0', 'wav2vec2.encoder.pos_conv_embed.conv.parametrizations.weight.original1']\n",
      "You should probably TRAIN this model on a down-stream task to be able to use it for predictions and inference.\n"
     ]
    }
   ],
   "source": [
    "from transformers import AutoProcessor, AutoModelForCTC\n",
    "\n",
    "processor = AutoProcessor.from_pretrained(\"imvladikon/wav2vec2-xls-r-300m-hebrew\")\n",
    "model = AutoModelForCTC.from_pretrained(\"imvladikon/wav2vec2-xls-r-300m-hebrew\")\n"
   ]
  },
  {
   "cell_type": "code",
   "execution_count": 20,
   "metadata": {},
   "outputs": [
    {
     "name": "stderr",
     "output_type": "stream",
     "text": [
      "/home/zeus/miniconda3/envs/cloudspace/lib/python3.10/site-packages/datasets/load.py:1429: FutureWarning: The repository for google/fleurs contains custom code which must be executed to correctly load the dataset. You can inspect the repository content at https://hf.co/datasets/google/fleurs\n",
      "You can avoid this message in future by passing the argument `trust_remote_code=True`.\n",
      "Passing `trust_remote_code=True` will be mandatory to load this dataset from the next major release of `datasets`.\n",
      "  warnings.warn(\n"
     ]
    }
   ],
   "source": [
    "import torch\n",
    "from datasets import load_dataset\n",
    "from transformers import AutoProcessor, AutoModelForCTC\n",
    "import torchaudio\n",
    "import librosa\n",
    "import numpy as np\n",
    "import re\n",
    "import string\n",
    "from jiwer import wer\n",
    "\n",
    "# Load model and processor\n",
    "chars_to_remove_regex = '[\\,\\?\\.\\!\\-\\;\\:\\\"\\“\\%\\‘\\”\\�\\'\\]\\[\\{\\}\\־]'\n",
    "\n",
    "\n",
    "FILTER_THRESHOLD = 30\n",
    "\n",
    "# Load the dataset\n",
    "dataset = load_dataset(\"google/fleurs\", \"he_il\", split='test')\n",
    "def remove_special_characters(batch):\n",
    "    batch[\"transcription\"] = re.sub(chars_to_remove_regex, '', batch[\"transcription\"]).lower()\n",
    "    return batch\n",
    "\n",
    "# Function to drop samples that contain English letters or digits\n",
    "def drop_english_samples(dataset):\n",
    "    def contains_english_or_digits(text):\n",
    "        english_letters = set(string.ascii_lowercase)\n",
    "        digits = set(string.digits)\n",
    "        return any(char in english_letters or char in digits for char in text.lower())\n",
    "    filtered_dataset = dataset.filter(lambda example: not contains_english_or_digits(example['transcription']))\n",
    "    return filtered_dataset\n",
    "\n",
    "# Function to filter out long audio samples\n",
    "def filter_long_samples(dataset):\n",
    "    def is_shorter_than_max_duration(example):\n",
    "        duration_seconds = len(example['audio']['array']) / example['audio']['sampling_rate']\n",
    "        return duration_seconds <= FILTER_THRESHOLD\n",
    "    filtered_dataset = dataset.filter(lambda example: is_shorter_than_max_duration(example))\n",
    "    return filtered_dataset\n",
    "\n",
    "# Apply the functions to the dataset\n",
    "dataset = dataset.map(remove_special_characters)\n",
    "dataset = drop_english_samples(dataset)\n",
    "dataset = filter_long_samples(dataset)"
   ]
  },
  {
   "cell_type": "code",
   "execution_count": 68,
   "metadata": {},
   "outputs": [
    {
     "name": "stdout",
     "output_type": "stream",
     "text": [
      "Using device: cuda\n"
     ]
    }
   ],
   "source": [
    "import torch\n",
    "from tqdm import tqdm\n",
    "\n",
    "# Setup device\n",
    "device = torch.device(\"cuda\" if torch.cuda.is_available() else \"cpu\")\n",
    "print(f\"Using device: {device}\")\n",
    "\n",
    "# Assuming the predict function is defined elsewhere and needs to be updated\n",
    "def predict(audio_tensor, device, model, processor):\n",
    "    # Ensure the tensor is on the correct device\n",
    "    audio_tensor = audio_tensor.to(device)\n",
    "    \n",
    "    # Convert the tensor into the model's input format\n",
    "    try:\n",
    "        input_values = processor(audio_tensor.cpu(), return_tensors=\"pt\", padding=\"longest\").input_features\n",
    "    except:\n",
    "        input_values = processor(audio_tensor, return_tensors=\"pt\", padding=\"longest\").input_values\n",
    "    input_values = input_values.to(device)  # Ensure inputs are on the same device as the model\n",
    "\n",
    "    # Perform the inference\n",
    "    with torch.no_grad():\n",
    "        logits = model(input_values).logits\n",
    "\n",
    "    # Decode the model's logits to text\n",
    "    predicted_ids = torch.argmax(logits, dim=-1)\n",
    "    transcription = processor.batch_decode(predicted_ids)\n",
    "    return transcription[0]\n",
    "\n",
    "\n",
    "def evaluate_model(dataset, model, processor ):\n",
    "    from jiwer import wer\n",
    "    total_wer = 0\n",
    "    count = 0  # To count successfully processed examples\n",
    "    progress_bar = tqdm(total=len(dataset), desc=\"Evaluating model\", unit=\" samples\")\n",
    "\n",
    "    for example in dataset:\n",
    "        \n",
    "            # Directly use the loaded audio data and sample rate\n",
    "        speech_array, sampling_rate = example[\"audio\"][\"array\"], example[\"audio\"][\"sampling_rate\"]\n",
    "\n",
    "        # Convert numpy array to tensor and then move it to the desired device for processing\n",
    "        speech_tensor = torch.tensor(speech_array, dtype=torch.float32).to(device)\n",
    "        \n",
    "        # Explicitly pass the original sampling rate and move tensor to CPU for librosa processing\n",
    "        speech_array = speech_tensor.cpu().numpy()\n",
    "        speech_array = librosa.resample(speech_array, orig_sr=sampling_rate, target_sr=16_000)\n",
    "        # Convert the resampled array back to tensor and move to the correct device\n",
    "        speech_tensor = torch.tensor(speech_array, dtype=torch.float32).to(device)\n",
    "        # Predict the transcription\n",
    "        predicted_text = predict(speech_tensor, device=device, model=model, processor=processor)\n",
    "        reference_text = example[\"transcription\"]\n",
    "    \n",
    "        # Compute WER\n",
    "        example_wer = wer(reference_text, predicted_text)\n",
    "        total_wer += example_wer\n",
    "        count += 1\n",
    "        progress_bar.update(1)\n",
    "\n",
    "    progress_bar.close()\n",
    "    if count > 0:\n",
    "        average_wer = total_wer / count\n",
    "    else:\n",
    "        average_wer = float('inf')  # Indicates an issue if no audio was processed\n",
    "    return average_wer\n",
    "\n",
    "\n"
   ]
  },
  {
   "cell_type": "code",
   "execution_count": 67,
   "metadata": {},
   "outputs": [
    {
     "name": "stderr",
     "output_type": "stream",
     "text": [
      "Special tokens have been added in the vocabulary, make sure the associated word embeddings are fine-tuned or trained.\n"
     ]
    },
    {
     "name": "stderr",
     "output_type": "stream",
     "text": [
      "Some weights of the model checkpoint at imvladikon/wav2vec2-xls-r-300m-hebrew were not used when initializing Wav2Vec2ForCTC: ['wav2vec2.encoder.pos_conv_embed.conv.weight_g', 'wav2vec2.encoder.pos_conv_embed.conv.weight_v']\n",
      "- This IS expected if you are initializing Wav2Vec2ForCTC from the checkpoint of a model trained on another task or with another architecture (e.g. initializing a BertForSequenceClassification model from a BertForPreTraining model).\n",
      "- This IS NOT expected if you are initializing Wav2Vec2ForCTC from the checkpoint of a model that you expect to be exactly identical (initializing a BertForSequenceClassification model from a BertForSequenceClassification model).\n",
      "Some weights of Wav2Vec2ForCTC were not initialized from the model checkpoint at imvladikon/wav2vec2-xls-r-300m-hebrew and are newly initialized: ['wav2vec2.encoder.pos_conv_embed.conv.parametrizations.weight.original0', 'wav2vec2.encoder.pos_conv_embed.conv.parametrizations.weight.original1']\n",
      "You should probably TRAIN this model on a down-stream task to be able to use it for predictions and inference.\n",
      "\n",
      "\n",
      "\u001b[A\u001b[AIt is strongly recommended to pass the ``sampling_rate`` argument to this function. Failing to do so can result in silent errors that might be hard to debug.\n",
      "It is strongly recommended to pass the ``sampling_rate`` argument to this function. Failing to do so can result in silent errors that might be hard to debug.\n",
      "\n",
      "\n",
      "\u001b[A\u001b[AIt is strongly recommended to pass the ``sampling_rate`` argument to this function. Failing to do so can result in silent errors that might be hard to debug.\n",
      "It is strongly recommended to pass the ``sampling_rate`` argument to this function. Failing to do so can result in silent errors that might be hard to debug.\n"
     ]
    },
    {
     "name": "stdout",
     "output_type": "stream",
     "text": [
      "Setting resample\n",
      "resample sucessfuly set\n",
      "setting speech tensor\n",
      "applying tensor to device\n",
      "applying processor\n",
      "processor applied\n",
      "inputs insured\n",
      "Setting resample\n",
      "resample sucessfuly set\n",
      "setting speech tensor\n",
      "applying tensor to device\n",
      "applying processor\n",
      "processor applied\n",
      "inputs insured\n"
     ]
    },
    {
     "name": "stderr",
     "output_type": "stream",
     "text": [
      "\n",
      "\n",
      "\u001b[A\u001b[AIt is strongly recommended to pass the ``sampling_rate`` argument to this function. Failing to do so can result in silent errors that might be hard to debug.\n",
      "It is strongly recommended to pass the ``sampling_rate`` argument to this function. Failing to do so can result in silent errors that might be hard to debug.\n",
      "\n",
      "\n",
      "\u001b[A\u001b[AIt is strongly recommended to pass the ``sampling_rate`` argument to this function. Failing to do so can result in silent errors that might be hard to debug.\n",
      "It is strongly recommended to pass the ``sampling_rate`` argument to this function. Failing to do so can result in silent errors that might be hard to debug.\n"
     ]
    },
    {
     "name": "stdout",
     "output_type": "stream",
     "text": [
      "Setting resample\n",
      "resample sucessfuly set\n",
      "setting speech tensor\n",
      "applying tensor to device\n",
      "applying processor\n",
      "processor applied\n",
      "inputs insured\n",
      "Setting resample\n",
      "resample sucessfuly set\n",
      "setting speech tensor\n",
      "applying tensor to device\n",
      "applying processor\n",
      "processor applied\n",
      "inputs insured\n"
     ]
    },
    {
     "name": "stderr",
     "output_type": "stream",
     "text": [
      "It is strongly recommended to pass the ``sampling_rate`` argument to this function. Failing to do so can result in silent errors that might be hard to debug.\n",
      "It is strongly recommended to pass the ``sampling_rate`` argument to this function. Failing to do so can result in silent errors that might be hard to debug.\n",
      "\n",
      "\n",
      "\u001b[A\u001b[AIt is strongly recommended to pass the ``sampling_rate`` argument to this function. Failing to do so can result in silent errors that might be hard to debug.\n",
      "It is strongly recommended to pass the ``sampling_rate`` argument to this function. Failing to do so can result in silent errors that might be hard to debug.\n",
      "\n",
      "\n",
      "\u001b[A\u001b[A"
     ]
    },
    {
     "name": "stdout",
     "output_type": "stream",
     "text": [
      "Setting resample\n",
      "resample sucessfuly set\n",
      "setting speech tensor\n",
      "applying tensor to device\n",
      "applying processor\n",
      "processor applied\n",
      "inputs insured\n",
      "Setting resample\n",
      "resample sucessfuly set\n",
      "setting speech tensor\n",
      "applying tensor to device\n",
      "applying processor\n",
      "processor applied\n",
      "inputs insured\n",
      "Setting resample\n",
      "resample sucessfuly set\n",
      "setting speech tensor\n",
      "applying tensor to device\n",
      "applying processor\n"
     ]
    },
    {
     "name": "stderr",
     "output_type": "stream",
     "text": [
      "It is strongly recommended to pass the ``sampling_rate`` argument to this function. Failing to do so can result in silent errors that might be hard to debug.\n",
      "It is strongly recommended to pass the ``sampling_rate`` argument to this function. Failing to do so can result in silent errors that might be hard to debug.\n",
      "\n",
      "\n",
      "\u001b[A\u001b[AIt is strongly recommended to pass the ``sampling_rate`` argument to this function. Failing to do so can result in silent errors that might be hard to debug.\n",
      "It is strongly recommended to pass the ``sampling_rate`` argument to this function. Failing to do so can result in silent errors that might be hard to debug.\n"
     ]
    },
    {
     "name": "stdout",
     "output_type": "stream",
     "text": [
      "processor applied\n",
      "inputs insured\n",
      "Setting resample\n",
      "resample sucessfuly set\n",
      "setting speech tensor\n",
      "applying tensor to device\n",
      "applying processor\n",
      "processor applied\n",
      "inputs insured\n"
     ]
    },
    {
     "name": "stderr",
     "output_type": "stream",
     "text": [
      "\n",
      "\n",
      "\u001b[A\u001b[AIt is strongly recommended to pass the ``sampling_rate`` argument to this function. Failing to do so can result in silent errors that might be hard to debug.\n",
      "It is strongly recommended to pass the ``sampling_rate`` argument to this function. Failing to do so can result in silent errors that might be hard to debug.\n",
      "It is strongly recommended to pass the ``sampling_rate`` argument to this function. Failing to do so can result in silent errors that might be hard to debug.\n",
      "It is strongly recommended to pass the ``sampling_rate`` argument to this function. Failing to do so can result in silent errors that might be hard to debug.\n",
      "\n",
      "\n",
      "\u001b[A\u001b[AIt is strongly recommended to pass the ``sampling_rate`` argument to this function. Failing to do so can result in silent errors that might be hard to debug.\n",
      "It is strongly recommended to pass the ``sampling_rate`` argument to this function. Failing to do so can result in silent errors that might be hard to debug.\n"
     ]
    },
    {
     "name": "stdout",
     "output_type": "stream",
     "text": [
      "Setting resample\n",
      "resample sucessfuly set\n",
      "setting speech tensor\n",
      "applying tensor to device\n",
      "applying processor\n",
      "processor applied\n",
      "inputs insured\n",
      "Setting resample\n",
      "resample sucessfuly set\n",
      "setting speech tensor\n",
      "applying tensor to device\n",
      "applying processor\n",
      "processor applied\n",
      "inputs insured\n",
      "Setting resample\n",
      "resample sucessfuly set\n",
      "setting speech tensor\n",
      "applying tensor to device\n",
      "applying processor\n",
      "processor applied\n",
      "inputs insured\n"
     ]
    },
    {
     "name": "stderr",
     "output_type": "stream",
     "text": [
      "It is strongly recommended to pass the ``sampling_rate`` argument to this function. Failing to do so can result in silent errors that might be hard to debug.\n",
      "It is strongly recommended to pass the ``sampling_rate`` argument to this function. Failing to do so can result in silent errors that might be hard to debug.\n",
      "\n",
      "\n",
      "\u001b[A\u001b[AIt is strongly recommended to pass the ``sampling_rate`` argument to this function. Failing to do so can result in silent errors that might be hard to debug.\n",
      "It is strongly recommended to pass the ``sampling_rate`` argument to this function. Failing to do so can result in silent errors that might be hard to debug.\n",
      "It is strongly recommended to pass the ``sampling_rate`` argument to this function. Failing to do so can result in silent errors that might be hard to debug.\n",
      "It is strongly recommended to pass the ``sampling_rate`` argument to this function. Failing to do so can result in silent errors that might be hard to debug.\n"
     ]
    },
    {
     "name": "stdout",
     "output_type": "stream",
     "text": [
      "Setting resample\n",
      "resample sucessfuly set\n",
      "setting speech tensor\n",
      "applying tensor to device\n",
      "applying processor\n",
      "processor applied\n",
      "inputs insured\n",
      "Setting resample\n",
      "resample sucessfuly set\n",
      "setting speech tensor\n",
      "applying tensor to device\n",
      "applying processor\n",
      "processor applied\n",
      "inputs insured\n",
      "Setting resample\n",
      "resample sucessfuly set\n",
      "setting speech tensor\n",
      "applying tensor to device\n",
      "applying processor\n",
      "processor applied\n",
      "inputs insured\n"
     ]
    },
    {
     "name": "stderr",
     "output_type": "stream",
     "text": [
      "\n",
      "\n",
      "\u001b[A\u001b[AIt is strongly recommended to pass the ``sampling_rate`` argument to this function. Failing to do so can result in silent errors that might be hard to debug.\n",
      "It is strongly recommended to pass the ``sampling_rate`` argument to this function. Failing to do so can result in silent errors that might be hard to debug.\n",
      "It is strongly recommended to pass the ``sampling_rate`` argument to this function. Failing to do so can result in silent errors that might be hard to debug.\n",
      "It is strongly recommended to pass the ``sampling_rate`` argument to this function. Failing to do so can result in silent errors that might be hard to debug.\n"
     ]
    },
    {
     "name": "stdout",
     "output_type": "stream",
     "text": [
      "Setting resample\n",
      "resample sucessfuly set\n",
      "setting speech tensor\n",
      "applying tensor to device\n",
      "applying processor\n",
      "processor applied\n",
      "inputs insured\n",
      "Setting resample\n",
      "resample sucessfuly set\n",
      "setting speech tensor\n",
      "applying tensor to device\n",
      "applying processor\n",
      "processor applied\n",
      "inputs insured\n"
     ]
    },
    {
     "name": "stderr",
     "output_type": "stream",
     "text": [
      "\n",
      "\n",
      "\u001b[A\u001b[AIt is strongly recommended to pass the ``sampling_rate`` argument to this function. Failing to do so can result in silent errors that might be hard to debug.\n",
      "It is strongly recommended to pass the ``sampling_rate`` argument to this function. Failing to do so can result in silent errors that might be hard to debug.\n",
      "It is strongly recommended to pass the ``sampling_rate`` argument to this function. Failing to do so can result in silent errors that might be hard to debug.\n",
      "It is strongly recommended to pass the ``sampling_rate`` argument to this function. Failing to do so can result in silent errors that might be hard to debug.\n"
     ]
    },
    {
     "name": "stdout",
     "output_type": "stream",
     "text": [
      "Setting resample\n",
      "resample sucessfuly set\n",
      "setting speech tensor\n",
      "applying tensor to device\n",
      "applying processor\n",
      "processor applied\n",
      "inputs insured\n",
      "Setting resample\n",
      "resample sucessfuly set\n",
      "setting speech tensor\n",
      "applying tensor to device\n",
      "applying processor\n",
      "processor applied\n",
      "inputs insured\n"
     ]
    },
    {
     "name": "stderr",
     "output_type": "stream",
     "text": [
      "\n",
      "\n",
      "\u001b[A\u001b[AIt is strongly recommended to pass the ``sampling_rate`` argument to this function. Failing to do so can result in silent errors that might be hard to debug.\n",
      "It is strongly recommended to pass the ``sampling_rate`` argument to this function. Failing to do so can result in silent errors that might be hard to debug.\n",
      "It is strongly recommended to pass the ``sampling_rate`` argument to this function. Failing to do so can result in silent errors that might be hard to debug.\n",
      "It is strongly recommended to pass the ``sampling_rate`` argument to this function. Failing to do so can result in silent errors that might be hard to debug.\n",
      "\n",
      "\n",
      "\u001b[A\u001b[A"
     ]
    },
    {
     "name": "stdout",
     "output_type": "stream",
     "text": [
      "Setting resample\n",
      "resample sucessfuly set\n",
      "setting speech tensor\n",
      "applying tensor to device\n",
      "applying processor\n",
      "processor applied\n",
      "inputs insured\n",
      "Setting resample\n",
      "resample sucessfuly set\n",
      "setting speech tensor\n",
      "applying tensor to device\n",
      "applying processor\n",
      "processor applied\n",
      "inputs insured\n"
     ]
    },
    {
     "name": "stderr",
     "output_type": "stream",
     "text": [
      "It is strongly recommended to pass the ``sampling_rate`` argument to this function. Failing to do so can result in silent errors that might be hard to debug.\n",
      "It is strongly recommended to pass the ``sampling_rate`` argument to this function. Failing to do so can result in silent errors that might be hard to debug.\n",
      "It is strongly recommended to pass the ``sampling_rate`` argument to this function. Failing to do so can result in silent errors that might be hard to debug.\n",
      "It is strongly recommended to pass the ``sampling_rate`` argument to this function. Failing to do so can result in silent errors that might be hard to debug.\n",
      "\n",
      "\n",
      "\u001b[A\u001b[AIt is strongly recommended to pass the ``sampling_rate`` argument to this function. Failing to do so can result in silent errors that might be hard to debug.\n",
      "It is strongly recommended to pass the ``sampling_rate`` argument to this function. Failing to do so can result in silent errors that might be hard to debug.\n"
     ]
    },
    {
     "name": "stdout",
     "output_type": "stream",
     "text": [
      "Setting resample\n",
      "resample sucessfuly set\n",
      "setting speech tensor\n",
      "applying tensor to device\n",
      "applying processor\n",
      "processor applied\n",
      "inputs insured\n",
      "Setting resample\n",
      "resample sucessfuly set\n",
      "setting speech tensor\n",
      "applying tensor to device\n",
      "applying processor\n",
      "processor applied\n",
      "inputs insured\n",
      "Setting resample\n",
      "resample sucessfuly set\n",
      "setting speech tensor\n",
      "applying tensor to device\n",
      "applying processor\n",
      "processor applied\n",
      "inputs insured\n"
     ]
    },
    {
     "name": "stderr",
     "output_type": "stream",
     "text": [
      "It is strongly recommended to pass the ``sampling_rate`` argument to this function. Failing to do so can result in silent errors that might be hard to debug.\n",
      "It is strongly recommended to pass the ``sampling_rate`` argument to this function. Failing to do so can result in silent errors that might be hard to debug.\n",
      "\n",
      "\n",
      "\u001b[A\u001b[AIt is strongly recommended to pass the ``sampling_rate`` argument to this function. Failing to do so can result in silent errors that might be hard to debug.\n",
      "It is strongly recommended to pass the ``sampling_rate`` argument to this function. Failing to do so can result in silent errors that might be hard to debug.\n"
     ]
    },
    {
     "name": "stdout",
     "output_type": "stream",
     "text": [
      "Setting resample\n",
      "resample sucessfuly set\n",
      "setting speech tensor\n",
      "applying tensor to device\n",
      "applying processor\n",
      "processor applied\n",
      "inputs insured\n",
      "Setting resample\n",
      "resample sucessfuly set\n",
      "setting speech tensor\n",
      "applying tensor to device\n",
      "applying processor\n",
      "processor applied\n",
      "inputs insured\n"
     ]
    },
    {
     "name": "stderr",
     "output_type": "stream",
     "text": [
      "\n",
      "\n",
      "\u001b[A\u001b[AIt is strongly recommended to pass the ``sampling_rate`` argument to this function. Failing to do so can result in silent errors that might be hard to debug.\n",
      "It is strongly recommended to pass the ``sampling_rate`` argument to this function. Failing to do so can result in silent errors that might be hard to debug.\n",
      "It is strongly recommended to pass the ``sampling_rate`` argument to this function. Failing to do so can result in silent errors that might be hard to debug.\n",
      "It is strongly recommended to pass the ``sampling_rate`` argument to this function. Failing to do so can result in silent errors that might be hard to debug.\n"
     ]
    },
    {
     "name": "stdout",
     "output_type": "stream",
     "text": [
      "Setting resample\n",
      "resample sucessfuly set\n",
      "setting speech tensor\n",
      "applying tensor to device\n",
      "applying processor\n",
      "processor applied\n",
      "inputs insured\n",
      "Setting resample\n",
      "resample sucessfuly set\n",
      "setting speech tensor\n",
      "applying tensor to device\n",
      "applying processor\n",
      "processor applied\n",
      "inputs insured\n"
     ]
    },
    {
     "name": "stderr",
     "output_type": "stream",
     "text": [
      "\n",
      "\n",
      "\u001b[A\u001b[AIt is strongly recommended to pass the ``sampling_rate`` argument to this function. Failing to do so can result in silent errors that might be hard to debug.\n",
      "It is strongly recommended to pass the ``sampling_rate`` argument to this function. Failing to do so can result in silent errors that might be hard to debug.\n"
     ]
    },
    {
     "name": "stdout",
     "output_type": "stream",
     "text": [
      "Setting resample\n",
      "resample sucessfuly set\n",
      "setting speech tensor\n",
      "applying tensor to device\n",
      "applying processor\n",
      "processor applied\n",
      "inputs insured\n"
     ]
    },
    {
     "name": "stderr",
     "output_type": "stream",
     "text": [
      "\n",
      "\n",
      "\u001b[A\u001b[AIt is strongly recommended to pass the ``sampling_rate`` argument to this function. Failing to do so can result in silent errors that might be hard to debug.\n",
      "It is strongly recommended to pass the ``sampling_rate`` argument to this function. Failing to do so can result in silent errors that might be hard to debug.\n"
     ]
    },
    {
     "name": "stdout",
     "output_type": "stream",
     "text": [
      "Setting resample\n",
      "resample sucessfuly set\n",
      "setting speech tensor\n",
      "applying tensor to device\n",
      "applying processor\n",
      "processor applied\n",
      "inputs insured\n"
     ]
    },
    {
     "name": "stderr",
     "output_type": "stream",
     "text": [
      "\n",
      "\n",
      "\u001b[A\u001b[AIt is strongly recommended to pass the ``sampling_rate`` argument to this function. Failing to do so can result in silent errors that might be hard to debug.\n",
      "It is strongly recommended to pass the ``sampling_rate`` argument to this function. Failing to do so can result in silent errors that might be hard to debug.\n",
      "\n",
      "\n",
      "\u001b[A\u001b[AIt is strongly recommended to pass the ``sampling_rate`` argument to this function. Failing to do so can result in silent errors that might be hard to debug.\n",
      "It is strongly recommended to pass the ``sampling_rate`` argument to this function. Failing to do so can result in silent errors that might be hard to debug.\n"
     ]
    },
    {
     "name": "stdout",
     "output_type": "stream",
     "text": [
      "Setting resample\n",
      "resample sucessfuly set\n",
      "setting speech tensor\n",
      "applying tensor to device\n",
      "applying processor\n",
      "processor applied\n",
      "inputs insured\n",
      "Setting resample\n",
      "resample sucessfuly set\n",
      "setting speech tensor\n",
      "applying tensor to device\n",
      "applying processor\n",
      "processor applied\n",
      "inputs insured\n"
     ]
    },
    {
     "name": "stderr",
     "output_type": "stream",
     "text": [
      "It is strongly recommended to pass the ``sampling_rate`` argument to this function. Failing to do so can result in silent errors that might be hard to debug.\n",
      "It is strongly recommended to pass the ``sampling_rate`` argument to this function. Failing to do so can result in silent errors that might be hard to debug.\n",
      "\n",
      "\n",
      "\u001b[A\u001b[AIt is strongly recommended to pass the ``sampling_rate`` argument to this function. Failing to do so can result in silent errors that might be hard to debug.\n",
      "It is strongly recommended to pass the ``sampling_rate`` argument to this function. Failing to do so can result in silent errors that might be hard to debug.\n"
     ]
    },
    {
     "name": "stdout",
     "output_type": "stream",
     "text": [
      "Setting resample\n",
      "resample sucessfuly set\n",
      "setting speech tensor\n",
      "applying tensor to device\n",
      "applying processor\n",
      "processor applied\n",
      "inputs insured\n",
      "Setting resample\n",
      "resample sucessfuly set\n",
      "setting speech tensor\n",
      "applying tensor to device\n",
      "applying processor\n",
      "processor applied\n",
      "inputs insured\n"
     ]
    },
    {
     "name": "stderr",
     "output_type": "stream",
     "text": [
      "It is strongly recommended to pass the ``sampling_rate`` argument to this function. Failing to do so can result in silent errors that might be hard to debug.\n",
      "It is strongly recommended to pass the ``sampling_rate`` argument to this function. Failing to do so can result in silent errors that might be hard to debug.\n",
      "\n",
      "\n",
      "\u001b[A\u001b[AIt is strongly recommended to pass the ``sampling_rate`` argument to this function. Failing to do so can result in silent errors that might be hard to debug.\n",
      "It is strongly recommended to pass the ``sampling_rate`` argument to this function. Failing to do so can result in silent errors that might be hard to debug.\n"
     ]
    },
    {
     "name": "stdout",
     "output_type": "stream",
     "text": [
      "Setting resample\n",
      "resample sucessfuly set\n",
      "setting speech tensor\n",
      "applying tensor to device\n",
      "applying processor\n",
      "processor applied\n",
      "inputs insured\n",
      "Setting resample\n",
      "resample sucessfuly set\n",
      "setting speech tensor\n",
      "applying tensor to device\n",
      "applying processor\n",
      "processor applied\n",
      "inputs insured\n"
     ]
    },
    {
     "name": "stderr",
     "output_type": "stream",
     "text": [
      "It is strongly recommended to pass the ``sampling_rate`` argument to this function. Failing to do so can result in silent errors that might be hard to debug.\n",
      "It is strongly recommended to pass the ``sampling_rate`` argument to this function. Failing to do so can result in silent errors that might be hard to debug.\n",
      "\n",
      "\n",
      "\u001b[A\u001b[AIt is strongly recommended to pass the ``sampling_rate`` argument to this function. Failing to do so can result in silent errors that might be hard to debug.\n",
      "It is strongly recommended to pass the ``sampling_rate`` argument to this function. Failing to do so can result in silent errors that might be hard to debug.\n"
     ]
    },
    {
     "name": "stdout",
     "output_type": "stream",
     "text": [
      "Setting resample\n",
      "resample sucessfuly set\n",
      "setting speech tensor\n",
      "applying tensor to device\n",
      "applying processor\n",
      "processor applied\n",
      "inputs insured\n",
      "Setting resample\n",
      "resample sucessfuly set\n",
      "setting speech tensor\n",
      "applying tensor to device\n",
      "applying processor\n",
      "processor applied\n",
      "inputs insured\n"
     ]
    },
    {
     "name": "stderr",
     "output_type": "stream",
     "text": [
      "It is strongly recommended to pass the ``sampling_rate`` argument to this function. Failing to do so can result in silent errors that might be hard to debug.\n",
      "It is strongly recommended to pass the ``sampling_rate`` argument to this function. Failing to do so can result in silent errors that might be hard to debug.\n",
      "\n",
      "\n",
      "\u001b[A\u001b[AIt is strongly recommended to pass the ``sampling_rate`` argument to this function. Failing to do so can result in silent errors that might be hard to debug.\n",
      "It is strongly recommended to pass the ``sampling_rate`` argument to this function. Failing to do so can result in silent errors that might be hard to debug.\n"
     ]
    },
    {
     "name": "stdout",
     "output_type": "stream",
     "text": [
      "Setting resample\n",
      "resample sucessfuly set\n",
      "setting speech tensor\n",
      "applying tensor to device\n",
      "applying processor\n",
      "processor applied\n",
      "inputs insured\n",
      "Setting resample\n",
      "resample sucessfuly set\n",
      "setting speech tensor\n",
      "applying tensor to device\n",
      "applying processor\n",
      "processor applied\n",
      "inputs insured\n"
     ]
    },
    {
     "name": "stderr",
     "output_type": "stream",
     "text": [
      "\n",
      "\n",
      "\u001b[A\u001b[AIt is strongly recommended to pass the ``sampling_rate`` argument to this function. Failing to do so can result in silent errors that might be hard to debug.\n",
      "It is strongly recommended to pass the ``sampling_rate`` argument to this function. Failing to do so can result in silent errors that might be hard to debug.\n",
      "\n",
      "\n",
      "\u001b[A\u001b[AIt is strongly recommended to pass the ``sampling_rate`` argument to this function. Failing to do so can result in silent errors that might be hard to debug.\n",
      "It is strongly recommended to pass the ``sampling_rate`` argument to this function. Failing to do so can result in silent errors that might be hard to debug.\n"
     ]
    },
    {
     "name": "stdout",
     "output_type": "stream",
     "text": [
      "Setting resample\n",
      "resample sucessfuly set\n",
      "setting speech tensor\n",
      "applying tensor to device\n",
      "applying processor\n",
      "processor applied\n",
      "inputs insured\n",
      "Setting resample\n",
      "resample sucessfuly set\n",
      "setting speech tensor\n",
      "applying tensor to device\n",
      "applying processor\n",
      "processor applied\n",
      "inputs insured\n"
     ]
    },
    {
     "name": "stderr",
     "output_type": "stream",
     "text": [
      "It is strongly recommended to pass the ``sampling_rate`` argument to this function. Failing to do so can result in silent errors that might be hard to debug.\n",
      "It is strongly recommended to pass the ``sampling_rate`` argument to this function. Failing to do so can result in silent errors that might be hard to debug.\n",
      "\n",
      "\n",
      "\u001b[A\u001b[AIt is strongly recommended to pass the ``sampling_rate`` argument to this function. Failing to do so can result in silent errors that might be hard to debug.\n",
      "It is strongly recommended to pass the ``sampling_rate`` argument to this function. Failing to do so can result in silent errors that might be hard to debug.\n",
      "It is strongly recommended to pass the ``sampling_rate`` argument to this function. Failing to do so can result in silent errors that might be hard to debug.\n",
      "It is strongly recommended to pass the ``sampling_rate`` argument to this function. Failing to do so can result in silent errors that might be hard to debug.\n"
     ]
    },
    {
     "name": "stdout",
     "output_type": "stream",
     "text": [
      "Setting resample\n",
      "resample sucessfuly set\n",
      "setting speech tensor\n",
      "applying tensor to device\n",
      "applying processor\n",
      "processor applied\n",
      "inputs insured\n",
      "Setting resample\n",
      "resample sucessfuly set\n",
      "setting speech tensor\n",
      "applying tensor to device\n",
      "applying processor\n",
      "processor applied\n",
      "inputs insured\n",
      "Setting resample\n",
      "resample sucessfuly set\n",
      "setting speech tensor\n",
      "applying tensor to device\n",
      "applying processor\n",
      "processor applied\n",
      "inputs insured\n"
     ]
    },
    {
     "name": "stderr",
     "output_type": "stream",
     "text": [
      "\n",
      "\n",
      "\u001b[A\u001b[AIt is strongly recommended to pass the ``sampling_rate`` argument to this function. Failing to do so can result in silent errors that might be hard to debug.\n",
      "It is strongly recommended to pass the ``sampling_rate`` argument to this function. Failing to do so can result in silent errors that might be hard to debug.\n",
      "It is strongly recommended to pass the ``sampling_rate`` argument to this function. Failing to do so can result in silent errors that might be hard to debug.\n",
      "It is strongly recommended to pass the ``sampling_rate`` argument to this function. Failing to do so can result in silent errors that might be hard to debug.\n"
     ]
    },
    {
     "name": "stdout",
     "output_type": "stream",
     "text": [
      "Setting resample\n",
      "resample sucessfuly set\n",
      "setting speech tensor\n",
      "applying tensor to device\n",
      "applying processor\n",
      "processor applied\n",
      "inputs insured\n",
      "Setting resample\n",
      "resample sucessfuly set\n",
      "setting speech tensor\n",
      "applying tensor to device\n",
      "applying processor\n",
      "processor applied\n",
      "inputs insured\n"
     ]
    },
    {
     "name": "stderr",
     "output_type": "stream",
     "text": [
      "\n",
      "\n",
      "\u001b[A\u001b[AIt is strongly recommended to pass the ``sampling_rate`` argument to this function. Failing to do so can result in silent errors that might be hard to debug.\n",
      "It is strongly recommended to pass the ``sampling_rate`` argument to this function. Failing to do so can result in silent errors that might be hard to debug.\n",
      "\n",
      "\n",
      "\u001b[A\u001b[AIt is strongly recommended to pass the ``sampling_rate`` argument to this function. Failing to do so can result in silent errors that might be hard to debug.\n",
      "It is strongly recommended to pass the ``sampling_rate`` argument to this function. Failing to do so can result in silent errors that might be hard to debug.\n"
     ]
    },
    {
     "name": "stdout",
     "output_type": "stream",
     "text": [
      "Setting resample\n",
      "resample sucessfuly set\n",
      "setting speech tensor\n",
      "applying tensor to device\n",
      "applying processor\n",
      "processor applied\n",
      "inputs insured\n",
      "Setting resample\n",
      "resample sucessfuly set\n",
      "setting speech tensor\n",
      "applying tensor to device\n",
      "applying processor\n",
      "processor applied\n",
      "inputs insured\n"
     ]
    },
    {
     "name": "stderr",
     "output_type": "stream",
     "text": [
      "\n",
      "\n",
      "\u001b[A\u001b[AIt is strongly recommended to pass the ``sampling_rate`` argument to this function. Failing to do so can result in silent errors that might be hard to debug.\n",
      "It is strongly recommended to pass the ``sampling_rate`` argument to this function. Failing to do so can result in silent errors that might be hard to debug.\n",
      "It is strongly recommended to pass the ``sampling_rate`` argument to this function. Failing to do so can result in silent errors that might be hard to debug.\n",
      "It is strongly recommended to pass the ``sampling_rate`` argument to this function. Failing to do so can result in silent errors that might be hard to debug.\n",
      "\n",
      "\n",
      "\u001b[A\u001b[AIt is strongly recommended to pass the ``sampling_rate`` argument to this function. Failing to do so can result in silent errors that might be hard to debug.\n",
      "It is strongly recommended to pass the ``sampling_rate`` argument to this function. Failing to do so can result in silent errors that might be hard to debug.\n"
     ]
    },
    {
     "name": "stdout",
     "output_type": "stream",
     "text": [
      "Setting resample\n",
      "resample sucessfuly set\n",
      "setting speech tensor\n",
      "applying tensor to device\n",
      "applying processor\n",
      "processor applied\n",
      "inputs insured\n",
      "Setting resample\n",
      "resample sucessfuly set\n",
      "setting speech tensor\n",
      "applying tensor to device\n",
      "applying processor\n",
      "processor applied\n",
      "inputs insured\n",
      "Setting resample\n",
      "resample sucessfuly set\n",
      "setting speech tensor\n",
      "applying tensor to device\n",
      "applying processor\n",
      "processor applied\n",
      "inputs insured\n"
     ]
    },
    {
     "name": "stderr",
     "output_type": "stream",
     "text": [
      "\n",
      "\n",
      "\u001b[A\u001b[AIt is strongly recommended to pass the ``sampling_rate`` argument to this function. Failing to do so can result in silent errors that might be hard to debug.\n",
      "It is strongly recommended to pass the ``sampling_rate`` argument to this function. Failing to do so can result in silent errors that might be hard to debug.\n",
      "It is strongly recommended to pass the ``sampling_rate`` argument to this function. Failing to do so can result in silent errors that might be hard to debug.\n",
      "It is strongly recommended to pass the ``sampling_rate`` argument to this function. Failing to do so can result in silent errors that might be hard to debug.\n"
     ]
    },
    {
     "name": "stdout",
     "output_type": "stream",
     "text": [
      "Setting resample\n",
      "resample sucessfuly set\n",
      "setting speech tensor\n",
      "applying tensor to device\n",
      "applying processor\n",
      "processor applied\n",
      "inputs insured\n",
      "Setting resample\n",
      "resample sucessfuly set\n",
      "setting speech tensor\n",
      "applying tensor to device\n",
      "applying processor\n",
      "processor applied\n",
      "inputs insured\n"
     ]
    },
    {
     "name": "stderr",
     "output_type": "stream",
     "text": [
      "\n",
      "\n",
      "\u001b[A\u001b[AIt is strongly recommended to pass the ``sampling_rate`` argument to this function. Failing to do so can result in silent errors that might be hard to debug.\n",
      "It is strongly recommended to pass the ``sampling_rate`` argument to this function. Failing to do so can result in silent errors that might be hard to debug.\n",
      "\n",
      "\n",
      "\u001b[A\u001b[AIt is strongly recommended to pass the ``sampling_rate`` argument to this function. Failing to do so can result in silent errors that might be hard to debug.\n",
      "It is strongly recommended to pass the ``sampling_rate`` argument to this function. Failing to do so can result in silent errors that might be hard to debug.\n"
     ]
    },
    {
     "name": "stdout",
     "output_type": "stream",
     "text": [
      "Setting resample\n",
      "resample sucessfuly set\n",
      "setting speech tensor\n",
      "applying tensor to device\n",
      "applying processor\n",
      "processor applied\n",
      "inputs insured\n",
      "Setting resample\n",
      "resample sucessfuly set\n",
      "setting speech tensor\n",
      "applying tensor to device\n",
      "applying processor\n",
      "processor applied\n",
      "inputs insured\n"
     ]
    },
    {
     "name": "stderr",
     "output_type": "stream",
     "text": [
      "\n",
      "\n",
      "\u001b[A\u001b[AIt is strongly recommended to pass the ``sampling_rate`` argument to this function. Failing to do so can result in silent errors that might be hard to debug.\n",
      "It is strongly recommended to pass the ``sampling_rate`` argument to this function. Failing to do so can result in silent errors that might be hard to debug.\n"
     ]
    },
    {
     "name": "stdout",
     "output_type": "stream",
     "text": [
      "Setting resample\n",
      "resample sucessfuly set\n",
      "setting speech tensor\n",
      "applying tensor to device\n",
      "applying processor\n",
      "processor applied\n",
      "inputs insured\n"
     ]
    },
    {
     "name": "stderr",
     "output_type": "stream",
     "text": [
      "\n",
      "\n",
      "\u001b[A\u001b[AIt is strongly recommended to pass the ``sampling_rate`` argument to this function. Failing to do so can result in silent errors that might be hard to debug.\n",
      "It is strongly recommended to pass the ``sampling_rate`` argument to this function. Failing to do so can result in silent errors that might be hard to debug.\n",
      "\n",
      "\n",
      "\u001b[A\u001b[AIt is strongly recommended to pass the ``sampling_rate`` argument to this function. Failing to do so can result in silent errors that might be hard to debug.\n",
      "It is strongly recommended to pass the ``sampling_rate`` argument to this function. Failing to do so can result in silent errors that might be hard to debug.\n"
     ]
    },
    {
     "name": "stdout",
     "output_type": "stream",
     "text": [
      "Setting resample\n",
      "resample sucessfuly set\n",
      "setting speech tensor\n",
      "applying tensor to device\n",
      "applying processor\n",
      "processor applied\n",
      "inputs insured\n",
      "Setting resample\n",
      "resample sucessfuly set\n",
      "setting speech tensor\n",
      "applying tensor to device\n",
      "applying processor\n",
      "processor applied\n",
      "inputs insured\n",
      "Setting resample\n",
      "resample sucessfuly set\n",
      "setting speech tensor\n",
      "applying tensor to device\n",
      "applying processor\n"
     ]
    },
    {
     "name": "stderr",
     "output_type": "stream",
     "text": [
      "It is strongly recommended to pass the ``sampling_rate`` argument to this function. Failing to do so can result in silent errors that might be hard to debug.\n",
      "It is strongly recommended to pass the ``sampling_rate`` argument to this function. Failing to do so can result in silent errors that might be hard to debug.\n",
      "\n",
      "\n",
      "\u001b[A\u001b[AIt is strongly recommended to pass the ``sampling_rate`` argument to this function. Failing to do so can result in silent errors that might be hard to debug.\n",
      "It is strongly recommended to pass the ``sampling_rate`` argument to this function. Failing to do so can result in silent errors that might be hard to debug.\n",
      "It is strongly recommended to pass the ``sampling_rate`` argument to this function. Failing to do so can result in silent errors that might be hard to debug.\n"
     ]
    },
    {
     "name": "stdout",
     "output_type": "stream",
     "text": [
      "processor applied\n",
      "inputs insured\n",
      "Setting resample\n",
      "resample sucessfuly set\n",
      "setting speech tensor\n",
      "applying tensor to device\n",
      "applying processor\n",
      "processor applied\n",
      "inputs insured\n",
      "Setting resample\n",
      "resample sucessfuly set\n",
      "setting speech tensor\n",
      "applying tensor to device\n",
      "applying processor\n"
     ]
    },
    {
     "name": "stderr",
     "output_type": "stream",
     "text": [
      "It is strongly recommended to pass the ``sampling_rate`` argument to this function. Failing to do so can result in silent errors that might be hard to debug.\n",
      "\n",
      "\n",
      "\u001b[A\u001b[AIt is strongly recommended to pass the ``sampling_rate`` argument to this function. Failing to do so can result in silent errors that might be hard to debug.\n",
      "It is strongly recommended to pass the ``sampling_rate`` argument to this function. Failing to do so can result in silent errors that might be hard to debug.\n"
     ]
    },
    {
     "name": "stdout",
     "output_type": "stream",
     "text": [
      "processor applied\n",
      "inputs insured\n",
      "Setting resample\n",
      "resample sucessfuly set\n",
      "setting speech tensor\n",
      "applying tensor to device\n",
      "applying processor\n",
      "processor applied\n",
      "inputs insured\n"
     ]
    },
    {
     "name": "stderr",
     "output_type": "stream",
     "text": [
      "It is strongly recommended to pass the ``sampling_rate`` argument to this function. Failing to do so can result in silent errors that might be hard to debug.\n",
      "It is strongly recommended to pass the ``sampling_rate`` argument to this function. Failing to do so can result in silent errors that might be hard to debug.\n",
      "\n",
      "\n",
      "\u001b[A\u001b[AIt is strongly recommended to pass the ``sampling_rate`` argument to this function. Failing to do so can result in silent errors that might be hard to debug.\n",
      "It is strongly recommended to pass the ``sampling_rate`` argument to this function. Failing to do so can result in silent errors that might be hard to debug.\n"
     ]
    },
    {
     "name": "stdout",
     "output_type": "stream",
     "text": [
      "Setting resample\n",
      "resample sucessfuly set\n",
      "setting speech tensor\n",
      "applying tensor to device\n",
      "applying processor\n",
      "processor applied\n",
      "inputs insured\n",
      "Setting resample\n",
      "resample sucessfuly set\n",
      "setting speech tensor\n",
      "applying tensor to device\n",
      "applying processor\n",
      "processor applied\n",
      "inputs insured\n"
     ]
    },
    {
     "name": "stderr",
     "output_type": "stream",
     "text": [
      "\n",
      "\n",
      "\u001b[A\u001b[AIt is strongly recommended to pass the ``sampling_rate`` argument to this function. Failing to do so can result in silent errors that might be hard to debug.\n",
      "It is strongly recommended to pass the ``sampling_rate`` argument to this function. Failing to do so can result in silent errors that might be hard to debug.\n",
      "\n",
      "\n",
      "\u001b[A\u001b[AIt is strongly recommended to pass the ``sampling_rate`` argument to this function. Failing to do so can result in silent errors that might be hard to debug.\n",
      "It is strongly recommended to pass the ``sampling_rate`` argument to this function. Failing to do so can result in silent errors that might be hard to debug.\n"
     ]
    },
    {
     "name": "stdout",
     "output_type": "stream",
     "text": [
      "Setting resample\n",
      "resample sucessfuly set\n",
      "setting speech tensor\n",
      "applying tensor to device\n",
      "applying processor\n",
      "processor applied\n",
      "inputs insured\n",
      "Setting resample\n",
      "resample sucessfuly set\n",
      "setting speech tensor\n",
      "applying tensor to device\n",
      "applying processor\n",
      "processor applied\n",
      "inputs insured\n"
     ]
    },
    {
     "name": "stderr",
     "output_type": "stream",
     "text": [
      "It is strongly recommended to pass the ``sampling_rate`` argument to this function. Failing to do so can result in silent errors that might be hard to debug.\n",
      "It is strongly recommended to pass the ``sampling_rate`` argument to this function. Failing to do so can result in silent errors that might be hard to debug.\n",
      "\n",
      "\n",
      "\u001b[A\u001b[AIt is strongly recommended to pass the ``sampling_rate`` argument to this function. Failing to do so can result in silent errors that might be hard to debug.\n",
      "It is strongly recommended to pass the ``sampling_rate`` argument to this function. Failing to do so can result in silent errors that might be hard to debug.\n"
     ]
    },
    {
     "name": "stdout",
     "output_type": "stream",
     "text": [
      "Setting resample\n",
      "resample sucessfuly set\n",
      "setting speech tensor\n",
      "applying tensor to device\n",
      "applying processor\n",
      "processor applied\n",
      "inputs insured\n",
      "Setting resample\n",
      "resample sucessfuly set\n",
      "setting speech tensor\n",
      "applying tensor to device\n",
      "applying processor\n",
      "processor applied\n",
      "inputs insured\n"
     ]
    },
    {
     "name": "stderr",
     "output_type": "stream",
     "text": [
      "\n",
      "\n",
      "\u001b[A\u001b[AIt is strongly recommended to pass the ``sampling_rate`` argument to this function. Failing to do so can result in silent errors that might be hard to debug.\n",
      "It is strongly recommended to pass the ``sampling_rate`` argument to this function. Failing to do so can result in silent errors that might be hard to debug.\n"
     ]
    },
    {
     "name": "stdout",
     "output_type": "stream",
     "text": [
      "Setting resample\n",
      "resample sucessfuly set\n",
      "setting speech tensor\n",
      "applying tensor to device\n",
      "applying processor\n",
      "processor applied\n",
      "inputs insured\n"
     ]
    },
    {
     "name": "stderr",
     "output_type": "stream",
     "text": [
      "\n",
      "\n",
      "\u001b[A\u001b[AIt is strongly recommended to pass the ``sampling_rate`` argument to this function. Failing to do so can result in silent errors that might be hard to debug.\n",
      "It is strongly recommended to pass the ``sampling_rate`` argument to this function. Failing to do so can result in silent errors that might be hard to debug.\n",
      "It is strongly recommended to pass the ``sampling_rate`` argument to this function. Failing to do so can result in silent errors that might be hard to debug.\n",
      "It is strongly recommended to pass the ``sampling_rate`` argument to this function. Failing to do so can result in silent errors that might be hard to debug.\n"
     ]
    },
    {
     "name": "stdout",
     "output_type": "stream",
     "text": [
      "Setting resample\n",
      "resample sucessfuly set\n",
      "setting speech tensor\n",
      "applying tensor to device\n",
      "applying processor\n",
      "processor applied\n",
      "inputs insured\n",
      "Setting resample\n",
      "resample sucessfuly set\n",
      "setting speech tensor\n",
      "applying tensor to device\n",
      "applying processor\n",
      "processor applied\n",
      "inputs insured\n"
     ]
    },
    {
     "name": "stderr",
     "output_type": "stream",
     "text": [
      "\n",
      "\n",
      "\u001b[A\u001b[AIt is strongly recommended to pass the ``sampling_rate`` argument to this function. Failing to do so can result in silent errors that might be hard to debug.\n",
      "It is strongly recommended to pass the ``sampling_rate`` argument to this function. Failing to do so can result in silent errors that might be hard to debug.\n",
      "It is strongly recommended to pass the ``sampling_rate`` argument to this function. Failing to do so can result in silent errors that might be hard to debug.\n",
      "It is strongly recommended to pass the ``sampling_rate`` argument to this function. Failing to do so can result in silent errors that might be hard to debug.\n",
      "\n",
      "\n",
      "\u001b[A\u001b[AIt is strongly recommended to pass the ``sampling_rate`` argument to this function. Failing to do so can result in silent errors that might be hard to debug.\n",
      "It is strongly recommended to pass the ``sampling_rate`` argument to this function. Failing to do so can result in silent errors that might be hard to debug.\n"
     ]
    },
    {
     "name": "stdout",
     "output_type": "stream",
     "text": [
      "Setting resample\n",
      "resample sucessfuly set\n",
      "setting speech tensor\n",
      "applying tensor to device\n",
      "applying processor\n",
      "processor applied\n",
      "inputs insured\n",
      "Setting resample\n",
      "resample sucessfuly set\n",
      "setting speech tensor\n",
      "applying tensor to device\n",
      "applying processor\n",
      "processor applied\n",
      "inputs insured\n",
      "Setting resample\n",
      "resample sucessfuly set\n",
      "setting speech tensor\n",
      "applying tensor to device\n",
      "applying processor\n",
      "processor applied\n",
      "inputs insured\n"
     ]
    },
    {
     "name": "stderr",
     "output_type": "stream",
     "text": [
      "It is strongly recommended to pass the ``sampling_rate`` argument to this function. Failing to do so can result in silent errors that might be hard to debug.\n",
      "It is strongly recommended to pass the ``sampling_rate`` argument to this function. Failing to do so can result in silent errors that might be hard to debug.\n",
      "\n",
      "\n",
      "\u001b[A\u001b[AIt is strongly recommended to pass the ``sampling_rate`` argument to this function. Failing to do so can result in silent errors that might be hard to debug.\n",
      "It is strongly recommended to pass the ``sampling_rate`` argument to this function. Failing to do so can result in silent errors that might be hard to debug.\n"
     ]
    },
    {
     "name": "stdout",
     "output_type": "stream",
     "text": [
      "Setting resample\n",
      "resample sucessfuly set\n",
      "setting speech tensor\n",
      "applying tensor to device\n",
      "applying processor\n",
      "processor applied\n",
      "inputs insured\n",
      "Setting resample\n",
      "resample sucessfuly set\n",
      "setting speech tensor\n",
      "applying tensor to device\n",
      "applying processor\n",
      "processor applied\n",
      "inputs insured\n"
     ]
    },
    {
     "name": "stderr",
     "output_type": "stream",
     "text": [
      "It is strongly recommended to pass the ``sampling_rate`` argument to this function. Failing to do so can result in silent errors that might be hard to debug.\n",
      "It is strongly recommended to pass the ``sampling_rate`` argument to this function. Failing to do so can result in silent errors that might be hard to debug.\n",
      "\n",
      "\n",
      "\u001b[A\u001b[AIt is strongly recommended to pass the ``sampling_rate`` argument to this function. Failing to do so can result in silent errors that might be hard to debug.\n"
     ]
    },
    {
     "name": "stdout",
     "output_type": "stream",
     "text": [
      "Setting resample\n",
      "resample sucessfuly set\n",
      "setting speech tensor\n",
      "applying tensor to device\n",
      "applying processor\n",
      "processor applied\n",
      "inputs insured\n",
      "Setting resample\n",
      "resample sucessfuly set\n",
      "setting speech tensor\n",
      "applying tensor to device\n",
      "applying processor\n"
     ]
    },
    {
     "name": "stderr",
     "output_type": "stream",
     "text": [
      "It is strongly recommended to pass the ``sampling_rate`` argument to this function. Failing to do so can result in silent errors that might be hard to debug.\n",
      "\n",
      "\n",
      "\u001b[A\u001b[AIt is strongly recommended to pass the ``sampling_rate`` argument to this function. Failing to do so can result in silent errors that might be hard to debug.\n",
      "It is strongly recommended to pass the ``sampling_rate`` argument to this function. Failing to do so can result in silent errors that might be hard to debug.\n"
     ]
    },
    {
     "name": "stdout",
     "output_type": "stream",
     "text": [
      "processor applied\n",
      "inputs insured\n",
      "Setting resample\n",
      "resample sucessfuly set\n",
      "setting speech tensor\n",
      "applying tensor to device\n",
      "applying processor\n",
      "processor applied\n",
      "inputs insured\n"
     ]
    },
    {
     "name": "stderr",
     "output_type": "stream",
     "text": [
      "It is strongly recommended to pass the ``sampling_rate`` argument to this function. Failing to do so can result in silent errors that might be hard to debug.\n",
      "It is strongly recommended to pass the ``sampling_rate`` argument to this function. Failing to do so can result in silent errors that might be hard to debug.\n",
      "\n",
      "\n",
      "\u001b[A\u001b[AIt is strongly recommended to pass the ``sampling_rate`` argument to this function. Failing to do so can result in silent errors that might be hard to debug.\n",
      "It is strongly recommended to pass the ``sampling_rate`` argument to this function. Failing to do so can result in silent errors that might be hard to debug.\n"
     ]
    },
    {
     "name": "stdout",
     "output_type": "stream",
     "text": [
      "Setting resample\n",
      "resample sucessfuly set\n",
      "setting speech tensor\n",
      "applying tensor to device\n",
      "applying processor\n",
      "processor applied\n",
      "inputs insured\n",
      "Setting resample\n",
      "resample sucessfuly set\n",
      "setting speech tensor\n",
      "applying tensor to device\n",
      "applying processor\n",
      "processor applied\n",
      "inputs insured\n"
     ]
    },
    {
     "name": "stderr",
     "output_type": "stream",
     "text": [
      "\n",
      "\n",
      "\u001b[A\u001b[AIt is strongly recommended to pass the ``sampling_rate`` argument to this function. Failing to do so can result in silent errors that might be hard to debug.\n",
      "It is strongly recommended to pass the ``sampling_rate`` argument to this function. Failing to do so can result in silent errors that might be hard to debug.\n",
      "\n",
      "\n",
      "\u001b[A\u001b[AIt is strongly recommended to pass the ``sampling_rate`` argument to this function. Failing to do so can result in silent errors that might be hard to debug.\n",
      "It is strongly recommended to pass the ``sampling_rate`` argument to this function. Failing to do so can result in silent errors that might be hard to debug.\n"
     ]
    },
    {
     "name": "stdout",
     "output_type": "stream",
     "text": [
      "Setting resample\n",
      "resample sucessfuly set\n",
      "setting speech tensor\n",
      "applying tensor to device\n",
      "applying processor\n",
      "processor applied\n",
      "inputs insured\n",
      "Setting resample\n",
      "resample sucessfuly set\n",
      "setting speech tensor\n",
      "applying tensor to device\n",
      "applying processor\n",
      "processor applied\n",
      "inputs insured\n"
     ]
    },
    {
     "name": "stderr",
     "output_type": "stream",
     "text": [
      "It is strongly recommended to pass the ``sampling_rate`` argument to this function. Failing to do so can result in silent errors that might be hard to debug.\n",
      "It is strongly recommended to pass the ``sampling_rate`` argument to this function. Failing to do so can result in silent errors that might be hard to debug.\n",
      "\n",
      "\n",
      "\u001b[A\u001b[AIt is strongly recommended to pass the ``sampling_rate`` argument to this function. Failing to do so can result in silent errors that might be hard to debug.\n",
      "It is strongly recommended to pass the ``sampling_rate`` argument to this function. Failing to do so can result in silent errors that might be hard to debug.\n",
      "It is strongly recommended to pass the ``sampling_rate`` argument to this function. Failing to do so can result in silent errors that might be hard to debug.\n",
      "It is strongly recommended to pass the ``sampling_rate`` argument to this function. Failing to do so can result in silent errors that might be hard to debug.\n"
     ]
    },
    {
     "name": "stdout",
     "output_type": "stream",
     "text": [
      "Setting resample\n",
      "resample sucessfuly set\n",
      "setting speech tensor\n",
      "applying tensor to device\n",
      "applying processor\n",
      "processor applied\n",
      "inputs insured\n",
      "Setting resample\n",
      "resample sucessfuly set\n",
      "setting speech tensor\n",
      "applying tensor to device\n",
      "applying processor\n",
      "processor applied\n",
      "inputs insured\n",
      "Setting resample\n",
      "resample sucessfuly set\n",
      "setting speech tensor\n",
      "applying tensor to device\n",
      "applying processor\n",
      "processor applied\n",
      "inputs insured\n"
     ]
    },
    {
     "name": "stderr",
     "output_type": "stream",
     "text": [
      "\n",
      "\n",
      "\u001b[A\u001b[AIt is strongly recommended to pass the ``sampling_rate`` argument to this function. Failing to do so can result in silent errors that might be hard to debug.\n",
      "It is strongly recommended to pass the ``sampling_rate`` argument to this function. Failing to do so can result in silent errors that might be hard to debug.\n"
     ]
    },
    {
     "name": "stdout",
     "output_type": "stream",
     "text": [
      "Setting resample\n",
      "resample sucessfuly set\n",
      "setting speech tensor\n",
      "applying tensor to device\n",
      "applying processor\n",
      "processor applied\n",
      "inputs insured\n"
     ]
    },
    {
     "name": "stderr",
     "output_type": "stream",
     "text": [
      "It is strongly recommended to pass the ``sampling_rate`` argument to this function. Failing to do so can result in silent errors that might be hard to debug.\n",
      "It is strongly recommended to pass the ``sampling_rate`` argument to this function. Failing to do so can result in silent errors that might be hard to debug.\n",
      "\n",
      "\n",
      "\u001b[A\u001b[AIt is strongly recommended to pass the ``sampling_rate`` argument to this function. Failing to do so can result in silent errors that might be hard to debug.\n",
      "It is strongly recommended to pass the ``sampling_rate`` argument to this function. Failing to do so can result in silent errors that might be hard to debug.\n"
     ]
    },
    {
     "name": "stdout",
     "output_type": "stream",
     "text": [
      "Setting resample\n",
      "resample sucessfuly set\n",
      "setting speech tensor\n",
      "applying tensor to device\n",
      "applying processor\n",
      "processor applied\n",
      "inputs insured\n",
      "Setting resample\n",
      "resample sucessfuly set\n",
      "setting speech tensor\n",
      "applying tensor to device\n",
      "applying processor\n",
      "processor applied\n",
      "inputs insured\n"
     ]
    },
    {
     "name": "stderr",
     "output_type": "stream",
     "text": [
      "It is strongly recommended to pass the ``sampling_rate`` argument to this function. Failing to do so can result in silent errors that might be hard to debug.\n",
      "It is strongly recommended to pass the ``sampling_rate`` argument to this function. Failing to do so can result in silent errors that might be hard to debug.\n",
      "\n",
      "\n",
      "\u001b[A\u001b[AIt is strongly recommended to pass the ``sampling_rate`` argument to this function. Failing to do so can result in silent errors that might be hard to debug.\n",
      "It is strongly recommended to pass the ``sampling_rate`` argument to this function. Failing to do so can result in silent errors that might be hard to debug.\n"
     ]
    },
    {
     "name": "stdout",
     "output_type": "stream",
     "text": [
      "Setting resample\n",
      "resample sucessfuly set\n",
      "setting speech tensor\n",
      "applying tensor to device\n",
      "applying processor\n",
      "processor applied\n",
      "inputs insured\n",
      "Setting resample\n",
      "resample sucessfuly set\n",
      "setting speech tensor\n",
      "applying tensor to device\n",
      "applying processor\n",
      "processor applied\n",
      "inputs insured\n"
     ]
    },
    {
     "name": "stderr",
     "output_type": "stream",
     "text": [
      "\n",
      "\n",
      "\u001b[A\u001b[AIt is strongly recommended to pass the ``sampling_rate`` argument to this function. Failing to do so can result in silent errors that might be hard to debug.\n",
      "It is strongly recommended to pass the ``sampling_rate`` argument to this function. Failing to do so can result in silent errors that might be hard to debug.\n",
      "\n",
      "\n",
      "\u001b[A\u001b[AIt is strongly recommended to pass the ``sampling_rate`` argument to this function. Failing to do so can result in silent errors that might be hard to debug.\n",
      "It is strongly recommended to pass the ``sampling_rate`` argument to this function. Failing to do so can result in silent errors that might be hard to debug.\n"
     ]
    },
    {
     "name": "stdout",
     "output_type": "stream",
     "text": [
      "Setting resample\n",
      "resample sucessfuly set\n",
      "setting speech tensor\n",
      "applying tensor to device\n",
      "applying processor\n",
      "processor applied\n",
      "inputs insured\n",
      "Setting resample\n",
      "resample sucessfuly set\n",
      "setting speech tensor\n",
      "applying tensor to device\n",
      "applying processor\n",
      "processor applied\n",
      "inputs insured\n"
     ]
    },
    {
     "name": "stderr",
     "output_type": "stream",
     "text": [
      "\n",
      "\n",
      "\u001b[A\u001b[AIt is strongly recommended to pass the ``sampling_rate`` argument to this function. Failing to do so can result in silent errors that might be hard to debug.\n",
      "It is strongly recommended to pass the ``sampling_rate`` argument to this function. Failing to do so can result in silent errors that might be hard to debug.\n",
      "It is strongly recommended to pass the ``sampling_rate`` argument to this function. Failing to do so can result in silent errors that might be hard to debug.\n",
      "It is strongly recommended to pass the ``sampling_rate`` argument to this function. Failing to do so can result in silent errors that might be hard to debug.\n"
     ]
    },
    {
     "name": "stdout",
     "output_type": "stream",
     "text": [
      "Setting resample\n",
      "resample sucessfuly set\n",
      "setting speech tensor\n",
      "applying tensor to device\n",
      "applying processor\n",
      "processor applied\n",
      "inputs insured\n",
      "Setting resample\n",
      "resample sucessfuly set\n",
      "setting speech tensor\n",
      "applying tensor to device\n",
      "applying processor\n",
      "processor applied\n",
      "inputs insured\n"
     ]
    },
    {
     "name": "stderr",
     "output_type": "stream",
     "text": [
      "\n",
      "\n",
      "\u001b[A\u001b[AIt is strongly recommended to pass the ``sampling_rate`` argument to this function. Failing to do so can result in silent errors that might be hard to debug.\n",
      "It is strongly recommended to pass the ``sampling_rate`` argument to this function. Failing to do so can result in silent errors that might be hard to debug.\n",
      "It is strongly recommended to pass the ``sampling_rate`` argument to this function. Failing to do so can result in silent errors that might be hard to debug.\n",
      "It is strongly recommended to pass the ``sampling_rate`` argument to this function. Failing to do so can result in silent errors that might be hard to debug.\n",
      "\n",
      "\n",
      "\u001b[A\u001b[AIt is strongly recommended to pass the ``sampling_rate`` argument to this function. Failing to do so can result in silent errors that might be hard to debug.\n",
      "It is strongly recommended to pass the ``sampling_rate`` argument to this function. Failing to do so can result in silent errors that might be hard to debug.\n"
     ]
    },
    {
     "name": "stdout",
     "output_type": "stream",
     "text": [
      "Setting resample\n",
      "resample sucessfuly set\n",
      "setting speech tensor\n",
      "applying tensor to device\n",
      "applying processor\n",
      "processor applied\n",
      "inputs insured\n",
      "Setting resample\n",
      "resample sucessfuly set\n",
      "setting speech tensor\n",
      "applying tensor to device\n",
      "applying processor\n",
      "processor applied\n",
      "inputs insured\n",
      "Setting resample\n",
      "resample sucessfuly set\n",
      "setting speech tensor\n",
      "applying tensor to device\n",
      "applying processor\n",
      "processor applied\n",
      "inputs insured\n"
     ]
    },
    {
     "name": "stderr",
     "output_type": "stream",
     "text": [
      "It is strongly recommended to pass the ``sampling_rate`` argument to this function. Failing to do so can result in silent errors that might be hard to debug.\n",
      "It is strongly recommended to pass the ``sampling_rate`` argument to this function. Failing to do so can result in silent errors that might be hard to debug.\n",
      "\n",
      "\n",
      "\u001b[A\u001b[AIt is strongly recommended to pass the ``sampling_rate`` argument to this function. Failing to do so can result in silent errors that might be hard to debug.\n",
      "It is strongly recommended to pass the ``sampling_rate`` argument to this function. Failing to do so can result in silent errors that might be hard to debug.\n"
     ]
    },
    {
     "name": "stdout",
     "output_type": "stream",
     "text": [
      "Setting resample\n",
      "resample sucessfuly set\n",
      "setting speech tensor\n",
      "applying tensor to device\n",
      "applying processor\n",
      "processor applied\n",
      "inputs insured\n",
      "Setting resample\n",
      "resample sucessfuly set\n",
      "setting speech tensor\n",
      "applying tensor to device\n",
      "applying processor\n",
      "processor applied\n",
      "inputs insured\n"
     ]
    },
    {
     "name": "stderr",
     "output_type": "stream",
     "text": [
      "\n",
      "\n",
      "\u001b[A\u001b[AIt is strongly recommended to pass the ``sampling_rate`` argument to this function. Failing to do so can result in silent errors that might be hard to debug.\n",
      "It is strongly recommended to pass the ``sampling_rate`` argument to this function. Failing to do so can result in silent errors that might be hard to debug.\n",
      "\n",
      "\n",
      "\u001b[A\u001b[AIt is strongly recommended to pass the ``sampling_rate`` argument to this function. Failing to do so can result in silent errors that might be hard to debug.\n"
     ]
    },
    {
     "name": "stdout",
     "output_type": "stream",
     "text": [
      "Setting resample\n",
      "resample sucessfuly set\n",
      "setting speech tensor\n",
      "applying tensor to device\n",
      "applying processor\n",
      "processor applied\n",
      "inputs insured\n",
      "Setting resample\n",
      "resample sucessfuly set\n",
      "setting speech tensor\n",
      "applying tensor to device\n",
      "applying processor\n"
     ]
    },
    {
     "name": "stderr",
     "output_type": "stream",
     "text": [
      "It is strongly recommended to pass the ``sampling_rate`` argument to this function. Failing to do so can result in silent errors that might be hard to debug.\n",
      "It is strongly recommended to pass the ``sampling_rate`` argument to this function. Failing to do so can result in silent errors that might be hard to debug.\n",
      "It is strongly recommended to pass the ``sampling_rate`` argument to this function. Failing to do so can result in silent errors that might be hard to debug.\n",
      "\n",
      "\n",
      "\u001b[A\u001b[AIt is strongly recommended to pass the ``sampling_rate`` argument to this function. Failing to do so can result in silent errors that might be hard to debug.\n",
      "It is strongly recommended to pass the ``sampling_rate`` argument to this function. Failing to do so can result in silent errors that might be hard to debug.\n"
     ]
    },
    {
     "name": "stdout",
     "output_type": "stream",
     "text": [
      "processor applied\n",
      "inputs insured\n",
      "Setting resample\n",
      "resample sucessfuly set\n",
      "setting speech tensor\n",
      "applying tensor to device\n",
      "applying processor\n",
      "processor applied\n",
      "inputs insured\n",
      "Setting resample\n",
      "resample sucessfuly set\n",
      "setting speech tensor\n",
      "applying tensor to device\n",
      "applying processor\n",
      "processor applied\n",
      "inputs insured\n"
     ]
    },
    {
     "name": "stderr",
     "output_type": "stream",
     "text": [
      "It is strongly recommended to pass the ``sampling_rate`` argument to this function. Failing to do so can result in silent errors that might be hard to debug.\n",
      "It is strongly recommended to pass the ``sampling_rate`` argument to this function. Failing to do so can result in silent errors that might be hard to debug.\n",
      "\n",
      "\n",
      "\u001b[A\u001b[AIt is strongly recommended to pass the ``sampling_rate`` argument to this function. Failing to do so can result in silent errors that might be hard to debug.\n",
      "It is strongly recommended to pass the ``sampling_rate`` argument to this function. Failing to do so can result in silent errors that might be hard to debug.\n",
      "It is strongly recommended to pass the ``sampling_rate`` argument to this function. Failing to do so can result in silent errors that might be hard to debug.\n",
      "It is strongly recommended to pass the ``sampling_rate`` argument to this function. Failing to do so can result in silent errors that might be hard to debug.\n",
      "\n",
      "\n",
      "\u001b[A\u001b[A"
     ]
    },
    {
     "name": "stdout",
     "output_type": "stream",
     "text": [
      "Setting resample\n",
      "resample sucessfuly set\n",
      "setting speech tensor\n",
      "applying tensor to device\n",
      "applying processor\n",
      "processor applied\n",
      "inputs insured\n",
      "Setting resample\n",
      "resample sucessfuly set\n",
      "setting speech tensor\n",
      "applying tensor to device\n",
      "applying processor\n",
      "processor applied\n",
      "inputs insured\n",
      "Setting resample\n",
      "resample sucessfuly set\n",
      "setting speech tensor\n",
      "applying tensor to device\n",
      "applying processor\n",
      "processor applied\n",
      "inputs insured\n"
     ]
    },
    {
     "name": "stderr",
     "output_type": "stream",
     "text": [
      "It is strongly recommended to pass the ``sampling_rate`` argument to this function. Failing to do so can result in silent errors that might be hard to debug.\n",
      "It is strongly recommended to pass the ``sampling_rate`` argument to this function. Failing to do so can result in silent errors that might be hard to debug.\n",
      "It is strongly recommended to pass the ``sampling_rate`` argument to this function. Failing to do so can result in silent errors that might be hard to debug.\n",
      "It is strongly recommended to pass the ``sampling_rate`` argument to this function. Failing to do so can result in silent errors that might be hard to debug.\n"
     ]
    },
    {
     "name": "stdout",
     "output_type": "stream",
     "text": [
      "Setting resample\n",
      "resample sucessfuly set\n",
      "setting speech tensor\n",
      "applying tensor to device\n",
      "applying processor\n",
      "processor applied\n",
      "inputs insured\n",
      "Setting resample\n",
      "resample sucessfuly set\n",
      "setting speech tensor\n",
      "applying tensor to device\n",
      "applying processor\n",
      "processor applied\n",
      "inputs insured\n"
     ]
    },
    {
     "name": "stderr",
     "output_type": "stream",
     "text": [
      "\n",
      "\n",
      "\u001b[A\u001b[AIt is strongly recommended to pass the ``sampling_rate`` argument to this function. Failing to do so can result in silent errors that might be hard to debug.\n",
      "It is strongly recommended to pass the ``sampling_rate`` argument to this function. Failing to do so can result in silent errors that might be hard to debug.\n",
      "It is strongly recommended to pass the ``sampling_rate`` argument to this function. Failing to do so can result in silent errors that might be hard to debug.\n",
      "It is strongly recommended to pass the ``sampling_rate`` argument to this function. Failing to do so can result in silent errors that might be hard to debug.\n"
     ]
    },
    {
     "name": "stdout",
     "output_type": "stream",
     "text": [
      "Setting resample\n",
      "resample sucessfuly set\n",
      "setting speech tensor\n",
      "applying tensor to device\n",
      "applying processor\n",
      "processor applied\n",
      "inputs insured\n",
      "Setting resample\n",
      "resample sucessfuly set\n",
      "setting speech tensor\n",
      "applying tensor to device\n",
      "applying processor\n",
      "processor applied\n",
      "inputs insured\n"
     ]
    },
    {
     "name": "stderr",
     "output_type": "stream",
     "text": [
      "\n",
      "\n",
      "\u001b[A\u001b[AIt is strongly recommended to pass the ``sampling_rate`` argument to this function. Failing to do so can result in silent errors that might be hard to debug.\n",
      "It is strongly recommended to pass the ``sampling_rate`` argument to this function. Failing to do so can result in silent errors that might be hard to debug.\n",
      "It is strongly recommended to pass the ``sampling_rate`` argument to this function. Failing to do so can result in silent errors that might be hard to debug.\n",
      "It is strongly recommended to pass the ``sampling_rate`` argument to this function. Failing to do so can result in silent errors that might be hard to debug.\n",
      "\n",
      "\n",
      "\u001b[A\u001b[AIt is strongly recommended to pass the ``sampling_rate`` argument to this function. Failing to do so can result in silent errors that might be hard to debug.\n",
      "It is strongly recommended to pass the ``sampling_rate`` argument to this function. Failing to do so can result in silent errors that might be hard to debug.\n"
     ]
    },
    {
     "name": "stdout",
     "output_type": "stream",
     "text": [
      "Setting resample\n",
      "resample sucessfuly set\n",
      "setting speech tensor\n",
      "applying tensor to device\n",
      "applying processor\n",
      "processor applied\n",
      "inputs insured\n",
      "Setting resample\n",
      "resample sucessfuly set\n",
      "setting speech tensor\n",
      "applying tensor to device\n",
      "applying processor\n",
      "processor applied\n",
      "inputs insured\n",
      "Setting resample\n",
      "resample sucessfuly set\n",
      "setting speech tensor\n",
      "applying tensor to device\n",
      "applying processor\n",
      "processor applied\n",
      "inputs insured\n"
     ]
    },
    {
     "name": "stderr",
     "output_type": "stream",
     "text": [
      "It is strongly recommended to pass the ``sampling_rate`` argument to this function. Failing to do so can result in silent errors that might be hard to debug.\n",
      "It is strongly recommended to pass the ``sampling_rate`` argument to this function. Failing to do so can result in silent errors that might be hard to debug.\n",
      "\n",
      "\n",
      "\u001b[A\u001b[AIt is strongly recommended to pass the ``sampling_rate`` argument to this function. Failing to do so can result in silent errors that might be hard to debug.\n",
      "It is strongly recommended to pass the ``sampling_rate`` argument to this function. Failing to do so can result in silent errors that might be hard to debug.\n"
     ]
    },
    {
     "name": "stdout",
     "output_type": "stream",
     "text": [
      "Setting resample\n",
      "resample sucessfuly set\n",
      "setting speech tensor\n",
      "applying tensor to device\n",
      "applying processor\n",
      "processor applied\n",
      "inputs insured\n",
      "Setting resample\n",
      "resample sucessfuly set\n",
      "setting speech tensor\n",
      "applying tensor to device\n",
      "applying processor\n",
      "processor applied\n",
      "inputs insured\n"
     ]
    },
    {
     "name": "stderr",
     "output_type": "stream",
     "text": [
      "It is strongly recommended to pass the ``sampling_rate`` argument to this function. Failing to do so can result in silent errors that might be hard to debug.\n",
      "It is strongly recommended to pass the ``sampling_rate`` argument to this function. Failing to do so can result in silent errors that might be hard to debug.\n",
      "\n",
      "\n",
      "\u001b[A\u001b[AIt is strongly recommended to pass the ``sampling_rate`` argument to this function. Failing to do so can result in silent errors that might be hard to debug.\n",
      "It is strongly recommended to pass the ``sampling_rate`` argument to this function. Failing to do so can result in silent errors that might be hard to debug.\n"
     ]
    },
    {
     "name": "stdout",
     "output_type": "stream",
     "text": [
      "Setting resample\n",
      "resample sucessfuly set\n",
      "setting speech tensor\n",
      "applying tensor to device\n",
      "applying processor\n",
      "processor applied\n",
      "inputs insured\n",
      "Setting resample\n",
      "resample sucessfuly set\n",
      "setting speech tensor\n",
      "applying tensor to device\n",
      "applying processor\n",
      "processor applied\n",
      "inputs insured\n"
     ]
    },
    {
     "name": "stderr",
     "output_type": "stream",
     "text": [
      "\n",
      "\n",
      "\u001b[A\u001b[AIt is strongly recommended to pass the ``sampling_rate`` argument to this function. Failing to do so can result in silent errors that might be hard to debug.\n",
      "It is strongly recommended to pass the ``sampling_rate`` argument to this function. Failing to do so can result in silent errors that might be hard to debug.\n",
      "\n",
      "\n",
      "\u001b[A\u001b[AIt is strongly recommended to pass the ``sampling_rate`` argument to this function. Failing to do so can result in silent errors that might be hard to debug.\n",
      "It is strongly recommended to pass the ``sampling_rate`` argument to this function. Failing to do so can result in silent errors that might be hard to debug.\n"
     ]
    },
    {
     "name": "stdout",
     "output_type": "stream",
     "text": [
      "Setting resample\n",
      "resample sucessfuly set\n",
      "setting speech tensor\n",
      "applying tensor to device\n",
      "applying processor\n",
      "processor applied\n",
      "inputs insured\n",
      "Setting resample\n",
      "resample sucessfuly set\n",
      "setting speech tensor\n",
      "applying tensor to device\n",
      "applying processor\n",
      "processor applied\n",
      "inputs insured\n"
     ]
    },
    {
     "name": "stderr",
     "output_type": "stream",
     "text": [
      "\n",
      "\n",
      "\u001b[A\u001b[AIt is strongly recommended to pass the ``sampling_rate`` argument to this function. Failing to do so can result in silent errors that might be hard to debug.\n",
      "It is strongly recommended to pass the ``sampling_rate`` argument to this function. Failing to do so can result in silent errors that might be hard to debug.\n",
      "It is strongly recommended to pass the ``sampling_rate`` argument to this function. Failing to do so can result in silent errors that might be hard to debug.\n",
      "It is strongly recommended to pass the ``sampling_rate`` argument to this function. Failing to do so can result in silent errors that might be hard to debug.\n",
      "\n",
      "\n",
      "\u001b[A\u001b[AIt is strongly recommended to pass the ``sampling_rate`` argument to this function. Failing to do so can result in silent errors that might be hard to debug.\n",
      "It is strongly recommended to pass the ``sampling_rate`` argument to this function. Failing to do so can result in silent errors that might be hard to debug.\n"
     ]
    },
    {
     "name": "stdout",
     "output_type": "stream",
     "text": [
      "Setting resample\n",
      "resample sucessfuly set\n",
      "setting speech tensor\n",
      "applying tensor to device\n",
      "applying processor\n",
      "processor applied\n",
      "inputs insured\n",
      "Setting resample\n",
      "resample sucessfuly set\n",
      "setting speech tensor\n",
      "applying tensor to device\n",
      "applying processor\n",
      "processor applied\n",
      "inputs insured\n",
      "Setting resample\n",
      "resample sucessfuly set\n",
      "setting speech tensor\n",
      "applying tensor to device\n",
      "applying processor\n",
      "processor applied\n",
      "inputs insured\n"
     ]
    },
    {
     "name": "stderr",
     "output_type": "stream",
     "text": [
      "It is strongly recommended to pass the ``sampling_rate`` argument to this function. Failing to do so can result in silent errors that might be hard to debug.\n",
      "It is strongly recommended to pass the ``sampling_rate`` argument to this function. Failing to do so can result in silent errors that might be hard to debug.\n"
     ]
    },
    {
     "name": "stdout",
     "output_type": "stream",
     "text": [
      "Setting resample\n",
      "resample sucessfuly set\n",
      "setting speech tensor\n",
      "applying tensor to device\n",
      "applying processor\n",
      "processor applied\n",
      "inputs insured\n"
     ]
    },
    {
     "name": "stderr",
     "output_type": "stream",
     "text": [
      "\n",
      "\n",
      "\u001b[A\u001b[AIt is strongly recommended to pass the ``sampling_rate`` argument to this function. Failing to do so can result in silent errors that might be hard to debug.\n",
      "It is strongly recommended to pass the ``sampling_rate`` argument to this function. Failing to do so can result in silent errors that might be hard to debug.\n",
      "\n",
      "\n",
      "\u001b[A\u001b[AIt is strongly recommended to pass the ``sampling_rate`` argument to this function. Failing to do so can result in silent errors that might be hard to debug.\n",
      "It is strongly recommended to pass the ``sampling_rate`` argument to this function. Failing to do so can result in silent errors that might be hard to debug.\n"
     ]
    },
    {
     "name": "stdout",
     "output_type": "stream",
     "text": [
      "Setting resample\n",
      "resample sucessfuly set\n",
      "setting speech tensor\n",
      "applying tensor to device\n",
      "applying processor\n",
      "processor applied\n",
      "inputs insured\n",
      "Setting resample\n",
      "resample sucessfuly set\n",
      "setting speech tensor\n",
      "applying tensor to device\n",
      "applying processor\n",
      "processor applied\n",
      "inputs insured\n"
     ]
    },
    {
     "name": "stderr",
     "output_type": "stream",
     "text": [
      "It is strongly recommended to pass the ``sampling_rate`` argument to this function. Failing to do so can result in silent errors that might be hard to debug.\n",
      "It is strongly recommended to pass the ``sampling_rate`` argument to this function. Failing to do so can result in silent errors that might be hard to debug.\n",
      "\n",
      "\n",
      "\u001b[A\u001b[AIt is strongly recommended to pass the ``sampling_rate`` argument to this function. Failing to do so can result in silent errors that might be hard to debug.\n",
      "It is strongly recommended to pass the ``sampling_rate`` argument to this function. Failing to do so can result in silent errors that might be hard to debug.\n",
      "\n",
      "\n",
      "\u001b[A\u001b[A"
     ]
    },
    {
     "name": "stdout",
     "output_type": "stream",
     "text": [
      "Setting resample\n",
      "resample sucessfuly set\n",
      "setting speech tensor\n",
      "applying tensor to device\n",
      "applying processor\n",
      "processor applied\n",
      "inputs insured\n",
      "Setting resample\n",
      "resample sucessfuly set\n",
      "setting speech tensor\n",
      "applying tensor to device\n",
      "applying processor\n",
      "processor applied\n",
      "inputs insured\n",
      "Setting resample\n",
      "resample sucessfuly set\n",
      "setting speech tensor\n",
      "applying tensor to device\n",
      "applying processor\n"
     ]
    },
    {
     "name": "stderr",
     "output_type": "stream",
     "text": [
      "It is strongly recommended to pass the ``sampling_rate`` argument to this function. Failing to do so can result in silent errors that might be hard to debug.\n",
      "It is strongly recommended to pass the ``sampling_rate`` argument to this function. Failing to do so can result in silent errors that might be hard to debug.\n",
      "\n",
      "\n",
      "\u001b[A\u001b[AIt is strongly recommended to pass the ``sampling_rate`` argument to this function. Failing to do so can result in silent errors that might be hard to debug.\n",
      "It is strongly recommended to pass the ``sampling_rate`` argument to this function. Failing to do so can result in silent errors that might be hard to debug.\n"
     ]
    },
    {
     "name": "stdout",
     "output_type": "stream",
     "text": [
      "processor applied\n",
      "inputs insured\n",
      "Setting resample\n",
      "resample sucessfuly set\n",
      "setting speech tensor\n",
      "applying tensor to device\n",
      "applying processor\n",
      "processor applied\n",
      "inputs insured\n"
     ]
    },
    {
     "name": "stderr",
     "output_type": "stream",
     "text": [
      "\n",
      "\n",
      "\u001b[A\u001b[AIt is strongly recommended to pass the ``sampling_rate`` argument to this function. Failing to do so can result in silent errors that might be hard to debug.\n",
      "It is strongly recommended to pass the ``sampling_rate`` argument to this function. Failing to do so can result in silent errors that might be hard to debug.\n",
      "\n",
      "\n",
      "\u001b[A\u001b[AIt is strongly recommended to pass the ``sampling_rate`` argument to this function. Failing to do so can result in silent errors that might be hard to debug.\n",
      "It is strongly recommended to pass the ``sampling_rate`` argument to this function. Failing to do so can result in silent errors that might be hard to debug.\n"
     ]
    },
    {
     "name": "stdout",
     "output_type": "stream",
     "text": [
      "Setting resample\n",
      "resample sucessfuly set\n",
      "setting speech tensor\n",
      "applying tensor to device\n",
      "applying processor\n",
      "processor applied\n",
      "inputs insured\n",
      "Setting resample\n",
      "resample sucessfuly set\n",
      "setting speech tensor\n",
      "applying tensor to device\n",
      "applying processor\n",
      "processor applied\n",
      "inputs insured\n"
     ]
    },
    {
     "name": "stderr",
     "output_type": "stream",
     "text": [
      "\n",
      "\n",
      "\u001b[A\u001b[AIt is strongly recommended to pass the ``sampling_rate`` argument to this function. Failing to do so can result in silent errors that might be hard to debug.\n",
      "It is strongly recommended to pass the ``sampling_rate`` argument to this function. Failing to do so can result in silent errors that might be hard to debug.\n",
      "\n",
      "\n",
      "\u001b[A\u001b[AIt is strongly recommended to pass the ``sampling_rate`` argument to this function. Failing to do so can result in silent errors that might be hard to debug.\n",
      "It is strongly recommended to pass the ``sampling_rate`` argument to this function. Failing to do so can result in silent errors that might be hard to debug.\n"
     ]
    },
    {
     "name": "stdout",
     "output_type": "stream",
     "text": [
      "Setting resample\n",
      "resample sucessfuly set\n",
      "setting speech tensor\n",
      "applying tensor to device\n",
      "applying processor\n",
      "processor applied\n",
      "inputs insured\n",
      "Setting resample\n",
      "resample sucessfuly set\n",
      "setting speech tensor\n",
      "applying tensor to device\n",
      "applying processor\n",
      "processor applied\n",
      "inputs insured\n"
     ]
    },
    {
     "name": "stderr",
     "output_type": "stream",
     "text": [
      "It is strongly recommended to pass the ``sampling_rate`` argument to this function. Failing to do so can result in silent errors that might be hard to debug.\n",
      "It is strongly recommended to pass the ``sampling_rate`` argument to this function. Failing to do so can result in silent errors that might be hard to debug.\n",
      "\n",
      "\n",
      "\u001b[A\u001b[AIt is strongly recommended to pass the ``sampling_rate`` argument to this function. Failing to do so can result in silent errors that might be hard to debug.\n",
      "It is strongly recommended to pass the ``sampling_rate`` argument to this function. Failing to do so can result in silent errors that might be hard to debug.\n"
     ]
    },
    {
     "name": "stdout",
     "output_type": "stream",
     "text": [
      "Setting resample\n",
      "resample sucessfuly set\n",
      "setting speech tensor\n",
      "applying tensor to device\n",
      "applying processor\n",
      "processor applied\n",
      "inputs insured\n",
      "Setting resample\n",
      "resample sucessfuly set\n",
      "setting speech tensor\n",
      "applying tensor to device\n",
      "applying processor\n",
      "processor applied\n",
      "inputs insured\n"
     ]
    },
    {
     "name": "stderr",
     "output_type": "stream",
     "text": [
      "\n",
      "\n",
      "\u001b[A\u001b[AIt is strongly recommended to pass the ``sampling_rate`` argument to this function. Failing to do so can result in silent errors that might be hard to debug.\n",
      "It is strongly recommended to pass the ``sampling_rate`` argument to this function. Failing to do so can result in silent errors that might be hard to debug.\n",
      "It is strongly recommended to pass the ``sampling_rate`` argument to this function. Failing to do so can result in silent errors that might be hard to debug.\n",
      "It is strongly recommended to pass the ``sampling_rate`` argument to this function. Failing to do so can result in silent errors that might be hard to debug.\n",
      "\n",
      "\n",
      "\u001b[A\u001b[AIt is strongly recommended to pass the ``sampling_rate`` argument to this function. Failing to do so can result in silent errors that might be hard to debug.\n",
      "It is strongly recommended to pass the ``sampling_rate`` argument to this function. Failing to do so can result in silent errors that might be hard to debug.\n"
     ]
    },
    {
     "name": "stdout",
     "output_type": "stream",
     "text": [
      "Setting resample\n",
      "resample sucessfuly set\n",
      "setting speech tensor\n",
      "applying tensor to device\n",
      "applying processor\n",
      "processor applied\n",
      "inputs insured\n",
      "Setting resample\n",
      "resample sucessfuly set\n",
      "setting speech tensor\n",
      "applying tensor to device\n",
      "applying processor\n",
      "processor applied\n",
      "inputs insured\n",
      "Setting resample\n",
      "resample sucessfuly set\n",
      "setting speech tensor\n",
      "applying tensor to device\n",
      "applying processor\n",
      "processor applied\n",
      "inputs insured\n"
     ]
    },
    {
     "name": "stderr",
     "output_type": "stream",
     "text": [
      "It is strongly recommended to pass the ``sampling_rate`` argument to this function. Failing to do so can result in silent errors that might be hard to debug.\n",
      "It is strongly recommended to pass the ``sampling_rate`` argument to this function. Failing to do so can result in silent errors that might be hard to debug.\n",
      "\n",
      "\n",
      "\u001b[A\u001b[AIt is strongly recommended to pass the ``sampling_rate`` argument to this function. Failing to do so can result in silent errors that might be hard to debug.\n",
      "It is strongly recommended to pass the ``sampling_rate`` argument to this function. Failing to do so can result in silent errors that might be hard to debug.\n"
     ]
    },
    {
     "name": "stdout",
     "output_type": "stream",
     "text": [
      "Setting resample\n",
      "resample sucessfuly set\n",
      "setting speech tensor\n",
      "applying tensor to device\n",
      "applying processor\n",
      "processor applied\n",
      "inputs insured\n",
      "Setting resample\n",
      "resample sucessfuly set\n",
      "setting speech tensor\n",
      "applying tensor to device\n",
      "applying processor\n",
      "processor applied\n",
      "inputs insured\n"
     ]
    },
    {
     "name": "stderr",
     "output_type": "stream",
     "text": [
      "\n",
      "\n",
      "\u001b[A\u001b[AIt is strongly recommended to pass the ``sampling_rate`` argument to this function. Failing to do so can result in silent errors that might be hard to debug.\n",
      "It is strongly recommended to pass the ``sampling_rate`` argument to this function. Failing to do so can result in silent errors that might be hard to debug.\n",
      "It is strongly recommended to pass the ``sampling_rate`` argument to this function. Failing to do so can result in silent errors that might be hard to debug.\n",
      "It is strongly recommended to pass the ``sampling_rate`` argument to this function. Failing to do so can result in silent errors that might be hard to debug.\n"
     ]
    },
    {
     "name": "stdout",
     "output_type": "stream",
     "text": [
      "Setting resample\n",
      "resample sucessfuly set\n",
      "setting speech tensor\n",
      "applying tensor to device\n",
      "applying processor\n",
      "processor applied\n",
      "inputs insured\n",
      "Setting resample\n",
      "resample sucessfuly set\n",
      "setting speech tensor\n",
      "applying tensor to device\n",
      "applying processor\n",
      "processor applied\n",
      "inputs insured\n"
     ]
    },
    {
     "name": "stderr",
     "output_type": "stream",
     "text": [
      "\n",
      "\n",
      "\u001b[A\u001b[AIt is strongly recommended to pass the ``sampling_rate`` argument to this function. Failing to do so can result in silent errors that might be hard to debug.\n",
      "It is strongly recommended to pass the ``sampling_rate`` argument to this function. Failing to do so can result in silent errors that might be hard to debug.\n",
      "It is strongly recommended to pass the ``sampling_rate`` argument to this function. Failing to do so can result in silent errors that might be hard to debug.\n",
      "It is strongly recommended to pass the ``sampling_rate`` argument to this function. Failing to do so can result in silent errors that might be hard to debug.\n",
      "\n",
      "\n",
      "\u001b[A\u001b[A"
     ]
    },
    {
     "name": "stdout",
     "output_type": "stream",
     "text": [
      "Setting resample\n",
      "resample sucessfuly set\n",
      "setting speech tensor\n",
      "applying tensor to device\n",
      "applying processor\n",
      "processor applied\n",
      "inputs insured\n",
      "Setting resample\n",
      "resample sucessfuly set\n",
      "setting speech tensor\n",
      "applying tensor to device\n",
      "applying processor\n",
      "processor applied\n",
      "inputs insured\n"
     ]
    },
    {
     "name": "stderr",
     "output_type": "stream",
     "text": [
      "It is strongly recommended to pass the ``sampling_rate`` argument to this function. Failing to do so can result in silent errors that might be hard to debug.\n",
      "It is strongly recommended to pass the ``sampling_rate`` argument to this function. Failing to do so can result in silent errors that might be hard to debug.\n",
      "\n",
      "\n",
      "\u001b[A\u001b[AIt is strongly recommended to pass the ``sampling_rate`` argument to this function. Failing to do so can result in silent errors that might be hard to debug.\n",
      "It is strongly recommended to pass the ``sampling_rate`` argument to this function. Failing to do so can result in silent errors that might be hard to debug.\n"
     ]
    },
    {
     "name": "stdout",
     "output_type": "stream",
     "text": [
      "Setting resample\n",
      "resample sucessfuly set\n",
      "setting speech tensor\n",
      "applying tensor to device\n",
      "applying processor\n",
      "processor applied\n",
      "inputs insured\n",
      "Setting resample\n",
      "resample sucessfuly set\n",
      "setting speech tensor\n",
      "applying tensor to device\n",
      "applying processor\n",
      "processor applied\n",
      "inputs insured\n"
     ]
    },
    {
     "name": "stderr",
     "output_type": "stream",
     "text": [
      "\n",
      "\n",
      "\u001b[A\u001b[AIt is strongly recommended to pass the ``sampling_rate`` argument to this function. Failing to do so can result in silent errors that might be hard to debug.\n",
      "It is strongly recommended to pass the ``sampling_rate`` argument to this function. Failing to do so can result in silent errors that might be hard to debug.\n",
      "It is strongly recommended to pass the ``sampling_rate`` argument to this function. Failing to do so can result in silent errors that might be hard to debug.\n",
      "It is strongly recommended to pass the ``sampling_rate`` argument to this function. Failing to do so can result in silent errors that might be hard to debug.\n",
      "\n",
      "\n",
      "\u001b[A\u001b[AIt is strongly recommended to pass the ``sampling_rate`` argument to this function. Failing to do so can result in silent errors that might be hard to debug.\n",
      "It is strongly recommended to pass the ``sampling_rate`` argument to this function. Failing to do so can result in silent errors that might be hard to debug.\n"
     ]
    },
    {
     "name": "stdout",
     "output_type": "stream",
     "text": [
      "Setting resample\n",
      "resample sucessfuly set\n",
      "setting speech tensor\n",
      "applying tensor to device\n",
      "applying processor\n",
      "processor applied\n",
      "inputs insured\n",
      "Setting resample\n",
      "resample sucessfuly set\n",
      "setting speech tensor\n",
      "applying tensor to device\n",
      "applying processor\n",
      "processor applied\n",
      "inputs insured\n",
      "Setting resample\n",
      "resample sucessfuly set\n",
      "setting speech tensor\n",
      "applying tensor to device\n",
      "applying processor\n",
      "processor applied\n",
      "inputs insured\n"
     ]
    },
    {
     "name": "stderr",
     "output_type": "stream",
     "text": [
      "It is strongly recommended to pass the ``sampling_rate`` argument to this function. Failing to do so can result in silent errors that might be hard to debug.\n",
      "It is strongly recommended to pass the ``sampling_rate`` argument to this function. Failing to do so can result in silent errors that might be hard to debug.\n",
      "\n",
      "\n",
      "\u001b[A\u001b[AIt is strongly recommended to pass the ``sampling_rate`` argument to this function. Failing to do so can result in silent errors that might be hard to debug.\n",
      "It is strongly recommended to pass the ``sampling_rate`` argument to this function. Failing to do so can result in silent errors that might be hard to debug.\n",
      "It is strongly recommended to pass the ``sampling_rate`` argument to this function. Failing to do so can result in silent errors that might be hard to debug.\n",
      "It is strongly recommended to pass the ``sampling_rate`` argument to this function. Failing to do so can result in silent errors that might be hard to debug.\n"
     ]
    },
    {
     "name": "stdout",
     "output_type": "stream",
     "text": [
      "Setting resample\n",
      "resample sucessfuly set\n",
      "setting speech tensor\n",
      "applying tensor to device\n",
      "applying processor\n",
      "processor applied\n",
      "inputs insured\n",
      "Setting resample\n",
      "resample sucessfuly set\n",
      "setting speech tensor\n",
      "applying tensor to device\n",
      "applying processor\n",
      "processor applied\n",
      "inputs insured\n",
      "Setting resample\n",
      "resample sucessfuly set\n",
      "setting speech tensor\n",
      "applying tensor to device\n",
      "applying processor\n",
      "processor applied\n",
      "inputs insured\n"
     ]
    },
    {
     "name": "stderr",
     "output_type": "stream",
     "text": [
      "\n",
      "\n",
      "\u001b[A\u001b[AIt is strongly recommended to pass the ``sampling_rate`` argument to this function. Failing to do so can result in silent errors that might be hard to debug.\n",
      "It is strongly recommended to pass the ``sampling_rate`` argument to this function. Failing to do so can result in silent errors that might be hard to debug.\n",
      "It is strongly recommended to pass the ``sampling_rate`` argument to this function. Failing to do so can result in silent errors that might be hard to debug.\n",
      "It is strongly recommended to pass the ``sampling_rate`` argument to this function. Failing to do so can result in silent errors that might be hard to debug.\n"
     ]
    },
    {
     "name": "stdout",
     "output_type": "stream",
     "text": [
      "Setting resample\n",
      "resample sucessfuly set\n",
      "setting speech tensor\n",
      "applying tensor to device\n",
      "applying processor\n",
      "processor applied\n",
      "inputs insured\n",
      "Setting resample\n",
      "resample sucessfuly set\n",
      "setting speech tensor\n",
      "applying tensor to device\n",
      "applying processor\n",
      "processor applied\n",
      "inputs insured\n"
     ]
    },
    {
     "name": "stderr",
     "output_type": "stream",
     "text": [
      "\n",
      "\n",
      "\u001b[A\u001b[AIt is strongly recommended to pass the ``sampling_rate`` argument to this function. Failing to do so can result in silent errors that might be hard to debug.\n",
      "It is strongly recommended to pass the ``sampling_rate`` argument to this function. Failing to do so can result in silent errors that might be hard to debug.\n",
      "It is strongly recommended to pass the ``sampling_rate`` argument to this function. Failing to do so can result in silent errors that might be hard to debug.\n",
      "It is strongly recommended to pass the ``sampling_rate`` argument to this function. Failing to do so can result in silent errors that might be hard to debug.\n",
      "\n",
      "\n",
      "\u001b[A\u001b[AIt is strongly recommended to pass the ``sampling_rate`` argument to this function. Failing to do so can result in silent errors that might be hard to debug.\n",
      "It is strongly recommended to pass the ``sampling_rate`` argument to this function. Failing to do so can result in silent errors that might be hard to debug.\n"
     ]
    },
    {
     "name": "stdout",
     "output_type": "stream",
     "text": [
      "Setting resample\n",
      "resample sucessfuly set\n",
      "setting speech tensor\n",
      "applying tensor to device\n",
      "applying processor\n",
      "processor applied\n",
      "inputs insured\n",
      "Setting resample\n",
      "resample sucessfuly set\n",
      "setting speech tensor\n",
      "applying tensor to device\n",
      "applying processor\n",
      "processor applied\n",
      "inputs insured\n",
      "Setting resample\n",
      "resample sucessfuly set\n",
      "setting speech tensor\n",
      "applying tensor to device\n",
      "applying processor\n",
      "processor applied\n",
      "inputs insured\n"
     ]
    },
    {
     "name": "stderr",
     "output_type": "stream",
     "text": [
      "It is strongly recommended to pass the ``sampling_rate`` argument to this function. Failing to do so can result in silent errors that might be hard to debug.\n",
      "It is strongly recommended to pass the ``sampling_rate`` argument to this function. Failing to do so can result in silent errors that might be hard to debug.\n"
     ]
    },
    {
     "name": "stdout",
     "output_type": "stream",
     "text": [
      "Setting resample\n",
      "resample sucessfuly set\n",
      "setting speech tensor\n",
      "applying tensor to device\n",
      "applying processor\n",
      "processor applied\n",
      "inputs insured\n"
     ]
    },
    {
     "name": "stderr",
     "output_type": "stream",
     "text": [
      "\n",
      "\n",
      "\u001b[A\u001b[AIt is strongly recommended to pass the ``sampling_rate`` argument to this function. Failing to do so can result in silent errors that might be hard to debug.\n",
      "It is strongly recommended to pass the ``sampling_rate`` argument to this function. Failing to do so can result in silent errors that might be hard to debug.\n",
      "\n",
      "\n",
      "\u001b[A\u001b[AIt is strongly recommended to pass the ``sampling_rate`` argument to this function. Failing to do so can result in silent errors that might be hard to debug.\n",
      "It is strongly recommended to pass the ``sampling_rate`` argument to this function. Failing to do so can result in silent errors that might be hard to debug.\n"
     ]
    },
    {
     "name": "stdout",
     "output_type": "stream",
     "text": [
      "Setting resample\n",
      "resample sucessfuly set\n",
      "setting speech tensor\n",
      "applying tensor to device\n",
      "applying processor\n",
      "processor applied\n",
      "inputs insured\n",
      "Setting resample\n",
      "resample sucessfuly set\n",
      "setting speech tensor\n",
      "applying tensor to device\n",
      "applying processor\n",
      "processor applied\n",
      "inputs insured\n"
     ]
    },
    {
     "name": "stderr",
     "output_type": "stream",
     "text": [
      "\n",
      "\n",
      "\u001b[A\u001b[AIt is strongly recommended to pass the ``sampling_rate`` argument to this function. Failing to do so can result in silent errors that might be hard to debug.\n",
      "It is strongly recommended to pass the ``sampling_rate`` argument to this function. Failing to do so can result in silent errors that might be hard to debug.\n",
      "\n",
      "\n",
      "\u001b[A\u001b[AIt is strongly recommended to pass the ``sampling_rate`` argument to this function. Failing to do so can result in silent errors that might be hard to debug.\n",
      "It is strongly recommended to pass the ``sampling_rate`` argument to this function. Failing to do so can result in silent errors that might be hard to debug.\n"
     ]
    },
    {
     "name": "stdout",
     "output_type": "stream",
     "text": [
      "Setting resample\n",
      "resample sucessfuly set\n",
      "setting speech tensor\n",
      "applying tensor to device\n",
      "applying processor\n",
      "processor applied\n",
      "inputs insured\n",
      "Setting resample\n",
      "resample sucessfuly set\n",
      "setting speech tensor\n",
      "applying tensor to device\n",
      "applying processor\n",
      "processor applied\n",
      "inputs insured\n"
     ]
    },
    {
     "name": "stderr",
     "output_type": "stream",
     "text": [
      "\n",
      "\n",
      "\u001b[A\u001b[AIt is strongly recommended to pass the ``sampling_rate`` argument to this function. Failing to do so can result in silent errors that might be hard to debug.\n",
      "It is strongly recommended to pass the ``sampling_rate`` argument to this function. Failing to do so can result in silent errors that might be hard to debug.\n",
      "\n",
      "\n",
      "\u001b[A\u001b[AIt is strongly recommended to pass the ``sampling_rate`` argument to this function. Failing to do so can result in silent errors that might be hard to debug.\n",
      "It is strongly recommended to pass the ``sampling_rate`` argument to this function. Failing to do so can result in silent errors that might be hard to debug.\n"
     ]
    },
    {
     "name": "stdout",
     "output_type": "stream",
     "text": [
      "Setting resample\n",
      "resample sucessfuly set\n",
      "setting speech tensor\n",
      "applying tensor to device\n",
      "applying processor\n",
      "processor applied\n",
      "inputs insured\n",
      "Setting resample\n",
      "resample sucessfuly set\n",
      "setting speech tensor\n",
      "applying tensor to device\n",
      "applying processor\n",
      "processor applied\n",
      "inputs insured\n"
     ]
    },
    {
     "name": "stderr",
     "output_type": "stream",
     "text": [
      "\n",
      "\n",
      "\u001b[A\u001b[AIt is strongly recommended to pass the ``sampling_rate`` argument to this function. Failing to do so can result in silent errors that might be hard to debug.\n",
      "It is strongly recommended to pass the ``sampling_rate`` argument to this function. Failing to do so can result in silent errors that might be hard to debug.\n",
      "\n",
      "\n",
      "\u001b[A\u001b[AIt is strongly recommended to pass the ``sampling_rate`` argument to this function. Failing to do so can result in silent errors that might be hard to debug.\n",
      "It is strongly recommended to pass the ``sampling_rate`` argument to this function. Failing to do so can result in silent errors that might be hard to debug.\n",
      "It is strongly recommended to pass the ``sampling_rate`` argument to this function. Failing to do so can result in silent errors that might be hard to debug.\n",
      "It is strongly recommended to pass the ``sampling_rate`` argument to this function. Failing to do so can result in silent errors that might be hard to debug.\n"
     ]
    },
    {
     "name": "stdout",
     "output_type": "stream",
     "text": [
      "Setting resample\n",
      "resample sucessfuly set\n",
      "setting speech tensor\n",
      "applying tensor to device\n",
      "applying processor\n",
      "processor applied\n",
      "inputs insured\n",
      "Setting resample\n",
      "resample sucessfuly set\n",
      "setting speech tensor\n",
      "applying tensor to device\n",
      "applying processor\n",
      "processor applied\n",
      "inputs insured\n",
      "Setting resample\n",
      "resample sucessfuly set\n",
      "setting speech tensor\n",
      "applying tensor to device\n",
      "applying processor\n",
      "processor applied\n",
      "inputs insured\n"
     ]
    },
    {
     "name": "stderr",
     "output_type": "stream",
     "text": [
      "\n",
      "\n",
      "\u001b[A\u001b[AIt is strongly recommended to pass the ``sampling_rate`` argument to this function. Failing to do so can result in silent errors that might be hard to debug.\n",
      "It is strongly recommended to pass the ``sampling_rate`` argument to this function. Failing to do so can result in silent errors that might be hard to debug.\n",
      "It is strongly recommended to pass the ``sampling_rate`` argument to this function. Failing to do so can result in silent errors that might be hard to debug.\n",
      "It is strongly recommended to pass the ``sampling_rate`` argument to this function. Failing to do so can result in silent errors that might be hard to debug.\n"
     ]
    },
    {
     "name": "stdout",
     "output_type": "stream",
     "text": [
      "Setting resample\n",
      "resample sucessfuly set\n",
      "setting speech tensor\n",
      "applying tensor to device\n",
      "applying processor\n",
      "processor applied\n",
      "inputs insured\n",
      "Setting resample\n",
      "resample sucessfuly set\n",
      "setting speech tensor\n",
      "applying tensor to device\n",
      "applying processor\n",
      "processor applied\n",
      "inputs insured\n"
     ]
    },
    {
     "name": "stderr",
     "output_type": "stream",
     "text": [
      "\n",
      "\n",
      "\u001b[A\u001b[AIt is strongly recommended to pass the ``sampling_rate`` argument to this function. Failing to do so can result in silent errors that might be hard to debug.\n",
      "It is strongly recommended to pass the ``sampling_rate`` argument to this function. Failing to do so can result in silent errors that might be hard to debug.\n",
      "\n",
      "\n",
      "\u001b[A\u001b[AIt is strongly recommended to pass the ``sampling_rate`` argument to this function. Failing to do so can result in silent errors that might be hard to debug.\n",
      "It is strongly recommended to pass the ``sampling_rate`` argument to this function. Failing to do so can result in silent errors that might be hard to debug.\n"
     ]
    },
    {
     "name": "stdout",
     "output_type": "stream",
     "text": [
      "Setting resample\n",
      "resample sucessfuly set\n",
      "setting speech tensor\n",
      "applying tensor to device\n",
      "applying processor\n",
      "processor applied\n",
      "inputs insured\n",
      "Setting resample\n",
      "resample sucessfuly set\n",
      "setting speech tensor\n",
      "applying tensor to device\n",
      "applying processor\n",
      "processor applied\n",
      "inputs insured\n"
     ]
    },
    {
     "name": "stderr",
     "output_type": "stream",
     "text": [
      "\n",
      "\n",
      "\u001b[A\u001b[AIt is strongly recommended to pass the ``sampling_rate`` argument to this function. Failing to do so can result in silent errors that might be hard to debug.\n",
      "It is strongly recommended to pass the ``sampling_rate`` argument to this function. Failing to do so can result in silent errors that might be hard to debug.\n",
      "\n",
      "\n",
      "\u001b[A\u001b[AIt is strongly recommended to pass the ``sampling_rate`` argument to this function. Failing to do so can result in silent errors that might be hard to debug.\n",
      "It is strongly recommended to pass the ``sampling_rate`` argument to this function. Failing to do so can result in silent errors that might be hard to debug.\n"
     ]
    },
    {
     "name": "stdout",
     "output_type": "stream",
     "text": [
      "Setting resample\n",
      "resample sucessfuly set\n",
      "setting speech tensor\n",
      "applying tensor to device\n",
      "applying processor\n",
      "processor applied\n",
      "inputs insured\n",
      "Setting resample\n",
      "resample sucessfuly set\n",
      "setting speech tensor\n",
      "applying tensor to device\n",
      "applying processor\n",
      "processor applied\n",
      "inputs insured\n"
     ]
    },
    {
     "name": "stderr",
     "output_type": "stream",
     "text": [
      "It is strongly recommended to pass the ``sampling_rate`` argument to this function. Failing to do so can result in silent errors that might be hard to debug.\n",
      "It is strongly recommended to pass the ``sampling_rate`` argument to this function. Failing to do so can result in silent errors that might be hard to debug.\n",
      "\n",
      "\n",
      "\u001b[A\u001b[AIt is strongly recommended to pass the ``sampling_rate`` argument to this function. Failing to do so can result in silent errors that might be hard to debug.\n",
      "It is strongly recommended to pass the ``sampling_rate`` argument to this function. Failing to do so can result in silent errors that might be hard to debug.\n"
     ]
    },
    {
     "name": "stdout",
     "output_type": "stream",
     "text": [
      "Setting resample\n",
      "resample sucessfuly set\n",
      "setting speech tensor\n",
      "applying tensor to device\n",
      "applying processor\n",
      "processor applied\n",
      "inputs insured\n",
      "Setting resample\n",
      "resample sucessfuly set\n",
      "setting speech tensor\n",
      "applying tensor to device\n",
      "applying processor\n",
      "processor applied\n",
      "inputs insured\n"
     ]
    },
    {
     "name": "stderr",
     "output_type": "stream",
     "text": [
      "\n",
      "\n",
      "\u001b[A\u001b[AIt is strongly recommended to pass the ``sampling_rate`` argument to this function. Failing to do so can result in silent errors that might be hard to debug.\n",
      "It is strongly recommended to pass the ``sampling_rate`` argument to this function. Failing to do so can result in silent errors that might be hard to debug.\n",
      "\n",
      "\n",
      "\u001b[A\u001b[AIt is strongly recommended to pass the ``sampling_rate`` argument to this function. Failing to do so can result in silent errors that might be hard to debug.\n",
      "It is strongly recommended to pass the ``sampling_rate`` argument to this function. Failing to do so can result in silent errors that might be hard to debug.\n"
     ]
    },
    {
     "name": "stdout",
     "output_type": "stream",
     "text": [
      "Setting resample\n",
      "resample sucessfuly set\n",
      "setting speech tensor\n",
      "applying tensor to device\n",
      "applying processor\n",
      "processor applied\n",
      "inputs insured\n",
      "Setting resample\n",
      "resample sucessfuly set\n",
      "setting speech tensor\n",
      "applying tensor to device\n",
      "applying processor\n",
      "processor applied\n",
      "inputs insured\n"
     ]
    },
    {
     "name": "stderr",
     "output_type": "stream",
     "text": [
      "\n",
      "\n",
      "\u001b[A\u001b[AIt is strongly recommended to pass the ``sampling_rate`` argument to this function. Failing to do so can result in silent errors that might be hard to debug.\n",
      "It is strongly recommended to pass the ``sampling_rate`` argument to this function. Failing to do so can result in silent errors that might be hard to debug.\n",
      "\n",
      "\n",
      "\u001b[A\u001b[AIt is strongly recommended to pass the ``sampling_rate`` argument to this function. Failing to do so can result in silent errors that might be hard to debug.\n",
      "It is strongly recommended to pass the ``sampling_rate`` argument to this function. Failing to do so can result in silent errors that might be hard to debug.\n"
     ]
    },
    {
     "name": "stdout",
     "output_type": "stream",
     "text": [
      "Setting resample\n",
      "resample sucessfuly set\n",
      "setting speech tensor\n",
      "applying tensor to device\n",
      "applying processor\n",
      "processor applied\n",
      "inputs insured\n",
      "Setting resample\n",
      "resample sucessfuly set\n",
      "setting speech tensor\n",
      "applying tensor to device\n",
      "applying processor\n",
      "processor applied\n",
      "inputs insured\n"
     ]
    },
    {
     "name": "stderr",
     "output_type": "stream",
     "text": [
      "\n",
      "\n",
      "\u001b[A\u001b[AIt is strongly recommended to pass the ``sampling_rate`` argument to this function. Failing to do so can result in silent errors that might be hard to debug.\n",
      "It is strongly recommended to pass the ``sampling_rate`` argument to this function. Failing to do so can result in silent errors that might be hard to debug.\n",
      "\n",
      "\n",
      "\u001b[A\u001b[AIt is strongly recommended to pass the ``sampling_rate`` argument to this function. Failing to do so can result in silent errors that might be hard to debug.\n",
      "It is strongly recommended to pass the ``sampling_rate`` argument to this function. Failing to do so can result in silent errors that might be hard to debug.\n",
      "It is strongly recommended to pass the ``sampling_rate`` argument to this function. Failing to do so can result in silent errors that might be hard to debug.\n"
     ]
    },
    {
     "name": "stdout",
     "output_type": "stream",
     "text": [
      "Setting resample\n",
      "resample sucessfuly set\n",
      "setting speech tensor\n",
      "applying tensor to device\n",
      "applying processor\n",
      "processor applied\n",
      "inputs insured\n",
      "Setting resample\n",
      "resample sucessfuly set\n",
      "setting speech tensor\n",
      "applying tensor to device\n",
      "applying processor\n",
      "processor applied\n",
      "inputs insured\n",
      "Setting resample\n",
      "resample sucessfuly set\n",
      "setting speech tensor\n",
      "applying tensor to device\n",
      "applying processor\n"
     ]
    },
    {
     "name": "stderr",
     "output_type": "stream",
     "text": [
      "It is strongly recommended to pass the ``sampling_rate`` argument to this function. Failing to do so can result in silent errors that might be hard to debug.\n",
      "\n",
      "\n",
      "\u001b[A\u001b[AIt is strongly recommended to pass the ``sampling_rate`` argument to this function. Failing to do so can result in silent errors that might be hard to debug.\n",
      "It is strongly recommended to pass the ``sampling_rate`` argument to this function. Failing to do so can result in silent errors that might be hard to debug.\n"
     ]
    },
    {
     "name": "stdout",
     "output_type": "stream",
     "text": [
      "processor applied\n",
      "inputs insured\n",
      "Setting resample\n",
      "resample sucessfuly set\n",
      "setting speech tensor\n",
      "applying tensor to device\n",
      "applying processor\n",
      "processor applied\n",
      "inputs insured\n"
     ]
    },
    {
     "name": "stderr",
     "output_type": "stream",
     "text": [
      "\n",
      "\n",
      "\u001b[A\u001b[AIt is strongly recommended to pass the ``sampling_rate`` argument to this function. Failing to do so can result in silent errors that might be hard to debug.\n",
      "It is strongly recommended to pass the ``sampling_rate`` argument to this function. Failing to do so can result in silent errors that might be hard to debug.\n",
      "\n",
      "\n",
      "\u001b[A\u001b[AIt is strongly recommended to pass the ``sampling_rate`` argument to this function. Failing to do so can result in silent errors that might be hard to debug.\n",
      "It is strongly recommended to pass the ``sampling_rate`` argument to this function. Failing to do so can result in silent errors that might be hard to debug.\n",
      "It is strongly recommended to pass the ``sampling_rate`` argument to this function. Failing to do so can result in silent errors that might be hard to debug.\n",
      "It is strongly recommended to pass the ``sampling_rate`` argument to this function. Failing to do so can result in silent errors that might be hard to debug.\n"
     ]
    },
    {
     "name": "stdout",
     "output_type": "stream",
     "text": [
      "Setting resample\n",
      "resample sucessfuly set\n",
      "setting speech tensor\n",
      "applying tensor to device\n",
      "applying processor\n",
      "processor applied\n",
      "inputs insured\n",
      "Setting resample\n",
      "resample sucessfuly set\n",
      "setting speech tensor\n",
      "applying tensor to device\n",
      "applying processor\n",
      "processor applied\n",
      "inputs insured\n",
      "Setting resample\n",
      "resample sucessfuly set\n",
      "setting speech tensor\n",
      "applying tensor to device\n",
      "applying processor\n",
      "processor applied\n",
      "inputs insured\n"
     ]
    },
    {
     "name": "stderr",
     "output_type": "stream",
     "text": [
      "\n",
      "\n",
      "\u001b[A\u001b[AIt is strongly recommended to pass the ``sampling_rate`` argument to this function. Failing to do so can result in silent errors that might be hard to debug.\n",
      "It is strongly recommended to pass the ``sampling_rate`` argument to this function. Failing to do so can result in silent errors that might be hard to debug.\n",
      "\n",
      "\n",
      "\u001b[A\u001b[AIt is strongly recommended to pass the ``sampling_rate`` argument to this function. Failing to do so can result in silent errors that might be hard to debug.\n",
      "It is strongly recommended to pass the ``sampling_rate`` argument to this function. Failing to do so can result in silent errors that might be hard to debug.\n"
     ]
    },
    {
     "name": "stdout",
     "output_type": "stream",
     "text": [
      "Setting resample\n",
      "resample sucessfuly set\n",
      "setting speech tensor\n",
      "applying tensor to device\n",
      "applying processor\n",
      "processor applied\n",
      "inputs insured\n",
      "Setting resample\n",
      "resample sucessfuly set\n",
      "setting speech tensor\n",
      "applying tensor to device\n",
      "applying processor\n",
      "processor applied\n",
      "inputs insured\n"
     ]
    },
    {
     "name": "stderr",
     "output_type": "stream",
     "text": [
      "\n",
      "\n",
      "\u001b[A\u001b[AIt is strongly recommended to pass the ``sampling_rate`` argument to this function. Failing to do so can result in silent errors that might be hard to debug.\n",
      "It is strongly recommended to pass the ``sampling_rate`` argument to this function. Failing to do so can result in silent errors that might be hard to debug.\n",
      "\n",
      "\n",
      "\u001b[A\u001b[AIt is strongly recommended to pass the ``sampling_rate`` argument to this function. Failing to do so can result in silent errors that might be hard to debug.\n",
      "It is strongly recommended to pass the ``sampling_rate`` argument to this function. Failing to do so can result in silent errors that might be hard to debug.\n"
     ]
    },
    {
     "name": "stdout",
     "output_type": "stream",
     "text": [
      "Setting resample\n",
      "resample sucessfuly set\n",
      "setting speech tensor\n",
      "applying tensor to device\n",
      "applying processor\n",
      "processor applied\n",
      "inputs insured\n",
      "Setting resample\n",
      "resample sucessfuly set\n",
      "setting speech tensor\n",
      "applying tensor to device\n",
      "applying processor\n",
      "processor applied\n",
      "inputs insured\n"
     ]
    },
    {
     "name": "stderr",
     "output_type": "stream",
     "text": [
      "\n",
      "\n",
      "\u001b[A\u001b[AIt is strongly recommended to pass the ``sampling_rate`` argument to this function. Failing to do so can result in silent errors that might be hard to debug.\n",
      "It is strongly recommended to pass the ``sampling_rate`` argument to this function. Failing to do so can result in silent errors that might be hard to debug.\n",
      "\n",
      "\n",
      "\u001b[A\u001b[AIt is strongly recommended to pass the ``sampling_rate`` argument to this function. Failing to do so can result in silent errors that might be hard to debug.\n",
      "It is strongly recommended to pass the ``sampling_rate`` argument to this function. Failing to do so can result in silent errors that might be hard to debug.\n",
      "It is strongly recommended to pass the ``sampling_rate`` argument to this function. Failing to do so can result in silent errors that might be hard to debug.\n",
      "It is strongly recommended to pass the ``sampling_rate`` argument to this function. Failing to do so can result in silent errors that might be hard to debug.\n"
     ]
    },
    {
     "name": "stdout",
     "output_type": "stream",
     "text": [
      "Setting resample\n",
      "resample sucessfuly set\n",
      "setting speech tensor\n",
      "applying tensor to device\n",
      "applying processor\n",
      "processor applied\n",
      "inputs insured\n",
      "Setting resample\n",
      "resample sucessfuly set\n",
      "setting speech tensor\n",
      "applying tensor to device\n",
      "applying processor\n",
      "processor applied\n",
      "inputs insured\n",
      "Setting resample\n",
      "resample sucessfuly set\n",
      "setting speech tensor\n",
      "applying tensor to device\n",
      "applying processor\n",
      "processor applied\n",
      "inputs insured\n"
     ]
    },
    {
     "name": "stderr",
     "output_type": "stream",
     "text": [
      "\n",
      "\n",
      "\u001b[A\u001b[AIt is strongly recommended to pass the ``sampling_rate`` argument to this function. Failing to do so can result in silent errors that might be hard to debug.\n",
      "It is strongly recommended to pass the ``sampling_rate`` argument to this function. Failing to do so can result in silent errors that might be hard to debug.\n",
      "\n",
      "\n",
      "\u001b[A\u001b[AIt is strongly recommended to pass the ``sampling_rate`` argument to this function. Failing to do so can result in silent errors that might be hard to debug.\n",
      "It is strongly recommended to pass the ``sampling_rate`` argument to this function. Failing to do so can result in silent errors that might be hard to debug.\n"
     ]
    },
    {
     "name": "stdout",
     "output_type": "stream",
     "text": [
      "Setting resample\n",
      "resample sucessfuly set\n",
      "setting speech tensor\n",
      "applying tensor to device\n",
      "applying processor\n",
      "processor applied\n",
      "inputs insured\n",
      "Setting resample\n",
      "resample sucessfuly set\n",
      "setting speech tensor\n",
      "applying tensor to device\n",
      "applying processor\n",
      "processor applied\n",
      "inputs insured\n"
     ]
    },
    {
     "name": "stderr",
     "output_type": "stream",
     "text": [
      "\n",
      "\n",
      "\u001b[A\u001b[AIt is strongly recommended to pass the ``sampling_rate`` argument to this function. Failing to do so can result in silent errors that might be hard to debug.\n",
      "It is strongly recommended to pass the ``sampling_rate`` argument to this function. Failing to do so can result in silent errors that might be hard to debug.\n",
      "\n",
      "\n",
      "\u001b[A\u001b[AIt is strongly recommended to pass the ``sampling_rate`` argument to this function. Failing to do so can result in silent errors that might be hard to debug.\n",
      "It is strongly recommended to pass the ``sampling_rate`` argument to this function. Failing to do so can result in silent errors that might be hard to debug.\n",
      "It is strongly recommended to pass the ``sampling_rate`` argument to this function. Failing to do so can result in silent errors that might be hard to debug.\n",
      "It is strongly recommended to pass the ``sampling_rate`` argument to this function. Failing to do so can result in silent errors that might be hard to debug.\n"
     ]
    },
    {
     "name": "stdout",
     "output_type": "stream",
     "text": [
      "Setting resample\n",
      "resample sucessfuly set\n",
      "setting speech tensor\n",
      "applying tensor to device\n",
      "applying processor\n",
      "processor applied\n",
      "inputs insured\n",
      "Setting resample\n",
      "resample sucessfuly set\n",
      "setting speech tensor\n",
      "applying tensor to device\n",
      "applying processor\n",
      "processor applied\n",
      "inputs insured\n",
      "Setting resample\n",
      "resample sucessfuly set\n",
      "setting speech tensor\n",
      "applying tensor to device\n",
      "applying processor\n",
      "processor applied\n",
      "inputs insured\n"
     ]
    },
    {
     "name": "stderr",
     "output_type": "stream",
     "text": [
      "\n",
      "\n",
      "\u001b[A\u001b[AIt is strongly recommended to pass the ``sampling_rate`` argument to this function. Failing to do so can result in silent errors that might be hard to debug.\n",
      "It is strongly recommended to pass the ``sampling_rate`` argument to this function. Failing to do so can result in silent errors that might be hard to debug.\n",
      "It is strongly recommended to pass the ``sampling_rate`` argument to this function. Failing to do so can result in silent errors that might be hard to debug.\n",
      "It is strongly recommended to pass the ``sampling_rate`` argument to this function. Failing to do so can result in silent errors that might be hard to debug.\n"
     ]
    },
    {
     "name": "stdout",
     "output_type": "stream",
     "text": [
      "Setting resample\n",
      "resample sucessfuly set\n",
      "setting speech tensor\n",
      "applying tensor to device\n",
      "applying processor\n",
      "processor applied\n",
      "inputs insured\n",
      "Setting resample\n",
      "resample sucessfuly set\n",
      "setting speech tensor\n",
      "applying tensor to device\n",
      "applying processor\n",
      "processor applied\n",
      "inputs insured\n"
     ]
    },
    {
     "name": "stderr",
     "output_type": "stream",
     "text": [
      "\n",
      "\n",
      "\u001b[A\u001b[AIt is strongly recommended to pass the ``sampling_rate`` argument to this function. Failing to do so can result in silent errors that might be hard to debug.\n",
      "It is strongly recommended to pass the ``sampling_rate`` argument to this function. Failing to do so can result in silent errors that might be hard to debug.\n",
      "\n",
      "\n",
      "\u001b[A\u001b[AIt is strongly recommended to pass the ``sampling_rate`` argument to this function. Failing to do so can result in silent errors that might be hard to debug.\n",
      "It is strongly recommended to pass the ``sampling_rate`` argument to this function. Failing to do so can result in silent errors that might be hard to debug.\n"
     ]
    },
    {
     "name": "stdout",
     "output_type": "stream",
     "text": [
      "Setting resample\n",
      "resample sucessfuly set\n",
      "setting speech tensor\n",
      "applying tensor to device\n",
      "applying processor\n",
      "processor applied\n",
      "inputs insured\n",
      "Setting resample\n",
      "resample sucessfuly set\n",
      "setting speech tensor\n",
      "applying tensor to device\n",
      "applying processor\n",
      "processor applied\n",
      "inputs insured\n"
     ]
    },
    {
     "name": "stderr",
     "output_type": "stream",
     "text": [
      "\n",
      "\n",
      "\u001b[A\u001b[AIt is strongly recommended to pass the ``sampling_rate`` argument to this function. Failing to do so can result in silent errors that might be hard to debug.\n",
      "It is strongly recommended to pass the ``sampling_rate`` argument to this function. Failing to do so can result in silent errors that might be hard to debug.\n",
      "\n",
      "\n",
      "\u001b[A\u001b[AIt is strongly recommended to pass the ``sampling_rate`` argument to this function. Failing to do so can result in silent errors that might be hard to debug.\n",
      "It is strongly recommended to pass the ``sampling_rate`` argument to this function. Failing to do so can result in silent errors that might be hard to debug.\n",
      "It is strongly recommended to pass the ``sampling_rate`` argument to this function. Failing to do so can result in silent errors that might be hard to debug.\n",
      "It is strongly recommended to pass the ``sampling_rate`` argument to this function. Failing to do so can result in silent errors that might be hard to debug.\n"
     ]
    },
    {
     "name": "stdout",
     "output_type": "stream",
     "text": [
      "Setting resample\n",
      "resample sucessfuly set\n",
      "setting speech tensor\n",
      "applying tensor to device\n",
      "applying processor\n",
      "processor applied\n",
      "inputs insured\n",
      "Setting resample\n",
      "resample sucessfuly set\n",
      "setting speech tensor\n",
      "applying tensor to device\n",
      "applying processor\n",
      "processor applied\n",
      "inputs insured\n",
      "Setting resample\n",
      "resample sucessfuly set\n",
      "setting speech tensor\n",
      "applying tensor to device\n",
      "applying processor\n"
     ]
    },
    {
     "name": "stderr",
     "output_type": "stream",
     "text": [
      "\n",
      "\n",
      "\u001b[A\u001b[AIt is strongly recommended to pass the ``sampling_rate`` argument to this function. Failing to do so can result in silent errors that might be hard to debug.\n",
      "It is strongly recommended to pass the ``sampling_rate`` argument to this function. Failing to do so can result in silent errors that might be hard to debug.\n"
     ]
    },
    {
     "name": "stdout",
     "output_type": "stream",
     "text": [
      "processor applied\n",
      "inputs insured\n",
      "Setting resample\n",
      "resample sucessfuly set\n",
      "setting speech tensor\n",
      "applying tensor to device\n",
      "applying processor\n",
      "processor applied\n",
      "inputs insured\n"
     ]
    },
    {
     "name": "stderr",
     "output_type": "stream",
     "text": [
      "\n",
      "\n",
      "\u001b[A\u001b[AIt is strongly recommended to pass the ``sampling_rate`` argument to this function. Failing to do so can result in silent errors that might be hard to debug.\n",
      "It is strongly recommended to pass the ``sampling_rate`` argument to this function. Failing to do so can result in silent errors that might be hard to debug.\n",
      "It is strongly recommended to pass the ``sampling_rate`` argument to this function. Failing to do so can result in silent errors that might be hard to debug.\n",
      "It is strongly recommended to pass the ``sampling_rate`` argument to this function. Failing to do so can result in silent errors that might be hard to debug.\n",
      "\n",
      "\n",
      "\u001b[A\u001b[AIt is strongly recommended to pass the ``sampling_rate`` argument to this function. Failing to do so can result in silent errors that might be hard to debug.\n",
      "It is strongly recommended to pass the ``sampling_rate`` argument to this function. Failing to do so can result in silent errors that might be hard to debug.\n"
     ]
    },
    {
     "name": "stdout",
     "output_type": "stream",
     "text": [
      "Setting resample\n",
      "resample sucessfuly set\n",
      "setting speech tensor\n",
      "applying tensor to device\n",
      "applying processor\n",
      "processor applied\n",
      "inputs insured\n",
      "Setting resample\n",
      "resample sucessfuly set\n",
      "setting speech tensor\n",
      "applying tensor to device\n",
      "applying processor\n",
      "processor applied\n",
      "inputs insured\n",
      "Setting resample\n",
      "resample sucessfuly set\n",
      "setting speech tensor\n",
      "applying tensor to device\n",
      "applying processor\n",
      "processor applied\n",
      "inputs insured\n"
     ]
    },
    {
     "name": "stderr",
     "output_type": "stream",
     "text": [
      "\n",
      "\n",
      "\u001b[A\u001b[AIt is strongly recommended to pass the ``sampling_rate`` argument to this function. Failing to do so can result in silent errors that might be hard to debug.\n",
      "It is strongly recommended to pass the ``sampling_rate`` argument to this function. Failing to do so can result in silent errors that might be hard to debug.\n",
      "\n",
      "\n",
      "\u001b[A\u001b[AIt is strongly recommended to pass the ``sampling_rate`` argument to this function. Failing to do so can result in silent errors that might be hard to debug.\n",
      "It is strongly recommended to pass the ``sampling_rate`` argument to this function. Failing to do so can result in silent errors that might be hard to debug.\n"
     ]
    },
    {
     "name": "stdout",
     "output_type": "stream",
     "text": [
      "Setting resample\n",
      "resample sucessfuly set\n",
      "setting speech tensor\n",
      "applying tensor to device\n",
      "applying processor\n",
      "processor applied\n",
      "inputs insured\n",
      "Setting resample\n",
      "resample sucessfuly set\n",
      "setting speech tensor\n",
      "applying tensor to device\n",
      "applying processor\n",
      "processor applied\n",
      "inputs insured\n"
     ]
    },
    {
     "name": "stderr",
     "output_type": "stream",
     "text": [
      "\n",
      "\n",
      "\u001b[A\u001b[AIt is strongly recommended to pass the ``sampling_rate`` argument to this function. Failing to do so can result in silent errors that might be hard to debug.\n",
      "It is strongly recommended to pass the ``sampling_rate`` argument to this function. Failing to do so can result in silent errors that might be hard to debug.\n",
      "\n",
      "\n",
      "\u001b[A\u001b[AIt is strongly recommended to pass the ``sampling_rate`` argument to this function. Failing to do so can result in silent errors that might be hard to debug.\n",
      "It is strongly recommended to pass the ``sampling_rate`` argument to this function. Failing to do so can result in silent errors that might be hard to debug.\n"
     ]
    },
    {
     "name": "stdout",
     "output_type": "stream",
     "text": [
      "Setting resample\n",
      "resample sucessfuly set\n",
      "setting speech tensor\n",
      "applying tensor to device\n",
      "applying processor\n",
      "processor applied\n",
      "inputs insured\n",
      "Setting resample\n",
      "resample sucessfuly set\n",
      "setting speech tensor\n",
      "applying tensor to device\n",
      "applying processor\n",
      "processor applied\n",
      "inputs insured\n"
     ]
    },
    {
     "name": "stderr",
     "output_type": "stream",
     "text": [
      "\n",
      "\n",
      "\u001b[A\u001b[AIt is strongly recommended to pass the ``sampling_rate`` argument to this function. Failing to do so can result in silent errors that might be hard to debug.\n",
      "It is strongly recommended to pass the ``sampling_rate`` argument to this function. Failing to do so can result in silent errors that might be hard to debug.\n",
      "\n",
      "\n",
      "\u001b[A\u001b[AIt is strongly recommended to pass the ``sampling_rate`` argument to this function. Failing to do so can result in silent errors that might be hard to debug.\n",
      "It is strongly recommended to pass the ``sampling_rate`` argument to this function. Failing to do so can result in silent errors that might be hard to debug.\n"
     ]
    },
    {
     "name": "stdout",
     "output_type": "stream",
     "text": [
      "Setting resample\n",
      "resample sucessfuly set\n",
      "setting speech tensor\n",
      "applying tensor to device\n",
      "applying processor\n",
      "processor applied\n",
      "inputs insured\n",
      "Setting resample\n",
      "resample sucessfuly set\n",
      "setting speech tensor\n",
      "applying tensor to device\n",
      "applying processor\n",
      "processor applied\n",
      "inputs insured\n"
     ]
    },
    {
     "name": "stderr",
     "output_type": "stream",
     "text": [
      "\n",
      "\n",
      "\u001b[A\u001b[AIt is strongly recommended to pass the ``sampling_rate`` argument to this function. Failing to do so can result in silent errors that might be hard to debug.\n",
      "It is strongly recommended to pass the ``sampling_rate`` argument to this function. Failing to do so can result in silent errors that might be hard to debug.\n",
      "\n",
      "\n",
      "\u001b[A\u001b[A"
     ]
    },
    {
     "name": "stdout",
     "output_type": "stream",
     "text": [
      "Setting resample\n",
      "resample sucessfuly set\n",
      "setting speech tensor\n",
      "applying tensor to device\n",
      "applying processor\n",
      "processor applied\n",
      "inputs insured\n"
     ]
    },
    {
     "name": "stderr",
     "output_type": "stream",
     "text": [
      "It is strongly recommended to pass the ``sampling_rate`` argument to this function. Failing to do so can result in silent errors that might be hard to debug.\n",
      "It is strongly recommended to pass the ``sampling_rate`` argument to this function. Failing to do so can result in silent errors that might be hard to debug.\n",
      "\n",
      "\n",
      "\u001b[A\u001b[AIt is strongly recommended to pass the ``sampling_rate`` argument to this function. Failing to do so can result in silent errors that might be hard to debug.\n",
      "It is strongly recommended to pass the ``sampling_rate`` argument to this function. Failing to do so can result in silent errors that might be hard to debug.\n",
      "It is strongly recommended to pass the ``sampling_rate`` argument to this function. Failing to do so can result in silent errors that might be hard to debug.\n"
     ]
    },
    {
     "name": "stdout",
     "output_type": "stream",
     "text": [
      "Setting resample\n",
      "resample sucessfuly set\n",
      "setting speech tensor\n",
      "applying tensor to device\n",
      "applying processor\n",
      "processor applied\n",
      "inputs insured\n",
      "Setting resample\n",
      "resample sucessfuly set\n",
      "setting speech tensor\n",
      "applying tensor to device\n",
      "applying processor\n",
      "processor applied\n",
      "inputs insured\n",
      "Setting resample\n",
      "resample sucessfuly set\n",
      "setting speech tensor\n",
      "applying tensor to device\n",
      "applying processor\n"
     ]
    },
    {
     "name": "stderr",
     "output_type": "stream",
     "text": [
      "It is strongly recommended to pass the ``sampling_rate`` argument to this function. Failing to do so can result in silent errors that might be hard to debug.\n",
      "\n",
      "\n",
      "\u001b[A\u001b[AIt is strongly recommended to pass the ``sampling_rate`` argument to this function. Failing to do so can result in silent errors that might be hard to debug.\n",
      "It is strongly recommended to pass the ``sampling_rate`` argument to this function. Failing to do so can result in silent errors that might be hard to debug.\n"
     ]
    },
    {
     "name": "stdout",
     "output_type": "stream",
     "text": [
      "processor applied\n",
      "inputs insured\n",
      "Setting resample\n",
      "resample sucessfuly set\n",
      "setting speech tensor\n",
      "applying tensor to device\n",
      "applying processor\n",
      "processor applied\n",
      "inputs insured\n"
     ]
    },
    {
     "name": "stderr",
     "output_type": "stream",
     "text": [
      "\n",
      "\n",
      "\u001b[A\u001b[AIt is strongly recommended to pass the ``sampling_rate`` argument to this function. Failing to do so can result in silent errors that might be hard to debug.\n",
      "It is strongly recommended to pass the ``sampling_rate`` argument to this function. Failing to do so can result in silent errors that might be hard to debug.\n",
      "\n",
      "\n",
      "\u001b[A\u001b[AIt is strongly recommended to pass the ``sampling_rate`` argument to this function. Failing to do so can result in silent errors that might be hard to debug.\n",
      "It is strongly recommended to pass the ``sampling_rate`` argument to this function. Failing to do so can result in silent errors that might be hard to debug.\n"
     ]
    },
    {
     "name": "stdout",
     "output_type": "stream",
     "text": [
      "Setting resample\n",
      "resample sucessfuly set\n",
      "setting speech tensor\n",
      "applying tensor to device\n",
      "applying processor\n",
      "processor applied\n",
      "inputs insured\n",
      "Setting resample\n",
      "resample sucessfuly set\n",
      "setting speech tensor\n",
      "applying tensor to device\n",
      "applying processor\n",
      "processor applied\n",
      "inputs insured\n"
     ]
    },
    {
     "name": "stderr",
     "output_type": "stream",
     "text": [
      "\n",
      "\n",
      "\u001b[A\u001b[AIt is strongly recommended to pass the ``sampling_rate`` argument to this function. Failing to do so can result in silent errors that might be hard to debug.\n",
      "It is strongly recommended to pass the ``sampling_rate`` argument to this function. Failing to do so can result in silent errors that might be hard to debug.\n",
      "\n",
      "\n",
      "\u001b[A\u001b[AIt is strongly recommended to pass the ``sampling_rate`` argument to this function. Failing to do so can result in silent errors that might be hard to debug.\n",
      "It is strongly recommended to pass the ``sampling_rate`` argument to this function. Failing to do so can result in silent errors that might be hard to debug.\n"
     ]
    },
    {
     "name": "stdout",
     "output_type": "stream",
     "text": [
      "Setting resample\n",
      "resample sucessfuly set\n",
      "setting speech tensor\n",
      "applying tensor to device\n",
      "applying processor\n",
      "processor applied\n",
      "inputs insured\n",
      "Setting resample\n",
      "resample sucessfuly set\n",
      "setting speech tensor\n",
      "applying tensor to device\n",
      "applying processor\n",
      "processor applied\n",
      "inputs insured\n"
     ]
    },
    {
     "name": "stderr",
     "output_type": "stream",
     "text": [
      "It is strongly recommended to pass the ``sampling_rate`` argument to this function. Failing to do so can result in silent errors that might be hard to debug.\n",
      "It is strongly recommended to pass the ``sampling_rate`` argument to this function. Failing to do so can result in silent errors that might be hard to debug.\n",
      "\n",
      "\n",
      "\u001b[A\u001b[AIt is strongly recommended to pass the ``sampling_rate`` argument to this function. Failing to do so can result in silent errors that might be hard to debug.\n",
      "It is strongly recommended to pass the ``sampling_rate`` argument to this function. Failing to do so can result in silent errors that might be hard to debug.\n",
      "It is strongly recommended to pass the ``sampling_rate`` argument to this function. Failing to do so can result in silent errors that might be hard to debug.\n",
      "It is strongly recommended to pass the ``sampling_rate`` argument to this function. Failing to do so can result in silent errors that might be hard to debug.\n"
     ]
    },
    {
     "name": "stdout",
     "output_type": "stream",
     "text": [
      "Setting resample\n",
      "resample sucessfuly set\n",
      "setting speech tensor\n",
      "applying tensor to device\n",
      "applying processor\n",
      "processor applied\n",
      "inputs insured\n",
      "Setting resample\n",
      "resample sucessfuly set\n",
      "setting speech tensor\n",
      "applying tensor to device\n",
      "applying processor\n",
      "processor applied\n",
      "inputs insured\n",
      "Setting resample\n",
      "resample sucessfuly set\n",
      "setting speech tensor\n",
      "applying tensor to device\n",
      "applying processor\n",
      "processor applied\n",
      "inputs insured\n"
     ]
    },
    {
     "name": "stderr",
     "output_type": "stream",
     "text": [
      "\n",
      "\n",
      "\u001b[A\u001b[AIt is strongly recommended to pass the ``sampling_rate`` argument to this function. Failing to do so can result in silent errors that might be hard to debug.\n",
      "It is strongly recommended to pass the ``sampling_rate`` argument to this function. Failing to do so can result in silent errors that might be hard to debug.\n",
      "\n",
      "\n",
      "\u001b[A\u001b[AIt is strongly recommended to pass the ``sampling_rate`` argument to this function. Failing to do so can result in silent errors that might be hard to debug.\n",
      "It is strongly recommended to pass the ``sampling_rate`` argument to this function. Failing to do so can result in silent errors that might be hard to debug.\n"
     ]
    },
    {
     "name": "stdout",
     "output_type": "stream",
     "text": [
      "Setting resample\n",
      "resample sucessfuly set\n",
      "setting speech tensor\n",
      "applying tensor to device\n",
      "applying processor\n",
      "processor applied\n",
      "inputs insured\n",
      "Setting resample\n",
      "resample sucessfuly set\n",
      "setting speech tensor\n",
      "applying tensor to device\n",
      "applying processor\n",
      "processor applied\n",
      "inputs insured\n"
     ]
    },
    {
     "name": "stderr",
     "output_type": "stream",
     "text": [
      "\n",
      "\n",
      "\u001b[A\u001b[AIt is strongly recommended to pass the ``sampling_rate`` argument to this function. Failing to do so can result in silent errors that might be hard to debug.\n",
      "It is strongly recommended to pass the ``sampling_rate`` argument to this function. Failing to do so can result in silent errors that might be hard to debug.\n",
      "It is strongly recommended to pass the ``sampling_rate`` argument to this function. Failing to do so can result in silent errors that might be hard to debug.\n",
      "It is strongly recommended to pass the ``sampling_rate`` argument to this function. Failing to do so can result in silent errors that might be hard to debug.\n",
      "\n",
      "\n",
      "\u001b[A\u001b[AIt is strongly recommended to pass the ``sampling_rate`` argument to this function. Failing to do so can result in silent errors that might be hard to debug.\n",
      "It is strongly recommended to pass the ``sampling_rate`` argument to this function. Failing to do so can result in silent errors that might be hard to debug.\n"
     ]
    },
    {
     "name": "stdout",
     "output_type": "stream",
     "text": [
      "Setting resample\n",
      "resample sucessfuly set\n",
      "setting speech tensor\n",
      "applying tensor to device\n",
      "applying processor\n",
      "processor applied\n",
      "inputs insured\n",
      "Setting resample\n",
      "resample sucessfuly set\n",
      "setting speech tensor\n",
      "applying tensor to device\n",
      "applying processor\n",
      "processor applied\n",
      "inputs insured\n",
      "Setting resample\n",
      "resample sucessfuly set\n",
      "setting speech tensor\n",
      "applying tensor to device\n",
      "applying processor\n",
      "processor applied\n",
      "inputs insured\n"
     ]
    },
    {
     "name": "stderr",
     "output_type": "stream",
     "text": [
      "\n",
      "\n",
      "\u001b[A\u001b[AIt is strongly recommended to pass the ``sampling_rate`` argument to this function. Failing to do so can result in silent errors that might be hard to debug.\n",
      "It is strongly recommended to pass the ``sampling_rate`` argument to this function. Failing to do so can result in silent errors that might be hard to debug.\n"
     ]
    },
    {
     "name": "stdout",
     "output_type": "stream",
     "text": [
      "Setting resample\n",
      "resample sucessfuly set\n",
      "setting speech tensor\n",
      "applying tensor to device\n",
      "applying processor\n",
      "processor applied\n",
      "inputs insured\n"
     ]
    },
    {
     "name": "stderr",
     "output_type": "stream",
     "text": [
      "\n",
      "\n",
      "\u001b[A\u001b[AIt is strongly recommended to pass the ``sampling_rate`` argument to this function. Failing to do so can result in silent errors that might be hard to debug.\n",
      "It is strongly recommended to pass the ``sampling_rate`` argument to this function. Failing to do so can result in silent errors that might be hard to debug.\n",
      "\n",
      "\n",
      "\u001b[A\u001b[AIt is strongly recommended to pass the ``sampling_rate`` argument to this function. Failing to do so can result in silent errors that might be hard to debug.\n",
      "It is strongly recommended to pass the ``sampling_rate`` argument to this function. Failing to do so can result in silent errors that might be hard to debug.\n"
     ]
    },
    {
     "name": "stdout",
     "output_type": "stream",
     "text": [
      "Setting resample\n",
      "resample sucessfuly set\n",
      "setting speech tensor\n",
      "applying tensor to device\n",
      "applying processor\n",
      "processor applied\n",
      "inputs insured\n",
      "Setting resample\n",
      "resample sucessfuly set\n",
      "setting speech tensor\n",
      "applying tensor to device\n",
      "applying processor\n",
      "processor applied\n",
      "inputs insured\n"
     ]
    },
    {
     "name": "stderr",
     "output_type": "stream",
     "text": [
      "\n",
      "\n",
      "\u001b[A\u001b[AIt is strongly recommended to pass the ``sampling_rate`` argument to this function. Failing to do so can result in silent errors that might be hard to debug.\n",
      "It is strongly recommended to pass the ``sampling_rate`` argument to this function. Failing to do so can result in silent errors that might be hard to debug.\n",
      "\n",
      "\n",
      "\u001b[A\u001b[AIt is strongly recommended to pass the ``sampling_rate`` argument to this function. Failing to do so can result in silent errors that might be hard to debug.\n",
      "It is strongly recommended to pass the ``sampling_rate`` argument to this function. Failing to do so can result in silent errors that might be hard to debug.\n"
     ]
    },
    {
     "name": "stdout",
     "output_type": "stream",
     "text": [
      "Setting resample\n",
      "resample sucessfuly set\n",
      "setting speech tensor\n",
      "applying tensor to device\n",
      "applying processor\n",
      "processor applied\n",
      "inputs insured\n",
      "Setting resample\n",
      "resample sucessfuly set\n",
      "setting speech tensor\n",
      "applying tensor to device\n",
      "applying processor\n",
      "processor applied\n",
      "inputs insured\n"
     ]
    },
    {
     "name": "stderr",
     "output_type": "stream",
     "text": [
      "\n",
      "\n",
      "\u001b[A\u001b[AIt is strongly recommended to pass the ``sampling_rate`` argument to this function. Failing to do so can result in silent errors that might be hard to debug.\n",
      "It is strongly recommended to pass the ``sampling_rate`` argument to this function. Failing to do so can result in silent errors that might be hard to debug.\n",
      "It is strongly recommended to pass the ``sampling_rate`` argument to this function. Failing to do so can result in silent errors that might be hard to debug.\n",
      "It is strongly recommended to pass the ``sampling_rate`` argument to this function. Failing to do so can result in silent errors that might be hard to debug.\n",
      "\n",
      "\n",
      "\u001b[A\u001b[AIt is strongly recommended to pass the ``sampling_rate`` argument to this function. Failing to do so can result in silent errors that might be hard to debug.\n",
      "It is strongly recommended to pass the ``sampling_rate`` argument to this function. Failing to do so can result in silent errors that might be hard to debug.\n"
     ]
    },
    {
     "name": "stdout",
     "output_type": "stream",
     "text": [
      "Setting resample\n",
      "resample sucessfuly set\n",
      "setting speech tensor\n",
      "applying tensor to device\n",
      "applying processor\n",
      "processor applied\n",
      "inputs insured\n",
      "Setting resample\n",
      "resample sucessfuly set\n",
      "setting speech tensor\n",
      "applying tensor to device\n",
      "applying processor\n",
      "processor applied\n",
      "inputs insured\n",
      "Setting resample\n",
      "resample sucessfuly set\n",
      "setting speech tensor\n",
      "applying tensor to device\n",
      "applying processor\n",
      "processor applied\n",
      "inputs insured\n"
     ]
    },
    {
     "name": "stderr",
     "output_type": "stream",
     "text": [
      "\n",
      "\n",
      "\u001b[A\u001b[AIt is strongly recommended to pass the ``sampling_rate`` argument to this function. Failing to do so can result in silent errors that might be hard to debug.\n",
      "It is strongly recommended to pass the ``sampling_rate`` argument to this function. Failing to do so can result in silent errors that might be hard to debug.\n",
      "\n",
      "\n",
      "\u001b[A\u001b[AIt is strongly recommended to pass the ``sampling_rate`` argument to this function. Failing to do so can result in silent errors that might be hard to debug.\n",
      "It is strongly recommended to pass the ``sampling_rate`` argument to this function. Failing to do so can result in silent errors that might be hard to debug.\n"
     ]
    },
    {
     "name": "stdout",
     "output_type": "stream",
     "text": [
      "Setting resample\n",
      "resample sucessfuly set\n",
      "setting speech tensor\n",
      "applying tensor to device\n",
      "applying processor\n",
      "processor applied\n",
      "inputs insured\n",
      "Setting resample\n",
      "resample sucessfuly set\n",
      "setting speech tensor\n",
      "applying tensor to device\n",
      "applying processor\n",
      "processor applied\n",
      "inputs insured\n"
     ]
    },
    {
     "name": "stderr",
     "output_type": "stream",
     "text": [
      "\n",
      "\n",
      "\u001b[A\u001b[AIt is strongly recommended to pass the ``sampling_rate`` argument to this function. Failing to do so can result in silent errors that might be hard to debug.\n",
      "It is strongly recommended to pass the ``sampling_rate`` argument to this function. Failing to do so can result in silent errors that might be hard to debug.\n",
      "\n",
      "\n",
      "\u001b[A\u001b[AIt is strongly recommended to pass the ``sampling_rate`` argument to this function. Failing to do so can result in silent errors that might be hard to debug.\n",
      "It is strongly recommended to pass the ``sampling_rate`` argument to this function. Failing to do so can result in silent errors that might be hard to debug.\n"
     ]
    },
    {
     "name": "stdout",
     "output_type": "stream",
     "text": [
      "Setting resample\n",
      "resample sucessfuly set\n",
      "setting speech tensor\n",
      "applying tensor to device\n",
      "applying processor\n",
      "processor applied\n",
      "inputs insured\n",
      "Setting resample\n",
      "resample sucessfuly set\n",
      "setting speech tensor\n",
      "applying tensor to device\n",
      "applying processor\n",
      "processor applied\n",
      "inputs insured\n"
     ]
    },
    {
     "name": "stderr",
     "output_type": "stream",
     "text": [
      "\n",
      "\n",
      "\u001b[A\u001b[AIt is strongly recommended to pass the ``sampling_rate`` argument to this function. Failing to do so can result in silent errors that might be hard to debug.\n",
      "It is strongly recommended to pass the ``sampling_rate`` argument to this function. Failing to do so can result in silent errors that might be hard to debug.\n",
      "\n",
      "\n",
      "\u001b[A\u001b[AIt is strongly recommended to pass the ``sampling_rate`` argument to this function. Failing to do so can result in silent errors that might be hard to debug.\n",
      "It is strongly recommended to pass the ``sampling_rate`` argument to this function. Failing to do so can result in silent errors that might be hard to debug.\n"
     ]
    },
    {
     "name": "stdout",
     "output_type": "stream",
     "text": [
      "Setting resample\n",
      "resample sucessfuly set\n",
      "setting speech tensor\n",
      "applying tensor to device\n",
      "applying processor\n",
      "processor applied\n",
      "inputs insured\n",
      "Setting resample\n",
      "resample sucessfuly set\n",
      "setting speech tensor\n",
      "applying tensor to device\n",
      "applying processor\n",
      "processor applied\n",
      "inputs insured\n"
     ]
    },
    {
     "name": "stderr",
     "output_type": "stream",
     "text": [
      "It is strongly recommended to pass the ``sampling_rate`` argument to this function. Failing to do so can result in silent errors that might be hard to debug.\n",
      "It is strongly recommended to pass the ``sampling_rate`` argument to this function. Failing to do so can result in silent errors that might be hard to debug.\n",
      "\n",
      "\n",
      "\u001b[A\u001b[AIt is strongly recommended to pass the ``sampling_rate`` argument to this function. Failing to do so can result in silent errors that might be hard to debug.\n",
      "It is strongly recommended to pass the ``sampling_rate`` argument to this function. Failing to do so can result in silent errors that might be hard to debug.\n"
     ]
    },
    {
     "name": "stdout",
     "output_type": "stream",
     "text": [
      "Setting resample\n",
      "resample sucessfuly set\n",
      "setting speech tensor\n",
      "applying tensor to device\n",
      "applying processor\n",
      "processor applied\n",
      "inputs insured\n",
      "Setting resample\n",
      "resample sucessfuly set\n",
      "setting speech tensor\n",
      "applying tensor to device\n",
      "applying processor\n",
      "processor applied\n",
      "inputs insured\n"
     ]
    },
    {
     "name": "stderr",
     "output_type": "stream",
     "text": [
      "\n",
      "\n",
      "\u001b[A\u001b[AIt is strongly recommended to pass the ``sampling_rate`` argument to this function. Failing to do so can result in silent errors that might be hard to debug.\n",
      "It is strongly recommended to pass the ``sampling_rate`` argument to this function. Failing to do so can result in silent errors that might be hard to debug.\n",
      "\n",
      "\n",
      "\u001b[A\u001b[A"
     ]
    },
    {
     "name": "stdout",
     "output_type": "stream",
     "text": [
      "Setting resample\n",
      "resample sucessfuly set\n",
      "setting speech tensor\n",
      "applying tensor to device\n",
      "applying processor\n",
      "processor applied\n",
      "inputs insured\n"
     ]
    },
    {
     "name": "stderr",
     "output_type": "stream",
     "text": [
      "It is strongly recommended to pass the ``sampling_rate`` argument to this function. Failing to do so can result in silent errors that might be hard to debug.\n",
      "It is strongly recommended to pass the ``sampling_rate`` argument to this function. Failing to do so can result in silent errors that might be hard to debug.\n",
      "\n",
      "\n",
      "\u001b[A\u001b[AIt is strongly recommended to pass the ``sampling_rate`` argument to this function. Failing to do so can result in silent errors that might be hard to debug.\n",
      "It is strongly recommended to pass the ``sampling_rate`` argument to this function. Failing to do so can result in silent errors that might be hard to debug.\n"
     ]
    },
    {
     "name": "stdout",
     "output_type": "stream",
     "text": [
      "Setting resample\n",
      "resample sucessfuly set\n",
      "setting speech tensor\n",
      "applying tensor to device\n",
      "applying processor\n",
      "processor applied\n",
      "inputs insured\n",
      "Setting resample\n",
      "resample sucessfuly set\n",
      "setting speech tensor\n",
      "applying tensor to device\n",
      "applying processor\n",
      "processor applied\n",
      "inputs insured\n"
     ]
    },
    {
     "name": "stderr",
     "output_type": "stream",
     "text": [
      "It is strongly recommended to pass the ``sampling_rate`` argument to this function. Failing to do so can result in silent errors that might be hard to debug.\n",
      "It is strongly recommended to pass the ``sampling_rate`` argument to this function. Failing to do so can result in silent errors that might be hard to debug.\n",
      "\n",
      "\n",
      "\u001b[A\u001b[AIt is strongly recommended to pass the ``sampling_rate`` argument to this function. Failing to do so can result in silent errors that might be hard to debug.\n",
      "It is strongly recommended to pass the ``sampling_rate`` argument to this function. Failing to do so can result in silent errors that might be hard to debug.\n"
     ]
    },
    {
     "name": "stdout",
     "output_type": "stream",
     "text": [
      "Setting resample\n",
      "resample sucessfuly set\n",
      "setting speech tensor\n",
      "applying tensor to device\n",
      "applying processor\n",
      "processor applied\n",
      "inputs insured\n",
      "Setting resample\n",
      "resample sucessfuly set\n",
      "setting speech tensor\n",
      "applying tensor to device\n",
      "applying processor\n",
      "processor applied\n",
      "inputs insured\n"
     ]
    },
    {
     "name": "stderr",
     "output_type": "stream",
     "text": [
      "\n",
      "\n",
      "\u001b[A\u001b[AIt is strongly recommended to pass the ``sampling_rate`` argument to this function. Failing to do so can result in silent errors that might be hard to debug.\n",
      "It is strongly recommended to pass the ``sampling_rate`` argument to this function. Failing to do so can result in silent errors that might be hard to debug.\n",
      "\n",
      "\n",
      "\u001b[A\u001b[A"
     ]
    },
    {
     "name": "stdout",
     "output_type": "stream",
     "text": [
      "Setting resample\n",
      "resample sucessfuly set\n",
      "setting speech tensor\n",
      "applying tensor to device\n",
      "applying processor\n",
      "processor applied\n",
      "inputs insured\n",
      "Setting resample\n",
      "resample sucessfuly set\n",
      "setting speech tensor\n",
      "applying tensor to device\n",
      "applying processor\n"
     ]
    },
    {
     "name": "stderr",
     "output_type": "stream",
     "text": [
      "It is strongly recommended to pass the ``sampling_rate`` argument to this function. Failing to do so can result in silent errors that might be hard to debug.\n",
      "It is strongly recommended to pass the ``sampling_rate`` argument to this function. Failing to do so can result in silent errors that might be hard to debug.\n",
      "\n",
      "\n",
      "\u001b[A\u001b[AIt is strongly recommended to pass the ``sampling_rate`` argument to this function. Failing to do so can result in silent errors that might be hard to debug.\n",
      "It is strongly recommended to pass the ``sampling_rate`` argument to this function. Failing to do so can result in silent errors that might be hard to debug.\n"
     ]
    },
    {
     "name": "stdout",
     "output_type": "stream",
     "text": [
      "processor applied\n",
      "inputs insured\n",
      "Setting resample\n",
      "resample sucessfuly set\n",
      "setting speech tensor\n",
      "applying tensor to device\n",
      "applying processor\n",
      "processor applied\n",
      "inputs insured\n"
     ]
    },
    {
     "name": "stderr",
     "output_type": "stream",
     "text": [
      "\n",
      "\n",
      "\u001b[A\u001b[AIt is strongly recommended to pass the ``sampling_rate`` argument to this function. Failing to do so can result in silent errors that might be hard to debug.\n",
      "It is strongly recommended to pass the ``sampling_rate`` argument to this function. Failing to do so can result in silent errors that might be hard to debug.\n",
      "It is strongly recommended to pass the ``sampling_rate`` argument to this function. Failing to do so can result in silent errors that might be hard to debug.\n",
      "It is strongly recommended to pass the ``sampling_rate`` argument to this function. Failing to do so can result in silent errors that might be hard to debug.\n"
     ]
    },
    {
     "name": "stdout",
     "output_type": "stream",
     "text": [
      "Setting resample\n",
      "resample sucessfuly set\n",
      "setting speech tensor\n",
      "applying tensor to device\n",
      "applying processor\n",
      "processor applied\n",
      "inputs insured\n",
      "Setting resample\n",
      "resample sucessfuly set\n",
      "setting speech tensor\n",
      "applying tensor to device\n",
      "applying processor\n",
      "processor applied\n",
      "inputs insured\n"
     ]
    },
    {
     "name": "stderr",
     "output_type": "stream",
     "text": [
      "\n",
      "\n",
      "\u001b[A\u001b[AIt is strongly recommended to pass the ``sampling_rate`` argument to this function. Failing to do so can result in silent errors that might be hard to debug.\n",
      "It is strongly recommended to pass the ``sampling_rate`` argument to this function. Failing to do so can result in silent errors that might be hard to debug.\n",
      "\n",
      "\n",
      "\u001b[A\u001b[AIt is strongly recommended to pass the ``sampling_rate`` argument to this function. Failing to do so can result in silent errors that might be hard to debug.\n",
      "It is strongly recommended to pass the ``sampling_rate`` argument to this function. Failing to do so can result in silent errors that might be hard to debug.\n"
     ]
    },
    {
     "name": "stdout",
     "output_type": "stream",
     "text": [
      "Setting resample\n",
      "resample sucessfuly set\n",
      "setting speech tensor\n",
      "applying tensor to device\n",
      "applying processor\n",
      "processor applied\n",
      "inputs insured\n",
      "Setting resample\n",
      "resample sucessfuly set\n",
      "setting speech tensor\n",
      "applying tensor to device\n",
      "applying processor\n",
      "processor applied\n",
      "inputs insured\n"
     ]
    },
    {
     "name": "stderr",
     "output_type": "stream",
     "text": [
      "\n",
      "\n",
      "\u001b[A\u001b[AIt is strongly recommended to pass the ``sampling_rate`` argument to this function. Failing to do so can result in silent errors that might be hard to debug.\n",
      "It is strongly recommended to pass the ``sampling_rate`` argument to this function. Failing to do so can result in silent errors that might be hard to debug.\n",
      "It is strongly recommended to pass the ``sampling_rate`` argument to this function. Failing to do so can result in silent errors that might be hard to debug.\n",
      "It is strongly recommended to pass the ``sampling_rate`` argument to this function. Failing to do so can result in silent errors that might be hard to debug.\n"
     ]
    },
    {
     "name": "stdout",
     "output_type": "stream",
     "text": [
      "Setting resample\n",
      "resample sucessfuly set\n",
      "setting speech tensor\n",
      "applying tensor to device\n",
      "applying processor\n",
      "processor applied\n",
      "inputs insured\n",
      "Setting resample\n",
      "resample sucessfuly set\n",
      "setting speech tensor\n",
      "applying tensor to device\n",
      "applying processor\n",
      "processor applied\n",
      "inputs insured\n"
     ]
    },
    {
     "name": "stderr",
     "output_type": "stream",
     "text": [
      "\n",
      "\n",
      "\u001b[A\u001b[AIt is strongly recommended to pass the ``sampling_rate`` argument to this function. Failing to do so can result in silent errors that might be hard to debug.\n",
      "It is strongly recommended to pass the ``sampling_rate`` argument to this function. Failing to do so can result in silent errors that might be hard to debug.\n",
      "It is strongly recommended to pass the ``sampling_rate`` argument to this function. Failing to do so can result in silent errors that might be hard to debug.\n",
      "It is strongly recommended to pass the ``sampling_rate`` argument to this function. Failing to do so can result in silent errors that might be hard to debug.\n",
      "\n",
      "\n",
      "\u001b[A\u001b[AIt is strongly recommended to pass the ``sampling_rate`` argument to this function. Failing to do so can result in silent errors that might be hard to debug.\n",
      "It is strongly recommended to pass the ``sampling_rate`` argument to this function. Failing to do so can result in silent errors that might be hard to debug.\n"
     ]
    },
    {
     "name": "stdout",
     "output_type": "stream",
     "text": [
      "Setting resample\n",
      "resample sucessfuly set\n",
      "setting speech tensor\n",
      "applying tensor to device\n",
      "applying processor\n",
      "processor applied\n",
      "inputs insured\n",
      "Setting resample\n",
      "resample sucessfuly set\n",
      "setting speech tensor\n",
      "applying tensor to device\n",
      "applying processor\n",
      "processor applied\n",
      "inputs insured\n",
      "Setting resample\n",
      "resample sucessfuly set\n",
      "setting speech tensor\n",
      "applying tensor to device\n",
      "applying processor\n",
      "processor applied\n",
      "inputs insured\n"
     ]
    },
    {
     "name": "stderr",
     "output_type": "stream",
     "text": [
      "It is strongly recommended to pass the ``sampling_rate`` argument to this function. Failing to do so can result in silent errors that might be hard to debug.\n",
      "It is strongly recommended to pass the ``sampling_rate`` argument to this function. Failing to do so can result in silent errors that might be hard to debug.\n",
      "\n",
      "\n",
      "\u001b[A\u001b[AIt is strongly recommended to pass the ``sampling_rate`` argument to this function. Failing to do so can result in silent errors that might be hard to debug.\n",
      "It is strongly recommended to pass the ``sampling_rate`` argument to this function. Failing to do so can result in silent errors that might be hard to debug.\n"
     ]
    },
    {
     "name": "stdout",
     "output_type": "stream",
     "text": [
      "Setting resample\n",
      "resample sucessfuly set\n",
      "setting speech tensor\n",
      "applying tensor to device\n",
      "applying processor\n",
      "processor applied\n",
      "inputs insured\n",
      "Setting resample\n",
      "resample sucessfuly set\n",
      "setting speech tensor\n",
      "applying tensor to device\n",
      "applying processor\n",
      "processor applied\n",
      "inputs insured\n"
     ]
    },
    {
     "name": "stderr",
     "output_type": "stream",
     "text": [
      "\n",
      "\n",
      "\u001b[A\u001b[AIt is strongly recommended to pass the ``sampling_rate`` argument to this function. Failing to do so can result in silent errors that might be hard to debug.\n",
      "It is strongly recommended to pass the ``sampling_rate`` argument to this function. Failing to do so can result in silent errors that might be hard to debug.\n",
      "\n",
      "\n",
      "\u001b[A\u001b[AIt is strongly recommended to pass the ``sampling_rate`` argument to this function. Failing to do so can result in silent errors that might be hard to debug.\n",
      "It is strongly recommended to pass the ``sampling_rate`` argument to this function. Failing to do so can result in silent errors that might be hard to debug.\n"
     ]
    },
    {
     "name": "stdout",
     "output_type": "stream",
     "text": [
      "Setting resample\n",
      "resample sucessfuly set\n",
      "setting speech tensor\n",
      "applying tensor to device\n",
      "applying processor\n",
      "processor applied\n",
      "inputs insured\n",
      "Setting resample\n",
      "resample sucessfuly set\n",
      "setting speech tensor\n",
      "applying tensor to device\n",
      "applying processor\n",
      "processor applied\n",
      "inputs insured\n"
     ]
    },
    {
     "name": "stderr",
     "output_type": "stream",
     "text": [
      "\n",
      "\n",
      "\u001b[A\u001b[AIt is strongly recommended to pass the ``sampling_rate`` argument to this function. Failing to do so can result in silent errors that might be hard to debug.\n",
      "It is strongly recommended to pass the ``sampling_rate`` argument to this function. Failing to do so can result in silent errors that might be hard to debug.\n",
      "\n",
      "\n",
      "\u001b[A\u001b[AIt is strongly recommended to pass the ``sampling_rate`` argument to this function. Failing to do so can result in silent errors that might be hard to debug.\n",
      "It is strongly recommended to pass the ``sampling_rate`` argument to this function. Failing to do so can result in silent errors that might be hard to debug.\n"
     ]
    },
    {
     "name": "stdout",
     "output_type": "stream",
     "text": [
      "Setting resample\n",
      "resample sucessfuly set\n",
      "setting speech tensor\n",
      "applying tensor to device\n",
      "applying processor\n",
      "processor applied\n",
      "inputs insured\n",
      "Setting resample\n",
      "resample sucessfuly set\n",
      "setting speech tensor\n",
      "applying tensor to device\n",
      "applying processor\n",
      "processor applied\n",
      "inputs insured\n"
     ]
    },
    {
     "name": "stderr",
     "output_type": "stream",
     "text": [
      "\n",
      "\n",
      "\u001b[A\u001b[AIt is strongly recommended to pass the ``sampling_rate`` argument to this function. Failing to do so can result in silent errors that might be hard to debug.\n",
      "It is strongly recommended to pass the ``sampling_rate`` argument to this function. Failing to do so can result in silent errors that might be hard to debug.\n",
      "\n",
      "\n",
      "\u001b[A\u001b[AIt is strongly recommended to pass the ``sampling_rate`` argument to this function. Failing to do so can result in silent errors that might be hard to debug.\n",
      "It is strongly recommended to pass the ``sampling_rate`` argument to this function. Failing to do so can result in silent errors that might be hard to debug.\n",
      "It is strongly recommended to pass the ``sampling_rate`` argument to this function. Failing to do so can result in silent errors that might be hard to debug.\n",
      "It is strongly recommended to pass the ``sampling_rate`` argument to this function. Failing to do so can result in silent errors that might be hard to debug.\n"
     ]
    },
    {
     "name": "stdout",
     "output_type": "stream",
     "text": [
      "Setting resample\n",
      "resample sucessfuly set\n",
      "setting speech tensor\n",
      "applying tensor to device\n",
      "applying processor\n",
      "processor applied\n",
      "inputs insured\n",
      "Setting resample\n",
      "resample sucessfuly set\n",
      "setting speech tensor\n",
      "applying tensor to device\n",
      "applying processor\n",
      "processor applied\n",
      "inputs insured\n",
      "Setting resample\n",
      "resample sucessfuly set\n",
      "setting speech tensor\n",
      "applying tensor to device\n",
      "applying processor\n",
      "processor applied\n",
      "inputs insured\n"
     ]
    },
    {
     "name": "stderr",
     "output_type": "stream",
     "text": [
      "\n",
      "\n",
      "\u001b[A\u001b[AIt is strongly recommended to pass the ``sampling_rate`` argument to this function. Failing to do so can result in silent errors that might be hard to debug.\n",
      "It is strongly recommended to pass the ``sampling_rate`` argument to this function. Failing to do so can result in silent errors that might be hard to debug.\n",
      "It is strongly recommended to pass the ``sampling_rate`` argument to this function. Failing to do so can result in silent errors that might be hard to debug.\n",
      "It is strongly recommended to pass the ``sampling_rate`` argument to this function. Failing to do so can result in silent errors that might be hard to debug.\n",
      "\n",
      "\n",
      "\u001b[A\u001b[AIt is strongly recommended to pass the ``sampling_rate`` argument to this function. Failing to do so can result in silent errors that might be hard to debug.\n",
      "It is strongly recommended to pass the ``sampling_rate`` argument to this function. Failing to do so can result in silent errors that might be hard to debug.\n"
     ]
    },
    {
     "name": "stdout",
     "output_type": "stream",
     "text": [
      "Setting resample\n",
      "resample sucessfuly set\n",
      "setting speech tensor\n",
      "applying tensor to device\n",
      "applying processor\n",
      "processor applied\n",
      "inputs insured\n",
      "Setting resample\n",
      "resample sucessfuly set\n",
      "setting speech tensor\n",
      "applying tensor to device\n",
      "applying processor\n",
      "processor applied\n",
      "inputs insured\n",
      "Setting resample\n",
      "resample sucessfuly set\n",
      "setting speech tensor\n",
      "applying tensor to device\n",
      "applying processor\n",
      "processor applied\n",
      "inputs insured\n"
     ]
    },
    {
     "name": "stderr",
     "output_type": "stream",
     "text": [
      "It is strongly recommended to pass the ``sampling_rate`` argument to this function. Failing to do so can result in silent errors that might be hard to debug.\n",
      "It is strongly recommended to pass the ``sampling_rate`` argument to this function. Failing to do so can result in silent errors that might be hard to debug.\n",
      "\n",
      "\n",
      "\u001b[A\u001b[AIt is strongly recommended to pass the ``sampling_rate`` argument to this function. Failing to do so can result in silent errors that might be hard to debug.\n",
      "It is strongly recommended to pass the ``sampling_rate`` argument to this function. Failing to do so can result in silent errors that might be hard to debug.\n",
      "It is strongly recommended to pass the ``sampling_rate`` argument to this function. Failing to do so can result in silent errors that might be hard to debug.\n",
      "It is strongly recommended to pass the ``sampling_rate`` argument to this function. Failing to do so can result in silent errors that might be hard to debug.\n"
     ]
    },
    {
     "name": "stdout",
     "output_type": "stream",
     "text": [
      "Setting resample\n",
      "resample sucessfuly set\n",
      "setting speech tensor\n",
      "applying tensor to device\n",
      "applying processor\n",
      "processor applied\n",
      "inputs insured\n",
      "Setting resample\n",
      "resample sucessfuly set\n",
      "setting speech tensor\n",
      "applying tensor to device\n",
      "applying processor\n",
      "processor applied\n",
      "inputs insured\n",
      "Setting resample\n",
      "resample sucessfuly set\n",
      "setting speech tensor\n",
      "applying tensor to device\n",
      "applying processor\n",
      "processor applied\n",
      "inputs insured\n"
     ]
    },
    {
     "name": "stderr",
     "output_type": "stream",
     "text": [
      "\n",
      "\n",
      "\u001b[A\u001b[AIt is strongly recommended to pass the ``sampling_rate`` argument to this function. Failing to do so can result in silent errors that might be hard to debug.\n",
      "It is strongly recommended to pass the ``sampling_rate`` argument to this function. Failing to do so can result in silent errors that might be hard to debug.\n",
      "\n",
      "\n",
      "\u001b[A\u001b[AIt is strongly recommended to pass the ``sampling_rate`` argument to this function. Failing to do so can result in silent errors that might be hard to debug.\n",
      "It is strongly recommended to pass the ``sampling_rate`` argument to this function. Failing to do so can result in silent errors that might be hard to debug.\n"
     ]
    },
    {
     "name": "stdout",
     "output_type": "stream",
     "text": [
      "Setting resample\n",
      "resample sucessfuly set\n",
      "setting speech tensor\n",
      "applying tensor to device\n",
      "applying processor\n",
      "processor applied\n",
      "inputs insured\n",
      "Setting resample\n",
      "resample sucessfuly set\n",
      "setting speech tensor\n",
      "applying tensor to device\n",
      "applying processor\n",
      "processor applied\n",
      "inputs insured\n"
     ]
    },
    {
     "name": "stderr",
     "output_type": "stream",
     "text": [
      "It is strongly recommended to pass the ``sampling_rate`` argument to this function. Failing to do so can result in silent errors that might be hard to debug.\n",
      "It is strongly recommended to pass the ``sampling_rate`` argument to this function. Failing to do so can result in silent errors that might be hard to debug.\n"
     ]
    },
    {
     "name": "stdout",
     "output_type": "stream",
     "text": [
      "Setting resample\n",
      "resample sucessfuly set\n",
      "setting speech tensor\n",
      "applying tensor to device\n",
      "applying processor\n",
      "processor applied\n",
      "inputs insured\n"
     ]
    },
    {
     "name": "stderr",
     "output_type": "stream",
     "text": [
      "\n",
      "\n",
      "\u001b[A\u001b[AIt is strongly recommended to pass the ``sampling_rate`` argument to this function. Failing to do so can result in silent errors that might be hard to debug.\n",
      "It is strongly recommended to pass the ``sampling_rate`` argument to this function. Failing to do so can result in silent errors that might be hard to debug.\n",
      "\n",
      "\n",
      "\u001b[A\u001b[AIt is strongly recommended to pass the ``sampling_rate`` argument to this function. Failing to do so can result in silent errors that might be hard to debug.\n",
      "It is strongly recommended to pass the ``sampling_rate`` argument to this function. Failing to do so can result in silent errors that might be hard to debug.\n",
      "It is strongly recommended to pass the ``sampling_rate`` argument to this function. Failing to do so can result in silent errors that might be hard to debug.\n",
      "It is strongly recommended to pass the ``sampling_rate`` argument to this function. Failing to do so can result in silent errors that might be hard to debug.\n"
     ]
    },
    {
     "name": "stdout",
     "output_type": "stream",
     "text": [
      "Setting resample\n",
      "resample sucessfuly set\n",
      "setting speech tensor\n",
      "applying tensor to device\n",
      "applying processor\n",
      "processor applied\n",
      "inputs insured\n",
      "Setting resample\n",
      "resample sucessfuly set\n",
      "setting speech tensor\n",
      "applying tensor to device\n",
      "applying processor\n",
      "processor applied\n",
      "inputs insured\n",
      "Setting resample\n",
      "resample sucessfuly set\n",
      "setting speech tensor\n",
      "applying tensor to device\n",
      "applying processor\n",
      "processor applied\n",
      "inputs insured\n"
     ]
    },
    {
     "name": "stderr",
     "output_type": "stream",
     "text": [
      "\n",
      "\n",
      "\u001b[A\u001b[AIt is strongly recommended to pass the ``sampling_rate`` argument to this function. Failing to do so can result in silent errors that might be hard to debug.\n",
      "It is strongly recommended to pass the ``sampling_rate`` argument to this function. Failing to do so can result in silent errors that might be hard to debug.\n",
      "\n",
      "\n",
      "\u001b[A\u001b[AIt is strongly recommended to pass the ``sampling_rate`` argument to this function. Failing to do so can result in silent errors that might be hard to debug.\n",
      "It is strongly recommended to pass the ``sampling_rate`` argument to this function. Failing to do so can result in silent errors that might be hard to debug.\n",
      "It is strongly recommended to pass the ``sampling_rate`` argument to this function. Failing to do so can result in silent errors that might be hard to debug.\n",
      "It is strongly recommended to pass the ``sampling_rate`` argument to this function. Failing to do so can result in silent errors that might be hard to debug.\n"
     ]
    },
    {
     "name": "stdout",
     "output_type": "stream",
     "text": [
      "Setting resample\n",
      "resample sucessfuly set\n",
      "setting speech tensor\n",
      "applying tensor to device\n",
      "applying processor\n",
      "processor applied\n",
      "inputs insured\n",
      "Setting resample\n",
      "resample sucessfuly set\n",
      "setting speech tensor\n",
      "applying tensor to device\n",
      "applying processor\n",
      "processor applied\n",
      "inputs insured\n",
      "Setting resample\n",
      "resample sucessfuly set\n",
      "setting speech tensor\n",
      "applying tensor to device\n",
      "applying processor\n",
      "processor applied\n",
      "inputs insured\n"
     ]
    },
    {
     "name": "stderr",
     "output_type": "stream",
     "text": [
      "\n",
      "\n",
      "\u001b[A\u001b[AIt is strongly recommended to pass the ``sampling_rate`` argument to this function. Failing to do so can result in silent errors that might be hard to debug.\n",
      "It is strongly recommended to pass the ``sampling_rate`` argument to this function. Failing to do so can result in silent errors that might be hard to debug.\n",
      "\n",
      "\n",
      "\u001b[A\u001b[AIt is strongly recommended to pass the ``sampling_rate`` argument to this function. Failing to do so can result in silent errors that might be hard to debug.\n",
      "It is strongly recommended to pass the ``sampling_rate`` argument to this function. Failing to do so can result in silent errors that might be hard to debug.\n"
     ]
    },
    {
     "name": "stdout",
     "output_type": "stream",
     "text": [
      "Setting resample\n",
      "resample sucessfuly set\n",
      "setting speech tensor\n",
      "applying tensor to device\n",
      "applying processor\n",
      "processor applied\n",
      "inputs insured\n",
      "Setting resample\n",
      "resample sucessfuly set\n",
      "setting speech tensor\n",
      "applying tensor to device\n",
      "applying processor\n",
      "processor applied\n",
      "inputs insured\n"
     ]
    },
    {
     "name": "stderr",
     "output_type": "stream",
     "text": [
      "It is strongly recommended to pass the ``sampling_rate`` argument to this function. Failing to do so can result in silent errors that might be hard to debug.\n",
      "It is strongly recommended to pass the ``sampling_rate`` argument to this function. Failing to do so can result in silent errors that might be hard to debug.\n",
      "\n",
      "\n",
      "\u001b[A\u001b[AIt is strongly recommended to pass the ``sampling_rate`` argument to this function. Failing to do so can result in silent errors that might be hard to debug.\n",
      "It is strongly recommended to pass the ``sampling_rate`` argument to this function. Failing to do so can result in silent errors that might be hard to debug.\n"
     ]
    },
    {
     "name": "stdout",
     "output_type": "stream",
     "text": [
      "Setting resample\n",
      "resample sucessfuly set\n",
      "setting speech tensor\n",
      "applying tensor to device\n",
      "applying processor\n",
      "processor applied\n",
      "inputs insured\n",
      "Setting resample\n",
      "resample sucessfuly set\n",
      "setting speech tensor\n",
      "applying tensor to device\n",
      "applying processor\n",
      "processor applied\n",
      "inputs insured\n"
     ]
    },
    {
     "name": "stderr",
     "output_type": "stream",
     "text": [
      "\n",
      "\n",
      "\u001b[A\u001b[AIt is strongly recommended to pass the ``sampling_rate`` argument to this function. Failing to do so can result in silent errors that might be hard to debug.\n",
      "It is strongly recommended to pass the ``sampling_rate`` argument to this function. Failing to do so can result in silent errors that might be hard to debug.\n",
      "\n",
      "\n",
      "\u001b[A\u001b[AIt is strongly recommended to pass the ``sampling_rate`` argument to this function. Failing to do so can result in silent errors that might be hard to debug.\n",
      "It is strongly recommended to pass the ``sampling_rate`` argument to this function. Failing to do so can result in silent errors that might be hard to debug.\n"
     ]
    },
    {
     "name": "stdout",
     "output_type": "stream",
     "text": [
      "Setting resample\n",
      "resample sucessfuly set\n",
      "setting speech tensor\n",
      "applying tensor to device\n",
      "applying processor\n",
      "processor applied\n",
      "inputs insured\n",
      "Setting resample\n",
      "resample sucessfuly set\n",
      "setting speech tensor\n",
      "applying tensor to device\n",
      "applying processor\n",
      "processor applied\n",
      "inputs insured\n"
     ]
    },
    {
     "name": "stderr",
     "output_type": "stream",
     "text": [
      "\n",
      "\n",
      "\u001b[A\u001b[AIt is strongly recommended to pass the ``sampling_rate`` argument to this function. Failing to do so can result in silent errors that might be hard to debug.\n",
      "It is strongly recommended to pass the ``sampling_rate`` argument to this function. Failing to do so can result in silent errors that might be hard to debug.\n",
      "\n",
      "\n",
      "\u001b[A\u001b[AIt is strongly recommended to pass the ``sampling_rate`` argument to this function. Failing to do so can result in silent errors that might be hard to debug.\n",
      "It is strongly recommended to pass the ``sampling_rate`` argument to this function. Failing to do so can result in silent errors that might be hard to debug.\n"
     ]
    },
    {
     "name": "stdout",
     "output_type": "stream",
     "text": [
      "Setting resample\n",
      "resample sucessfuly set\n",
      "setting speech tensor\n",
      "applying tensor to device\n",
      "applying processor\n",
      "processor applied\n",
      "inputs insured\n",
      "Setting resample\n",
      "resample sucessfuly set\n",
      "setting speech tensor\n",
      "applying tensor to device\n",
      "applying processor\n",
      "processor applied\n",
      "inputs insured\n"
     ]
    },
    {
     "name": "stderr",
     "output_type": "stream",
     "text": [
      "\n",
      "\n",
      "\u001b[A\u001b[AIt is strongly recommended to pass the ``sampling_rate`` argument to this function. Failing to do so can result in silent errors that might be hard to debug.\n",
      "It is strongly recommended to pass the ``sampling_rate`` argument to this function. Failing to do so can result in silent errors that might be hard to debug.\n",
      "It is strongly recommended to pass the ``sampling_rate`` argument to this function. Failing to do so can result in silent errors that might be hard to debug.\n",
      "It is strongly recommended to pass the ``sampling_rate`` argument to this function. Failing to do so can result in silent errors that might be hard to debug.\n",
      "\n",
      "\n",
      "\u001b[A\u001b[AIt is strongly recommended to pass the ``sampling_rate`` argument to this function. Failing to do so can result in silent errors that might be hard to debug.\n",
      "It is strongly recommended to pass the ``sampling_rate`` argument to this function. Failing to do so can result in silent errors that might be hard to debug.\n"
     ]
    },
    {
     "name": "stdout",
     "output_type": "stream",
     "text": [
      "Setting resample\n",
      "resample sucessfuly set\n",
      "setting speech tensor\n",
      "applying tensor to device\n",
      "applying processor\n",
      "processor applied\n",
      "inputs insured\n",
      "Setting resample\n",
      "resample sucessfuly set\n",
      "setting speech tensor\n",
      "applying tensor to device\n",
      "applying processor\n",
      "processor applied\n",
      "inputs insured\n",
      "Setting resample\n",
      "resample sucessfuly set\n",
      "setting speech tensor\n",
      "applying tensor to device\n",
      "applying processor\n",
      "processor applied\n",
      "inputs insured\n"
     ]
    },
    {
     "name": "stderr",
     "output_type": "stream",
     "text": [
      "It is strongly recommended to pass the ``sampling_rate`` argument to this function. Failing to do so can result in silent errors that might be hard to debug.\n",
      "It is strongly recommended to pass the ``sampling_rate`` argument to this function. Failing to do so can result in silent errors that might be hard to debug.\n",
      "\n",
      "\n",
      "\u001b[A\u001b[AIt is strongly recommended to pass the ``sampling_rate`` argument to this function. Failing to do so can result in silent errors that might be hard to debug.\n",
      "It is strongly recommended to pass the ``sampling_rate`` argument to this function. Failing to do so can result in silent errors that might be hard to debug.\n",
      "\n",
      "\n",
      "\n"
     ]
    },
    {
     "name": "stdout",
     "output_type": "stream",
     "text": [
      "Setting resample\n",
      "resample sucessfuly set\n",
      "setting speech tensor\n",
      "applying tensor to device\n",
      "applying processor\n",
      "processor applied\n",
      "inputs insured\n",
      "Setting resample\n",
      "resample sucessfuly set\n",
      "setting speech tensor\n",
      "applying tensor to device\n",
      "applying processor\n",
      "processor applied\n",
      "inputs insured\n"
     ]
    },
    {
     "name": "stderr",
     "output_type": "stream",
     "text": [
      "Evaluating model:  50%|█████     | 303/603 [00:37<00:31,  9.51 samples/s]\u001b[A\u001b[A\u001b[AIt is strongly recommended to pass the ``sampling_rate`` argument to this function. Failing to do so can result in silent errors that might be hard to debug.\n",
      "It is strongly recommended to pass the ``sampling_rate`` argument to this function. Failing to do so can result in silent errors that might be hard to debug.\n",
      "\n",
      "\n",
      "\u001b[A\u001b[AIt is strongly recommended to pass the ``sampling_rate`` argument to this function. Failing to do so can result in silent errors that might be hard to debug.\n",
      "It is strongly recommended to pass the ``sampling_rate`` argument to this function. Failing to do so can result in silent errors that might be hard to debug.\n"
     ]
    },
    {
     "name": "stdout",
     "output_type": "stream",
     "text": [
      "Setting resample\n",
      "resample sucessfuly set\n",
      "setting speech tensor\n",
      "applying tensor to device\n",
      "applying processor\n",
      "processor applied\n",
      "inputs insured\n",
      "Setting resample\n",
      "resample sucessfuly set\n",
      "setting speech tensor\n",
      "applying tensor to device\n",
      "applying processor\n",
      "processor applied\n",
      "inputs insured\n"
     ]
    },
    {
     "name": "stderr",
     "output_type": "stream",
     "text": [
      "\n",
      "\n",
      "\u001b[A\u001b[AIt is strongly recommended to pass the ``sampling_rate`` argument to this function. Failing to do so can result in silent errors that might be hard to debug.\n",
      "It is strongly recommended to pass the ``sampling_rate`` argument to this function. Failing to do so can result in silent errors that might be hard to debug.\n",
      "\n",
      "\n",
      "\u001b[A\u001b[AIt is strongly recommended to pass the ``sampling_rate`` argument to this function. Failing to do so can result in silent errors that might be hard to debug.\n",
      "It is strongly recommended to pass the ``sampling_rate`` argument to this function. Failing to do so can result in silent errors that might be hard to debug.\n"
     ]
    },
    {
     "name": "stdout",
     "output_type": "stream",
     "text": [
      "Setting resample\n",
      "resample sucessfuly set\n",
      "setting speech tensor\n",
      "applying tensor to device\n",
      "applying processor\n",
      "processor applied\n",
      "inputs insured\n",
      "Setting resample\n",
      "resample sucessfuly set\n",
      "setting speech tensor\n",
      "applying tensor to device\n",
      "applying processor\n",
      "processor applied\n",
      "inputs insured\n"
     ]
    },
    {
     "name": "stderr",
     "output_type": "stream",
     "text": [
      "\n",
      "\n",
      "\u001b[A\u001b[AIt is strongly recommended to pass the ``sampling_rate`` argument to this function. Failing to do so can result in silent errors that might be hard to debug.\n",
      "It is strongly recommended to pass the ``sampling_rate`` argument to this function. Failing to do so can result in silent errors that might be hard to debug.\n",
      "\n",
      "\n",
      "\u001b[A\u001b[AIt is strongly recommended to pass the ``sampling_rate`` argument to this function. Failing to do so can result in silent errors that might be hard to debug.\n",
      "It is strongly recommended to pass the ``sampling_rate`` argument to this function. Failing to do so can result in silent errors that might be hard to debug.\n"
     ]
    },
    {
     "name": "stdout",
     "output_type": "stream",
     "text": [
      "Setting resample\n",
      "resample sucessfuly set\n",
      "setting speech tensor\n",
      "applying tensor to device\n",
      "applying processor\n",
      "processor applied\n",
      "inputs insured\n",
      "Setting resample\n",
      "resample sucessfuly set\n",
      "setting speech tensor\n",
      "applying tensor to device\n",
      "applying processor\n",
      "processor applied\n",
      "inputs insured\n"
     ]
    },
    {
     "name": "stderr",
     "output_type": "stream",
     "text": [
      "\n",
      "\n",
      "\u001b[A\u001b[AIt is strongly recommended to pass the ``sampling_rate`` argument to this function. Failing to do so can result in silent errors that might be hard to debug.\n",
      "It is strongly recommended to pass the ``sampling_rate`` argument to this function. Failing to do so can result in silent errors that might be hard to debug.\n",
      "\n",
      "\n",
      "\u001b[A\u001b[AIt is strongly recommended to pass the ``sampling_rate`` argument to this function. Failing to do so can result in silent errors that might be hard to debug.\n",
      "It is strongly recommended to pass the ``sampling_rate`` argument to this function. Failing to do so can result in silent errors that might be hard to debug.\n"
     ]
    },
    {
     "name": "stdout",
     "output_type": "stream",
     "text": [
      "Setting resample\n",
      "resample sucessfuly set\n",
      "setting speech tensor\n",
      "applying tensor to device\n",
      "applying processor\n",
      "processor applied\n",
      "inputs insured\n",
      "Setting resample\n",
      "resample sucessfuly set\n",
      "setting speech tensor\n",
      "applying tensor to device\n",
      "applying processor\n",
      "processor applied\n",
      "inputs insured\n"
     ]
    },
    {
     "name": "stderr",
     "output_type": "stream",
     "text": [
      "\n",
      "\n",
      "\u001b[A\u001b[AIt is strongly recommended to pass the ``sampling_rate`` argument to this function. Failing to do so can result in silent errors that might be hard to debug.\n",
      "It is strongly recommended to pass the ``sampling_rate`` argument to this function. Failing to do so can result in silent errors that might be hard to debug.\n",
      "It is strongly recommended to pass the ``sampling_rate`` argument to this function. Failing to do so can result in silent errors that might be hard to debug.\n",
      "It is strongly recommended to pass the ``sampling_rate`` argument to this function. Failing to do so can result in silent errors that might be hard to debug.\n"
     ]
    },
    {
     "name": "stdout",
     "output_type": "stream",
     "text": [
      "Setting resample\n",
      "resample sucessfuly set\n",
      "setting speech tensor\n",
      "applying tensor to device\n",
      "applying processor\n",
      "processor applied\n",
      "inputs insured\n",
      "Setting resample\n",
      "resample sucessfuly set\n",
      "setting speech tensor\n",
      "applying tensor to device\n",
      "applying processor\n",
      "processor applied\n",
      "inputs insured\n"
     ]
    },
    {
     "name": "stderr",
     "output_type": "stream",
     "text": [
      "\n",
      "\n",
      "\u001b[A\u001b[AIt is strongly recommended to pass the ``sampling_rate`` argument to this function. Failing to do so can result in silent errors that might be hard to debug.\n",
      "It is strongly recommended to pass the ``sampling_rate`` argument to this function. Failing to do so can result in silent errors that might be hard to debug.\n",
      "\n",
      "\n",
      "\u001b[A\u001b[AIt is strongly recommended to pass the ``sampling_rate`` argument to this function. Failing to do so can result in silent errors that might be hard to debug.\n",
      "It is strongly recommended to pass the ``sampling_rate`` argument to this function. Failing to do so can result in silent errors that might be hard to debug.\n",
      "It is strongly recommended to pass the ``sampling_rate`` argument to this function. Failing to do so can result in silent errors that might be hard to debug.\n",
      "It is strongly recommended to pass the ``sampling_rate`` argument to this function. Failing to do so can result in silent errors that might be hard to debug.\n"
     ]
    },
    {
     "name": "stdout",
     "output_type": "stream",
     "text": [
      "Setting resample\n",
      "resample sucessfuly set\n",
      "setting speech tensor\n",
      "applying tensor to device\n",
      "applying processor\n",
      "processor applied\n",
      "inputs insured\n",
      "Setting resample\n",
      "resample sucessfuly set\n",
      "setting speech tensor\n",
      "applying tensor to device\n",
      "applying processor\n",
      "processor applied\n",
      "inputs insured\n",
      "Setting resample\n",
      "resample sucessfuly set\n",
      "setting speech tensor\n",
      "applying tensor to device\n",
      "applying processor\n",
      "processor applied\n",
      "inputs insured\n"
     ]
    },
    {
     "name": "stderr",
     "output_type": "stream",
     "text": [
      "\n",
      "\n",
      "\u001b[A\u001b[AIt is strongly recommended to pass the ``sampling_rate`` argument to this function. Failing to do so can result in silent errors that might be hard to debug.\n",
      "It is strongly recommended to pass the ``sampling_rate`` argument to this function. Failing to do so can result in silent errors that might be hard to debug.\n",
      "It is strongly recommended to pass the ``sampling_rate`` argument to this function. Failing to do so can result in silent errors that might be hard to debug.\n",
      "It is strongly recommended to pass the ``sampling_rate`` argument to this function. Failing to do so can result in silent errors that might be hard to debug.\n",
      "\n",
      "\n",
      "\u001b[A\u001b[AIt is strongly recommended to pass the ``sampling_rate`` argument to this function. Failing to do so can result in silent errors that might be hard to debug.\n",
      "It is strongly recommended to pass the ``sampling_rate`` argument to this function. Failing to do so can result in silent errors that might be hard to debug.\n"
     ]
    },
    {
     "name": "stdout",
     "output_type": "stream",
     "text": [
      "Setting resample\n",
      "resample sucessfuly set\n",
      "setting speech tensor\n",
      "applying tensor to device\n",
      "applying processor\n",
      "processor applied\n",
      "inputs insured\n",
      "Setting resample\n",
      "resample sucessfuly set\n",
      "setting speech tensor\n",
      "applying tensor to device\n",
      "applying processor\n",
      "processor applied\n",
      "inputs insured\n",
      "Setting resample\n",
      "resample sucessfuly set\n",
      "setting speech tensor\n",
      "applying tensor to device\n",
      "applying processor\n",
      "processor applied\n",
      "inputs insured\n"
     ]
    },
    {
     "name": "stderr",
     "output_type": "stream",
     "text": [
      "It is strongly recommended to pass the ``sampling_rate`` argument to this function. Failing to do so can result in silent errors that might be hard to debug.\n",
      "It is strongly recommended to pass the ``sampling_rate`` argument to this function. Failing to do so can result in silent errors that might be hard to debug.\n",
      "\n",
      "\n",
      "\u001b[A\u001b[AIt is strongly recommended to pass the ``sampling_rate`` argument to this function. Failing to do so can result in silent errors that might be hard to debug.\n",
      "It is strongly recommended to pass the ``sampling_rate`` argument to this function. Failing to do so can result in silent errors that might be hard to debug.\n"
     ]
    },
    {
     "name": "stdout",
     "output_type": "stream",
     "text": [
      "Setting resample\n",
      "resample sucessfuly set\n",
      "setting speech tensor\n",
      "applying tensor to device\n",
      "applying processor\n",
      "processor applied\n",
      "inputs insured\n",
      "Setting resample\n",
      "resample sucessfuly set\n",
      "setting speech tensor\n",
      "applying tensor to device\n",
      "applying processor\n",
      "processor applied\n",
      "inputs insured\n"
     ]
    },
    {
     "name": "stderr",
     "output_type": "stream",
     "text": [
      "\n",
      "\n",
      "\u001b[A\u001b[AIt is strongly recommended to pass the ``sampling_rate`` argument to this function. Failing to do so can result in silent errors that might be hard to debug.\n",
      "It is strongly recommended to pass the ``sampling_rate`` argument to this function. Failing to do so can result in silent errors that might be hard to debug.\n",
      "It is strongly recommended to pass the ``sampling_rate`` argument to this function. Failing to do so can result in silent errors that might be hard to debug.\n",
      "It is strongly recommended to pass the ``sampling_rate`` argument to this function. Failing to do so can result in silent errors that might be hard to debug.\n"
     ]
    },
    {
     "name": "stdout",
     "output_type": "stream",
     "text": [
      "Setting resample\n",
      "resample sucessfuly set\n",
      "setting speech tensor\n",
      "applying tensor to device\n",
      "applying processor\n",
      "processor applied\n",
      "inputs insured\n",
      "Setting resample\n",
      "resample sucessfuly set\n",
      "setting speech tensor\n",
      "applying tensor to device\n",
      "applying processor\n",
      "processor applied\n",
      "inputs insured\n"
     ]
    },
    {
     "name": "stderr",
     "output_type": "stream",
     "text": [
      "\n",
      "\n",
      "\u001b[A\u001b[AIt is strongly recommended to pass the ``sampling_rate`` argument to this function. Failing to do so can result in silent errors that might be hard to debug.\n",
      "It is strongly recommended to pass the ``sampling_rate`` argument to this function. Failing to do so can result in silent errors that might be hard to debug.\n"
     ]
    },
    {
     "name": "stdout",
     "output_type": "stream",
     "text": [
      "Setting resample\n",
      "resample sucessfuly set\n",
      "setting speech tensor\n",
      "applying tensor to device\n",
      "applying processor\n",
      "processor applied\n",
      "inputs insured\n"
     ]
    },
    {
     "name": "stderr",
     "output_type": "stream",
     "text": [
      "\n",
      "\n",
      "\u001b[A\u001b[AIt is strongly recommended to pass the ``sampling_rate`` argument to this function. Failing to do so can result in silent errors that might be hard to debug.\n",
      "It is strongly recommended to pass the ``sampling_rate`` argument to this function. Failing to do so can result in silent errors that might be hard to debug.\n",
      "It is strongly recommended to pass the ``sampling_rate`` argument to this function. Failing to do so can result in silent errors that might be hard to debug.\n",
      "It is strongly recommended to pass the ``sampling_rate`` argument to this function. Failing to do so can result in silent errors that might be hard to debug.\n"
     ]
    },
    {
     "name": "stdout",
     "output_type": "stream",
     "text": [
      "Setting resample\n",
      "resample sucessfuly set\n",
      "setting speech tensor\n",
      "applying tensor to device\n",
      "applying processor\n",
      "processor applied\n",
      "inputs insured\n",
      "Setting resample\n",
      "resample sucessfuly set\n",
      "setting speech tensor\n",
      "applying tensor to device\n",
      "applying processor\n",
      "processor applied\n",
      "inputs insured\n"
     ]
    },
    {
     "name": "stderr",
     "output_type": "stream",
     "text": [
      "\n",
      "\n",
      "\u001b[A\u001b[AIt is strongly recommended to pass the ``sampling_rate`` argument to this function. Failing to do so can result in silent errors that might be hard to debug.\n",
      "It is strongly recommended to pass the ``sampling_rate`` argument to this function. Failing to do so can result in silent errors that might be hard to debug.\n",
      "It is strongly recommended to pass the ``sampling_rate`` argument to this function. Failing to do so can result in silent errors that might be hard to debug.\n",
      "It is strongly recommended to pass the ``sampling_rate`` argument to this function. Failing to do so can result in silent errors that might be hard to debug.\n"
     ]
    },
    {
     "name": "stdout",
     "output_type": "stream",
     "text": [
      "Setting resample\n",
      "resample sucessfuly set\n",
      "setting speech tensor\n",
      "applying tensor to device\n",
      "applying processor\n",
      "processor applied\n",
      "inputs insured\n",
      "Setting resample\n",
      "resample sucessfuly set\n",
      "setting speech tensor\n",
      "applying tensor to device\n",
      "applying processor\n",
      "processor applied\n",
      "inputs insured\n"
     ]
    },
    {
     "name": "stderr",
     "output_type": "stream",
     "text": [
      "\n",
      "\n",
      "\u001b[A\u001b[AIt is strongly recommended to pass the ``sampling_rate`` argument to this function. Failing to do so can result in silent errors that might be hard to debug.\n",
      "It is strongly recommended to pass the ``sampling_rate`` argument to this function. Failing to do so can result in silent errors that might be hard to debug.\n",
      "It is strongly recommended to pass the ``sampling_rate`` argument to this function. Failing to do so can result in silent errors that might be hard to debug.\n",
      "It is strongly recommended to pass the ``sampling_rate`` argument to this function. Failing to do so can result in silent errors that might be hard to debug.\n"
     ]
    },
    {
     "name": "stdout",
     "output_type": "stream",
     "text": [
      "Setting resample\n",
      "resample sucessfuly set\n",
      "setting speech tensor\n",
      "applying tensor to device\n",
      "applying processor\n",
      "processor applied\n",
      "inputs insured\n",
      "Setting resample\n",
      "resample sucessfuly set\n",
      "setting speech tensor\n",
      "applying tensor to device\n",
      "applying processor\n",
      "processor applied\n",
      "inputs insured\n"
     ]
    },
    {
     "name": "stderr",
     "output_type": "stream",
     "text": [
      "\n",
      "\n",
      "\u001b[A\u001b[AIt is strongly recommended to pass the ``sampling_rate`` argument to this function. Failing to do so can result in silent errors that might be hard to debug.\n",
      "It is strongly recommended to pass the ``sampling_rate`` argument to this function. Failing to do so can result in silent errors that might be hard to debug.\n",
      "It is strongly recommended to pass the ``sampling_rate`` argument to this function. Failing to do so can result in silent errors that might be hard to debug.\n",
      "It is strongly recommended to pass the ``sampling_rate`` argument to this function. Failing to do so can result in silent errors that might be hard to debug.\n",
      "\n",
      "\n",
      "\u001b[A\u001b[AIt is strongly recommended to pass the ``sampling_rate`` argument to this function. Failing to do so can result in silent errors that might be hard to debug.\n",
      "It is strongly recommended to pass the ``sampling_rate`` argument to this function. Failing to do so can result in silent errors that might be hard to debug.\n"
     ]
    },
    {
     "name": "stdout",
     "output_type": "stream",
     "text": [
      "Setting resample\n",
      "resample sucessfuly set\n",
      "setting speech tensor\n",
      "applying tensor to device\n",
      "applying processor\n",
      "processor applied\n",
      "inputs insured\n",
      "Setting resample\n",
      "resample sucessfuly set\n",
      "setting speech tensor\n",
      "applying tensor to device\n",
      "applying processor\n",
      "processor applied\n",
      "inputs insured\n",
      "Setting resample\n",
      "resample sucessfuly set\n",
      "setting speech tensor\n",
      "applying tensor to device\n",
      "applying processor\n",
      "processor applied\n",
      "inputs insured\n"
     ]
    },
    {
     "name": "stderr",
     "output_type": "stream",
     "text": [
      "It is strongly recommended to pass the ``sampling_rate`` argument to this function. Failing to do so can result in silent errors that might be hard to debug.\n",
      "It is strongly recommended to pass the ``sampling_rate`` argument to this function. Failing to do so can result in silent errors that might be hard to debug.\n",
      "\n",
      "\n",
      "\u001b[A\u001b[A"
     ]
    },
    {
     "name": "stdout",
     "output_type": "stream",
     "text": [
      "Setting resample\n",
      "resample sucessfuly set\n",
      "setting speech tensor\n",
      "applying tensor to device\n",
      "applying processor\n",
      "processor applied\n",
      "inputs insured\n"
     ]
    },
    {
     "name": "stderr",
     "output_type": "stream",
     "text": [
      "It is strongly recommended to pass the ``sampling_rate`` argument to this function. Failing to do so can result in silent errors that might be hard to debug.\n",
      "It is strongly recommended to pass the ``sampling_rate`` argument to this function. Failing to do so can result in silent errors that might be hard to debug.\n",
      "\n",
      "\n",
      "\u001b[A\u001b[AIt is strongly recommended to pass the ``sampling_rate`` argument to this function. Failing to do so can result in silent errors that might be hard to debug.\n",
      "It is strongly recommended to pass the ``sampling_rate`` argument to this function. Failing to do so can result in silent errors that might be hard to debug.\n"
     ]
    },
    {
     "name": "stdout",
     "output_type": "stream",
     "text": [
      "Setting resample\n",
      "resample sucessfuly set\n",
      "setting speech tensor\n",
      "applying tensor to device\n",
      "applying processor\n",
      "processor applied\n",
      "inputs insured\n",
      "Setting resample\n",
      "resample sucessfuly set\n",
      "setting speech tensor\n",
      "applying tensor to device\n",
      "applying processor\n",
      "processor applied\n",
      "inputs insured\n"
     ]
    },
    {
     "name": "stderr",
     "output_type": "stream",
     "text": [
      "It is strongly recommended to pass the ``sampling_rate`` argument to this function. Failing to do so can result in silent errors that might be hard to debug.\n",
      "It is strongly recommended to pass the ``sampling_rate`` argument to this function. Failing to do so can result in silent errors that might be hard to debug.\n",
      "\n",
      "\n",
      "\u001b[A\u001b[AIt is strongly recommended to pass the ``sampling_rate`` argument to this function. Failing to do so can result in silent errors that might be hard to debug.\n",
      "It is strongly recommended to pass the ``sampling_rate`` argument to this function. Failing to do so can result in silent errors that might be hard to debug.\n"
     ]
    },
    {
     "name": "stdout",
     "output_type": "stream",
     "text": [
      "Setting resample\n",
      "resample sucessfuly set\n",
      "setting speech tensor\n",
      "applying tensor to device\n",
      "applying processor\n",
      "processor applied\n",
      "inputs insured\n",
      "Setting resample\n",
      "resample sucessfuly set\n",
      "setting speech tensor\n",
      "applying tensor to device\n",
      "applying processor\n",
      "processor applied\n",
      "inputs insured\n"
     ]
    },
    {
     "name": "stderr",
     "output_type": "stream",
     "text": [
      "\n",
      "\n",
      "\u001b[A\u001b[AIt is strongly recommended to pass the ``sampling_rate`` argument to this function. Failing to do so can result in silent errors that might be hard to debug.\n",
      "It is strongly recommended to pass the ``sampling_rate`` argument to this function. Failing to do so can result in silent errors that might be hard to debug.\n",
      "It is strongly recommended to pass the ``sampling_rate`` argument to this function. Failing to do so can result in silent errors that might be hard to debug.\n",
      "It is strongly recommended to pass the ``sampling_rate`` argument to this function. Failing to do so can result in silent errors that might be hard to debug.\n",
      "\n",
      "\n",
      "\u001b[A\u001b[AIt is strongly recommended to pass the ``sampling_rate`` argument to this function. Failing to do so can result in silent errors that might be hard to debug.\n",
      "It is strongly recommended to pass the ``sampling_rate`` argument to this function. Failing to do so can result in silent errors that might be hard to debug.\n"
     ]
    },
    {
     "name": "stdout",
     "output_type": "stream",
     "text": [
      "Setting resample\n",
      "resample sucessfuly set\n",
      "setting speech tensor\n",
      "applying tensor to device\n",
      "applying processor\n",
      "processor applied\n",
      "inputs insured\n",
      "Setting resample\n",
      "resample sucessfuly set\n",
      "setting speech tensor\n",
      "applying tensor to device\n",
      "applying processor\n",
      "processor applied\n",
      "inputs insured\n",
      "Setting resample\n",
      "resample sucessfuly set\n",
      "setting speech tensor\n",
      "applying tensor to device\n",
      "applying processor\n"
     ]
    },
    {
     "name": "stderr",
     "output_type": "stream",
     "text": [
      "It is strongly recommended to pass the ``sampling_rate`` argument to this function. Failing to do so can result in silent errors that might be hard to debug.\n",
      "It is strongly recommended to pass the ``sampling_rate`` argument to this function. Failing to do so can result in silent errors that might be hard to debug.\n",
      "\n",
      "\n",
      "\u001b[A\u001b[AIt is strongly recommended to pass the ``sampling_rate`` argument to this function. Failing to do so can result in silent errors that might be hard to debug.\n",
      "It is strongly recommended to pass the ``sampling_rate`` argument to this function. Failing to do so can result in silent errors that might be hard to debug.\n"
     ]
    },
    {
     "name": "stdout",
     "output_type": "stream",
     "text": [
      "processor applied\n",
      "inputs insured\n",
      "Setting resample\n",
      "resample sucessfuly set\n",
      "setting speech tensor\n",
      "applying tensor to device\n",
      "applying processor\n",
      "processor applied\n",
      "inputs insured\n",
      "Setting resample\n",
      "resample sucessfuly set\n",
      "setting speech tensor\n",
      "applying tensor to device\n",
      "applying processor\n",
      "processor applied\n",
      "inputs insured\n"
     ]
    },
    {
     "name": "stderr",
     "output_type": "stream",
     "text": [
      "It is strongly recommended to pass the ``sampling_rate`` argument to this function. Failing to do so can result in silent errors that might be hard to debug.\n",
      "It is strongly recommended to pass the ``sampling_rate`` argument to this function. Failing to do so can result in silent errors that might be hard to debug.\n",
      "\n",
      "\n",
      "\u001b[A\u001b[AIt is strongly recommended to pass the ``sampling_rate`` argument to this function. Failing to do so can result in silent errors that might be hard to debug.\n",
      "It is strongly recommended to pass the ``sampling_rate`` argument to this function. Failing to do so can result in silent errors that might be hard to debug.\n"
     ]
    },
    {
     "name": "stdout",
     "output_type": "stream",
     "text": [
      "Setting resample\n",
      "resample sucessfuly set\n",
      "setting speech tensor\n",
      "applying tensor to device\n",
      "applying processor\n",
      "processor applied\n",
      "inputs insured\n",
      "Setting resample\n",
      "resample sucessfuly set\n",
      "setting speech tensor\n",
      "applying tensor to device\n",
      "applying processor\n",
      "processor applied\n",
      "inputs insured\n"
     ]
    },
    {
     "name": "stderr",
     "output_type": "stream",
     "text": [
      "It is strongly recommended to pass the ``sampling_rate`` argument to this function. Failing to do so can result in silent errors that might be hard to debug.\n",
      "It is strongly recommended to pass the ``sampling_rate`` argument to this function. Failing to do so can result in silent errors that might be hard to debug.\n",
      "\n",
      "\n",
      "\u001b[A\u001b[AIt is strongly recommended to pass the ``sampling_rate`` argument to this function. Failing to do so can result in silent errors that might be hard to debug.\n",
      "It is strongly recommended to pass the ``sampling_rate`` argument to this function. Failing to do so can result in silent errors that might be hard to debug.\n"
     ]
    },
    {
     "name": "stdout",
     "output_type": "stream",
     "text": [
      "Setting resample\n",
      "resample sucessfuly set\n",
      "setting speech tensor\n",
      "applying tensor to device\n",
      "applying processor\n",
      "processor applied\n",
      "inputs insured\n",
      "Setting resample\n",
      "resample sucessfuly set\n",
      "setting speech tensor\n",
      "applying tensor to device\n",
      "applying processor\n",
      "processor applied\n",
      "inputs insured\n"
     ]
    },
    {
     "name": "stderr",
     "output_type": "stream",
     "text": [
      "\n",
      "\n",
      "\u001b[A\u001b[AIt is strongly recommended to pass the ``sampling_rate`` argument to this function. Failing to do so can result in silent errors that might be hard to debug.\n",
      "It is strongly recommended to pass the ``sampling_rate`` argument to this function. Failing to do so can result in silent errors that might be hard to debug.\n",
      "\n",
      "\n",
      "\u001b[A\u001b[AIt is strongly recommended to pass the ``sampling_rate`` argument to this function. Failing to do so can result in silent errors that might be hard to debug.\n",
      "It is strongly recommended to pass the ``sampling_rate`` argument to this function. Failing to do so can result in silent errors that might be hard to debug.\n"
     ]
    },
    {
     "name": "stdout",
     "output_type": "stream",
     "text": [
      "Setting resample\n",
      "resample sucessfuly set\n",
      "setting speech tensor\n",
      "applying tensor to device\n",
      "applying processor\n",
      "processor applied\n",
      "inputs insured\n",
      "Setting resample\n",
      "resample sucessfuly set\n",
      "setting speech tensor\n",
      "applying tensor to device\n",
      "applying processor\n",
      "processor applied\n",
      "inputs insured\n"
     ]
    },
    {
     "name": "stderr",
     "output_type": "stream",
     "text": [
      "\n",
      "\n",
      "\u001b[A\u001b[AIt is strongly recommended to pass the ``sampling_rate`` argument to this function. Failing to do so can result in silent errors that might be hard to debug.\n",
      "It is strongly recommended to pass the ``sampling_rate`` argument to this function. Failing to do so can result in silent errors that might be hard to debug.\n",
      "\n",
      "\n",
      "\n"
     ]
    },
    {
     "name": "stdout",
     "output_type": "stream",
     "text": [
      "Setting resample\n",
      "resample sucessfuly set\n",
      "setting speech tensor\n",
      "applying tensor to device\n",
      "applying processor\n",
      "processor applied\n",
      "inputs insured\n"
     ]
    },
    {
     "name": "stderr",
     "output_type": "stream",
     "text": [
      "Evaluating model:  58%|█████▊    | 350/603 [00:43<00:36,  6.94 samples/s]\u001b[A\u001b[A\u001b[AIt is strongly recommended to pass the ``sampling_rate`` argument to this function. Failing to do so can result in silent errors that might be hard to debug.\n",
      "It is strongly recommended to pass the ``sampling_rate`` argument to this function. Failing to do so can result in silent errors that might be hard to debug.\n",
      "\n",
      "\n",
      "\u001b[A\u001b[AIt is strongly recommended to pass the ``sampling_rate`` argument to this function. Failing to do so can result in silent errors that might be hard to debug.\n",
      "It is strongly recommended to pass the ``sampling_rate`` argument to this function. Failing to do so can result in silent errors that might be hard to debug.\n"
     ]
    },
    {
     "name": "stdout",
     "output_type": "stream",
     "text": [
      "Setting resample\n",
      "resample sucessfuly set\n",
      "setting speech tensor\n",
      "applying tensor to device\n",
      "applying processor\n",
      "processor applied\n",
      "inputs insured\n",
      "Setting resample\n",
      "resample sucessfuly set\n",
      "setting speech tensor\n",
      "applying tensor to device\n",
      "applying processor\n",
      "processor applied\n",
      "inputs insured\n"
     ]
    },
    {
     "name": "stderr",
     "output_type": "stream",
     "text": [
      "\n",
      "\n",
      "\u001b[A\u001b[AIt is strongly recommended to pass the ``sampling_rate`` argument to this function. Failing to do so can result in silent errors that might be hard to debug.\n",
      "It is strongly recommended to pass the ``sampling_rate`` argument to this function. Failing to do so can result in silent errors that might be hard to debug.\n",
      "\n",
      "\n",
      "\u001b[A\u001b[AIt is strongly recommended to pass the ``sampling_rate`` argument to this function. Failing to do so can result in silent errors that might be hard to debug.\n",
      "It is strongly recommended to pass the ``sampling_rate`` argument to this function. Failing to do so can result in silent errors that might be hard to debug.\n"
     ]
    },
    {
     "name": "stdout",
     "output_type": "stream",
     "text": [
      "Setting resample\n",
      "resample sucessfuly set\n",
      "setting speech tensor\n",
      "applying tensor to device\n",
      "applying processor\n",
      "processor applied\n",
      "inputs insured\n",
      "Setting resample\n",
      "resample sucessfuly set\n",
      "setting speech tensor\n",
      "applying tensor to device\n",
      "applying processor\n",
      "processor applied\n",
      "inputs insured\n"
     ]
    },
    {
     "name": "stderr",
     "output_type": "stream",
     "text": [
      "It is strongly recommended to pass the ``sampling_rate`` argument to this function. Failing to do so can result in silent errors that might be hard to debug.\n",
      "It is strongly recommended to pass the ``sampling_rate`` argument to this function. Failing to do so can result in silent errors that might be hard to debug.\n",
      "\n",
      "\n",
      "\n"
     ]
    },
    {
     "name": "stdout",
     "output_type": "stream",
     "text": [
      "Setting resample\n",
      "resample sucessfuly set\n",
      "setting speech tensor\n",
      "applying tensor to device\n",
      "applying processor\n",
      "processor applied\n",
      "inputs insured\n"
     ]
    },
    {
     "name": "stderr",
     "output_type": "stream",
     "text": [
      "Evaluating model:  59%|█████▉    | 355/603 [00:44<00:35,  6.98 samples/s]\u001b[A\u001b[A\u001b[AIt is strongly recommended to pass the ``sampling_rate`` argument to this function. Failing to do so can result in silent errors that might be hard to debug.\n",
      "It is strongly recommended to pass the ``sampling_rate`` argument to this function. Failing to do so can result in silent errors that might be hard to debug.\n",
      "It is strongly recommended to pass the ``sampling_rate`` argument to this function. Failing to do so can result in silent errors that might be hard to debug.\n",
      "It is strongly recommended to pass the ``sampling_rate`` argument to this function. Failing to do so can result in silent errors that might be hard to debug.\n"
     ]
    },
    {
     "name": "stdout",
     "output_type": "stream",
     "text": [
      "Setting resample\n",
      "resample sucessfuly set\n",
      "setting speech tensor\n",
      "applying tensor to device\n",
      "applying processor\n",
      "processor applied\n",
      "inputs insured\n",
      "Setting resample\n",
      "resample sucessfuly set\n",
      "setting speech tensor\n",
      "applying tensor to device\n",
      "applying processor\n",
      "processor applied\n",
      "inputs insured\n"
     ]
    },
    {
     "name": "stderr",
     "output_type": "stream",
     "text": [
      "\n",
      "\n",
      "\u001b[A\u001b[AIt is strongly recommended to pass the ``sampling_rate`` argument to this function. Failing to do so can result in silent errors that might be hard to debug.\n",
      "It is strongly recommended to pass the ``sampling_rate`` argument to this function. Failing to do so can result in silent errors that might be hard to debug.\n",
      "It is strongly recommended to pass the ``sampling_rate`` argument to this function. Failing to do so can result in silent errors that might be hard to debug.\n",
      "It is strongly recommended to pass the ``sampling_rate`` argument to this function. Failing to do so can result in silent errors that might be hard to debug.\n",
      "\n",
      "\n",
      "\u001b[A\u001b[AIt is strongly recommended to pass the ``sampling_rate`` argument to this function. Failing to do so can result in silent errors that might be hard to debug.\n",
      "It is strongly recommended to pass the ``sampling_rate`` argument to this function. Failing to do so can result in silent errors that might be hard to debug.\n"
     ]
    },
    {
     "name": "stdout",
     "output_type": "stream",
     "text": [
      "Setting resample\n",
      "resample sucessfuly set\n",
      "setting speech tensor\n",
      "applying tensor to device\n",
      "applying processor\n",
      "processor applied\n",
      "inputs insured\n",
      "Setting resample\n",
      "resample sucessfuly set\n",
      "setting speech tensor\n",
      "applying tensor to device\n",
      "applying processor\n",
      "processor applied\n",
      "inputs insured\n",
      "Setting resample\n",
      "resample sucessfuly set\n",
      "setting speech tensor\n",
      "applying tensor to device\n",
      "applying processor\n",
      "processor applied\n",
      "inputs insured\n"
     ]
    },
    {
     "name": "stderr",
     "output_type": "stream",
     "text": [
      "It is strongly recommended to pass the ``sampling_rate`` argument to this function. Failing to do so can result in silent errors that might be hard to debug.\n",
      "It is strongly recommended to pass the ``sampling_rate`` argument to this function. Failing to do so can result in silent errors that might be hard to debug.\n",
      "\n",
      "\n",
      "\u001b[A\u001b[AIt is strongly recommended to pass the ``sampling_rate`` argument to this function. Failing to do so can result in silent errors that might be hard to debug.\n",
      "It is strongly recommended to pass the ``sampling_rate`` argument to this function. Failing to do so can result in silent errors that might be hard to debug.\n"
     ]
    },
    {
     "name": "stdout",
     "output_type": "stream",
     "text": [
      "Setting resample\n",
      "resample sucessfuly set\n",
      "setting speech tensor\n",
      "applying tensor to device\n",
      "applying processor\n",
      "processor applied\n",
      "inputs insured\n",
      "Setting resample\n",
      "resample sucessfuly set\n",
      "setting speech tensor\n",
      "applying tensor to device\n",
      "applying processor\n",
      "processor applied\n",
      "inputs insured\n"
     ]
    },
    {
     "name": "stderr",
     "output_type": "stream",
     "text": [
      "\n",
      "\n",
      "\u001b[A\u001b[AIt is strongly recommended to pass the ``sampling_rate`` argument to this function. Failing to do so can result in silent errors that might be hard to debug.\n",
      "It is strongly recommended to pass the ``sampling_rate`` argument to this function. Failing to do so can result in silent errors that might be hard to debug.\n",
      "\n",
      "\n",
      "\u001b[A\u001b[AIt is strongly recommended to pass the ``sampling_rate`` argument to this function. Failing to do so can result in silent errors that might be hard to debug.\n",
      "It is strongly recommended to pass the ``sampling_rate`` argument to this function. Failing to do so can result in silent errors that might be hard to debug.\n"
     ]
    },
    {
     "name": "stdout",
     "output_type": "stream",
     "text": [
      "Setting resample\n",
      "resample sucessfuly set\n",
      "setting speech tensor\n",
      "applying tensor to device\n",
      "applying processor\n",
      "processor applied\n",
      "inputs insured\n",
      "Setting resample\n",
      "resample sucessfuly set\n",
      "setting speech tensor\n",
      "applying tensor to device\n",
      "applying processor\n",
      "processor applied\n",
      "inputs insured\n"
     ]
    },
    {
     "name": "stderr",
     "output_type": "stream",
     "text": [
      "It is strongly recommended to pass the ``sampling_rate`` argument to this function. Failing to do so can result in silent errors that might be hard to debug.\n",
      "It is strongly recommended to pass the ``sampling_rate`` argument to this function. Failing to do so can result in silent errors that might be hard to debug.\n",
      "\n",
      "\n",
      "\u001b[A\u001b[AIt is strongly recommended to pass the ``sampling_rate`` argument to this function. Failing to do so can result in silent errors that might be hard to debug.\n",
      "It is strongly recommended to pass the ``sampling_rate`` argument to this function. Failing to do so can result in silent errors that might be hard to debug.\n"
     ]
    },
    {
     "name": "stdout",
     "output_type": "stream",
     "text": [
      "Setting resample\n",
      "resample sucessfuly set\n",
      "setting speech tensor\n",
      "applying tensor to device\n",
      "applying processor\n",
      "processor applied\n",
      "inputs insured\n",
      "Setting resample\n",
      "resample sucessfuly set\n",
      "setting speech tensor\n",
      "applying tensor to device\n",
      "applying processor\n",
      "processor applied\n",
      "inputs insured\n"
     ]
    },
    {
     "name": "stderr",
     "output_type": "stream",
     "text": [
      "\n",
      "\n",
      "\u001b[A\u001b[AIt is strongly recommended to pass the ``sampling_rate`` argument to this function. Failing to do so can result in silent errors that might be hard to debug.\n",
      "It is strongly recommended to pass the ``sampling_rate`` argument to this function. Failing to do so can result in silent errors that might be hard to debug.\n",
      "\n",
      "\n",
      "\u001b[A\u001b[AIt is strongly recommended to pass the ``sampling_rate`` argument to this function. Failing to do so can result in silent errors that might be hard to debug.\n",
      "It is strongly recommended to pass the ``sampling_rate`` argument to this function. Failing to do so can result in silent errors that might be hard to debug.\n"
     ]
    },
    {
     "name": "stdout",
     "output_type": "stream",
     "text": [
      "Setting resample\n",
      "resample sucessfuly set\n",
      "setting speech tensor\n",
      "applying tensor to device\n",
      "applying processor\n",
      "processor applied\n",
      "inputs insured\n",
      "Setting resample\n",
      "resample sucessfuly set\n",
      "setting speech tensor\n",
      "applying tensor to device\n",
      "applying processor\n",
      "processor applied\n",
      "inputs insured\n"
     ]
    },
    {
     "name": "stderr",
     "output_type": "stream",
     "text": [
      "It is strongly recommended to pass the ``sampling_rate`` argument to this function. Failing to do so can result in silent errors that might be hard to debug.\n",
      "It is strongly recommended to pass the ``sampling_rate`` argument to this function. Failing to do so can result in silent errors that might be hard to debug.\n",
      "\n",
      "\n",
      "\u001b[A\u001b[AIt is strongly recommended to pass the ``sampling_rate`` argument to this function. Failing to do so can result in silent errors that might be hard to debug.\n",
      "It is strongly recommended to pass the ``sampling_rate`` argument to this function. Failing to do so can result in silent errors that might be hard to debug.\n",
      "It is strongly recommended to pass the ``sampling_rate`` argument to this function. Failing to do so can result in silent errors that might be hard to debug.\n",
      "It is strongly recommended to pass the ``sampling_rate`` argument to this function. Failing to do so can result in silent errors that might be hard to debug.\n"
     ]
    },
    {
     "name": "stdout",
     "output_type": "stream",
     "text": [
      "Setting resample\n",
      "resample sucessfuly set\n",
      "setting speech tensor\n",
      "applying tensor to device\n",
      "applying processor\n",
      "processor applied\n",
      "inputs insured\n",
      "Setting resample\n",
      "resample sucessfuly set\n",
      "setting speech tensor\n",
      "applying tensor to device\n",
      "applying processor\n",
      "processor applied\n",
      "inputs insured\n",
      "Setting resample\n",
      "resample sucessfuly set\n",
      "setting speech tensor\n",
      "applying tensor to device\n",
      "applying processor\n",
      "processor applied\n",
      "inputs insured\n"
     ]
    },
    {
     "name": "stderr",
     "output_type": "stream",
     "text": [
      "\n",
      "\n",
      "\u001b[A\u001b[AIt is strongly recommended to pass the ``sampling_rate`` argument to this function. Failing to do so can result in silent errors that might be hard to debug.\n",
      "It is strongly recommended to pass the ``sampling_rate`` argument to this function. Failing to do so can result in silent errors that might be hard to debug.\n",
      "It is strongly recommended to pass the ``sampling_rate`` argument to this function. Failing to do so can result in silent errors that might be hard to debug.\n",
      "It is strongly recommended to pass the ``sampling_rate`` argument to this function. Failing to do so can result in silent errors that might be hard to debug.\n",
      "\n",
      "\n",
      "\u001b[A\u001b[AIt is strongly recommended to pass the ``sampling_rate`` argument to this function. Failing to do so can result in silent errors that might be hard to debug.\n",
      "It is strongly recommended to pass the ``sampling_rate`` argument to this function. Failing to do so can result in silent errors that might be hard to debug.\n"
     ]
    },
    {
     "name": "stdout",
     "output_type": "stream",
     "text": [
      "Setting resample\n",
      "resample sucessfuly set\n",
      "setting speech tensor\n",
      "applying tensor to device\n",
      "applying processor\n",
      "processor applied\n",
      "inputs insured\n",
      "Setting resample\n",
      "resample sucessfuly set\n",
      "setting speech tensor\n",
      "applying tensor to device\n",
      "applying processor\n",
      "processor applied\n",
      "inputs insured\n",
      "Setting resample\n",
      "resample sucessfuly set\n",
      "setting speech tensor\n",
      "applying tensor to device\n",
      "applying processor\n",
      "processor applied\n",
      "inputs insured\n"
     ]
    },
    {
     "name": "stderr",
     "output_type": "stream",
     "text": [
      "It is strongly recommended to pass the ``sampling_rate`` argument to this function. Failing to do so can result in silent errors that might be hard to debug.\n",
      "It is strongly recommended to pass the ``sampling_rate`` argument to this function. Failing to do so can result in silent errors that might be hard to debug.\n",
      "\n",
      "\n",
      "\u001b[A\u001b[AIt is strongly recommended to pass the ``sampling_rate`` argument to this function. Failing to do so can result in silent errors that might be hard to debug.\n",
      "It is strongly recommended to pass the ``sampling_rate`` argument to this function. Failing to do so can result in silent errors that might be hard to debug.\n"
     ]
    },
    {
     "name": "stdout",
     "output_type": "stream",
     "text": [
      "Setting resample\n",
      "resample sucessfuly set\n",
      "setting speech tensor\n",
      "applying tensor to device\n",
      "applying processor\n",
      "processor applied\n",
      "inputs insured\n",
      "Setting resample\n",
      "resample sucessfuly set\n",
      "setting speech tensor\n",
      "applying tensor to device\n",
      "applying processor\n",
      "processor applied\n",
      "inputs insured\n"
     ]
    },
    {
     "name": "stderr",
     "output_type": "stream",
     "text": [
      "\n",
      "\n",
      "\u001b[A\u001b[AIt is strongly recommended to pass the ``sampling_rate`` argument to this function. Failing to do so can result in silent errors that might be hard to debug.\n",
      "It is strongly recommended to pass the ``sampling_rate`` argument to this function. Failing to do so can result in silent errors that might be hard to debug.\n",
      "\n",
      "\n",
      "\u001b[A\u001b[AIt is strongly recommended to pass the ``sampling_rate`` argument to this function. Failing to do so can result in silent errors that might be hard to debug.\n",
      "It is strongly recommended to pass the ``sampling_rate`` argument to this function. Failing to do so can result in silent errors that might be hard to debug.\n"
     ]
    },
    {
     "name": "stdout",
     "output_type": "stream",
     "text": [
      "Setting resample\n",
      "resample sucessfuly set\n",
      "setting speech tensor\n",
      "applying tensor to device\n",
      "applying processor\n",
      "processor applied\n",
      "inputs insured\n",
      "Setting resample\n",
      "resample sucessfuly set\n",
      "setting speech tensor\n",
      "applying tensor to device\n",
      "applying processor\n",
      "processor applied\n",
      "inputs insured\n"
     ]
    },
    {
     "name": "stderr",
     "output_type": "stream",
     "text": [
      "It is strongly recommended to pass the ``sampling_rate`` argument to this function. Failing to do so can result in silent errors that might be hard to debug.\n",
      "It is strongly recommended to pass the ``sampling_rate`` argument to this function. Failing to do so can result in silent errors that might be hard to debug.\n",
      "\n",
      "\n",
      "\u001b[A\u001b[AIt is strongly recommended to pass the ``sampling_rate`` argument to this function. Failing to do so can result in silent errors that might be hard to debug.\n",
      "It is strongly recommended to pass the ``sampling_rate`` argument to this function. Failing to do so can result in silent errors that might be hard to debug.\n",
      "It is strongly recommended to pass the ``sampling_rate`` argument to this function. Failing to do so can result in silent errors that might be hard to debug.\n",
      "It is strongly recommended to pass the ``sampling_rate`` argument to this function. Failing to do so can result in silent errors that might be hard to debug.\n"
     ]
    },
    {
     "name": "stdout",
     "output_type": "stream",
     "text": [
      "Setting resample\n",
      "resample sucessfuly set\n",
      "setting speech tensor\n",
      "applying tensor to device\n",
      "applying processor\n",
      "processor applied\n",
      "inputs insured\n",
      "Setting resample\n",
      "resample sucessfuly set\n",
      "setting speech tensor\n",
      "applying tensor to device\n",
      "applying processor\n",
      "processor applied\n",
      "inputs insured\n",
      "Setting resample\n",
      "resample sucessfuly set\n",
      "setting speech tensor\n",
      "applying tensor to device\n",
      "applying processor\n",
      "processor applied\n",
      "inputs insured\n"
     ]
    },
    {
     "name": "stderr",
     "output_type": "stream",
     "text": [
      "\n",
      "\n",
      "\u001b[A\u001b[AIt is strongly recommended to pass the ``sampling_rate`` argument to this function. Failing to do so can result in silent errors that might be hard to debug.\n",
      "It is strongly recommended to pass the ``sampling_rate`` argument to this function. Failing to do so can result in silent errors that might be hard to debug.\n",
      "\n",
      "\n",
      "\u001b[A\u001b[AIt is strongly recommended to pass the ``sampling_rate`` argument to this function. Failing to do so can result in silent errors that might be hard to debug.\n",
      "It is strongly recommended to pass the ``sampling_rate`` argument to this function. Failing to do so can result in silent errors that might be hard to debug.\n"
     ]
    },
    {
     "name": "stdout",
     "output_type": "stream",
     "text": [
      "Setting resample\n",
      "resample sucessfuly set\n",
      "setting speech tensor\n",
      "applying tensor to device\n",
      "applying processor\n",
      "processor applied\n",
      "inputs insured\n",
      "Setting resample\n",
      "resample sucessfuly set\n",
      "setting speech tensor\n",
      "applying tensor to device\n",
      "applying processor\n",
      "processor applied\n",
      "inputs insured\n"
     ]
    },
    {
     "name": "stderr",
     "output_type": "stream",
     "text": [
      "\n",
      "\n",
      "\u001b[A\u001b[AIt is strongly recommended to pass the ``sampling_rate`` argument to this function. Failing to do so can result in silent errors that might be hard to debug.\n",
      "It is strongly recommended to pass the ``sampling_rate`` argument to this function. Failing to do so can result in silent errors that might be hard to debug.\n",
      "It is strongly recommended to pass the ``sampling_rate`` argument to this function. Failing to do so can result in silent errors that might be hard to debug.\n",
      "It is strongly recommended to pass the ``sampling_rate`` argument to this function. Failing to do so can result in silent errors that might be hard to debug.\n",
      "\n",
      "\n",
      "\u001b[A\u001b[A"
     ]
    },
    {
     "name": "stdout",
     "output_type": "stream",
     "text": [
      "Setting resample\n",
      "resample sucessfuly set\n",
      "setting speech tensor\n",
      "applying tensor to device\n",
      "applying processor\n",
      "processor applied\n",
      "inputs insured\n",
      "Setting resample\n",
      "resample sucessfuly set\n",
      "setting speech tensor\n",
      "applying tensor to device\n",
      "applying processor\n",
      "processor applied\n",
      "inputs insured\n"
     ]
    },
    {
     "name": "stderr",
     "output_type": "stream",
     "text": [
      "It is strongly recommended to pass the ``sampling_rate`` argument to this function. Failing to do so can result in silent errors that might be hard to debug.\n",
      "It is strongly recommended to pass the ``sampling_rate`` argument to this function. Failing to do so can result in silent errors that might be hard to debug.\n",
      "\n",
      "\n",
      "\u001b[A\u001b[AIt is strongly recommended to pass the ``sampling_rate`` argument to this function. Failing to do so can result in silent errors that might be hard to debug.\n",
      "It is strongly recommended to pass the ``sampling_rate`` argument to this function. Failing to do so can result in silent errors that might be hard to debug.\n"
     ]
    },
    {
     "name": "stdout",
     "output_type": "stream",
     "text": [
      "Setting resample\n",
      "resample sucessfuly set\n",
      "setting speech tensor\n",
      "applying tensor to device\n",
      "applying processor\n",
      "processor applied\n",
      "inputs insured\n",
      "Setting resample\n",
      "resample sucessfuly set\n",
      "setting speech tensor\n",
      "applying tensor to device\n",
      "applying processor\n",
      "processor applied\n",
      "inputs insured\n"
     ]
    },
    {
     "name": "stderr",
     "output_type": "stream",
     "text": [
      "\n",
      "\n",
      "\u001b[A\u001b[AIt is strongly recommended to pass the ``sampling_rate`` argument to this function. Failing to do so can result in silent errors that might be hard to debug.\n",
      "It is strongly recommended to pass the ``sampling_rate`` argument to this function. Failing to do so can result in silent errors that might be hard to debug.\n",
      "\n",
      "\n",
      "\u001b[A\u001b[AIt is strongly recommended to pass the ``sampling_rate`` argument to this function. Failing to do so can result in silent errors that might be hard to debug.\n",
      "It is strongly recommended to pass the ``sampling_rate`` argument to this function. Failing to do so can result in silent errors that might be hard to debug.\n"
     ]
    },
    {
     "name": "stdout",
     "output_type": "stream",
     "text": [
      "Setting resample\n",
      "resample sucessfuly set\n",
      "setting speech tensor\n",
      "applying tensor to device\n",
      "applying processor\n",
      "processor applied\n",
      "inputs insured\n",
      "Setting resample\n",
      "resample sucessfuly set\n",
      "setting speech tensor\n",
      "applying tensor to device\n",
      "applying processor\n",
      "processor applied\n",
      "inputs insured\n"
     ]
    },
    {
     "name": "stderr",
     "output_type": "stream",
     "text": [
      "\n",
      "\n",
      "\u001b[A\u001b[AIt is strongly recommended to pass the ``sampling_rate`` argument to this function. Failing to do so can result in silent errors that might be hard to debug.\n",
      "It is strongly recommended to pass the ``sampling_rate`` argument to this function. Failing to do so can result in silent errors that might be hard to debug.\n",
      "\n",
      "\n",
      "\u001b[A\u001b[AIt is strongly recommended to pass the ``sampling_rate`` argument to this function. Failing to do so can result in silent errors that might be hard to debug.\n",
      "It is strongly recommended to pass the ``sampling_rate`` argument to this function. Failing to do so can result in silent errors that might be hard to debug.\n"
     ]
    },
    {
     "name": "stdout",
     "output_type": "stream",
     "text": [
      "Setting resample\n",
      "resample sucessfuly set\n",
      "setting speech tensor\n",
      "applying tensor to device\n",
      "applying processor\n",
      "processor applied\n",
      "inputs insured\n",
      "Setting resample\n",
      "resample sucessfuly set\n",
      "setting speech tensor\n",
      "applying tensor to device\n",
      "applying processor\n",
      "processor applied\n",
      "inputs insured\n"
     ]
    },
    {
     "name": "stderr",
     "output_type": "stream",
     "text": [
      "\n",
      "\n",
      "\u001b[A\u001b[AIt is strongly recommended to pass the ``sampling_rate`` argument to this function. Failing to do so can result in silent errors that might be hard to debug.\n",
      "It is strongly recommended to pass the ``sampling_rate`` argument to this function. Failing to do so can result in silent errors that might be hard to debug.\n",
      "\n",
      "\n",
      "\u001b[A\u001b[AIt is strongly recommended to pass the ``sampling_rate`` argument to this function. Failing to do so can result in silent errors that might be hard to debug.\n",
      "It is strongly recommended to pass the ``sampling_rate`` argument to this function. Failing to do so can result in silent errors that might be hard to debug.\n"
     ]
    },
    {
     "name": "stdout",
     "output_type": "stream",
     "text": [
      "Setting resample\n",
      "resample sucessfuly set\n",
      "setting speech tensor\n",
      "applying tensor to device\n",
      "applying processor\n",
      "processor applied\n",
      "inputs insured\n",
      "Setting resample\n",
      "resample sucessfuly set\n",
      "setting speech tensor\n",
      "applying tensor to device\n",
      "applying processor\n",
      "processor applied\n",
      "inputs insured\n"
     ]
    },
    {
     "name": "stderr",
     "output_type": "stream",
     "text": [
      "\n",
      "\n",
      "\u001b[A\u001b[AIt is strongly recommended to pass the ``sampling_rate`` argument to this function. Failing to do so can result in silent errors that might be hard to debug.\n",
      "It is strongly recommended to pass the ``sampling_rate`` argument to this function. Failing to do so can result in silent errors that might be hard to debug.\n",
      "It is strongly recommended to pass the ``sampling_rate`` argument to this function. Failing to do so can result in silent errors that might be hard to debug.\n",
      "It is strongly recommended to pass the ``sampling_rate`` argument to this function. Failing to do so can result in silent errors that might be hard to debug.\n"
     ]
    },
    {
     "name": "stdout",
     "output_type": "stream",
     "text": [
      "Setting resample\n",
      "resample sucessfuly set\n",
      "setting speech tensor\n",
      "applying tensor to device\n",
      "applying processor\n",
      "processor applied\n",
      "inputs insured\n",
      "Setting resample\n",
      "resample sucessfuly set\n",
      "setting speech tensor\n",
      "applying tensor to device\n",
      "applying processor\n",
      "processor applied\n",
      "inputs insured\n"
     ]
    },
    {
     "name": "stderr",
     "output_type": "stream",
     "text": [
      "\n",
      "\n",
      "\u001b[A\u001b[AIt is strongly recommended to pass the ``sampling_rate`` argument to this function. Failing to do so can result in silent errors that might be hard to debug.\n",
      "It is strongly recommended to pass the ``sampling_rate`` argument to this function. Failing to do so can result in silent errors that might be hard to debug.\n",
      "\n",
      "\n",
      "\u001b[A\u001b[AIt is strongly recommended to pass the ``sampling_rate`` argument to this function. Failing to do so can result in silent errors that might be hard to debug.\n",
      "It is strongly recommended to pass the ``sampling_rate`` argument to this function. Failing to do so can result in silent errors that might be hard to debug.\n",
      "It is strongly recommended to pass the ``sampling_rate`` argument to this function. Failing to do so can result in silent errors that might be hard to debug.\n",
      "It is strongly recommended to pass the ``sampling_rate`` argument to this function. Failing to do so can result in silent errors that might be hard to debug.\n"
     ]
    },
    {
     "name": "stdout",
     "output_type": "stream",
     "text": [
      "Setting resample\n",
      "resample sucessfuly set\n",
      "setting speech tensor\n",
      "applying tensor to device\n",
      "applying processor\n",
      "processor applied\n",
      "inputs insured\n",
      "Setting resample\n",
      "resample sucessfuly set\n",
      "setting speech tensor\n",
      "applying tensor to device\n",
      "applying processor\n",
      "processor applied\n",
      "inputs insured\n",
      "Setting resample\n",
      "resample sucessfuly set\n",
      "setting speech tensor\n",
      "applying tensor to device\n",
      "applying processor\n",
      "processor applied\n",
      "inputs insured\n"
     ]
    },
    {
     "name": "stderr",
     "output_type": "stream",
     "text": [
      "\n",
      "\n",
      "\u001b[A\u001b[AIt is strongly recommended to pass the ``sampling_rate`` argument to this function. Failing to do so can result in silent errors that might be hard to debug.\n",
      "It is strongly recommended to pass the ``sampling_rate`` argument to this function. Failing to do so can result in silent errors that might be hard to debug.\n",
      "It is strongly recommended to pass the ``sampling_rate`` argument to this function. Failing to do so can result in silent errors that might be hard to debug.\n",
      "It is strongly recommended to pass the ``sampling_rate`` argument to this function. Failing to do so can result in silent errors that might be hard to debug.\n"
     ]
    },
    {
     "name": "stdout",
     "output_type": "stream",
     "text": [
      "Setting resample\n",
      "resample sucessfuly set\n",
      "setting speech tensor\n",
      "applying tensor to device\n",
      "applying processor\n",
      "processor applied\n",
      "inputs insured\n",
      "Setting resample\n",
      "resample sucessfuly set\n",
      "setting speech tensor\n",
      "applying tensor to device\n",
      "applying processor\n",
      "processor applied\n",
      "inputs insured\n"
     ]
    },
    {
     "name": "stderr",
     "output_type": "stream",
     "text": [
      "\n",
      "\n",
      "\u001b[A\u001b[AIt is strongly recommended to pass the ``sampling_rate`` argument to this function. Failing to do so can result in silent errors that might be hard to debug.\n",
      "It is strongly recommended to pass the ``sampling_rate`` argument to this function. Failing to do so can result in silent errors that might be hard to debug.\n",
      "\n",
      "\n",
      "\u001b[A\u001b[AIt is strongly recommended to pass the ``sampling_rate`` argument to this function. Failing to do so can result in silent errors that might be hard to debug.\n",
      "It is strongly recommended to pass the ``sampling_rate`` argument to this function. Failing to do so can result in silent errors that might be hard to debug.\n",
      "It is strongly recommended to pass the ``sampling_rate`` argument to this function. Failing to do so can result in silent errors that might be hard to debug.\n",
      "It is strongly recommended to pass the ``sampling_rate`` argument to this function. Failing to do so can result in silent errors that might be hard to debug.\n"
     ]
    },
    {
     "name": "stdout",
     "output_type": "stream",
     "text": [
      "Setting resample\n",
      "resample sucessfuly set\n",
      "setting speech tensor\n",
      "applying tensor to device\n",
      "applying processor\n",
      "processor applied\n",
      "inputs insured\n",
      "Setting resample\n",
      "resample sucessfuly set\n",
      "setting speech tensor\n",
      "applying tensor to device\n",
      "applying processor\n",
      "processor applied\n",
      "inputs insured\n",
      "Setting resample\n",
      "resample sucessfuly set\n",
      "setting speech tensor\n",
      "applying tensor to device\n",
      "applying processor\n",
      "processor applied\n",
      "inputs insured\n"
     ]
    },
    {
     "name": "stderr",
     "output_type": "stream",
     "text": [
      "\n",
      "\n",
      "\u001b[A\u001b[AIt is strongly recommended to pass the ``sampling_rate`` argument to this function. Failing to do so can result in silent errors that might be hard to debug.\n",
      "It is strongly recommended to pass the ``sampling_rate`` argument to this function. Failing to do so can result in silent errors that might be hard to debug.\n",
      "It is strongly recommended to pass the ``sampling_rate`` argument to this function. Failing to do so can result in silent errors that might be hard to debug.\n",
      "It is strongly recommended to pass the ``sampling_rate`` argument to this function. Failing to do so can result in silent errors that might be hard to debug.\n",
      "\n",
      "\n",
      "\u001b[A\u001b[AIt is strongly recommended to pass the ``sampling_rate`` argument to this function. Failing to do so can result in silent errors that might be hard to debug.\n",
      "It is strongly recommended to pass the ``sampling_rate`` argument to this function. Failing to do so can result in silent errors that might be hard to debug.\n"
     ]
    },
    {
     "name": "stdout",
     "output_type": "stream",
     "text": [
      "Setting resample\n",
      "resample sucessfuly set\n",
      "setting speech tensor\n",
      "applying tensor to device\n",
      "applying processor\n",
      "processor applied\n",
      "inputs insured\n",
      "Setting resample\n",
      "resample sucessfuly set\n",
      "setting speech tensor\n",
      "applying tensor to device\n",
      "applying processor\n",
      "processor applied\n",
      "inputs insured\n",
      "Setting resample\n",
      "resample sucessfuly set\n",
      "setting speech tensor\n",
      "applying tensor to device\n",
      "applying processor\n",
      "processor applied\n",
      "inputs insured\n"
     ]
    },
    {
     "name": "stderr",
     "output_type": "stream",
     "text": [
      "It is strongly recommended to pass the ``sampling_rate`` argument to this function. Failing to do so can result in silent errors that might be hard to debug.\n",
      "It is strongly recommended to pass the ``sampling_rate`` argument to this function. Failing to do so can result in silent errors that might be hard to debug.\n",
      "\n",
      "\n",
      "\u001b[A\u001b[AIt is strongly recommended to pass the ``sampling_rate`` argument to this function. Failing to do so can result in silent errors that might be hard to debug.\n",
      "It is strongly recommended to pass the ``sampling_rate`` argument to this function. Failing to do so can result in silent errors that might be hard to debug.\n"
     ]
    },
    {
     "name": "stdout",
     "output_type": "stream",
     "text": [
      "Setting resample\n",
      "resample sucessfuly set\n",
      "setting speech tensor\n",
      "applying tensor to device\n",
      "applying processor\n",
      "processor applied\n",
      "inputs insured\n",
      "Setting resample\n",
      "resample sucessfuly set\n",
      "setting speech tensor\n",
      "applying tensor to device\n",
      "applying processor\n",
      "processor applied\n",
      "inputs insured\n"
     ]
    },
    {
     "name": "stderr",
     "output_type": "stream",
     "text": [
      "It is strongly recommended to pass the ``sampling_rate`` argument to this function. Failing to do so can result in silent errors that might be hard to debug.\n",
      "It is strongly recommended to pass the ``sampling_rate`` argument to this function. Failing to do so can result in silent errors that might be hard to debug.\n",
      "\n",
      "\n",
      "\u001b[A\u001b[AIt is strongly recommended to pass the ``sampling_rate`` argument to this function. Failing to do so can result in silent errors that might be hard to debug.\n",
      "It is strongly recommended to pass the ``sampling_rate`` argument to this function. Failing to do so can result in silent errors that might be hard to debug.\n"
     ]
    },
    {
     "name": "stdout",
     "output_type": "stream",
     "text": [
      "Setting resample\n",
      "resample sucessfuly set\n",
      "setting speech tensor\n",
      "applying tensor to device\n",
      "applying processor\n",
      "processor applied\n",
      "inputs insured\n",
      "Setting resample\n",
      "resample sucessfuly set\n",
      "setting speech tensor\n",
      "applying tensor to device\n",
      "applying processor\n",
      "processor applied\n",
      "inputs insured\n"
     ]
    },
    {
     "name": "stderr",
     "output_type": "stream",
     "text": [
      "\n",
      "\n",
      "\u001b[A\u001b[AIt is strongly recommended to pass the ``sampling_rate`` argument to this function. Failing to do so can result in silent errors that might be hard to debug.\n",
      "It is strongly recommended to pass the ``sampling_rate`` argument to this function. Failing to do so can result in silent errors that might be hard to debug.\n",
      "\n",
      "\n",
      "\u001b[A\u001b[A"
     ]
    },
    {
     "name": "stdout",
     "output_type": "stream",
     "text": [
      "Setting resample\n",
      "resample sucessfuly set\n",
      "setting speech tensor\n",
      "applying tensor to device\n",
      "applying processor\n",
      "processor applied\n",
      "inputs insured\n",
      "Setting resample\n",
      "resample sucessfuly set\n"
     ]
    },
    {
     "name": "stderr",
     "output_type": "stream",
     "text": [
      "It is strongly recommended to pass the ``sampling_rate`` argument to this function. Failing to do so can result in silent errors that might be hard to debug.\n",
      "It is strongly recommended to pass the ``sampling_rate`` argument to this function. Failing to do so can result in silent errors that might be hard to debug.\n",
      "It is strongly recommended to pass the ``sampling_rate`` argument to this function. Failing to do so can result in silent errors that might be hard to debug.\n",
      "It is strongly recommended to pass the ``sampling_rate`` argument to this function. Failing to do so can result in silent errors that might be hard to debug.\n"
     ]
    },
    {
     "name": "stdout",
     "output_type": "stream",
     "text": [
      "setting speech tensor\n",
      "applying tensor to device\n",
      "applying processor\n",
      "processor applied\n",
      "inputs insured\n",
      "Setting resample\n",
      "resample sucessfuly set\n",
      "setting speech tensor\n",
      "applying tensor to device\n",
      "applying processor\n",
      "processor applied\n",
      "inputs insured\n"
     ]
    },
    {
     "name": "stderr",
     "output_type": "stream",
     "text": [
      "\n",
      "\n",
      "\u001b[A\u001b[AIt is strongly recommended to pass the ``sampling_rate`` argument to this function. Failing to do so can result in silent errors that might be hard to debug.\n",
      "It is strongly recommended to pass the ``sampling_rate`` argument to this function. Failing to do so can result in silent errors that might be hard to debug.\n",
      "\n",
      "\n",
      "\u001b[A\u001b[AIt is strongly recommended to pass the ``sampling_rate`` argument to this function. Failing to do so can result in silent errors that might be hard to debug.\n",
      "It is strongly recommended to pass the ``sampling_rate`` argument to this function. Failing to do so can result in silent errors that might be hard to debug.\n"
     ]
    },
    {
     "name": "stdout",
     "output_type": "stream",
     "text": [
      "Setting resample\n",
      "resample sucessfuly set\n",
      "setting speech tensor\n",
      "applying tensor to device\n",
      "applying processor\n",
      "processor applied\n",
      "inputs insured\n",
      "Setting resample\n",
      "resample sucessfuly set\n",
      "setting speech tensor\n",
      "applying tensor to device\n",
      "applying processor\n",
      "processor applied\n",
      "inputs insured\n"
     ]
    },
    {
     "name": "stderr",
     "output_type": "stream",
     "text": [
      "\n",
      "\n",
      "\u001b[A\u001b[AIt is strongly recommended to pass the ``sampling_rate`` argument to this function. Failing to do so can result in silent errors that might be hard to debug.\n",
      "It is strongly recommended to pass the ``sampling_rate`` argument to this function. Failing to do so can result in silent errors that might be hard to debug.\n",
      "It is strongly recommended to pass the ``sampling_rate`` argument to this function. Failing to do so can result in silent errors that might be hard to debug.\n",
      "It is strongly recommended to pass the ``sampling_rate`` argument to this function. Failing to do so can result in silent errors that might be hard to debug.\n",
      "\n",
      "\n",
      "\u001b[A\u001b[AIt is strongly recommended to pass the ``sampling_rate`` argument to this function. Failing to do so can result in silent errors that might be hard to debug.\n",
      "It is strongly recommended to pass the ``sampling_rate`` argument to this function. Failing to do so can result in silent errors that might be hard to debug.\n"
     ]
    },
    {
     "name": "stdout",
     "output_type": "stream",
     "text": [
      "Setting resample\n",
      "resample sucessfuly set\n",
      "setting speech tensor\n",
      "applying tensor to device\n",
      "applying processor\n",
      "processor applied\n",
      "inputs insured\n",
      "Setting resample\n",
      "resample sucessfuly set\n",
      "setting speech tensor\n",
      "applying tensor to device\n",
      "applying processor\n",
      "processor applied\n",
      "inputs insured\n",
      "Setting resample\n",
      "resample sucessfuly set\n",
      "setting speech tensor\n",
      "applying tensor to device\n",
      "applying processor\n"
     ]
    },
    {
     "name": "stderr",
     "output_type": "stream",
     "text": [
      "\n",
      "\n",
      "\u001b[A\u001b[AIt is strongly recommended to pass the ``sampling_rate`` argument to this function. Failing to do so can result in silent errors that might be hard to debug.\n",
      "It is strongly recommended to pass the ``sampling_rate`` argument to this function. Failing to do so can result in silent errors that might be hard to debug.\n"
     ]
    },
    {
     "name": "stdout",
     "output_type": "stream",
     "text": [
      "processor applied\n",
      "inputs insured\n",
      "Setting resample\n",
      "resample sucessfuly set\n",
      "setting speech tensor\n",
      "applying tensor to device\n",
      "applying processor\n",
      "processor applied\n",
      "inputs insured\n"
     ]
    },
    {
     "name": "stderr",
     "output_type": "stream",
     "text": [
      "It is strongly recommended to pass the ``sampling_rate`` argument to this function. Failing to do so can result in silent errors that might be hard to debug.\n",
      "It is strongly recommended to pass the ``sampling_rate`` argument to this function. Failing to do so can result in silent errors that might be hard to debug.\n",
      "\n",
      "\n",
      "\u001b[A\u001b[AIt is strongly recommended to pass the ``sampling_rate`` argument to this function. Failing to do so can result in silent errors that might be hard to debug.\n",
      "It is strongly recommended to pass the ``sampling_rate`` argument to this function. Failing to do so can result in silent errors that might be hard to debug.\n"
     ]
    },
    {
     "name": "stdout",
     "output_type": "stream",
     "text": [
      "Setting resample\n",
      "resample sucessfuly set\n",
      "setting speech tensor\n",
      "applying tensor to device\n",
      "applying processor\n",
      "processor applied\n",
      "inputs insured\n",
      "Setting resample\n",
      "resample sucessfuly set\n",
      "setting speech tensor\n",
      "applying tensor to device\n",
      "applying processor\n",
      "processor applied\n",
      "inputs insured\n"
     ]
    },
    {
     "name": "stderr",
     "output_type": "stream",
     "text": [
      "\n",
      "\n",
      "\u001b[A\u001b[AIt is strongly recommended to pass the ``sampling_rate`` argument to this function. Failing to do so can result in silent errors that might be hard to debug.\n",
      "It is strongly recommended to pass the ``sampling_rate`` argument to this function. Failing to do so can result in silent errors that might be hard to debug.\n",
      "It is strongly recommended to pass the ``sampling_rate`` argument to this function. Failing to do so can result in silent errors that might be hard to debug.\n",
      "It is strongly recommended to pass the ``sampling_rate`` argument to this function. Failing to do so can result in silent errors that might be hard to debug.\n",
      "\n",
      "\n",
      "\u001b[A\u001b[AIt is strongly recommended to pass the ``sampling_rate`` argument to this function. Failing to do so can result in silent errors that might be hard to debug.\n",
      "It is strongly recommended to pass the ``sampling_rate`` argument to this function. Failing to do so can result in silent errors that might be hard to debug.\n"
     ]
    },
    {
     "name": "stdout",
     "output_type": "stream",
     "text": [
      "Setting resample\n",
      "resample sucessfuly set\n",
      "setting speech tensor\n",
      "applying tensor to device\n",
      "applying processor\n",
      "processor applied\n",
      "inputs insured\n",
      "Setting resample\n",
      "resample sucessfuly set\n",
      "setting speech tensor\n",
      "applying tensor to device\n",
      "applying processor\n",
      "processor applied\n",
      "inputs insured\n",
      "Setting resample\n",
      "resample sucessfuly set\n",
      "setting speech tensor\n",
      "applying tensor to device\n",
      "applying processor\n",
      "processor applied\n",
      "inputs insured\n"
     ]
    },
    {
     "name": "stderr",
     "output_type": "stream",
     "text": [
      "It is strongly recommended to pass the ``sampling_rate`` argument to this function. Failing to do so can result in silent errors that might be hard to debug.\n",
      "It is strongly recommended to pass the ``sampling_rate`` argument to this function. Failing to do so can result in silent errors that might be hard to debug.\n",
      "\n",
      "\n",
      "\u001b[A\u001b[AIt is strongly recommended to pass the ``sampling_rate`` argument to this function. Failing to do so can result in silent errors that might be hard to debug.\n",
      "It is strongly recommended to pass the ``sampling_rate`` argument to this function. Failing to do so can result in silent errors that might be hard to debug.\n"
     ]
    },
    {
     "name": "stdout",
     "output_type": "stream",
     "text": [
      "Setting resample\n",
      "resample sucessfuly set\n",
      "setting speech tensor\n",
      "applying tensor to device\n",
      "applying processor\n",
      "processor applied\n",
      "inputs insured\n",
      "Setting resample\n",
      "resample sucessfuly set\n",
      "setting speech tensor\n",
      "applying tensor to device\n",
      "applying processor\n",
      "processor applied\n",
      "inputs insured\n"
     ]
    },
    {
     "name": "stderr",
     "output_type": "stream",
     "text": [
      "\n",
      "\n",
      "\u001b[A\u001b[AIt is strongly recommended to pass the ``sampling_rate`` argument to this function. Failing to do so can result in silent errors that might be hard to debug.\n",
      "It is strongly recommended to pass the ``sampling_rate`` argument to this function. Failing to do so can result in silent errors that might be hard to debug.\n"
     ]
    },
    {
     "name": "stdout",
     "output_type": "stream",
     "text": [
      "Setting resample\n",
      "resample sucessfuly set\n",
      "setting speech tensor\n",
      "applying tensor to device\n",
      "applying processor\n",
      "processor applied\n",
      "inputs insured\n"
     ]
    },
    {
     "name": "stderr",
     "output_type": "stream",
     "text": [
      "\n",
      "\n",
      "\u001b[A\u001b[AIt is strongly recommended to pass the ``sampling_rate`` argument to this function. Failing to do so can result in silent errors that might be hard to debug.\n",
      "It is strongly recommended to pass the ``sampling_rate`` argument to this function. Failing to do so can result in silent errors that might be hard to debug.\n",
      "It is strongly recommended to pass the ``sampling_rate`` argument to this function. Failing to do so can result in silent errors that might be hard to debug.\n",
      "It is strongly recommended to pass the ``sampling_rate`` argument to this function. Failing to do so can result in silent errors that might be hard to debug.\n",
      "\n",
      "\n",
      "\u001b[A\u001b[A"
     ]
    },
    {
     "name": "stdout",
     "output_type": "stream",
     "text": [
      "Setting resample\n",
      "resample sucessfuly set\n",
      "setting speech tensor\n",
      "applying tensor to device\n",
      "applying processor\n",
      "processor applied\n",
      "inputs insured\n",
      "Setting resample\n",
      "resample sucessfuly set\n",
      "setting speech tensor\n",
      "applying tensor to device\n",
      "applying processor\n",
      "processor applied\n",
      "inputs insured\n"
     ]
    },
    {
     "name": "stderr",
     "output_type": "stream",
     "text": [
      "It is strongly recommended to pass the ``sampling_rate`` argument to this function. Failing to do so can result in silent errors that might be hard to debug.\n",
      "It is strongly recommended to pass the ``sampling_rate`` argument to this function. Failing to do so can result in silent errors that might be hard to debug.\n",
      "\n",
      "\n",
      "\u001b[A\u001b[AIt is strongly recommended to pass the ``sampling_rate`` argument to this function. Failing to do so can result in silent errors that might be hard to debug.\n",
      "It is strongly recommended to pass the ``sampling_rate`` argument to this function. Failing to do so can result in silent errors that might be hard to debug.\n"
     ]
    },
    {
     "name": "stdout",
     "output_type": "stream",
     "text": [
      "Setting resample\n",
      "resample sucessfuly set\n",
      "setting speech tensor\n",
      "applying tensor to device\n",
      "applying processor\n",
      "processor applied\n",
      "inputs insured\n",
      "Setting resample\n",
      "resample sucessfuly set\n",
      "setting speech tensor\n",
      "applying tensor to device\n",
      "applying processor\n",
      "processor applied\n",
      "inputs insured\n"
     ]
    },
    {
     "name": "stderr",
     "output_type": "stream",
     "text": [
      "It is strongly recommended to pass the ``sampling_rate`` argument to this function. Failing to do so can result in silent errors that might be hard to debug.\n",
      "It is strongly recommended to pass the ``sampling_rate`` argument to this function. Failing to do so can result in silent errors that might be hard to debug.\n",
      "\n",
      "\n",
      "\u001b[A\u001b[AIt is strongly recommended to pass the ``sampling_rate`` argument to this function. Failing to do so can result in silent errors that might be hard to debug.\n",
      "It is strongly recommended to pass the ``sampling_rate`` argument to this function. Failing to do so can result in silent errors that might be hard to debug.\n"
     ]
    },
    {
     "name": "stdout",
     "output_type": "stream",
     "text": [
      "Setting resample\n",
      "resample sucessfuly set\n",
      "setting speech tensor\n",
      "applying tensor to device\n",
      "applying processor\n",
      "processor applied\n",
      "inputs insured\n",
      "Setting resample\n",
      "resample sucessfuly set\n",
      "setting speech tensor\n",
      "applying tensor to device\n",
      "applying processor\n",
      "processor applied\n",
      "inputs insured\n"
     ]
    },
    {
     "name": "stderr",
     "output_type": "stream",
     "text": [
      "It is strongly recommended to pass the ``sampling_rate`` argument to this function. Failing to do so can result in silent errors that might be hard to debug.\n",
      "It is strongly recommended to pass the ``sampling_rate`` argument to this function. Failing to do so can result in silent errors that might be hard to debug.\n",
      "\n",
      "\n",
      "\u001b[A\u001b[AIt is strongly recommended to pass the ``sampling_rate`` argument to this function. Failing to do so can result in silent errors that might be hard to debug.\n",
      "It is strongly recommended to pass the ``sampling_rate`` argument to this function. Failing to do so can result in silent errors that might be hard to debug.\n",
      "It is strongly recommended to pass the ``sampling_rate`` argument to this function. Failing to do so can result in silent errors that might be hard to debug.\n",
      "It is strongly recommended to pass the ``sampling_rate`` argument to this function. Failing to do so can result in silent errors that might be hard to debug.\n"
     ]
    },
    {
     "name": "stdout",
     "output_type": "stream",
     "text": [
      "Setting resample\n",
      "resample sucessfuly set\n",
      "setting speech tensor\n",
      "applying tensor to device\n",
      "applying processor\n",
      "processor applied\n",
      "inputs insured\n",
      "Setting resample\n",
      "resample sucessfuly set\n",
      "setting speech tensor\n",
      "applying tensor to device\n",
      "applying processor\n",
      "processor applied\n",
      "inputs insured\n",
      "Setting resample\n",
      "resample sucessfuly set\n",
      "setting speech tensor\n",
      "applying tensor to device\n",
      "applying processor\n",
      "processor applied\n",
      "inputs insured\n"
     ]
    },
    {
     "name": "stderr",
     "output_type": "stream",
     "text": [
      "\n",
      "\n",
      "\u001b[A\u001b[AIt is strongly recommended to pass the ``sampling_rate`` argument to this function. Failing to do so can result in silent errors that might be hard to debug.\n",
      "It is strongly recommended to pass the ``sampling_rate`` argument to this function. Failing to do so can result in silent errors that might be hard to debug.\n",
      "\n",
      "\n",
      "\u001b[A\u001b[AIt is strongly recommended to pass the ``sampling_rate`` argument to this function. Failing to do so can result in silent errors that might be hard to debug.\n",
      "It is strongly recommended to pass the ``sampling_rate`` argument to this function. Failing to do so can result in silent errors that might be hard to debug.\n"
     ]
    },
    {
     "name": "stdout",
     "output_type": "stream",
     "text": [
      "Setting resample\n",
      "resample sucessfuly set\n",
      "setting speech tensor\n",
      "applying tensor to device\n",
      "applying processor\n",
      "processor applied\n",
      "inputs insured\n",
      "Setting resample\n",
      "resample sucessfuly set\n",
      "setting speech tensor\n",
      "applying tensor to device\n",
      "applying processor\n",
      "processor applied\n",
      "inputs insured\n"
     ]
    },
    {
     "name": "stderr",
     "output_type": "stream",
     "text": [
      "\n",
      "\n",
      "\u001b[A\u001b[AIt is strongly recommended to pass the ``sampling_rate`` argument to this function. Failing to do so can result in silent errors that might be hard to debug.\n",
      "It is strongly recommended to pass the ``sampling_rate`` argument to this function. Failing to do so can result in silent errors that might be hard to debug.\n",
      "It is strongly recommended to pass the ``sampling_rate`` argument to this function. Failing to do so can result in silent errors that might be hard to debug.\n",
      "It is strongly recommended to pass the ``sampling_rate`` argument to this function. Failing to do so can result in silent errors that might be hard to debug.\n",
      "\n",
      "\n",
      "\u001b[A\u001b[AIt is strongly recommended to pass the ``sampling_rate`` argument to this function. Failing to do so can result in silent errors that might be hard to debug.\n",
      "It is strongly recommended to pass the ``sampling_rate`` argument to this function. Failing to do so can result in silent errors that might be hard to debug.\n"
     ]
    },
    {
     "name": "stdout",
     "output_type": "stream",
     "text": [
      "Setting resample\n",
      "resample sucessfuly set\n",
      "setting speech tensor\n",
      "applying tensor to device\n",
      "applying processor\n",
      "processor applied\n",
      "inputs insured\n",
      "Setting resample\n",
      "resample sucessfuly set\n",
      "setting speech tensor\n",
      "applying tensor to device\n",
      "applying processor\n",
      "processor applied\n",
      "inputs insured\n",
      "Setting resample\n",
      "resample sucessfuly set\n",
      "setting speech tensor\n",
      "applying tensor to device\n",
      "applying processor\n",
      "processor applied\n",
      "inputs insured\n"
     ]
    },
    {
     "name": "stderr",
     "output_type": "stream",
     "text": [
      "It is strongly recommended to pass the ``sampling_rate`` argument to this function. Failing to do so can result in silent errors that might be hard to debug.\n",
      "It is strongly recommended to pass the ``sampling_rate`` argument to this function. Failing to do so can result in silent errors that might be hard to debug.\n",
      "\n",
      "\n",
      "\u001b[A\u001b[AIt is strongly recommended to pass the ``sampling_rate`` argument to this function. Failing to do so can result in silent errors that might be hard to debug.\n",
      "It is strongly recommended to pass the ``sampling_rate`` argument to this function. Failing to do so can result in silent errors that might be hard to debug.\n",
      "It is strongly recommended to pass the ``sampling_rate`` argument to this function. Failing to do so can result in silent errors that might be hard to debug.\n",
      "It is strongly recommended to pass the ``sampling_rate`` argument to this function. Failing to do so can result in silent errors that might be hard to debug.\n"
     ]
    },
    {
     "name": "stdout",
     "output_type": "stream",
     "text": [
      "Setting resample\n",
      "resample sucessfuly set\n",
      "setting speech tensor\n",
      "applying tensor to device\n",
      "applying processor\n",
      "processor applied\n",
      "inputs insured\n",
      "Setting resample\n",
      "resample sucessfuly set\n",
      "setting speech tensor\n",
      "applying tensor to device\n",
      "applying processor\n",
      "processor applied\n",
      "inputs insured\n",
      "Setting resample\n",
      "resample sucessfuly set\n",
      "setting speech tensor\n",
      "applying tensor to device\n",
      "applying processor\n",
      "processor applied\n",
      "inputs insured\n"
     ]
    },
    {
     "name": "stderr",
     "output_type": "stream",
     "text": [
      "\n",
      "\n",
      "\u001b[A\u001b[AIt is strongly recommended to pass the ``sampling_rate`` argument to this function. Failing to do so can result in silent errors that might be hard to debug.\n",
      "It is strongly recommended to pass the ``sampling_rate`` argument to this function. Failing to do so can result in silent errors that might be hard to debug.\n",
      "It is strongly recommended to pass the ``sampling_rate`` argument to this function. Failing to do so can result in silent errors that might be hard to debug.\n",
      "It is strongly recommended to pass the ``sampling_rate`` argument to this function. Failing to do so can result in silent errors that might be hard to debug.\n",
      "\n",
      "\n",
      "\u001b[A\u001b[AIt is strongly recommended to pass the ``sampling_rate`` argument to this function. Failing to do so can result in silent errors that might be hard to debug.\n",
      "It is strongly recommended to pass the ``sampling_rate`` argument to this function. Failing to do so can result in silent errors that might be hard to debug.\n"
     ]
    },
    {
     "name": "stdout",
     "output_type": "stream",
     "text": [
      "Setting resample\n",
      "resample sucessfuly set\n",
      "setting speech tensor\n",
      "applying tensor to device\n",
      "applying processor\n",
      "processor applied\n",
      "inputs insured\n",
      "Setting resample\n",
      "resample sucessfuly set\n",
      "setting speech tensor\n",
      "applying tensor to device\n",
      "applying processor\n",
      "processor applied\n",
      "inputs insured\n",
      "Setting resample\n",
      "resample sucessfuly set\n",
      "setting speech tensor\n",
      "applying tensor to device\n",
      "applying processor\n",
      "processor applied\n",
      "inputs insured\n"
     ]
    },
    {
     "name": "stderr",
     "output_type": "stream",
     "text": [
      "It is strongly recommended to pass the ``sampling_rate`` argument to this function. Failing to do so can result in silent errors that might be hard to debug.\n",
      "It is strongly recommended to pass the ``sampling_rate`` argument to this function. Failing to do so can result in silent errors that might be hard to debug.\n",
      "\n",
      "\n",
      "\u001b[A\u001b[AIt is strongly recommended to pass the ``sampling_rate`` argument to this function. Failing to do so can result in silent errors that might be hard to debug.\n",
      "It is strongly recommended to pass the ``sampling_rate`` argument to this function. Failing to do so can result in silent errors that might be hard to debug.\n"
     ]
    },
    {
     "name": "stdout",
     "output_type": "stream",
     "text": [
      "Setting resample\n",
      "resample sucessfuly set\n",
      "setting speech tensor\n",
      "applying tensor to device\n",
      "applying processor\n",
      "processor applied\n",
      "inputs insured\n",
      "Setting resample\n",
      "resample sucessfuly set\n",
      "setting speech tensor\n",
      "applying tensor to device\n",
      "applying processor\n",
      "processor applied\n",
      "inputs insured\n"
     ]
    },
    {
     "name": "stderr",
     "output_type": "stream",
     "text": [
      "It is strongly recommended to pass the ``sampling_rate`` argument to this function. Failing to do so can result in silent errors that might be hard to debug.\n",
      "It is strongly recommended to pass the ``sampling_rate`` argument to this function. Failing to do so can result in silent errors that might be hard to debug.\n",
      "\n",
      "\n",
      "\u001b[A\u001b[AIt is strongly recommended to pass the ``sampling_rate`` argument to this function. Failing to do so can result in silent errors that might be hard to debug.\n",
      "It is strongly recommended to pass the ``sampling_rate`` argument to this function. Failing to do so can result in silent errors that might be hard to debug.\n"
     ]
    },
    {
     "name": "stdout",
     "output_type": "stream",
     "text": [
      "Setting resample\n",
      "resample sucessfuly set\n",
      "setting speech tensor\n",
      "applying tensor to device\n",
      "applying processor\n",
      "processor applied\n",
      "inputs insured\n",
      "Setting resample\n",
      "resample sucessfuly set\n",
      "setting speech tensor\n",
      "applying tensor to device\n",
      "applying processor\n",
      "processor applied\n",
      "inputs insured\n"
     ]
    },
    {
     "name": "stderr",
     "output_type": "stream",
     "text": [
      "It is strongly recommended to pass the ``sampling_rate`` argument to this function. Failing to do so can result in silent errors that might be hard to debug.\n",
      "It is strongly recommended to pass the ``sampling_rate`` argument to this function. Failing to do so can result in silent errors that might be hard to debug.\n",
      "\n",
      "\n",
      "\n"
     ]
    },
    {
     "name": "stdout",
     "output_type": "stream",
     "text": [
      "Setting resample\n",
      "resample sucessfuly set\n",
      "setting speech tensor\n",
      "applying tensor to device\n",
      "applying processor\n",
      "processor applied\n",
      "inputs insured\n"
     ]
    },
    {
     "name": "stderr",
     "output_type": "stream",
     "text": [
      "Evaluating model:  75%|███████▍  | 452/603 [00:55<00:20,  7.53 samples/s]\u001b[A\u001b[A\u001b[AIt is strongly recommended to pass the ``sampling_rate`` argument to this function. Failing to do so can result in silent errors that might be hard to debug.\n",
      "It is strongly recommended to pass the ``sampling_rate`` argument to this function. Failing to do so can result in silent errors that might be hard to debug.\n",
      "It is strongly recommended to pass the ``sampling_rate`` argument to this function. Failing to do so can result in silent errors that might be hard to debug.\n",
      "It is strongly recommended to pass the ``sampling_rate`` argument to this function. Failing to do so can result in silent errors that might be hard to debug.\n"
     ]
    },
    {
     "name": "stdout",
     "output_type": "stream",
     "text": [
      "Setting resample\n",
      "resample sucessfuly set\n",
      "setting speech tensor\n",
      "applying tensor to device\n",
      "applying processor\n",
      "processor applied\n",
      "inputs insured\n",
      "Setting resample\n",
      "resample sucessfuly set\n",
      "setting speech tensor\n",
      "applying tensor to device\n",
      "applying processor\n",
      "processor applied\n",
      "inputs insured\n"
     ]
    },
    {
     "name": "stderr",
     "output_type": "stream",
     "text": [
      "\n",
      "\n",
      "\u001b[A\u001b[AIt is strongly recommended to pass the ``sampling_rate`` argument to this function. Failing to do so can result in silent errors that might be hard to debug.\n",
      "It is strongly recommended to pass the ``sampling_rate`` argument to this function. Failing to do so can result in silent errors that might be hard to debug.\n",
      "It is strongly recommended to pass the ``sampling_rate`` argument to this function. Failing to do so can result in silent errors that might be hard to debug.\n",
      "It is strongly recommended to pass the ``sampling_rate`` argument to this function. Failing to do so can result in silent errors that might be hard to debug.\n",
      "\n",
      "\n",
      "\u001b[A\u001b[AIt is strongly recommended to pass the ``sampling_rate`` argument to this function. Failing to do so can result in silent errors that might be hard to debug.\n",
      "It is strongly recommended to pass the ``sampling_rate`` argument to this function. Failing to do so can result in silent errors that might be hard to debug.\n"
     ]
    },
    {
     "name": "stdout",
     "output_type": "stream",
     "text": [
      "Setting resample\n",
      "resample sucessfuly set\n",
      "setting speech tensor\n",
      "applying tensor to device\n",
      "applying processor\n",
      "processor applied\n",
      "inputs insured\n",
      "Setting resample\n",
      "resample sucessfuly set\n",
      "setting speech tensor\n",
      "applying tensor to device\n",
      "applying processor\n",
      "processor applied\n",
      "inputs insured\n",
      "Setting resample\n",
      "resample sucessfuly set\n",
      "setting speech tensor\n",
      "applying tensor to device\n",
      "applying processor\n",
      "processor applied\n",
      "inputs insured\n"
     ]
    },
    {
     "name": "stderr",
     "output_type": "stream",
     "text": [
      "\n",
      "\n",
      "\u001b[A\u001b[AIt is strongly recommended to pass the ``sampling_rate`` argument to this function. Failing to do so can result in silent errors that might be hard to debug.\n",
      "It is strongly recommended to pass the ``sampling_rate`` argument to this function. Failing to do so can result in silent errors that might be hard to debug.\n",
      "\n",
      "\n",
      "\u001b[A\u001b[AIt is strongly recommended to pass the ``sampling_rate`` argument to this function. Failing to do so can result in silent errors that might be hard to debug.\n",
      "It is strongly recommended to pass the ``sampling_rate`` argument to this function. Failing to do so can result in silent errors that might be hard to debug.\n"
     ]
    },
    {
     "name": "stdout",
     "output_type": "stream",
     "text": [
      "Setting resample\n",
      "resample sucessfuly set\n",
      "setting speech tensor\n",
      "applying tensor to device\n",
      "applying processor\n",
      "processor applied\n",
      "inputs insured\n",
      "Setting resample\n",
      "resample sucessfuly set\n",
      "setting speech tensor\n",
      "applying tensor to device\n",
      "applying processor\n",
      "processor applied\n",
      "inputs insured\n"
     ]
    },
    {
     "name": "stderr",
     "output_type": "stream",
     "text": [
      "It is strongly recommended to pass the ``sampling_rate`` argument to this function. Failing to do so can result in silent errors that might be hard to debug.\n",
      "It is strongly recommended to pass the ``sampling_rate`` argument to this function. Failing to do so can result in silent errors that might be hard to debug.\n",
      "\n",
      "\n",
      "\u001b[A\u001b[AIt is strongly recommended to pass the ``sampling_rate`` argument to this function. Failing to do so can result in silent errors that might be hard to debug.\n",
      "It is strongly recommended to pass the ``sampling_rate`` argument to this function. Failing to do so can result in silent errors that might be hard to debug.\n"
     ]
    },
    {
     "name": "stdout",
     "output_type": "stream",
     "text": [
      "Setting resample\n",
      "resample sucessfuly set\n",
      "setting speech tensor\n",
      "applying tensor to device\n",
      "applying processor\n",
      "processor applied\n",
      "inputs insured\n",
      "Setting resample\n",
      "resample sucessfuly set\n",
      "setting speech tensor\n",
      "applying tensor to device\n",
      "applying processor\n",
      "processor applied\n",
      "inputs insured\n"
     ]
    },
    {
     "name": "stderr",
     "output_type": "stream",
     "text": [
      "\n",
      "\n",
      "\u001b[A\u001b[AIt is strongly recommended to pass the ``sampling_rate`` argument to this function. Failing to do so can result in silent errors that might be hard to debug.\n",
      "It is strongly recommended to pass the ``sampling_rate`` argument to this function. Failing to do so can result in silent errors that might be hard to debug.\n",
      "\n",
      "\n",
      "\u001b[A\u001b[AIt is strongly recommended to pass the ``sampling_rate`` argument to this function. Failing to do so can result in silent errors that might be hard to debug.\n",
      "It is strongly recommended to pass the ``sampling_rate`` argument to this function. Failing to do so can result in silent errors that might be hard to debug.\n"
     ]
    },
    {
     "name": "stdout",
     "output_type": "stream",
     "text": [
      "Setting resample\n",
      "resample sucessfuly set\n",
      "setting speech tensor\n",
      "applying tensor to device\n",
      "applying processor\n",
      "processor applied\n",
      "inputs insured\n",
      "Setting resample\n",
      "resample sucessfuly set\n",
      "setting speech tensor\n",
      "applying tensor to device\n",
      "applying processor\n",
      "processor applied\n",
      "inputs insured\n"
     ]
    },
    {
     "name": "stderr",
     "output_type": "stream",
     "text": [
      "\n",
      "\n",
      "\u001b[A\u001b[AIt is strongly recommended to pass the ``sampling_rate`` argument to this function. Failing to do so can result in silent errors that might be hard to debug.\n",
      "It is strongly recommended to pass the ``sampling_rate`` argument to this function. Failing to do so can result in silent errors that might be hard to debug.\n",
      "\n",
      "\n",
      "\u001b[A\u001b[AIt is strongly recommended to pass the ``sampling_rate`` argument to this function. Failing to do so can result in silent errors that might be hard to debug.\n",
      "It is strongly recommended to pass the ``sampling_rate`` argument to this function. Failing to do so can result in silent errors that might be hard to debug.\n"
     ]
    },
    {
     "name": "stdout",
     "output_type": "stream",
     "text": [
      "Setting resample\n",
      "resample sucessfuly set\n",
      "setting speech tensor\n",
      "applying tensor to device\n",
      "applying processor\n",
      "processor applied\n",
      "inputs insured\n",
      "Setting resample\n",
      "resample sucessfuly set\n",
      "setting speech tensor\n",
      "applying tensor to device\n",
      "applying processor\n",
      "processor applied\n",
      "inputs insured\n"
     ]
    },
    {
     "name": "stderr",
     "output_type": "stream",
     "text": [
      "\n",
      "\n",
      "\u001b[A\u001b[AIt is strongly recommended to pass the ``sampling_rate`` argument to this function. Failing to do so can result in silent errors that might be hard to debug.\n",
      "It is strongly recommended to pass the ``sampling_rate`` argument to this function. Failing to do so can result in silent errors that might be hard to debug.\n",
      "\n",
      "\n",
      "\u001b[A\u001b[AIt is strongly recommended to pass the ``sampling_rate`` argument to this function. Failing to do so can result in silent errors that might be hard to debug.\n",
      "It is strongly recommended to pass the ``sampling_rate`` argument to this function. Failing to do so can result in silent errors that might be hard to debug.\n"
     ]
    },
    {
     "name": "stdout",
     "output_type": "stream",
     "text": [
      "Setting resample\n",
      "resample sucessfuly set\n",
      "setting speech tensor\n",
      "applying tensor to device\n",
      "applying processor\n",
      "processor applied\n",
      "inputs insured\n",
      "Setting resample\n",
      "resample sucessfuly set\n",
      "setting speech tensor\n",
      "applying tensor to device\n",
      "applying processor\n",
      "processor applied\n",
      "inputs insured\n"
     ]
    },
    {
     "name": "stderr",
     "output_type": "stream",
     "text": [
      "\n",
      "\n",
      "\u001b[A\u001b[AIt is strongly recommended to pass the ``sampling_rate`` argument to this function. Failing to do so can result in silent errors that might be hard to debug.\n",
      "It is strongly recommended to pass the ``sampling_rate`` argument to this function. Failing to do so can result in silent errors that might be hard to debug.\n",
      "\n",
      "\n",
      "\u001b[A\u001b[AIt is strongly recommended to pass the ``sampling_rate`` argument to this function. Failing to do so can result in silent errors that might be hard to debug.\n",
      "It is strongly recommended to pass the ``sampling_rate`` argument to this function. Failing to do so can result in silent errors that might be hard to debug.\n"
     ]
    },
    {
     "name": "stdout",
     "output_type": "stream",
     "text": [
      "Setting resample\n",
      "resample sucessfuly set\n",
      "setting speech tensor\n",
      "applying tensor to device\n",
      "applying processor\n",
      "processor applied\n",
      "inputs insured\n",
      "Setting resample\n",
      "resample sucessfuly set\n",
      "setting speech tensor\n",
      "applying tensor to device\n",
      "applying processor\n",
      "processor applied\n",
      "inputs insured\n"
     ]
    },
    {
     "name": "stderr",
     "output_type": "stream",
     "text": [
      "\n",
      "\n",
      "\u001b[A\u001b[AIt is strongly recommended to pass the ``sampling_rate`` argument to this function. Failing to do so can result in silent errors that might be hard to debug.\n",
      "It is strongly recommended to pass the ``sampling_rate`` argument to this function. Failing to do so can result in silent errors that might be hard to debug.\n",
      "\n",
      "\n",
      "\u001b[A\u001b[AIt is strongly recommended to pass the ``sampling_rate`` argument to this function. Failing to do so can result in silent errors that might be hard to debug.\n",
      "It is strongly recommended to pass the ``sampling_rate`` argument to this function. Failing to do so can result in silent errors that might be hard to debug.\n",
      "It is strongly recommended to pass the ``sampling_rate`` argument to this function. Failing to do so can result in silent errors that might be hard to debug.\n",
      "It is strongly recommended to pass the ``sampling_rate`` argument to this function. Failing to do so can result in silent errors that might be hard to debug.\n"
     ]
    },
    {
     "name": "stdout",
     "output_type": "stream",
     "text": [
      "Setting resample\n",
      "resample sucessfuly set\n",
      "setting speech tensor\n",
      "applying tensor to device\n",
      "applying processor\n",
      "processor applied\n",
      "inputs insured\n",
      "Setting resample\n",
      "resample sucessfuly set\n",
      "setting speech tensor\n",
      "applying tensor to device\n",
      "applying processor\n",
      "processor applied\n",
      "inputs insured\n",
      "Setting resample\n",
      "resample sucessfuly set\n",
      "setting speech tensor\n",
      "applying tensor to device\n",
      "applying processor\n"
     ]
    },
    {
     "name": "stderr",
     "output_type": "stream",
     "text": [
      "\n",
      "\n",
      "\u001b[A\u001b[AIt is strongly recommended to pass the ``sampling_rate`` argument to this function. Failing to do so can result in silent errors that might be hard to debug.\n",
      "It is strongly recommended to pass the ``sampling_rate`` argument to this function. Failing to do so can result in silent errors that might be hard to debug.\n",
      "It is strongly recommended to pass the ``sampling_rate`` argument to this function. Failing to do so can result in silent errors that might be hard to debug.\n",
      "It is strongly recommended to pass the ``sampling_rate`` argument to this function. Failing to do so can result in silent errors that might be hard to debug.\n"
     ]
    },
    {
     "name": "stdout",
     "output_type": "stream",
     "text": [
      "processor applied\n",
      "inputs insured\n",
      "Setting resample\n",
      "resample sucessfuly set\n",
      "setting speech tensor\n",
      "applying tensor to device\n",
      "applying processor\n",
      "processor applied\n",
      "inputs insured\n",
      "Setting resample\n",
      "resample sucessfuly set\n",
      "setting speech tensor\n",
      "applying tensor to device\n",
      "applying processor\n",
      "processor applied\n",
      "inputs insured\n"
     ]
    },
    {
     "name": "stderr",
     "output_type": "stream",
     "text": [
      "\n",
      "\n",
      "\u001b[A\u001b[AIt is strongly recommended to pass the ``sampling_rate`` argument to this function. Failing to do so can result in silent errors that might be hard to debug.\n",
      "It is strongly recommended to pass the ``sampling_rate`` argument to this function. Failing to do so can result in silent errors that might be hard to debug.\n",
      "It is strongly recommended to pass the ``sampling_rate`` argument to this function. Failing to do so can result in silent errors that might be hard to debug.\n",
      "It is strongly recommended to pass the ``sampling_rate`` argument to this function. Failing to do so can result in silent errors that might be hard to debug.\n",
      "\n",
      "\n",
      "\u001b[A\u001b[AIt is strongly recommended to pass the ``sampling_rate`` argument to this function. Failing to do so can result in silent errors that might be hard to debug.\n",
      "It is strongly recommended to pass the ``sampling_rate`` argument to this function. Failing to do so can result in silent errors that might be hard to debug.\n"
     ]
    },
    {
     "name": "stdout",
     "output_type": "stream",
     "text": [
      "Setting resample\n",
      "resample sucessfuly set\n",
      "setting speech tensor\n",
      "applying tensor to device\n",
      "applying processor\n",
      "processor applied\n",
      "inputs insured\n",
      "Setting resample\n",
      "resample sucessfuly set\n",
      "setting speech tensor\n",
      "applying tensor to device\n",
      "applying processor\n",
      "processor applied\n",
      "inputs insured\n",
      "Setting resample\n",
      "resample sucessfuly set\n",
      "setting speech tensor\n",
      "applying tensor to device\n",
      "applying processor\n",
      "processor applied\n",
      "inputs insured\n"
     ]
    },
    {
     "name": "stderr",
     "output_type": "stream",
     "text": [
      "It is strongly recommended to pass the ``sampling_rate`` argument to this function. Failing to do so can result in silent errors that might be hard to debug.\n",
      "It is strongly recommended to pass the ``sampling_rate`` argument to this function. Failing to do so can result in silent errors that might be hard to debug.\n",
      "\n",
      "\n",
      "\u001b[A\u001b[AIt is strongly recommended to pass the ``sampling_rate`` argument to this function. Failing to do so can result in silent errors that might be hard to debug.\n",
      "It is strongly recommended to pass the ``sampling_rate`` argument to this function. Failing to do so can result in silent errors that might be hard to debug.\n"
     ]
    },
    {
     "name": "stdout",
     "output_type": "stream",
     "text": [
      "Setting resample\n",
      "resample sucessfuly set\n",
      "setting speech tensor\n",
      "applying tensor to device\n",
      "applying processor\n",
      "processor applied\n",
      "inputs insured\n",
      "Setting resample\n",
      "resample sucessfuly set\n",
      "setting speech tensor\n",
      "applying tensor to device\n",
      "applying processor\n",
      "processor applied\n",
      "inputs insured\n"
     ]
    },
    {
     "name": "stderr",
     "output_type": "stream",
     "text": [
      "It is strongly recommended to pass the ``sampling_rate`` argument to this function. Failing to do so can result in silent errors that might be hard to debug.\n",
      "It is strongly recommended to pass the ``sampling_rate`` argument to this function. Failing to do so can result in silent errors that might be hard to debug.\n"
     ]
    },
    {
     "name": "stdout",
     "output_type": "stream",
     "text": [
      "Setting resample\n",
      "resample sucessfuly set\n",
      "setting speech tensor\n",
      "applying tensor to device\n",
      "applying processor\n",
      "processor applied\n",
      "inputs insured\n"
     ]
    },
    {
     "name": "stderr",
     "output_type": "stream",
     "text": [
      "\n",
      "\n",
      "\u001b[A\u001b[AIt is strongly recommended to pass the ``sampling_rate`` argument to this function. Failing to do so can result in silent errors that might be hard to debug.\n",
      "It is strongly recommended to pass the ``sampling_rate`` argument to this function. Failing to do so can result in silent errors that might be hard to debug.\n",
      "\n",
      "\n",
      "\u001b[A\u001b[AIt is strongly recommended to pass the ``sampling_rate`` argument to this function. Failing to do so can result in silent errors that might be hard to debug.\n",
      "It is strongly recommended to pass the ``sampling_rate`` argument to this function. Failing to do so can result in silent errors that might be hard to debug.\n"
     ]
    },
    {
     "name": "stdout",
     "output_type": "stream",
     "text": [
      "Setting resample\n",
      "resample sucessfuly set\n",
      "setting speech tensor\n",
      "applying tensor to device\n",
      "applying processor\n",
      "processor applied\n",
      "inputs insured\n",
      "Setting resample\n",
      "resample sucessfuly set\n",
      "setting speech tensor\n",
      "applying tensor to device\n",
      "applying processor\n",
      "processor applied\n",
      "inputs insured\n"
     ]
    },
    {
     "name": "stderr",
     "output_type": "stream",
     "text": [
      "It is strongly recommended to pass the ``sampling_rate`` argument to this function. Failing to do so can result in silent errors that might be hard to debug.\n",
      "It is strongly recommended to pass the ``sampling_rate`` argument to this function. Failing to do so can result in silent errors that might be hard to debug.\n",
      "\n",
      "\n",
      "\u001b[A\u001b[AIt is strongly recommended to pass the ``sampling_rate`` argument to this function. Failing to do so can result in silent errors that might be hard to debug.\n",
      "It is strongly recommended to pass the ``sampling_rate`` argument to this function. Failing to do so can result in silent errors that might be hard to debug.\n",
      "\n",
      "\n",
      "\u001b[A\u001b[AIt is strongly recommended to pass the ``sampling_rate`` argument to this function. Failing to do so can result in silent errors that might be hard to debug.\n"
     ]
    },
    {
     "name": "stdout",
     "output_type": "stream",
     "text": [
      "Setting resample\n",
      "resample sucessfuly set\n",
      "setting speech tensor\n",
      "applying tensor to device\n",
      "applying processor\n",
      "processor applied\n",
      "inputs insured\n",
      "Setting resample\n",
      "resample sucessfuly set\n",
      "setting speech tensor\n",
      "applying tensor to device\n",
      "applying processor\n",
      "processor applied\n",
      "inputs insured\n",
      "Setting resample\n",
      "resample sucessfuly set\n",
      "setting speech tensor\n",
      "applying tensor to device\n",
      "applying processor\n"
     ]
    },
    {
     "name": "stderr",
     "output_type": "stream",
     "text": [
      "It is strongly recommended to pass the ``sampling_rate`` argument to this function. Failing to do so can result in silent errors that might be hard to debug.\n",
      "\n",
      "\n",
      "\u001b[A\u001b[AIt is strongly recommended to pass the ``sampling_rate`` argument to this function. Failing to do so can result in silent errors that might be hard to debug.\n",
      "It is strongly recommended to pass the ``sampling_rate`` argument to this function. Failing to do so can result in silent errors that might be hard to debug.\n"
     ]
    },
    {
     "name": "stdout",
     "output_type": "stream",
     "text": [
      "processor applied\n",
      "inputs insured\n",
      "Setting resample\n",
      "resample sucessfuly set\n",
      "setting speech tensor\n",
      "applying tensor to device\n",
      "applying processor\n",
      "processor applied\n",
      "inputs insured\n"
     ]
    },
    {
     "name": "stderr",
     "output_type": "stream",
     "text": [
      "It is strongly recommended to pass the ``sampling_rate`` argument to this function. Failing to do so can result in silent errors that might be hard to debug.\n",
      "It is strongly recommended to pass the ``sampling_rate`` argument to this function. Failing to do so can result in silent errors that might be hard to debug.\n"
     ]
    },
    {
     "name": "stdout",
     "output_type": "stream",
     "text": [
      "Setting resample\n",
      "resample sucessfuly set\n",
      "setting speech tensor\n",
      "applying tensor to device\n",
      "applying processor\n",
      "processor applied\n",
      "inputs insured\n"
     ]
    },
    {
     "name": "stderr",
     "output_type": "stream",
     "text": [
      "\n",
      "\n",
      "\u001b[A\u001b[AIt is strongly recommended to pass the ``sampling_rate`` argument to this function. Failing to do so can result in silent errors that might be hard to debug.\n",
      "It is strongly recommended to pass the ``sampling_rate`` argument to this function. Failing to do so can result in silent errors that might be hard to debug.\n",
      "\n",
      "\n",
      "\u001b[A\u001b[AIt is strongly recommended to pass the ``sampling_rate`` argument to this function. Failing to do so can result in silent errors that might be hard to debug.\n",
      "It is strongly recommended to pass the ``sampling_rate`` argument to this function. Failing to do so can result in silent errors that might be hard to debug.\n"
     ]
    },
    {
     "name": "stdout",
     "output_type": "stream",
     "text": [
      "Setting resample\n",
      "resample sucessfuly set\n",
      "setting speech tensor\n",
      "applying tensor to device\n",
      "applying processor\n",
      "processor applied\n",
      "inputs insured\n",
      "Setting resample\n",
      "resample sucessfuly set\n",
      "setting speech tensor\n",
      "applying tensor to device\n",
      "applying processor\n",
      "processor applied\n",
      "inputs insured\n"
     ]
    },
    {
     "name": "stderr",
     "output_type": "stream",
     "text": [
      "It is strongly recommended to pass the ``sampling_rate`` argument to this function. Failing to do so can result in silent errors that might be hard to debug.\n",
      "It is strongly recommended to pass the ``sampling_rate`` argument to this function. Failing to do so can result in silent errors that might be hard to debug.\n",
      "\n",
      "\n",
      "\n"
     ]
    },
    {
     "name": "stdout",
     "output_type": "stream",
     "text": [
      "Setting resample\n",
      "resample sucessfuly set\n",
      "setting speech tensor\n",
      "applying tensor to device\n",
      "applying processor\n",
      "processor applied\n",
      "inputs insured\n"
     ]
    },
    {
     "name": "stderr",
     "output_type": "stream",
     "text": [
      "Evaluating model:  81%|████████▏ | 490/603 [01:00<00:17,  6.44 samples/s]\u001b[A\u001b[A\u001b[AIt is strongly recommended to pass the ``sampling_rate`` argument to this function. Failing to do so can result in silent errors that might be hard to debug.\n",
      "It is strongly recommended to pass the ``sampling_rate`` argument to this function. Failing to do so can result in silent errors that might be hard to debug.\n",
      "\n",
      "\n",
      "\u001b[A\u001b[A"
     ]
    },
    {
     "name": "stdout",
     "output_type": "stream",
     "text": [
      "Setting resample\n",
      "resample sucessfuly set\n",
      "setting speech tensor\n",
      "applying tensor to device\n",
      "applying processor\n",
      "processor applied\n",
      "inputs insured\n",
      "Setting resample\n",
      "resample sucessfuly set\n",
      "setting speech tensor\n",
      "applying tensor to device\n",
      "applying processor\n"
     ]
    },
    {
     "name": "stderr",
     "output_type": "stream",
     "text": [
      "It is strongly recommended to pass the ``sampling_rate`` argument to this function. Failing to do so can result in silent errors that might be hard to debug.\n",
      "It is strongly recommended to pass the ``sampling_rate`` argument to this function. Failing to do so can result in silent errors that might be hard to debug.\n",
      "It is strongly recommended to pass the ``sampling_rate`` argument to this function. Failing to do so can result in silent errors that might be hard to debug.\n",
      "It is strongly recommended to pass the ``sampling_rate`` argument to this function. Failing to do so can result in silent errors that might be hard to debug.\n",
      "\n",
      "\n",
      "\u001b[A\u001b[AIt is strongly recommended to pass the ``sampling_rate`` argument to this function. Failing to do so can result in silent errors that might be hard to debug.\n",
      "It is strongly recommended to pass the ``sampling_rate`` argument to this function. Failing to do so can result in silent errors that might be hard to debug.\n"
     ]
    },
    {
     "name": "stdout",
     "output_type": "stream",
     "text": [
      "processor applied\n",
      "inputs insured\n",
      "Setting resample\n",
      "resample sucessfuly set\n",
      "setting speech tensor\n",
      "applying tensor to device\n",
      "applying processor\n",
      "processor applied\n",
      "inputs insured\n",
      "Setting resample\n",
      "resample sucessfuly set\n",
      "setting speech tensor\n",
      "applying tensor to device\n",
      "applying processor\n",
      "processor applied\n",
      "inputs insured\n"
     ]
    },
    {
     "name": "stderr",
     "output_type": "stream",
     "text": [
      "It is strongly recommended to pass the ``sampling_rate`` argument to this function. Failing to do so can result in silent errors that might be hard to debug.\n",
      "It is strongly recommended to pass the ``sampling_rate`` argument to this function. Failing to do so can result in silent errors that might be hard to debug.\n",
      "\n",
      "\n",
      "\u001b[A\u001b[AIt is strongly recommended to pass the ``sampling_rate`` argument to this function. Failing to do so can result in silent errors that might be hard to debug.\n",
      "It is strongly recommended to pass the ``sampling_rate`` argument to this function. Failing to do so can result in silent errors that might be hard to debug.\n"
     ]
    },
    {
     "name": "stdout",
     "output_type": "stream",
     "text": [
      "Setting resample\n",
      "resample sucessfuly set\n",
      "setting speech tensor\n",
      "applying tensor to device\n",
      "applying processor\n",
      "processor applied\n",
      "inputs insured\n",
      "Setting resample\n",
      "resample sucessfuly set\n",
      "setting speech tensor\n",
      "applying tensor to device\n",
      "applying processor\n",
      "processor applied\n",
      "inputs insured\n"
     ]
    },
    {
     "name": "stderr",
     "output_type": "stream",
     "text": [
      "It is strongly recommended to pass the ``sampling_rate`` argument to this function. Failing to do so can result in silent errors that might be hard to debug.\n",
      "It is strongly recommended to pass the ``sampling_rate`` argument to this function. Failing to do so can result in silent errors that might be hard to debug.\n",
      "\n",
      "\n",
      "\u001b[A\u001b[AIt is strongly recommended to pass the ``sampling_rate`` argument to this function. Failing to do so can result in silent errors that might be hard to debug.\n",
      "It is strongly recommended to pass the ``sampling_rate`` argument to this function. Failing to do so can result in silent errors that might be hard to debug.\n"
     ]
    },
    {
     "name": "stdout",
     "output_type": "stream",
     "text": [
      "Setting resample\n",
      "resample sucessfuly set\n",
      "setting speech tensor\n",
      "applying tensor to device\n",
      "applying processor\n",
      "processor applied\n",
      "inputs insured\n",
      "Setting resample\n",
      "resample sucessfuly set\n",
      "setting speech tensor\n",
      "applying tensor to device\n",
      "applying processor\n",
      "processor applied\n",
      "inputs insured\n"
     ]
    },
    {
     "name": "stderr",
     "output_type": "stream",
     "text": [
      "\n",
      "\n",
      "\u001b[A\u001b[AIt is strongly recommended to pass the ``sampling_rate`` argument to this function. Failing to do so can result in silent errors that might be hard to debug.\n",
      "It is strongly recommended to pass the ``sampling_rate`` argument to this function. Failing to do so can result in silent errors that might be hard to debug.\n",
      "It is strongly recommended to pass the ``sampling_rate`` argument to this function. Failing to do so can result in silent errors that might be hard to debug.\n",
      "It is strongly recommended to pass the ``sampling_rate`` argument to this function. Failing to do so can result in silent errors that might be hard to debug.\n"
     ]
    },
    {
     "name": "stdout",
     "output_type": "stream",
     "text": [
      "Setting resample\n",
      "resample sucessfuly set\n",
      "setting speech tensor\n",
      "applying tensor to device\n",
      "applying processor\n",
      "processor applied\n",
      "inputs insured\n",
      "Setting resample\n",
      "resample sucessfuly set\n",
      "setting speech tensor\n",
      "applying tensor to device\n",
      "applying processor\n",
      "processor applied\n",
      "inputs insured\n"
     ]
    },
    {
     "name": "stderr",
     "output_type": "stream",
     "text": [
      "\n",
      "\n",
      "\u001b[A\u001b[AIt is strongly recommended to pass the ``sampling_rate`` argument to this function. Failing to do so can result in silent errors that might be hard to debug.\n",
      "It is strongly recommended to pass the ``sampling_rate`` argument to this function. Failing to do so can result in silent errors that might be hard to debug.\n",
      "It is strongly recommended to pass the ``sampling_rate`` argument to this function. Failing to do so can result in silent errors that might be hard to debug.\n",
      "It is strongly recommended to pass the ``sampling_rate`` argument to this function. Failing to do so can result in silent errors that might be hard to debug.\n"
     ]
    },
    {
     "name": "stdout",
     "output_type": "stream",
     "text": [
      "Setting resample\n",
      "resample sucessfuly set\n",
      "setting speech tensor\n",
      "applying tensor to device\n",
      "applying processor\n",
      "processor applied\n",
      "inputs insured\n",
      "Setting resample\n",
      "resample sucessfuly set\n",
      "setting speech tensor\n",
      "applying tensor to device\n",
      "applying processor\n",
      "processor applied\n",
      "inputs insured\n"
     ]
    },
    {
     "name": "stderr",
     "output_type": "stream",
     "text": [
      "\n",
      "\n",
      "\u001b[A\u001b[AIt is strongly recommended to pass the ``sampling_rate`` argument to this function. Failing to do so can result in silent errors that might be hard to debug.\n",
      "It is strongly recommended to pass the ``sampling_rate`` argument to this function. Failing to do so can result in silent errors that might be hard to debug.\n",
      "It is strongly recommended to pass the ``sampling_rate`` argument to this function. Failing to do so can result in silent errors that might be hard to debug.\n",
      "It is strongly recommended to pass the ``sampling_rate`` argument to this function. Failing to do so can result in silent errors that might be hard to debug.\n"
     ]
    },
    {
     "name": "stdout",
     "output_type": "stream",
     "text": [
      "Setting resample\n",
      "resample sucessfuly set\n",
      "setting speech tensor\n",
      "applying tensor to device\n",
      "applying processor\n",
      "processor applied\n",
      "inputs insured\n",
      "Setting resample\n",
      "resample sucessfuly set\n",
      "setting speech tensor\n",
      "applying tensor to device\n",
      "applying processor\n",
      "processor applied\n",
      "inputs insured\n"
     ]
    },
    {
     "name": "stderr",
     "output_type": "stream",
     "text": [
      "\n",
      "\n",
      "\u001b[A\u001b[AIt is strongly recommended to pass the ``sampling_rate`` argument to this function. Failing to do so can result in silent errors that might be hard to debug.\n",
      "It is strongly recommended to pass the ``sampling_rate`` argument to this function. Failing to do so can result in silent errors that might be hard to debug.\n",
      "It is strongly recommended to pass the ``sampling_rate`` argument to this function. Failing to do so can result in silent errors that might be hard to debug.\n",
      "It is strongly recommended to pass the ``sampling_rate`` argument to this function. Failing to do so can result in silent errors that might be hard to debug.\n"
     ]
    },
    {
     "name": "stdout",
     "output_type": "stream",
     "text": [
      "Setting resample\n",
      "resample sucessfuly set\n",
      "setting speech tensor\n",
      "applying tensor to device\n",
      "applying processor\n",
      "processor applied\n",
      "inputs insured\n",
      "Setting resample\n",
      "resample sucessfuly set\n",
      "setting speech tensor\n",
      "applying tensor to device\n",
      "applying processor\n",
      "processor applied\n",
      "inputs insured\n"
     ]
    },
    {
     "name": "stderr",
     "output_type": "stream",
     "text": [
      "\n",
      "\n",
      "\u001b[A\u001b[AIt is strongly recommended to pass the ``sampling_rate`` argument to this function. Failing to do so can result in silent errors that might be hard to debug.\n",
      "It is strongly recommended to pass the ``sampling_rate`` argument to this function. Failing to do so can result in silent errors that might be hard to debug.\n",
      "It is strongly recommended to pass the ``sampling_rate`` argument to this function. Failing to do so can result in silent errors that might be hard to debug.\n",
      "It is strongly recommended to pass the ``sampling_rate`` argument to this function. Failing to do so can result in silent errors that might be hard to debug.\n"
     ]
    },
    {
     "name": "stdout",
     "output_type": "stream",
     "text": [
      "Setting resample\n",
      "resample sucessfuly set\n",
      "setting speech tensor\n",
      "applying tensor to device\n",
      "applying processor\n",
      "processor applied\n",
      "inputs insured\n",
      "Setting resample\n",
      "resample sucessfuly set\n",
      "setting speech tensor\n",
      "applying tensor to device\n",
      "applying processor\n",
      "processor applied\n",
      "inputs insured\n"
     ]
    },
    {
     "name": "stderr",
     "output_type": "stream",
     "text": [
      "\n",
      "\n",
      "\u001b[A\u001b[AIt is strongly recommended to pass the ``sampling_rate`` argument to this function. Failing to do so can result in silent errors that might be hard to debug.\n",
      "It is strongly recommended to pass the ``sampling_rate`` argument to this function. Failing to do so can result in silent errors that might be hard to debug.\n",
      "\n",
      "\n",
      "\u001b[A\u001b[AIt is strongly recommended to pass the ``sampling_rate`` argument to this function. Failing to do so can result in silent errors that might be hard to debug.\n",
      "It is strongly recommended to pass the ``sampling_rate`` argument to this function. Failing to do so can result in silent errors that might be hard to debug.\n",
      "It is strongly recommended to pass the ``sampling_rate`` argument to this function. Failing to do so can result in silent errors that might be hard to debug.\n",
      "It is strongly recommended to pass the ``sampling_rate`` argument to this function. Failing to do so can result in silent errors that might be hard to debug.\n"
     ]
    },
    {
     "name": "stdout",
     "output_type": "stream",
     "text": [
      "Setting resample\n",
      "resample sucessfuly set\n",
      "setting speech tensor\n",
      "applying tensor to device\n",
      "applying processor\n",
      "processor applied\n",
      "inputs insured\n",
      "Setting resample\n",
      "resample sucessfuly set\n",
      "setting speech tensor\n",
      "applying tensor to device\n",
      "applying processor\n",
      "processor applied\n",
      "inputs insured\n",
      "Setting resample\n",
      "resample sucessfuly set\n",
      "setting speech tensor\n",
      "applying tensor to device\n",
      "applying processor\n",
      "processor applied\n",
      "inputs insured\n"
     ]
    },
    {
     "name": "stderr",
     "output_type": "stream",
     "text": [
      "\n",
      "\n",
      "\u001b[A\u001b[AIt is strongly recommended to pass the ``sampling_rate`` argument to this function. Failing to do so can result in silent errors that might be hard to debug.\n",
      "It is strongly recommended to pass the ``sampling_rate`` argument to this function. Failing to do so can result in silent errors that might be hard to debug.\n"
     ]
    },
    {
     "name": "stdout",
     "output_type": "stream",
     "text": [
      "Setting resample\n",
      "resample sucessfuly set\n",
      "setting speech tensor\n",
      "applying tensor to device\n",
      "applying processor\n",
      "processor applied\n",
      "inputs insured\n"
     ]
    },
    {
     "name": "stderr",
     "output_type": "stream",
     "text": [
      "\n",
      "\n",
      "\u001b[A\u001b[AIt is strongly recommended to pass the ``sampling_rate`` argument to this function. Failing to do so can result in silent errors that might be hard to debug.\n",
      "It is strongly recommended to pass the ``sampling_rate`` argument to this function. Failing to do so can result in silent errors that might be hard to debug.\n",
      "\n",
      "\n",
      "\u001b[A\u001b[AIt is strongly recommended to pass the ``sampling_rate`` argument to this function. Failing to do so can result in silent errors that might be hard to debug.\n",
      "It is strongly recommended to pass the ``sampling_rate`` argument to this function. Failing to do so can result in silent errors that might be hard to debug.\n",
      "It is strongly recommended to pass the ``sampling_rate`` argument to this function. Failing to do so can result in silent errors that might be hard to debug.\n",
      "It is strongly recommended to pass the ``sampling_rate`` argument to this function. Failing to do so can result in silent errors that might be hard to debug.\n"
     ]
    },
    {
     "name": "stdout",
     "output_type": "stream",
     "text": [
      "Setting resample\n",
      "resample sucessfuly set\n",
      "setting speech tensor\n",
      "applying tensor to device\n",
      "applying processor\n",
      "processor applied\n",
      "inputs insured\n",
      "Setting resample\n",
      "resample sucessfuly set\n",
      "setting speech tensor\n",
      "applying tensor to device\n",
      "applying processor\n",
      "processor applied\n",
      "inputs insured\n",
      "Setting resample\n",
      "resample sucessfuly set\n",
      "setting speech tensor\n",
      "applying tensor to device\n",
      "applying processor\n",
      "processor applied\n",
      "inputs insured\n"
     ]
    },
    {
     "name": "stderr",
     "output_type": "stream",
     "text": [
      "\n",
      "\n",
      "\u001b[A\u001b[AIt is strongly recommended to pass the ``sampling_rate`` argument to this function. Failing to do so can result in silent errors that might be hard to debug.\n",
      "It is strongly recommended to pass the ``sampling_rate`` argument to this function. Failing to do so can result in silent errors that might be hard to debug.\n",
      "It is strongly recommended to pass the ``sampling_rate`` argument to this function. Failing to do so can result in silent errors that might be hard to debug.\n",
      "It is strongly recommended to pass the ``sampling_rate`` argument to this function. Failing to do so can result in silent errors that might be hard to debug.\n"
     ]
    },
    {
     "name": "stdout",
     "output_type": "stream",
     "text": [
      "Setting resample\n",
      "resample sucessfuly set\n",
      "setting speech tensor\n",
      "applying tensor to device\n",
      "applying processor\n",
      "processor applied\n",
      "inputs insured\n",
      "Setting resample\n",
      "resample sucessfuly set\n",
      "setting speech tensor\n",
      "applying tensor to device\n",
      "applying processor\n",
      "processor applied\n",
      "inputs insured\n"
     ]
    },
    {
     "name": "stderr",
     "output_type": "stream",
     "text": [
      "\n",
      "\n",
      "\u001b[A\u001b[AIt is strongly recommended to pass the ``sampling_rate`` argument to this function. Failing to do so can result in silent errors that might be hard to debug.\n",
      "It is strongly recommended to pass the ``sampling_rate`` argument to this function. Failing to do so can result in silent errors that might be hard to debug.\n",
      "\n",
      "\n",
      "\u001b[A\u001b[AIt is strongly recommended to pass the ``sampling_rate`` argument to this function. Failing to do so can result in silent errors that might be hard to debug.\n",
      "It is strongly recommended to pass the ``sampling_rate`` argument to this function. Failing to do so can result in silent errors that might be hard to debug.\n"
     ]
    },
    {
     "name": "stdout",
     "output_type": "stream",
     "text": [
      "Setting resample\n",
      "resample sucessfuly set\n",
      "setting speech tensor\n",
      "applying tensor to device\n",
      "applying processor\n",
      "processor applied\n",
      "inputs insured\n",
      "Setting resample\n",
      "resample sucessfuly set\n",
      "setting speech tensor\n",
      "applying tensor to device\n",
      "applying processor\n",
      "processor applied\n",
      "inputs insured\n"
     ]
    },
    {
     "name": "stderr",
     "output_type": "stream",
     "text": [
      "It is strongly recommended to pass the ``sampling_rate`` argument to this function. Failing to do so can result in silent errors that might be hard to debug.\n",
      "It is strongly recommended to pass the ``sampling_rate`` argument to this function. Failing to do so can result in silent errors that might be hard to debug.\n",
      "\n",
      "\n",
      "\u001b[A\u001b[AIt is strongly recommended to pass the ``sampling_rate`` argument to this function. Failing to do so can result in silent errors that might be hard to debug.\n",
      "It is strongly recommended to pass the ``sampling_rate`` argument to this function. Failing to do so can result in silent errors that might be hard to debug.\n",
      "It is strongly recommended to pass the ``sampling_rate`` argument to this function. Failing to do so can result in silent errors that might be hard to debug.\n",
      "It is strongly recommended to pass the ``sampling_rate`` argument to this function. Failing to do so can result in silent errors that might be hard to debug.\n"
     ]
    },
    {
     "name": "stdout",
     "output_type": "stream",
     "text": [
      "Setting resample\n",
      "resample sucessfuly set\n",
      "setting speech tensor\n",
      "applying tensor to device\n",
      "applying processor\n",
      "processor applied\n",
      "inputs insured\n",
      "Setting resample\n",
      "resample sucessfuly set\n",
      "setting speech tensor\n",
      "applying tensor to device\n",
      "applying processor\n",
      "processor applied\n",
      "inputs insured\n",
      "Setting resample\n",
      "resample sucessfuly set\n",
      "setting speech tensor\n",
      "applying tensor to device\n",
      "applying processor\n",
      "processor applied\n",
      "inputs insured\n"
     ]
    },
    {
     "name": "stderr",
     "output_type": "stream",
     "text": [
      "\n",
      "\n",
      "\u001b[A\u001b[AIt is strongly recommended to pass the ``sampling_rate`` argument to this function. Failing to do so can result in silent errors that might be hard to debug.\n",
      "It is strongly recommended to pass the ``sampling_rate`` argument to this function. Failing to do so can result in silent errors that might be hard to debug.\n",
      "It is strongly recommended to pass the ``sampling_rate`` argument to this function. Failing to do so can result in silent errors that might be hard to debug.\n",
      "It is strongly recommended to pass the ``sampling_rate`` argument to this function. Failing to do so can result in silent errors that might be hard to debug.\n"
     ]
    },
    {
     "name": "stdout",
     "output_type": "stream",
     "text": [
      "Setting resample\n",
      "resample sucessfuly set\n",
      "setting speech tensor\n",
      "applying tensor to device\n",
      "applying processor\n",
      "processor applied\n",
      "inputs insured\n",
      "Setting resample\n",
      "resample sucessfuly set\n",
      "setting speech tensor\n",
      "applying tensor to device\n",
      "applying processor\n",
      "processor applied\n",
      "inputs insured\n"
     ]
    },
    {
     "name": "stderr",
     "output_type": "stream",
     "text": [
      "\n",
      "\n",
      "\u001b[A\u001b[AIt is strongly recommended to pass the ``sampling_rate`` argument to this function. Failing to do so can result in silent errors that might be hard to debug.\n",
      "It is strongly recommended to pass the ``sampling_rate`` argument to this function. Failing to do so can result in silent errors that might be hard to debug.\n",
      "\n",
      "\n",
      "\u001b[A\u001b[AIt is strongly recommended to pass the ``sampling_rate`` argument to this function. Failing to do so can result in silent errors that might be hard to debug.\n",
      "It is strongly recommended to pass the ``sampling_rate`` argument to this function. Failing to do so can result in silent errors that might be hard to debug.\n"
     ]
    },
    {
     "name": "stdout",
     "output_type": "stream",
     "text": [
      "Setting resample\n",
      "resample sucessfuly set\n",
      "setting speech tensor\n",
      "applying tensor to device\n",
      "applying processor\n",
      "processor applied\n",
      "inputs insured\n",
      "Setting resample\n",
      "resample sucessfuly set\n",
      "setting speech tensor\n",
      "applying tensor to device\n",
      "applying processor\n",
      "processor applied\n",
      "inputs insured\n"
     ]
    },
    {
     "name": "stderr",
     "output_type": "stream",
     "text": [
      "\n",
      "\n",
      "\u001b[A\u001b[AIt is strongly recommended to pass the ``sampling_rate`` argument to this function. Failing to do so can result in silent errors that might be hard to debug.\n",
      "It is strongly recommended to pass the ``sampling_rate`` argument to this function. Failing to do so can result in silent errors that might be hard to debug.\n",
      "It is strongly recommended to pass the ``sampling_rate`` argument to this function. Failing to do so can result in silent errors that might be hard to debug.\n",
      "It is strongly recommended to pass the ``sampling_rate`` argument to this function. Failing to do so can result in silent errors that might be hard to debug.\n",
      "\n",
      "\n",
      "\u001b[A\u001b[AIt is strongly recommended to pass the ``sampling_rate`` argument to this function. Failing to do so can result in silent errors that might be hard to debug.\n",
      "It is strongly recommended to pass the ``sampling_rate`` argument to this function. Failing to do so can result in silent errors that might be hard to debug.\n"
     ]
    },
    {
     "name": "stdout",
     "output_type": "stream",
     "text": [
      "Setting resample\n",
      "resample sucessfuly set\n",
      "setting speech tensor\n",
      "applying tensor to device\n",
      "applying processor\n",
      "processor applied\n",
      "inputs insured\n",
      "Setting resample\n",
      "resample sucessfuly set\n",
      "setting speech tensor\n",
      "applying tensor to device\n",
      "applying processor\n",
      "processor applied\n",
      "inputs insured\n",
      "Setting resample\n",
      "resample sucessfuly set\n",
      "setting speech tensor\n",
      "applying tensor to device\n",
      "applying processor\n",
      "processor applied\n",
      "inputs insured\n"
     ]
    },
    {
     "name": "stderr",
     "output_type": "stream",
     "text": [
      "\n",
      "\n",
      "\u001b[A\u001b[AIt is strongly recommended to pass the ``sampling_rate`` argument to this function. Failing to do so can result in silent errors that might be hard to debug.\n",
      "It is strongly recommended to pass the ``sampling_rate`` argument to this function. Failing to do so can result in silent errors that might be hard to debug.\n",
      "It is strongly recommended to pass the ``sampling_rate`` argument to this function. Failing to do so can result in silent errors that might be hard to debug.\n",
      "It is strongly recommended to pass the ``sampling_rate`` argument to this function. Failing to do so can result in silent errors that might be hard to debug.\n"
     ]
    },
    {
     "name": "stdout",
     "output_type": "stream",
     "text": [
      "Setting resample\n",
      "resample sucessfuly set\n",
      "setting speech tensor\n",
      "applying tensor to device\n",
      "applying processor\n",
      "processor applied\n",
      "inputs insured\n",
      "Setting resample\n",
      "resample sucessfuly set\n",
      "setting speech tensor\n",
      "applying tensor to device\n",
      "applying processor\n",
      "processor applied\n",
      "inputs insured\n"
     ]
    },
    {
     "name": "stderr",
     "output_type": "stream",
     "text": [
      "\n",
      "\n",
      "\u001b[A\u001b[AIt is strongly recommended to pass the ``sampling_rate`` argument to this function. Failing to do so can result in silent errors that might be hard to debug.\n",
      "It is strongly recommended to pass the ``sampling_rate`` argument to this function. Failing to do so can result in silent errors that might be hard to debug.\n",
      "\n",
      "\n",
      "\u001b[A\u001b[AIt is strongly recommended to pass the ``sampling_rate`` argument to this function. Failing to do so can result in silent errors that might be hard to debug.\n",
      "It is strongly recommended to pass the ``sampling_rate`` argument to this function. Failing to do so can result in silent errors that might be hard to debug.\n"
     ]
    },
    {
     "name": "stdout",
     "output_type": "stream",
     "text": [
      "Setting resample\n",
      "resample sucessfuly set\n",
      "setting speech tensor\n",
      "applying tensor to device\n",
      "applying processor\n",
      "processor applied\n",
      "inputs insured\n",
      "Setting resample\n",
      "resample sucessfuly set\n",
      "setting speech tensor\n",
      "applying tensor to device\n",
      "applying processor\n",
      "processor applied\n",
      "inputs insured\n"
     ]
    },
    {
     "name": "stderr",
     "output_type": "stream",
     "text": [
      "\n",
      "\n",
      "\u001b[A\u001b[AIt is strongly recommended to pass the ``sampling_rate`` argument to this function. Failing to do so can result in silent errors that might be hard to debug.\n",
      "It is strongly recommended to pass the ``sampling_rate`` argument to this function. Failing to do so can result in silent errors that might be hard to debug.\n",
      "It is strongly recommended to pass the ``sampling_rate`` argument to this function. Failing to do so can result in silent errors that might be hard to debug.\n",
      "It is strongly recommended to pass the ``sampling_rate`` argument to this function. Failing to do so can result in silent errors that might be hard to debug.\n",
      "\n",
      "\n",
      "\u001b[A\u001b[AIt is strongly recommended to pass the ``sampling_rate`` argument to this function. Failing to do so can result in silent errors that might be hard to debug.\n",
      "It is strongly recommended to pass the ``sampling_rate`` argument to this function. Failing to do so can result in silent errors that might be hard to debug.\n"
     ]
    },
    {
     "name": "stdout",
     "output_type": "stream",
     "text": [
      "Setting resample\n",
      "resample sucessfuly set\n",
      "setting speech tensor\n",
      "applying tensor to device\n",
      "applying processor\n",
      "processor applied\n",
      "inputs insured\n",
      "Setting resample\n",
      "resample sucessfuly set\n",
      "setting speech tensor\n",
      "applying tensor to device\n",
      "applying processor\n",
      "processor applied\n",
      "inputs insured\n",
      "Setting resample\n",
      "resample sucessfuly set\n",
      "setting speech tensor\n",
      "applying tensor to device\n",
      "applying processor\n",
      "processor applied\n",
      "inputs insured\n"
     ]
    },
    {
     "name": "stderr",
     "output_type": "stream",
     "text": [
      "It is strongly recommended to pass the ``sampling_rate`` argument to this function. Failing to do so can result in silent errors that might be hard to debug.\n",
      "It is strongly recommended to pass the ``sampling_rate`` argument to this function. Failing to do so can result in silent errors that might be hard to debug.\n",
      "\n",
      "\n",
      "\u001b[A\u001b[AIt is strongly recommended to pass the ``sampling_rate`` argument to this function. Failing to do so can result in silent errors that might be hard to debug.\n",
      "It is strongly recommended to pass the ``sampling_rate`` argument to this function. Failing to do so can result in silent errors that might be hard to debug.\n"
     ]
    },
    {
     "name": "stdout",
     "output_type": "stream",
     "text": [
      "Setting resample\n",
      "resample sucessfuly set\n",
      "setting speech tensor\n",
      "applying tensor to device\n",
      "applying processor\n",
      "processor applied\n",
      "inputs insured\n",
      "Setting resample\n",
      "resample sucessfuly set\n",
      "setting speech tensor\n",
      "applying tensor to device\n",
      "applying processor\n",
      "processor applied\n",
      "inputs insured\n"
     ]
    },
    {
     "name": "stderr",
     "output_type": "stream",
     "text": [
      "\n",
      "\n",
      "\u001b[A\u001b[AIt is strongly recommended to pass the ``sampling_rate`` argument to this function. Failing to do so can result in silent errors that might be hard to debug.\n",
      "It is strongly recommended to pass the ``sampling_rate`` argument to this function. Failing to do so can result in silent errors that might be hard to debug.\n",
      "It is strongly recommended to pass the ``sampling_rate`` argument to this function. Failing to do so can result in silent errors that might be hard to debug.\n",
      "It is strongly recommended to pass the ``sampling_rate`` argument to this function. Failing to do so can result in silent errors that might be hard to debug.\n",
      "\n",
      "\n",
      "\u001b[A\u001b[AIt is strongly recommended to pass the ``sampling_rate`` argument to this function. Failing to do so can result in silent errors that might be hard to debug.\n",
      "It is strongly recommended to pass the ``sampling_rate`` argument to this function. Failing to do so can result in silent errors that might be hard to debug.\n"
     ]
    },
    {
     "name": "stdout",
     "output_type": "stream",
     "text": [
      "Setting resample\n",
      "resample sucessfuly set\n",
      "setting speech tensor\n",
      "applying tensor to device\n",
      "applying processor\n",
      "processor applied\n",
      "inputs insured\n",
      "Setting resample\n",
      "resample sucessfuly set\n",
      "setting speech tensor\n",
      "applying tensor to device\n",
      "applying processor\n",
      "processor applied\n",
      "inputs insured\n",
      "Setting resample\n",
      "resample sucessfuly set\n",
      "setting speech tensor\n",
      "applying tensor to device\n",
      "applying processor\n",
      "processor applied\n",
      "inputs insured\n"
     ]
    },
    {
     "name": "stderr",
     "output_type": "stream",
     "text": [
      "It is strongly recommended to pass the ``sampling_rate`` argument to this function. Failing to do so can result in silent errors that might be hard to debug.\n",
      "It is strongly recommended to pass the ``sampling_rate`` argument to this function. Failing to do so can result in silent errors that might be hard to debug.\n"
     ]
    },
    {
     "name": "stdout",
     "output_type": "stream",
     "text": [
      "Setting resample\n",
      "resample sucessfuly set\n",
      "setting speech tensor\n",
      "applying tensor to device\n",
      "applying processor\n",
      "processor applied\n",
      "inputs insured\n"
     ]
    },
    {
     "name": "stderr",
     "output_type": "stream",
     "text": [
      "\n",
      "\n",
      "\u001b[A\u001b[AIt is strongly recommended to pass the ``sampling_rate`` argument to this function. Failing to do so can result in silent errors that might be hard to debug.\n",
      "It is strongly recommended to pass the ``sampling_rate`` argument to this function. Failing to do so can result in silent errors that might be hard to debug.\n",
      "It is strongly recommended to pass the ``sampling_rate`` argument to this function. Failing to do so can result in silent errors that might be hard to debug.\n",
      "It is strongly recommended to pass the ``sampling_rate`` argument to this function. Failing to do so can result in silent errors that might be hard to debug.\n"
     ]
    },
    {
     "name": "stdout",
     "output_type": "stream",
     "text": [
      "Setting resample\n",
      "resample sucessfuly set\n",
      "setting speech tensor\n",
      "applying tensor to device\n",
      "applying processor\n",
      "processor applied\n",
      "inputs insured\n",
      "Setting resample\n",
      "resample sucessfuly set\n",
      "setting speech tensor\n",
      "applying tensor to device\n",
      "applying processor\n",
      "processor applied\n",
      "inputs insured\n"
     ]
    },
    {
     "name": "stderr",
     "output_type": "stream",
     "text": [
      "\n",
      "\n",
      "\u001b[A\u001b[AIt is strongly recommended to pass the ``sampling_rate`` argument to this function. Failing to do so can result in silent errors that might be hard to debug.\n",
      "It is strongly recommended to pass the ``sampling_rate`` argument to this function. Failing to do so can result in silent errors that might be hard to debug.\n",
      "\n",
      "\n",
      "\u001b[A\u001b[AIt is strongly recommended to pass the ``sampling_rate`` argument to this function. Failing to do so can result in silent errors that might be hard to debug.\n",
      "It is strongly recommended to pass the ``sampling_rate`` argument to this function. Failing to do so can result in silent errors that might be hard to debug.\n"
     ]
    },
    {
     "name": "stdout",
     "output_type": "stream",
     "text": [
      "Setting resample\n",
      "resample sucessfuly set\n",
      "setting speech tensor\n",
      "applying tensor to device\n",
      "applying processor\n",
      "processor applied\n",
      "inputs insured\n",
      "Setting resample\n",
      "resample sucessfuly set\n",
      "setting speech tensor\n",
      "applying tensor to device\n",
      "applying processor\n",
      "processor applied\n",
      "inputs insured\n"
     ]
    },
    {
     "name": "stderr",
     "output_type": "stream",
     "text": [
      "It is strongly recommended to pass the ``sampling_rate`` argument to this function. Failing to do so can result in silent errors that might be hard to debug.\n",
      "It is strongly recommended to pass the ``sampling_rate`` argument to this function. Failing to do so can result in silent errors that might be hard to debug.\n",
      "\n",
      "\n",
      "\u001b[A\u001b[AIt is strongly recommended to pass the ``sampling_rate`` argument to this function. Failing to do so can result in silent errors that might be hard to debug.\n",
      "It is strongly recommended to pass the ``sampling_rate`` argument to this function. Failing to do so can result in silent errors that might be hard to debug.\n",
      "It is strongly recommended to pass the ``sampling_rate`` argument to this function. Failing to do so can result in silent errors that might be hard to debug.\n",
      "It is strongly recommended to pass the ``sampling_rate`` argument to this function. Failing to do so can result in silent errors that might be hard to debug.\n"
     ]
    },
    {
     "name": "stdout",
     "output_type": "stream",
     "text": [
      "Setting resample\n",
      "resample sucessfuly set\n",
      "setting speech tensor\n",
      "applying tensor to device\n",
      "applying processor\n",
      "processor applied\n",
      "inputs insured\n",
      "Setting resample\n",
      "resample sucessfuly set\n",
      "setting speech tensor\n",
      "applying tensor to device\n",
      "applying processor\n",
      "processor applied\n",
      "inputs insured\n",
      "Setting resample\n",
      "resample sucessfuly set\n",
      "setting speech tensor\n",
      "applying tensor to device\n",
      "applying processor\n",
      "processor applied\n",
      "inputs insured\n"
     ]
    },
    {
     "name": "stderr",
     "output_type": "stream",
     "text": [
      "\n",
      "\n",
      "\u001b[A\u001b[AIt is strongly recommended to pass the ``sampling_rate`` argument to this function. Failing to do so can result in silent errors that might be hard to debug.\n",
      "It is strongly recommended to pass the ``sampling_rate`` argument to this function. Failing to do so can result in silent errors that might be hard to debug.\n",
      "\n",
      "\n",
      "\u001b[A\u001b[AIt is strongly recommended to pass the ``sampling_rate`` argument to this function. Failing to do so can result in silent errors that might be hard to debug.\n",
      "It is strongly recommended to pass the ``sampling_rate`` argument to this function. Failing to do so can result in silent errors that might be hard to debug.\n"
     ]
    },
    {
     "name": "stdout",
     "output_type": "stream",
     "text": [
      "Setting resample\n",
      "resample sucessfuly set\n",
      "setting speech tensor\n",
      "applying tensor to device\n",
      "applying processor\n",
      "processor applied\n",
      "inputs insured\n",
      "Setting resample\n",
      "resample sucessfuly set\n",
      "setting speech tensor\n",
      "applying tensor to device\n",
      "applying processor\n",
      "processor applied\n",
      "inputs insured\n"
     ]
    },
    {
     "name": "stderr",
     "output_type": "stream",
     "text": [
      "\n",
      "\n",
      "\u001b[A\u001b[AIt is strongly recommended to pass the ``sampling_rate`` argument to this function. Failing to do so can result in silent errors that might be hard to debug.\n",
      "It is strongly recommended to pass the ``sampling_rate`` argument to this function. Failing to do so can result in silent errors that might be hard to debug.\n",
      "It is strongly recommended to pass the ``sampling_rate`` argument to this function. Failing to do so can result in silent errors that might be hard to debug.\n",
      "It is strongly recommended to pass the ``sampling_rate`` argument to this function. Failing to do so can result in silent errors that might be hard to debug.\n"
     ]
    },
    {
     "name": "stdout",
     "output_type": "stream",
     "text": [
      "Setting resample\n",
      "resample sucessfuly set\n",
      "setting speech tensor\n",
      "applying tensor to device\n",
      "applying processor\n",
      "processor applied\n",
      "inputs insured\n",
      "Setting resample\n",
      "resample sucessfuly set\n",
      "setting speech tensor\n",
      "applying tensor to device\n",
      "applying processor\n",
      "processor applied\n",
      "inputs insured\n"
     ]
    },
    {
     "name": "stderr",
     "output_type": "stream",
     "text": [
      "\n",
      "\n",
      "\u001b[A\u001b[AIt is strongly recommended to pass the ``sampling_rate`` argument to this function. Failing to do so can result in silent errors that might be hard to debug.\n",
      "It is strongly recommended to pass the ``sampling_rate`` argument to this function. Failing to do so can result in silent errors that might be hard to debug.\n",
      "\n",
      "\n",
      "\u001b[A\u001b[AIt is strongly recommended to pass the ``sampling_rate`` argument to this function. Failing to do so can result in silent errors that might be hard to debug.\n",
      "It is strongly recommended to pass the ``sampling_rate`` argument to this function. Failing to do so can result in silent errors that might be hard to debug.\n"
     ]
    },
    {
     "name": "stdout",
     "output_type": "stream",
     "text": [
      "Setting resample\n",
      "resample sucessfuly set\n",
      "setting speech tensor\n",
      "applying tensor to device\n",
      "applying processor\n",
      "processor applied\n",
      "inputs insured\n",
      "Setting resample\n",
      "resample sucessfuly set\n",
      "setting speech tensor\n",
      "applying tensor to device\n",
      "applying processor\n",
      "processor applied\n",
      "inputs insured\n"
     ]
    },
    {
     "name": "stderr",
     "output_type": "stream",
     "text": [
      "\n",
      "\n",
      "\u001b[A\u001b[AIt is strongly recommended to pass the ``sampling_rate`` argument to this function. Failing to do so can result in silent errors that might be hard to debug.\n",
      "It is strongly recommended to pass the ``sampling_rate`` argument to this function. Failing to do so can result in silent errors that might be hard to debug.\n"
     ]
    },
    {
     "name": "stdout",
     "output_type": "stream",
     "text": [
      "Setting resample\n",
      "resample sucessfuly set\n",
      "setting speech tensor\n",
      "applying tensor to device\n",
      "applying processor\n",
      "processor applied\n",
      "inputs insured\n"
     ]
    },
    {
     "name": "stderr",
     "output_type": "stream",
     "text": [
      "\n",
      "\n",
      "\u001b[A\u001b[AIt is strongly recommended to pass the ``sampling_rate`` argument to this function. Failing to do so can result in silent errors that might be hard to debug.\n",
      "It is strongly recommended to pass the ``sampling_rate`` argument to this function. Failing to do so can result in silent errors that might be hard to debug.\n",
      "\n",
      "\n",
      "\u001b[A\u001b[AIt is strongly recommended to pass the ``sampling_rate`` argument to this function. Failing to do so can result in silent errors that might be hard to debug.\n",
      "It is strongly recommended to pass the ``sampling_rate`` argument to this function. Failing to do so can result in silent errors that might be hard to debug.\n",
      "It is strongly recommended to pass the ``sampling_rate`` argument to this function. Failing to do so can result in silent errors that might be hard to debug.\n"
     ]
    },
    {
     "name": "stdout",
     "output_type": "stream",
     "text": [
      "Setting resample\n",
      "resample sucessfuly set\n",
      "setting speech tensor\n",
      "applying tensor to device\n",
      "applying processor\n",
      "processor applied\n",
      "inputs insured\n",
      "Setting resample\n",
      "resample sucessfuly set\n",
      "setting speech tensor\n",
      "applying tensor to device\n",
      "applying processor\n",
      "processor applied\n",
      "inputs insured\n",
      "Setting resample\n",
      "resample sucessfuly set\n",
      "setting speech tensor\n",
      "applying tensor to device\n",
      "applying processor\n"
     ]
    },
    {
     "name": "stderr",
     "output_type": "stream",
     "text": [
      "It is strongly recommended to pass the ``sampling_rate`` argument to this function. Failing to do so can result in silent errors that might be hard to debug.\n",
      "\n",
      "\n",
      "\u001b[A\u001b[AIt is strongly recommended to pass the ``sampling_rate`` argument to this function. Failing to do so can result in silent errors that might be hard to debug.\n",
      "It is strongly recommended to pass the ``sampling_rate`` argument to this function. Failing to do so can result in silent errors that might be hard to debug.\n"
     ]
    },
    {
     "name": "stdout",
     "output_type": "stream",
     "text": [
      "processor applied\n",
      "inputs insured\n",
      "Setting resample\n",
      "resample sucessfuly set\n",
      "setting speech tensor\n",
      "applying tensor to device\n",
      "applying processor\n",
      "processor applied\n",
      "inputs insured\n"
     ]
    },
    {
     "name": "stderr",
     "output_type": "stream",
     "text": [
      "\n",
      "\n",
      "\u001b[A\u001b[AIt is strongly recommended to pass the ``sampling_rate`` argument to this function. Failing to do so can result in silent errors that might be hard to debug.\n",
      "It is strongly recommended to pass the ``sampling_rate`` argument to this function. Failing to do so can result in silent errors that might be hard to debug.\n",
      "It is strongly recommended to pass the ``sampling_rate`` argument to this function. Failing to do so can result in silent errors that might be hard to debug.\n",
      "It is strongly recommended to pass the ``sampling_rate`` argument to this function. Failing to do so can result in silent errors that might be hard to debug.\n",
      "\n",
      "\n",
      "\u001b[A\u001b[AIt is strongly recommended to pass the ``sampling_rate`` argument to this function. Failing to do so can result in silent errors that might be hard to debug.\n",
      "It is strongly recommended to pass the ``sampling_rate`` argument to this function. Failing to do so can result in silent errors that might be hard to debug.\n"
     ]
    },
    {
     "name": "stdout",
     "output_type": "stream",
     "text": [
      "Setting resample\n",
      "resample sucessfuly set\n",
      "setting speech tensor\n",
      "applying tensor to device\n",
      "applying processor\n",
      "processor applied\n",
      "inputs insured\n",
      "Setting resample\n",
      "resample sucessfuly set\n",
      "setting speech tensor\n",
      "applying tensor to device\n",
      "applying processor\n",
      "processor applied\n",
      "inputs insured\n",
      "Setting resample\n",
      "resample sucessfuly set\n",
      "setting speech tensor\n",
      "applying tensor to device\n",
      "applying processor\n",
      "processor applied\n",
      "inputs insured\n"
     ]
    },
    {
     "name": "stderr",
     "output_type": "stream",
     "text": [
      "It is strongly recommended to pass the ``sampling_rate`` argument to this function. Failing to do so can result in silent errors that might be hard to debug.\n",
      "It is strongly recommended to pass the ``sampling_rate`` argument to this function. Failing to do so can result in silent errors that might be hard to debug.\n",
      "\n",
      "\n",
      "\u001b[A\u001b[AIt is strongly recommended to pass the ``sampling_rate`` argument to this function. Failing to do so can result in silent errors that might be hard to debug.\n",
      "It is strongly recommended to pass the ``sampling_rate`` argument to this function. Failing to do so can result in silent errors that might be hard to debug.\n",
      "It is strongly recommended to pass the ``sampling_rate`` argument to this function. Failing to do so can result in silent errors that might be hard to debug.\n",
      "It is strongly recommended to pass the ``sampling_rate`` argument to this function. Failing to do so can result in silent errors that might be hard to debug.\n"
     ]
    },
    {
     "name": "stdout",
     "output_type": "stream",
     "text": [
      "Setting resample\n",
      "resample sucessfuly set\n",
      "setting speech tensor\n",
      "applying tensor to device\n",
      "applying processor\n",
      "processor applied\n",
      "inputs insured\n",
      "Setting resample\n",
      "resample sucessfuly set\n",
      "setting speech tensor\n",
      "applying tensor to device\n",
      "applying processor\n",
      "processor applied\n",
      "inputs insured\n",
      "Setting resample\n",
      "resample sucessfuly set\n",
      "setting speech tensor\n",
      "applying tensor to device\n",
      "applying processor\n",
      "processor applied\n",
      "inputs insured\n"
     ]
    },
    {
     "name": "stderr",
     "output_type": "stream",
     "text": [
      "\n",
      "\n",
      "\u001b[A\u001b[AIt is strongly recommended to pass the ``sampling_rate`` argument to this function. Failing to do so can result in silent errors that might be hard to debug.\n",
      "It is strongly recommended to pass the ``sampling_rate`` argument to this function. Failing to do so can result in silent errors that might be hard to debug.\n",
      "It is strongly recommended to pass the ``sampling_rate`` argument to this function. Failing to do so can result in silent errors that might be hard to debug.\n",
      "It is strongly recommended to pass the ``sampling_rate`` argument to this function. Failing to do so can result in silent errors that might be hard to debug.\n",
      "\n",
      "\n",
      "\u001b[A\u001b[AIt is strongly recommended to pass the ``sampling_rate`` argument to this function. Failing to do so can result in silent errors that might be hard to debug.\n",
      "It is strongly recommended to pass the ``sampling_rate`` argument to this function. Failing to do so can result in silent errors that might be hard to debug.\n"
     ]
    },
    {
     "name": "stdout",
     "output_type": "stream",
     "text": [
      "Setting resample\n",
      "resample sucessfuly set\n",
      "setting speech tensor\n",
      "applying tensor to device\n",
      "applying processor\n",
      "processor applied\n",
      "inputs insured\n",
      "Setting resample\n",
      "resample sucessfuly set\n",
      "setting speech tensor\n",
      "applying tensor to device\n",
      "applying processor\n",
      "processor applied\n",
      "inputs insured\n",
      "Setting resample\n",
      "resample sucessfuly set\n",
      "setting speech tensor\n",
      "applying tensor to device\n",
      "applying processor\n",
      "processor applied\n",
      "inputs insured\n"
     ]
    },
    {
     "name": "stderr",
     "output_type": "stream",
     "text": [
      "It is strongly recommended to pass the ``sampling_rate`` argument to this function. Failing to do so can result in silent errors that might be hard to debug.\n",
      "It is strongly recommended to pass the ``sampling_rate`` argument to this function. Failing to do so can result in silent errors that might be hard to debug.\n",
      "\n",
      "\n",
      "\u001b[A\u001b[AIt is strongly recommended to pass the ``sampling_rate`` argument to this function. Failing to do so can result in silent errors that might be hard to debug.\n",
      "It is strongly recommended to pass the ``sampling_rate`` argument to this function. Failing to do so can result in silent errors that might be hard to debug.\n"
     ]
    },
    {
     "name": "stdout",
     "output_type": "stream",
     "text": [
      "Setting resample\n",
      "resample sucessfuly set\n",
      "setting speech tensor\n",
      "applying tensor to device\n",
      "applying processor\n",
      "processor applied\n",
      "inputs insured\n",
      "Setting resample\n",
      "resample sucessfuly set\n",
      "setting speech tensor\n",
      "applying tensor to device\n",
      "applying processor\n",
      "processor applied\n",
      "inputs insured\n"
     ]
    },
    {
     "name": "stderr",
     "output_type": "stream",
     "text": [
      "It is strongly recommended to pass the ``sampling_rate`` argument to this function. Failing to do so can result in silent errors that might be hard to debug.\n",
      "It is strongly recommended to pass the ``sampling_rate`` argument to this function. Failing to do so can result in silent errors that might be hard to debug.\n",
      "\n",
      "\n",
      "\u001b[A\u001b[AIt is strongly recommended to pass the ``sampling_rate`` argument to this function. Failing to do so can result in silent errors that might be hard to debug.\n",
      "It is strongly recommended to pass the ``sampling_rate`` argument to this function. Failing to do so can result in silent errors that might be hard to debug.\n"
     ]
    },
    {
     "name": "stdout",
     "output_type": "stream",
     "text": [
      "Setting resample\n",
      "resample sucessfuly set\n",
      "setting speech tensor\n",
      "applying tensor to device\n",
      "applying processor\n",
      "processor applied\n",
      "inputs insured\n",
      "Setting resample\n",
      "resample sucessfuly set\n",
      "setting speech tensor\n",
      "applying tensor to device\n",
      "applying processor\n",
      "processor applied\n",
      "inputs insured\n"
     ]
    },
    {
     "name": "stderr",
     "output_type": "stream",
     "text": [
      "It is strongly recommended to pass the ``sampling_rate`` argument to this function. Failing to do so can result in silent errors that might be hard to debug.\n",
      "It is strongly recommended to pass the ``sampling_rate`` argument to this function. Failing to do so can result in silent errors that might be hard to debug.\n",
      "\n",
      "\n",
      "\u001b[A\u001b[AIt is strongly recommended to pass the ``sampling_rate`` argument to this function. Failing to do so can result in silent errors that might be hard to debug.\n",
      "It is strongly recommended to pass the ``sampling_rate`` argument to this function. Failing to do so can result in silent errors that might be hard to debug.\n",
      "It is strongly recommended to pass the ``sampling_rate`` argument to this function. Failing to do so can result in silent errors that might be hard to debug.\n",
      "It is strongly recommended to pass the ``sampling_rate`` argument to this function. Failing to do so can result in silent errors that might be hard to debug.\n"
     ]
    },
    {
     "name": "stdout",
     "output_type": "stream",
     "text": [
      "Setting resample\n",
      "resample sucessfuly set\n",
      "setting speech tensor\n",
      "applying tensor to device\n",
      "applying processor\n",
      "processor applied\n",
      "inputs insured\n",
      "Setting resample\n",
      "resample sucessfuly set\n",
      "setting speech tensor\n",
      "applying tensor to device\n",
      "applying processor\n",
      "processor applied\n",
      "inputs insured\n",
      "Setting resample\n",
      "resample sucessfuly set\n",
      "setting speech tensor\n",
      "applying tensor to device\n",
      "applying processor\n",
      "processor applied\n",
      "inputs insured\n"
     ]
    },
    {
     "name": "stderr",
     "output_type": "stream",
     "text": [
      "\n",
      "\n",
      "\u001b[A\u001b[AIt is strongly recommended to pass the ``sampling_rate`` argument to this function. Failing to do so can result in silent errors that might be hard to debug.\n",
      "It is strongly recommended to pass the ``sampling_rate`` argument to this function. Failing to do so can result in silent errors that might be hard to debug.\n",
      "It is strongly recommended to pass the ``sampling_rate`` argument to this function. Failing to do so can result in silent errors that might be hard to debug.\n",
      "It is strongly recommended to pass the ``sampling_rate`` argument to this function. Failing to do so can result in silent errors that might be hard to debug.\n"
     ]
    },
    {
     "name": "stdout",
     "output_type": "stream",
     "text": [
      "Setting resample\n",
      "resample sucessfuly set\n",
      "setting speech tensor\n",
      "applying tensor to device\n",
      "applying processor\n",
      "processor applied\n",
      "inputs insured\n",
      "Setting resample\n",
      "resample sucessfuly set\n",
      "setting speech tensor\n",
      "applying tensor to device\n",
      "applying processor\n",
      "processor applied\n",
      "inputs insured\n"
     ]
    },
    {
     "name": "stderr",
     "output_type": "stream",
     "text": [
      "\n",
      "\n",
      "\u001b[A\u001b[AIt is strongly recommended to pass the ``sampling_rate`` argument to this function. Failing to do so can result in silent errors that might be hard to debug.\n",
      "It is strongly recommended to pass the ``sampling_rate`` argument to this function. Failing to do so can result in silent errors that might be hard to debug.\n",
      "\n",
      "\n",
      "\u001b[A\u001b[AIt is strongly recommended to pass the ``sampling_rate`` argument to this function. Failing to do so can result in silent errors that might be hard to debug.\n",
      "It is strongly recommended to pass the ``sampling_rate`` argument to this function. Failing to do so can result in silent errors that might be hard to debug.\n",
      "It is strongly recommended to pass the ``sampling_rate`` argument to this function. Failing to do so can result in silent errors that might be hard to debug.\n",
      "It is strongly recommended to pass the ``sampling_rate`` argument to this function. Failing to do so can result in silent errors that might be hard to debug.\n"
     ]
    },
    {
     "name": "stdout",
     "output_type": "stream",
     "text": [
      "Setting resample\n",
      "resample sucessfuly set\n",
      "setting speech tensor\n",
      "applying tensor to device\n",
      "applying processor\n",
      "processor applied\n",
      "inputs insured\n",
      "Setting resample\n",
      "resample sucessfuly set\n",
      "setting speech tensor\n",
      "applying tensor to device\n",
      "applying processor\n",
      "processor applied\n",
      "inputs insured\n",
      "Setting resample\n",
      "resample sucessfuly set\n",
      "setting speech tensor\n",
      "applying tensor to device\n",
      "applying processor\n"
     ]
    },
    {
     "name": "stderr",
     "output_type": "stream",
     "text": [
      "\n",
      "\n",
      "\u001b[A\u001b[AIt is strongly recommended to pass the ``sampling_rate`` argument to this function. Failing to do so can result in silent errors that might be hard to debug.\n",
      "It is strongly recommended to pass the ``sampling_rate`` argument to this function. Failing to do so can result in silent errors that might be hard to debug.\n",
      "It is strongly recommended to pass the ``sampling_rate`` argument to this function. Failing to do so can result in silent errors that might be hard to debug.\n",
      "It is strongly recommended to pass the ``sampling_rate`` argument to this function. Failing to do so can result in silent errors that might be hard to debug.\n"
     ]
    },
    {
     "name": "stdout",
     "output_type": "stream",
     "text": [
      "processor applied\n",
      "inputs insured\n",
      "Setting resample\n",
      "resample sucessfuly set\n",
      "setting speech tensor\n",
      "applying tensor to device\n",
      "applying processor\n",
      "processor applied\n",
      "inputs insured\n",
      "Setting resample\n",
      "resample sucessfuly set\n",
      "setting speech tensor\n",
      "applying tensor to device\n",
      "applying processor\n",
      "processor applied\n",
      "inputs insured\n"
     ]
    },
    {
     "name": "stderr",
     "output_type": "stream",
     "text": [
      "\n",
      "\n",
      "\u001b[A\u001b[AIt is strongly recommended to pass the ``sampling_rate`` argument to this function. Failing to do so can result in silent errors that might be hard to debug.\n",
      "It is strongly recommended to pass the ``sampling_rate`` argument to this function. Failing to do so can result in silent errors that might be hard to debug.\n",
      "It is strongly recommended to pass the ``sampling_rate`` argument to this function. Failing to do so can result in silent errors that might be hard to debug.\n",
      "It is strongly recommended to pass the ``sampling_rate`` argument to this function. Failing to do so can result in silent errors that might be hard to debug.\n"
     ]
    },
    {
     "name": "stdout",
     "output_type": "stream",
     "text": [
      "Setting resample\n",
      "resample sucessfuly set\n",
      "setting speech tensor\n",
      "applying tensor to device\n",
      "applying processor\n",
      "processor applied\n",
      "inputs insured\n",
      "Setting resample\n",
      "resample sucessfuly set\n",
      "setting speech tensor\n",
      "applying tensor to device\n",
      "applying processor\n",
      "processor applied\n",
      "inputs insured\n"
     ]
    },
    {
     "name": "stderr",
     "output_type": "stream",
     "text": [
      "\n",
      "\n",
      "\u001b[A\u001b[AIt is strongly recommended to pass the ``sampling_rate`` argument to this function. Failing to do so can result in silent errors that might be hard to debug.\n",
      "It is strongly recommended to pass the ``sampling_rate`` argument to this function. Failing to do so can result in silent errors that might be hard to debug.\n",
      "It is strongly recommended to pass the ``sampling_rate`` argument to this function. Failing to do so can result in silent errors that might be hard to debug.\n",
      "It is strongly recommended to pass the ``sampling_rate`` argument to this function. Failing to do so can result in silent errors that might be hard to debug.\n"
     ]
    },
    {
     "name": "stdout",
     "output_type": "stream",
     "text": [
      "Setting resample\n",
      "resample sucessfuly set\n",
      "setting speech tensor\n",
      "applying tensor to device\n",
      "applying processor\n",
      "processor applied\n",
      "inputs insured\n",
      "Setting resample\n",
      "resample sucessfuly set\n",
      "setting speech tensor\n",
      "applying tensor to device\n",
      "applying processor\n",
      "processor applied\n",
      "inputs insured\n"
     ]
    },
    {
     "name": "stderr",
     "output_type": "stream",
     "text": [
      "\n",
      "\n",
      "\u001b[A\u001b[AIt is strongly recommended to pass the ``sampling_rate`` argument to this function. Failing to do so can result in silent errors that might be hard to debug.\n",
      "It is strongly recommended to pass the ``sampling_rate`` argument to this function. Failing to do so can result in silent errors that might be hard to debug.\n",
      "\n",
      "\n",
      "\u001b[A\u001b[AIt is strongly recommended to pass the ``sampling_rate`` argument to this function. Failing to do so can result in silent errors that might be hard to debug.\n",
      "It is strongly recommended to pass the ``sampling_rate`` argument to this function. Failing to do so can result in silent errors that might be hard to debug.\n"
     ]
    },
    {
     "name": "stdout",
     "output_type": "stream",
     "text": [
      "Setting resample\n",
      "resample sucessfuly set\n",
      "setting speech tensor\n",
      "applying tensor to device\n",
      "applying processor\n",
      "processor applied\n",
      "inputs insured\n",
      "Setting resample\n",
      "resample sucessfuly set\n",
      "setting speech tensor\n",
      "applying tensor to device\n",
      "applying processor\n",
      "processor applied\n",
      "inputs insured\n"
     ]
    },
    {
     "name": "stderr",
     "output_type": "stream",
     "text": [
      "It is strongly recommended to pass the ``sampling_rate`` argument to this function. Failing to do so can result in silent errors that might be hard to debug.\n",
      "It is strongly recommended to pass the ``sampling_rate`` argument to this function. Failing to do so can result in silent errors that might be hard to debug.\n",
      "\n",
      "\n",
      "\u001b[A\u001b[AIt is strongly recommended to pass the ``sampling_rate`` argument to this function. Failing to do so can result in silent errors that might be hard to debug.\n",
      "It is strongly recommended to pass the ``sampling_rate`` argument to this function. Failing to do so can result in silent errors that might be hard to debug.\n"
     ]
    },
    {
     "name": "stdout",
     "output_type": "stream",
     "text": [
      "Setting resample\n",
      "resample sucessfuly set\n",
      "setting speech tensor\n",
      "applying tensor to device\n",
      "applying processor\n",
      "processor applied\n",
      "inputs insured\n",
      "Setting resample\n",
      "resample sucessfuly set\n",
      "setting speech tensor\n",
      "applying tensor to device\n",
      "applying processor\n",
      "processor applied\n",
      "inputs insured\n"
     ]
    },
    {
     "name": "stderr",
     "output_type": "stream",
     "text": [
      "\n",
      "\n",
      "\u001b[A\u001b[AIt is strongly recommended to pass the ``sampling_rate`` argument to this function. Failing to do so can result in silent errors that might be hard to debug.\n",
      "It is strongly recommended to pass the ``sampling_rate`` argument to this function. Failing to do so can result in silent errors that might be hard to debug.\n"
     ]
    },
    {
     "name": "stdout",
     "output_type": "stream",
     "text": [
      "Setting resample\n",
      "resample sucessfuly set\n",
      "setting speech tensor\n",
      "applying tensor to device\n",
      "applying processor\n",
      "processor applied\n",
      "inputs insured\n"
     ]
    },
    {
     "name": "stderr",
     "output_type": "stream",
     "text": [
      "\n",
      "\n",
      "\u001b[A\u001b[AIt is strongly recommended to pass the ``sampling_rate`` argument to this function. Failing to do so can result in silent errors that might be hard to debug.\n",
      "It is strongly recommended to pass the ``sampling_rate`` argument to this function. Failing to do so can result in silent errors that might be hard to debug.\n"
     ]
    },
    {
     "name": "stdout",
     "output_type": "stream",
     "text": [
      "Setting resample\n",
      "resample sucessfuly set\n",
      "setting speech tensor\n",
      "applying tensor to device\n",
      "applying processor\n",
      "processor applied\n",
      "inputs insured\n"
     ]
    },
    {
     "name": "stderr",
     "output_type": "stream",
     "text": [
      "\n",
      "\n",
      "\u001b[A\u001b[AIt is strongly recommended to pass the ``sampling_rate`` argument to this function. Failing to do so can result in silent errors that might be hard to debug.\n",
      "It is strongly recommended to pass the ``sampling_rate`` argument to this function. Failing to do so can result in silent errors that might be hard to debug.\n",
      "It is strongly recommended to pass the ``sampling_rate`` argument to this function. Failing to do so can result in silent errors that might be hard to debug.\n",
      "It is strongly recommended to pass the ``sampling_rate`` argument to this function. Failing to do so can result in silent errors that might be hard to debug.\n",
      "\n",
      "\n",
      "\u001b[A\u001b[AIt is strongly recommended to pass the ``sampling_rate`` argument to this function. Failing to do so can result in silent errors that might be hard to debug.\n",
      "It is strongly recommended to pass the ``sampling_rate`` argument to this function. Failing to do so can result in silent errors that might be hard to debug.\n"
     ]
    },
    {
     "name": "stdout",
     "output_type": "stream",
     "text": [
      "Setting resample\n",
      "resample sucessfuly set\n",
      "setting speech tensor\n",
      "applying tensor to device\n",
      "applying processor\n",
      "processor applied\n",
      "inputs insured\n",
      "Setting resample\n",
      "resample sucessfuly set\n",
      "setting speech tensor\n",
      "applying tensor to device\n",
      "applying processor\n",
      "processor applied\n",
      "inputs insured\n",
      "Setting resample\n",
      "resample sucessfuly set\n",
      "setting speech tensor\n",
      "applying tensor to device\n",
      "applying processor\n",
      "processor applied\n",
      "inputs insured\n"
     ]
    },
    {
     "name": "stderr",
     "output_type": "stream",
     "text": [
      "\n",
      "\n",
      "\u001b[A\u001b[AIt is strongly recommended to pass the ``sampling_rate`` argument to this function. Failing to do so can result in silent errors that might be hard to debug.\n",
      "It is strongly recommended to pass the ``sampling_rate`` argument to this function. Failing to do so can result in silent errors that might be hard to debug.\n",
      "It is strongly recommended to pass the ``sampling_rate`` argument to this function. Failing to do so can result in silent errors that might be hard to debug.\n",
      "It is strongly recommended to pass the ``sampling_rate`` argument to this function. Failing to do so can result in silent errors that might be hard to debug.\n",
      "\n",
      "\n",
      "\u001b[A\u001b[AIt is strongly recommended to pass the ``sampling_rate`` argument to this function. Failing to do so can result in silent errors that might be hard to debug.\n",
      "It is strongly recommended to pass the ``sampling_rate`` argument to this function. Failing to do so can result in silent errors that might be hard to debug.\n",
      "It is strongly recommended to pass the ``sampling_rate`` argument to this function. Failing to do so can result in silent errors that might be hard to debug.\n",
      "It is strongly recommended to pass the ``sampling_rate`` argument to this function. Failing to do so can result in silent errors that might be hard to debug.\n"
     ]
    },
    {
     "name": "stdout",
     "output_type": "stream",
     "text": [
      "Setting resample\n",
      "resample sucessfuly set\n",
      "setting speech tensor\n",
      "applying tensor to device\n",
      "applying processor\n",
      "processor applied\n",
      "inputs insured\n",
      "Setting resample\n",
      "resample sucessfuly set\n",
      "setting speech tensor\n",
      "applying tensor to device\n",
      "applying processor\n",
      "processor applied\n",
      "inputs insured\n",
      "Setting resample\n",
      "resample sucessfuly set\n",
      "setting speech tensor\n",
      "applying tensor to device\n",
      "applying processor\n",
      "processor applied\n",
      "inputs insured\n",
      "Setting resample\n",
      "resample sucessfuly set\n",
      "setting speech tensor\n",
      "applying tensor to device\n",
      "applying processor\n",
      "processor applied\n",
      "inputs insured\n"
     ]
    },
    {
     "name": "stderr",
     "output_type": "stream",
     "text": [
      "\n",
      "\n",
      "\u001b[A\u001b[AIt is strongly recommended to pass the ``sampling_rate`` argument to this function. Failing to do so can result in silent errors that might be hard to debug.\n",
      "It is strongly recommended to pass the ``sampling_rate`` argument to this function. Failing to do so can result in silent errors that might be hard to debug.\n",
      "It is strongly recommended to pass the ``sampling_rate`` argument to this function. Failing to do so can result in silent errors that might be hard to debug.\n",
      "It is strongly recommended to pass the ``sampling_rate`` argument to this function. Failing to do so can result in silent errors that might be hard to debug.\n"
     ]
    },
    {
     "name": "stdout",
     "output_type": "stream",
     "text": [
      "Setting resample\n",
      "resample sucessfuly set\n",
      "setting speech tensor\n",
      "applying tensor to device\n",
      "applying processor\n",
      "processor applied\n",
      "inputs insured\n",
      "Setting resample\n",
      "resample sucessfuly set\n",
      "setting speech tensor\n",
      "applying tensor to device\n",
      "applying processor\n",
      "processor applied\n",
      "inputs insured\n"
     ]
    },
    {
     "name": "stderr",
     "output_type": "stream",
     "text": [
      "\n",
      "\n",
      "\u001b[A\u001b[AIt is strongly recommended to pass the ``sampling_rate`` argument to this function. Failing to do so can result in silent errors that might be hard to debug.\n",
      "It is strongly recommended to pass the ``sampling_rate`` argument to this function. Failing to do so can result in silent errors that might be hard to debug.\n",
      "Evaluating model: 100%|██████████| 603/603 [01:14<00:00,  8.07 samples/s]"
     ]
    },
    {
     "name": "stdout",
     "output_type": "stream",
     "text": [
      "Setting resample\n",
      "resample sucessfuly set\n",
      "setting speech tensor\n",
      "applying tensor to device\n",
      "applying processor\n",
      "processor applied\n",
      "inputs insured\n",
      "Average WER: 0.65\n"
     ]
    },
    {
     "name": "stderr",
     "output_type": "stream",
     "text": [
      "\n"
     ]
    }
   ],
   "source": [
    "processor = AutoProcessor.from_pretrained(\"imvladikon/wav2vec2-xls-r-300m-hebrew\")\n",
    "model = AutoModelForCTC.from_pretrained(\"imvladikon/wav2vec2-xls-r-300m-hebrew\")\n",
    "model.to(device)\n",
    "model.eval()\n",
    "# Run evaluation\n",
    "average_wer = evaluate_model(dataset, model, processor)\n",
    "print(f\"Average WER: {average_wer:.2f}\")"
   ]
  },
  {
   "cell_type": "code",
   "execution_count": 69,
   "metadata": {},
   "outputs": [
    {
     "name": "stdout",
     "output_type": "stream",
     "text": [
      "Average WER: 0.65\n"
     ]
    }
   ],
   "source": [
    "print(f\"Average WER: {average_wer:.2f}\")"
   ]
  },
  {
   "cell_type": "code",
   "execution_count": 70,
   "metadata": {},
   "outputs": [
    {
     "name": "stderr",
     "output_type": "stream",
     "text": [
      "\n",
      "\n",
      "\u001b[A\u001b[AIt is strongly recommended to pass the `sampling_rate` argument to this function. Failing to do so can result in silent errors that might be hard to debug.\n",
      "\n",
      "\n",
      "\u001b[A\u001b[AIt is strongly recommended to pass the `sampling_rate` argument to this function. Failing to do so can result in silent errors that might be hard to debug.\n",
      "\n",
      "\n",
      "\u001b[A\u001b[AIt is strongly recommended to pass the `sampling_rate` argument to this function. Failing to do so can result in silent errors that might be hard to debug.\n",
      "\n",
      "\n",
      "\u001b[A\u001b[AIt is strongly recommended to pass the `sampling_rate` argument to this function. Failing to do so can result in silent errors that might be hard to debug.\n",
      "\n",
      "\n",
      "\u001b[A\u001b[AIt is strongly recommended to pass the `sampling_rate` argument to this function. Failing to do so can result in silent errors that might be hard to debug.\n",
      "\n",
      "\n",
      "\u001b[A\u001b[AIt is strongly recommended to pass the `sampling_rate` argument to this function. Failing to do so can result in silent errors that might be hard to debug.\n",
      "\n",
      "\n",
      "\u001b[A\u001b[AIt is strongly recommended to pass the `sampling_rate` argument to this function. Failing to do so can result in silent errors that might be hard to debug.\n",
      "\n",
      "\n",
      "\u001b[A\u001b[AIt is strongly recommended to pass the `sampling_rate` argument to this function. Failing to do so can result in silent errors that might be hard to debug.\n",
      "\n",
      "\n",
      "\u001b[A\u001b[AIt is strongly recommended to pass the `sampling_rate` argument to this function. Failing to do so can result in silent errors that might be hard to debug.\n",
      "\n",
      "\n",
      "\u001b[A\u001b[AIt is strongly recommended to pass the `sampling_rate` argument to this function. Failing to do so can result in silent errors that might be hard to debug.\n",
      "\n",
      "\n",
      "\u001b[A\u001b[AIt is strongly recommended to pass the `sampling_rate` argument to this function. Failing to do so can result in silent errors that might be hard to debug.\n",
      "\n",
      "\n",
      "\u001b[A\u001b[AIt is strongly recommended to pass the `sampling_rate` argument to this function. Failing to do so can result in silent errors that might be hard to debug.\n",
      "\n",
      "\n",
      "\u001b[A\u001b[AIt is strongly recommended to pass the `sampling_rate` argument to this function. Failing to do so can result in silent errors that might be hard to debug.\n",
      "\n",
      "\n",
      "\u001b[A\u001b[AIt is strongly recommended to pass the `sampling_rate` argument to this function. Failing to do so can result in silent errors that might be hard to debug.\n",
      "\n",
      "\n",
      "\u001b[A\u001b[AIt is strongly recommended to pass the `sampling_rate` argument to this function. Failing to do so can result in silent errors that might be hard to debug.\n",
      "\n",
      "\n",
      "\u001b[A\u001b[AIt is strongly recommended to pass the `sampling_rate` argument to this function. Failing to do so can result in silent errors that might be hard to debug.\n",
      "\n",
      "\n",
      "\u001b[A\u001b[AIt is strongly recommended to pass the `sampling_rate` argument to this function. Failing to do so can result in silent errors that might be hard to debug.\n",
      "\n",
      "\n",
      "\u001b[A\u001b[AIt is strongly recommended to pass the `sampling_rate` argument to this function. Failing to do so can result in silent errors that might be hard to debug.\n",
      "\n",
      "\n",
      "\u001b[A\u001b[AIt is strongly recommended to pass the `sampling_rate` argument to this function. Failing to do so can result in silent errors that might be hard to debug.\n",
      "\n",
      "\n",
      "\u001b[A\u001b[AIt is strongly recommended to pass the `sampling_rate` argument to this function. Failing to do so can result in silent errors that might be hard to debug.\n",
      "\n",
      "\n",
      "\u001b[A\u001b[AIt is strongly recommended to pass the `sampling_rate` argument to this function. Failing to do so can result in silent errors that might be hard to debug.\n",
      "\n",
      "\n",
      "\u001b[A\u001b[AIt is strongly recommended to pass the `sampling_rate` argument to this function. Failing to do so can result in silent errors that might be hard to debug.\n",
      "\n",
      "\n",
      "\u001b[A\u001b[AIt is strongly recommended to pass the `sampling_rate` argument to this function. Failing to do so can result in silent errors that might be hard to debug.\n",
      "\n",
      "\n",
      "\u001b[A\u001b[AIt is strongly recommended to pass the `sampling_rate` argument to this function. Failing to do so can result in silent errors that might be hard to debug.\n",
      "\n",
      "\n",
      "\u001b[A\u001b[AIt is strongly recommended to pass the `sampling_rate` argument to this function. Failing to do so can result in silent errors that might be hard to debug.\n",
      "\n",
      "\n",
      "\u001b[A\u001b[AIt is strongly recommended to pass the `sampling_rate` argument to this function. Failing to do so can result in silent errors that might be hard to debug.\n",
      "\n",
      "\n",
      "\u001b[A\u001b[AIt is strongly recommended to pass the `sampling_rate` argument to this function. Failing to do so can result in silent errors that might be hard to debug.\n",
      "\n",
      "\n",
      "\u001b[A\u001b[AIt is strongly recommended to pass the `sampling_rate` argument to this function. Failing to do so can result in silent errors that might be hard to debug.\n",
      "\n",
      "\n",
      "\u001b[A\u001b[AIt is strongly recommended to pass the `sampling_rate` argument to this function. Failing to do so can result in silent errors that might be hard to debug.\n",
      "\n",
      "\n",
      "\u001b[A\u001b[AIt is strongly recommended to pass the `sampling_rate` argument to this function. Failing to do so can result in silent errors that might be hard to debug.\n",
      "\n",
      "\n",
      "\u001b[A\u001b[AIt is strongly recommended to pass the `sampling_rate` argument to this function. Failing to do so can result in silent errors that might be hard to debug.\n",
      "\n",
      "\n",
      "\u001b[A\u001b[AIt is strongly recommended to pass the `sampling_rate` argument to this function. Failing to do so can result in silent errors that might be hard to debug.\n",
      "\n",
      "\n",
      "\u001b[A\u001b[AIt is strongly recommended to pass the `sampling_rate` argument to this function. Failing to do so can result in silent errors that might be hard to debug.\n",
      "\n",
      "\n",
      "\u001b[A\u001b[AIt is strongly recommended to pass the `sampling_rate` argument to this function. Failing to do so can result in silent errors that might be hard to debug.\n",
      "\n",
      "\n",
      "\u001b[A\u001b[AIt is strongly recommended to pass the `sampling_rate` argument to this function. Failing to do so can result in silent errors that might be hard to debug.\n",
      "\n",
      "\n",
      "\u001b[A\u001b[AIt is strongly recommended to pass the `sampling_rate` argument to this function. Failing to do so can result in silent errors that might be hard to debug.\n",
      "\n",
      "\n",
      "\u001b[A\u001b[AIt is strongly recommended to pass the `sampling_rate` argument to this function. Failing to do so can result in silent errors that might be hard to debug.\n",
      "\n",
      "\n",
      "\u001b[A\u001b[AIt is strongly recommended to pass the `sampling_rate` argument to this function. Failing to do so can result in silent errors that might be hard to debug.\n",
      "\n",
      "\n",
      "\u001b[A\u001b[AIt is strongly recommended to pass the `sampling_rate` argument to this function. Failing to do so can result in silent errors that might be hard to debug.\n",
      "\n",
      "\n",
      "\u001b[A\u001b[AIt is strongly recommended to pass the `sampling_rate` argument to this function. Failing to do so can result in silent errors that might be hard to debug.\n",
      "\n",
      "\n",
      "\u001b[A\u001b[AIt is strongly recommended to pass the `sampling_rate` argument to this function. Failing to do so can result in silent errors that might be hard to debug.\n",
      "\n",
      "\n",
      "\u001b[A\u001b[AIt is strongly recommended to pass the `sampling_rate` argument to this function. Failing to do so can result in silent errors that might be hard to debug.\n",
      "\n",
      "\n",
      "\u001b[A\u001b[AIt is strongly recommended to pass the `sampling_rate` argument to this function. Failing to do so can result in silent errors that might be hard to debug.\n",
      "\n",
      "\n",
      "\u001b[A\u001b[AIt is strongly recommended to pass the `sampling_rate` argument to this function. Failing to do so can result in silent errors that might be hard to debug.\n",
      "\n",
      "\n",
      "\u001b[A\u001b[AIt is strongly recommended to pass the `sampling_rate` argument to this function. Failing to do so can result in silent errors that might be hard to debug.\n",
      "\n",
      "\n",
      "\u001b[A\u001b[AIt is strongly recommended to pass the `sampling_rate` argument to this function. Failing to do so can result in silent errors that might be hard to debug.\n",
      "\n",
      "\n",
      "\u001b[A\u001b[AIt is strongly recommended to pass the `sampling_rate` argument to this function. Failing to do so can result in silent errors that might be hard to debug.\n",
      "\n",
      "\n",
      "\u001b[A\u001b[AIt is strongly recommended to pass the `sampling_rate` argument to this function. Failing to do so can result in silent errors that might be hard to debug.\n",
      "\n",
      "\n",
      "\u001b[A\u001b[AIt is strongly recommended to pass the `sampling_rate` argument to this function. Failing to do so can result in silent errors that might be hard to debug.\n",
      "\n",
      "\n",
      "\u001b[A\u001b[AIt is strongly recommended to pass the `sampling_rate` argument to this function. Failing to do so can result in silent errors that might be hard to debug.\n",
      "\n",
      "\n",
      "\u001b[A\u001b[AIt is strongly recommended to pass the `sampling_rate` argument to this function. Failing to do so can result in silent errors that might be hard to debug.\n",
      "\n",
      "\n",
      "\u001b[A\u001b[AIt is strongly recommended to pass the `sampling_rate` argument to this function. Failing to do so can result in silent errors that might be hard to debug.\n",
      "\n",
      "\n",
      "\u001b[A\u001b[AIt is strongly recommended to pass the `sampling_rate` argument to this function. Failing to do so can result in silent errors that might be hard to debug.\n",
      "\n",
      "\n",
      "\u001b[A\u001b[AIt is strongly recommended to pass the `sampling_rate` argument to this function. Failing to do so can result in silent errors that might be hard to debug.\n",
      "\n",
      "\n",
      "\u001b[A\u001b[AIt is strongly recommended to pass the `sampling_rate` argument to this function. Failing to do so can result in silent errors that might be hard to debug.\n",
      "\n",
      "\n",
      "\u001b[A\u001b[AIt is strongly recommended to pass the `sampling_rate` argument to this function. Failing to do so can result in silent errors that might be hard to debug.\n",
      "\n",
      "\n",
      "\u001b[A\u001b[AIt is strongly recommended to pass the `sampling_rate` argument to this function. Failing to do so can result in silent errors that might be hard to debug.\n",
      "\n",
      "\n",
      "\u001b[A\u001b[AIt is strongly recommended to pass the `sampling_rate` argument to this function. Failing to do so can result in silent errors that might be hard to debug.\n",
      "\n",
      "\n",
      "\u001b[A\u001b[AIt is strongly recommended to pass the `sampling_rate` argument to this function. Failing to do so can result in silent errors that might be hard to debug.\n",
      "\n",
      "\n",
      "\u001b[A\u001b[AIt is strongly recommended to pass the `sampling_rate` argument to this function. Failing to do so can result in silent errors that might be hard to debug.\n",
      "\n",
      "\n",
      "\u001b[A\u001b[AIt is strongly recommended to pass the `sampling_rate` argument to this function. Failing to do so can result in silent errors that might be hard to debug.\n",
      "\n",
      "\n",
      "\u001b[A\u001b[AIt is strongly recommended to pass the `sampling_rate` argument to this function. Failing to do so can result in silent errors that might be hard to debug.\n",
      "\n",
      "\n",
      "\u001b[A\u001b[AIt is strongly recommended to pass the `sampling_rate` argument to this function. Failing to do so can result in silent errors that might be hard to debug.\n",
      "\n",
      "\n",
      "\u001b[A\u001b[AIt is strongly recommended to pass the `sampling_rate` argument to this function. Failing to do so can result in silent errors that might be hard to debug.\n",
      "\n",
      "\n",
      "\u001b[A\u001b[AIt is strongly recommended to pass the `sampling_rate` argument to this function. Failing to do so can result in silent errors that might be hard to debug.\n",
      "\n",
      "\n",
      "\u001b[A\u001b[AIt is strongly recommended to pass the `sampling_rate` argument to this function. Failing to do so can result in silent errors that might be hard to debug.\n",
      "\n",
      "\n",
      "\u001b[A\u001b[AIt is strongly recommended to pass the `sampling_rate` argument to this function. Failing to do so can result in silent errors that might be hard to debug.\n",
      "\n",
      "\n",
      "\u001b[A\u001b[AIt is strongly recommended to pass the `sampling_rate` argument to this function. Failing to do so can result in silent errors that might be hard to debug.\n",
      "\n",
      "\n",
      "\u001b[A\u001b[AIt is strongly recommended to pass the `sampling_rate` argument to this function. Failing to do so can result in silent errors that might be hard to debug.\n",
      "\n",
      "\n",
      "\u001b[A\u001b[AIt is strongly recommended to pass the `sampling_rate` argument to this function. Failing to do so can result in silent errors that might be hard to debug.\n",
      "\n",
      "\n",
      "\u001b[A\u001b[AIt is strongly recommended to pass the `sampling_rate` argument to this function. Failing to do so can result in silent errors that might be hard to debug.\n",
      "\n",
      "\n",
      "\u001b[A\u001b[AIt is strongly recommended to pass the `sampling_rate` argument to this function. Failing to do so can result in silent errors that might be hard to debug.\n",
      "\n",
      "\n",
      "\u001b[A\u001b[AIt is strongly recommended to pass the `sampling_rate` argument to this function. Failing to do so can result in silent errors that might be hard to debug.\n",
      "\n",
      "\n",
      "\u001b[A\u001b[AIt is strongly recommended to pass the `sampling_rate` argument to this function. Failing to do so can result in silent errors that might be hard to debug.\n",
      "\n",
      "\n",
      "\u001b[A\u001b[AIt is strongly recommended to pass the `sampling_rate` argument to this function. Failing to do so can result in silent errors that might be hard to debug.\n",
      "\n",
      "\n",
      "\u001b[A\u001b[AIt is strongly recommended to pass the `sampling_rate` argument to this function. Failing to do so can result in silent errors that might be hard to debug.\n",
      "\n",
      "\n",
      "\u001b[A\u001b[AIt is strongly recommended to pass the `sampling_rate` argument to this function. Failing to do so can result in silent errors that might be hard to debug.\n",
      "\n",
      "\n",
      "\u001b[A\u001b[AIt is strongly recommended to pass the `sampling_rate` argument to this function. Failing to do so can result in silent errors that might be hard to debug.\n",
      "\n",
      "\n",
      "\u001b[A\u001b[AIt is strongly recommended to pass the `sampling_rate` argument to this function. Failing to do so can result in silent errors that might be hard to debug.\n",
      "\n",
      "\n",
      "\u001b[A\u001b[AIt is strongly recommended to pass the `sampling_rate` argument to this function. Failing to do so can result in silent errors that might be hard to debug.\n",
      "\n",
      "\n",
      "\u001b[A\u001b[AIt is strongly recommended to pass the `sampling_rate` argument to this function. Failing to do so can result in silent errors that might be hard to debug.\n",
      "\n",
      "\n",
      "\u001b[A\u001b[AIt is strongly recommended to pass the `sampling_rate` argument to this function. Failing to do so can result in silent errors that might be hard to debug.\n",
      "\n",
      "\n",
      "\u001b[A\u001b[AIt is strongly recommended to pass the `sampling_rate` argument to this function. Failing to do so can result in silent errors that might be hard to debug.\n",
      "\n",
      "\n",
      "\u001b[A\u001b[AIt is strongly recommended to pass the `sampling_rate` argument to this function. Failing to do so can result in silent errors that might be hard to debug.\n",
      "\n",
      "\n",
      "\u001b[A\u001b[AIt is strongly recommended to pass the `sampling_rate` argument to this function. Failing to do so can result in silent errors that might be hard to debug.\n",
      "\n",
      "\n",
      "\u001b[A\u001b[AIt is strongly recommended to pass the `sampling_rate` argument to this function. Failing to do so can result in silent errors that might be hard to debug.\n",
      "\n",
      "\n",
      "\u001b[A\u001b[AIt is strongly recommended to pass the `sampling_rate` argument to this function. Failing to do so can result in silent errors that might be hard to debug.\n",
      "\n",
      "\n",
      "\u001b[A\u001b[AIt is strongly recommended to pass the `sampling_rate` argument to this function. Failing to do so can result in silent errors that might be hard to debug.\n",
      "\n",
      "\n",
      "\u001b[A\u001b[AIt is strongly recommended to pass the `sampling_rate` argument to this function. Failing to do so can result in silent errors that might be hard to debug.\n",
      "\n",
      "\n",
      "\u001b[A\u001b[AIt is strongly recommended to pass the `sampling_rate` argument to this function. Failing to do so can result in silent errors that might be hard to debug.\n",
      "\n",
      "\n",
      "\u001b[A\u001b[AIt is strongly recommended to pass the `sampling_rate` argument to this function. Failing to do so can result in silent errors that might be hard to debug.\n",
      "\n",
      "\n",
      "\u001b[A\u001b[AIt is strongly recommended to pass the `sampling_rate` argument to this function. Failing to do so can result in silent errors that might be hard to debug.\n",
      "\n",
      "\n",
      "\u001b[A\u001b[AIt is strongly recommended to pass the `sampling_rate` argument to this function. Failing to do so can result in silent errors that might be hard to debug.\n",
      "\n",
      "\n",
      "\u001b[A\u001b[AIt is strongly recommended to pass the `sampling_rate` argument to this function. Failing to do so can result in silent errors that might be hard to debug.\n",
      "\n",
      "\n",
      "\u001b[A\u001b[AIt is strongly recommended to pass the `sampling_rate` argument to this function. Failing to do so can result in silent errors that might be hard to debug.\n",
      "\n",
      "\n",
      "\u001b[A\u001b[AIt is strongly recommended to pass the `sampling_rate` argument to this function. Failing to do so can result in silent errors that might be hard to debug.\n",
      "\n",
      "\n",
      "\u001b[A\u001b[AIt is strongly recommended to pass the `sampling_rate` argument to this function. Failing to do so can result in silent errors that might be hard to debug.\n",
      "\n",
      "\n",
      "\u001b[A\u001b[AIt is strongly recommended to pass the `sampling_rate` argument to this function. Failing to do so can result in silent errors that might be hard to debug.\n",
      "\n",
      "\n",
      "\u001b[A\u001b[AIt is strongly recommended to pass the `sampling_rate` argument to this function. Failing to do so can result in silent errors that might be hard to debug.\n",
      "\n",
      "\n",
      "\u001b[A\u001b[AIt is strongly recommended to pass the `sampling_rate` argument to this function. Failing to do so can result in silent errors that might be hard to debug.\n",
      "\n",
      "\n",
      "\u001b[A\u001b[AIt is strongly recommended to pass the `sampling_rate` argument to this function. Failing to do so can result in silent errors that might be hard to debug.\n",
      "\n",
      "\n",
      "\u001b[A\u001b[AIt is strongly recommended to pass the `sampling_rate` argument to this function. Failing to do so can result in silent errors that might be hard to debug.\n",
      "\n",
      "\n",
      "\u001b[A\u001b[AIt is strongly recommended to pass the `sampling_rate` argument to this function. Failing to do so can result in silent errors that might be hard to debug.\n",
      "\n",
      "\n",
      "\u001b[A\u001b[AIt is strongly recommended to pass the `sampling_rate` argument to this function. Failing to do so can result in silent errors that might be hard to debug.\n",
      "\n",
      "\n",
      "\u001b[A\u001b[AIt is strongly recommended to pass the `sampling_rate` argument to this function. Failing to do so can result in silent errors that might be hard to debug.\n",
      "It is strongly recommended to pass the `sampling_rate` argument to this function. Failing to do so can result in silent errors that might be hard to debug.\n",
      "\n",
      "\n",
      "\u001b[A\u001b[AIt is strongly recommended to pass the `sampling_rate` argument to this function. Failing to do so can result in silent errors that might be hard to debug.\n",
      "\n",
      "\n",
      "\u001b[A\u001b[AIt is strongly recommended to pass the `sampling_rate` argument to this function. Failing to do so can result in silent errors that might be hard to debug.\n",
      "\n",
      "\n",
      "\u001b[A\u001b[AIt is strongly recommended to pass the `sampling_rate` argument to this function. Failing to do so can result in silent errors that might be hard to debug.\n",
      "\n",
      "\n",
      "\u001b[A\u001b[AIt is strongly recommended to pass the `sampling_rate` argument to this function. Failing to do so can result in silent errors that might be hard to debug.\n",
      "\n",
      "\n",
      "\u001b[A\u001b[AIt is strongly recommended to pass the `sampling_rate` argument to this function. Failing to do so can result in silent errors that might be hard to debug.\n",
      "\n",
      "\n",
      "\u001b[A\u001b[AIt is strongly recommended to pass the `sampling_rate` argument to this function. Failing to do so can result in silent errors that might be hard to debug.\n",
      "\n",
      "\n",
      "\u001b[A\u001b[AIt is strongly recommended to pass the `sampling_rate` argument to this function. Failing to do so can result in silent errors that might be hard to debug.\n",
      "\n",
      "\n",
      "\u001b[A\u001b[AIt is strongly recommended to pass the `sampling_rate` argument to this function. Failing to do so can result in silent errors that might be hard to debug.\n",
      "\n",
      "\n",
      "\u001b[A\u001b[AIt is strongly recommended to pass the `sampling_rate` argument to this function. Failing to do so can result in silent errors that might be hard to debug.\n",
      "\n",
      "\n",
      "\u001b[A\u001b[AIt is strongly recommended to pass the `sampling_rate` argument to this function. Failing to do so can result in silent errors that might be hard to debug.\n",
      "\n",
      "\n",
      "\u001b[A\u001b[AIt is strongly recommended to pass the `sampling_rate` argument to this function. Failing to do so can result in silent errors that might be hard to debug.\n",
      "\n",
      "\n",
      "\u001b[A\u001b[AIt is strongly recommended to pass the `sampling_rate` argument to this function. Failing to do so can result in silent errors that might be hard to debug.\n",
      "\n",
      "\n",
      "\u001b[A\u001b[AIt is strongly recommended to pass the `sampling_rate` argument to this function. Failing to do so can result in silent errors that might be hard to debug.\n",
      "\n",
      "\n",
      "\u001b[A\u001b[AIt is strongly recommended to pass the `sampling_rate` argument to this function. Failing to do so can result in silent errors that might be hard to debug.\n",
      "\n",
      "\n",
      "\u001b[A\u001b[AIt is strongly recommended to pass the `sampling_rate` argument to this function. Failing to do so can result in silent errors that might be hard to debug.\n",
      "\n",
      "\n",
      "\u001b[A\u001b[AIt is strongly recommended to pass the `sampling_rate` argument to this function. Failing to do so can result in silent errors that might be hard to debug.\n",
      "\n",
      "\n",
      "\u001b[A\u001b[AIt is strongly recommended to pass the `sampling_rate` argument to this function. Failing to do so can result in silent errors that might be hard to debug.\n",
      "It is strongly recommended to pass the `sampling_rate` argument to this function. Failing to do so can result in silent errors that might be hard to debug.\n",
      "\n",
      "\n",
      "\u001b[A\u001b[AIt is strongly recommended to pass the `sampling_rate` argument to this function. Failing to do so can result in silent errors that might be hard to debug.\n",
      "\n",
      "\n",
      "\u001b[A\u001b[AIt is strongly recommended to pass the `sampling_rate` argument to this function. Failing to do so can result in silent errors that might be hard to debug.\n",
      "\n",
      "\n",
      "\u001b[A\u001b[AIt is strongly recommended to pass the `sampling_rate` argument to this function. Failing to do so can result in silent errors that might be hard to debug.\n",
      "\n",
      "\n",
      "\u001b[A\u001b[AIt is strongly recommended to pass the `sampling_rate` argument to this function. Failing to do so can result in silent errors that might be hard to debug.\n",
      "\n",
      "\n",
      "\u001b[A\u001b[AIt is strongly recommended to pass the `sampling_rate` argument to this function. Failing to do so can result in silent errors that might be hard to debug.\n",
      "\n",
      "\n",
      "\u001b[A\u001b[AIt is strongly recommended to pass the `sampling_rate` argument to this function. Failing to do so can result in silent errors that might be hard to debug.\n",
      "\n",
      "\n",
      "\u001b[A\u001b[AIt is strongly recommended to pass the `sampling_rate` argument to this function. Failing to do so can result in silent errors that might be hard to debug.\n",
      "\n",
      "\n",
      "\u001b[A\u001b[AIt is strongly recommended to pass the `sampling_rate` argument to this function. Failing to do so can result in silent errors that might be hard to debug.\n",
      "\n",
      "\n",
      "\u001b[A\u001b[AIt is strongly recommended to pass the `sampling_rate` argument to this function. Failing to do so can result in silent errors that might be hard to debug.\n",
      "\n",
      "\n",
      "\u001b[A\u001b[AIt is strongly recommended to pass the `sampling_rate` argument to this function. Failing to do so can result in silent errors that might be hard to debug.\n",
      "\n",
      "\n",
      "\u001b[A\u001b[AIt is strongly recommended to pass the `sampling_rate` argument to this function. Failing to do so can result in silent errors that might be hard to debug.\n",
      "\n",
      "\n",
      "\u001b[A\u001b[AIt is strongly recommended to pass the `sampling_rate` argument to this function. Failing to do so can result in silent errors that might be hard to debug.\n",
      "\n",
      "\n",
      "\u001b[A\u001b[AIt is strongly recommended to pass the `sampling_rate` argument to this function. Failing to do so can result in silent errors that might be hard to debug.\n",
      "\n",
      "\n",
      "\u001b[A\u001b[AIt is strongly recommended to pass the `sampling_rate` argument to this function. Failing to do so can result in silent errors that might be hard to debug.\n",
      "\n",
      "\n",
      "\u001b[A\u001b[AIt is strongly recommended to pass the `sampling_rate` argument to this function. Failing to do so can result in silent errors that might be hard to debug.\n",
      "It is strongly recommended to pass the `sampling_rate` argument to this function. Failing to do so can result in silent errors that might be hard to debug.\n",
      "\n",
      "\n",
      "\u001b[A\u001b[AIt is strongly recommended to pass the `sampling_rate` argument to this function. Failing to do so can result in silent errors that might be hard to debug.\n",
      "\n",
      "\n",
      "\u001b[A\u001b[AIt is strongly recommended to pass the `sampling_rate` argument to this function. Failing to do so can result in silent errors that might be hard to debug.\n",
      "\n",
      "\n",
      "\u001b[A\u001b[AIt is strongly recommended to pass the `sampling_rate` argument to this function. Failing to do so can result in silent errors that might be hard to debug.\n",
      "\n",
      "\n",
      "\u001b[A\u001b[AIt is strongly recommended to pass the `sampling_rate` argument to this function. Failing to do so can result in silent errors that might be hard to debug.\n",
      "\n",
      "\n",
      "\u001b[A\u001b[AIt is strongly recommended to pass the `sampling_rate` argument to this function. Failing to do so can result in silent errors that might be hard to debug.\n",
      "\n",
      "\n",
      "\u001b[A\u001b[AIt is strongly recommended to pass the `sampling_rate` argument to this function. Failing to do so can result in silent errors that might be hard to debug.\n",
      "\n",
      "\n",
      "\u001b[A\u001b[AIt is strongly recommended to pass the `sampling_rate` argument to this function. Failing to do so can result in silent errors that might be hard to debug.\n",
      "\n",
      "\n",
      "\u001b[A\u001b[AIt is strongly recommended to pass the `sampling_rate` argument to this function. Failing to do so can result in silent errors that might be hard to debug.\n",
      "\n",
      "\n",
      "\u001b[A\u001b[AIt is strongly recommended to pass the `sampling_rate` argument to this function. Failing to do so can result in silent errors that might be hard to debug.\n",
      "\n",
      "\n",
      "\u001b[A\u001b[AIt is strongly recommended to pass the `sampling_rate` argument to this function. Failing to do so can result in silent errors that might be hard to debug.\n",
      "\n",
      "\n",
      "\u001b[A\u001b[AIt is strongly recommended to pass the `sampling_rate` argument to this function. Failing to do so can result in silent errors that might be hard to debug.\n",
      "\n",
      "\n",
      "\u001b[A\u001b[AIt is strongly recommended to pass the `sampling_rate` argument to this function. Failing to do so can result in silent errors that might be hard to debug.\n",
      "\n",
      "\n",
      "\u001b[A\u001b[AIt is strongly recommended to pass the `sampling_rate` argument to this function. Failing to do so can result in silent errors that might be hard to debug.\n",
      "\n",
      "\n",
      "\u001b[A\u001b[AIt is strongly recommended to pass the `sampling_rate` argument to this function. Failing to do so can result in silent errors that might be hard to debug.\n",
      "\n",
      "\n",
      "\u001b[A\u001b[AIt is strongly recommended to pass the `sampling_rate` argument to this function. Failing to do so can result in silent errors that might be hard to debug.\n",
      "\n",
      "\n",
      "\u001b[A\u001b[AIt is strongly recommended to pass the `sampling_rate` argument to this function. Failing to do so can result in silent errors that might be hard to debug.\n",
      "\n",
      "\n",
      "\u001b[A\u001b[AIt is strongly recommended to pass the `sampling_rate` argument to this function. Failing to do so can result in silent errors that might be hard to debug.\n",
      "\n",
      "\n",
      "\u001b[A\u001b[AIt is strongly recommended to pass the `sampling_rate` argument to this function. Failing to do so can result in silent errors that might be hard to debug.\n",
      "\n",
      "\n",
      "\u001b[A\u001b[AIt is strongly recommended to pass the `sampling_rate` argument to this function. Failing to do so can result in silent errors that might be hard to debug.\n",
      "\n",
      "\n",
      "\u001b[A\u001b[AIt is strongly recommended to pass the `sampling_rate` argument to this function. Failing to do so can result in silent errors that might be hard to debug.\n",
      "\n",
      "\n",
      "\u001b[A\u001b[AIt is strongly recommended to pass the `sampling_rate` argument to this function. Failing to do so can result in silent errors that might be hard to debug.\n",
      "\n",
      "\n",
      "\u001b[A\u001b[AIt is strongly recommended to pass the `sampling_rate` argument to this function. Failing to do so can result in silent errors that might be hard to debug.\n",
      "\n",
      "\n",
      "\u001b[A\u001b[AIt is strongly recommended to pass the `sampling_rate` argument to this function. Failing to do so can result in silent errors that might be hard to debug.\n",
      "\n",
      "\n",
      "\u001b[A\u001b[AIt is strongly recommended to pass the `sampling_rate` argument to this function. Failing to do so can result in silent errors that might be hard to debug.\n",
      "\n",
      "\n",
      "\u001b[A\u001b[AIt is strongly recommended to pass the `sampling_rate` argument to this function. Failing to do so can result in silent errors that might be hard to debug.\n",
      "\n",
      "\n",
      "\u001b[A\u001b[AIt is strongly recommended to pass the `sampling_rate` argument to this function. Failing to do so can result in silent errors that might be hard to debug.\n",
      "\n",
      "\n",
      "\u001b[A\u001b[AIt is strongly recommended to pass the `sampling_rate` argument to this function. Failing to do so can result in silent errors that might be hard to debug.\n",
      "\n",
      "\n",
      "\u001b[A\u001b[AIt is strongly recommended to pass the `sampling_rate` argument to this function. Failing to do so can result in silent errors that might be hard to debug.\n",
      "\n",
      "\n",
      "\u001b[A\u001b[AIt is strongly recommended to pass the `sampling_rate` argument to this function. Failing to do so can result in silent errors that might be hard to debug.\n",
      "\n",
      "\n",
      "\u001b[A\u001b[AIt is strongly recommended to pass the `sampling_rate` argument to this function. Failing to do so can result in silent errors that might be hard to debug.\n",
      "\n",
      "\n",
      "\u001b[A\u001b[AIt is strongly recommended to pass the `sampling_rate` argument to this function. Failing to do so can result in silent errors that might be hard to debug.\n",
      "\n",
      "\n",
      "\u001b[A\u001b[AIt is strongly recommended to pass the `sampling_rate` argument to this function. Failing to do so can result in silent errors that might be hard to debug.\n",
      "\n",
      "\n",
      "\u001b[A\u001b[AIt is strongly recommended to pass the `sampling_rate` argument to this function. Failing to do so can result in silent errors that might be hard to debug.\n",
      "\n",
      "\n",
      "\u001b[A\u001b[AIt is strongly recommended to pass the `sampling_rate` argument to this function. Failing to do so can result in silent errors that might be hard to debug.\n",
      "\n",
      "\n",
      "\u001b[A\u001b[AIt is strongly recommended to pass the `sampling_rate` argument to this function. Failing to do so can result in silent errors that might be hard to debug.\n",
      "\n",
      "\n",
      "\u001b[A\u001b[AIt is strongly recommended to pass the `sampling_rate` argument to this function. Failing to do so can result in silent errors that might be hard to debug.\n",
      "\n",
      "\n",
      "\u001b[A\u001b[AIt is strongly recommended to pass the `sampling_rate` argument to this function. Failing to do so can result in silent errors that might be hard to debug.\n",
      "\n",
      "\n",
      "\u001b[A\u001b[AIt is strongly recommended to pass the `sampling_rate` argument to this function. Failing to do so can result in silent errors that might be hard to debug.\n",
      "\n",
      "\n",
      "\u001b[A\u001b[AIt is strongly recommended to pass the `sampling_rate` argument to this function. Failing to do so can result in silent errors that might be hard to debug.\n",
      "\n",
      "\n",
      "\u001b[A\u001b[AIt is strongly recommended to pass the `sampling_rate` argument to this function. Failing to do so can result in silent errors that might be hard to debug.\n",
      "\n",
      "\n",
      "\u001b[A\u001b[AIt is strongly recommended to pass the `sampling_rate` argument to this function. Failing to do so can result in silent errors that might be hard to debug.\n",
      "\n",
      "\n",
      "\u001b[A\u001b[AIt is strongly recommended to pass the `sampling_rate` argument to this function. Failing to do so can result in silent errors that might be hard to debug.\n",
      "\n",
      "\n",
      "\u001b[A\u001b[AIt is strongly recommended to pass the `sampling_rate` argument to this function. Failing to do so can result in silent errors that might be hard to debug.\n",
      "\n",
      "\n",
      "\u001b[A\u001b[AIt is strongly recommended to pass the `sampling_rate` argument to this function. Failing to do so can result in silent errors that might be hard to debug.\n",
      "\n",
      "\n",
      "\u001b[A\u001b[AIt is strongly recommended to pass the `sampling_rate` argument to this function. Failing to do so can result in silent errors that might be hard to debug.\n",
      "\n",
      "\n",
      "\u001b[A\u001b[AIt is strongly recommended to pass the `sampling_rate` argument to this function. Failing to do so can result in silent errors that might be hard to debug.\n",
      "\n",
      "\n",
      "\u001b[A\u001b[AIt is strongly recommended to pass the `sampling_rate` argument to this function. Failing to do so can result in silent errors that might be hard to debug.\n",
      "\n",
      "\n",
      "\u001b[A\u001b[AIt is strongly recommended to pass the `sampling_rate` argument to this function. Failing to do so can result in silent errors that might be hard to debug.\n",
      "\n",
      "\n",
      "\u001b[A\u001b[AIt is strongly recommended to pass the `sampling_rate` argument to this function. Failing to do so can result in silent errors that might be hard to debug.\n",
      "\n",
      "\n",
      "\u001b[A\u001b[AIt is strongly recommended to pass the `sampling_rate` argument to this function. Failing to do so can result in silent errors that might be hard to debug.\n",
      "\n",
      "\n",
      "\u001b[A\u001b[AIt is strongly recommended to pass the `sampling_rate` argument to this function. Failing to do so can result in silent errors that might be hard to debug.\n",
      "\n",
      "\n",
      "\u001b[A\u001b[AIt is strongly recommended to pass the `sampling_rate` argument to this function. Failing to do so can result in silent errors that might be hard to debug.\n",
      "\n",
      "\n",
      "\u001b[A\u001b[AIt is strongly recommended to pass the `sampling_rate` argument to this function. Failing to do so can result in silent errors that might be hard to debug.\n",
      "\n",
      "\n",
      "\u001b[A\u001b[AIt is strongly recommended to pass the `sampling_rate` argument to this function. Failing to do so can result in silent errors that might be hard to debug.\n",
      "\n",
      "\n",
      "\u001b[A\u001b[AIt is strongly recommended to pass the `sampling_rate` argument to this function. Failing to do so can result in silent errors that might be hard to debug.\n",
      "\n",
      "\n",
      "\u001b[A\u001b[AIt is strongly recommended to pass the `sampling_rate` argument to this function. Failing to do so can result in silent errors that might be hard to debug.\n",
      "\n",
      "\n",
      "\u001b[A\u001b[AIt is strongly recommended to pass the `sampling_rate` argument to this function. Failing to do so can result in silent errors that might be hard to debug.\n",
      "\n",
      "\n",
      "\u001b[A\u001b[AIt is strongly recommended to pass the `sampling_rate` argument to this function. Failing to do so can result in silent errors that might be hard to debug.\n",
      "\n",
      "\n",
      "\u001b[A\u001b[AIt is strongly recommended to pass the `sampling_rate` argument to this function. Failing to do so can result in silent errors that might be hard to debug.\n",
      "\n",
      "\n",
      "\u001b[A\u001b[AIt is strongly recommended to pass the `sampling_rate` argument to this function. Failing to do so can result in silent errors that might be hard to debug.\n",
      "\n",
      "\n",
      "\u001b[A\u001b[AIt is strongly recommended to pass the `sampling_rate` argument to this function. Failing to do so can result in silent errors that might be hard to debug.\n",
      "\n",
      "\n",
      "\u001b[A\u001b[AIt is strongly recommended to pass the `sampling_rate` argument to this function. Failing to do so can result in silent errors that might be hard to debug.\n",
      "\n",
      "\n",
      "\u001b[A\u001b[AIt is strongly recommended to pass the `sampling_rate` argument to this function. Failing to do so can result in silent errors that might be hard to debug.\n",
      "\n",
      "\n",
      "\u001b[A\u001b[AIt is strongly recommended to pass the `sampling_rate` argument to this function. Failing to do so can result in silent errors that might be hard to debug.\n",
      "\n",
      "\n",
      "\u001b[A\u001b[AIt is strongly recommended to pass the `sampling_rate` argument to this function. Failing to do so can result in silent errors that might be hard to debug.\n",
      "\n",
      "\n",
      "\u001b[A\u001b[AIt is strongly recommended to pass the `sampling_rate` argument to this function. Failing to do so can result in silent errors that might be hard to debug.\n",
      "\n",
      "\n",
      "\u001b[A\u001b[AIt is strongly recommended to pass the `sampling_rate` argument to this function. Failing to do so can result in silent errors that might be hard to debug.\n",
      "\n",
      "\n",
      "\u001b[A\u001b[AIt is strongly recommended to pass the `sampling_rate` argument to this function. Failing to do so can result in silent errors that might be hard to debug.\n",
      "\n",
      "\n",
      "\u001b[A\u001b[AIt is strongly recommended to pass the `sampling_rate` argument to this function. Failing to do so can result in silent errors that might be hard to debug.\n",
      "\n",
      "\n",
      "\u001b[A\u001b[AIt is strongly recommended to pass the `sampling_rate` argument to this function. Failing to do so can result in silent errors that might be hard to debug.\n",
      "\n",
      "\n",
      "\u001b[A\u001b[AIt is strongly recommended to pass the `sampling_rate` argument to this function. Failing to do so can result in silent errors that might be hard to debug.\n",
      "\n",
      "\n",
      "\u001b[A\u001b[AIt is strongly recommended to pass the `sampling_rate` argument to this function. Failing to do so can result in silent errors that might be hard to debug.\n",
      "\n",
      "\n",
      "\u001b[A\u001b[AIt is strongly recommended to pass the `sampling_rate` argument to this function. Failing to do so can result in silent errors that might be hard to debug.\n",
      "\n",
      "\n",
      "\u001b[A\u001b[AIt is strongly recommended to pass the `sampling_rate` argument to this function. Failing to do so can result in silent errors that might be hard to debug.\n",
      "\n",
      "\n",
      "\u001b[A\u001b[AIt is strongly recommended to pass the `sampling_rate` argument to this function. Failing to do so can result in silent errors that might be hard to debug.\n",
      "\n",
      "\n",
      "\u001b[A\u001b[AIt is strongly recommended to pass the `sampling_rate` argument to this function. Failing to do so can result in silent errors that might be hard to debug.\n",
      "\n",
      "\n",
      "\u001b[A\u001b[AIt is strongly recommended to pass the `sampling_rate` argument to this function. Failing to do so can result in silent errors that might be hard to debug.\n",
      "\n",
      "\n",
      "\u001b[A\u001b[AIt is strongly recommended to pass the `sampling_rate` argument to this function. Failing to do so can result in silent errors that might be hard to debug.\n",
      "\n",
      "\n",
      "\u001b[A\u001b[AIt is strongly recommended to pass the `sampling_rate` argument to this function. Failing to do so can result in silent errors that might be hard to debug.\n",
      "\n",
      "\n",
      "\u001b[A\u001b[AIt is strongly recommended to pass the `sampling_rate` argument to this function. Failing to do so can result in silent errors that might be hard to debug.\n",
      "\n",
      "\n",
      "\u001b[A\u001b[AIt is strongly recommended to pass the `sampling_rate` argument to this function. Failing to do so can result in silent errors that might be hard to debug.\n",
      "\n",
      "\n",
      "\u001b[A\u001b[AIt is strongly recommended to pass the `sampling_rate` argument to this function. Failing to do so can result in silent errors that might be hard to debug.\n",
      "\n",
      "\n",
      "\u001b[A\u001b[AIt is strongly recommended to pass the `sampling_rate` argument to this function. Failing to do so can result in silent errors that might be hard to debug.\n",
      "\n",
      "\n",
      "\u001b[A\u001b[AIt is strongly recommended to pass the `sampling_rate` argument to this function. Failing to do so can result in silent errors that might be hard to debug.\n",
      "\n",
      "\n",
      "\u001b[A\u001b[AIt is strongly recommended to pass the `sampling_rate` argument to this function. Failing to do so can result in silent errors that might be hard to debug.\n",
      "\n",
      "\n",
      "\u001b[A\u001b[AIt is strongly recommended to pass the `sampling_rate` argument to this function. Failing to do so can result in silent errors that might be hard to debug.\n",
      "\n",
      "\n",
      "\u001b[A\u001b[AIt is strongly recommended to pass the `sampling_rate` argument to this function. Failing to do so can result in silent errors that might be hard to debug.\n",
      "\n",
      "\n",
      "\u001b[A\u001b[AIt is strongly recommended to pass the `sampling_rate` argument to this function. Failing to do so can result in silent errors that might be hard to debug.\n",
      "\n",
      "\n",
      "\u001b[A\u001b[AIt is strongly recommended to pass the `sampling_rate` argument to this function. Failing to do so can result in silent errors that might be hard to debug.\n",
      "\n",
      "\n",
      "\u001b[A\u001b[AIt is strongly recommended to pass the `sampling_rate` argument to this function. Failing to do so can result in silent errors that might be hard to debug.\n",
      "\n",
      "\n",
      "\u001b[A\u001b[AIt is strongly recommended to pass the `sampling_rate` argument to this function. Failing to do so can result in silent errors that might be hard to debug.\n",
      "\n",
      "\n",
      "\u001b[A\u001b[AIt is strongly recommended to pass the `sampling_rate` argument to this function. Failing to do so can result in silent errors that might be hard to debug.\n",
      "\n",
      "\n",
      "\u001b[A\u001b[AIt is strongly recommended to pass the `sampling_rate` argument to this function. Failing to do so can result in silent errors that might be hard to debug.\n",
      "\n",
      "\n",
      "\u001b[A\u001b[AIt is strongly recommended to pass the `sampling_rate` argument to this function. Failing to do so can result in silent errors that might be hard to debug.\n",
      "\n",
      "\n",
      "\u001b[A\u001b[AIt is strongly recommended to pass the `sampling_rate` argument to this function. Failing to do so can result in silent errors that might be hard to debug.\n",
      "\n",
      "\n",
      "\u001b[A\u001b[AIt is strongly recommended to pass the `sampling_rate` argument to this function. Failing to do so can result in silent errors that might be hard to debug.\n",
      "\n",
      "\n",
      "\u001b[A\u001b[AIt is strongly recommended to pass the `sampling_rate` argument to this function. Failing to do so can result in silent errors that might be hard to debug.\n",
      "\n",
      "\n",
      "\u001b[A\u001b[AIt is strongly recommended to pass the `sampling_rate` argument to this function. Failing to do so can result in silent errors that might be hard to debug.\n",
      "\n",
      "\n",
      "\u001b[A\u001b[AIt is strongly recommended to pass the `sampling_rate` argument to this function. Failing to do so can result in silent errors that might be hard to debug.\n",
      "\n",
      "\n",
      "\u001b[A\u001b[AIt is strongly recommended to pass the `sampling_rate` argument to this function. Failing to do so can result in silent errors that might be hard to debug.\n",
      "\n",
      "\n",
      "\u001b[A\u001b[AIt is strongly recommended to pass the `sampling_rate` argument to this function. Failing to do so can result in silent errors that might be hard to debug.\n",
      "\n",
      "\n",
      "\u001b[A\u001b[AIt is strongly recommended to pass the `sampling_rate` argument to this function. Failing to do so can result in silent errors that might be hard to debug.\n",
      "\n",
      "\n",
      "\u001b[A\u001b[AIt is strongly recommended to pass the `sampling_rate` argument to this function. Failing to do so can result in silent errors that might be hard to debug.\n",
      "\n",
      "\n",
      "\u001b[A\u001b[AIt is strongly recommended to pass the `sampling_rate` argument to this function. Failing to do so can result in silent errors that might be hard to debug.\n",
      "\n",
      "\n",
      "\u001b[A\u001b[AIt is strongly recommended to pass the `sampling_rate` argument to this function. Failing to do so can result in silent errors that might be hard to debug.\n",
      "\n",
      "\n",
      "\u001b[A\u001b[AIt is strongly recommended to pass the `sampling_rate` argument to this function. Failing to do so can result in silent errors that might be hard to debug.\n",
      "\n",
      "\n",
      "\u001b[A\u001b[AIt is strongly recommended to pass the `sampling_rate` argument to this function. Failing to do so can result in silent errors that might be hard to debug.\n",
      "\n",
      "\n",
      "\u001b[A\u001b[AIt is strongly recommended to pass the `sampling_rate` argument to this function. Failing to do so can result in silent errors that might be hard to debug.\n",
      "\n",
      "\n",
      "\u001b[A\u001b[AIt is strongly recommended to pass the `sampling_rate` argument to this function. Failing to do so can result in silent errors that might be hard to debug.\n",
      "\n",
      "\n",
      "\u001b[A\u001b[AIt is strongly recommended to pass the `sampling_rate` argument to this function. Failing to do so can result in silent errors that might be hard to debug.\n",
      "\n",
      "\n",
      "\u001b[A\u001b[AIt is strongly recommended to pass the `sampling_rate` argument to this function. Failing to do so can result in silent errors that might be hard to debug.\n",
      "\n",
      "\n",
      "\u001b[A\u001b[AIt is strongly recommended to pass the `sampling_rate` argument to this function. Failing to do so can result in silent errors that might be hard to debug.\n",
      "\n",
      "\n",
      "\u001b[A\u001b[AIt is strongly recommended to pass the `sampling_rate` argument to this function. Failing to do so can result in silent errors that might be hard to debug.\n",
      "\n",
      "\n",
      "\u001b[A\u001b[AIt is strongly recommended to pass the `sampling_rate` argument to this function. Failing to do so can result in silent errors that might be hard to debug.\n",
      "\n",
      "\n",
      "\u001b[A\u001b[AIt is strongly recommended to pass the `sampling_rate` argument to this function. Failing to do so can result in silent errors that might be hard to debug.\n",
      "\n",
      "\n",
      "\u001b[A\u001b[AIt is strongly recommended to pass the `sampling_rate` argument to this function. Failing to do so can result in silent errors that might be hard to debug.\n",
      "\n",
      "\n",
      "\u001b[A\u001b[AIt is strongly recommended to pass the `sampling_rate` argument to this function. Failing to do so can result in silent errors that might be hard to debug.\n",
      "\n",
      "\n",
      "\u001b[A\u001b[AIt is strongly recommended to pass the `sampling_rate` argument to this function. Failing to do so can result in silent errors that might be hard to debug.\n",
      "\n",
      "\n",
      "\u001b[A\u001b[AIt is strongly recommended to pass the `sampling_rate` argument to this function. Failing to do so can result in silent errors that might be hard to debug.\n",
      "\n",
      "\n",
      "\u001b[A\u001b[AIt is strongly recommended to pass the `sampling_rate` argument to this function. Failing to do so can result in silent errors that might be hard to debug.\n",
      "\n",
      "\n",
      "\u001b[A\u001b[AIt is strongly recommended to pass the `sampling_rate` argument to this function. Failing to do so can result in silent errors that might be hard to debug.\n",
      "\n",
      "\n",
      "\u001b[A\u001b[AIt is strongly recommended to pass the `sampling_rate` argument to this function. Failing to do so can result in silent errors that might be hard to debug.\n",
      "\n",
      "\n",
      "\u001b[A\u001b[AIt is strongly recommended to pass the `sampling_rate` argument to this function. Failing to do so can result in silent errors that might be hard to debug.\n",
      "\n",
      "\n",
      "\u001b[A\u001b[AIt is strongly recommended to pass the `sampling_rate` argument to this function. Failing to do so can result in silent errors that might be hard to debug.\n",
      "\n",
      "\n",
      "\u001b[A\u001b[AIt is strongly recommended to pass the `sampling_rate` argument to this function. Failing to do so can result in silent errors that might be hard to debug.\n",
      "\n",
      "\n",
      "\u001b[A\u001b[AIt is strongly recommended to pass the `sampling_rate` argument to this function. Failing to do so can result in silent errors that might be hard to debug.\n",
      "\n",
      "\n",
      "\u001b[A\u001b[AIt is strongly recommended to pass the `sampling_rate` argument to this function. Failing to do so can result in silent errors that might be hard to debug.\n",
      "\n",
      "\n",
      "\u001b[A\u001b[AIt is strongly recommended to pass the `sampling_rate` argument to this function. Failing to do so can result in silent errors that might be hard to debug.\n",
      "\n",
      "\n",
      "\u001b[A\u001b[AIt is strongly recommended to pass the `sampling_rate` argument to this function. Failing to do so can result in silent errors that might be hard to debug.\n",
      "\n",
      "\n",
      "\u001b[A\u001b[AIt is strongly recommended to pass the `sampling_rate` argument to this function. Failing to do so can result in silent errors that might be hard to debug.\n",
      "\n",
      "\n",
      "\u001b[A\u001b[AIt is strongly recommended to pass the `sampling_rate` argument to this function. Failing to do so can result in silent errors that might be hard to debug.\n",
      "\n",
      "\n",
      "\u001b[A\u001b[AIt is strongly recommended to pass the `sampling_rate` argument to this function. Failing to do so can result in silent errors that might be hard to debug.\n",
      "\n",
      "\n",
      "\u001b[A\u001b[AIt is strongly recommended to pass the `sampling_rate` argument to this function. Failing to do so can result in silent errors that might be hard to debug.\n",
      "\n",
      "\n",
      "\u001b[A\u001b[AIt is strongly recommended to pass the `sampling_rate` argument to this function. Failing to do so can result in silent errors that might be hard to debug.\n",
      "It is strongly recommended to pass the `sampling_rate` argument to this function. Failing to do so can result in silent errors that might be hard to debug.\n",
      "\n",
      "\n",
      "\u001b[A\u001b[AIt is strongly recommended to pass the `sampling_rate` argument to this function. Failing to do so can result in silent errors that might be hard to debug.\n",
      "\n",
      "\n",
      "\u001b[A\u001b[AIt is strongly recommended to pass the `sampling_rate` argument to this function. Failing to do so can result in silent errors that might be hard to debug.\n",
      "\n",
      "\n",
      "\u001b[A\u001b[AIt is strongly recommended to pass the `sampling_rate` argument to this function. Failing to do so can result in silent errors that might be hard to debug.\n",
      "\n",
      "\n",
      "\u001b[A\u001b[AIt is strongly recommended to pass the `sampling_rate` argument to this function. Failing to do so can result in silent errors that might be hard to debug.\n",
      "\n",
      "\n",
      "\u001b[A\u001b[AIt is strongly recommended to pass the `sampling_rate` argument to this function. Failing to do so can result in silent errors that might be hard to debug.\n",
      "\n",
      "\n",
      "\u001b[A\u001b[AIt is strongly recommended to pass the `sampling_rate` argument to this function. Failing to do so can result in silent errors that might be hard to debug.\n",
      "\n",
      "\n",
      "\u001b[A\u001b[AIt is strongly recommended to pass the `sampling_rate` argument to this function. Failing to do so can result in silent errors that might be hard to debug.\n",
      "\n",
      "\n",
      "\u001b[A\u001b[AIt is strongly recommended to pass the `sampling_rate` argument to this function. Failing to do so can result in silent errors that might be hard to debug.\n",
      "\n",
      "\n",
      "\u001b[A\u001b[AIt is strongly recommended to pass the `sampling_rate` argument to this function. Failing to do so can result in silent errors that might be hard to debug.\n",
      "\n",
      "\n",
      "\u001b[A\u001b[AIt is strongly recommended to pass the `sampling_rate` argument to this function. Failing to do so can result in silent errors that might be hard to debug.\n",
      "\n",
      "\n",
      "\u001b[A\u001b[AIt is strongly recommended to pass the `sampling_rate` argument to this function. Failing to do so can result in silent errors that might be hard to debug.\n",
      "\n",
      "\n",
      "\u001b[A\u001b[AIt is strongly recommended to pass the `sampling_rate` argument to this function. Failing to do so can result in silent errors that might be hard to debug.\n",
      "\n",
      "\n",
      "\u001b[A\u001b[AIt is strongly recommended to pass the `sampling_rate` argument to this function. Failing to do so can result in silent errors that might be hard to debug.\n",
      "\n",
      "\n",
      "\u001b[A\u001b[AIt is strongly recommended to pass the `sampling_rate` argument to this function. Failing to do so can result in silent errors that might be hard to debug.\n",
      "\n",
      "\n",
      "\u001b[A\u001b[AIt is strongly recommended to pass the `sampling_rate` argument to this function. Failing to do so can result in silent errors that might be hard to debug.\n",
      "\n",
      "\n",
      "\u001b[A\u001b[AIt is strongly recommended to pass the `sampling_rate` argument to this function. Failing to do so can result in silent errors that might be hard to debug.\n",
      "\n",
      "\n",
      "\u001b[A\u001b[AIt is strongly recommended to pass the `sampling_rate` argument to this function. Failing to do so can result in silent errors that might be hard to debug.\n",
      "\n",
      "\n",
      "\u001b[A\u001b[AIt is strongly recommended to pass the `sampling_rate` argument to this function. Failing to do so can result in silent errors that might be hard to debug.\n",
      "\n",
      "\n",
      "\u001b[A\u001b[AIt is strongly recommended to pass the `sampling_rate` argument to this function. Failing to do so can result in silent errors that might be hard to debug.\n",
      "\n",
      "\n",
      "\u001b[A\u001b[AIt is strongly recommended to pass the `sampling_rate` argument to this function. Failing to do so can result in silent errors that might be hard to debug.\n",
      "\n",
      "\n",
      "\u001b[A\u001b[AIt is strongly recommended to pass the `sampling_rate` argument to this function. Failing to do so can result in silent errors that might be hard to debug.\n",
      "\n",
      "\n",
      "\u001b[A\u001b[AIt is strongly recommended to pass the `sampling_rate` argument to this function. Failing to do so can result in silent errors that might be hard to debug.\n",
      "\n",
      "\n",
      "\u001b[A\u001b[AIt is strongly recommended to pass the `sampling_rate` argument to this function. Failing to do so can result in silent errors that might be hard to debug.\n",
      "\n",
      "\n",
      "\u001b[A\u001b[AIt is strongly recommended to pass the `sampling_rate` argument to this function. Failing to do so can result in silent errors that might be hard to debug.\n",
      "\n",
      "\n",
      "\u001b[A\u001b[AIt is strongly recommended to pass the `sampling_rate` argument to this function. Failing to do so can result in silent errors that might be hard to debug.\n",
      "\n",
      "\n",
      "\u001b[A\u001b[AIt is strongly recommended to pass the `sampling_rate` argument to this function. Failing to do so can result in silent errors that might be hard to debug.\n",
      "\n",
      "\n",
      "\u001b[A\u001b[AIt is strongly recommended to pass the `sampling_rate` argument to this function. Failing to do so can result in silent errors that might be hard to debug.\n",
      "\n",
      "\n",
      "\u001b[A\u001b[AIt is strongly recommended to pass the `sampling_rate` argument to this function. Failing to do so can result in silent errors that might be hard to debug.\n",
      "\n",
      "\n",
      "\u001b[A\u001b[AIt is strongly recommended to pass the `sampling_rate` argument to this function. Failing to do so can result in silent errors that might be hard to debug.\n",
      "\n",
      "\n",
      "\u001b[A\u001b[AIt is strongly recommended to pass the `sampling_rate` argument to this function. Failing to do so can result in silent errors that might be hard to debug.\n",
      "\n",
      "\n",
      "\u001b[A\u001b[AIt is strongly recommended to pass the `sampling_rate` argument to this function. Failing to do so can result in silent errors that might be hard to debug.\n",
      "\n",
      "\n",
      "\u001b[A\u001b[AIt is strongly recommended to pass the `sampling_rate` argument to this function. Failing to do so can result in silent errors that might be hard to debug.\n",
      "\n",
      "\n",
      "\u001b[A\u001b[AIt is strongly recommended to pass the `sampling_rate` argument to this function. Failing to do so can result in silent errors that might be hard to debug.\n",
      "\n",
      "\n",
      "\u001b[A\u001b[AIt is strongly recommended to pass the `sampling_rate` argument to this function. Failing to do so can result in silent errors that might be hard to debug.\n",
      "\n",
      "\n",
      "\u001b[A\u001b[AIt is strongly recommended to pass the `sampling_rate` argument to this function. Failing to do so can result in silent errors that might be hard to debug.\n",
      "\n",
      "\n",
      "\u001b[A\u001b[AIt is strongly recommended to pass the `sampling_rate` argument to this function. Failing to do so can result in silent errors that might be hard to debug.\n",
      "\n",
      "\n",
      "\u001b[A\u001b[AIt is strongly recommended to pass the `sampling_rate` argument to this function. Failing to do so can result in silent errors that might be hard to debug.\n",
      "\n",
      "\n",
      "\u001b[A\u001b[AIt is strongly recommended to pass the `sampling_rate` argument to this function. Failing to do so can result in silent errors that might be hard to debug.\n",
      "\n",
      "\n",
      "\u001b[A\u001b[AIt is strongly recommended to pass the `sampling_rate` argument to this function. Failing to do so can result in silent errors that might be hard to debug.\n",
      "\n",
      "\n",
      "\u001b[A\u001b[AIt is strongly recommended to pass the `sampling_rate` argument to this function. Failing to do so can result in silent errors that might be hard to debug.\n",
      "It is strongly recommended to pass the `sampling_rate` argument to this function. Failing to do so can result in silent errors that might be hard to debug.\n",
      "\n",
      "\n",
      "\u001b[A\u001b[AIt is strongly recommended to pass the `sampling_rate` argument to this function. Failing to do so can result in silent errors that might be hard to debug.\n",
      "\n",
      "\n",
      "\u001b[A\u001b[AIt is strongly recommended to pass the `sampling_rate` argument to this function. Failing to do so can result in silent errors that might be hard to debug.\n",
      "\n",
      "\n",
      "\u001b[A\u001b[AIt is strongly recommended to pass the `sampling_rate` argument to this function. Failing to do so can result in silent errors that might be hard to debug.\n",
      "\n",
      "\n",
      "\u001b[A\u001b[AIt is strongly recommended to pass the `sampling_rate` argument to this function. Failing to do so can result in silent errors that might be hard to debug.\n",
      "\n",
      "\n",
      "\u001b[A\u001b[AIt is strongly recommended to pass the `sampling_rate` argument to this function. Failing to do so can result in silent errors that might be hard to debug.\n",
      "\n",
      "\n",
      "\u001b[A\u001b[AIt is strongly recommended to pass the `sampling_rate` argument to this function. Failing to do so can result in silent errors that might be hard to debug.\n",
      "\n",
      "\n",
      "\u001b[A\u001b[AIt is strongly recommended to pass the `sampling_rate` argument to this function. Failing to do so can result in silent errors that might be hard to debug.\n",
      "\n",
      "\n",
      "\u001b[A\u001b[AIt is strongly recommended to pass the `sampling_rate` argument to this function. Failing to do so can result in silent errors that might be hard to debug.\n",
      "\n",
      "\n",
      "\u001b[A\u001b[AIt is strongly recommended to pass the `sampling_rate` argument to this function. Failing to do so can result in silent errors that might be hard to debug.\n",
      "\n",
      "\n",
      "\u001b[A\u001b[AIt is strongly recommended to pass the `sampling_rate` argument to this function. Failing to do so can result in silent errors that might be hard to debug.\n",
      "\n",
      "\n",
      "\u001b[A\u001b[AIt is strongly recommended to pass the `sampling_rate` argument to this function. Failing to do so can result in silent errors that might be hard to debug.\n",
      "\n",
      "\n",
      "\u001b[A\u001b[AIt is strongly recommended to pass the `sampling_rate` argument to this function. Failing to do so can result in silent errors that might be hard to debug.\n",
      "\n",
      "\n",
      "\u001b[A\u001b[AIt is strongly recommended to pass the `sampling_rate` argument to this function. Failing to do so can result in silent errors that might be hard to debug.\n",
      "\n",
      "\n",
      "\u001b[A\u001b[AIt is strongly recommended to pass the `sampling_rate` argument to this function. Failing to do so can result in silent errors that might be hard to debug.\n",
      "\n",
      "\n",
      "\u001b[A\u001b[AIt is strongly recommended to pass the `sampling_rate` argument to this function. Failing to do so can result in silent errors that might be hard to debug.\n",
      "\n",
      "\n",
      "\u001b[A\u001b[AIt is strongly recommended to pass the `sampling_rate` argument to this function. Failing to do so can result in silent errors that might be hard to debug.\n",
      "\n",
      "\n",
      "\u001b[A\u001b[AIt is strongly recommended to pass the `sampling_rate` argument to this function. Failing to do so can result in silent errors that might be hard to debug.\n",
      "\n",
      "\n",
      "\u001b[A\u001b[AIt is strongly recommended to pass the `sampling_rate` argument to this function. Failing to do so can result in silent errors that might be hard to debug.\n",
      "\n",
      "\n",
      "\u001b[A\u001b[AIt is strongly recommended to pass the `sampling_rate` argument to this function. Failing to do so can result in silent errors that might be hard to debug.\n",
      "\n",
      "\n",
      "\u001b[A\u001b[AIt is strongly recommended to pass the `sampling_rate` argument to this function. Failing to do so can result in silent errors that might be hard to debug.\n",
      "\n",
      "\n",
      "\u001b[A\u001b[AIt is strongly recommended to pass the `sampling_rate` argument to this function. Failing to do so can result in silent errors that might be hard to debug.\n",
      "\n",
      "\n",
      "\u001b[A\u001b[AIt is strongly recommended to pass the `sampling_rate` argument to this function. Failing to do so can result in silent errors that might be hard to debug.\n",
      "\n",
      "\n",
      "\u001b[A\u001b[AIt is strongly recommended to pass the `sampling_rate` argument to this function. Failing to do so can result in silent errors that might be hard to debug.\n",
      "\n",
      "\n",
      "\u001b[A\u001b[AIt is strongly recommended to pass the `sampling_rate` argument to this function. Failing to do so can result in silent errors that might be hard to debug.\n",
      "\n",
      "\n",
      "\u001b[A\u001b[AIt is strongly recommended to pass the `sampling_rate` argument to this function. Failing to do so can result in silent errors that might be hard to debug.\n",
      "\n",
      "\n",
      "\u001b[A\u001b[AIt is strongly recommended to pass the `sampling_rate` argument to this function. Failing to do so can result in silent errors that might be hard to debug.\n",
      "\n",
      "\n",
      "\u001b[A\u001b[AIt is strongly recommended to pass the `sampling_rate` argument to this function. Failing to do so can result in silent errors that might be hard to debug.\n",
      "\n",
      "\n",
      "\u001b[A\u001b[AIt is strongly recommended to pass the `sampling_rate` argument to this function. Failing to do so can result in silent errors that might be hard to debug.\n",
      "\n",
      "\n",
      "\u001b[A\u001b[AIt is strongly recommended to pass the `sampling_rate` argument to this function. Failing to do so can result in silent errors that might be hard to debug.\n",
      "\n",
      "\n",
      "\u001b[A\u001b[AIt is strongly recommended to pass the `sampling_rate` argument to this function. Failing to do so can result in silent errors that might be hard to debug.\n",
      "\n",
      "\n",
      "\u001b[A\u001b[AIt is strongly recommended to pass the `sampling_rate` argument to this function. Failing to do so can result in silent errors that might be hard to debug.\n",
      "\n",
      "\n",
      "\u001b[A\u001b[AIt is strongly recommended to pass the `sampling_rate` argument to this function. Failing to do so can result in silent errors that might be hard to debug.\n",
      "\n",
      "\n",
      "\u001b[A\u001b[AIt is strongly recommended to pass the `sampling_rate` argument to this function. Failing to do so can result in silent errors that might be hard to debug.\n",
      "\n",
      "\n",
      "\u001b[A\u001b[AIt is strongly recommended to pass the `sampling_rate` argument to this function. Failing to do so can result in silent errors that might be hard to debug.\n",
      "\n",
      "\n",
      "\u001b[A\u001b[AIt is strongly recommended to pass the `sampling_rate` argument to this function. Failing to do so can result in silent errors that might be hard to debug.\n",
      "\n",
      "\n",
      "\u001b[A\u001b[AIt is strongly recommended to pass the `sampling_rate` argument to this function. Failing to do so can result in silent errors that might be hard to debug.\n",
      "\n",
      "\n",
      "\u001b[A\u001b[AIt is strongly recommended to pass the `sampling_rate` argument to this function. Failing to do so can result in silent errors that might be hard to debug.\n",
      "\n",
      "\n",
      "\u001b[A\u001b[AIt is strongly recommended to pass the `sampling_rate` argument to this function. Failing to do so can result in silent errors that might be hard to debug.\n",
      "\n",
      "\n",
      "\u001b[A\u001b[AIt is strongly recommended to pass the `sampling_rate` argument to this function. Failing to do so can result in silent errors that might be hard to debug.\n",
      "\n",
      "\n",
      "\u001b[A\u001b[AIt is strongly recommended to pass the `sampling_rate` argument to this function. Failing to do so can result in silent errors that might be hard to debug.\n",
      "\n",
      "\n",
      "\u001b[A\u001b[AIt is strongly recommended to pass the `sampling_rate` argument to this function. Failing to do so can result in silent errors that might be hard to debug.\n",
      "\n",
      "\n",
      "\u001b[A\u001b[AIt is strongly recommended to pass the `sampling_rate` argument to this function. Failing to do so can result in silent errors that might be hard to debug.\n",
      "\n",
      "\n",
      "\u001b[A\u001b[AIt is strongly recommended to pass the `sampling_rate` argument to this function. Failing to do so can result in silent errors that might be hard to debug.\n",
      "\n",
      "\n",
      "\u001b[A\u001b[AIt is strongly recommended to pass the `sampling_rate` argument to this function. Failing to do so can result in silent errors that might be hard to debug.\n",
      "\n",
      "\n",
      "\u001b[A\u001b[AIt is strongly recommended to pass the `sampling_rate` argument to this function. Failing to do so can result in silent errors that might be hard to debug.\n",
      "\n",
      "\n",
      "\u001b[A\u001b[AIt is strongly recommended to pass the `sampling_rate` argument to this function. Failing to do so can result in silent errors that might be hard to debug.\n",
      "\n",
      "\n",
      "\u001b[A\u001b[AIt is strongly recommended to pass the `sampling_rate` argument to this function. Failing to do so can result in silent errors that might be hard to debug.\n",
      "\n",
      "\n",
      "\u001b[A\u001b[AIt is strongly recommended to pass the `sampling_rate` argument to this function. Failing to do so can result in silent errors that might be hard to debug.\n",
      "\n",
      "\n",
      "\u001b[A\u001b[AIt is strongly recommended to pass the `sampling_rate` argument to this function. Failing to do so can result in silent errors that might be hard to debug.\n",
      "\n",
      "\n",
      "\u001b[A\u001b[AIt is strongly recommended to pass the `sampling_rate` argument to this function. Failing to do so can result in silent errors that might be hard to debug.\n",
      "\n",
      "\n",
      "\u001b[A\u001b[AIt is strongly recommended to pass the `sampling_rate` argument to this function. Failing to do so can result in silent errors that might be hard to debug.\n",
      "\n",
      "\n",
      "\u001b[A\u001b[AIt is strongly recommended to pass the `sampling_rate` argument to this function. Failing to do so can result in silent errors that might be hard to debug.\n",
      "\n",
      "\n",
      "\u001b[A\u001b[AIt is strongly recommended to pass the `sampling_rate` argument to this function. Failing to do so can result in silent errors that might be hard to debug.\n",
      "\n",
      "\n",
      "\u001b[A\u001b[AIt is strongly recommended to pass the `sampling_rate` argument to this function. Failing to do so can result in silent errors that might be hard to debug.\n",
      "\n",
      "\n",
      "\u001b[A\u001b[AIt is strongly recommended to pass the `sampling_rate` argument to this function. Failing to do so can result in silent errors that might be hard to debug.\n",
      "\n",
      "\n",
      "\u001b[A\u001b[AIt is strongly recommended to pass the `sampling_rate` argument to this function. Failing to do so can result in silent errors that might be hard to debug.\n",
      "\n",
      "\n",
      "\u001b[A\u001b[AIt is strongly recommended to pass the `sampling_rate` argument to this function. Failing to do so can result in silent errors that might be hard to debug.\n",
      "\n",
      "\n",
      "\u001b[A\u001b[AIt is strongly recommended to pass the `sampling_rate` argument to this function. Failing to do so can result in silent errors that might be hard to debug.\n",
      "\n",
      "\n",
      "\u001b[A\u001b[AIt is strongly recommended to pass the `sampling_rate` argument to this function. Failing to do so can result in silent errors that might be hard to debug.\n",
      "\n",
      "\n",
      "\u001b[A\u001b[AIt is strongly recommended to pass the `sampling_rate` argument to this function. Failing to do so can result in silent errors that might be hard to debug.\n",
      "\n",
      "\n",
      "\u001b[A\u001b[AIt is strongly recommended to pass the `sampling_rate` argument to this function. Failing to do so can result in silent errors that might be hard to debug.\n",
      "\n",
      "\n",
      "\u001b[A\u001b[AIt is strongly recommended to pass the `sampling_rate` argument to this function. Failing to do so can result in silent errors that might be hard to debug.\n",
      "\n",
      "\n",
      "\u001b[A\u001b[AIt is strongly recommended to pass the `sampling_rate` argument to this function. Failing to do so can result in silent errors that might be hard to debug.\n",
      "\n",
      "\n",
      "\u001b[A\u001b[AIt is strongly recommended to pass the `sampling_rate` argument to this function. Failing to do so can result in silent errors that might be hard to debug.\n",
      "\n",
      "\n",
      "\u001b[A\u001b[AIt is strongly recommended to pass the `sampling_rate` argument to this function. Failing to do so can result in silent errors that might be hard to debug.\n",
      "\n",
      "\n",
      "\u001b[A\u001b[AIt is strongly recommended to pass the `sampling_rate` argument to this function. Failing to do so can result in silent errors that might be hard to debug.\n",
      "\n",
      "\n",
      "\u001b[A\u001b[AIt is strongly recommended to pass the `sampling_rate` argument to this function. Failing to do so can result in silent errors that might be hard to debug.\n",
      "\n",
      "\n",
      "\u001b[A\u001b[AIt is strongly recommended to pass the `sampling_rate` argument to this function. Failing to do so can result in silent errors that might be hard to debug.\n",
      "\n",
      "\n",
      "\u001b[A\u001b[AIt is strongly recommended to pass the `sampling_rate` argument to this function. Failing to do so can result in silent errors that might be hard to debug.\n",
      "\n",
      "\n",
      "\u001b[A\u001b[AIt is strongly recommended to pass the `sampling_rate` argument to this function. Failing to do so can result in silent errors that might be hard to debug.\n",
      "\n",
      "\n",
      "\u001b[A\u001b[AIt is strongly recommended to pass the `sampling_rate` argument to this function. Failing to do so can result in silent errors that might be hard to debug.\n",
      "\n",
      "\n",
      "\u001b[A\u001b[AIt is strongly recommended to pass the `sampling_rate` argument to this function. Failing to do so can result in silent errors that might be hard to debug.\n",
      "\n",
      "\n",
      "\u001b[A\u001b[AIt is strongly recommended to pass the `sampling_rate` argument to this function. Failing to do so can result in silent errors that might be hard to debug.\n",
      "\n",
      "\n",
      "\u001b[A\u001b[AIt is strongly recommended to pass the `sampling_rate` argument to this function. Failing to do so can result in silent errors that might be hard to debug.\n",
      "\n",
      "\n",
      "\u001b[A\u001b[AIt is strongly recommended to pass the `sampling_rate` argument to this function. Failing to do so can result in silent errors that might be hard to debug.\n",
      "\n",
      "\n",
      "\u001b[A\u001b[AIt is strongly recommended to pass the `sampling_rate` argument to this function. Failing to do so can result in silent errors that might be hard to debug.\n",
      "\n",
      "\n",
      "\u001b[A\u001b[AIt is strongly recommended to pass the `sampling_rate` argument to this function. Failing to do so can result in silent errors that might be hard to debug.\n",
      "\n",
      "\n",
      "\u001b[A\u001b[AIt is strongly recommended to pass the `sampling_rate` argument to this function. Failing to do so can result in silent errors that might be hard to debug.\n",
      "\n",
      "\n",
      "\u001b[A\u001b[AIt is strongly recommended to pass the `sampling_rate` argument to this function. Failing to do so can result in silent errors that might be hard to debug.\n",
      "\n",
      "\n",
      "\u001b[A\u001b[AIt is strongly recommended to pass the `sampling_rate` argument to this function. Failing to do so can result in silent errors that might be hard to debug.\n",
      "\n",
      "\n",
      "\u001b[A\u001b[AIt is strongly recommended to pass the `sampling_rate` argument to this function. Failing to do so can result in silent errors that might be hard to debug.\n",
      "\n",
      "\n",
      "\u001b[A\u001b[AIt is strongly recommended to pass the `sampling_rate` argument to this function. Failing to do so can result in silent errors that might be hard to debug.\n",
      "\n",
      "\n",
      "\u001b[A\u001b[AIt is strongly recommended to pass the `sampling_rate` argument to this function. Failing to do so can result in silent errors that might be hard to debug.\n",
      "\n",
      "\n",
      "\u001b[A\u001b[AIt is strongly recommended to pass the `sampling_rate` argument to this function. Failing to do so can result in silent errors that might be hard to debug.\n",
      "\n",
      "\n",
      "\u001b[A\u001b[AIt is strongly recommended to pass the `sampling_rate` argument to this function. Failing to do so can result in silent errors that might be hard to debug.\n",
      "\n",
      "\n",
      "\u001b[A\u001b[AIt is strongly recommended to pass the `sampling_rate` argument to this function. Failing to do so can result in silent errors that might be hard to debug.\n",
      "\n",
      "\n",
      "\u001b[A\u001b[AIt is strongly recommended to pass the `sampling_rate` argument to this function. Failing to do so can result in silent errors that might be hard to debug.\n",
      "\n",
      "\n",
      "\u001b[A\u001b[AIt is strongly recommended to pass the `sampling_rate` argument to this function. Failing to do so can result in silent errors that might be hard to debug.\n",
      "\n",
      "\n",
      "\u001b[A\u001b[AIt is strongly recommended to pass the `sampling_rate` argument to this function. Failing to do so can result in silent errors that might be hard to debug.\n",
      "\n",
      "\n",
      "\u001b[A\u001b[AIt is strongly recommended to pass the `sampling_rate` argument to this function. Failing to do so can result in silent errors that might be hard to debug.\n",
      "\n",
      "\n",
      "\u001b[A\u001b[AIt is strongly recommended to pass the `sampling_rate` argument to this function. Failing to do so can result in silent errors that might be hard to debug.\n",
      "\n",
      "\n",
      "\u001b[A\u001b[AIt is strongly recommended to pass the `sampling_rate` argument to this function. Failing to do so can result in silent errors that might be hard to debug.\n",
      "\n",
      "\n",
      "\u001b[A\u001b[AIt is strongly recommended to pass the `sampling_rate` argument to this function. Failing to do so can result in silent errors that might be hard to debug.\n",
      "\n",
      "\n",
      "\u001b[A\u001b[AIt is strongly recommended to pass the `sampling_rate` argument to this function. Failing to do so can result in silent errors that might be hard to debug.\n",
      "\n",
      "\n",
      "\u001b[A\u001b[AIt is strongly recommended to pass the `sampling_rate` argument to this function. Failing to do so can result in silent errors that might be hard to debug.\n",
      "\n",
      "\n",
      "\u001b[A\u001b[AIt is strongly recommended to pass the `sampling_rate` argument to this function. Failing to do so can result in silent errors that might be hard to debug.\n",
      "\n",
      "\n",
      "\u001b[A\u001b[AIt is strongly recommended to pass the `sampling_rate` argument to this function. Failing to do so can result in silent errors that might be hard to debug.\n",
      "\n",
      "\n",
      "\u001b[A\u001b[AIt is strongly recommended to pass the `sampling_rate` argument to this function. Failing to do so can result in silent errors that might be hard to debug.\n",
      "\n",
      "\n",
      "\u001b[A\u001b[AIt is strongly recommended to pass the `sampling_rate` argument to this function. Failing to do so can result in silent errors that might be hard to debug.\n",
      "\n",
      "\n",
      "\u001b[A\u001b[AIt is strongly recommended to pass the `sampling_rate` argument to this function. Failing to do so can result in silent errors that might be hard to debug.\n",
      "\n",
      "\n",
      "\u001b[A\u001b[AIt is strongly recommended to pass the `sampling_rate` argument to this function. Failing to do so can result in silent errors that might be hard to debug.\n",
      "\n",
      "\n",
      "\u001b[A\u001b[AIt is strongly recommended to pass the `sampling_rate` argument to this function. Failing to do so can result in silent errors that might be hard to debug.\n",
      "\n",
      "\n",
      "\u001b[A\u001b[AIt is strongly recommended to pass the `sampling_rate` argument to this function. Failing to do so can result in silent errors that might be hard to debug.\n",
      "\n",
      "\n",
      "\u001b[A\u001b[AIt is strongly recommended to pass the `sampling_rate` argument to this function. Failing to do so can result in silent errors that might be hard to debug.\n",
      "\n",
      "\n",
      "\u001b[A\u001b[AIt is strongly recommended to pass the `sampling_rate` argument to this function. Failing to do so can result in silent errors that might be hard to debug.\n",
      "\n",
      "\n",
      "\u001b[A\u001b[AIt is strongly recommended to pass the `sampling_rate` argument to this function. Failing to do so can result in silent errors that might be hard to debug.\n",
      "\n",
      "\n",
      "\u001b[A\u001b[AIt is strongly recommended to pass the `sampling_rate` argument to this function. Failing to do so can result in silent errors that might be hard to debug.\n",
      "\n",
      "\n",
      "\u001b[A\u001b[AIt is strongly recommended to pass the `sampling_rate` argument to this function. Failing to do so can result in silent errors that might be hard to debug.\n",
      "\n",
      "\n",
      "\u001b[A\u001b[AIt is strongly recommended to pass the `sampling_rate` argument to this function. Failing to do so can result in silent errors that might be hard to debug.\n",
      "\n",
      "\n",
      "\u001b[A\u001b[AIt is strongly recommended to pass the `sampling_rate` argument to this function. Failing to do so can result in silent errors that might be hard to debug.\n",
      "\n",
      "\n",
      "\u001b[A\u001b[AIt is strongly recommended to pass the `sampling_rate` argument to this function. Failing to do so can result in silent errors that might be hard to debug.\n",
      "\n",
      "\n",
      "\u001b[A\u001b[AIt is strongly recommended to pass the `sampling_rate` argument to this function. Failing to do so can result in silent errors that might be hard to debug.\n",
      "\n",
      "\n",
      "\u001b[A\u001b[AIt is strongly recommended to pass the `sampling_rate` argument to this function. Failing to do so can result in silent errors that might be hard to debug.\n",
      "\n",
      "\n",
      "\u001b[A\u001b[AIt is strongly recommended to pass the `sampling_rate` argument to this function. Failing to do so can result in silent errors that might be hard to debug.\n",
      "\n",
      "\n",
      "\u001b[A\u001b[AIt is strongly recommended to pass the `sampling_rate` argument to this function. Failing to do so can result in silent errors that might be hard to debug.\n",
      "\n",
      "\n",
      "\u001b[A\u001b[AIt is strongly recommended to pass the `sampling_rate` argument to this function. Failing to do so can result in silent errors that might be hard to debug.\n",
      "\n",
      "\n",
      "\u001b[A\u001b[AIt is strongly recommended to pass the `sampling_rate` argument to this function. Failing to do so can result in silent errors that might be hard to debug.\n",
      "\n",
      "\n",
      "\u001b[A\u001b[AIt is strongly recommended to pass the `sampling_rate` argument to this function. Failing to do so can result in silent errors that might be hard to debug.\n",
      "\n",
      "\n",
      "\u001b[A\u001b[AIt is strongly recommended to pass the `sampling_rate` argument to this function. Failing to do so can result in silent errors that might be hard to debug.\n",
      "\n",
      "\n",
      "\u001b[A\u001b[AIt is strongly recommended to pass the `sampling_rate` argument to this function. Failing to do so can result in silent errors that might be hard to debug.\n",
      "\n",
      "\n",
      "\u001b[A\u001b[AIt is strongly recommended to pass the `sampling_rate` argument to this function. Failing to do so can result in silent errors that might be hard to debug.\n",
      "\n",
      "\n",
      "\u001b[A\u001b[AIt is strongly recommended to pass the `sampling_rate` argument to this function. Failing to do so can result in silent errors that might be hard to debug.\n",
      "\n",
      "\n",
      "\u001b[A\u001b[AIt is strongly recommended to pass the `sampling_rate` argument to this function. Failing to do so can result in silent errors that might be hard to debug.\n",
      "\n",
      "\n",
      "\u001b[A\u001b[AIt is strongly recommended to pass the `sampling_rate` argument to this function. Failing to do so can result in silent errors that might be hard to debug.\n",
      "\n",
      "\n",
      "\u001b[A\u001b[AIt is strongly recommended to pass the `sampling_rate` argument to this function. Failing to do so can result in silent errors that might be hard to debug.\n",
      "\n",
      "\n",
      "\u001b[A\u001b[AIt is strongly recommended to pass the `sampling_rate` argument to this function. Failing to do so can result in silent errors that might be hard to debug.\n",
      "\n",
      "\n",
      "\u001b[A\u001b[AIt is strongly recommended to pass the `sampling_rate` argument to this function. Failing to do so can result in silent errors that might be hard to debug.\n",
      "\n",
      "\n",
      "\u001b[A\u001b[AIt is strongly recommended to pass the `sampling_rate` argument to this function. Failing to do so can result in silent errors that might be hard to debug.\n",
      "\n",
      "\n",
      "\u001b[A\u001b[AIt is strongly recommended to pass the `sampling_rate` argument to this function. Failing to do so can result in silent errors that might be hard to debug.\n",
      "\n",
      "\n",
      "\u001b[A\u001b[AIt is strongly recommended to pass the `sampling_rate` argument to this function. Failing to do so can result in silent errors that might be hard to debug.\n",
      "\n",
      "\n",
      "\u001b[A\u001b[AIt is strongly recommended to pass the `sampling_rate` argument to this function. Failing to do so can result in silent errors that might be hard to debug.\n",
      "\n",
      "\n",
      "\u001b[A\u001b[AIt is strongly recommended to pass the `sampling_rate` argument to this function. Failing to do so can result in silent errors that might be hard to debug.\n",
      "\n",
      "\n",
      "\u001b[A\u001b[AIt is strongly recommended to pass the `sampling_rate` argument to this function. Failing to do so can result in silent errors that might be hard to debug.\n",
      "\n",
      "\n",
      "\u001b[A\u001b[AIt is strongly recommended to pass the `sampling_rate` argument to this function. Failing to do so can result in silent errors that might be hard to debug.\n",
      "\n",
      "\n",
      "\u001b[A\u001b[AIt is strongly recommended to pass the `sampling_rate` argument to this function. Failing to do so can result in silent errors that might be hard to debug.\n",
      "\n",
      "\n",
      "\u001b[A\u001b[AIt is strongly recommended to pass the `sampling_rate` argument to this function. Failing to do so can result in silent errors that might be hard to debug.\n",
      "\n",
      "\n",
      "\u001b[A\u001b[AIt is strongly recommended to pass the `sampling_rate` argument to this function. Failing to do so can result in silent errors that might be hard to debug.\n",
      "\n",
      "\n",
      "\u001b[A\u001b[AIt is strongly recommended to pass the `sampling_rate` argument to this function. Failing to do so can result in silent errors that might be hard to debug.\n",
      "\n",
      "\n",
      "\u001b[A\u001b[AIt is strongly recommended to pass the `sampling_rate` argument to this function. Failing to do so can result in silent errors that might be hard to debug.\n",
      "\n",
      "\n",
      "\u001b[A\u001b[AIt is strongly recommended to pass the `sampling_rate` argument to this function. Failing to do so can result in silent errors that might be hard to debug.\n",
      "\n",
      "\n",
      "\u001b[A\u001b[AIt is strongly recommended to pass the `sampling_rate` argument to this function. Failing to do so can result in silent errors that might be hard to debug.\n",
      "\n",
      "\n",
      "\u001b[A\u001b[AIt is strongly recommended to pass the `sampling_rate` argument to this function. Failing to do so can result in silent errors that might be hard to debug.\n",
      "\n",
      "\n",
      "\u001b[A\u001b[AIt is strongly recommended to pass the `sampling_rate` argument to this function. Failing to do so can result in silent errors that might be hard to debug.\n",
      "\n",
      "\n",
      "\u001b[A\u001b[AIt is strongly recommended to pass the `sampling_rate` argument to this function. Failing to do so can result in silent errors that might be hard to debug.\n",
      "\n",
      "\n",
      "\u001b[A\u001b[AIt is strongly recommended to pass the `sampling_rate` argument to this function. Failing to do so can result in silent errors that might be hard to debug.\n",
      "\n",
      "\n",
      "\u001b[A\u001b[AIt is strongly recommended to pass the `sampling_rate` argument to this function. Failing to do so can result in silent errors that might be hard to debug.\n",
      "\n",
      "\n",
      "\u001b[A\u001b[AIt is strongly recommended to pass the `sampling_rate` argument to this function. Failing to do so can result in silent errors that might be hard to debug.\n",
      "\n",
      "\n",
      "\u001b[A\u001b[AIt is strongly recommended to pass the `sampling_rate` argument to this function. Failing to do so can result in silent errors that might be hard to debug.\n",
      "\n",
      "\n",
      "\u001b[A\u001b[AIt is strongly recommended to pass the `sampling_rate` argument to this function. Failing to do so can result in silent errors that might be hard to debug.\n",
      "\n",
      "\n",
      "\u001b[A\u001b[AIt is strongly recommended to pass the `sampling_rate` argument to this function. Failing to do so can result in silent errors that might be hard to debug.\n",
      "\n",
      "\n",
      "\u001b[A\u001b[AIt is strongly recommended to pass the `sampling_rate` argument to this function. Failing to do so can result in silent errors that might be hard to debug.\n",
      "\n",
      "\n",
      "\u001b[A\u001b[AIt is strongly recommended to pass the `sampling_rate` argument to this function. Failing to do so can result in silent errors that might be hard to debug.\n",
      "\n",
      "\n",
      "\u001b[A\u001b[AIt is strongly recommended to pass the `sampling_rate` argument to this function. Failing to do so can result in silent errors that might be hard to debug.\n",
      "\n",
      "\n",
      "\u001b[A\u001b[AIt is strongly recommended to pass the `sampling_rate` argument to this function. Failing to do so can result in silent errors that might be hard to debug.\n",
      "\n",
      "\n",
      "\u001b[A\u001b[AIt is strongly recommended to pass the `sampling_rate` argument to this function. Failing to do so can result in silent errors that might be hard to debug.\n",
      "\n",
      "\n",
      "\u001b[A\u001b[AIt is strongly recommended to pass the `sampling_rate` argument to this function. Failing to do so can result in silent errors that might be hard to debug.\n",
      "\n",
      "\n",
      "\u001b[A\u001b[AIt is strongly recommended to pass the `sampling_rate` argument to this function. Failing to do so can result in silent errors that might be hard to debug.\n",
      "\n",
      "\n",
      "\u001b[A\u001b[AIt is strongly recommended to pass the `sampling_rate` argument to this function. Failing to do so can result in silent errors that might be hard to debug.\n",
      "\n",
      "\n",
      "\u001b[A\u001b[AIt is strongly recommended to pass the `sampling_rate` argument to this function. Failing to do so can result in silent errors that might be hard to debug.\n",
      "\n",
      "\n",
      "\u001b[A\u001b[AIt is strongly recommended to pass the `sampling_rate` argument to this function. Failing to do so can result in silent errors that might be hard to debug.\n",
      "\n",
      "\n",
      "\u001b[A\u001b[AIt is strongly recommended to pass the `sampling_rate` argument to this function. Failing to do so can result in silent errors that might be hard to debug.\n",
      "\n",
      "\n",
      "\u001b[A\u001b[AIt is strongly recommended to pass the `sampling_rate` argument to this function. Failing to do so can result in silent errors that might be hard to debug.\n",
      "\n",
      "\n",
      "\u001b[A\u001b[AIt is strongly recommended to pass the `sampling_rate` argument to this function. Failing to do so can result in silent errors that might be hard to debug.\n",
      "\n",
      "\n",
      "\u001b[A\u001b[AIt is strongly recommended to pass the `sampling_rate` argument to this function. Failing to do so can result in silent errors that might be hard to debug.\n",
      "\n",
      "\n",
      "\u001b[A\u001b[AIt is strongly recommended to pass the `sampling_rate` argument to this function. Failing to do so can result in silent errors that might be hard to debug.\n",
      "\n",
      "\n",
      "\u001b[A\u001b[AIt is strongly recommended to pass the `sampling_rate` argument to this function. Failing to do so can result in silent errors that might be hard to debug.\n",
      "\n",
      "\n",
      "\u001b[A\u001b[AIt is strongly recommended to pass the `sampling_rate` argument to this function. Failing to do so can result in silent errors that might be hard to debug.\n",
      "\n",
      "\n",
      "\u001b[A\u001b[AIt is strongly recommended to pass the `sampling_rate` argument to this function. Failing to do so can result in silent errors that might be hard to debug.\n",
      "\n",
      "\n",
      "\u001b[A\u001b[AIt is strongly recommended to pass the `sampling_rate` argument to this function. Failing to do so can result in silent errors that might be hard to debug.\n",
      "\n",
      "\n",
      "\u001b[A\u001b[AIt is strongly recommended to pass the `sampling_rate` argument to this function. Failing to do so can result in silent errors that might be hard to debug.\n",
      "\n",
      "\n",
      "\u001b[A\u001b[AIt is strongly recommended to pass the `sampling_rate` argument to this function. Failing to do so can result in silent errors that might be hard to debug.\n",
      "\n",
      "\n",
      "\u001b[A\u001b[AIt is strongly recommended to pass the `sampling_rate` argument to this function. Failing to do so can result in silent errors that might be hard to debug.\n",
      "\n",
      "\n",
      "\u001b[A\u001b[AIt is strongly recommended to pass the `sampling_rate` argument to this function. Failing to do so can result in silent errors that might be hard to debug.\n",
      "\n",
      "\n",
      "\u001b[A\u001b[AIt is strongly recommended to pass the `sampling_rate` argument to this function. Failing to do so can result in silent errors that might be hard to debug.\n",
      "\n",
      "\n",
      "\u001b[A\u001b[AIt is strongly recommended to pass the `sampling_rate` argument to this function. Failing to do so can result in silent errors that might be hard to debug.\n",
      "\n",
      "\n",
      "\u001b[A\u001b[AIt is strongly recommended to pass the `sampling_rate` argument to this function. Failing to do so can result in silent errors that might be hard to debug.\n",
      "\n",
      "\n",
      "\u001b[A\u001b[AIt is strongly recommended to pass the `sampling_rate` argument to this function. Failing to do so can result in silent errors that might be hard to debug.\n",
      "\n",
      "\n",
      "\u001b[A\u001b[AIt is strongly recommended to pass the `sampling_rate` argument to this function. Failing to do so can result in silent errors that might be hard to debug.\n",
      "\n",
      "\n",
      "\u001b[A\u001b[AIt is strongly recommended to pass the `sampling_rate` argument to this function. Failing to do so can result in silent errors that might be hard to debug.\n",
      "\n",
      "\n",
      "\u001b[A\u001b[AIt is strongly recommended to pass the `sampling_rate` argument to this function. Failing to do so can result in silent errors that might be hard to debug.\n",
      "\n",
      "\n",
      "\u001b[A\u001b[AIt is strongly recommended to pass the `sampling_rate` argument to this function. Failing to do so can result in silent errors that might be hard to debug.\n",
      "\n",
      "\n",
      "\u001b[A\u001b[AIt is strongly recommended to pass the `sampling_rate` argument to this function. Failing to do so can result in silent errors that might be hard to debug.\n",
      "\n",
      "\n",
      "\u001b[A\u001b[AIt is strongly recommended to pass the `sampling_rate` argument to this function. Failing to do so can result in silent errors that might be hard to debug.\n",
      "\n",
      "\n",
      "\u001b[A\u001b[AIt is strongly recommended to pass the `sampling_rate` argument to this function. Failing to do so can result in silent errors that might be hard to debug.\n",
      "\n",
      "\n",
      "\u001b[A\u001b[AIt is strongly recommended to pass the `sampling_rate` argument to this function. Failing to do so can result in silent errors that might be hard to debug.\n",
      "\n",
      "\n",
      "\u001b[A\u001b[AIt is strongly recommended to pass the `sampling_rate` argument to this function. Failing to do so can result in silent errors that might be hard to debug.\n",
      "\n",
      "\n",
      "\u001b[A\u001b[AIt is strongly recommended to pass the `sampling_rate` argument to this function. Failing to do so can result in silent errors that might be hard to debug.\n",
      "\n",
      "\n",
      "\u001b[A\u001b[AIt is strongly recommended to pass the `sampling_rate` argument to this function. Failing to do so can result in silent errors that might be hard to debug.\n",
      "\n",
      "\n",
      "\u001b[A\u001b[AIt is strongly recommended to pass the `sampling_rate` argument to this function. Failing to do so can result in silent errors that might be hard to debug.\n",
      "\n",
      "\n",
      "\u001b[A\u001b[AIt is strongly recommended to pass the `sampling_rate` argument to this function. Failing to do so can result in silent errors that might be hard to debug.\n",
      "\n",
      "\n",
      "\u001b[A\u001b[AIt is strongly recommended to pass the `sampling_rate` argument to this function. Failing to do so can result in silent errors that might be hard to debug.\n",
      "\n",
      "\n",
      "\u001b[A\u001b[AIt is strongly recommended to pass the `sampling_rate` argument to this function. Failing to do so can result in silent errors that might be hard to debug.\n",
      "\n",
      "\n",
      "\u001b[A\u001b[AIt is strongly recommended to pass the `sampling_rate` argument to this function. Failing to do so can result in silent errors that might be hard to debug.\n",
      "\n",
      "\n",
      "\u001b[A\u001b[AIt is strongly recommended to pass the `sampling_rate` argument to this function. Failing to do so can result in silent errors that might be hard to debug.\n",
      "\n",
      "\n",
      "\u001b[A\u001b[AIt is strongly recommended to pass the `sampling_rate` argument to this function. Failing to do so can result in silent errors that might be hard to debug.\n",
      "\n",
      "\n",
      "\u001b[A\u001b[AIt is strongly recommended to pass the `sampling_rate` argument to this function. Failing to do so can result in silent errors that might be hard to debug.\n",
      "\n",
      "\n",
      "\u001b[A\u001b[AIt is strongly recommended to pass the `sampling_rate` argument to this function. Failing to do so can result in silent errors that might be hard to debug.\n",
      "\n",
      "\n",
      "\u001b[A\u001b[AIt is strongly recommended to pass the `sampling_rate` argument to this function. Failing to do so can result in silent errors that might be hard to debug.\n",
      "\n",
      "\n",
      "\u001b[A\u001b[AIt is strongly recommended to pass the `sampling_rate` argument to this function. Failing to do so can result in silent errors that might be hard to debug.\n",
      "\n",
      "\n",
      "\u001b[A\u001b[AIt is strongly recommended to pass the `sampling_rate` argument to this function. Failing to do so can result in silent errors that might be hard to debug.\n",
      "\n",
      "\n",
      "\u001b[A\u001b[AIt is strongly recommended to pass the `sampling_rate` argument to this function. Failing to do so can result in silent errors that might be hard to debug.\n",
      "\n",
      "\n",
      "\u001b[A\u001b[AIt is strongly recommended to pass the `sampling_rate` argument to this function. Failing to do so can result in silent errors that might be hard to debug.\n",
      "\n",
      "\n",
      "\u001b[A\u001b[AIt is strongly recommended to pass the `sampling_rate` argument to this function. Failing to do so can result in silent errors that might be hard to debug.\n",
      "\n",
      "\n",
      "\u001b[A\u001b[AIt is strongly recommended to pass the `sampling_rate` argument to this function. Failing to do so can result in silent errors that might be hard to debug.\n",
      "\n",
      "\n",
      "\u001b[A\u001b[AIt is strongly recommended to pass the `sampling_rate` argument to this function. Failing to do so can result in silent errors that might be hard to debug.\n",
      "\n",
      "\n",
      "\u001b[A\u001b[AIt is strongly recommended to pass the `sampling_rate` argument to this function. Failing to do so can result in silent errors that might be hard to debug.\n",
      "\n",
      "\n",
      "\u001b[A\u001b[AIt is strongly recommended to pass the `sampling_rate` argument to this function. Failing to do so can result in silent errors that might be hard to debug.\n",
      "\n",
      "\n",
      "\u001b[A\u001b[AIt is strongly recommended to pass the `sampling_rate` argument to this function. Failing to do so can result in silent errors that might be hard to debug.\n",
      "\n",
      "\n",
      "\u001b[A\u001b[AIt is strongly recommended to pass the `sampling_rate` argument to this function. Failing to do so can result in silent errors that might be hard to debug.\n",
      "\n",
      "\n",
      "\u001b[A\u001b[AIt is strongly recommended to pass the `sampling_rate` argument to this function. Failing to do so can result in silent errors that might be hard to debug.\n",
      "\n",
      "\n",
      "\u001b[A\u001b[AIt is strongly recommended to pass the `sampling_rate` argument to this function. Failing to do so can result in silent errors that might be hard to debug.\n",
      "\n",
      "\n",
      "\u001b[A\u001b[AIt is strongly recommended to pass the `sampling_rate` argument to this function. Failing to do so can result in silent errors that might be hard to debug.\n",
      "\n",
      "\n",
      "\u001b[A\u001b[AIt is strongly recommended to pass the `sampling_rate` argument to this function. Failing to do so can result in silent errors that might be hard to debug.\n",
      "\n",
      "\n",
      "\u001b[A\u001b[AIt is strongly recommended to pass the `sampling_rate` argument to this function. Failing to do so can result in silent errors that might be hard to debug.\n",
      "\n",
      "\n",
      "\u001b[A\u001b[AIt is strongly recommended to pass the `sampling_rate` argument to this function. Failing to do so can result in silent errors that might be hard to debug.\n",
      "\n",
      "\n",
      "\u001b[A\u001b[AIt is strongly recommended to pass the `sampling_rate` argument to this function. Failing to do so can result in silent errors that might be hard to debug.\n",
      "\n",
      "\n",
      "\u001b[A\u001b[AIt is strongly recommended to pass the `sampling_rate` argument to this function. Failing to do so can result in silent errors that might be hard to debug.\n",
      "\n",
      "\n",
      "\u001b[A\u001b[AIt is strongly recommended to pass the `sampling_rate` argument to this function. Failing to do so can result in silent errors that might be hard to debug.\n",
      "\n",
      "\n",
      "\u001b[A\u001b[AIt is strongly recommended to pass the `sampling_rate` argument to this function. Failing to do so can result in silent errors that might be hard to debug.\n",
      "\n",
      "\n",
      "\u001b[A\u001b[AIt is strongly recommended to pass the `sampling_rate` argument to this function. Failing to do so can result in silent errors that might be hard to debug.\n",
      "\n",
      "\n",
      "\u001b[A\u001b[AIt is strongly recommended to pass the `sampling_rate` argument to this function. Failing to do so can result in silent errors that might be hard to debug.\n",
      "\n",
      "\n",
      "\u001b[A\u001b[AIt is strongly recommended to pass the `sampling_rate` argument to this function. Failing to do so can result in silent errors that might be hard to debug.\n",
      "\n",
      "\n",
      "\u001b[A\u001b[AIt is strongly recommended to pass the `sampling_rate` argument to this function. Failing to do so can result in silent errors that might be hard to debug.\n",
      "\n",
      "\n",
      "\u001b[A\u001b[AIt is strongly recommended to pass the `sampling_rate` argument to this function. Failing to do so can result in silent errors that might be hard to debug.\n",
      "\n",
      "\n",
      "\u001b[A\u001b[AIt is strongly recommended to pass the `sampling_rate` argument to this function. Failing to do so can result in silent errors that might be hard to debug.\n",
      "\n",
      "\n",
      "\u001b[A\u001b[AIt is strongly recommended to pass the `sampling_rate` argument to this function. Failing to do so can result in silent errors that might be hard to debug.\n",
      "\n",
      "\n",
      "\u001b[A\u001b[AIt is strongly recommended to pass the `sampling_rate` argument to this function. Failing to do so can result in silent errors that might be hard to debug.\n",
      "\n",
      "\n",
      "\u001b[A\u001b[AIt is strongly recommended to pass the `sampling_rate` argument to this function. Failing to do so can result in silent errors that might be hard to debug.\n",
      "\n",
      "\n",
      "\u001b[A\u001b[AIt is strongly recommended to pass the `sampling_rate` argument to this function. Failing to do so can result in silent errors that might be hard to debug.\n",
      "\n",
      "\n",
      "\u001b[A\u001b[AIt is strongly recommended to pass the `sampling_rate` argument to this function. Failing to do so can result in silent errors that might be hard to debug.\n",
      "\n",
      "\n",
      "\u001b[A\u001b[AIt is strongly recommended to pass the `sampling_rate` argument to this function. Failing to do so can result in silent errors that might be hard to debug.\n",
      "\n",
      "\n",
      "\u001b[A\u001b[AIt is strongly recommended to pass the `sampling_rate` argument to this function. Failing to do so can result in silent errors that might be hard to debug.\n",
      "\n",
      "\n",
      "\u001b[A\u001b[AIt is strongly recommended to pass the `sampling_rate` argument to this function. Failing to do so can result in silent errors that might be hard to debug.\n",
      "\n",
      "\n",
      "\u001b[A\u001b[AIt is strongly recommended to pass the `sampling_rate` argument to this function. Failing to do so can result in silent errors that might be hard to debug.\n",
      "\n",
      "\n",
      "\u001b[A\u001b[AIt is strongly recommended to pass the `sampling_rate` argument to this function. Failing to do so can result in silent errors that might be hard to debug.\n",
      "\n",
      "\n",
      "\u001b[A\u001b[AIt is strongly recommended to pass the `sampling_rate` argument to this function. Failing to do so can result in silent errors that might be hard to debug.\n",
      "\n",
      "\n",
      "\u001b[A\u001b[AIt is strongly recommended to pass the `sampling_rate` argument to this function. Failing to do so can result in silent errors that might be hard to debug.\n",
      "\n",
      "\n",
      "\u001b[A\u001b[AIt is strongly recommended to pass the `sampling_rate` argument to this function. Failing to do so can result in silent errors that might be hard to debug.\n",
      "\n",
      "\n",
      "\u001b[A\u001b[AIt is strongly recommended to pass the `sampling_rate` argument to this function. Failing to do so can result in silent errors that might be hard to debug.\n",
      "\n",
      "\n",
      "\u001b[A\u001b[AIt is strongly recommended to pass the `sampling_rate` argument to this function. Failing to do so can result in silent errors that might be hard to debug.\n",
      "\n",
      "\n",
      "\u001b[A\u001b[AIt is strongly recommended to pass the `sampling_rate` argument to this function. Failing to do so can result in silent errors that might be hard to debug.\n",
      "\n",
      "\n",
      "\u001b[A\u001b[AIt is strongly recommended to pass the `sampling_rate` argument to this function. Failing to do so can result in silent errors that might be hard to debug.\n",
      "\n",
      "\n",
      "\u001b[A\u001b[AIt is strongly recommended to pass the `sampling_rate` argument to this function. Failing to do so can result in silent errors that might be hard to debug.\n",
      "\n",
      "\n",
      "\u001b[A\u001b[AIt is strongly recommended to pass the `sampling_rate` argument to this function. Failing to do so can result in silent errors that might be hard to debug.\n",
      "\n",
      "\n",
      "\u001b[A\u001b[AIt is strongly recommended to pass the `sampling_rate` argument to this function. Failing to do so can result in silent errors that might be hard to debug.\n",
      "\n",
      "\n",
      "\u001b[A\u001b[AIt is strongly recommended to pass the `sampling_rate` argument to this function. Failing to do so can result in silent errors that might be hard to debug.\n",
      "\n",
      "\n",
      "\u001b[A\u001b[AIt is strongly recommended to pass the `sampling_rate` argument to this function. Failing to do so can result in silent errors that might be hard to debug.\n",
      "\n",
      "\n",
      "\u001b[A\u001b[AIt is strongly recommended to pass the `sampling_rate` argument to this function. Failing to do so can result in silent errors that might be hard to debug.\n",
      "\n",
      "\n",
      "\u001b[A\u001b[AIt is strongly recommended to pass the `sampling_rate` argument to this function. Failing to do so can result in silent errors that might be hard to debug.\n",
      "\n",
      "\n",
      "\u001b[A\u001b[AIt is strongly recommended to pass the `sampling_rate` argument to this function. Failing to do so can result in silent errors that might be hard to debug.\n",
      "\n",
      "\n",
      "\u001b[A\u001b[AIt is strongly recommended to pass the `sampling_rate` argument to this function. Failing to do so can result in silent errors that might be hard to debug.\n",
      "\n",
      "\n",
      "\u001b[A\u001b[AIt is strongly recommended to pass the `sampling_rate` argument to this function. Failing to do so can result in silent errors that might be hard to debug.\n",
      "\n",
      "\n",
      "\u001b[A\u001b[AIt is strongly recommended to pass the `sampling_rate` argument to this function. Failing to do so can result in silent errors that might be hard to debug.\n",
      "\n",
      "\n",
      "\u001b[A\u001b[AIt is strongly recommended to pass the `sampling_rate` argument to this function. Failing to do so can result in silent errors that might be hard to debug.\n",
      "It is strongly recommended to pass the `sampling_rate` argument to this function. Failing to do so can result in silent errors that might be hard to debug.\n",
      "\n",
      "\n",
      "\u001b[A\u001b[AIt is strongly recommended to pass the `sampling_rate` argument to this function. Failing to do so can result in silent errors that might be hard to debug.\n",
      "\n",
      "\n",
      "\u001b[A\u001b[AIt is strongly recommended to pass the `sampling_rate` argument to this function. Failing to do so can result in silent errors that might be hard to debug.\n",
      "\n",
      "\n",
      "\u001b[A\u001b[AIt is strongly recommended to pass the `sampling_rate` argument to this function. Failing to do so can result in silent errors that might be hard to debug.\n",
      "\n",
      "\n",
      "\u001b[A\u001b[AIt is strongly recommended to pass the `sampling_rate` argument to this function. Failing to do so can result in silent errors that might be hard to debug.\n",
      "\n",
      "\n",
      "\u001b[A\u001b[AIt is strongly recommended to pass the `sampling_rate` argument to this function. Failing to do so can result in silent errors that might be hard to debug.\n",
      "\n",
      "\n",
      "\u001b[A\u001b[AIt is strongly recommended to pass the `sampling_rate` argument to this function. Failing to do so can result in silent errors that might be hard to debug.\n",
      "\n",
      "\n",
      "\u001b[A\u001b[AIt is strongly recommended to pass the `sampling_rate` argument to this function. Failing to do so can result in silent errors that might be hard to debug.\n",
      "\n",
      "\n",
      "\u001b[A\u001b[AIt is strongly recommended to pass the `sampling_rate` argument to this function. Failing to do so can result in silent errors that might be hard to debug.\n",
      "\n",
      "\n",
      "\u001b[A\u001b[AIt is strongly recommended to pass the `sampling_rate` argument to this function. Failing to do so can result in silent errors that might be hard to debug.\n",
      "\n",
      "\n",
      "\u001b[A\u001b[AIt is strongly recommended to pass the `sampling_rate` argument to this function. Failing to do so can result in silent errors that might be hard to debug.\n",
      "\n",
      "\n",
      "\u001b[A\u001b[AIt is strongly recommended to pass the `sampling_rate` argument to this function. Failing to do so can result in silent errors that might be hard to debug.\n",
      "\n",
      "\n",
      "\u001b[A\u001b[AIt is strongly recommended to pass the `sampling_rate` argument to this function. Failing to do so can result in silent errors that might be hard to debug.\n",
      "\n",
      "\n",
      "\u001b[A\u001b[AIt is strongly recommended to pass the `sampling_rate` argument to this function. Failing to do so can result in silent errors that might be hard to debug.\n",
      "\n",
      "\n",
      "\u001b[A\u001b[AIt is strongly recommended to pass the `sampling_rate` argument to this function. Failing to do so can result in silent errors that might be hard to debug.\n",
      "\n",
      "\n",
      "\u001b[A\u001b[AIt is strongly recommended to pass the `sampling_rate` argument to this function. Failing to do so can result in silent errors that might be hard to debug.\n",
      "\n",
      "\n",
      "\u001b[A\u001b[AIt is strongly recommended to pass the `sampling_rate` argument to this function. Failing to do so can result in silent errors that might be hard to debug.\n",
      "\n",
      "\n",
      "\u001b[A\u001b[AIt is strongly recommended to pass the `sampling_rate` argument to this function. Failing to do so can result in silent errors that might be hard to debug.\n",
      "\n",
      "\n",
      "\u001b[A\u001b[AIt is strongly recommended to pass the `sampling_rate` argument to this function. Failing to do so can result in silent errors that might be hard to debug.\n",
      "\n",
      "\n",
      "\u001b[A\u001b[AIt is strongly recommended to pass the `sampling_rate` argument to this function. Failing to do so can result in silent errors that might be hard to debug.\n",
      "\n",
      "\n",
      "\u001b[A\u001b[AIt is strongly recommended to pass the `sampling_rate` argument to this function. Failing to do so can result in silent errors that might be hard to debug.\n",
      "\n",
      "\n",
      "\u001b[A\u001b[AIt is strongly recommended to pass the `sampling_rate` argument to this function. Failing to do so can result in silent errors that might be hard to debug.\n",
      "\n",
      "\n",
      "\u001b[A\u001b[AIt is strongly recommended to pass the `sampling_rate` argument to this function. Failing to do so can result in silent errors that might be hard to debug.\n",
      "\n",
      "\n",
      "\u001b[A\u001b[AIt is strongly recommended to pass the `sampling_rate` argument to this function. Failing to do so can result in silent errors that might be hard to debug.\n",
      "\n",
      "\n",
      "\u001b[A\u001b[AIt is strongly recommended to pass the `sampling_rate` argument to this function. Failing to do so can result in silent errors that might be hard to debug.\n",
      "\n",
      "\n",
      "\u001b[A\u001b[AIt is strongly recommended to pass the `sampling_rate` argument to this function. Failing to do so can result in silent errors that might be hard to debug.\n",
      "\n",
      "\n",
      "\u001b[A\u001b[AIt is strongly recommended to pass the `sampling_rate` argument to this function. Failing to do so can result in silent errors that might be hard to debug.\n",
      "It is strongly recommended to pass the `sampling_rate` argument to this function. Failing to do so can result in silent errors that might be hard to debug.\n",
      "\n",
      "\n",
      "\u001b[A\u001b[AIt is strongly recommended to pass the `sampling_rate` argument to this function. Failing to do so can result in silent errors that might be hard to debug.\n",
      "\n",
      "\n",
      "\u001b[A\u001b[AIt is strongly recommended to pass the `sampling_rate` argument to this function. Failing to do so can result in silent errors that might be hard to debug.\n",
      "\n",
      "\n",
      "\u001b[A\u001b[AIt is strongly recommended to pass the `sampling_rate` argument to this function. Failing to do so can result in silent errors that might be hard to debug.\n",
      "\n",
      "\n",
      "\u001b[A\u001b[AIt is strongly recommended to pass the `sampling_rate` argument to this function. Failing to do so can result in silent errors that might be hard to debug.\n",
      "\n",
      "\n",
      "\u001b[A\u001b[AIt is strongly recommended to pass the `sampling_rate` argument to this function. Failing to do so can result in silent errors that might be hard to debug.\n",
      "\n",
      "\n",
      "Evaluating model: 100%|██████████| 603/603 [02:40<00:00,  3.75 samples/s]"
     ]
    },
    {
     "name": "stdout",
     "output_type": "stream",
     "text": [
      "Average WER: 0.30\n"
     ]
    },
    {
     "name": "stderr",
     "output_type": "stream",
     "text": [
      "\n"
     ]
    }
   ],
   "source": [
    "model_path='models/facebook/w2v-bert-2.0-finetuned'\n",
    "processor = Wav2Vec2BertProcessor.from_pretrained(model_path, \n",
    "                                            unk_token=\"[UNK]\", pad_token=\"[PAD]\", word_delimiter_token=\"|\")\n",
    "model = Wav2Vec2BertForCTC.from_pretrained(\n",
    "    model_path,\n",
    "    attention_dropout=0.0,\n",
    "    hidden_dropout=0.0,\n",
    "    feat_proj_dropout=0.0,\n",
    "    mask_time_prob=0.0,\n",
    "    layerdrop=0.0,\n",
    "    ctc_loss_reduction=\"mean\",\n",
    "    add_adapter=True,\n",
    "    pad_token_id=processor.tokenizer.pad_token_id,\n",
    "    vocab_size=len(processor.tokenizer),\n",
    ")\n",
    "model.to(device)\n",
    "model.eval()\n",
    "\n",
    "# Run evaluation\n",
    "average_wer = evaluate_model(dataset, model, processor)\n",
    "print(f\"Average WER: {average_wer:.2f}\")"
   ]
  },
  {
   "cell_type": "code",
   "execution_count": null,
   "metadata": {},
   "outputs": [],
   "source": []
  }
 ],
 "metadata": {
  "kernelspec": {
   "display_name": "cloudspace",
   "language": "python",
   "name": "python3"
  },
  "language_info": {
   "codemirror_mode": {
    "name": "ipython",
    "version": 3
   },
   "file_extension": ".py",
   "mimetype": "text/x-python",
   "name": "python",
   "nbconvert_exporter": "python",
   "pygments_lexer": "ipython3",
   "version": "3.10.10"
  }
 },
 "nbformat": 4,
 "nbformat_minor": 2
}
