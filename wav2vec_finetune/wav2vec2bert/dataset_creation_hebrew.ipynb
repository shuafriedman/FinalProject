{
 "cells": [
  {
   "cell_type": "code",
   "execution_count": 1,
   "metadata": {},
   "outputs": [
    {
     "data": {
      "text/plain": [
       "'/teamspace/studios/this_studio'"
      ]
     },
     "execution_count": 1,
     "metadata": {},
     "output_type": "execute_result"
    }
   ],
   "source": [
    "import os\n",
    "os.getcwd()"
   ]
  },
  {
   "cell_type": "code",
   "execution_count": 2,
   "metadata": {},
   "outputs": [],
   "source": [
    "import re\n",
    "import json\n",
    "import string\n",
    "# from transformers import Wav2Vec2CTokenizer\n",
    "from datasets import load_from_disk, load_dataset\n",
    "\n",
    "chars_to_remove_regex = '[\\,\\?\\.\\!\\-\\;\\:\\\"\\“\\״\\%\\‘\\”\\�\\'\\]\\[\\{\\}\\־\\u202b]'\n",
    "hebrew_letters = set(\"אבגדהוזחטיכךלמםנןסעפףצץקרשת\")\n",
    "\n",
    "dataset= load_dataset(\"ivrit-ai/whisper-training\")\n"
   ]
  },
  {
   "cell_type": "code",
   "execution_count": 10,
   "metadata": {},
   "outputs": [],
   "source": [
    "\n",
    "def remove_special_characters(batch):\n",
    "    batch[\"transcription\"] = re.sub(chars_to_remove_regex, '', batch[\"text\"]).lower()\n",
    "    return batch\n",
    "\n",
    "def filter_hebrew_samples(dataset):\n",
    "    def contains_only_hebrew(text):\n",
    "        return all(char in hebrew_letters or char.isspace() for char in text)\n",
    "    filtered_dataset = dataset.filter(lambda example: contains_only_hebrew(example[\"transcription\"]))\n",
    "\n",
    "    original_samples = dataset['transcription']\n",
    "    filtered_samples = [sample for sample in original_samples if contains_only_hebrew(sample)]\n",
    "    \n",
    "    filtered_out_indices = [i for i, sample in enumerate(original_samples) if not contains_only_hebrew(sample)]\n",
    "    \n",
    "    return filtered_dataset, filtered_out_indices\n",
    "\n",
    "def get_vocab(dataset):\n",
    "    vocab = {}\n",
    "    for example in dataset:\n",
    "        for char in example[\"text\"]:\n",
    "            if char in hebrew_letters or char == '|':\n",
    "                if char not in vocab:\n",
    "                    vocab[char] = len(vocab)\n",
    "    return vocab\n",
    "# Example datasetz\n",
    "# Preprocess dataset\n",
    "# dataset[\"train\"] = filter_hebrew_samples(dataset[\"train\"])"
   ]
  },
  {
   "cell_type": "code",
   "execution_count": 4,
   "metadata": {},
   "outputs": [
    {
     "data": {
      "application/vnd.jupyter.widget-view+json": {
       "model_id": "9f821e9377644e7abdc19b232c9ccde5",
       "version_major": 2,
       "version_minor": 0
      },
      "text/plain": [
       "Map:   0%|          | 0/1000 [00:00<?, ? examples/s]"
      ]
     },
     "metadata": {},
     "output_type": "display_data"
    }
   ],
   "source": [
    "samples= dataset[\"train\"].select(range(1000))\n",
    "samples= samples.map(remove_special_characters)"
   ]
  },
  {
   "cell_type": "code",
   "execution_count": 11,
   "metadata": {},
   "outputs": [],
   "source": [
    "filtered_samples, filtered_out_indices= filter_hebrew_samples(samples)\n"
   ]
  },
  {
   "cell_type": "code",
   "execution_count": 6,
   "metadata": {},
   "outputs": [
    {
     "data": {
      "text/plain": [
       "859"
      ]
     },
     "execution_count": 6,
     "metadata": {},
     "output_type": "execute_result"
    }
   ],
   "source": [
    "len(filtered_samples)"
   ]
  },
  {
   "cell_type": "code",
   "execution_count": 26,
   "metadata": {},
   "outputs": [
    {
     "name": "stdout",
     "output_type": "stream",
     "text": [
      "Filtered out sample 10: בעצם אני פאונדר ceo\n",
      "Missing characters:  set()\n",
      "Filtered out sample 11: זה לא יכול להיות מ0 ל1 התקוות האלה\n",
      "Missing characters:  set()\n",
      "Filtered out sample 30: יש פה בארץ יש אין ספור דוגמאות אתה מזמין מונית באובר זה  search כל החיפושים האלה קורים כל הזמן\n",
      "Missing characters:  set()\n",
      "Filtered out sample 32: אז תקשיבי stranger things את חייבת לראות את זה אנחנו עדיין לא סגורים על זה בבית\n",
      "Missing characters:  set()\n",
      "Filtered out sample 34: i became friends with that guy in kenya\n",
      "Missing characters:  set()\n",
      "Filtered out sample 35: oh man he knows the lyrics together so why did he do it together\n",
      "ומכניס את הבוק בוק\n",
      "\n",
      "Missing characters:  set()\n",
      "Filtered out sample 36: מוצר שלך ככה וככה או החברה שלך עושה ככה וככה ואתה שואל אוקיי איזה kpi תשפר לי וkpi יכול להיות הכנסות\n",
      "Missing characters:  set()\n",
      "Filtered out sample 39: שאוהב את אלה מהרמב״ם והרמב״ם חלק מהדברים מסעדיה גאון כאילו תראו איך היהדות\n",
      "Missing characters:  set()\n",
      "Filtered out sample 43: מה היה הצילום שעליו קיבלת את המאמר בnature\n",
      "Missing characters:  set()\n",
      "Filtered out sample 55:     which again can be very basic they dont need this that\n",
      "\n",
      "Missing characters:  set()\n",
      "Filtered out sample 58: אני מבין שמה שאתה מתכוון בעצם זה שאנחנו בכיוון כן בכיוון של להפוך יום אחד לטייפ 5 לגמרי כי אין ספק שאנחנו כמו שאמרנו על כן השיגור כרגע אנחנו טייפ 1 היום אני חושב אם אני זוכר נכון קראתי פעם גם על הסולם הזה נכון אבל כן אנחנו מתי שהוא נגיע גם אנחנו מדברים כמובן ברמת קומפרנצן ברמת הבנה ברמת ידע ברמת\n",
      "Missing characters:  set()\n",
      "Filtered out sample 60: על מישהו שמחזיק מעל 50 מהשוק ממש לא\n",
      "Missing characters:  set()\n",
      "Filtered out sample 67: לאורך הרבה שנים כי לא היה לנו את הבנדוויט (רוחב סרט) להתמקד בזה להיות בזה מספיק טובים\n",
      "Missing characters:  set()\n",
      "Filtered out sample 68: we truly attempt to be squarely in the middle\n",
      "\n",
      "\n",
      "Missing characters:  set()\n",
      "Filtered out sample 75: הסגנון טיפוס הרציני ביותר הנחשב ביותר ההוא שאתה שואף אליו בטח בארץ כן חבר׳ה כאילו אתה מתחיל לטפס\n",
      "Missing characters:  set()\n",
      "Filtered out sample 78: אי אפשר להמשיך במצב כזה עם 254 רשויות מקומיות\n",
      "Missing characters:  set()\n",
      "Filtered out sample 79: אנחנו אין לנו שום hope לקבל את הlevel של detail שיש לנו בהליוספיר\n",
      "Missing characters:  set()\n",
      "Filtered out sample 81: השקף highlights שאני חוזר למאזינות ולמאזינים בתחילת הפרק שאומר אנחנו אגורה\n",
      "Missing characters:  set()\n",
      "Filtered out sample 84: הסדרה אני רק אגיד למאזינים שלנו תמונות מחיי נישואים המקורית הייתה סדרה של ברגמן ששודרה בשנות ה70\n",
      "Missing characters:  set()\n",
      "Filtered out sample 87: בcenter for neighbourhood technology\n",
      "Missing characters:  set()\n",
      "Filtered out sample 90: אבל זה הסרט שחשבתי הסרט שרציתי לדבר עליו של gone baby gone זה עם קייסי אפלק אחיו אם מישהו מצליח למצוא דרך לראות את ניראתה לאחרונה אני מאוד אשמח לשמוע כי אני מת לראות זה מ2007\n",
      "Missing characters:  set()\n",
      "Filtered out sample 93: oh im a big believer in national identity i think its a very healthy thing\n",
      "\n",
      "Missing characters:  set()\n",
      "Filtered out sample 96:     vaccines are harming people all the vaccines are really working and so they take it with the data\n",
      "Missing characters:  set()\n",
      "Filtered out sample 100: חסר לנו עוד רמטכ״לים מחל האוויר\n",
      "Missing characters:  set()\n",
      "Filtered out sample 103: רוב התרופות שאנחנו משתמשים במיוחד נוגדי דיכאון מקבוצת הssri\n",
      "Missing characters:  set()\n",
      "Filtered out sample 106: ולהפך אנחנו מנסים כמה שפחות ולהיות כמה שפחות biased\n",
      "Missing characters:  set()\n",
      "Filtered out sample 110: אז שום דבר לא נופל מכבודו לא לא התיישבנו בבית קפה והרפליקות שהיו לו עם המלצרית אתה מבין רק מזה אתה יכול לעשות מערכון מצחיק לאללה עכשיו הבן אדם הוא כזה הוא איש מקסים מה סגנון ההומור שלו  הוא וודי אלן הוא וודי אלן פראקסלאנס זה one liner זה אין סגנון הוא כל מילה שהוא אומר\n",
      "Missing characters:  set()\n",
      "Filtered out sample 113: הדבר העצוב הוא ש90 אחוז שמעתי אותו אומר זה שהוא אומר היה לי ברור שאני מחפיץ כאילו 90 אחוז כל הקריירה הוא לא נתן ספרינט שם כמו שהוא נתן אני מת לבוא את זה יפס לאמצע הוא אמר זה היה גדול שהוא אמר את זה הוא אמר אני יודעת שאני מחפיץ את זה אבל התבאסתי של הריבאונד\n",
      "Missing characters:  set()\n",
      "Filtered out sample 118: אני זוכר כזה הורדתי שוטים עם אשטון קוצ׳ר היה כאילו מגניב וזה\n",
      "Missing characters:  set()\n",
      "Filtered out sample 121: אז באופן אישי טוב האמת שזה תלוי אנ׳לא אנ׳לא רוצה להגיד זה באמת תלוי בכל מקרה לגופו אבל\n",
      "Missing characters:  set()\n",
      "Filtered out sample 124: to crush to pieces many an innocent flower\n",
      "Missing characters:  set()\n",
      "Filtered out sample 130: יוצא איזה בלוג פוסט של איזו חברה גדולה שאומרת לא יודע מairbnb ולא יודע מה התחלנו בריאקט נייטיב ועברנו ל\n",
      "Missing characters:  set()\n",
      "Filtered out sample 135: וגם אנחנו מדברים על זה זה דווקא כן מי שקרא את הסטארטאפ ניישן book אז יודע אז גם יש עלייה מאוד גדולה מברית המועצות\n",
      "Missing characters:  set()\n",
      "Filtered out sample 137: לפני שנגיד מה קורה ב1880 נגיד מה קורה בסביבות 1850\n",
      "Missing characters:  set()\n",
      "Filtered out sample 140: מה שעשינו ברשת עשינו בנייה איטרטיבית אנחנו קוראים לה boosting\n",
      "Missing characters:  set()\n",
      "Filtered out sample 153: מעל ל80 מהאוכלוסייה היהודית בישראל\n",
      "Missing characters:  set()\n",
      "Filtered out sample 155: machiavellianism is basically\n",
      "Missing characters:  set()\n",
      "Filtered out sample 175: זה יותר משהו מרקטיאלי כי בגלל שאנחנו אתה יודע שוב זו חברת sas אז הדברים כל הזמן עולים לפרודקשן וכולי אבל כשאתה\n",
      "Missing characters:  set()\n",
      "Filtered out sample 177: נכון הולכים על הbacklog או שזה כאילו לא מפריע להם בטירוף זה לא שהם לא חווי אבל יכול להיות שמשתמש אחד חווה או מעט חווה וזה קריטיקה וזה הוגדר כקריטיקל כי זה חסם אותו מלעשות ממש את המשימה שלו\n",
      "Missing characters:  set()\n",
      "Filtered out sample 180: כוללים את כל האיברים מa0 עד ak3\n",
      "Missing characters:  set()\n",
      "Filtered out sample 182: אפל וגוגל לוקחים 30 מהרוב המוחלט של המקרים אז הנה עכשיו אפל אמרו הורדנו ל15 אל תיגעו בנו לא 90 ומשהו אחוז מזה זה עדיין אותם\n",
      "Missing characters:  set()\n",
      "Filtered out sample 192: כן אמרנו גם הכסף הזה מהltd זה היה בוסט של כסף כאילו זה בוסט בוא נשתמש בו זה לא היה בוא נשים משכורת עוד קצת תקציבים בגוגל עוד קצת כמה תקציב החודשי שלכם בגוגל בזמן הזה\n",
      "Missing characters:  set()\n",
      "Filtered out sample 200: אפשר לטעון שזה setting פה קצת יותר ריאליסטי\n",
      "Missing characters:  set()\n",
      "Filtered out sample 201: כל מי שבחברה מהמפתח הכי גוניור עד ל vps\n",
      "Missing characters:  set()\n",
      "Filtered out sample 209: סגרו את רידינג לתקופה של כמה חודשים וכשקרה קרה הגל החום רידינג הייתה מושבתת והיה לנו בעיה של הספקת חשמל בתל אביב זאת הייתה חלק מהבעיה של הפסקות החשמל של 2006 תחנה שלא הייתה לא היה לה גז טבעי נסגרה ולא הייתה יתירות אנרגטית ופתאום\n",
      "Missing characters:  set()\n",
      "Filtered out sample 219: וזה נמצא עמוק עמוק בdna שלנו\n",
      "Missing characters:  set()\n",
      "Filtered out sample 231: הfda נכנע ללחץ שהפעילה הממשלה ההודית\n",
      "Missing characters:  set()\n",
      "Filtered out sample 237: אני אשמח אני רננה אשכנזי אני שותפה ב grove\n",
      "Missing characters:  set()\n",
      "Filtered out sample 240: יש חברה בשם clubhouse שגם נסחרת בפינק שיט\n",
      "Missing characters:  set()\n",
      "Filtered out sample 248: יש טמפלייטים מאוד מובנים וברורים לאיך חברה של 200 אנשים איך נראה\n",
      "Missing characters:  set()\n",
      "Filtered out sample 249: למה אני שמה את ממיניות בטירc\n",
      "Missing characters:  set()\n",
      "Filtered out sample 250: מה שקרה איך אמרת the red dead is dead is dead למה\n",
      "Missing characters:  set()\n",
      "Filtered out sample 251: כך בדיוק בענייננו כי השם יתגדל שבחו הוא מצוי שהוכח שמציאותו מחויבת זאת אומרת שאתה אומר משל הפיל למי הרמב״ם מתכוון במשל הפיל לאלוהים שמחיוב המציאות נובעת הפשטות הגמורה כפי שהוכיח ואילו שהעצמות הפשוטה מחויבת המציאות הזאת כפי שנאמר תהיה בעלת תארים ועניינים אחרים אחרים עליה הרי זה דבר שאינו קיים כלל אם כן אם נאמר שאותה עצמות נקראת אלוהה למשל היא עצמות שיש בה עניינים\n",
      "Missing characters:  set()\n",
      "Filtered out sample 253: מתי שהוא 2017 2018\n",
      "Missing characters:  set()\n",
      "Filtered out sample 295: בביטים שקיבלת כי חלק מהביטים עברו שינוי בצורה כזאת שאם אנחנו נתאם בינינו ונדבר בינינו בטלפון נדע שמישהו יקשיב לנו ונזרוק את הbatch הזה של הביטים ונתחיל מחדש עד שנשתכנע שאף אחד לא\n",
      "Missing characters:  set()\n",
      "Filtered out sample 299: כעת אנחנו רוצים להוכיח ששטח עיגול ברדיוס r הוא כמו שכולכם יודעים בוודאי πי כפול r ריבוע בפרט\n",
      "Missing characters:  set()\n",
      "Filtered out sample 305: think for a second that this has to do with gun proliferation\n",
      "Missing characters:  set()\n",
      "Filtered out sample 307: פובליקלי and in the stated seasons to worship the supreme being\n",
      "Missing characters:  set()\n",
      "Filtered out sample 308: 2081 נכון להיום גיל 67\n",
      "Missing characters:  set()\n",
      "Filtered out sample 312: שוב אני מכיר לא כעובדה שהיה שחקן שהחתימו על סמך קלטות ושלחו את אחיו לא אתה מדבר על פאוליניו לא אני מכיר מישהו אחר ואני מדבר ויעקובו כשהוא הגיע והוא סיפר לכולם שהוא בן 17 לא לא לא גם היה סיפור שהוא נסע וחזר אח שלו ינקלה שחר דיבר איתו הוא לא אמין שהוא בן 17 שלחו אותו לעשות בדיקת dna שלחו אותו לעשות בדיקת רקמות\n",
      "Missing characters:  set()\n",
      "Filtered out sample 323: אבסורד בן אדם זה אבסורד מדינה של 24 אלף קילומטר ועשינו פה תמריצים\n",
      "Missing characters:  set()\n",
      "Filtered out sample 329: בינתיים שתהיה לכם האזנה נעימה פרק 731\n",
      "Missing characters:  set()\n",
      "Filtered out sample 333: אז אני כותב בדיחות קרש בטוויטר אני מקבל 30 לייקים וזה נותן את זה אבל זה לא אתה יודע שהמשקל הסגולי של זה הוא אפס ברור ליצור משהו בעל משמעות מוזיקה ולקבל איזו הערכה שווה פי אלף מכל\n",
      "Missing characters:  set()\n",
      "Filtered out sample 337: ועדיין שאלתי איפה אני אהיה בעוד 24 חודשים אני לא יודע אז איך סטארט אפ פריסיד\n",
      "Missing characters:  set()\n",
      "Filtered out sample 351: איזה התחלה מצויינת של developer relations\n",
      "Missing characters:  set()\n",
      "Filtered out sample 354: הבחור הזה שמוציא את ההערות האלה שאתה אומר no he didnt אני לא מאמין שאמרת את זה או חשבת את זאת הנסון האישה הזו אבל בפועל כל לילה\n",
      "Missing characters:  set()\n",
      "Filtered out sample 359: מה זה אין יכולה הוא היה באמת מת בכנסת היה מת וחוטובלי שחולמת להקים את בית המקדש היא באמת shes a real nut job תחשוב שהיום בליכוד שהייתה באמת פעם מפלגה מרכזית אוקיי לצורך העניין אז זו מפלגה מרכזית היא הייתה הרעננים הם היו אלה שבאו לטלטל את שלטון מפאי כן הם באמת\n",
      "Missing characters:  set()\n",
      "Filtered out sample 366: שם הם הכריזו על הפייסבוק קונקט ועל כל הapi ומי שזוכר שהיה את farmville\n",
      "Missing characters:  set()\n",
      "Filtered out sample 371: להתחיל ממש את האוריגן סטורי או ללכת שהייתי בת 12 הלכתי בספרייה בבית ספר\n",
      "Missing characters:  set()\n",
      "Filtered out sample 372: אבל כשהוא כותב אבל כשהוא כותב את מה שהוא כותב אז הוא בברור כזה רוצה קצת לא אה אה אה to steal the bucket אה ובתור חוב תקשורת גם אז אני אני אני כזה יש לי איזה שהערכה לזה אה אבל אני בידי אני די יודע להבחין כאילו מתי מתי הוא עושה את זה מהניסיון שלי זה נהיה קטע יותר של אה\n",
      "Missing characters:  set()\n",
      "Filtered out sample 373: הוא חייב הסיכוי היחיד שלו להיות אלוף זה אם הוא יוביל במחצית 20 כי אחרת הוא לא יהיה אלוף\n",
      "Missing characters:  set()\n",
      "Filtered out sample 384: קראתי בספרי הלימוד ש25000 מתנדבים הולנדים\n",
      "Missing characters:  set()\n",
      "Filtered out sample 387: you didnt understand the gist of the book\n",
      "Missing characters:  set()\n",
      "Filtered out sample 392: a ctr prediction specifically around the feature interactions\n",
      "Missing characters:  set()\n",
      "Filtered out sample 395: different unsupervised feature selection methods\n",
      "Missing characters:  set()\n",
      "Filtered out sample 397: and we do that in this diagram and we call earth now in a habitable state\n",
      "Missing characters:  set()\n",
      "Filtered out sample 424: 100 מהאנשים שאני פגשתי בחוויות חיים הקצרות שלי שאמרו או סיירת או ניירת היו בניירת זאת אומרת לא פגשתי מעולם מי שהיה במטכל ואמר אם לא הייתי במטכל\n",
      "Missing characters:  set()\n",
      "Filtered out sample 431: its true that for example this example what charles darwin said obviously he used\n",
      "Missing characters:  set()\n",
      "Filtered out sample 432: חומרה כאילו אתה יודע ai לחומרה\n",
      "Missing characters:  set()\n",
      "Filtered out sample 438: תראה את הcharges שלהם על אונס וחוקר\n",
      "Missing characters:  set()\n",
      "Filtered out sample 445: מיד אחר כך את אלופה שזה גם 20 פרקים\n",
      "Missing characters:  set()\n",
      "Filtered out sample 448: delegation זה אנשים עושים את ההחלטות איך הם מתקשרים אותם החוצה אתה צריך פיר טו פיר כאילו אתה צריך אנשים שכאילו יעבדו\n",
      "Missing characters:  set()\n",
      "Filtered out sample 458: which is pervasive in our everyday speech\n",
      "Missing characters:  set()\n",
      "Filtered out sample 459: חברים מאז היום מספיק נחמדים כדי לתת לנו לדבר 90 דקות רצוף בלי להפריע אז אני מניח שגם תודה להם\n",
      "Missing characters:  set()\n",
      "Filtered out sample 461: הוא לא אמר הוא אמר כך הוא מנהגו של עולם ועל זה ראוי לעשות שמונה ימים טובים איזה עולם טוב זה שני מהלכים יש כאלה שיגידו בתור תפיסה חסידית אם זה היה סיפור חסידי אז מה היו אומרים התפילה עזרה כוחה של תפילה נשבר גזר הדין האדם הראשון לא אומר ככה האדם הראשון ושוב הרב יואל בן נון אומר שהרמב״ם לקח הרבה מאוד מהגמרא הזאת\n",
      "Missing characters:  set()\n",
      "Filtered out sample 463: תשובות או תוצאות החיפוש שאתה תקבל כולם יהיו short form video\n",
      "Missing characters:  set()\n",
      "Filtered out sample 471: מה נסגר 20 מטר הכדור קופץ בקורה שלך הוא מאוד מאכזב העונה מה נסגר עליתם כמו נגד חיפה או כמו כאילו עליתם ארבע\n",
      "Missing characters:  set()\n",
      "Filtered out sample 487: זאת אומרת שבעצם בהמשך לרעיון הראשון שלנו על הספר שלך ״מה את מבקשת״ שבו את דיברת על שיחים שונים של תחום המיניות\n",
      "Missing characters:  set()\n",
      "Filtered out sample 488: עוד יותר לעומק בניסוי הזה משנות ה80\n",
      "Missing characters:  set()\n",
      "Filtered out sample 489: end to end לחברות ולמחלקות ה trust and safety שלהם\n",
      "Missing characters:  set()\n",
      "Filtered out sample 502: 20 מהחניות לטובת מסלולי אופניים\n",
      "Missing characters:  set()\n",
      "Filtered out sample 511: בין השאר הספריה כוללת מדדי מרכזיות shortest path המסלול הקצר ביותר גילוי קהילות מציאת דמיון בין צמתים ועוד\n",
      "Missing characters:  set()\n",
      "Filtered out sample 520: זה מה שאני מחפש מהאוניברסיטה ולכן הסיפור של השושלות של קיסרי סין its a good story\n",
      "Missing characters:  set()\n",
      "Filtered out sample 522: יפה וואו וואו עברנו הרבה מאז פרק שבע תריכה לנו 12 אוקטובר 2021 בוקר טוב לאבטח באב בוקר טוב אבי מעניינים מזמן לא התראינו נכון ובוקר טוב גם לקובי מצרי בוקר טוב אבטח בוקר טוב אבי מה נשמע קובי מעולה יש לנו בוקר קצת גשוים שזה ממש כיף נכון וואי איזה כיף שחזרת את הגשם לגמרי ממש נחמד קובי אז תספר קצת על מה באת לדבר איתנו היום אז אנחנו נדבר היום על הטרנד העולמי של פרק\n",
      "Missing characters:  set()\n",
      "Filtered out sample 540: i am from taiwan\n",
      "Missing characters:  set()\n",
      "Filtered out sample 541: יש דבר שנקרא apa apa זה ארגון הפסיכולוגים האמריקאים\n",
      "Missing characters:  set()\n",
      "Filtered out sample 546: כמו שאתה מתאר לעצמך אנחנו מאוד obssesed עם כל הדאטה אז כשמסתכלים על מה קרה בתקופה שאנחנו\n",
      "Missing characters:  set()\n",
      "Filtered out sample 548: בהנחה שאנחנו נבלה יותר זמן בvirtual space בעתיד אז מישהו צריך לתכנן את הספייס הזה\n",
      "Missing characters:  set()\n",
      "Filtered out sample 551: מדי פעם עדיין מדברים במונחים של ניתן להם בראש נשבור להם את העצמות בסגנון דאדו של 73\n",
      "Missing characters:  set()\n",
      "Filtered out sample 570: כל דבר מתייקר וההתייקרות של הדברים מגולגלת אליך לא לאף אחד אחר ולכן הראתי את זה אבל לא משנה זה לא עזר בסופו של דבר זה עזר כשהפוליטיקאים רצו להעיף את חסן והוא הפריע להם בדרך מהבחינה הזאת חסן צדק הוא גם אמר את זה כמה פעמים שעכשיו יש איזה אינטרס פוליטי להזיז אותו זה נכון אני מסכימה עם חסן בעניין הזה זה היה אינטרס ולכן הדוח הזה הודלף ולכן פתאום הם החליטו לעשות משהו ואז זה התפוצץ בערוץ 2 ואז חקירה וגמרנו עכשיו אני מאמינה באמת ובתמים שהומחים\n",
      "Missing characters:  set()\n",
      "Filtered out sample 572: מקשר shooter מה שנקרא הבנתי למי שלא מכיר בכדוריד אתה יודע אתה יכול תמיד לשים טרנינג נורא עבה ולעמוד בשער ואתה יכול עוד 20 קילו בכיף למעלה נכון שוערים בכדוריד ספציפית הם מאוד מאוד מסכנים\n",
      "Missing characters:  set()\n"
     ]
    },
    {
     "name": "stdout",
     "output_type": "stream",
     "text": [
      "Filtered out sample 574: בעצם מה מה מה שכחלון עשה ב2011 זה בעצם הוא הכריח את החברות הקיימות\n",
      "Missing characters:  set()\n",
      "Filtered out sample 606: זה התחיל בזה שזה מדבר על סוגיות חברתיות אבל בהומור ובכיף ואז אני כמו סטאוואז הם בונים גם מיתולוגיה תבין זה לא רק מה הוא עושה זאת יודעת על משהו שקרה לו לפני 200 שנה אתה לא ראית את זה אף פעם בטלוויזיה מדמיין את המיתולוגיה ואז יש לך מלא דמויות מסוגים שונים והווילנס חוזרים\n",
      "Missing characters:  set()\n",
      "Filtered out sample 629: זה נהיה במיוחד פופולארי אחרי פרק הסיום של game of thrones והאורח שלנו היום הוא לא אחר מאשר דרור גלוברמן\n",
      "Missing characters:  set()\n",
      "Filtered out sample 632: במאה ומשהו שנים של מקרו כלכלה ושל מדיניות מוניטרית ושל כלים שהצליחו ושל כאלה שהצליחו פחות אבל אם אתה ליברטריאן אנרכיסט ואם אתה חושב שכל המערכת מושכת אז אתה בטח לא רוצה להתבסס על הידע שלה זורק הובס וזהו אתה לא צריך באמת להתעמק אתה יכול להגיד כן עדיף אפילו לוק לוק הובס כן מספיק לזרוק שמות של פילוסופים אנגלים מהמאה ה16 מהמאה ה18 הכל סבבה נכון נכון אז אנחנו התחלנו הנקודה הראשונה הייתה נקודת הידע\n",
      "Missing characters:  set()\n",
      "Filtered out sample 644: כל אחד יש את המוראקים האלה שהוא עמד בתור עם הכרטיסיות ניקוב שלו כדי לעשות עוד ריצה והחברה האלה שגדלו שמה כותבים קוד בצורה ממש נקייה כי אין לעשות ניסוי וטעיה בשיטה הזאת אז האמת שחלק מהפיץ׳ שלנו זה תמונה של תוכנה קוונטית מצד אחד תמונה של punch card מהצד השני\n",
      "Missing characters:  set()\n",
      "Filtered out sample 648: אם אני מחפש  security בעולמות של רשתות מבוזרות\n",
      "Missing characters:  set()\n",
      "Filtered out sample 650: כי אנחנו היזמים הישראלים נרצה שהוא יעלה על מטוסים וימכור והוא לא he didnt sign up for that הוא חתם להקים צוות עמוק גדול כבד\n",
      "Missing characters:  set()\n",
      "Filtered out sample 658: הלקוח פוטציאלי בע״מ הוא לא מצפה שאתה תיסע אליו\n",
      "Missing characters:  set()\n",
      "Filtered out sample 662: שהיום קיימת פחות כי כמו שאמרנו הiq\n",
      "Missing characters:  set()\n",
      "Filtered out sample 669: אוריום זה היה אוריום לחלוטין כן אתה רואה את הג׳ונגלים אבל אתה ב\n",
      "Missing characters:  set()\n",
      "Filtered out sample 672: אשקלון ב2017 אשקלון צעדה עם שלושים ושתיים\n",
      "Missing characters:  set()\n",
      "Filtered out sample 677: בתור knowledge worker אנחנו יודעים שזה בין 9 ל11\n",
      "Missing characters:  set()\n",
      "Filtered out sample 685: אז אנחנו מדברים על מתקני ההתפלה לאורך הים התיכון היום יש 700 ממ״ק מיליארד וחצי שני מיליארד כמה שצריך יש ביקורת עוד מעט נשמע אותה ונענה\n",
      "Missing characters:  set()\n",
      "Filtered out sample 689: אז ברור שזה השתנה אתה כבר לא עולה לקומה 7 עם המפתח המיוחד ומחליף כונן\n",
      "Missing characters:  set()\n",
      "Filtered out sample 741: 110 דקות לדבר איתי שזה כאילו וואו הולכת לבהות בכדור באולינג עם שתי ראשים הזה עוד 110 דקות למה אמרת באולינג אני כל כך גרועה בזה\n",
      "Missing characters:  set()\n",
      "Filtered out sample 752: לא הקלטנו את הפרק הזה דיברנו על הfive wise methods\n",
      "Missing characters:  set()\n",
      "Filtered out sample 767: הייתה בהפצצה הזאת הטענה של כוחות נא״טו הייתה ש\n",
      "Missing characters:  set()\n",
      "Filtered out sample 769: יש מנגר שלוקח 10 יש איגנט שלוקח 10 יש ליגל שלוקח 5 שלושה אנשים לוקחים 10 בעולם הוליוודי מתוקן יש לך טריו יש לך מנגר אייגנט וליגל\n",
      "Missing characters:  set()\n",
      "Filtered out sample 779: זה לא אומר שדטרמיננטה היא פעולה לינארית הרי הדטרמיננטה של סכום מטריצות היא לא סכום הדטרמיננטות אלא אם כל השורות פרט לאחד זהות בשלושת המטריצות ורק שורה אחת היא סכום של שתי האחרות אז אכן הדטרמיננטה של המטריצה עם סכום השורות שווה לסכום הדטרמיננטות של המטריצות האחרות שימו לב אני לא סוכמת v1 עם v1\n",
      "Missing characters:  set()\n",
      "Filtered out sample 786: r&d משכנתאות בשיתוף פעולה ראשון מסוגו בארץ עם גיקונומי\n",
      "Missing characters:  set()\n",
      "Filtered out sample 790: לוקח את השירות כי המתחרה שלנו הכי גדול זה לבין replacement זה לא המתחרה\n",
      "Missing characters:  set()\n",
      "Filtered out sample 793: sdr נציין זה מי שבעצם\n",
      "Missing characters:  set()\n",
      "Filtered out sample 798: אז הולכים לאכול משהו וחוזרים אחרי זה לעוד 67 שעות פשוט מטורף כן יש לך את הפריים של אירופה ויש לך את הפריים של אמריקה הם רוצים לקפוץ את שניהם וגם כן אותם נלחמים אחד כנגד השני אבל הם באמת בשלב שהם יכולים לפנות למוניטיזציה מעבר לרק טוויץ\n",
      "Missing characters:  set()\n",
      "Filtered out sample 817: עברו 48 שעות שפכתם פה\n",
      "Missing characters:  set()\n",
      "Filtered out sample 823: לנו lan1 פחות lan2 ועוד lan2 פחות lan3 וכולי וכולי עד lann פחות lann ועוד 1 וכמו מקל סלפי מה שבאמצע מצטמצם ואנחנו נשארים רק עם lan1 ומינוס lann ועוד 1 ואפילו lan1 לא באמת נשאר כי lan1 זה 0 נשארנו רק עם\n",
      "Missing characters:  set()\n",
      "Filtered out sample 824: אנסתה בחורה קודם כל אם היא צעקה ואף אחד לא שמע אז היא לא אשמה כמובן שאם היא קיימה יחסי מין צריך לסכול אותה על יד פתח בית אוויר דברים באמת מעוררי פלצות מה עבר בראש של חז״ל כשהם טענו שמי שבעל קטינה לא צריך לתת על זה את הדין איזה מכה או משהו כזה כשהם קבעו עונש מוות על מקושש עצים בשבת איך האיש הזה היד שלו לא רעדה כשהוא אמר הרי ידוע שאם מישהו שכב עם בהמה צריך לסכול את הבהמה\n",
      "Missing characters:  set()\n",
      "Filtered out sample 827: אוקיי ובהקשר הזה אני רוצה להגיע לעמוד 63 לקרוא את ההקדמה\n",
      "Missing characters:  set()\n",
      "Filtered out sample 829: החלטות סופרווייזרים יש להן representation learning מאוד חזק\n",
      "Missing characters:  set()\n",
      "Filtered out sample 836: כן בואו אני רוצה לפתוח בסיפור אתם רוצים לי לפתוח בסיפור ברור קצר דקה וחצי לפני איזה 15 שנה הייתי בלאוס מדינה קיקיונית דרום מזרח אסיה והגעתי שם לאיזשהי עיר שהכל בה שמח ושלב ישבתי לאכול ויש שם אתה יודע את התפריט הרגיל ואז הפי מניו הפי מניו למי שלא מכיר זה מאכלים שדוחפים בהם או קנאביס או דברים כאלה שגם יכול להיות הפי יאללה יאללה אמרתי טוב יאללה הפי מניו\n",
      "Missing characters:  set()\n",
      "Filtered out sample 842: עוד דבר מעניין זה body structure preservation זה בעצם זה גם מבנה גוף אבל בעצם גם מבנה של הבגדים\n",
      "Missing characters:  set()\n",
      "Filtered out sample 853: ואני אין לי שום יכולת לעזור אני 300 מטרים ממנו אבל כבול\n"
     ]
    },
    {
     "ename": "IndexError",
     "evalue": "list index out of range",
     "output_type": "error",
     "traceback": [
      "\u001b[0;31m---------------------------------------------------------------------------\u001b[0m",
      "\u001b[0;31mIndexError\u001b[0m                                Traceback (most recent call last)",
      "Cell \u001b[0;32mIn[26], line 5\u001b[0m\n\u001b[1;32m      2\u001b[0m     \u001b[38;5;28mprint\u001b[39m(\u001b[38;5;124mf\u001b[39m\u001b[38;5;124m\"\u001b[39m\u001b[38;5;124mFiltered out sample \u001b[39m\u001b[38;5;132;01m{\u001b[39;00mindex\u001b[38;5;132;01m}\u001b[39;00m\u001b[38;5;124m: \u001b[39m\u001b[38;5;132;01m{\u001b[39;00msamples[\u001b[38;5;124m'\u001b[39m\u001b[38;5;124mtranscription\u001b[39m\u001b[38;5;124m'\u001b[39m][index]\u001b[38;5;132;01m}\u001b[39;00m\u001b[38;5;124m\"\u001b[39m)\n\u001b[1;32m      4\u001b[0m \u001b[38;5;66;03m# Find and print any character in the sample text that is not in the hebrew_letters set\u001b[39;00m\n\u001b[0;32m----> 5\u001b[0m     missing_chars \u001b[38;5;241m=\u001b[39m {char \u001b[38;5;28;01mfor\u001b[39;00m char \u001b[38;5;129;01min\u001b[39;00m \u001b[43mfiltered_samples\u001b[49m\u001b[43m[\u001b[49m\u001b[43mindex\u001b[49m\u001b[43m]\u001b[49m \u001b[38;5;28;01mif\u001b[39;00m char \u001b[38;5;129;01mnot\u001b[39;00m \u001b[38;5;129;01min\u001b[39;00m hebrew_letters \u001b[38;5;129;01mand\u001b[39;00m \u001b[38;5;129;01mnot\u001b[39;00m char\u001b[38;5;241m.\u001b[39misspace()}\n\u001b[1;32m      7\u001b[0m     \u001b[38;5;28mprint\u001b[39m(\u001b[38;5;124m\"\u001b[39m\u001b[38;5;124mMissing characters: \u001b[39m\u001b[38;5;124m\"\u001b[39m, missing_chars)\n\u001b[1;32m      9\u001b[0m \u001b[38;5;66;03m# print(\"\\nFiltered samples:\")\u001b[39;00m\n\u001b[1;32m     10\u001b[0m \u001b[38;5;66;03m# for sample in filtered_samples:\u001b[39;00m\n\u001b[1;32m     11\u001b[0m \u001b[38;5;66;03m#     print(sample)\u001b[39;00m\n",
      "\u001b[0;31mIndexError\u001b[0m: list index out of range"
     ]
    }
   ],
   "source": [
    "for index in filtered_out_indices:\n",
    "    print(f\"Filtered out sample {index}: {samples['transcription'][index]}\")\n",
    "\n",
    "# Find and print any character in the sample text that is not in the hebrew_letters set\n",
    "    missing_chars = {char for char in filtered_samples[index] if char not in hebrew_letters and not char.isspace()}\n",
    "\n",
    "    print(\"Missing characters: \", missing_chars)\n",
    "\n",
    "# print(\"\\nFiltered samples:\")\n",
    "# for sample in filtered_samples:\n",
    "#     print(sample)"
   ]
  },
  {
   "cell_type": "code",
   "execution_count": 7,
   "metadata": {},
   "outputs": [],
   "source": [
    "import transformers\n",
    "from transformers import Wav2Vec2CTCTokenizer"
   ]
  },
  {
   "cell_type": "code",
   "execution_count": 14,
   "metadata": {},
   "outputs": [
    {
     "name": "stdout",
     "output_type": "stream",
     "text": [
      "Getting Vocab\n"
     ]
    },
    {
     "name": "stdout",
     "output_type": "stream",
     "text": [
      "printing vocab with length:  32\n"
     ]
    }
   ],
   "source": [
    "print(\"Getting Vocab\")\n",
    "vocab = get_vocab(filtered_samples)\n",
    "vocab[\"|\"] = vocab.get(\"|\", len(vocab))\n",
    "vocab[\"[UNK]\"] = len(vocab)\n",
    "vocab[\"[PAD]\"] = len(vocab)\n",
    "vocab[\"<s>\"] = len(vocab)\n",
    "vocab[\"</s>\"] = len(vocab)\n",
    "print(\"printing vocab with length: \", len(vocab))\n",
    "with open(f\"vocab.json\", \"w\") as f:\n",
    "    json.dump(vocab, f)"
   ]
  },
  {
   "cell_type": "code",
   "execution_count": null,
   "metadata": {},
   "outputs": [],
   "source": [
    "tokenizer = Wav2Vec2CTokenizer.from_pretrained(finetuned_model_path,\n",
    "                                               unk_token=\"[UNK]\",\n",
    "                                               pad_token=\"[PAD]\",\n",
    "                                               word_delimiter_token=\"|\")"
   ]
  },
  {
   "cell_type": "code",
   "execution_count": null,
   "metadata": {},
   "outputs": [],
   "source": [
    "feature_extractor = MODEL_CONFIG['feature_extractor'].from_pretrained(MODEL_CONFIG['model_name'])\n",
    "processor = MODEL_CONFIG['processor'](feature_extractor=feature_extractor, tokenizer=tokenizer)\n",
    "print(\"saving processor\")\n",
    "processor.save_pretrained(local_model_path + '-finetuned')"
   ]
  }
 ],
 "metadata": {
  "language_info": {
   "name": "python"
  }
 },
 "nbformat": 4,
 "nbformat_minor": 2
}
