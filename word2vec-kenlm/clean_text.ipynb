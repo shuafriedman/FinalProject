{
 "cells": [
  {
   "cell_type": "code",
   "execution_count": 1,
   "metadata": {},
   "outputs": [],
   "source": [
    "import os\n",
    "import sys\n",
    "import re"
   ]
  },
  {
   "cell_type": "code",
   "execution_count": 2,
   "metadata": {},
   "outputs": [],
   "source": [
    "with open(os.path.join(sys.path[0], 'dafyomi.txt')) as f:\n",
    "    lines = f.read().splitlines()"
   ]
  },
  {
   "cell_type": "code",
   "execution_count": 3,
   "metadata": {},
   "outputs": [],
   "source": [
    "def section_parser(file_path):\n",
    "    with open(file_path, 'r', encoding='utf-8') as file:\n",
    "        content = file.readlines()\n",
    "\n",
    "    # Define the start and end patterns\n",
    "    start_pattern = re.compile(r'^###.*###\\n')\n",
    "    end_pattern = 'סוף הקלטה\\n'\n",
    "\n",
    "    sections = []\n",
    "    current_section = []\n",
    "    in_section = False  # Flag to track if we are currently inside a section\n",
    "\n",
    "    for line in content:\n",
    "        if start_pattern.match(line):\n",
    "            in_section = True  # Start of a new section\n",
    "            current_section = []  # Reset current section\n",
    "        elif line.strip() == end_pattern.strip():\n",
    "            in_section = False  # End of the current section\n",
    "            sections.append(''.join(current_section))  # Add the completed section to the list\n",
    "        elif in_section:\n",
    "            current_section.append(line)  # Add line to current section\n",
    "\n",
    "    # Return the list of sections\n",
    "    return sections"
   ]
  },
  {
   "cell_type": "code",
   "execution_count": 4,
   "metadata": {},
   "outputs": [],
   "source": [
    "sections = section_parser(os.path.join(sys.path[0], 'dafyomi.txt'))"
   ]
  },
  {
   "cell_type": "code",
   "execution_count": 5,
   "metadata": {},
   "outputs": [],
   "source": [
    "def remove_header_footer(section):\n",
    "    # take the 5ifth item in each section\n",
    "    processed_content = []\n",
    "    for line in section:\n",
    "        content = line.splitlines()[4:]\n",
    "        processed_content.append('\\n'.join(content))\n",
    "    return processed_content\n"
   ]
  },
  {
   "cell_type": "code",
   "execution_count": 6,
   "metadata": {},
   "outputs": [],
   "source": [
    "shiurim=remove_header_footer(sections)"
   ]
  },
  {
   "cell_type": "code",
   "execution_count": 8,
   "metadata": {},
   "outputs": [],
   "source": [
    "#randomly split shiurim into train and test sets, 80-20 with repeatable random \"seed\"\n",
    "\n",
    "import random\n",
    "random.seed(10)\n",
    "random.shuffle(shiurim)\n",
    "train = shiurim[:int(len(shiurim)*0.8)]\n",
    "test = shiurim[int(len(shiurim)*0.8):]"
   ]
  },
  {
   "cell_type": "code",
   "execution_count": 11,
   "metadata": {},
   "outputs": [],
   "source": [
    "with open(os.path.join(sys.path[0], 'dafyomi_train.txt'), 'w', encoding='utf-8') as f:\n",
    "    for item in train:\n",
    "        f.write(\"%s\\n\" % item)\n",
    "with open (os.path.join(sys.path[0], 'dafyomi_test.txt'), 'w', encoding='utf-8') as f:\n",
    "    for item in test:\n",
    "        f.write(\"%s\\n\" % item)"
   ]
  },
  {
   "cell_type": "code",
   "execution_count": 10,
   "metadata": {},
   "outputs": [],
   "source": []
  },
  {
   "cell_type": "code",
   "execution_count": null,
   "metadata": {},
   "outputs": [],
   "source": []
  }
 ],
 "metadata": {
  "kernelspec": {
   "display_name": "Python 3",
   "language": "python",
   "name": "python3"
  },
  "language_info": {
   "codemirror_mode": {
    "name": "ipython",
    "version": 3
   },
   "file_extension": ".py",
   "mimetype": "text/x-python",
   "name": "python",
   "nbconvert_exporter": "python",
   "pygments_lexer": "ipython3",
   "version": "3.10.10"
  }
 },
 "nbformat": 4,
 "nbformat_minor": 2
}
