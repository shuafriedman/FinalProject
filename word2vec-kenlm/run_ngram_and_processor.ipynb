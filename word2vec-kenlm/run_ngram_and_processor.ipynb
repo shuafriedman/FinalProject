{
 "cells": [
  {
   "cell_type": "code",
   "execution_count": 30,
   "metadata": {},
   "outputs": [],
   "source": [
    "import os\n",
    "import sys\n",
    "\n",
    "path = os.getcwd() + \"/data/mesivta/\"\n",
    "file = path + \"train.txt\""
   ]
  },
  {
   "cell_type": "code",
   "execution_count": 31,
   "metadata": {},
   "outputs": [
    {
     "name": "stdout",
     "output_type": "stream",
     "text": [
      "The operation couldn’t be completed. Unable to locate a Java Runtime.\n",
      "Please visit http://www.java.com for information on installing Java.\n",
      "\n"
     ]
    }
   ],
   "source": [
    "!apt install build-essential cmake libboost-system-dev libboost-thread-dev libboost-program-options-dev libboost-test-dev libeigen3-dev zlib1g-dev libbz2-dev liblzma-dev"
   ]
  },
  {
   "cell_type": "markdown",
   "metadata": {},
   "source": [
    "before downloading and unpacking the KenLM repo."
   ]
  },
  {
   "cell_type": "code",
   "execution_count": 32,
   "metadata": {},
   "outputs": [
    {
     "name": "stdout",
     "output_type": "stream",
     "text": [
      "  % Total    % Received % Xferd  Average Speed   Time    Time     Time  Current\n",
      "                                 Dload  Upload   Total   Spent    Left  Speed\n",
      "  0     0    0     0    0     0      0      0 --:--:-- --:--:-- --:--:--     0"
     ]
    },
    {
     "name": "stdout",
     "output_type": "stream",
     "text": [
      "100  480k  100  480k    0     0   382k      0  0:00:01  0:00:01 --:--:--  382k\n"
     ]
    }
   ],
   "source": [
    "import platform\n",
    "import os\n",
    "\n",
    "if platform.system() == 'Darwin':  # Darwin stands for MacOS\n",
    "    !curl -L https://kheafield.com/code/kenlm.tar.gz | tar xz\n",
    "elif platform.system() == 'Linux':\n",
    "    !wget -O - https://kheafield.com/code/kenlm.tar.gz | tar xz\n",
    "else:\n",
    "    print(\"Unsupported operating system\")"
   ]
  },
  {
   "cell_type": "markdown",
   "metadata": {},
   "source": [
    "KenLM is written in C++, so we'll make use of `cmake` to build the binaries."
   ]
  },
  {
   "cell_type": "code",
   "execution_count": 42,
   "metadata": {},
   "outputs": [
    {
     "name": "stdout",
     "output_type": "stream",
     "text": [
      "\u001b[33mWarning:\u001b[0m Treating cmake as a formula. For the cask, use homebrew/cask/cmake\n",
      "\u001b[33mWarning:\u001b[0m cmake 3.28.3 is already installed and up-to-date.\n",
      "To reinstall 3.28.3, run:\n",
      "  brew reinstall cmake\n",
      "\u001b[34m==>\u001b[0m \u001b[1mDownloading https://ghcr.io/v2/homebrew/core/boost/manifests/1.84.0_1\u001b[0m\n",
      "######################################################################### 100.0%\n",
      "\u001b[32m==>\u001b[0m \u001b[1mFetching dependencies for boost: \u001b[32micu4c\u001b[39m\u001b[0m\n",
      "\u001b[34m==>\u001b[0m \u001b[1mDownloading https://ghcr.io/v2/homebrew/core/icu4c/manifests/74.2\u001b[0m\n",
      "######################################################################### 100.0%\n",
      "\u001b[32m==>\u001b[0m \u001b[1mFetching \u001b[32micu4c\u001b[39m\u001b[0m\n",
      "\u001b[34m==>\u001b[0m \u001b[1mDownloading https://ghcr.io/v2/homebrew/core/icu4c/blobs/sha256:3facc22a7821\u001b[0m\n",
      "######################################################################### 100.0%\n",
      "\u001b[32m==>\u001b[0m \u001b[1mFetching \u001b[32mboost\u001b[39m\u001b[0m\n",
      "\u001b[34m==>\u001b[0m \u001b[1mDownloading https://ghcr.io/v2/homebrew/core/boost/blobs/sha256:5249ac98f677\u001b[0m\n",
      "######################################################################### 100.0%\n",
      "\u001b[32m==>\u001b[0m \u001b[1mInstalling dependencies for boost: \u001b[32micu4c\u001b[39m\u001b[0m\n",
      "\u001b[32m==>\u001b[0m \u001b[1mInstalling boost dependency: \u001b[32micu4c\u001b[39m\u001b[0m\n",
      "\u001b[34m==>\u001b[0m \u001b[1mDownloading https://ghcr.io/v2/homebrew/core/icu4c/manifests/74.2\u001b[0m\n",
      "Already downloaded: /Users/shua/Library/Caches/Homebrew/downloads/3e5230e726e5548db28bc0cf75710d6405903b742f941113d3dbe7483fad72a4--icu4c-74.2.bottle_manifest.json\n",
      "\u001b[34m==>\u001b[0m \u001b[1mPouring icu4c--74.2.arm64_sonoma.bottle.tar.gz\u001b[0m\n",
      "🍺  /opt/homebrew/Cellar/icu4c/74.2: 270 files, 77.9MB\n",
      "\u001b[32m==>\u001b[0m \u001b[1mInstalling \u001b[32mboost\u001b[39m\u001b[0m\n",
      "\u001b[34m==>\u001b[0m \u001b[1mPouring boost--1.84.0_1.arm64_sonoma.bottle.tar.gz\u001b[0m\n",
      "🍺  /opt/homebrew/Cellar/boost/1.84.0_1: 16,054 files, 499.5MB\n",
      "\u001b[34m==>\u001b[0m \u001b[1mRunning `brew cleanup boost`...\u001b[0m\n",
      "Disable this behaviour by setting HOMEBREW_NO_INSTALL_CLEANUP.\n",
      "Hide these hints with HOMEBREW_NO_ENV_HINTS (see `man brew`).\n",
      "\u001b[34m==>\u001b[0m \u001b[1mUpgrading 5 dependents of upgraded formulae:\u001b[0m\n",
      "Disable this behaviour by setting HOMEBREW_NO_INSTALLED_DEPENDENTS_CHECK.\n",
      "Hide these hints with HOMEBREW_NO_ENV_HINTS (see `man brew`).\n",
      "harfbuzz 8.3.0 -> 8.3.0_1, libass 0.17.1 -> 0.17.1_1, tesseract 5.3.3 -> 5.3.4_1, ffmpeg 6.0_1 -> 6.1.1_4, libpq 16.1_1 -> 16.2_1\n",
      "\u001b[34m==>\u001b[0m \u001b[1mDownloading https://ghcr.io/v2/homebrew/core/libpq/manifests/16.2_1\u001b[0m\n",
      "######################################################################### 100.0%\n",
      "\u001b[32m==>\u001b[0m \u001b[1mFetching dependencies for libpq: \u001b[32mca-certificates\u001b[39m and \u001b[32mopenssl@3\u001b[39m\u001b[0m\n",
      "\u001b[34m==>\u001b[0m \u001b[1mDownloading https://ghcr.io/v2/homebrew/core/ca-certificates/manifests/2023-\u001b[0m\n",
      "######################################################################### 100.0%\n",
      "\u001b[32m==>\u001b[0m \u001b[1mFetching \u001b[32mca-certificates\u001b[39m\u001b[0m\n",
      "\u001b[34m==>\u001b[0m \u001b[1mDownloading https://ghcr.io/v2/homebrew/core/ca-certificates/blobs/sha256:5c\u001b[0m\n",
      "######################################################################### 100.0%\n",
      "\u001b[34m==>\u001b[0m \u001b[1mDownloading https://ghcr.io/v2/homebrew/core/openssl/3/manifests/3.2.1-1\u001b[0m\n",
      "######################################################################### 100.0%\n",
      "\u001b[32m==>\u001b[0m \u001b[1mFetching \u001b[32mopenssl@3\u001b[39m\u001b[0m\n",
      "\u001b[34m==>\u001b[0m \u001b[1mDownloading https://ghcr.io/v2/homebrew/core/openssl/3/blobs/sha256:fce7bf15\u001b[0m\n",
      "######################################################################### 100.0%\n",
      "\u001b[32m==>\u001b[0m \u001b[1mFetching \u001b[32mlibpq\u001b[39m\u001b[0m\n",
      "\u001b[34m==>\u001b[0m \u001b[1mDownloading https://ghcr.io/v2/homebrew/core/libpq/blobs/sha256:34ec05de1540\u001b[0m\n",
      "######################################################################### 100.0%\n",
      "\u001b[34m==>\u001b[0m \u001b[1mDownloading https://ghcr.io/v2/homebrew/core/harfbuzz/manifests/8.3.0_1\u001b[0m\n",
      "######################################################################### 100.0%\n",
      "\u001b[32m==>\u001b[0m \u001b[1mFetching dependencies for harfbuzz: \u001b[32mlibpng\u001b[39m, \u001b[32mfontconfig\u001b[39m, \u001b[32mgettext\u001b[39m, \u001b[32mglib\u001b[39m and \u001b[32mlibxext\u001b[39m\u001b[0m\n",
      "\u001b[34m==>\u001b[0m \u001b[1mDownloading https://ghcr.io/v2/homebrew/core/libpng/manifests/1.6.43\u001b[0m\n",
      "######################################################################### 100.0%\n",
      "\u001b[32m==>\u001b[0m \u001b[1mFetching \u001b[32mlibpng\u001b[39m\u001b[0m\n",
      "\u001b[34m==>\u001b[0m \u001b[1mDownloading https://ghcr.io/v2/homebrew/core/libpng/blobs/sha256:37936ba5cd5\u001b[0m\n",
      "######################################################################### 100.0%\n",
      "\u001b[34m==>\u001b[0m \u001b[1mDownloading https://ghcr.io/v2/homebrew/core/fontconfig/manifests/2.15.0\u001b[0m\n",
      "######################################################################### 100.0%\n",
      "\u001b[32m==>\u001b[0m \u001b[1mFetching \u001b[32mfontconfig\u001b[39m\u001b[0m\n",
      "\u001b[34m==>\u001b[0m \u001b[1mDownloading https://ghcr.io/v2/homebrew/core/fontconfig/blobs/sha256:4732e8c\u001b[0m\n",
      "######################################################################### 100.0%\n",
      "\u001b[34m==>\u001b[0m \u001b[1mDownloading https://ghcr.io/v2/homebrew/core/gettext/manifests/0.22.5\u001b[0m\n",
      "######################################################################### 100.0%\n",
      "\u001b[32m==>\u001b[0m \u001b[1mFetching \u001b[32mgettext\u001b[39m\u001b[0m\n",
      "\u001b[34m==>\u001b[0m \u001b[1mDownloading https://ghcr.io/v2/homebrew/core/gettext/blobs/sha256:4b5b6cb069\u001b[0m\n",
      "######################################################################### 100.0%\n",
      "\u001b[34m==>\u001b[0m \u001b[1mDownloading https://ghcr.io/v2/homebrew/core/glib/manifests/2.78.4\u001b[0m\n",
      "######################################################################### 100.0%\n",
      "\u001b[32m==>\u001b[0m \u001b[1mFetching \u001b[32mglib\u001b[39m\u001b[0m\n",
      "\u001b[34m==>\u001b[0m \u001b[1mDownloading https://ghcr.io/v2/homebrew/core/glib/blobs/sha256:501d6eb669b7b\u001b[0m\n",
      "######################################################################### 100.0%\n",
      "\u001b[34m==>\u001b[0m \u001b[1mDownloading https://ghcr.io/v2/homebrew/core/libxext/manifests/1.3.6\u001b[0m\n",
      "######################################################################### 100.0%\n",
      "\u001b[32m==>\u001b[0m \u001b[1mFetching \u001b[32mlibxext\u001b[39m\u001b[0m\n",
      "\u001b[34m==>\u001b[0m \u001b[1mDownloading https://ghcr.io/v2/homebrew/core/libxext/blobs/sha256:50a9b29c59\u001b[0m\n",
      "######################################################################### 100.0%\n",
      "\u001b[32m==>\u001b[0m \u001b[1mFetching \u001b[32mharfbuzz\u001b[39m\u001b[0m\n",
      "\u001b[34m==>\u001b[0m \u001b[1mDownloading https://ghcr.io/v2/homebrew/core/harfbuzz/blobs/sha256:0e769ab84\u001b[0m\n",
      "######################################################################### 100.0%\n",
      "\u001b[34m==>\u001b[0m \u001b[1mDownloading https://ghcr.io/v2/homebrew/core/libass/manifests/0.17.1_1\u001b[0m\n",
      "######################################################################### 100.0%\n",
      "\u001b[32m==>\u001b[0m \u001b[1mFetching dependencies for libass: \u001b[32mlibunibreak\u001b[39m\u001b[0m\n",
      "\u001b[34m==>\u001b[0m \u001b[1mDownloading https://ghcr.io/v2/homebrew/core/libunibreak/manifests/6.0\u001b[0m\n",
      "######################################################################### 100.0%\n",
      "\u001b[32m==>\u001b[0m \u001b[1mFetching \u001b[32mlibunibreak\u001b[39m\u001b[0m\n",
      "\u001b[34m==>\u001b[0m \u001b[1mDownloading https://ghcr.io/v2/homebrew/core/libunibreak/blobs/sha256:95340a\u001b[0m\n",
      "######################################################################### 100.0%\n",
      "\u001b[32m==>\u001b[0m \u001b[1mFetching \u001b[32mlibass\u001b[39m\u001b[0m\n",
      "\u001b[34m==>\u001b[0m \u001b[1mDownloading https://ghcr.io/v2/homebrew/core/libass/blobs/sha256:6316d110d55\u001b[0m\n",
      "######################################################################### 100.0%\n",
      "\u001b[34m==>\u001b[0m \u001b[1mDownloading https://ghcr.io/v2/homebrew/core/tesseract/manifests/5.3.4_1\u001b[0m\n",
      "######################################################################### 100.0%\n",
      "\u001b[32m==>\u001b[0m \u001b[1mFetching dependencies for tesseract: \u001b[32mjpeg-turbo\u001b[39m, \u001b[32mlittle-cms2\u001b[39m and \u001b[32mleptonica\u001b[39m\u001b[0m\n",
      "\u001b[34m==>\u001b[0m \u001b[1mDownloading https://ghcr.io/v2/homebrew/core/jpeg-turbo/manifests/3.0.1\u001b[0m\n",
      "######################################################################### 100.0%\n",
      "\u001b[32m==>\u001b[0m \u001b[1mFetching \u001b[32mjpeg-turbo\u001b[39m\u001b[0m\n",
      "\u001b[34m==>\u001b[0m \u001b[1mDownloading https://ghcr.io/v2/homebrew/core/jpeg-turbo/blobs/sha256:89b1342\u001b[0m\n",
      "######################################################################### 100.0%\n",
      "\u001b[34m==>\u001b[0m \u001b[1mDownloading https://ghcr.io/v2/homebrew/core/little-cms2/manifests/2.16\u001b[0m\n",
      "######################################################################### 100.0%\n",
      "\u001b[32m==>\u001b[0m \u001b[1mFetching \u001b[32mlittle-cms2\u001b[39m\u001b[0m\n",
      "\u001b[34m==>\u001b[0m \u001b[1mDownloading https://ghcr.io/v2/homebrew/core/little-cms2/blobs/sha256:d1ed57\u001b[0m\n",
      "######################################################################### 100.0%\n",
      "\u001b[34m==>\u001b[0m \u001b[1mDownloading https://ghcr.io/v2/homebrew/core/leptonica/manifests/1.84.1\u001b[0m\n",
      "######################################################################### 100.0%\n",
      "\u001b[32m==>\u001b[0m \u001b[1mFetching \u001b[32mleptonica\u001b[39m\u001b[0m\n",
      "\u001b[34m==>\u001b[0m \u001b[1mDownloading https://ghcr.io/v2/homebrew/core/leptonica/blobs/sha256:67fe34fb\u001b[0m\n",
      "######################################################################### 100.0%\n",
      "\u001b[32m==>\u001b[0m \u001b[1mFetching \u001b[32mtesseract\u001b[39m\u001b[0m\n",
      "\u001b[34m==>\u001b[0m \u001b[1mDownloading https://ghcr.io/v2/homebrew/core/tesseract/blobs/sha256:6025ab29\u001b[0m\n",
      "######################################################################### 100.0%\n",
      "\u001b[34m==>\u001b[0m \u001b[1mDownloading https://ghcr.io/v2/homebrew/core/ffmpeg/manifests/6.1.1_4\u001b[0m\n",
      "######################################################################### 100.0%\n",
      "\u001b[32m==>\u001b[0m \u001b[1mFetching dependencies for ffmpeg: \u001b[32mhighway\u001b[39m, \u001b[32mimath\u001b[39m, \u001b[32mxz\u001b[39m, \u001b[32mopenexr\u001b[39m, \u001b[32mjpeg-xl\u001b[39m, \u001b[32mlibvmaf\u001b[39m, \u001b[32maom\u001b[39m, \u001b[32mdav1d\u001b[39m, \u001b[32mfrei0r\u001b[39m, \u001b[32mlibidn2\u001b[39m, \u001b[32mlibnghttp2\u001b[39m, \u001b[32munbound\u001b[39m, \u001b[32mgnutls\u001b[39m, \u001b[32mcjson\u001b[39m, \u001b[32mlibmicrohttpd\u001b[39m, \u001b[32mmbedtls\u001b[39m, \u001b[32mlibssh\u001b[39m, \u001b[32mopenjpeg\u001b[39m, \u001b[32misl\u001b[39m, \u001b[32mmpfr\u001b[39m, \u001b[32mlibmpc\u001b[39m, \u001b[32mgcc\u001b[39m, \u001b[32mopenblas\u001b[39m, \u001b[32mnumpy\u001b[39m, \u001b[32mpugixml\u001b[39m, \u001b[32mhwloc\u001b[39m, \u001b[32mtbb\u001b[39m, \u001b[32mopenvino\u001b[39m, \u001b[32mrav1e\u001b[39m, \u001b[32mmpg123\u001b[39m, \u001b[32msdl2\u001b[39m and \u001b[32msvt-av1\u001b[39m\u001b[0m\n",
      "\u001b[34m==>\u001b[0m \u001b[1mDownloading https://ghcr.io/v2/homebrew/core/highway/manifests/1.1.0\u001b[0m\n",
      "######################################################################### 100.0%\n",
      "\u001b[32m==>\u001b[0m \u001b[1mFetching \u001b[32mhighway\u001b[39m\u001b[0m\n",
      "\u001b[34m==>\u001b[0m \u001b[1mDownloading https://ghcr.io/v2/homebrew/core/highway/blobs/sha256:01a9e369d4\u001b[0m\n",
      "######################################################################### 100.0%\n",
      "\u001b[34m==>\u001b[0m \u001b[1mDownloading https://ghcr.io/v2/homebrew/core/imath/manifests/3.1.10\u001b[0m\n",
      "######################################################################### 100.0%\n",
      "\u001b[32m==>\u001b[0m \u001b[1mFetching \u001b[32mimath\u001b[39m\u001b[0m\n",
      "\u001b[34m==>\u001b[0m \u001b[1mDownloading https://ghcr.io/v2/homebrew/core/imath/blobs/sha256:24c57d4a0f4d\u001b[0m\n",
      "######################################################################### 100.0%\n",
      "\u001b[34m==>\u001b[0m \u001b[1mDownloading https://ghcr.io/v2/homebrew/core/xz/manifests/5.6.0\u001b[0m\n",
      "######################################################################### 100.0%\n",
      "\u001b[32m==>\u001b[0m \u001b[1mFetching \u001b[32mxz\u001b[39m\u001b[0m\n",
      "\u001b[34m==>\u001b[0m \u001b[1mDownloading https://ghcr.io/v2/homebrew/core/xz/blobs/sha256:6dd426cf064ecc9\u001b[0m\n",
      "######################################################################### 100.0%\n",
      "\u001b[34m==>\u001b[0m \u001b[1mDownloading https://ghcr.io/v2/homebrew/core/openexr/manifests/3.2.2\u001b[0m\n",
      "######################################################################### 100.0%\n",
      "\u001b[32m==>\u001b[0m \u001b[1mFetching \u001b[32mopenexr\u001b[39m\u001b[0m\n",
      "\u001b[34m==>\u001b[0m \u001b[1mDownloading https://ghcr.io/v2/homebrew/core/openexr/blobs/sha256:52f5d88e6e\u001b[0m\n",
      "######################################################################### 100.0%\n",
      "\u001b[34m==>\u001b[0m \u001b[1mDownloading https://ghcr.io/v2/homebrew/core/jpeg-xl/manifests/0.10.1\u001b[0m\n",
      "######################################################################### 100.0%\n",
      "\u001b[32m==>\u001b[0m \u001b[1mFetching \u001b[32mjpeg-xl\u001b[39m\u001b[0m\n",
      "\u001b[34m==>\u001b[0m \u001b[1mDownloading https://ghcr.io/v2/homebrew/core/jpeg-xl/blobs/sha256:bb6ef9768e\u001b[0m\n",
      "######################################################################### 100.0%\n",
      "\u001b[34m==>\u001b[0m \u001b[1mDownloading https://ghcr.io/v2/homebrew/core/libvmaf/manifests/3.0.0\u001b[0m\n",
      "######################################################################### 100.0%\n",
      "\u001b[32m==>\u001b[0m \u001b[1mFetching \u001b[32mlibvmaf\u001b[39m\u001b[0m\n",
      "\u001b[34m==>\u001b[0m \u001b[1mDownloading https://ghcr.io/v2/homebrew/core/libvmaf/blobs/sha256:bdc90ebc17\u001b[0m\n",
      "######################################################################### 100.0%\n",
      "\u001b[34m==>\u001b[0m \u001b[1mDownloading https://ghcr.io/v2/homebrew/core/aom/manifests/3.8.1\u001b[0m\n",
      "######################################################################### 100.0%\n",
      "\u001b[32m==>\u001b[0m \u001b[1mFetching \u001b[32maom\u001b[39m\u001b[0m\n",
      "\u001b[34m==>\u001b[0m \u001b[1mDownloading https://ghcr.io/v2/homebrew/core/aom/blobs/sha256:fc312c24fe4358\u001b[0m\n",
      "######################################################################### 100.0%\n",
      "\u001b[34m==>\u001b[0m \u001b[1mDownloading https://ghcr.io/v2/homebrew/core/dav1d/manifests/1.4.0\u001b[0m\n",
      "######################################################################### 100.0%\n",
      "\u001b[32m==>\u001b[0m \u001b[1mFetching \u001b[32mdav1d\u001b[39m\u001b[0m\n",
      "\u001b[34m==>\u001b[0m \u001b[1mDownloading https://ghcr.io/v2/homebrew/core/dav1d/blobs/sha256:03efb80ff191\u001b[0m\n",
      "######################################################################### 100.0%\n",
      "\u001b[34m==>\u001b[0m \u001b[1mDownloading https://ghcr.io/v2/homebrew/core/frei0r/manifests/2.3.2\u001b[0m\n",
      "######################################################################### 100.0%\n",
      "\u001b[32m==>\u001b[0m \u001b[1mFetching \u001b[32mfrei0r\u001b[39m\u001b[0m\n",
      "\u001b[34m==>\u001b[0m \u001b[1mDownloading https://ghcr.io/v2/homebrew/core/frei0r/blobs/sha256:69b7048afec\u001b[0m\n",
      "######################################################################### 100.0%\n",
      "\u001b[34m==>\u001b[0m \u001b[1mDownloading https://ghcr.io/v2/homebrew/core/libidn2/manifests/2.3.7\u001b[0m\n",
      "######################################################################### 100.0%\n",
      "\u001b[32m==>\u001b[0m \u001b[1mFetching \u001b[32mlibidn2\u001b[39m\u001b[0m\n",
      "\u001b[34m==>\u001b[0m \u001b[1mDownloading https://ghcr.io/v2/homebrew/core/libidn2/blobs/sha256:670f6ed376\u001b[0m\n",
      "######################################################################### 100.0%\n",
      "\u001b[34m==>\u001b[0m \u001b[1mDownloading https://ghcr.io/v2/homebrew/core/libnghttp2/manifests/1.60.0\u001b[0m\n",
      "######################################################################### 100.0%\n",
      "\u001b[32m==>\u001b[0m \u001b[1mFetching \u001b[32mlibnghttp2\u001b[39m\u001b[0m\n",
      "\u001b[34m==>\u001b[0m \u001b[1mDownloading https://ghcr.io/v2/homebrew/core/libnghttp2/blobs/sha256:e39f88d\u001b[0m\n",
      "######################################################################### 100.0%\n",
      "\u001b[34m==>\u001b[0m \u001b[1mDownloading https://ghcr.io/v2/homebrew/core/unbound/manifests/1.19.1\u001b[0m\n",
      "######################################################################### 100.0%\n",
      "\u001b[32m==>\u001b[0m \u001b[1mFetching \u001b[32munbound\u001b[39m\u001b[0m\n",
      "\u001b[34m==>\u001b[0m \u001b[1mDownloading https://ghcr.io/v2/homebrew/core/unbound/blobs/sha256:3aad83b9d5\u001b[0m\n",
      "######################################################################### 100.0%\n",
      "\u001b[34m==>\u001b[0m \u001b[1mDownloading https://ghcr.io/v2/homebrew/core/gnutls/manifests/3.8.3\u001b[0m\n",
      "######################################################################### 100.0%\n",
      "\u001b[32m==>\u001b[0m \u001b[1mFetching \u001b[32mgnutls\u001b[39m\u001b[0m\n",
      "\u001b[34m==>\u001b[0m \u001b[1mDownloading https://ghcr.io/v2/homebrew/core/gnutls/blobs/sha256:e56a8040de5\u001b[0m\n",
      "######################################################################### 100.0%\n",
      "\u001b[34m==>\u001b[0m \u001b[1mDownloading https://ghcr.io/v2/homebrew/core/cjson/manifests/1.7.17\u001b[0m\n",
      "######################################################################### 100.0%\n",
      "\u001b[32m==>\u001b[0m \u001b[1mFetching \u001b[32mcjson\u001b[39m\u001b[0m\n",
      "\u001b[34m==>\u001b[0m \u001b[1mDownloading https://ghcr.io/v2/homebrew/core/cjson/blobs/sha256:b78dd2e9c8ca\u001b[0m\n",
      "######################################################################### 100.0%\n",
      "\u001b[34m==>\u001b[0m \u001b[1mDownloading https://ghcr.io/v2/homebrew/core/libmicrohttpd/manifests/1.0.0\u001b[0m\n",
      "######################################################################### 100.0%\n",
      "\u001b[32m==>\u001b[0m \u001b[1mFetching \u001b[32mlibmicrohttpd\u001b[39m\u001b[0m\n",
      "\u001b[34m==>\u001b[0m \u001b[1mDownloading https://ghcr.io/v2/homebrew/core/libmicrohttpd/blobs/sha256:2a41\u001b[0m\n",
      "######################################################################### 100.0%\n",
      "\u001b[34m==>\u001b[0m \u001b[1mDownloading https://ghcr.io/v2/homebrew/core/mbedtls/manifests/3.5.2\u001b[0m\n",
      "######################################################################### 100.0%\n",
      "\u001b[32m==>\u001b[0m \u001b[1mFetching \u001b[32mmbedtls\u001b[39m\u001b[0m\n",
      "\u001b[34m==>\u001b[0m \u001b[1mDownloading https://ghcr.io/v2/homebrew/core/mbedtls/blobs/sha256:a0f2bf18e2\u001b[0m\n",
      "######################################################################### 100.0%\n",
      "\u001b[34m==>\u001b[0m \u001b[1mDownloading https://ghcr.io/v2/homebrew/core/libssh/manifests/0.10.6\u001b[0m\n",
      "######################################################################### 100.0%\n",
      "\u001b[32m==>\u001b[0m \u001b[1mFetching \u001b[32mlibssh\u001b[39m\u001b[0m\n",
      "\u001b[34m==>\u001b[0m \u001b[1mDownloading https://ghcr.io/v2/homebrew/core/libssh/blobs/sha256:f46550586ee\u001b[0m\n",
      "######################################################################### 100.0%\n",
      "\u001b[34m==>\u001b[0m \u001b[1mDownloading https://ghcr.io/v2/homebrew/core/openjpeg/manifests/2.5.2\u001b[0m\n",
      "######################################################################### 100.0%\n",
      "\u001b[32m==>\u001b[0m \u001b[1mFetching \u001b[32mopenjpeg\u001b[39m\u001b[0m\n",
      "\u001b[34m==>\u001b[0m \u001b[1mDownloading https://ghcr.io/v2/homebrew/core/openjpeg/blobs/sha256:eef55952d\u001b[0m\n",
      "######################################################################### 100.0%\n",
      "\u001b[34m==>\u001b[0m \u001b[1mDownloading https://ghcr.io/v2/homebrew/core/isl/manifests/0.26\u001b[0m\n",
      "######################################################################### 100.0%\n",
      "\u001b[32m==>\u001b[0m \u001b[1mFetching \u001b[32misl\u001b[39m\u001b[0m\n",
      "\u001b[34m==>\u001b[0m \u001b[1mDownloading https://ghcr.io/v2/homebrew/core/isl/blobs/sha256:00b4bed8680e65\u001b[0m\n",
      "######################################################################### 100.0%\n",
      "\u001b[34m==>\u001b[0m \u001b[1mDownloading https://ghcr.io/v2/homebrew/core/mpfr/manifests/4.2.1\u001b[0m\n",
      "######################################################################### 100.0%\n",
      "\u001b[32m==>\u001b[0m \u001b[1mFetching \u001b[32mmpfr\u001b[39m\u001b[0m\n",
      "\u001b[34m==>\u001b[0m \u001b[1mDownloading https://ghcr.io/v2/homebrew/core/mpfr/blobs/sha256:71c4d6cc59a5b\u001b[0m\n",
      "######################################################################### 100.0%\n",
      "\u001b[34m==>\u001b[0m \u001b[1mDownloading https://ghcr.io/v2/homebrew/core/libmpc/manifests/1.3.1\u001b[0m\n",
      "######################################################################### 100.0%\n",
      "\u001b[32m==>\u001b[0m \u001b[1mFetching \u001b[32mlibmpc\u001b[39m\u001b[0m\n",
      "\u001b[34m==>\u001b[0m \u001b[1mDownloading https://ghcr.io/v2/homebrew/core/libmpc/blobs/sha256:909895bde68\u001b[0m\n",
      "######################################################################### 100.0%\n",
      "\u001b[34m==>\u001b[0m \u001b[1mDownloading https://ghcr.io/v2/homebrew/core/gcc/manifests/13.2.0-2\u001b[0m\n",
      "######################################################################### 100.0%\n",
      "\u001b[32m==>\u001b[0m \u001b[1mFetching \u001b[32mgcc\u001b[39m\u001b[0m\n",
      "\u001b[34m==>\u001b[0m \u001b[1mDownloading https://ghcr.io/v2/homebrew/core/gcc/blobs/sha256:85037a5e7d463f\u001b[0m\n",
      "######################################################################### 100.0%\n",
      "\u001b[34m==>\u001b[0m \u001b[1mDownloading https://ghcr.io/v2/homebrew/core/openblas/manifests/0.3.26\u001b[0m\n",
      "######################################################################### 100.0%\n",
      "\u001b[32m==>\u001b[0m \u001b[1mFetching \u001b[32mopenblas\u001b[39m\u001b[0m\n",
      "\u001b[34m==>\u001b[0m \u001b[1mDownloading https://ghcr.io/v2/homebrew/core/openblas/blobs/sha256:36624d7ba\u001b[0m\n",
      "######################################################################### 100.0%\n",
      "\u001b[34m==>\u001b[0m \u001b[1mDownloading https://ghcr.io/v2/homebrew/core/numpy/manifests/1.26.4\u001b[0m\n",
      "######################################################################### 100.0%\n",
      "\u001b[32m==>\u001b[0m \u001b[1mFetching \u001b[32mnumpy\u001b[39m\u001b[0m\n",
      "\u001b[34m==>\u001b[0m \u001b[1mDownloading https://ghcr.io/v2/homebrew/core/numpy/blobs/sha256:e5a11ee6e1e4\u001b[0m\n",
      "######################################################################### 100.0%\n",
      "\u001b[34m==>\u001b[0m \u001b[1mDownloading https://ghcr.io/v2/homebrew/core/pugixml/manifests/1.14\u001b[0m\n",
      "######################################################################### 100.0%\n",
      "\u001b[32m==>\u001b[0m \u001b[1mFetching \u001b[32mpugixml\u001b[39m\u001b[0m\n",
      "\u001b[34m==>\u001b[0m \u001b[1mDownloading https://ghcr.io/v2/homebrew/core/pugixml/blobs/sha256:84389a39de\u001b[0m\n",
      "######################################################################### 100.0%\n",
      "\u001b[34m==>\u001b[0m \u001b[1mDownloading https://ghcr.io/v2/homebrew/core/hwloc/manifests/2.10.0\u001b[0m\n",
      "######################################################################### 100.0%\n",
      "\u001b[32m==>\u001b[0m \u001b[1mFetching \u001b[32mhwloc\u001b[39m\u001b[0m\n",
      "\u001b[34m==>\u001b[0m \u001b[1mDownloading https://ghcr.io/v2/homebrew/core/hwloc/blobs/sha256:19cbbbca07f9\u001b[0m\n",
      "######################################################################### 100.0%\n",
      "\u001b[34m==>\u001b[0m \u001b[1mDownloading https://ghcr.io/v2/homebrew/core/tbb/manifests/2021.11.0-1\u001b[0m\n",
      "######################################################################### 100.0%\n",
      "\u001b[32m==>\u001b[0m \u001b[1mFetching \u001b[32mtbb\u001b[39m\u001b[0m\n",
      "\u001b[34m==>\u001b[0m \u001b[1mDownloading https://ghcr.io/v2/homebrew/core/tbb/blobs/sha256:c24bd15b42e0ae\u001b[0m\n",
      "######################################################################### 100.0%\n",
      "\u001b[34m==>\u001b[0m \u001b[1mDownloading https://ghcr.io/v2/homebrew/core/openvino/manifests/2023.3.0\u001b[0m\n",
      "######################################################################### 100.0%\n",
      "\u001b[32m==>\u001b[0m \u001b[1mFetching \u001b[32mopenvino\u001b[39m\u001b[0m\n",
      "\u001b[34m==>\u001b[0m \u001b[1mDownloading https://ghcr.io/v2/homebrew/core/openvino/blobs/sha256:0aa85634e\u001b[0m\n",
      "######################################################################### 100.0%\n",
      "\u001b[34m==>\u001b[0m \u001b[1mDownloading https://ghcr.io/v2/homebrew/core/rav1e/manifests/0.7.1\u001b[0m\n",
      "######################################################################### 100.0%\n",
      "\u001b[32m==>\u001b[0m \u001b[1mFetching \u001b[32mrav1e\u001b[39m\u001b[0m\n",
      "\u001b[34m==>\u001b[0m \u001b[1mDownloading https://ghcr.io/v2/homebrew/core/rav1e/blobs/sha256:03c3c20f83de\u001b[0m\n",
      "######################################################################### 100.0%\n",
      "\u001b[34m==>\u001b[0m \u001b[1mDownloading https://ghcr.io/v2/homebrew/core/mpg123/manifests/1.32.5\u001b[0m\n",
      "######################################################################### 100.0%\n",
      "\u001b[32m==>\u001b[0m \u001b[1mFetching \u001b[32mmpg123\u001b[39m\u001b[0m\n",
      "\u001b[34m==>\u001b[0m \u001b[1mDownloading https://ghcr.io/v2/homebrew/core/mpg123/blobs/sha256:2fe489561b0\u001b[0m\n",
      "######################################################################### 100.0%\n",
      "\u001b[34m==>\u001b[0m \u001b[1mDownloading https://ghcr.io/v2/homebrew/core/sdl2/manifests/2.30.0\u001b[0m\n",
      "######################################################################### 100.0%\n",
      "\u001b[32m==>\u001b[0m \u001b[1mFetching \u001b[32msdl2\u001b[39m\u001b[0m\n",
      "\u001b[34m==>\u001b[0m \u001b[1mDownloading https://ghcr.io/v2/homebrew/core/sdl2/blobs/sha256:ad1ffd46cba06\u001b[0m\n",
      "######################################################################### 100.0%\n",
      "\u001b[34m==>\u001b[0m \u001b[1mDownloading https://ghcr.io/v2/homebrew/core/svt-av1/manifests/1.8.0-1\u001b[0m\n",
      "######################################################################### 100.0%\n",
      "\u001b[32m==>\u001b[0m \u001b[1mFetching \u001b[32msvt-av1\u001b[39m\u001b[0m\n",
      "\u001b[34m==>\u001b[0m \u001b[1mDownloading https://ghcr.io/v2/homebrew/core/svt-av1/blobs/sha256:34144067a6\u001b[0m\n",
      "######################################################################### 100.0%\n",
      "\u001b[32m==>\u001b[0m \u001b[1mFetching \u001b[32mffmpeg\u001b[39m\u001b[0m\n",
      "\u001b[34m==>\u001b[0m \u001b[1mDownloading https://ghcr.io/v2/homebrew/core/ffmpeg/blobs/sha256:19a24e342e9\u001b[0m\n",
      "######################################################################### 100.0%\n",
      "\u001b[32m==>\u001b[0m \u001b[1mUpgrading \u001b[32mlibpq\u001b[39m\n",
      "  16.1_1 -> 16.2_1 \n",
      "\u001b[0m\n",
      "\u001b[32m==>\u001b[0m \u001b[1mInstalling dependencies for libpq: \u001b[32mca-certificates\u001b[39m and \u001b[32mopenssl@3\u001b[39m\u001b[0m\n",
      "\u001b[32m==>\u001b[0m \u001b[1mInstalling libpq dependency: \u001b[32mca-certificates\u001b[39m\u001b[0m\n",
      "\u001b[34m==>\u001b[0m \u001b[1mDownloading https://ghcr.io/v2/homebrew/core/ca-certificates/manifests/2023-\u001b[0m\n",
      "Already downloaded: /Users/shua/Library/Caches/Homebrew/downloads/13aa86e429e05d02a76005d1881eaf625091a5ac4dc7d7674c706d12ba48796a--ca-certificates-2023-12-12.bottle_manifest.json\n",
      "\u001b[34m==>\u001b[0m \u001b[1mPouring ca-certificates--2023-12-12.all.bottle.tar.gz\u001b[0m\n",
      "\u001b[34m==>\u001b[0m \u001b[1mRegenerating CA certificate bundle from keychain, this may take a while...\u001b[0m\n",
      "🍺  /opt/homebrew/Cellar/ca-certificates/2023-12-12: 3 files, 226.7KB\n",
      "\u001b[32m==>\u001b[0m \u001b[1mInstalling libpq dependency: \u001b[32mopenssl@3\u001b[39m\u001b[0m\n",
      "\u001b[34m==>\u001b[0m \u001b[1mDownloading https://ghcr.io/v2/homebrew/core/openssl/3/manifests/3.2.1-1\u001b[0m\n",
      "Already downloaded: /Users/shua/Library/Caches/Homebrew/downloads/f7b6e249843882452d784a8cbc4e19231186230b9e485a2a284d5c1952a95ec2--openssl@3-3.2.1-1.bottle_manifest.json\n",
      "\u001b[34m==>\u001b[0m \u001b[1mPouring openssl@3--3.2.1.arm64_sonoma.bottle.1.tar.gz\u001b[0m\n",
      "🍺  /opt/homebrew/Cellar/openssl@3/3.2.1: 6,874 files, 32MB\n",
      "\u001b[32m==>\u001b[0m \u001b[1mInstalling \u001b[32mlibpq\u001b[39m\u001b[0m\n",
      "\u001b[34m==>\u001b[0m \u001b[1mPouring libpq--16.2_1.arm64_sonoma.bottle.tar.gz\u001b[0m\n",
      "\u001b[34m==>\u001b[0m \u001b[1mCaveats\u001b[0m\n",
      "libpq is keg-only, which means it was not symlinked into /opt/homebrew,\n",
      "because conflicts with postgres formula.\n",
      "\n",
      "If you need to have libpq first in your PATH, run:\n",
      "  echo 'export PATH=\"/opt/homebrew/opt/libpq/bin:$PATH\"' >> ~/.zshrc\n",
      "\n",
      "For compilers to find libpq you may need to set:\n",
      "  export LDFLAGS=\"-L/opt/homebrew/opt/libpq/lib\"\n",
      "  export CPPFLAGS=\"-I/opt/homebrew/opt/libpq/include\"\n",
      "\n",
      "For pkg-config to find libpq you may need to set:\n",
      "  export PKG_CONFIG_PATH=\"/opt/homebrew/opt/libpq/lib/pkgconfig\"\n",
      "\u001b[34m==>\u001b[0m \u001b[1mSummary\u001b[0m\n",
      "🍺  /opt/homebrew/Cellar/libpq/16.2_1: 2,381 files, 29.9MB\n",
      "\u001b[34m==>\u001b[0m \u001b[1mRunning `brew cleanup libpq`...\u001b[0m\n",
      "Removing: /opt/homebrew/Cellar/libpq/16.1_1... (2,380 files, 29.9MB)\n",
      "\u001b[32m==>\u001b[0m \u001b[1mUpgrading \u001b[32mharfbuzz\u001b[39m\n",
      "  8.3.0 -> 8.3.0_1 \n",
      "\u001b[0m\n",
      "\u001b[32m==>\u001b[0m \u001b[1mInstalling dependencies for harfbuzz: \u001b[32mlibpng\u001b[39m, \u001b[32mfontconfig\u001b[39m, \u001b[32mgettext\u001b[39m, \u001b[32mglib\u001b[39m and \u001b[32mlibxext\u001b[39m\u001b[0m\n",
      "\u001b[32m==>\u001b[0m \u001b[1mInstalling harfbuzz dependency: \u001b[32mlibpng\u001b[39m\u001b[0m\n",
      "\u001b[34m==>\u001b[0m \u001b[1mDownloading https://ghcr.io/v2/homebrew/core/libpng/manifests/1.6.43\u001b[0m\n",
      "Already downloaded: /Users/shua/Library/Caches/Homebrew/downloads/dd618b09b8d6d4b89203b771528951e5309631cc3afd8dc1236f0e98965f2b67--libpng-1.6.43.bottle_manifest.json\n",
      "\u001b[34m==>\u001b[0m \u001b[1mPouring libpng--1.6.43.arm64_sonoma.bottle.tar.gz\u001b[0m\n",
      "🍺  /opt/homebrew/Cellar/libpng/1.6.43: 27 files, 1.3MB\n",
      "\u001b[32m==>\u001b[0m \u001b[1mInstalling harfbuzz dependency: \u001b[32mfontconfig\u001b[39m\u001b[0m\n",
      "\u001b[34m==>\u001b[0m \u001b[1mDownloading https://ghcr.io/v2/homebrew/core/fontconfig/manifests/2.15.0\u001b[0m\n",
      "Already downloaded: /Users/shua/Library/Caches/Homebrew/downloads/33d176010dc9a105404ed23b6c0f8b853bf3a2df2e274876d412d7229a643320--fontconfig-2.15.0.bottle_manifest.json\n",
      "\u001b[34m==>\u001b[0m \u001b[1mPouring fontconfig--2.15.0.arm64_sonoma.bottle.tar.gz\u001b[0m\n",
      "\u001b[34m==>\u001b[0m \u001b[1mRegenerating font cache, this may take a while\u001b[0m\n",
      "\u001b[34m==>\u001b[0m \u001b[1m/opt/homebrew/Cellar/fontconfig/2.15.0/bin/fc-cache -frv\u001b[0m\n",
      "🍺  /opt/homebrew/Cellar/fontconfig/2.15.0: 90 files, 2.4MB\n",
      "\u001b[32m==>\u001b[0m \u001b[1mInstalling harfbuzz dependency: \u001b[32mgettext\u001b[39m\u001b[0m\n",
      "\u001b[34m==>\u001b[0m \u001b[1mDownloading https://ghcr.io/v2/homebrew/core/gettext/manifests/0.22.5\u001b[0m\n",
      "Already downloaded: /Users/shua/Library/Caches/Homebrew/downloads/447e45b77bb47ede0377f7eab1863825298ecaaaeed0bbd84aca3bd300b00508--gettext-0.22.5.bottle_manifest.json\n",
      "\u001b[34m==>\u001b[0m \u001b[1mPouring gettext--0.22.5.arm64_sonoma.bottle.tar.gz\u001b[0m\n",
      "🍺  /opt/homebrew/Cellar/gettext/0.22.5: 2,043 files, 24.4MB\n",
      "\u001b[32m==>\u001b[0m \u001b[1mInstalling harfbuzz dependency: \u001b[32mglib\u001b[39m\u001b[0m\n",
      "\u001b[34m==>\u001b[0m \u001b[1mDownloading https://ghcr.io/v2/homebrew/core/glib/manifests/2.78.4\u001b[0m\n",
      "Already downloaded: /Users/shua/Library/Caches/Homebrew/downloads/aef5bf088596f6a37eb7ae224416357a2769019fea7a8a82896a6065e374f754--glib-2.78.4.bottle_manifest.json\n",
      "\u001b[34m==>\u001b[0m \u001b[1mPouring glib--2.78.4.arm64_sonoma.bottle.tar.gz\u001b[0m\n",
      "🍺  /opt/homebrew/Cellar/glib/2.78.4: 456 files, 22.5MB\n",
      "\u001b[32m==>\u001b[0m \u001b[1mInstalling harfbuzz dependency: \u001b[32mlibxext\u001b[39m\u001b[0m\n",
      "\u001b[34m==>\u001b[0m \u001b[1mDownloading https://ghcr.io/v2/homebrew/core/libxext/manifests/1.3.6\u001b[0m\n",
      "Already downloaded: /Users/shua/Library/Caches/Homebrew/downloads/fedb843acbfcf682fb451396914bfc096f9ea2748376d4c43ce2af7ce1b766b7--libxext-1.3.6.bottle_manifest.json\n",
      "\u001b[34m==>\u001b[0m \u001b[1mPouring libxext--1.3.6.arm64_sonoma.bottle.tar.gz\u001b[0m\n",
      "🍺  /opt/homebrew/Cellar/libxext/1.3.6: 87 files, 450.8KB\n",
      "\u001b[32m==>\u001b[0m \u001b[1mInstalling \u001b[32mharfbuzz\u001b[39m\u001b[0m\n",
      "\u001b[34m==>\u001b[0m \u001b[1mPouring harfbuzz--8.3.0_1.arm64_sonoma.bottle.tar.gz\u001b[0m\n",
      "🍺  /opt/homebrew/Cellar/harfbuzz/8.3.0_1: 76 files, 9.5MB\n",
      "\u001b[34m==>\u001b[0m \u001b[1mRunning `brew cleanup harfbuzz`...\u001b[0m\n",
      "Removing: /opt/homebrew/Cellar/harfbuzz/8.3.0... (76 files, 9.5MB)\n",
      "\u001b[32m==>\u001b[0m \u001b[1mUpgrading \u001b[32mlibass\u001b[39m\n",
      "  0.17.1 -> 0.17.1_1 \n",
      "\u001b[0m\n",
      "\u001b[32m==>\u001b[0m \u001b[1mInstalling dependencies for libass: \u001b[32mlibunibreak\u001b[39m\u001b[0m\n",
      "\u001b[32m==>\u001b[0m \u001b[1mInstalling libass dependency: \u001b[32mlibunibreak\u001b[39m\u001b[0m\n",
      "\u001b[34m==>\u001b[0m \u001b[1mDownloading https://ghcr.io/v2/homebrew/core/libunibreak/manifests/6.0\u001b[0m\n",
      "Already downloaded: /Users/shua/Library/Caches/Homebrew/downloads/27f1c872c2901a10c6dd710287a614d3fe5d656c385f5765221431defa0060b3--libunibreak-6.0.bottle_manifest.json\n",
      "\u001b[34m==>\u001b[0m \u001b[1mPouring libunibreak--6.0.arm64_sonoma.bottle.tar.gz\u001b[0m\n",
      "🍺  /opt/homebrew/Cellar/libunibreak/6.0: 17 files, 398.3KB\n",
      "\u001b[32m==>\u001b[0m \u001b[1mInstalling \u001b[32mlibass\u001b[39m\u001b[0m\n",
      "\u001b[34m==>\u001b[0m \u001b[1mPouring libass--0.17.1_1.arm64_sonoma.bottle.tar.gz\u001b[0m\n",
      "🍺  /opt/homebrew/Cellar/libass/0.17.1_1: 11 files, 530.9KB\n",
      "\u001b[34m==>\u001b[0m \u001b[1mRunning `brew cleanup libass`...\u001b[0m\n",
      "Removing: /opt/homebrew/Cellar/libass/0.17.1... (11 files, 530.9KB)\n",
      "\u001b[32m==>\u001b[0m \u001b[1mUpgrading \u001b[32mtesseract\u001b[39m\n",
      "  5.3.3 -> 5.3.4_1 \n",
      "\u001b[0m\n",
      "\u001b[32m==>\u001b[0m \u001b[1mInstalling dependencies for tesseract: \u001b[32mjpeg-turbo\u001b[39m, \u001b[32mlittle-cms2\u001b[39m and \u001b[32mleptonica\u001b[39m\u001b[0m\n",
      "\u001b[32m==>\u001b[0m \u001b[1mInstalling tesseract dependency: \u001b[32mjpeg-turbo\u001b[39m\u001b[0m\n",
      "\u001b[34m==>\u001b[0m \u001b[1mDownloading https://ghcr.io/v2/homebrew/core/jpeg-turbo/manifests/3.0.1\u001b[0m\n",
      "Already downloaded: /Users/shua/Library/Caches/Homebrew/downloads/abe7baf77a474e831f940214d72e8d72182373e6ea726884670f2d90f47525a7--jpeg-turbo-3.0.1.bottle_manifest.json\n",
      "\u001b[34m==>\u001b[0m \u001b[1mPouring jpeg-turbo--3.0.1.arm64_sonoma.bottle.tar.gz\u001b[0m\n",
      "🍺  /opt/homebrew/Cellar/jpeg-turbo/3.0.1: 44 files, 3.4MB\n",
      "\u001b[32m==>\u001b[0m \u001b[1mInstalling tesseract dependency: \u001b[32mlittle-cms2\u001b[39m\u001b[0m\n",
      "\u001b[34m==>\u001b[0m \u001b[1mDownloading https://ghcr.io/v2/homebrew/core/little-cms2/manifests/2.16\u001b[0m\n",
      "Already downloaded: /Users/shua/Library/Caches/Homebrew/downloads/c4e2b31b0daade62da1f3c2e57d69f74987bac35310011b87220145fa60b3558--little-cms2-2.16.bottle_manifest.json\n",
      "\u001b[34m==>\u001b[0m \u001b[1mPouring little-cms2--2.16.arm64_sonoma.bottle.tar.gz\u001b[0m\n",
      "🍺  /opt/homebrew/Cellar/little-cms2/2.16: 22 files, 1.4MB\n",
      "\u001b[32m==>\u001b[0m \u001b[1mInstalling tesseract dependency: \u001b[32mleptonica\u001b[39m\u001b[0m\n",
      "\u001b[34m==>\u001b[0m \u001b[1mDownloading https://ghcr.io/v2/homebrew/core/leptonica/manifests/1.84.1\u001b[0m\n",
      "Already downloaded: /Users/shua/Library/Caches/Homebrew/downloads/dc88f036b102e560c7103a72d25bc9ac6cc15c37284c0a81cd30f4fc0281eaa9--leptonica-1.84.1.bottle_manifest.json\n",
      "\u001b[34m==>\u001b[0m \u001b[1mPouring leptonica--1.84.1.arm64_sonoma.bottle.tar.gz\u001b[0m\n",
      "🍺  /opt/homebrew/Cellar/leptonica/1.84.1: 56 files, 7.0MB\n",
      "\u001b[32m==>\u001b[0m \u001b[1mInstalling \u001b[32mtesseract\u001b[39m\u001b[0m\n",
      "\u001b[34m==>\u001b[0m \u001b[1mPouring tesseract--5.3.4_1.arm64_sonoma.bottle.tar.gz\u001b[0m\n",
      "🍺  /opt/homebrew/Cellar/tesseract/5.3.4_1: 73 files, 32.8MB\n",
      "\u001b[34m==>\u001b[0m \u001b[1mRunning `brew cleanup tesseract`...\u001b[0m\n",
      "Removing: /opt/homebrew/Cellar/tesseract/5.3.3... (73 files, 32.8MB)\n",
      "\u001b[32m==>\u001b[0m \u001b[1mUpgrading \u001b[32mffmpeg\u001b[39m\n",
      "  6.0_1 -> 6.1.1_4 \n",
      "\u001b[0m\n",
      "\u001b[32m==>\u001b[0m \u001b[1mInstalling dependencies for ffmpeg: \u001b[32mhighway\u001b[39m, \u001b[32mimath\u001b[39m, \u001b[32mxz\u001b[39m, \u001b[32mopenexr\u001b[39m, \u001b[32mjpeg-xl\u001b[39m, \u001b[32mlibvmaf\u001b[39m, \u001b[32maom\u001b[39m, \u001b[32mdav1d\u001b[39m, \u001b[32mfrei0r\u001b[39m, \u001b[32mlibidn2\u001b[39m, \u001b[32mlibnghttp2\u001b[39m, \u001b[32munbound\u001b[39m, \u001b[32mgnutls\u001b[39m, \u001b[32mcjson\u001b[39m, \u001b[32mlibmicrohttpd\u001b[39m, \u001b[32mmbedtls\u001b[39m, \u001b[32mlibssh\u001b[39m, \u001b[32mopenjpeg\u001b[39m, \u001b[32misl\u001b[39m, \u001b[32mmpfr\u001b[39m, \u001b[32mlibmpc\u001b[39m, \u001b[32mgcc\u001b[39m, \u001b[32mopenblas\u001b[39m, \u001b[32mnumpy\u001b[39m, \u001b[32mpugixml\u001b[39m, \u001b[32mhwloc\u001b[39m, \u001b[32mtbb\u001b[39m, \u001b[32mopenvino\u001b[39m, \u001b[32mrav1e\u001b[39m, \u001b[32mmpg123\u001b[39m, \u001b[32msdl2\u001b[39m and \u001b[32msvt-av1\u001b[39m\u001b[0m\n",
      "\u001b[32m==>\u001b[0m \u001b[1mInstalling ffmpeg dependency: \u001b[32mhighway\u001b[39m\u001b[0m\n",
      "\u001b[34m==>\u001b[0m \u001b[1mDownloading https://ghcr.io/v2/homebrew/core/highway/manifests/1.1.0\u001b[0m\n",
      "Already downloaded: /Users/shua/Library/Caches/Homebrew/downloads/7ce58fabeff5804d02234c64dacb66f2fc8799558e56104a42ba7d82a8ad7ffa--highway-1.1.0.bottle_manifest.json\n",
      "\u001b[34m==>\u001b[0m \u001b[1mPouring highway--1.1.0.arm64_sonoma.bottle.tar.gz\u001b[0m\n",
      "🍺  /opt/homebrew/Cellar/highway/1.1.0: 70 files, 3.7MB\n",
      "\u001b[32m==>\u001b[0m \u001b[1mInstalling ffmpeg dependency: \u001b[32mimath\u001b[39m\u001b[0m\n",
      "\u001b[34m==>\u001b[0m \u001b[1mDownloading https://ghcr.io/v2/homebrew/core/imath/manifests/3.1.10\u001b[0m\n",
      "Already downloaded: /Users/shua/Library/Caches/Homebrew/downloads/5779a4560be17477726d46e846e28aef31f460d062b6df76dfe0d03a360d2592--imath-3.1.10.bottle_manifest.json\n",
      "\u001b[34m==>\u001b[0m \u001b[1mPouring imath--3.1.10.arm64_sonoma.bottle.tar.gz\u001b[0m\n",
      "🍺  /opt/homebrew/Cellar/imath/3.1.10: 49 files, 939.8KB\n",
      "\u001b[32m==>\u001b[0m \u001b[1mInstalling ffmpeg dependency: \u001b[32mxz\u001b[39m\u001b[0m\n",
      "\u001b[34m==>\u001b[0m \u001b[1mDownloading https://ghcr.io/v2/homebrew/core/xz/manifests/5.6.0\u001b[0m\n",
      "Already downloaded: /Users/shua/Library/Caches/Homebrew/downloads/dae61a60095680979c8a199f93b6d78d4cc0891501b87f0855e924cfd9831dbd--xz-5.6.0.bottle_manifest.json\n",
      "\u001b[34m==>\u001b[0m \u001b[1mPouring xz--5.6.0.arm64_sonoma.bottle.tar.gz\u001b[0m\n",
      "🍺  /opt/homebrew/Cellar/xz/5.6.0: 166 files, 2.7MB\n",
      "\u001b[32m==>\u001b[0m \u001b[1mInstalling ffmpeg dependency: \u001b[32mopenexr\u001b[39m\u001b[0m\n",
      "\u001b[34m==>\u001b[0m \u001b[1mDownloading https://ghcr.io/v2/homebrew/core/openexr/manifests/3.2.2\u001b[0m\n",
      "Already downloaded: /Users/shua/Library/Caches/Homebrew/downloads/4d320fdcd92498fdeb8280528331f94679a35434012d33b2fc633a4ba4d98a08--openexr-3.2.2.bottle_manifest.json\n",
      "\u001b[34m==>\u001b[0m \u001b[1mPouring openexr--3.2.2.arm64_sonoma.bottle.tar.gz\u001b[0m\n",
      "🍺  /opt/homebrew/Cellar/openexr/3.2.2: 204 files, 7.9MB\n",
      "\u001b[32m==>\u001b[0m \u001b[1mInstalling ffmpeg dependency: \u001b[32mjpeg-xl\u001b[39m\u001b[0m\n",
      "\u001b[34m==>\u001b[0m \u001b[1mDownloading https://ghcr.io/v2/homebrew/core/jpeg-xl/manifests/0.10.1\u001b[0m\n",
      "Already downloaded: /Users/shua/Library/Caches/Homebrew/downloads/6f8be743ea1bdf55ad74d61fb3f35c0c39221ee436f77af9aa5d9641881091e7--jpeg-xl-0.10.1.bottle_manifest.json\n",
      "\u001b[34m==>\u001b[0m \u001b[1mPouring jpeg-xl--0.10.1.arm64_sonoma.bottle.tar.gz\u001b[0m\n",
      "🍺  /opt/homebrew/Cellar/jpeg-xl/0.10.1: 45 files, 4.0MB\n",
      "\u001b[32m==>\u001b[0m \u001b[1mInstalling ffmpeg dependency: \u001b[32mlibvmaf\u001b[39m\u001b[0m\n",
      "\u001b[34m==>\u001b[0m \u001b[1mDownloading https://ghcr.io/v2/homebrew/core/libvmaf/manifests/3.0.0\u001b[0m\n",
      "Already downloaded: /Users/shua/Library/Caches/Homebrew/downloads/6bf89f1d683f34ff5b4c58275236e1f038d5d8189e538795d9af83e07d4c8404--libvmaf-3.0.0.bottle_manifest.json\n",
      "\u001b[34m==>\u001b[0m \u001b[1mPouring libvmaf--3.0.0.arm64_sonoma.bottle.tar.gz\u001b[0m\n",
      "🍺  /opt/homebrew/Cellar/libvmaf/3.0.0: 234 files, 7.2MB\n",
      "\u001b[32m==>\u001b[0m \u001b[1mInstalling ffmpeg dependency: \u001b[32maom\u001b[39m\u001b[0m\n",
      "\u001b[34m==>\u001b[0m \u001b[1mDownloading https://ghcr.io/v2/homebrew/core/aom/manifests/3.8.1\u001b[0m\n",
      "Already downloaded: /Users/shua/Library/Caches/Homebrew/downloads/9d2e330fff77ef4153e29bebdce7d34c89161d929b3203af1ef7e343ad75082c--aom-3.8.1.bottle_manifest.json\n",
      "\u001b[34m==>\u001b[0m \u001b[1mPouring aom--3.8.1.arm64_sonoma.bottle.tar.gz\u001b[0m\n",
      "🍺  /opt/homebrew/Cellar/aom/3.8.1: 23 files, 9.9MB\n",
      "\u001b[32m==>\u001b[0m \u001b[1mInstalling ffmpeg dependency: \u001b[32mdav1d\u001b[39m\u001b[0m\n",
      "\u001b[34m==>\u001b[0m \u001b[1mDownloading https://ghcr.io/v2/homebrew/core/dav1d/manifests/1.4.0\u001b[0m\n",
      "Already downloaded: /Users/shua/Library/Caches/Homebrew/downloads/34459f595cca6db1693b53c91337ff4124a362ee472855ee72bf4a7f7a217846--dav1d-1.4.0.bottle_manifest.json\n",
      "\u001b[34m==>\u001b[0m \u001b[1mPouring dav1d--1.4.0.arm64_sonoma.bottle.tar.gz\u001b[0m\n",
      "🍺  /opt/homebrew/Cellar/dav1d/1.4.0: 15 files, 903.4KB\n",
      "\u001b[32m==>\u001b[0m \u001b[1mInstalling ffmpeg dependency: \u001b[32mfrei0r\u001b[39m\u001b[0m\n",
      "\u001b[34m==>\u001b[0m \u001b[1mDownloading https://ghcr.io/v2/homebrew/core/frei0r/manifests/2.3.2\u001b[0m\n",
      "Already downloaded: /Users/shua/Library/Caches/Homebrew/downloads/91852d64b8d97723ec1a57089ba9f5a9eeff095850909578506626bdd7ec1913--frei0r-2.3.2.bottle_manifest.json\n",
      "\u001b[34m==>\u001b[0m \u001b[1mPouring frei0r--2.3.2.arm64_sonoma.bottle.tar.gz\u001b[0m\n",
      "🍺  /opt/homebrew/Cellar/frei0r/2.3.2: 154 files, 5.5MB\n",
      "\u001b[32m==>\u001b[0m \u001b[1mInstalling ffmpeg dependency: \u001b[32mlibidn2\u001b[39m\u001b[0m\n",
      "\u001b[34m==>\u001b[0m \u001b[1mDownloading https://ghcr.io/v2/homebrew/core/libidn2/manifests/2.3.7\u001b[0m\n",
      "Already downloaded: /Users/shua/Library/Caches/Homebrew/downloads/45d1d4d2930c4782bf53e761a1c0166cd8a40f4193ac8c44e86f0b6708e80354--libidn2-2.3.7.bottle_manifest.json\n",
      "\u001b[34m==>\u001b[0m \u001b[1mPouring libidn2--2.3.7.arm64_sonoma.bottle.tar.gz\u001b[0m\n",
      "🍺  /opt/homebrew/Cellar/libidn2/2.3.7: 80 files, 1MB\n",
      "\u001b[32m==>\u001b[0m \u001b[1mInstalling ffmpeg dependency: \u001b[32mlibnghttp2\u001b[39m\u001b[0m\n",
      "\u001b[34m==>\u001b[0m \u001b[1mDownloading https://ghcr.io/v2/homebrew/core/libnghttp2/manifests/1.60.0\u001b[0m\n",
      "Already downloaded: /Users/shua/Library/Caches/Homebrew/downloads/93526e3afa1b4f61ef51358f59948495ee0d7dd55c19eba4ca099e969cdc0781--libnghttp2-1.60.0.bottle_manifest.json\n",
      "\u001b[34m==>\u001b[0m \u001b[1mPouring libnghttp2--1.60.0.arm64_sonoma.bottle.tar.gz\u001b[0m\n",
      "🍺  /opt/homebrew/Cellar/libnghttp2/1.60.0: 13 files, 808.5KB\n",
      "\u001b[32m==>\u001b[0m \u001b[1mInstalling ffmpeg dependency: \u001b[32munbound\u001b[39m\u001b[0m\n",
      "\u001b[34m==>\u001b[0m \u001b[1mDownloading https://ghcr.io/v2/homebrew/core/unbound/manifests/1.19.1\u001b[0m\n",
      "Already downloaded: /Users/shua/Library/Caches/Homebrew/downloads/a93c93e935f5dedbc658fba284616ed6fcdada53d14652000a95d2100e23b5cb--unbound-1.19.1.bottle_manifest.json\n",
      "\u001b[34m==>\u001b[0m \u001b[1mPouring unbound--1.19.1.arm64_sonoma.bottle.tar.gz\u001b[0m\n",
      "🍺  /opt/homebrew/Cellar/unbound/1.19.1: 58 files, 5.8MB\n",
      "\u001b[32m==>\u001b[0m \u001b[1mInstalling ffmpeg dependency: \u001b[32mgnutls\u001b[39m\u001b[0m\n",
      "\u001b[34m==>\u001b[0m \u001b[1mDownloading https://ghcr.io/v2/homebrew/core/gnutls/manifests/3.8.3\u001b[0m\n",
      "Already downloaded: /Users/shua/Library/Caches/Homebrew/downloads/dd4b6cc2f99f160dcf7eb0a4efaf06ed24f83dd3da9e37e906f57c4e8b0da2af--gnutls-3.8.3.bottle_manifest.json\n",
      "\u001b[34m==>\u001b[0m \u001b[1mPouring gnutls--3.8.3.arm64_sonoma.bottle.tar.gz\u001b[0m\n",
      "🍺  /opt/homebrew/Cellar/gnutls/3.8.3: 1,290 files, 10.8MB\n",
      "\u001b[32m==>\u001b[0m \u001b[1mInstalling ffmpeg dependency: \u001b[32mcjson\u001b[39m\u001b[0m\n",
      "\u001b[34m==>\u001b[0m \u001b[1mDownloading https://ghcr.io/v2/homebrew/core/cjson/manifests/1.7.17\u001b[0m\n",
      "Already downloaded: /Users/shua/Library/Caches/Homebrew/downloads/cf55fa70fee20f7c1e02503108e2d0d5981d3209c4ca43763fcd623d1f60ccb8--cjson-1.7.17.bottle_manifest.json\n",
      "\u001b[34m==>\u001b[0m \u001b[1mPouring cjson--1.7.17.arm64_sonoma.bottle.tar.gz\u001b[0m\n",
      "🍺  /opt/homebrew/Cellar/cjson/1.7.17: 23 files, 254.2KB\n",
      "\u001b[32m==>\u001b[0m \u001b[1mInstalling ffmpeg dependency: \u001b[32mlibmicrohttpd\u001b[39m\u001b[0m\n",
      "\u001b[34m==>\u001b[0m \u001b[1mDownloading https://ghcr.io/v2/homebrew/core/libmicrohttpd/manifests/1.0.0\u001b[0m\n",
      "Already downloaded: /Users/shua/Library/Caches/Homebrew/downloads/31ec9333736656e55998ee667a9fdaf8ae856d794027c4149c6957ab5c4e5088--libmicrohttpd-1.0.0.bottle_manifest.json\n",
      "\u001b[34m==>\u001b[0m \u001b[1mPouring libmicrohttpd--1.0.0.arm64_sonoma.bottle.tar.gz\u001b[0m\n",
      "🍺  /opt/homebrew/Cellar/libmicrohttpd/1.0.0: 25 files, 1.5MB\n",
      "\u001b[32m==>\u001b[0m \u001b[1mInstalling ffmpeg dependency: \u001b[32mmbedtls\u001b[39m\u001b[0m\n",
      "\u001b[34m==>\u001b[0m \u001b[1mDownloading https://ghcr.io/v2/homebrew/core/mbedtls/manifests/3.5.2\u001b[0m\n",
      "Already downloaded: /Users/shua/Library/Caches/Homebrew/downloads/f70bb2d9a797275fc1b2f6d82c8afa96c4678c1af5a920df046929d8be1d010c--mbedtls-3.5.2.bottle_manifest.json\n",
      "\u001b[34m==>\u001b[0m \u001b[1mPouring mbedtls--3.5.2.arm64_sonoma.bottle.tar.gz\u001b[0m\n",
      "🍺  /opt/homebrew/Cellar/mbedtls/3.5.2: 192 files, 12MB\n",
      "\u001b[32m==>\u001b[0m \u001b[1mInstalling ffmpeg dependency: \u001b[32mlibssh\u001b[39m\u001b[0m\n",
      "\u001b[34m==>\u001b[0m \u001b[1mDownloading https://ghcr.io/v2/homebrew/core/libssh/manifests/0.10.6\u001b[0m\n",
      "Already downloaded: /Users/shua/Library/Caches/Homebrew/downloads/a4ff6d890d834da2f865bf30651aa0ed1423be8e2684d4586895f1d9c887449b--libssh-0.10.6.bottle_manifest.json\n",
      "\u001b[34m==>\u001b[0m \u001b[1mPouring libssh--0.10.6.arm64_sonoma.bottle.tar.gz\u001b[0m\n",
      "🍺  /opt/homebrew/Cellar/libssh/0.10.6: 23 files, 1.3MB\n",
      "\u001b[32m==>\u001b[0m \u001b[1mInstalling ffmpeg dependency: \u001b[32mopenjpeg\u001b[39m\u001b[0m\n",
      "\u001b[34m==>\u001b[0m \u001b[1mDownloading https://ghcr.io/v2/homebrew/core/openjpeg/manifests/2.5.2\u001b[0m\n",
      "Already downloaded: /Users/shua/Library/Caches/Homebrew/downloads/aa191c3580781971a7ecfcc8c109ad1f70e33174c5714ff2640476560c91f532--openjpeg-2.5.2.bottle_manifest.json\n",
      "\u001b[34m==>\u001b[0m \u001b[1mPouring openjpeg--2.5.2.arm64_sonoma.bottle.tar.gz\u001b[0m\n",
      "🍺  /opt/homebrew/Cellar/openjpeg/2.5.2: 538 files, 14.0MB\n",
      "\u001b[32m==>\u001b[0m \u001b[1mInstalling ffmpeg dependency: \u001b[32misl\u001b[39m\u001b[0m\n",
      "\u001b[34m==>\u001b[0m \u001b[1mDownloading https://ghcr.io/v2/homebrew/core/isl/manifests/0.26\u001b[0m\n",
      "Already downloaded: /Users/shua/Library/Caches/Homebrew/downloads/ec0bbec77171645273dd59a9ccfdf290deccd999b3ca2082e0478d282b777ec0--isl-0.26.bottle_manifest.json\n",
      "\u001b[34m==>\u001b[0m \u001b[1mPouring isl--0.26.arm64_sonoma.bottle.tar.gz\u001b[0m\n",
      "🍺  /opt/homebrew/Cellar/isl/0.26: 73 files, 7.6MB\n",
      "\u001b[32m==>\u001b[0m \u001b[1mInstalling ffmpeg dependency: \u001b[32mmpfr\u001b[39m\u001b[0m\n",
      "\u001b[34m==>\u001b[0m \u001b[1mDownloading https://ghcr.io/v2/homebrew/core/mpfr/manifests/4.2.1\u001b[0m\n",
      "Already downloaded: /Users/shua/Library/Caches/Homebrew/downloads/a2a3424f4974f6febfa0334a93f35f508eaef3f4ad04320f73d9498302295635--mpfr-4.2.1.bottle_manifest.json\n",
      "\u001b[34m==>\u001b[0m \u001b[1mPouring mpfr--4.2.1.arm64_sonoma.bottle.tar.gz\u001b[0m\n",
      "🍺  /opt/homebrew/Cellar/mpfr/4.2.1: 30 files, 3MB\n",
      "\u001b[32m==>\u001b[0m \u001b[1mInstalling ffmpeg dependency: \u001b[32mlibmpc\u001b[39m\u001b[0m\n",
      "\u001b[34m==>\u001b[0m \u001b[1mDownloading https://ghcr.io/v2/homebrew/core/libmpc/manifests/1.3.1\u001b[0m\n",
      "Already downloaded: /Users/shua/Library/Caches/Homebrew/downloads/fdfa98e0f8bb3ce075cb32776ac2345aa2f89252706c162aecfc841085fa76be--libmpc-1.3.1.bottle_manifest.json\n",
      "\u001b[34m==>\u001b[0m \u001b[1mPouring libmpc--1.3.1.arm64_sonoma.bottle.tar.gz\u001b[0m\n",
      "🍺  /opt/homebrew/Cellar/libmpc/1.3.1: 12 files, 487.9KB\n",
      "\u001b[32m==>\u001b[0m \u001b[1mInstalling ffmpeg dependency: \u001b[32mgcc\u001b[39m\u001b[0m\n",
      "\u001b[34m==>\u001b[0m \u001b[1mDownloading https://ghcr.io/v2/homebrew/core/gcc/manifests/13.2.0-2\u001b[0m\n",
      "Already downloaded: /Users/shua/Library/Caches/Homebrew/downloads/1d624841f5f550e4bbc04910c0cfb20b89d0fc7f90ab213cead29d1518479e2b--gcc-13.2.0-2.bottle_manifest.json\n",
      "\u001b[34m==>\u001b[0m \u001b[1mPouring gcc--13.2.0.arm64_sonoma.bottle.2.tar.gz\u001b[0m\n",
      "🍺  /opt/homebrew/Cellar/gcc/13.2.0: 1,489 files, 364.3MB\n",
      "\u001b[32m==>\u001b[0m \u001b[1mInstalling ffmpeg dependency: \u001b[32mopenblas\u001b[39m\u001b[0m\n",
      "\u001b[34m==>\u001b[0m \u001b[1mDownloading https://ghcr.io/v2/homebrew/core/openblas/manifests/0.3.26\u001b[0m\n",
      "Already downloaded: /Users/shua/Library/Caches/Homebrew/downloads/2a44f53d34e66a7483d4c8aef3113a7c909e7f66fad3093f429c60428caf6a6b--openblas-0.3.26.bottle_manifest.json\n",
      "\u001b[34m==>\u001b[0m \u001b[1mPouring openblas--0.3.26.arm64_sonoma.bottle.tar.gz\u001b[0m\n",
      "🍺  /opt/homebrew/Cellar/openblas/0.3.26: 23 files, 47MB\n",
      "\u001b[32m==>\u001b[0m \u001b[1mInstalling ffmpeg dependency: \u001b[32mnumpy\u001b[39m\u001b[0m\n",
      "\u001b[34m==>\u001b[0m \u001b[1mDownloading https://ghcr.io/v2/homebrew/core/numpy/manifests/1.26.4\u001b[0m\n",
      "Already downloaded: /Users/shua/Library/Caches/Homebrew/downloads/6e939f59cfd420ed5deb306bceed229a459ebff7a32be913f093d46715ec72d8--numpy-1.26.4.bottle_manifest.json\n",
      "\u001b[34m==>\u001b[0m \u001b[1mPouring numpy--1.26.4.arm64_sonoma.bottle.tar.gz\u001b[0m\n",
      "🍺  /opt/homebrew/Cellar/numpy/1.26.4: 1,708 files, 33.3MB\n",
      "\u001b[32m==>\u001b[0m \u001b[1mInstalling ffmpeg dependency: \u001b[32mpugixml\u001b[39m\u001b[0m\n",
      "\u001b[34m==>\u001b[0m \u001b[1mDownloading https://ghcr.io/v2/homebrew/core/pugixml/manifests/1.14\u001b[0m\n",
      "Already downloaded: /Users/shua/Library/Caches/Homebrew/downloads/43be16538eeab0d748dff7a738daff3f5989049a83c9f64fda9c2cdbe86f5087--pugixml-1.14.bottle_manifest.json\n",
      "\u001b[34m==>\u001b[0m \u001b[1mPouring pugixml--1.14.arm64_sonoma.bottle.tar.gz\u001b[0m\n",
      "🍺  /opt/homebrew/Cellar/pugixml/1.14: 15 files, 487.4KB\n",
      "\u001b[32m==>\u001b[0m \u001b[1mInstalling ffmpeg dependency: \u001b[32mhwloc\u001b[39m\u001b[0m\n",
      "\u001b[34m==>\u001b[0m \u001b[1mDownloading https://ghcr.io/v2/homebrew/core/hwloc/manifests/2.10.0\u001b[0m\n",
      "Already downloaded: /Users/shua/Library/Caches/Homebrew/downloads/892465425f662087a8b4b7c148c9fd17f1ac8c7824d3e8d2d3ce3459a396b0dd--hwloc-2.10.0.bottle_manifest.json\n",
      "\u001b[34m==>\u001b[0m \u001b[1mPouring hwloc--2.10.0.arm64_sonoma.bottle.tar.gz\u001b[0m\n",
      "🍺  /opt/homebrew/Cellar/hwloc/2.10.0: 967 files, 10.5MB\n",
      "\u001b[32m==>\u001b[0m \u001b[1mInstalling ffmpeg dependency: \u001b[32mtbb\u001b[39m\u001b[0m\n",
      "\u001b[34m==>\u001b[0m \u001b[1mDownloading https://ghcr.io/v2/homebrew/core/tbb/manifests/2021.11.0-1\u001b[0m\n",
      "Already downloaded: /Users/shua/Library/Caches/Homebrew/downloads/60839af51b0813df2ca5522cf542bf77354b38b8b0eaf4d54866c5cd70084d54--tbb-2021.11.0-1.bottle_manifest.json\n",
      "\u001b[34m==>\u001b[0m \u001b[1mPouring tbb--2021.11.0.arm64_sonoma.bottle.1.tar.gz\u001b[0m\n",
      "🍺  /opt/homebrew/Cellar/tbb/2021.11.0: 203 files, 3.2MB\n",
      "\u001b[32m==>\u001b[0m \u001b[1mInstalling ffmpeg dependency: \u001b[32mopenvino\u001b[39m\u001b[0m\n",
      "\u001b[34m==>\u001b[0m \u001b[1mDownloading https://ghcr.io/v2/homebrew/core/openvino/manifests/2023.3.0\u001b[0m\n",
      "Already downloaded: /Users/shua/Library/Caches/Homebrew/downloads/7051185189725b563ef41c2564e640c1d370885d26b9d32263959d40b76fe431--openvino-2023.3.0.bottle_manifest.json\n",
      "\u001b[34m==>\u001b[0m \u001b[1mPouring openvino--2023.3.0.arm64_sonoma.bottle.tar.gz\u001b[0m\n",
      "🍺  /opt/homebrew/Cellar/openvino/2023.3.0: 1,036 files, 99.2MB\n",
      "\u001b[32m==>\u001b[0m \u001b[1mInstalling ffmpeg dependency: \u001b[32mrav1e\u001b[39m\u001b[0m\n",
      "\u001b[34m==>\u001b[0m \u001b[1mDownloading https://ghcr.io/v2/homebrew/core/rav1e/manifests/0.7.1\u001b[0m\n",
      "Already downloaded: /Users/shua/Library/Caches/Homebrew/downloads/ccafd526f73546dc53bb2cd7d3c8d0e392229423fbc6962740a67633d8b06443--rav1e-0.7.1.bottle_manifest.json\n",
      "\u001b[34m==>\u001b[0m \u001b[1mPouring rav1e--0.7.1.arm64_sonoma.bottle.tar.gz\u001b[0m\n",
      "🍺  /opt/homebrew/Cellar/rav1e/0.7.1: 14 files, 45.5MB\n",
      "\u001b[32m==>\u001b[0m \u001b[1mInstalling ffmpeg dependency: \u001b[32mmpg123\u001b[39m\u001b[0m\n",
      "\u001b[34m==>\u001b[0m \u001b[1mDownloading https://ghcr.io/v2/homebrew/core/mpg123/manifests/1.32.5\u001b[0m\n",
      "Already downloaded: /Users/shua/Library/Caches/Homebrew/downloads/96eea0151dd32d7f63ea6ae408482c0570c1ba4300543fc610b3c1071bc598cd--mpg123-1.32.5.bottle_manifest.json\n",
      "\u001b[34m==>\u001b[0m \u001b[1mPouring mpg123--1.32.5.arm64_sonoma.bottle.tar.gz\u001b[0m\n",
      "🍺  /opt/homebrew/Cellar/mpg123/1.32.5: 33 files, 2.0MB\n",
      "\u001b[32m==>\u001b[0m \u001b[1mInstalling ffmpeg dependency: \u001b[32msdl2\u001b[39m\u001b[0m\n",
      "\u001b[34m==>\u001b[0m \u001b[1mDownloading https://ghcr.io/v2/homebrew/core/sdl2/manifests/2.30.0\u001b[0m\n",
      "Already downloaded: /Users/shua/Library/Caches/Homebrew/downloads/e6011d354b0811d792fe63764002df023904670d7b73740d7a6b0ee782ace7a1--sdl2-2.30.0.bottle_manifest.json\n",
      "\u001b[34m==>\u001b[0m \u001b[1mPouring sdl2--2.30.0.arm64_sonoma.bottle.tar.gz\u001b[0m\n",
      "🍺  /opt/homebrew/Cellar/sdl2/2.30.0: 93 files, 6.5MB\n",
      "\u001b[32m==>\u001b[0m \u001b[1mInstalling ffmpeg dependency: \u001b[32msvt-av1\u001b[39m\u001b[0m\n",
      "\u001b[34m==>\u001b[0m \u001b[1mDownloading https://ghcr.io/v2/homebrew/core/svt-av1/manifests/1.8.0-1\u001b[0m\n",
      "Already downloaded: /Users/shua/Library/Caches/Homebrew/downloads/3b32f05c128fc5bd9b6bd0abf76b165807553c4e3b6236a9ad62d52d714f680f--svt-av1-1.8.0-1.bottle_manifest.json\n",
      "\u001b[34m==>\u001b[0m \u001b[1mPouring svt-av1--1.8.0.arm64_sonoma.bottle.1.tar.gz\u001b[0m\n",
      "🍺  /opt/homebrew/Cellar/svt-av1/1.8.0: 24 files, 3.9MB\n",
      "\u001b[32m==>\u001b[0m \u001b[1mInstalling \u001b[32mffmpeg\u001b[39m\u001b[0m\n",
      "\u001b[34m==>\u001b[0m \u001b[1mPouring ffmpeg--6.1.1_4.arm64_sonoma.bottle.tar.gz\u001b[0m\n",
      "🍺  /opt/homebrew/Cellar/ffmpeg/6.1.1_4: 284 files, 50.2MB\n",
      "\u001b[34m==>\u001b[0m \u001b[1mRunning `brew cleanup ffmpeg`...\u001b[0m\n",
      "Removing: /opt/homebrew/Cellar/ffmpeg/6.0_1... (284 files, 48.7MB)\n",
      "\u001b[32m==>\u001b[0m \u001b[1mChecking for dependents of upgraded formulae...\u001b[0m\n",
      "\u001b[34m==>\u001b[0m \u001b[1mNo broken dependents found!\u001b[0m\n",
      "\u001b[32m==>\u001b[0m \u001b[1mCaveats\u001b[0m\n",
      "\u001b[34m==>\u001b[0m \u001b[1mlibpq\u001b[0m\n",
      "libpq is keg-only, which means it was not symlinked into /opt/homebrew,\n",
      "because conflicts with postgres formula.\n",
      "\n",
      "If you need to have libpq first in your PATH, run:\n",
      "  echo 'export PATH=\"/opt/homebrew/opt/libpq/bin:$PATH\"' >> ~/.zshrc\n",
      "\n",
      "For compilers to find libpq you may need to set:\n",
      "  export LDFLAGS=\"-L/opt/homebrew/opt/libpq/lib\"\n",
      "  export CPPFLAGS=\"-I/opt/homebrew/opt/libpq/include\"\n",
      "\n",
      "For pkg-config to find libpq you may need to set:\n",
      "  export PKG_CONFIG_PATH=\"/opt/homebrew/opt/libpq/lib/pkgconfig\"\n",
      "\u001b[34m==>\u001b[0m \u001b[1mDownloading https://ghcr.io/v2/homebrew/core/eigen/manifests/3.4.0_1\u001b[0m\n",
      "######################################################################### 100.0%\n",
      "\u001b[32m==>\u001b[0m \u001b[1mFetching \u001b[32meigen\u001b[39m\u001b[0m\n",
      "\u001b[34m==>\u001b[0m \u001b[1mDownloading https://ghcr.io/v2/homebrew/core/eigen/blobs/sha256:211fd7f1d58b\u001b[0m\n",
      "######################################################################### 100.0%\n",
      "\u001b[34m==>\u001b[0m \u001b[1mPouring eigen--3.4.0_1.all.bottle.tar.gz\u001b[0m\n",
      "🍺  /opt/homebrew/Cellar/eigen/3.4.0_1: 546 files, 8.4MB\n",
      "\u001b[34m==>\u001b[0m \u001b[1mRunning `brew cleanup eigen`...\u001b[0m\n",
      "Disable this behaviour by setting HOMEBREW_NO_INSTALL_CLEANUP.\n",
      "Hide these hints with HOMEBREW_NO_ENV_HINTS (see `man brew`).\n",
      "mkdir: kenlm/build: File exists\n",
      "ls: kenlm/build/bin: No such file or directory\n"
     ]
    }
   ],
   "source": [
    "!mkdir kenlm/build && cd kenlm/build && cmake .. && make -j2\n",
    "!ls kenlm/build/bin"
   ]
  },
  {
   "cell_type": "code",
   "execution_count": 34,
   "metadata": {},
   "outputs": [
    {
     "name": "stdout",
     "output_type": "stream",
     "text": [
      "Collecting pyctcdecode\n",
      "  Downloading pyctcdecode-0.5.0-py2.py3-none-any.whl.metadata (20 kB)\n",
      "Requirement already satisfied: numpy<2.0.0,>=1.15.0 in /Users/shua/Desktop/FinalProject/.venv/lib/python3.11/site-packages (from pyctcdecode) (1.26.3)\n",
      "Collecting pygtrie<3.0,>=2.1 (from pyctcdecode)\n",
      "  Downloading pygtrie-2.5.0-py3-none-any.whl.metadata (7.5 kB)\n",
      "Collecting hypothesis<7,>=6.14 (from pyctcdecode)\n",
      "  Downloading hypothesis-6.98.15-py3-none-any.whl.metadata (6.0 kB)\n",
      "Requirement already satisfied: attrs>=22.2.0 in /Users/shua/Desktop/FinalProject/.venv/lib/python3.11/site-packages (from hypothesis<7,>=6.14->pyctcdecode) (23.2.0)\n",
      "Collecting sortedcontainers<3.0.0,>=2.1.0 (from hypothesis<7,>=6.14->pyctcdecode)\n",
      "  Downloading sortedcontainers-2.4.0-py2.py3-none-any.whl.metadata (10 kB)\n",
      "Using cached pyctcdecode-0.5.0-py2.py3-none-any.whl (39 kB)\n",
      "Downloading hypothesis-6.98.15-py3-none-any.whl (449 kB)\n",
      "\u001b[2K   \u001b[90m━━━━━━━━━━━━━━━━━━━━━━━━━━━━━━━━━━━━━━━━\u001b[0m \u001b[32m449.3/449.3 kB\u001b[0m \u001b[31m2.6 MB/s\u001b[0m eta \u001b[36m0:00:00\u001b[0ma \u001b[36m0:00:01\u001b[0m\n",
      "\u001b[?25hUsing cached pygtrie-2.5.0-py3-none-any.whl (25 kB)\n",
      "Using cached sortedcontainers-2.4.0-py2.py3-none-any.whl (29 kB)\n",
      "Installing collected packages: sortedcontainers, pygtrie, hypothesis, pyctcdecode\n",
      "Successfully installed hypothesis-6.98.15 pyctcdecode-0.5.0 pygtrie-2.5.0 sortedcontainers-2.4.0\n",
      "\n",
      "\u001b[1m[\u001b[0m\u001b[34;49mnotice\u001b[0m\u001b[1;39;49m]\u001b[0m\u001b[39;49m A new release of pip is available: \u001b[0m\u001b[31;49m23.3.2\u001b[0m\u001b[39;49m -> \u001b[0m\u001b[32;49m24.0\u001b[0m\n",
      "\u001b[1m[\u001b[0m\u001b[34;49mnotice\u001b[0m\u001b[1;39;49m]\u001b[0m\u001b[39;49m To update, run: \u001b[0m\u001b[32;49mpip install --upgrade pip\u001b[0m\n",
      "Collecting kenlm\n",
      "  Using cached kenlm-0.2.0-cp311-cp311-macosx_14_0_arm64.whl\n",
      "Installing collected packages: kenlm\n",
      "Successfully installed kenlm-0.2.0\n",
      "\n",
      "\u001b[1m[\u001b[0m\u001b[34;49mnotice\u001b[0m\u001b[1;39;49m]\u001b[0m\u001b[39;49m A new release of pip is available: \u001b[0m\u001b[31;49m23.3.2\u001b[0m\u001b[39;49m -> \u001b[0m\u001b[32;49m24.0\u001b[0m\n",
      "\u001b[1m[\u001b[0m\u001b[34;49mnotice\u001b[0m\u001b[1;39;49m]\u001b[0m\u001b[39;49m To update, run: \u001b[0m\u001b[32;49mpip install --upgrade pip\u001b[0m\n"
     ]
    }
   ],
   "source": [
    "!pip install pyctcdecode\n",
    "!pip install kenlm -U"
   ]
  },
  {
   "cell_type": "markdown",
   "metadata": {},
   "source": [
    "Great, as we can see, the executable functions have successfully been built under `kenlm/build/bin/`.\n",
    "\n",
    "KenLM by default computes an *n-gram* with [Kneser-Ney smooting](https://en.wikipedia.org/wiki/Kneser%E2%80%93Ney_smoothing). All text data used to create the *n-gram* is expected to be stored in a text file.\n",
    "We download our dataset and save it as a `.txt` file."
   ]
  },
  {
   "cell_type": "markdown",
   "metadata": {},
   "source": [
    "Now, we just have to run KenLM's `lmplz` command to build our *n-gram*, called `\"5gram.arpa\"`. As it's relatively common in speech recognition, we build a *5-gram* by passing the `-o 5` parameter.\n",
    "For more information on the different *n-gram* LM that can be built\n",
    "with KenLM, one can take a look at the [official website of KenLM](https://kheafield.com/code/kenlm/).\n",
    "\n",
    "Executing the command below might take a minute or so."
   ]
  },
  {
   "cell_type": "code",
   "execution_count": 35,
   "metadata": {},
   "outputs": [
    {
     "name": "stdout",
     "output_type": "stream",
     "text": [
      "zsh:1: no such file or directory: kenlm/build/bin/lmplz\n"
     ]
    }
   ],
   "source": [
    "\n",
    "!kenlm/build/bin/lmplz -o 5 <\"{file}\" > \"{path}/5gram.arpa\""
   ]
  },
  {
   "cell_type": "markdown",
   "metadata": {},
   "source": [
    "Great, we have built a *5-gram* LM! Let's inspect the first couple of lines."
   ]
  },
  {
   "cell_type": "code",
   "execution_count": 36,
   "metadata": {},
   "outputs": [
    {
     "name": "stdout",
     "output_type": "stream",
     "text": [
      "head: 5gram.arpa: No such file or directory\n"
     ]
    }
   ],
   "source": [
    "!head -20 5gram.arpa"
   ]
  },
  {
   "cell_type": "markdown",
   "metadata": {},
   "source": [
    "There is a small problem that 🤗 Transformers will not be happy about later on.\n",
    "The *5-gram* correctly includes a \"Unknown\" or `<unk>`, as well as a *begin-of-sentence*, `<s>` token, but no *end-of-sentence*, `</s>` token.\n",
    "This sadly has to be corrected currently after the build.\n",
    "\n",
    "We can simply add the *end-of-sentence* token by adding the line `0 </s>  -0.11831701` below the *begin-of-sentence* token and increasing the `ngram 1` count by 1. Because the file has roughly 100 million lines, this command will take *ca.* 2 minutes."
   ]
  },
  {
   "cell_type": "code",
   "execution_count": 37,
   "metadata": {},
   "outputs": [],
   "source": [
    "with open(f\"{path}5gram.arpa\", \"r\") as read_file, open(f\"{path}5gram_correct.arpa\", \"w\") as write_file:\n",
    "  has_added_eos = False\n",
    "  for line in read_file:\n",
    "    if not has_added_eos and \"ngram 1=\" in line:\n",
    "      count=line.strip().split(\"=\")[-1]\n",
    "      write_file.write(line.replace(f\"{count}\", f\"{int(count)+1}\"))\n",
    "    elif not has_added_eos and \"<s>\" in line:\n",
    "      write_file.write(line)\n",
    "      write_file.write(line.replace(\"<s>\", \"</s>\"))\n",
    "      has_added_eos = True\n",
    "    else:\n",
    "      write_file.write(line)"
   ]
  },
  {
   "cell_type": "markdown",
   "metadata": {},
   "source": [
    "Let's now inspect the corrected *5-gram*."
   ]
  },
  {
   "cell_type": "code",
   "execution_count": 38,
   "metadata": {},
   "outputs": [],
   "source": [
    "!head -20 {path}5gram_correct.arpa"
   ]
  },
  {
   "cell_type": "markdown",
   "metadata": {},
   "source": [
    "Great, this looks better! We're done at this point and all that is left to do is to correctly integrate the `\"ngram\"` with [`pyctcdecode`](https://github.com/kensho-technologies/pyctcdecode) and 🤗 Transformers."
   ]
  },
  {
   "cell_type": "markdown",
   "metadata": {},
   "source": [
    "## Create the Processor"
   ]
  },
  {
   "cell_type": "markdown",
   "metadata": {},
   "source": []
  },
  {
   "cell_type": "code",
   "execution_count": 39,
   "metadata": {},
   "outputs": [
    {
     "name": "stderr",
     "output_type": "stream",
     "text": [
      "/Users/shua/Desktop/FinalProject/.venv/lib/python3.11/site-packages/tqdm/auto.py:21: TqdmWarning: IProgress not found. Please update jupyter and ipywidgets. See https://ipywidgets.readthedocs.io/en/stable/user_install.html\n",
      "  from .autonotebook import tqdm as notebook_tqdm\n",
      "Special tokens have been added in the vocabulary, make sure the associated word embeddings are fine-tuned or trained.\n"
     ]
    },
    {
     "name": "stdout",
     "output_type": "stream",
     "text": [
      "Ignored unknown kwarg option normalize\n",
      "Ignored unknown kwarg option normalize\n"
     ]
    }
   ],
   "source": [
    "from transformers import AutoProcessor\n",
    "\n",
    "processor = AutoProcessor.from_pretrained(\"imvladikon/wav2vec2-xls-r-300m-hebrew\")"
   ]
  },
  {
   "cell_type": "markdown",
   "metadata": {},
   "source": [
    "Next, we extract the vocabulary of its tokenizer as it represents the `\"labels\"` of `pyctcdecode`'s `BeamSearchDecoder` class."
   ]
  },
  {
   "cell_type": "code",
   "execution_count": 40,
   "metadata": {},
   "outputs": [],
   "source": [
    "vocab_dict = processor.tokenizer.get_vocab()\n",
    "sorted_vocab_dict = {k.lower(): v for k, v in sorted(vocab_dict.items(), key=lambda item: item[1])}"
   ]
  },
  {
   "cell_type": "markdown",
   "metadata": {},
   "source": [
    "The `\"labels\"` and the previously built `5gram_correct.arpa` file is all that's needed to build the decoder."
   ]
  },
  {
   "cell_type": "code",
   "execution_count": 41,
   "metadata": {},
   "outputs": [
    {
     "ename": "OSError",
     "evalue": "Cannot read model '5gram_correct.arpa' (util/file.cc:76 in int util::OpenReadOrThrow(const char *) threw ErrnoException because `-1 == (ret = open(name, 0x0000))'. No such file or directory while opening /Users/shua/Desktop/FinalProject/word2vec-kenlm/5gram_correct.arpa)",
     "output_type": "error",
     "traceback": [
      "\u001b[0;31m---------------------------------------------------------------------------\u001b[0m",
      "\u001b[0;31mRuntimeError\u001b[0m                              Traceback (most recent call last)",
      "File \u001b[0;32mkenlm.pyx:139\u001b[0m, in \u001b[0;36mkenlm.Model.__init__\u001b[0;34m()\u001b[0m\n",
      "\u001b[0;31mRuntimeError\u001b[0m: util/file.cc:76 in int util::OpenReadOrThrow(const char *) threw ErrnoException because `-1 == (ret = open(name, 0x0000))'.\nNo such file or directory while opening /Users/shua/Desktop/FinalProject/word2vec-kenlm/5gram_correct.arpa",
      "\nThe above exception was the direct cause of the following exception:\n",
      "\u001b[0;31mOSError\u001b[0m                                   Traceback (most recent call last)",
      "Cell \u001b[0;32mIn[41], line 3\u001b[0m\n\u001b[1;32m      1\u001b[0m \u001b[38;5;28;01mfrom\u001b[39;00m \u001b[38;5;21;01mpyctcdecode\u001b[39;00m \u001b[38;5;28;01mimport\u001b[39;00m build_ctcdecoder\n\u001b[0;32m----> 3\u001b[0m decoder \u001b[38;5;241m=\u001b[39m \u001b[43mbuild_ctcdecoder\u001b[49m\u001b[43m(\u001b[49m\n\u001b[1;32m      4\u001b[0m \u001b[43m    \u001b[49m\u001b[43mlabels\u001b[49m\u001b[38;5;241;43m=\u001b[39;49m\u001b[38;5;28;43mlist\u001b[39;49m\u001b[43m(\u001b[49m\u001b[43msorted_vocab_dict\u001b[49m\u001b[38;5;241;43m.\u001b[39;49m\u001b[43mkeys\u001b[49m\u001b[43m(\u001b[49m\u001b[43m)\u001b[49m\u001b[43m)\u001b[49m\u001b[43m,\u001b[49m\n\u001b[1;32m      5\u001b[0m \u001b[43m    \u001b[49m\u001b[43mkenlm_model_path\u001b[49m\u001b[38;5;241;43m=\u001b[39;49m\u001b[38;5;124;43m\"\u001b[39;49m\u001b[38;5;124;43m5gram_correct.arpa\u001b[39;49m\u001b[38;5;124;43m\"\u001b[39;49m\u001b[43m,\u001b[49m\n\u001b[1;32m      6\u001b[0m \u001b[43m)\u001b[49m\n",
      "File \u001b[0;32m~/Desktop/FinalProject/.venv/lib/python3.11/site-packages/pyctcdecode/decoder.py:907\u001b[0m, in \u001b[0;36mbuild_ctcdecoder\u001b[0;34m(labels, kenlm_model_path, unigrams, alpha, beta, unk_score_offset, lm_score_boundary)\u001b[0m\n\u001b[1;32m    884\u001b[0m \u001b[38;5;28;01mdef\u001b[39;00m \u001b[38;5;21mbuild_ctcdecoder\u001b[39m(\n\u001b[1;32m    885\u001b[0m     labels: List[\u001b[38;5;28mstr\u001b[39m],\n\u001b[1;32m    886\u001b[0m     kenlm_model_path: Optional[\u001b[38;5;28mstr\u001b[39m] \u001b[38;5;241m=\u001b[39m \u001b[38;5;28;01mNone\u001b[39;00m,\n\u001b[0;32m   (...)\u001b[0m\n\u001b[1;32m    891\u001b[0m     lm_score_boundary: \u001b[38;5;28mbool\u001b[39m \u001b[38;5;241m=\u001b[39m DEFAULT_SCORE_LM_BOUNDARY,\n\u001b[1;32m    892\u001b[0m ) \u001b[38;5;241m-\u001b[39m\u001b[38;5;241m>\u001b[39m BeamSearchDecoderCTC:\n\u001b[1;32m    893\u001b[0m \u001b[38;5;250m    \u001b[39m\u001b[38;5;124;03m\"\"\"Build a BeamSearchDecoderCTC instance with main functionality.\u001b[39;00m\n\u001b[1;32m    894\u001b[0m \n\u001b[1;32m    895\u001b[0m \u001b[38;5;124;03m    Args:\u001b[39;00m\n\u001b[0;32m   (...)\u001b[0m\n\u001b[1;32m    905\u001b[0m \u001b[38;5;124;03m        instance of BeamSearchDecoderCTC\u001b[39;00m\n\u001b[1;32m    906\u001b[0m \u001b[38;5;124;03m    \"\"\"\u001b[39;00m\n\u001b[0;32m--> 907\u001b[0m     kenlm_model \u001b[38;5;241m=\u001b[39m \u001b[38;5;28;01mNone\u001b[39;00m \u001b[38;5;28;01mif\u001b[39;00m kenlm_model_path \u001b[38;5;129;01mis\u001b[39;00m \u001b[38;5;28;01mNone\u001b[39;00m \u001b[38;5;28;01melse\u001b[39;00m \u001b[43mkenlm\u001b[49m\u001b[38;5;241;43m.\u001b[39;49m\u001b[43mModel\u001b[49m\u001b[43m(\u001b[49m\u001b[43mkenlm_model_path\u001b[49m\u001b[43m)\u001b[49m\n\u001b[1;32m    908\u001b[0m     \u001b[38;5;28;01mif\u001b[39;00m kenlm_model_path \u001b[38;5;129;01mis\u001b[39;00m \u001b[38;5;129;01mnot\u001b[39;00m \u001b[38;5;28;01mNone\u001b[39;00m \u001b[38;5;129;01mand\u001b[39;00m kenlm_model_path\u001b[38;5;241m.\u001b[39mendswith(\u001b[38;5;124m\"\u001b[39m\u001b[38;5;124m.arpa\u001b[39m\u001b[38;5;124m\"\u001b[39m):\n\u001b[1;32m    909\u001b[0m         logger\u001b[38;5;241m.\u001b[39minfo(\u001b[38;5;124m\"\u001b[39m\u001b[38;5;124mUsing arpa instead of binary LM file, decoder instantiation might be slow.\u001b[39m\u001b[38;5;124m\"\u001b[39m)\n",
      "File \u001b[0;32mkenlm.pyx:142\u001b[0m, in \u001b[0;36mkenlm.Model.__init__\u001b[0;34m()\u001b[0m\n",
      "\u001b[0;31mOSError\u001b[0m: Cannot read model '5gram_correct.arpa' (util/file.cc:76 in int util::OpenReadOrThrow(const char *) threw ErrnoException because `-1 == (ret = open(name, 0x0000))'. No such file or directory while opening /Users/shua/Desktop/FinalProject/word2vec-kenlm/5gram_correct.arpa)"
     ]
    }
   ],
   "source": [
    "from pyctcdecode import build_ctcdecoder\n",
    "\n",
    "decoder = build_ctcdecoder(\n",
    "    labels=list(sorted_vocab_dict.keys()),\n",
    "    kenlm_model_path=\"5gram_correct.arpa\",\n",
    ")"
   ]
  },
  {
   "cell_type": "markdown",
   "metadata": {},
   "source": [
    "We can safely ignore the warning and all that is left to do now is to wrap the just created `decoder`, together with the processor's `tokenizer` and `feature_extractor` into a `Wav2Vec2ProcessorWithLM` class."
   ]
  },
  {
   "cell_type": "code",
   "execution_count": null,
   "metadata": {},
   "outputs": [],
   "source": [
    "from transformers import Wav2Vec2ProcessorWithLM\n",
    "\n",
    "processor_with_lm = Wav2Vec2ProcessorWithLM(\n",
    "    feature_extractor=processor.feature_extractor,\n",
    "    tokenizer=processor.tokenizer,\n",
    "    decoder=decoder\n",
    ")"
   ]
  },
  {
   "cell_type": "markdown",
   "metadata": {},
   "source": [
    "We want to directly upload the LM-boosted processor into\n",
    "the model folder of [`xls-r-300m-sv`](https://huggingface.co/hf-test/xls-r-300m-sv) to have all relevant files in one place.\n",
    "\n",
    "Let's clone the repo, add the new decoder files and upload them afterward.\n",
    "First, we need to install `git-lfs`."
   ]
  },
  {
   "cell_type": "code",
   "execution_count": null,
   "metadata": {},
   "outputs": [],
   "source": [
    "# !sudo apt-get install git-lfs tree"
   ]
  },
  {
   "cell_type": "markdown",
   "metadata": {},
   "source": [
    "Cloning and uploading of modeling files can be done conveniently with the `huggingface_hub`'s `Repository` class.\n",
    "\n",
    "More information on how to use the `huggingface_hub` to upload any files, please take a look at the [official docs](https://huggingface.co/docs/hub/how-to-upstream)."
   ]
  },
  {
   "cell_type": "code",
   "execution_count": null,
   "metadata": {},
   "outputs": [],
   "source": [
    "# from huggingface_hub import Repository\n",
    "\n",
    "# repo = Repository(local_dir=\"xls-r-300m-sv\", clone_from=\"hf-test/xls-r-300m-sv\")"
   ]
  },
  {
   "cell_type": "markdown",
   "metadata": {},
   "source": [
    "Having cloned `xls-r-300m-sv`, let's save the new processor with LM into it."
   ]
  },
  {
   "cell_type": "code",
   "execution_count": null,
   "metadata": {},
   "outputs": [],
   "source": [
    "# processor_with_lm.save_pretrained(\"xls-r-300m-sv\")"
   ]
  },
  {
   "cell_type": "markdown",
   "metadata": {},
   "source": [
    "Let's inspect the local repository. The `tree` command conveniently can also show the size of the different files."
   ]
  },
  {
   "cell_type": "code",
   "execution_count": null,
   "metadata": {},
   "outputs": [],
   "source": [
    "# !tree -h xls-r-300m-sv/"
   ]
  },
  {
   "cell_type": "markdown",
   "metadata": {},
   "source": [
    "As can be seen the *5-gram* LM is quite large - it amounts to more than 4 GB.\n",
    "To reduce the size of the *n-gram* and make loading faster, `kenLM` allows converting `.arpa` files to binary ones using the `build_binary` executable.\n",
    "\n",
    "Let's make use of it here."
   ]
  },
  {
   "cell_type": "code",
   "execution_count": null,
   "metadata": {},
   "outputs": [],
   "source": [
    "# !kenlm/build/bin/build_binary xls-r-300m-sv/language_model/5gram_correct.arpa xls-r-300m-sv/language_model/5gram.bin"
   ]
  },
  {
   "cell_type": "markdown",
   "metadata": {},
   "source": [
    "Great, it worked! Let's remove the `.arpa` file and check the size of the binary *5-gram* LM."
   ]
  },
  {
   "cell_type": "code",
   "execution_count": null,
   "metadata": {},
   "outputs": [],
   "source": [
    "# !rm xls-r-300m-sv/language_model/5gram_correct.arpa && tree -h xls-r-300m-sv/"
   ]
  },
  {
   "cell_type": "markdown",
   "metadata": {},
   "source": [
    "Nice, we reduced the *n-gram* by more than half to less than 2GB now. In the final step, let's upload all files."
   ]
  },
  {
   "cell_type": "code",
   "execution_count": null,
   "metadata": {},
   "outputs": [],
   "source": [
    "# repo.push_to_hub(commit_message=\"Upload lm-boosted decoder\")"
   ]
  },
  {
   "cell_type": "code",
   "execution_count": null,
   "metadata": {},
   "outputs": [],
   "source": [
    "#save the processor to local\n",
    "processor_with_lm.save_pretrained(\"/teamspace/studios/this_studio/FinalProject/models/KenLM-Wav2Vec2-Hebrew\")"
   ]
  }
 ],
 "metadata": {
  "kernelspec": {
   "display_name": "Python 3",
   "language": "python",
   "name": "python3"
  },
  "language_info": {
   "codemirror_mode": {
    "name": "ipython",
    "version": 3
   },
   "file_extension": ".py",
   "mimetype": "text/x-python",
   "name": "python",
   "nbconvert_exporter": "python",
   "pygments_lexer": "ipython3",
   "version": "3.11.6"
  }
 },
 "nbformat": 4,
 "nbformat_minor": 2
}
