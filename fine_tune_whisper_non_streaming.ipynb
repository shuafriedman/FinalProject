{
  "cells": [
    {
      "attachments": {},
      "cell_type": "markdown",
      "id": "75b58048-7d14-4fc6-8085-1fc08c81b4a6",
      "metadata": {
        "id": "75b58048-7d14-4fc6-8085-1fc08c81b4a6"
      },
      "source": [
        "# Fine-Tune Whisper For Multilingual ASR with 🤗 Transformers"
      ]
    },
    {
      "attachments": {},
      "cell_type": "markdown",
      "id": "fbfa8ad5-4cdc-4512-9058-836cbbf65e1a",
      "metadata": {
        "id": "fbfa8ad5-4cdc-4512-9058-836cbbf65e1a"
      },
      "source": [
        "In this Colab, we present a step-by-step guide on how to fine-tune Whisper\n",
        "for any multilingual ASR dataset using Hugging Face 🤗 Transformers. This is a\n",
        "more \"hands-on\" version of the accompanying [blog post](https://huggingface.co/blog/fine-tune-whisper).\n",
        "For a more in-depth explanation of Whisper, the Common Voice dataset and the theory behind fine-tuning, the reader is advised to refer to the blog post."
      ]
    },
    {
      "attachments": {},
      "cell_type": "markdown",
      "id": "afe0d503-ae4e-4aa7-9af4-dbcba52db41e",
      "metadata": {
        "id": "afe0d503-ae4e-4aa7-9af4-dbcba52db41e"
      },
      "source": [
        "## Introduction"
      ]
    },
    {
      "attachments": {},
      "cell_type": "markdown",
      "id": "9ae91ed4-9c3e-4ade-938e-f4c2dcfbfdc0",
      "metadata": {
        "id": "9ae91ed4-9c3e-4ade-938e-f4c2dcfbfdc0"
      },
      "source": [
        "Whisper is a pre-trained model for automatic speech recognition (ASR)\n",
        "published in [September 2022](https://openai.com/blog/whisper/) by the authors\n",
        "Alec Radford et al. from OpenAI. Unlike many of its predecessors, such as\n",
        "[Wav2Vec 2.0](https://arxiv.org/abs/2006.11477), which are pre-trained\n",
        "on un-labelled audio data, Whisper is pre-trained on a vast quantity of\n",
        "**labelled** audio-transcription data, 680,000 hours to be precise.\n",
        "This is an order of magnitude more data than the un-labelled audio data used\n",
        "to train Wav2Vec 2.0 (60,000 hours). What is more, 117,000 hours of this\n",
        "pre-training data is multilingual ASR data. This results in checkpoints\n",
        "that can be applied to over 96 languages, many of which are considered\n",
        "_low-resource_.\n",
        "\n",
        "When scaled to 680,000 hours of labelled pre-training data, Whisper models\n",
        "demonstrate a strong ability to generalise to many datasets and domains.\n",
        "The pre-trained checkpoints achieve competitive results to state-of-the-art\n",
        "ASR systems, with near 3% word error rate (WER) on the test-clean subset of\n",
        "LibriSpeech ASR and a new state-of-the-art on TED-LIUM with 4.7% WER (_c.f._\n",
        "Table 8 of the [Whisper paper](https://cdn.openai.com/papers/whisper.pdf)).\n",
        "The extensive multilingual ASR knowledge acquired by Whisper during pre-training\n",
        "can be leveraged for other low-resource languages; through fine-tuning, the\n",
        "pre-trained checkpoints can be adapted for specific datasets and languages\n",
        "to further improve upon these results. We'll show just how Whisper can be fine-tuned\n",
        "for low-resource languages in this Colab."
      ]
    },
    {
      "attachments": {},
      "cell_type": "markdown",
      "id": "e59b91d6-be24-4b5e-bb38-4977ea143a72",
      "metadata": {
        "id": "e59b91d6-be24-4b5e-bb38-4977ea143a72"
      },
      "source": [
        "<figure>\n",
        "<img src=\"https://raw.githubusercontent.com/sanchit-gandhi/notebooks/main/whisper_architecture.svg\" alt=\"Trulli\" style=\"width:100%\">\n",
        "<figcaption align = \"center\"><b>Figure 1:</b> Whisper model. The architecture\n",
        "follows the standard Transformer-based encoder-decoder model. A\n",
        "log-Mel spectrogram is input to the encoder. The last encoder\n",
        "hidden states are input to the decoder via cross-attention mechanisms. The\n",
        "decoder autoregressively predicts text tokens, jointly conditional on the\n",
        "encoder hidden states and previously predicted tokens. Figure source:\n",
        "<a href=\"https://openai.com/blog/whisper/\">OpenAI Whisper Blog</a>.</figcaption>\n",
        "</figure>"
      ]
    },
    {
      "attachments": {},
      "cell_type": "markdown",
      "id": "21b6316e-8a55-4549-a154-66d3da2ab74a",
      "metadata": {
        "id": "21b6316e-8a55-4549-a154-66d3da2ab74a"
      },
      "source": [
        "The Whisper checkpoints come in five configurations of varying model sizes.\n",
        "The smallest four are trained on either English-only or multilingual data.\n",
        "The largest checkpoint is multilingual only. All nine of the pre-trained checkpoints\n",
        "are available on the [Hugging Face Hub](https://huggingface.co/models?search=openai/whisper). The\n",
        "checkpoints are summarised in the following table with links to the models on the Hub:\n",
        "\n",
        "| Size   | Layers | Width | Heads | Parameters | English-only                                         | Multilingual                                      |\n",
        "|--------|--------|-------|-------|------------|------------------------------------------------------|---------------------------------------------------|\n",
        "| tiny   | 4      | 384   | 6     | 39 M       | [✓](https://huggingface.co/openai/whisper-tiny.en)   | [✓](https://huggingface.co/openai/whisper-tiny.)  |\n",
        "| base   | 6      | 512   | 8     | 74 M       | [✓](https://huggingface.co/openai/whisper-base.en)   | [✓](https://huggingface.co/openai/whisper-base)   |\n",
        "| small  | 12     | 768   | 12    | 244 M      | [✓](https://huggingface.co/openai/whisper-small.en)  | [✓](https://huggingface.co/openai/whisper-small)  |\n",
        "| medium | 24     | 1024  | 16    | 769 M      | [✓](https://huggingface.co/openai/whisper-medium.en) | [✓](https://huggingface.co/openai/whisper-medium) |\n",
        "| large  | 32     | 1280  | 20    | 1550 M     | x                                                    | [✓](https://huggingface.co/openai/whisper-large)  |\n",
        "\n",
        "For demonstration purposes, we'll fine-tune the multilingual version of the\n",
        "[`\"small\"`](https://huggingface.co/openai/whisper-small) checkpoint with 244M params (~= 1GB).\n",
        "As for our data, we'll train and evaluate our system on a low-resource language\n",
        "taken from the [Common Voice](https://huggingface.co/datasets/mozilla-foundation/raw_datasets_11_0)\n",
        "dataset. We'll show that with as little as 8 hours of fine-tuning data, we can achieve\n",
        "strong performance in this language."
      ]
    },
    {
      "attachments": {},
      "cell_type": "markdown",
      "id": "3a680dfc-cbba-4f6c-8a1f-e1a5ff3f123a",
      "metadata": {
        "id": "3a680dfc-cbba-4f6c-8a1f-e1a5ff3f123a"
      },
      "source": [
        "------------------------------------------------------------------------\n",
        "\n",
        "\\\\({}^1\\\\) The name Whisper follows from the acronym “WSPSR”, which stands for “Web-scale Supervised Pre-training for Speech Recognition”."
      ]
    },
    {
      "attachments": {},
      "cell_type": "markdown",
      "id": "b219c9dd-39b6-4a95-b2a1-3f547a1e7bc0",
      "metadata": {
        "id": "b219c9dd-39b6-4a95-b2a1-3f547a1e7bc0"
      },
      "source": [
        "## Load Dataset"
      ]
    },
    {
      "attachments": {},
      "cell_type": "markdown",
      "id": "674429c5-0ab4-4adf-975b-621bb69eca38",
      "metadata": {
        "id": "674429c5-0ab4-4adf-975b-621bb69eca38"
      },
      "source": [
        "Using 🤗 Datasets, downloading and preparing data is extremely simple.\n",
        "We can download and prepare the Common Voice splits in just one line of code.\n",
        "\n",
        "First, ensure you have accepted the terms of use on the Hugging Face Hub: [mozilla-foundation/raw_datasets_11_0](https://huggingface.co/datasets/mozilla-foundation/raw_datasets_11_0). Once you have accepted the terms, you will have full access to the dataset and be able to download the data locally.\n",
        "\n",
        "Since Hindi is very low-resource, we'll combine the `train` and `validation`\n",
        "splits to give approximately 8 hours of training data. We'll use the 4 hours\n",
        "of `test` data as our held-out test set:"
      ]
    },
    {
      "cell_type": "code",
      "execution_count": 1,
      "id": "8lV_SS8Oyxwn",
      "metadata": {
        "colab": {
          "base_uri": "https://localhost:8080/"
        },
        "id": "8lV_SS8Oyxwn",
        "outputId": "1232872a-c148-4af9-a96d-b8cb42e09deb"
      },
      "outputs": [],
      "source": [
        "# !pip install transformers datasets accelerate evaluate jiwer librosa soundfile"
      ]
    },
    {
      "cell_type": "code",
      "execution_count": 2,
      "id": "bd6a3592",
      "metadata": {},
      "outputs": [
        {
          "data": {
            "text/plain": [
              "False"
            ]
          },
          "execution_count": 2,
          "metadata": {},
          "output_type": "execute_result"
        }
      ],
      "source": [
        "import os\n",
        "os.path.exists(\"datasets/kan_dataset\")"
      ]
    },
    {
      "cell_type": "code",
      "execution_count": 18,
      "id": "a2787582-554f-44ce-9f38-4180a5ed6b44",
      "metadata": {
        "colab": {
          "base_uri": "https://localhost:8080/",
          "height": 176,
          "referenced_widgets": [
            "9166186d355343d1b993a82b4ee2a685",
            "ad56824961654ff09822160b12a4a027",
            "b77b115840024f298535780007281b33",
            "468419d3ccfa494086981a4a82d6033a",
            "3b6326fa66054f969c47d877fc748720",
            "9a144408ebfd48dcb05625f3138e0433",
            "dc39a74c6ec640a2bf57de3c4f7cec0b",
            "ad480193700545b48e46216888ce7a7a",
            "1faa2cc7430c4819b3c67d4642e5ed37",
            "e200fecaccc64b24a9f6a2a145a5b915",
            "0c6ef909fe15437d871adecbea14315a"
          ]
        },
        "id": "a2787582-554f-44ce-9f38-4180a5ed6b44",
        "outputId": "fa84f177-5deb-420f-ee9d-c0db251b4121"
      },
      "outputs": [
        {
          "name": "stdout",
          "output_type": "stream",
          "text": [
            "loading local data\n",
            "IterableDatasetDict({\n",
            "    train: Dataset({\n",
            "        features: ['audio', 'sentence'],\n",
            "        num_rows: 8000\n",
            "    })\n",
            "    test: Dataset({\n",
            "        features: ['audio', 'sentence'],\n",
            "        num_rows: 2000\n",
            "    })\n",
            "})\n"
          ]
        }
      ],
      "source": [
        "from datasets import load_dataset, IterableDatasetDict, load_from_disk\n",
        "import os\n",
        "path = os.getcwd()\n",
        "dataset_path = \"datasets/kan_dataset\"\n",
        "raw_datasets = IterableDatasetDict()\n",
        "if os.path.exists(dataset_path)==False:\n",
        "    print('getting dataset from huggingface')\n",
        "    raw_datasets[\"train\"] = load_dataset(\"imvladikon/hebrew_speech_kan\", split=\"train\")  # set split=\"train+validation\" for low-resource\n",
        "    raw_datasets[\"test\"] = load_dataset(\"imvladikon/hebrew_speech_kan\", split=\"validation\") #no test for imvladikon hebrew\n",
        "    raw_datasets[\"train\"].save_to_disk(dataset_path + \"/train\")\n",
        "    raw_datasets[\"test\"].save_to_disk(dataset_path + \"/test\")\n",
        "else:\n",
        "    print(\"loading local data\")\n",
        "    raw_datasets[\"train\"] = load_from_disk(dataset_path + \"/train\")\n",
        "    raw_datasets[\"test\"] = load_from_disk(dataset_path + \"/test\")\n",
        "\n",
        "print(raw_datasets)"
      ]
    },
    {
      "cell_type": "code",
      "execution_count": 20,
      "id": "e507c8b1",
      "metadata": {},
      "outputs": [
        {
          "ename": "AttributeError",
          "evalue": "'str' object has no attribute 'train_test_split'",
          "output_type": "error",
          "traceback": [
            "\u001b[0;31m---------------------------------------------------------------------------\u001b[0m",
            "\u001b[0;31mAttributeError\u001b[0m                            Traceback (most recent call last)",
            "Cell \u001b[0;32mIn[20], line 2\u001b[0m\n\u001b[1;32m      1\u001b[0m \u001b[38;5;66;03m#take subset of 20 percent of training\u001b[39;00m\n\u001b[0;32m----> 2\u001b[0m raw_datasets[\u001b[38;5;124m\"\u001b[39m\u001b[38;5;124mtrain\u001b[39m\u001b[38;5;124m\"\u001b[39m], _ \u001b[38;5;241m=\u001b[39m \u001b[43mraw_datasets\u001b[49m\u001b[43m[\u001b[49m\u001b[38;5;124;43m\"\u001b[39;49m\u001b[38;5;124;43mtrain\u001b[39;49m\u001b[38;5;124;43m\"\u001b[39;49m\u001b[43m]\u001b[49m\u001b[38;5;241;43m.\u001b[39;49m\u001b[43mtrain_test_split\u001b[49m(test_size\u001b[38;5;241m=\u001b[39m\u001b[38;5;241m0.2\u001b[39m, seed\u001b[38;5;241m=\u001b[39m\u001b[38;5;241m42\u001b[39m)\n\u001b[1;32m      3\u001b[0m \u001b[38;5;66;03m#take subset of 20 percent of test\u001b[39;00m\n\u001b[1;32m      4\u001b[0m raw_datasets[\u001b[38;5;124m\"\u001b[39m\u001b[38;5;124mtest\u001b[39m\u001b[38;5;124m\"\u001b[39m], _ \u001b[38;5;241m=\u001b[39m raw_datasets[\u001b[38;5;124m\"\u001b[39m\u001b[38;5;124mtest\u001b[39m\u001b[38;5;124m\"\u001b[39m]\u001b[38;5;241m.\u001b[39mtrain_test_split(test_size\u001b[38;5;241m=\u001b[39m\u001b[38;5;241m0.2\u001b[39m, seed\u001b[38;5;241m=\u001b[39m\u001b[38;5;241m42\u001b[39m)\n",
            "\u001b[0;31mAttributeError\u001b[0m: 'str' object has no attribute 'train_test_split'"
          ]
        }
      ],
      "source": [
        "#take subset of 20 percent of training\n",
        "raw_datasets[\"train\"], _ = raw_datasets[\"train\"].train_test_split(test_size=0.2, seed=42)\n",
        "#take subset of 20 percent of test\n",
        "raw_datasets[\"test\"], _ = raw_datasets[\"test\"].train_test_split(test_size=0.2, seed=42)\n"
      ]
    },
    {
      "cell_type": "code",
      "execution_count": null,
      "id": "e81a5c88",
      "metadata": {},
      "outputs": [],
      "source": []
    },
    {
      "cell_type": "code",
      "execution_count": 12,
      "id": "a2f66d1a",
      "metadata": {},
      "outputs": [
        {
          "name": "stdout",
          "output_type": "stream",
          "text": [
            "Folder Size: 1.4862153874710202 GB\n"
          ]
        }
      ],
      "source": [
        "#get memory size of raw_datasets[\"train\"]\n",
        "def get_folder_size(path):\n",
        "    total_size = 0\n",
        "    for dirpath, dirnames, filenames in os.walk(path):\n",
        "        for f in filenames:\n",
        "            fp = os.path.join(dirpath, f)\n",
        "            if os.path.isfile(fp):\n",
        "                total_size += os.path.getsize(fp)\n",
        "    return total_size\n",
        "\n",
        "folder_path = dataset_path + \"/train\"\n",
        "size_bytes = get_folder_size(folder_path)\n",
        "size_mb = size_bytes / (1024 * 1024)  # Convert bytes to megabytes\n",
        "size_gb = size_bytes / (1024 * 1024 * 1024)  # Convert bytes to gigabytes\n",
        "\n",
        "print(f\"Folder Size: {size_gb} GB\")"
      ]
    },
    {
      "attachments": {},
      "cell_type": "markdown",
      "id": "d5c7c3d6-7197-41e7-a088-49b753c1681f",
      "metadata": {
        "id": "d5c7c3d6-7197-41e7-a088-49b753c1681f"
      },
      "source": [
        "Most ASR datasets only provide input audio samples (`audio`) and the\n",
        "corresponding transcribed text (`sentence`). Common Voice contains additional\n",
        "metadata information, such as `accent` and `locale`, which we can disregard for ASR.\n",
        "Keeping the notebook as general as possible, we only consider the input audio and\n",
        "transcribed text for fine-tuning, discarding the additional metadata information:"
      ]
    },
    {
      "attachments": {},
      "cell_type": "markdown",
      "id": "2d63b2d2-f68a-4d74-b7f1-5127f6d16605",
      "metadata": {
        "id": "2d63b2d2-f68a-4d74-b7f1-5127f6d16605"
      },
      "source": [
        "## Prepare Feature Extractor, Tokenizer and Data"
      ]
    },
    {
      "attachments": {},
      "cell_type": "markdown",
      "id": "601c3099-1026-439e-93e2-5635b3ba5a73",
      "metadata": {
        "id": "601c3099-1026-439e-93e2-5635b3ba5a73"
      },
      "source": [
        "The ASR pipeline can be de-composed into three stages:\n",
        "1) A feature extractor which pre-processes the raw audio-inputs\n",
        "2) The model which performs the sequence-to-sequence mapping\n",
        "3) A tokenizer which post-processes the model outputs to text format\n",
        "\n",
        "In 🤗 Transformers, the Whisper model has an associated feature extractor and tokenizer,\n",
        "called [WhisperFeatureExtractor](https://huggingface.co/docs/transformers/main/model_doc/whisper#transformers.WhisperFeatureExtractor)\n",
        "and [WhisperTokenizer](https://huggingface.co/docs/transformers/main/model_doc/whisper#transformers.WhisperTokenizer)\n",
        "respectively.\n",
        "\n",
        "We'll go through details for setting-up the feature extractor and tokenizer one-by-one!"
      ]
    },
    {
      "attachments": {},
      "cell_type": "markdown",
      "id": "560332eb-3558-41a1-b500-e83a9f695f84",
      "metadata": {
        "id": "560332eb-3558-41a1-b500-e83a9f695f84"
      },
      "source": [
        "### Load WhisperFeatureExtractor"
      ]
    },
    {
      "attachments": {},
      "cell_type": "markdown",
      "id": "32ec8068-0bd7-412d-b662-0edb9d1e7365",
      "metadata": {
        "id": "32ec8068-0bd7-412d-b662-0edb9d1e7365"
      },
      "source": [
        "The Whisper feature extractor performs two operations:\n",
        "1. Pads / truncates the audio inputs to 30s: any audio inputs shorter than 30s are padded to 30s with silence (zeros), and those longer that 30s are truncated to 30s\n",
        "2. Converts the audio inputs to _log-Mel spectrogram_ input features, a visual representation of the audio and the form of the input expected by the Whisper model"
      ]
    },
    {
      "attachments": {},
      "cell_type": "markdown",
      "id": "589d9ec1-d12b-4b64-93f7-04c63997da19",
      "metadata": {
        "id": "589d9ec1-d12b-4b64-93f7-04c63997da19"
      },
      "source": [
        "<figure>\n",
        "<img src=\"https://raw.githubusercontent.com/sanchit-gandhi/notebooks/main/spectrogram.jpg\" alt=\"Trulli\" style=\"width:100%\">\n",
        "<figcaption align = \"center\"><b>Figure 2:</b> Conversion of sampled audio array to log-Mel spectrogram.\n",
        "Left: sampled 1-dimensional audio signal. Right: corresponding log-Mel spectrogram. Figure source:\n",
        "<a href=\"https://ai.googleblog.com/2019/04/specaugment-new-data-augmentation.html\">Google SpecAugment Blog</a>.\n",
        "</figcaption>"
      ]
    },
    {
      "attachments": {},
      "cell_type": "markdown",
      "id": "b2ef54d5-b946-4c1d-9fdc-adc5d01b46aa",
      "metadata": {
        "id": "b2ef54d5-b946-4c1d-9fdc-adc5d01b46aa"
      },
      "source": [
        "We'll load the feature extractor from the pre-trained checkpoint with the default values:"
      ]
    },
    {
      "cell_type": "code",
      "execution_count": 13,
      "id": "bc77d7bb-f9e2-47f5-b663-30f7a4321ce5",
      "metadata": {
        "id": "bc77d7bb-f9e2-47f5-b663-30f7a4321ce5"
      },
      "outputs": [],
      "source": [
        "from transformers import WhisperFeatureExtractor\n",
        "\n",
        "feature_extractor = WhisperFeatureExtractor.from_pretrained(\"openai/whisper-small\")"
      ]
    },
    {
      "attachments": {},
      "cell_type": "markdown",
      "id": "93748af7-b917-4ecf-a0c8-7d89077ff9cb",
      "metadata": {
        "id": "93748af7-b917-4ecf-a0c8-7d89077ff9cb"
      },
      "source": [
        "### Load WhisperTokenizer"
      ]
    },
    {
      "attachments": {},
      "cell_type": "markdown",
      "id": "2bc82609-a9fb-447a-a2af-99597c864029",
      "metadata": {
        "id": "2bc82609-a9fb-447a-a2af-99597c864029"
      },
      "source": [
        "The Whisper model outputs a sequence of _token ids_. The tokenizer maps each of these token ids to their corresponding text string. For Hindi, we can load the pre-trained tokenizer and use it for fine-tuning without any further modifications. We simply have to\n",
        "specify the target language and the task. These arguments inform the\n",
        "tokenizer to prefix the language and task tokens to the start of encoded\n",
        "label sequences:"
      ]
    },
    {
      "cell_type": "code",
      "execution_count": 14,
      "id": "c7b07f9b-ae0e-4f89-98f0-0c50d432eab6",
      "metadata": {
        "colab": {
          "referenced_widgets": [
            "90d056e20b3e4f14ae0199a1a4ab1bb0",
            "d82a88daec0e4f14add691b7b903064c",
            "350acdb0f40e454099fa901e66de55f0",
            "2e6a82a462cc411d90fa1bea4ee60790",
            "c74bfee0198b4817832ea86e8e88d96c",
            "04fb2d81eff646068e10475a08ae42f4"
          ]
        },
        "id": "c7b07f9b-ae0e-4f89-98f0-0c50d432eab6",
        "outputId": "5c004b44-86e7-4e00-88be-39e0af5eed69"
      },
      "outputs": [],
      "source": [
        "from transformers import WhisperTokenizer\n",
        "\n",
        "tokenizer = WhisperTokenizer.from_pretrained(\"openai/whisper-small\", language=\"Hebrew\", task=\"transcribe\")"
      ]
    },
    {
      "attachments": {},
      "cell_type": "markdown",
      "id": "d2ef23f3-f4a8-483a-a2dc-080a7496cb1b",
      "metadata": {
        "id": "d2ef23f3-f4a8-483a-a2dc-080a7496cb1b"
      },
      "source": [
        "### Combine To Create A WhisperProcessor"
      ]
    },
    {
      "attachments": {},
      "cell_type": "markdown",
      "id": "5ff67654-5a29-4bb8-a69d-0228946c6f8d",
      "metadata": {
        "id": "5ff67654-5a29-4bb8-a69d-0228946c6f8d"
      },
      "source": [
        "To simplify using the feature extractor and tokenizer, we can _wrap_\n",
        "both into a single `WhisperProcessor` class. This processor object\n",
        "inherits from the `WhisperFeatureExtractor` and `WhisperProcessor`,\n",
        "and can be used on the audio inputs and model predictions as required.\n",
        "In doing so, we only need to keep track of two objects during training:\n",
        "the `processor` and the `model`:"
      ]
    },
    {
      "cell_type": "code",
      "execution_count": 15,
      "id": "77d9f0c5-8607-4642-a8ac-c3ab2e223ea6",
      "metadata": {
        "id": "77d9f0c5-8607-4642-a8ac-c3ab2e223ea6"
      },
      "outputs": [],
      "source": [
        "from transformers import WhisperProcessor\n",
        "\n",
        "processor = WhisperProcessor.from_pretrained(\"openai/whisper-small\", language=\"Hebrew\", task=\"transcribe\")"
      ]
    },
    {
      "attachments": {},
      "cell_type": "markdown",
      "id": "381acd09-0b0f-4d04-9eb3-f028ac0e5f2c",
      "metadata": {
        "id": "381acd09-0b0f-4d04-9eb3-f028ac0e5f2c"
      },
      "source": [
        "### Prepare Data"
      ]
    },
    {
      "attachments": {},
      "cell_type": "markdown",
      "id": "9649bf01-2e8a-45e5-8fca-441c13637b8f",
      "metadata": {
        "id": "9649bf01-2e8a-45e5-8fca-441c13637b8f"
      },
      "source": [
        "Let's print the first example of the Common Voice dataset to see\n",
        "what form the data is in:"
      ]
    },
    {
      "cell_type": "code",
      "execution_count": 16,
      "id": "6e6b0ec5-0c94-4e2c-ae24-c791be1b2255",
      "metadata": {
        "id": "6e6b0ec5-0c94-4e2c-ae24-c791be1b2255"
      },
      "outputs": [
        {
          "ename": "KeyError",
          "evalue": "\"Invalid key: 0. Please first select a split. For example: `my_dataset_dictionary['train'][0]`. Available splits: ['test', 'train']\"",
          "output_type": "error",
          "traceback": [
            "\u001b[0;31m---------------------------------------------------------------------------\u001b[0m",
            "\u001b[0;31mKeyError\u001b[0m                                  Traceback (most recent call last)",
            "Cell \u001b[0;32mIn[16], line 1\u001b[0m\n\u001b[0;32m----> 1\u001b[0m \u001b[38;5;28mprint\u001b[39m(\u001b[43mraw_datasets\u001b[49m\u001b[43m[\u001b[49m\u001b[38;5;124;43m\"\u001b[39;49m\u001b[38;5;124;43mtrain\u001b[39;49m\u001b[38;5;124;43m\"\u001b[39;49m\u001b[43m]\u001b[49m\u001b[43m[\u001b[49m\u001b[38;5;241;43m0\u001b[39;49m\u001b[43m]\u001b[49m)\n",
            "File \u001b[0;32m/home/zeus/miniconda3/envs/cloudspace/lib/python3.10/site-packages/datasets/dataset_dict.py:80\u001b[0m, in \u001b[0;36mDatasetDict.__getitem__\u001b[0;34m(self, k)\u001b[0m\n\u001b[1;32m     76\u001b[0m available_suggested_splits \u001b[38;5;241m=\u001b[39m [\n\u001b[1;32m     77\u001b[0m     split \u001b[38;5;28;01mfor\u001b[39;00m split \u001b[38;5;129;01min\u001b[39;00m (Split\u001b[38;5;241m.\u001b[39mTRAIN, Split\u001b[38;5;241m.\u001b[39mTEST, Split\u001b[38;5;241m.\u001b[39mVALIDATION) \u001b[38;5;28;01mif\u001b[39;00m split \u001b[38;5;129;01min\u001b[39;00m \u001b[38;5;28mself\u001b[39m\n\u001b[1;32m     78\u001b[0m ]\n\u001b[1;32m     79\u001b[0m suggested_split \u001b[38;5;241m=\u001b[39m available_suggested_splits[\u001b[38;5;241m0\u001b[39m] \u001b[38;5;28;01mif\u001b[39;00m available_suggested_splits \u001b[38;5;28;01melse\u001b[39;00m \u001b[38;5;28mlist\u001b[39m(\u001b[38;5;28mself\u001b[39m)[\u001b[38;5;241m0\u001b[39m]\n\u001b[0;32m---> 80\u001b[0m \u001b[38;5;28;01mraise\u001b[39;00m \u001b[38;5;167;01mKeyError\u001b[39;00m(\n\u001b[1;32m     81\u001b[0m     \u001b[38;5;124mf\u001b[39m\u001b[38;5;124m\"\u001b[39m\u001b[38;5;124mInvalid key: \u001b[39m\u001b[38;5;132;01m{\u001b[39;00mk\u001b[38;5;132;01m}\u001b[39;00m\u001b[38;5;124m. Please first select a split. For example: \u001b[39m\u001b[38;5;124m\"\u001b[39m\n\u001b[1;32m     82\u001b[0m     \u001b[38;5;124mf\u001b[39m\u001b[38;5;124m\"\u001b[39m\u001b[38;5;124m`my_dataset_dictionary[\u001b[39m\u001b[38;5;124m'\u001b[39m\u001b[38;5;132;01m{\u001b[39;00msuggested_split\u001b[38;5;132;01m}\u001b[39;00m\u001b[38;5;124m'\u001b[39m\u001b[38;5;124m][\u001b[39m\u001b[38;5;132;01m{\u001b[39;00mk\u001b[38;5;132;01m}\u001b[39;00m\u001b[38;5;124m]`. \u001b[39m\u001b[38;5;124m\"\u001b[39m\n\u001b[1;32m     83\u001b[0m     \u001b[38;5;124mf\u001b[39m\u001b[38;5;124m\"\u001b[39m\u001b[38;5;124mAvailable splits: \u001b[39m\u001b[38;5;132;01m{\u001b[39;00m\u001b[38;5;28msorted\u001b[39m(\u001b[38;5;28mself\u001b[39m)\u001b[38;5;132;01m}\u001b[39;00m\u001b[38;5;124m\"\u001b[39m\n\u001b[1;32m     84\u001b[0m )\n",
            "\u001b[0;31mKeyError\u001b[0m: \"Invalid key: 0. Please first select a split. For example: `my_dataset_dictionary['train'][0]`. Available splits: ['test', 'train']\""
          ]
        }
      ],
      "source": [
        "print(raw_datasets[\"train\"][0])"
      ]
    },
    {
      "cell_type": "code",
      "execution_count": null,
      "id": "4d07a962",
      "metadata": {},
      "outputs": [
        {
          "data": {
            "text/html": [
              "\n",
              "                <audio  controls=\"controls\" >\n",
              "                    <source src=\"data:audio/wav;base64,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\" type=\"audio/wav\" />\n",
              "                    Your browser does not support the audio element.\n",
              "                </audio>\n",
              "              "
            ],
            "text/plain": [
              "<IPython.lib.display.Audio object>"
            ]
          },
          "execution_count": 37,
          "metadata": {},
          "output_type": "execute_result"
        }
      ],
      "source": [
        "import numpy as np\n",
        "from IPython.display import Audio\n",
        "\n",
        "audio_array = np.array(raw_datasets[\"train\"][0]['audio']['array'])\n",
        "audio_rate = raw_datasets[\"train\"][1]['audio']['sampling_rate']\n",
        "Audio(audio_array, rate = audio_rate)"
      ]
    },
    {
      "attachments": {},
      "cell_type": "markdown",
      "id": "5a679f05-063d-41b3-9b58-4fc9c6ccf4fd",
      "metadata": {
        "id": "5a679f05-063d-41b3-9b58-4fc9c6ccf4fd"
      },
      "source": [
        "Since\n",
        "our input audio is sampled at 48kHz, we need to _downsample_ it to\n",
        "16kHz prior to passing it to the Whisper feature extractor, 16kHz being the sampling rate expected by the Whisper model.\n",
        "\n",
        "We'll set the audio inputs to the correct sampling rate using dataset's\n",
        "[`cast_column`](https://huggingface.co/docs/datasets/package_reference/main_classes.html?highlight=cast_column#datasets.DatasetDict.cast_column)\n",
        "method. This operation does not change the audio in-place,\n",
        "but rather signals to `datasets` to resample audio samples _on the fly_ the\n",
        "first time that they are loaded:"
      ]
    },
    {
      "cell_type": "code",
      "execution_count": null,
      "id": "f12e2e57-156f-417b-8cfb-69221cc198e8",
      "metadata": {
        "id": "f12e2e57-156f-417b-8cfb-69221cc198e8"
      },
      "outputs": [],
      "source": [
        "from datasets import Audio\n",
        "\n",
        "raw_datasets = raw_datasets.cast_column(\"audio\", Audio(sampling_rate=16000))"
      ]
    },
    {
      "attachments": {},
      "cell_type": "markdown",
      "id": "00382a3e-abec-4cdd-a54c-d1aaa3ea4707",
      "metadata": {
        "id": "00382a3e-abec-4cdd-a54c-d1aaa3ea4707"
      },
      "source": [
        "Re-loading the first audio sample in the Common Voice dataset will resample\n",
        "it to the desired sampling rate:"
      ]
    },
    {
      "attachments": {},
      "cell_type": "markdown",
      "id": "3df7378a-a4c0-45d7-8d07-defbd1062ab6",
      "metadata": {
        "id": "3df7378a-a4c0-45d7-8d07-defbd1062ab6"
      },
      "source": [
        "We'll define our pre-processing strategy. We advise that you **do not** lower-case the transcriptions or remove punctuation unless mixing different datasets. This will enable you to fine-tune Whisper models that can predict punctuation and casing. Later, you will see how we can evaluate the predictions without punctuation or casing, so that the models benefit from the WER improvement obtained by normalising the transcriptions while still predicting fully formatted transcriptions."
      ]
    },
    {
      "cell_type": "code",
      "execution_count": null,
      "id": "d041650e-1c48-4439-87b3-5b6f4a514107",
      "metadata": {
        "id": "d041650e-1c48-4439-87b3-5b6f4a514107"
      },
      "outputs": [],
      "source": [
        "from transformers.models.whisper.english_normalizer import BasicTextNormalizer\n",
        "\n",
        "do_lower_case = False\n",
        "do_remove_punctuation = False\n",
        "\n",
        "normalizer = BasicTextNormalizer()"
      ]
    },
    {
      "attachments": {},
      "cell_type": "markdown",
      "id": "89e12c2e-2f14-479b-987b-f0c75c881095",
      "metadata": {
        "id": "89e12c2e-2f14-479b-987b-f0c75c881095"
      },
      "source": [
        "Now we can write a function to prepare our data ready for the model:\n",
        "1. We load and resample the audio data by calling `batch[\"audio\"]`. As explained above, 🤗 Datasets performs any necessary resampling operations on the fly.\n",
        "2. We use the feature extractor to compute the log-Mel spectrogram input features from our 1-dimensional audio array.\n",
        "3. We perform any optional pre-processing (lower-case or remove punctuation).\n",
        "4. We encode the transcriptions to label ids through the use of the tokenizer."
      ]
    },
    {
      "cell_type": "code",
      "execution_count": null,
      "id": "c085911c-a10a-41ef-8874-306e0503e9bb",
      "metadata": {
        "id": "c085911c-a10a-41ef-8874-306e0503e9bb"
      },
      "outputs": [],
      "source": [
        "def prepare_dataset(batch):\n",
        "    # load and (possibly) resample audio data to 16kHz\n",
        "    audio = batch[\"audio\"]\n",
        "\n",
        "    # compute log-Mel input features from input audio array\n",
        "    batch[\"input_features\"] = processor.feature_extractor(audio[\"array\"], sampling_rate=audio[\"sampling_rate\"]).input_features[0]\n",
        "    # compute input length of audio sample in seconds\n",
        "    batch[\"input_length\"] = len(audio[\"array\"]) / audio[\"sampling_rate\"]\n",
        "\n",
        "    # optional pre-processing steps\n",
        "    transcription = batch[\"sentence\"]\n",
        "    if do_lower_case:\n",
        "        transcription = transcription.lower()\n",
        "    if do_remove_punctuation:\n",
        "        transcription = normalizer(transcription).strip()\n",
        "\n",
        "    # encode target text to label ids\n",
        "    batch[\"labels\"] = processor.tokenizer(transcription).input_ids\n",
        "    return batch"
      ]
    },
    {
      "attachments": {},
      "cell_type": "markdown",
      "id": "8c960965-9fb6-466f-9dbd-c9d43e71d9d0",
      "metadata": {
        "id": "8c960965-9fb6-466f-9dbd-c9d43e71d9d0"
      },
      "source": [
        "We can apply the data preparation function to all of our training examples using dataset's `.map` method. The argument `num_proc` specifies how many CPU cores to use. Setting `num_proc` > 1 will enable multiprocessing. If the `.map` method hangs with multiprocessing, set `num_proc=1` and process the dataset sequentially."
      ]
    },
    {
      "cell_type": "code",
      "execution_count": null,
      "id": "7b73ab39-ffaf-4b9e-86e5-782963c6134b",
      "metadata": {
        "id": "7b73ab39-ffaf-4b9e-86e5-782963c6134b"
      },
      "outputs": [
        {
          "data": {
            "application/vnd.jupyter.widget-view+json": {
              "model_id": "412834b5b1ca4a6d8a665b0e860bae2b",
              "version_major": 2,
              "version_minor": 0
            },
            "text/plain": [
              "Map:   0%|          | 0/8000 [00:00<?, ? examples/s]"
            ]
          },
          "metadata": {},
          "output_type": "display_data"
        },
        {
          "data": {
            "application/vnd.jupyter.widget-view+json": {
              "model_id": "3cbe47da8d9649089245b5687ed244a5",
              "version_major": 2,
              "version_minor": 0
            },
            "text/plain": [
              "Map:   0%|          | 0/2000 [00:00<?, ? examples/s]"
            ]
          },
          "metadata": {},
          "output_type": "display_data"
        }
      ],
      "source": [
        "raw_datasets = raw_datasets.map(prepare_dataset, remove_columns=raw_datasets[\"train\"].features.keys()).with_format(\"torch\")"
      ]
    },
    {
      "attachments": {},
      "cell_type": "markdown",
      "id": "54ce0fdb-7218-4a4d-b175-383980fec0df",
      "metadata": {
        "id": "54ce0fdb-7218-4a4d-b175-383980fec0df"
      },
      "source": [
        "Finally, we filter any training data with audio samples longer than 30s. These samples would otherwise be truncated by the Whisper feature-extractor which could affect the stability of training. We define a function that returns `True` for samples that are less than 30s, and `False` for those that are longer:"
      ]
    },
    {
      "cell_type": "code",
      "execution_count": null,
      "id": "01cb25ef-4bb0-4325-9461-f59198acadf6",
      "metadata": {
        "id": "01cb25ef-4bb0-4325-9461-f59198acadf6"
      },
      "outputs": [],
      "source": [
        "max_input_length = 30.0\n",
        "\n",
        "def is_audio_in_length_range(length):\n",
        "    return length < max_input_length"
      ]
    },
    {
      "attachments": {},
      "cell_type": "markdown",
      "id": "30e676a8-7ca8-4850-8c5d-5b2b00d13fba",
      "metadata": {
        "id": "30e676a8-7ca8-4850-8c5d-5b2b00d13fba"
      },
      "source": [
        "We apply our filter function to all samples of our training dataset through 🤗 Datasets' `.filter` method:"
      ]
    },
    {
      "cell_type": "code",
      "execution_count": null,
      "id": "333f7f6e-6053-4d3b-8924-c733c79b82ac",
      "metadata": {
        "id": "333f7f6e-6053-4d3b-8924-c733c79b82ac"
      },
      "outputs": [
        {
          "data": {
            "application/vnd.jupyter.widget-view+json": {
              "model_id": "9320d163e2ad4f1a8dbc66ce15c39203",
              "version_major": 2,
              "version_minor": 0
            },
            "text/plain": [
              "Filter:   0%|          | 0/8000 [00:00<?, ? examples/s]"
            ]
          },
          "metadata": {},
          "output_type": "display_data"
        }
      ],
      "source": [
        "raw_datasets[\"train\"] = raw_datasets[\"train\"].filter(\n",
        "    is_audio_in_length_range,\n",
        "    input_columns=[\"input_length\"],\n",
        ")"
      ]
    },
    {
      "attachments": {},
      "cell_type": "markdown",
      "id": "263a5a58-0239-4a25-b0df-c625fc9c5810",
      "metadata": {
        "id": "263a5a58-0239-4a25-b0df-c625fc9c5810"
      },
      "source": [
        "## Training and Evaluation"
      ]
    },
    {
      "attachments": {},
      "cell_type": "markdown",
      "id": "a693e768-c5a6-453f-89a1-b601dcf7daf7",
      "metadata": {
        "id": "a693e768-c5a6-453f-89a1-b601dcf7daf7"
      },
      "source": [
        "Now that we've prepared our data, we're ready to dive into the training pipeline.\n",
        "The [🤗 Trainer](https://huggingface.co/transformers/master/main_classes/trainer.html?highlight=trainer)\n",
        "will do much of the heavy lifting for us. All we have to do is:\n",
        "\n",
        "- Define a data collator: the data collator takes our pre-processed data and prepares PyTorch tensors ready for the model.\n",
        "\n",
        "- Evaluation metrics: during evaluation, we want to evaluate the model using the [word error rate (WER)](https://huggingface.co/metrics/wer) metric. We need to define a `compute_metrics` function that handles this computation.\n",
        "\n",
        "- Load a pre-trained checkpoint: we need to load a pre-trained checkpoint and configure it correctly for training.\n",
        "\n",
        "- Define the training configuration: this will be used by the 🤗 Trainer to define the training schedule.\n",
        "\n",
        "Once we've fine-tuned the model, we will evaluate it on the test data to verify that we have correctly trained it\n",
        "to transcribe speech in Hindi."
      ]
    },
    {
      "attachments": {},
      "cell_type": "markdown",
      "id": "8d230e6d-624c-400a-bbf5-fa660881df25",
      "metadata": {
        "id": "8d230e6d-624c-400a-bbf5-fa660881df25"
      },
      "source": [
        "### Define a Data Collator"
      ]
    },
    {
      "attachments": {},
      "cell_type": "markdown",
      "id": "04def221-0637-4a69-b242-d3f0c1d0ee78",
      "metadata": {
        "id": "04def221-0637-4a69-b242-d3f0c1d0ee78"
      },
      "source": [
        "The data collator for a sequence-to-sequence speech model is unique in the sense that it\n",
        "treats the `input_features` and `labels` independently: the  `input_features` must be\n",
        "handled by the feature extractor and the `labels` by the tokenizer.\n",
        "\n",
        "The `input_features` are already padded to 30s and converted to a log-Mel spectrogram\n",
        "of fixed dimension by action of the feature extractor, so all we have to do is convert the `input_features`\n",
        "to batched PyTorch tensors. We do this using the feature extractor's `.pad` method with `return_tensors=pt`.\n",
        "\n",
        "The `labels` on the other hand are un-padded. We first pad the sequences\n",
        "to the maximum length in the batch using the tokenizer's `.pad` method. The padding tokens\n",
        "are then replaced by `-100` so that these tokens are **not** taken into account when\n",
        "computing the loss. We then cut the BOS token from the start of the label sequence as we\n",
        "append it later during training.\n",
        "\n",
        "We can leverage the `WhisperProcessor` we defined earlier to perform both the\n",
        "feature extractor and the tokenizer operations:"
      ]
    },
    {
      "cell_type": "code",
      "execution_count": null,
      "id": "8326221e-ec13-4731-bb4e-51e5fc1486c5",
      "metadata": {
        "id": "8326221e-ec13-4731-bb4e-51e5fc1486c5"
      },
      "outputs": [],
      "source": [
        "import torch\n",
        "\n",
        "from dataclasses import dataclass\n",
        "from typing import Any, Dict, List, Union\n",
        "\n",
        "@dataclass\n",
        "class DataCollatorSpeechSeq2SeqWithPadding:\n",
        "    processor: Any\n",
        "\n",
        "    def __call__(self, features: List[Dict[str, Union[List[int], torch.Tensor]]]) -> Dict[str, torch.Tensor]:\n",
        "        # split inputs and labels since they have to be of different lengths and need different padding methods\n",
        "        # first treat the audio inputs by simply returning torch tensors\n",
        "        input_features = [{\"input_features\": feature[\"input_features\"]} for feature in features]\n",
        "        batch = self.processor.feature_extractor.pad(input_features, return_tensors=\"pt\")\n",
        "\n",
        "        # get the tokenized label sequences\n",
        "        label_features = [{\"input_ids\": feature[\"labels\"]} for feature in features]\n",
        "        # pad the labels to max length\n",
        "        labels_batch = self.processor.tokenizer.pad(label_features, return_tensors=\"pt\")\n",
        "\n",
        "        # replace padding with -100 to ignore loss correctly\n",
        "        labels = labels_batch[\"input_ids\"].masked_fill(labels_batch.attention_mask.ne(1), -100)\n",
        "\n",
        "        # if bos token is appended in previous tokenization step,\n",
        "        # cut bos token here as it's append later anyways\n",
        "        if (labels[:, 0] == self.processor.tokenizer.bos_token_id).all().cpu().item():\n",
        "            labels = labels[:, 1:]\n",
        "\n",
        "        batch[\"labels\"] = labels\n",
        "\n",
        "        return batch"
      ]
    },
    {
      "attachments": {},
      "cell_type": "markdown",
      "id": "3cae7dbf-8a50-456e-a3a8-7fd005390f86",
      "metadata": {
        "id": "3cae7dbf-8a50-456e-a3a8-7fd005390f86"
      },
      "source": [
        "Let's initialise the data collator we've just defined:"
      ]
    },
    {
      "cell_type": "code",
      "execution_count": null,
      "id": "fc834702-c0d3-4a96-b101-7b87be32bf42",
      "metadata": {
        "id": "fc834702-c0d3-4a96-b101-7b87be32bf42"
      },
      "outputs": [],
      "source": [
        "data_collator = DataCollatorSpeechSeq2SeqWithPadding(processor=processor)"
      ]
    },
    {
      "attachments": {},
      "cell_type": "markdown",
      "id": "d62bb2ab-750a-45e7-82e9-61d6f4805698",
      "metadata": {
        "id": "d62bb2ab-750a-45e7-82e9-61d6f4805698"
      },
      "source": [
        "### Evaluation Metrics"
      ]
    },
    {
      "attachments": {},
      "cell_type": "markdown",
      "id": "66fee1a7-a44c-461e-b047-c3917221572e",
      "metadata": {
        "id": "66fee1a7-a44c-461e-b047-c3917221572e"
      },
      "source": [
        "We'll use the word error rate (WER) metric, the 'de-facto' metric for assessing\n",
        "ASR systems. For more information, refer to the WER [docs](https://huggingface.co/metrics/wer). We'll load the WER metric from 🤗 Evaluate:"
      ]
    },
    {
      "cell_type": "code",
      "execution_count": null,
      "id": "b22b4011-f31f-4b57-b684-c52332f92890",
      "metadata": {
        "id": "b22b4011-f31f-4b57-b684-c52332f92890"
      },
      "outputs": [],
      "source": [
        "import evaluate\n",
        "\n",
        "metric = evaluate.load(\"wer\")"
      ]
    },
    {
      "attachments": {},
      "cell_type": "markdown",
      "id": "4f32cab6-31f0-4cb9-af4c-40ba0f5fc508",
      "metadata": {
        "id": "4f32cab6-31f0-4cb9-af4c-40ba0f5fc508"
      },
      "source": [
        "We then simply have to define a function that takes our model\n",
        "predictions and returns the WER metric. This function, called\n",
        "`compute_metrics`, first replaces `-100` with the `pad_token_id`\n",
        "in the `label_ids` (undoing the step we applied in the\n",
        "data collator to ignore padded tokens correctly in the loss).\n",
        "It then decodes the predicted and label ids to strings. Finally,\n",
        "it computes the WER between the predictions and reference labels.\n",
        "Here, we have the option of evaluating with the 'normalised' transcriptions\n",
        "and predictions. We recommend you set this to `True` to benefit from the WER\n",
        "improvement obtained by normalising the transcriptions."
      ]
    },
    {
      "cell_type": "code",
      "execution_count": null,
      "id": "23959a70-22d0-4ffe-9fa1-72b61e75bb52",
      "metadata": {
        "id": "23959a70-22d0-4ffe-9fa1-72b61e75bb52"
      },
      "outputs": [],
      "source": [
        "# evaluate with the 'normalised' WER\n",
        "do_normalize_eval = True\n",
        "\n",
        "def compute_metrics(pred):\n",
        "    pred_ids = pred.predictions\n",
        "    label_ids = pred.label_ids\n",
        "\n",
        "    # replace -100 with the pad_token_id\n",
        "    label_ids[label_ids == -100] = processor.tokenizer.pad_token_id\n",
        "\n",
        "    # we do not want to group tokens when computing the metrics\n",
        "    pred_str = processor.tokenizer.batch_decode(pred_ids, skip_special_tokens=True)\n",
        "    label_str = processor.tokenizer.batch_decode(label_ids, skip_special_tokens=True)\n",
        "\n",
        "    if do_normalize_eval:\n",
        "        pred_str = [normalizer(pred) for pred in pred_str]\n",
        "        label_str = [normalizer(label) for label in label_str]\n",
        "\n",
        "    wer = 100 * metric.compute(predictions=pred_str, references=label_str)\n",
        "\n",
        "    return {\"wer\": wer}"
      ]
    },
    {
      "attachments": {},
      "cell_type": "markdown",
      "id": "daf2a825-6d9f-4a23-b145-c37c0039075b",
      "metadata": {
        "id": "daf2a825-6d9f-4a23-b145-c37c0039075b"
      },
      "source": [
        "### Load a Pre-Trained Checkpoint"
      ]
    },
    {
      "attachments": {},
      "cell_type": "markdown",
      "id": "437a97fa-4864-476b-8abc-f28b8166cfa5",
      "metadata": {
        "id": "437a97fa-4864-476b-8abc-f28b8166cfa5"
      },
      "source": [
        "Now let's load the pre-trained Whisper `small` checkpoint. Again, this\n",
        "is trivial through use of 🤗 Transformers!"
      ]
    },
    {
      "cell_type": "code",
      "execution_count": null,
      "id": "5a10cc4b-07ec-4ebd-ac1d-7c601023594f",
      "metadata": {
        "id": "5a10cc4b-07ec-4ebd-ac1d-7c601023594f"
      },
      "outputs": [],
      "source": [
        "from transformers import WhisperForConditionalGeneration\n",
        "\n",
        "model = WhisperForConditionalGeneration.from_pretrained(\"openai/whisper-small\")"
      ]
    },
    {
      "attachments": {},
      "cell_type": "markdown",
      "id": "a15ead5f-2277-4a39-937b-585c2497b2df",
      "metadata": {
        "id": "a15ead5f-2277-4a39-937b-585c2497b2df"
      },
      "source": [
        "Override generation arguments - no tokens are forced as decoder outputs (see [`forced_decoder_ids`](https://huggingface.co/docs/transformers/main_classes/text_generation#transformers.generation_utils.GenerationMixin.generate.forced_decoder_ids)), no tokens are suppressed during generation (see [`suppress_tokens`](https://huggingface.co/docs/transformers/main_classes/text_generation#transformers.generation_utils.GenerationMixin.generate.suppress_tokens)). Set `use_cache` to False since we're using gradient checkpointing, and the two are incompatible:"
      ]
    },
    {
      "cell_type": "code",
      "execution_count": null,
      "id": "62038ba3-88ed-4fce-84db-338f50dcd04f",
      "metadata": {
        "id": "62038ba3-88ed-4fce-84db-338f50dcd04f"
      },
      "outputs": [],
      "source": [
        "model.config.forced_decoder_ids = None\n",
        "model.config.suppress_tokens = []\n",
        "model.config.use_cache = False"
      ]
    },
    {
      "attachments": {},
      "cell_type": "markdown",
      "id": "2178dea4-80ca-47b6-b6ea-ba1915c90c06",
      "metadata": {
        "id": "2178dea4-80ca-47b6-b6ea-ba1915c90c06"
      },
      "source": [
        "### Define the Training Configuration"
      ]
    },
    {
      "attachments": {},
      "cell_type": "markdown",
      "id": "c21af1e9-0188-4134-ac82-defc7bdcc436",
      "metadata": {
        "id": "c21af1e9-0188-4134-ac82-defc7bdcc436"
      },
      "source": [
        "In the final step, we define all the parameters related to training. For more detail on the training arguments, refer to the Seq2SeqTrainingArguments [docs](https://huggingface.co/docs/transformers/main_classes/trainer#transformers.Seq2SeqTrainingArguments)."
      ]
    },
    {
      "cell_type": "code",
      "execution_count": null,
      "id": "0ae3e9af-97b7-4aa0-ae85-20b23b5bcb3a",
      "metadata": {
        "id": "0ae3e9af-97b7-4aa0-ae85-20b23b5bcb3a"
      },
      "outputs": [],
      "source": [
        "from transformers import Seq2SeqTrainingArguments\n",
        "\n",
        "training_args = Seq2SeqTrainingArguments(\n",
        "    output_dir=\"models/whisper-small\",\n",
        "    per_device_train_batch_size=8,\n",
        "    gradient_accumulation_steps=4,  # increase by 2x for every 2x decrease in batch size\n",
        "    learning_rate=1e-5,\n",
        "    warmup_steps=500,\n",
        "    # max_steps=5000,\n",
        "    gradient_checkpointing=True,\n",
        "    fp16=True,\n",
        "    evaluation_strategy=\"steps\",\n",
        "    per_device_eval_batch_size=8,\n",
        "    predict_with_generate=True,\n",
        "    generation_max_length=225,\n",
        "    # save_steps=1000,\n",
        "    # eval_steps=1000,\n",
        "    logging_steps=100,\n",
        "    # report_to=[\"tensorboard\"],\n",
        "    load_best_model_at_end=True,\n",
        "    metric_for_best_model=\"wer\",\n",
        "    greater_is_better=False,\n",
        "    num_train_epochs=1,\n",
        "    save_total_limit=1\n",
        ")"
      ]
    },
    {
      "attachments": {},
      "cell_type": "markdown",
      "id": "b3a944d8-3112-4552-82a0-be25988b3857",
      "metadata": {
        "id": "b3a944d8-3112-4552-82a0-be25988b3857"
      },
      "source": [
        "**Note**: if one does not want to upload the model checkpoints to the Hub,\n",
        "set `push_to_hub=False`."
      ]
    },
    {
      "attachments": {},
      "cell_type": "markdown",
      "id": "bac29114-d226-4f54-97cf-8718c9f94e1e",
      "metadata": {
        "id": "bac29114-d226-4f54-97cf-8718c9f94e1e"
      },
      "source": [
        "We can forward the training arguments to the 🤗 Trainer along with our model,\n",
        "dataset, data collator and `compute_metrics` function:"
      ]
    },
    {
      "cell_type": "code",
      "execution_count": null,
      "id": "d546d7fe-0543-479a-b708-2ebabec19493",
      "metadata": {
        "id": "d546d7fe-0543-479a-b708-2ebabec19493"
      },
      "outputs": [],
      "source": [
        "from transformers import Seq2SeqTrainer\n",
        "\n",
        "trainer = Seq2SeqTrainer(\n",
        "    args=training_args,\n",
        "    model=model,\n",
        "    train_dataset=raw_datasets[\"train\"],\n",
        "    eval_dataset=raw_datasets[\"test\"],\n",
        "    data_collator=data_collator,\n",
        "    compute_metrics=compute_metrics,\n",
        "    tokenizer=processor.feature_extractor,\n",
        ")"
      ]
    },
    {
      "attachments": {},
      "cell_type": "markdown",
      "id": "uOrRhDGtN5S4",
      "metadata": {
        "id": "uOrRhDGtN5S4"
      },
      "source": [
        "We'll save the processor object once before starting training. Since the processor is not trainable, it won't change over the course of training:"
      ]
    },
    {
      "cell_type": "code",
      "execution_count": null,
      "id": "-2zQwMfEOBJq",
      "metadata": {
        "id": "-2zQwMfEOBJq"
      },
      "outputs": [],
      "source": [
        "processor.save_pretrained(training_args.output_dir)"
      ]
    },
    {
      "attachments": {},
      "cell_type": "markdown",
      "id": "7f404cf9-4345-468c-8196-4bd101d9bd51",
      "metadata": {
        "id": "7f404cf9-4345-468c-8196-4bd101d9bd51"
      },
      "source": [
        "### Training"
      ]
    },
    {
      "attachments": {},
      "cell_type": "markdown",
      "id": "5e8b8d56-5a70-4f68-bd2e-f0752d0bd112",
      "metadata": {
        "id": "5e8b8d56-5a70-4f68-bd2e-f0752d0bd112"
      },
      "source": [
        "Training will take approximately 5-10 hours depending on your GPU. The peak GPU memory for the given training configuration is approximately 36GB.\n",
        "Depending on your GPU, it is possible that you will encounter a CUDA `\"out-of-memory\"` error when you launch training.\n",
        "In this case, you can reduce the `per_device_train_batch_size` incrementally by factors of 2\n",
        "and employ [`gradient_accumulation_steps`](https://huggingface.co/docs/transformers/main_classes/trainer#transformers.Seq2SeqTrainingArguments.gradient_accumulation_steps)\n",
        "to compensate.\n",
        "\n",
        "To launch training, simply execute:"
      ]
    },
    {
      "cell_type": "code",
      "execution_count": null,
      "id": "ee8b7b8e-1c9a-4d77-9137-1778a629e6de",
      "metadata": {
        "id": "ee8b7b8e-1c9a-4d77-9137-1778a629e6de"
      },
      "outputs": [
        {
          "name": "stderr",
          "output_type": "stream",
          "text": [
            "/home/zeus/miniconda3/envs/cloudspace/lib/python3.10/site-packages/torch/utils/checkpoint.py:429: UserWarning: torch.utils.checkpoint: please pass in use_reentrant=True or use_reentrant=False explicitly. The default value of use_reentrant will be updated to be False in the future. To maintain current behavior, pass use_reentrant=True. It is recommended that you use use_reentrant=False. Refer to docs for more details on the differences between the two variants.\n",
            "  warnings.warn(\n"
          ]
        },
        {
          "data": {
            "text/html": [
              "\n",
              "    <div>\n",
              "      \n",
              "      <progress value='13' max='750' style='width:300px; height:20px; vertical-align: middle;'></progress>\n",
              "      [ 13/750 00:19 < 22:01, 0.56 it/s, Epoch 0.05/3]\n",
              "    </div>\n",
              "    <table border=\"1\" class=\"dataframe\">\n",
              "  <thead>\n",
              " <tr style=\"text-align: left;\">\n",
              "      <th>Step</th>\n",
              "      <th>Training Loss</th>\n",
              "      <th>Validation Loss</th>\n",
              "    </tr>\n",
              "  </thead>\n",
              "  <tbody>\n",
              "  </tbody>\n",
              "</table><p>"
            ],
            "text/plain": [
              "<IPython.core.display.HTML object>"
            ]
          },
          "metadata": {},
          "output_type": "display_data"
        },
        {
          "ename": "KeyboardInterrupt",
          "evalue": "",
          "output_type": "error",
          "traceback": [
            "\u001b[0;31m---------------------------------------------------------------------------\u001b[0m",
            "\u001b[0;31mKeyboardInterrupt\u001b[0m                         Traceback (most recent call last)",
            "Cell \u001b[0;32mIn[65], line 1\u001b[0m\n\u001b[0;32m----> 1\u001b[0m trainer\u001b[39m.\u001b[39;49mtrain()\n",
            "File \u001b[0;32m/home/zeus/miniconda3/envs/cloudspace/lib/python3.10/site-packages/transformers/trainer.py:1537\u001b[0m, in \u001b[0;36mTrainer.train\u001b[0;34m(self, resume_from_checkpoint, trial, ignore_keys_for_eval, **kwargs)\u001b[0m\n\u001b[1;32m   1535\u001b[0m         hf_hub_utils\u001b[39m.\u001b[39menable_progress_bars()\n\u001b[1;32m   1536\u001b[0m \u001b[39melse\u001b[39;00m:\n\u001b[0;32m-> 1537\u001b[0m     \u001b[39mreturn\u001b[39;00m inner_training_loop(\n\u001b[1;32m   1538\u001b[0m         args\u001b[39m=\u001b[39;49margs,\n\u001b[1;32m   1539\u001b[0m         resume_from_checkpoint\u001b[39m=\u001b[39;49mresume_from_checkpoint,\n\u001b[1;32m   1540\u001b[0m         trial\u001b[39m=\u001b[39;49mtrial,\n\u001b[1;32m   1541\u001b[0m         ignore_keys_for_eval\u001b[39m=\u001b[39;49mignore_keys_for_eval,\n\u001b[1;32m   1542\u001b[0m     )\n",
            "File \u001b[0;32m/home/zeus/miniconda3/envs/cloudspace/lib/python3.10/site-packages/transformers/trainer.py:1854\u001b[0m, in \u001b[0;36mTrainer._inner_training_loop\u001b[0;34m(self, batch_size, args, resume_from_checkpoint, trial, ignore_keys_for_eval)\u001b[0m\n\u001b[1;32m   1851\u001b[0m     \u001b[39mself\u001b[39m\u001b[39m.\u001b[39mcontrol \u001b[39m=\u001b[39m \u001b[39mself\u001b[39m\u001b[39m.\u001b[39mcallback_handler\u001b[39m.\u001b[39mon_step_begin(args, \u001b[39mself\u001b[39m\u001b[39m.\u001b[39mstate, \u001b[39mself\u001b[39m\u001b[39m.\u001b[39mcontrol)\n\u001b[1;32m   1853\u001b[0m \u001b[39mwith\u001b[39;00m \u001b[39mself\u001b[39m\u001b[39m.\u001b[39maccelerator\u001b[39m.\u001b[39maccumulate(model):\n\u001b[0;32m-> 1854\u001b[0m     tr_loss_step \u001b[39m=\u001b[39m \u001b[39mself\u001b[39;49m\u001b[39m.\u001b[39;49mtraining_step(model, inputs)\n\u001b[1;32m   1856\u001b[0m \u001b[39mif\u001b[39;00m (\n\u001b[1;32m   1857\u001b[0m     args\u001b[39m.\u001b[39mlogging_nan_inf_filter\n\u001b[1;32m   1858\u001b[0m     \u001b[39mand\u001b[39;00m \u001b[39mnot\u001b[39;00m is_torch_tpu_available()\n\u001b[1;32m   1859\u001b[0m     \u001b[39mand\u001b[39;00m (torch\u001b[39m.\u001b[39misnan(tr_loss_step) \u001b[39mor\u001b[39;00m torch\u001b[39m.\u001b[39misinf(tr_loss_step))\n\u001b[1;32m   1860\u001b[0m ):\n\u001b[1;32m   1861\u001b[0m     \u001b[39m# if loss is nan or inf simply add the average of previous logged losses\u001b[39;00m\n\u001b[1;32m   1862\u001b[0m     tr_loss \u001b[39m+\u001b[39m\u001b[39m=\u001b[39m tr_loss \u001b[39m/\u001b[39m (\u001b[39m1\u001b[39m \u001b[39m+\u001b[39m \u001b[39mself\u001b[39m\u001b[39m.\u001b[39mstate\u001b[39m.\u001b[39mglobal_step \u001b[39m-\u001b[39m \u001b[39mself\u001b[39m\u001b[39m.\u001b[39m_globalstep_last_logged)\n",
            "File \u001b[0;32m/home/zeus/miniconda3/envs/cloudspace/lib/python3.10/site-packages/transformers/trainer.py:2737\u001b[0m, in \u001b[0;36mTrainer.training_step\u001b[0;34m(self, model, inputs)\u001b[0m\n\u001b[1;32m   2735\u001b[0m         scaled_loss\u001b[39m.\u001b[39mbackward()\n\u001b[1;32m   2736\u001b[0m \u001b[39melse\u001b[39;00m:\n\u001b[0;32m-> 2737\u001b[0m     \u001b[39mself\u001b[39;49m\u001b[39m.\u001b[39;49maccelerator\u001b[39m.\u001b[39;49mbackward(loss)\n\u001b[1;32m   2739\u001b[0m \u001b[39mreturn\u001b[39;00m loss\u001b[39m.\u001b[39mdetach() \u001b[39m/\u001b[39m \u001b[39mself\u001b[39m\u001b[39m.\u001b[39margs\u001b[39m.\u001b[39mgradient_accumulation_steps\n",
            "File \u001b[0;32m/home/zeus/miniconda3/envs/cloudspace/lib/python3.10/site-packages/accelerate/accelerator.py:1903\u001b[0m, in \u001b[0;36mAccelerator.backward\u001b[0;34m(self, loss, **kwargs)\u001b[0m\n\u001b[1;32m   1901\u001b[0m     \u001b[39mreturn\u001b[39;00m\n\u001b[1;32m   1902\u001b[0m \u001b[39melif\u001b[39;00m \u001b[39mself\u001b[39m\u001b[39m.\u001b[39mscaler \u001b[39mis\u001b[39;00m \u001b[39mnot\u001b[39;00m \u001b[39mNone\u001b[39;00m:\n\u001b[0;32m-> 1903\u001b[0m     \u001b[39mself\u001b[39;49m\u001b[39m.\u001b[39;49mscaler\u001b[39m.\u001b[39;49mscale(loss)\u001b[39m.\u001b[39;49mbackward(\u001b[39m*\u001b[39;49m\u001b[39m*\u001b[39;49mkwargs)\n\u001b[1;32m   1904\u001b[0m \u001b[39melse\u001b[39;00m:\n\u001b[1;32m   1905\u001b[0m     loss\u001b[39m.\u001b[39mbackward(\u001b[39m*\u001b[39m\u001b[39m*\u001b[39mkwargs)\n",
            "File \u001b[0;32m/home/zeus/miniconda3/envs/cloudspace/lib/python3.10/site-packages/torch/_tensor.py:492\u001b[0m, in \u001b[0;36mTensor.backward\u001b[0;34m(self, gradient, retain_graph, create_graph, inputs)\u001b[0m\n\u001b[1;32m    482\u001b[0m \u001b[39mif\u001b[39;00m has_torch_function_unary(\u001b[39mself\u001b[39m):\n\u001b[1;32m    483\u001b[0m     \u001b[39mreturn\u001b[39;00m handle_torch_function(\n\u001b[1;32m    484\u001b[0m         Tensor\u001b[39m.\u001b[39mbackward,\n\u001b[1;32m    485\u001b[0m         (\u001b[39mself\u001b[39m,),\n\u001b[0;32m   (...)\u001b[0m\n\u001b[1;32m    490\u001b[0m         inputs\u001b[39m=\u001b[39minputs,\n\u001b[1;32m    491\u001b[0m     )\n\u001b[0;32m--> 492\u001b[0m torch\u001b[39m.\u001b[39;49mautograd\u001b[39m.\u001b[39;49mbackward(\n\u001b[1;32m    493\u001b[0m     \u001b[39mself\u001b[39;49m, gradient, retain_graph, create_graph, inputs\u001b[39m=\u001b[39;49minputs\n\u001b[1;32m    494\u001b[0m )\n",
            "File \u001b[0;32m/home/zeus/miniconda3/envs/cloudspace/lib/python3.10/site-packages/torch/autograd/__init__.py:251\u001b[0m, in \u001b[0;36mbackward\u001b[0;34m(tensors, grad_tensors, retain_graph, create_graph, grad_variables, inputs)\u001b[0m\n\u001b[1;32m    246\u001b[0m     retain_graph \u001b[39m=\u001b[39m create_graph\n\u001b[1;32m    248\u001b[0m \u001b[39m# The reason we repeat the same comment below is that\u001b[39;00m\n\u001b[1;32m    249\u001b[0m \u001b[39m# some Python versions print out the first line of a multi-line function\u001b[39;00m\n\u001b[1;32m    250\u001b[0m \u001b[39m# calls in the traceback and some print out the last line\u001b[39;00m\n\u001b[0;32m--> 251\u001b[0m Variable\u001b[39m.\u001b[39;49m_execution_engine\u001b[39m.\u001b[39;49mrun_backward(  \u001b[39m# Calls into the C++ engine to run the backward pass\u001b[39;49;00m\n\u001b[1;32m    252\u001b[0m     tensors,\n\u001b[1;32m    253\u001b[0m     grad_tensors_,\n\u001b[1;32m    254\u001b[0m     retain_graph,\n\u001b[1;32m    255\u001b[0m     create_graph,\n\u001b[1;32m    256\u001b[0m     inputs,\n\u001b[1;32m    257\u001b[0m     allow_unreachable\u001b[39m=\u001b[39;49m\u001b[39mTrue\u001b[39;49;00m,\n\u001b[1;32m    258\u001b[0m     accumulate_grad\u001b[39m=\u001b[39;49m\u001b[39mTrue\u001b[39;49;00m,\n\u001b[1;32m    259\u001b[0m )\n",
            "\u001b[0;31mKeyboardInterrupt\u001b[0m: "
          ]
        }
      ],
      "source": [
        "trainer.train()"
      ]
    },
    {
      "attachments": {},
      "cell_type": "markdown",
      "id": "810ced54-7187-4a06-b2fe-ba6dcca94dc3",
      "metadata": {
        "id": "810ced54-7187-4a06-b2fe-ba6dcca94dc3"
      },
      "source": [
        "We can label our checkpoint with the `whisper-event` tag on push by setting the appropriate key-word arguments (kwargs):"
      ]
    },
    {
      "cell_type": "code",
      "execution_count": null,
      "id": "c704f91e-241b-48c9-b8e0-f0da396a9663",
      "metadata": {
        "id": "c704f91e-241b-48c9-b8e0-f0da396a9663"
      },
      "outputs": [],
      "source": [
        "kwargs = {\n",
        "    \"dataset_tags\": \"mozilla-foundation/raw_datasets_11_0\",\n",
        "    \"dataset\": \"Kan_dataset\",\n",
        "    \"language\": \"he\",\n",
        "    \"model_name\": \"Whisper Small HE  # a 'pretty' name for your model\n",
        "    \"finetuned_from\": \"openai/whisper-small\",\n",
        "    \"tasks\": \"automatic-speech-recognition\",\n",
        "    \"tags\": \"whisper-event\",\n",
        "}"
      ]
    },
    {
      "attachments": {},
      "cell_type": "markdown",
      "id": "090d676a-f944-4297-a938-a40eda0b2b68",
      "metadata": {
        "id": "090d676a-f944-4297-a938-a40eda0b2b68"
      },
      "source": [
        "The training results can now be uploaded to the Hub. To do so, execute the `push_to_hub` command and save the preprocessor object we created:"
      ]
    },
    {
      "cell_type": "code",
      "execution_count": null,
      "id": "d7030622-caf7-4039-939b-6195cdaa2585",
      "metadata": {
        "id": "d7030622-caf7-4039-939b-6195cdaa2585"
      },
      "outputs": [
        {
          "ename": "ValueError",
          "evalue": "Token is required (write-access action) but no token found. You need to provide a token or be logged in to Hugging Face with `huggingface-cli login` or `huggingface_hub.login`. See https://huggingface.co/settings/tokens.",
          "output_type": "error",
          "traceback": [
            "\u001b[0;31m---------------------------------------------------------------------------\u001b[0m",
            "\u001b[0;31mValueError\u001b[0m                                Traceback (most recent call last)",
            "Cell \u001b[0;32mIn[28], line 1\u001b[0m\n\u001b[0;32m----> 1\u001b[0m trainer\u001b[39m.\u001b[39;49mpush_to_hub(\u001b[39m*\u001b[39;49m\u001b[39m*\u001b[39;49mkwargs)\n",
            "File \u001b[0;32m/home/zeus/miniconda3/envs/cloudspace/lib/python3.10/site-packages/transformers/trainer.py:3635\u001b[0m, in \u001b[0;36mTrainer.push_to_hub\u001b[0;34m(self, commit_message, blocking, **kwargs)\u001b[0m\n\u001b[1;32m   3633\u001b[0m \u001b[39m# In case the user calls this method with args.push_to_hub = False\u001b[39;00m\n\u001b[1;32m   3634\u001b[0m \u001b[39mif\u001b[39;00m \u001b[39mself\u001b[39m\u001b[39m.\u001b[39mhub_model_id \u001b[39mis\u001b[39;00m \u001b[39mNone\u001b[39;00m:\n\u001b[0;32m-> 3635\u001b[0m     \u001b[39mself\u001b[39;49m\u001b[39m.\u001b[39;49minit_hf_repo()\n\u001b[1;32m   3637\u001b[0m \u001b[39m# Needs to be executed on all processes for TPU training, but will only save on the processed determined by\u001b[39;00m\n\u001b[1;32m   3638\u001b[0m \u001b[39m# self.args.should_save.\u001b[39;00m\n\u001b[1;32m   3639\u001b[0m \u001b[39mself\u001b[39m\u001b[39m.\u001b[39msave_model(_internal_call\u001b[39m=\u001b[39m\u001b[39mTrue\u001b[39;00m)\n",
            "File \u001b[0;32m/home/zeus/miniconda3/envs/cloudspace/lib/python3.10/site-packages/transformers/trainer.py:3477\u001b[0m, in \u001b[0;36mTrainer.init_hf_repo\u001b[0;34m(self)\u001b[0m\n\u001b[1;32m   3474\u001b[0m \u001b[39melse\u001b[39;00m:\n\u001b[1;32m   3475\u001b[0m     repo_name \u001b[39m=\u001b[39m \u001b[39mself\u001b[39m\u001b[39m.\u001b[39margs\u001b[39m.\u001b[39mhub_model_id\n\u001b[0;32m-> 3477\u001b[0m repo_url \u001b[39m=\u001b[39m create_repo(repo_name, token\u001b[39m=\u001b[39;49m\u001b[39mself\u001b[39;49m\u001b[39m.\u001b[39;49margs\u001b[39m.\u001b[39;49mhub_token, private\u001b[39m=\u001b[39;49m\u001b[39mself\u001b[39;49m\u001b[39m.\u001b[39;49margs\u001b[39m.\u001b[39;49mhub_private_repo, exist_ok\u001b[39m=\u001b[39;49m\u001b[39mTrue\u001b[39;49;00m)\n\u001b[1;32m   3478\u001b[0m \u001b[39mself\u001b[39m\u001b[39m.\u001b[39mhub_model_id \u001b[39m=\u001b[39m repo_url\u001b[39m.\u001b[39mrepo_id\n\u001b[1;32m   3479\u001b[0m \u001b[39mself\u001b[39m\u001b[39m.\u001b[39mpush_in_progress \u001b[39m=\u001b[39m \u001b[39mNone\u001b[39;00m\n",
            "File \u001b[0;32m/home/zeus/miniconda3/envs/cloudspace/lib/python3.10/site-packages/huggingface_hub/utils/_validators.py:118\u001b[0m, in \u001b[0;36mvalidate_hf_hub_args.<locals>._inner_fn\u001b[0;34m(*args, **kwargs)\u001b[0m\n\u001b[1;32m    115\u001b[0m \u001b[39mif\u001b[39;00m check_use_auth_token:\n\u001b[1;32m    116\u001b[0m     kwargs \u001b[39m=\u001b[39m smoothly_deprecate_use_auth_token(fn_name\u001b[39m=\u001b[39mfn\u001b[39m.\u001b[39m\u001b[39m__name__\u001b[39m, has_token\u001b[39m=\u001b[39mhas_token, kwargs\u001b[39m=\u001b[39mkwargs)\n\u001b[0;32m--> 118\u001b[0m \u001b[39mreturn\u001b[39;00m fn(\u001b[39m*\u001b[39;49margs, \u001b[39m*\u001b[39;49m\u001b[39m*\u001b[39;49mkwargs)\n",
            "File \u001b[0;32m/home/zeus/miniconda3/envs/cloudspace/lib/python3.10/site-packages/huggingface_hub/hf_api.py:3162\u001b[0m, in \u001b[0;36mHfApi.create_repo\u001b[0;34m(self, repo_id, token, private, repo_type, exist_ok, space_sdk, space_hardware, space_storage, space_sleep_time, space_secrets, space_variables)\u001b[0m\n\u001b[1;32m   3158\u001b[0m \u001b[39mif\u001b[39;00m \u001b[39mgetattr\u001b[39m(\u001b[39mself\u001b[39m, \u001b[39m\"\u001b[39m\u001b[39m_lfsmultipartthresh\u001b[39m\u001b[39m\"\u001b[39m, \u001b[39mNone\u001b[39;00m):\n\u001b[1;32m   3159\u001b[0m     \u001b[39m# Testing purposes only.\u001b[39;00m\n\u001b[1;32m   3160\u001b[0m     \u001b[39m# See https://github.com/huggingface/huggingface_hub/pull/733/files#r820604472\u001b[39;00m\n\u001b[1;32m   3161\u001b[0m     json[\u001b[39m\"\u001b[39m\u001b[39mlfsmultipartthresh\u001b[39m\u001b[39m\"\u001b[39m] \u001b[39m=\u001b[39m \u001b[39mself\u001b[39m\u001b[39m.\u001b[39m_lfsmultipartthresh  \u001b[39m# type: ignore\u001b[39;00m\n\u001b[0;32m-> 3162\u001b[0m headers \u001b[39m=\u001b[39m \u001b[39mself\u001b[39;49m\u001b[39m.\u001b[39;49m_build_hf_headers(token\u001b[39m=\u001b[39;49mtoken, is_write_action\u001b[39m=\u001b[39;49m\u001b[39mTrue\u001b[39;49;00m)\n\u001b[1;32m   3164\u001b[0m \u001b[39mwhile\u001b[39;00m \u001b[39mTrue\u001b[39;00m:\n\u001b[1;32m   3165\u001b[0m     r \u001b[39m=\u001b[39m get_session()\u001b[39m.\u001b[39mpost(path, headers\u001b[39m=\u001b[39mheaders, json\u001b[39m=\u001b[39mjson)\n",
            "File \u001b[0;32m/home/zeus/miniconda3/envs/cloudspace/lib/python3.10/site-packages/huggingface_hub/hf_api.py:8191\u001b[0m, in \u001b[0;36mHfApi._build_hf_headers\u001b[0;34m(self, token, is_write_action, library_name, library_version, user_agent)\u001b[0m\n\u001b[1;32m   8188\u001b[0m \u001b[39mif\u001b[39;00m token \u001b[39mis\u001b[39;00m \u001b[39mNone\u001b[39;00m:\n\u001b[1;32m   8189\u001b[0m     \u001b[39m# Cannot do `token = token or self.token` as token can be `False`.\u001b[39;00m\n\u001b[1;32m   8190\u001b[0m     token \u001b[39m=\u001b[39m \u001b[39mself\u001b[39m\u001b[39m.\u001b[39mtoken\n\u001b[0;32m-> 8191\u001b[0m \u001b[39mreturn\u001b[39;00m build_hf_headers(\n\u001b[1;32m   8192\u001b[0m     token\u001b[39m=\u001b[39;49mtoken,\n\u001b[1;32m   8193\u001b[0m     is_write_action\u001b[39m=\u001b[39;49mis_write_action,\n\u001b[1;32m   8194\u001b[0m     library_name\u001b[39m=\u001b[39;49mlibrary_name \u001b[39mor\u001b[39;49;00m \u001b[39mself\u001b[39;49m\u001b[39m.\u001b[39;49mlibrary_name,\n\u001b[1;32m   8195\u001b[0m     library_version\u001b[39m=\u001b[39;49mlibrary_version \u001b[39mor\u001b[39;49;00m \u001b[39mself\u001b[39;49m\u001b[39m.\u001b[39;49mlibrary_version,\n\u001b[1;32m   8196\u001b[0m     user_agent\u001b[39m=\u001b[39;49muser_agent \u001b[39mor\u001b[39;49;00m \u001b[39mself\u001b[39;49m\u001b[39m.\u001b[39;49muser_agent,\n\u001b[1;32m   8197\u001b[0m )\n",
            "File \u001b[0;32m/home/zeus/miniconda3/envs/cloudspace/lib/python3.10/site-packages/huggingface_hub/utils/_validators.py:118\u001b[0m, in \u001b[0;36mvalidate_hf_hub_args.<locals>._inner_fn\u001b[0;34m(*args, **kwargs)\u001b[0m\n\u001b[1;32m    115\u001b[0m \u001b[39mif\u001b[39;00m check_use_auth_token:\n\u001b[1;32m    116\u001b[0m     kwargs \u001b[39m=\u001b[39m smoothly_deprecate_use_auth_token(fn_name\u001b[39m=\u001b[39mfn\u001b[39m.\u001b[39m\u001b[39m__name__\u001b[39m, has_token\u001b[39m=\u001b[39mhas_token, kwargs\u001b[39m=\u001b[39mkwargs)\n\u001b[0;32m--> 118\u001b[0m \u001b[39mreturn\u001b[39;00m fn(\u001b[39m*\u001b[39;49margs, \u001b[39m*\u001b[39;49m\u001b[39m*\u001b[39;49mkwargs)\n",
            "File \u001b[0;32m/home/zeus/miniconda3/envs/cloudspace/lib/python3.10/site-packages/huggingface_hub/utils/_headers.py:122\u001b[0m, in \u001b[0;36mbuild_hf_headers\u001b[0;34m(token, is_write_action, library_name, library_version, user_agent)\u001b[0m\n\u001b[1;32m    120\u001b[0m \u001b[39m# Get auth token to send\u001b[39;00m\n\u001b[1;32m    121\u001b[0m token_to_send \u001b[39m=\u001b[39m get_token_to_send(token)\n\u001b[0;32m--> 122\u001b[0m _validate_token_to_send(token_to_send, is_write_action\u001b[39m=\u001b[39;49mis_write_action)\n\u001b[1;32m    124\u001b[0m \u001b[39m# Combine headers\u001b[39;00m\n\u001b[1;32m    125\u001b[0m headers \u001b[39m=\u001b[39m {\n\u001b[1;32m    126\u001b[0m     \u001b[39m\"\u001b[39m\u001b[39muser-agent\u001b[39m\u001b[39m\"\u001b[39m: _http_user_agent(\n\u001b[1;32m    127\u001b[0m         library_name\u001b[39m=\u001b[39mlibrary_name,\n\u001b[0;32m   (...)\u001b[0m\n\u001b[1;32m    130\u001b[0m     )\n\u001b[1;32m    131\u001b[0m }\n",
            "File \u001b[0;32m/home/zeus/miniconda3/envs/cloudspace/lib/python3.10/site-packages/huggingface_hub/utils/_headers.py:172\u001b[0m, in \u001b[0;36m_validate_token_to_send\u001b[0;34m(token, is_write_action)\u001b[0m\n\u001b[1;32m    170\u001b[0m \u001b[39mif\u001b[39;00m is_write_action:\n\u001b[1;32m    171\u001b[0m     \u001b[39mif\u001b[39;00m token \u001b[39mis\u001b[39;00m \u001b[39mNone\u001b[39;00m:\n\u001b[0;32m--> 172\u001b[0m         \u001b[39mraise\u001b[39;00m \u001b[39mValueError\u001b[39;00m(\n\u001b[1;32m    173\u001b[0m             \u001b[39m\"\u001b[39m\u001b[39mToken is required (write-access action) but no token found. You need\u001b[39m\u001b[39m\"\u001b[39m\n\u001b[1;32m    174\u001b[0m             \u001b[39m\"\u001b[39m\u001b[39m to provide a token or be logged in to Hugging Face with\u001b[39m\u001b[39m\"\u001b[39m\n\u001b[1;32m    175\u001b[0m             \u001b[39m\"\u001b[39m\u001b[39m `huggingface-cli login` or `huggingface_hub.login`. See\u001b[39m\u001b[39m\"\u001b[39m\n\u001b[1;32m    176\u001b[0m             \u001b[39m\"\u001b[39m\u001b[39m https://huggingface.co/settings/tokens.\u001b[39m\u001b[39m\"\u001b[39m\n\u001b[1;32m    177\u001b[0m         )\n\u001b[1;32m    178\u001b[0m     \u001b[39mif\u001b[39;00m token\u001b[39m.\u001b[39mstartswith(\u001b[39m\"\u001b[39m\u001b[39mapi_org\u001b[39m\u001b[39m\"\u001b[39m):\n\u001b[1;32m    179\u001b[0m         \u001b[39mraise\u001b[39;00m \u001b[39mValueError\u001b[39;00m(\n\u001b[1;32m    180\u001b[0m             \u001b[39m\"\u001b[39m\u001b[39mYou must use your personal account token for write-access methods. To\u001b[39m\u001b[39m\"\u001b[39m\n\u001b[1;32m    181\u001b[0m             \u001b[39m\"\u001b[39m\u001b[39m generate a write-access token, go to\u001b[39m\u001b[39m\"\u001b[39m\n\u001b[1;32m    182\u001b[0m             \u001b[39m\"\u001b[39m\u001b[39m https://huggingface.co/settings/tokens\u001b[39m\u001b[39m\"\u001b[39m\n\u001b[1;32m    183\u001b[0m         )\n",
            "\u001b[0;31mValueError\u001b[0m: Token is required (write-access action) but no token found. You need to provide a token or be logged in to Hugging Face with `huggingface-cli login` or `huggingface_hub.login`. See https://huggingface.co/settings/tokens."
          ]
        }
      ],
      "source": [
        "# trainer.push_to_hub(**kwargs)"
      ]
    },
    {
      "cell_type": "code",
      "execution_count": null,
      "id": "0828d091",
      "metadata": {},
      "outputs": [],
      "source": [
        "trainer.save_model(training_args.output_dir)"
      ]
    },
    {
      "cell_type": "code",
      "execution_count": null,
      "id": "2106b71e",
      "metadata": {},
      "outputs": [],
      "source": [
        "eval_results = trainer.evaluate()\n",
        "\n",
        "print(eval_results)"
      ]
    },
    {
      "cell_type": "code",
      "execution_count": null,
      "id": "4e35a871",
      "metadata": {},
      "outputs": [],
      "source": [
        "#Show some exmaples of evaluation set audio, and inference transcription\n",
        "import torch\n",
        "import numpy as np\n",
        "from IPython.display import Audio\n",
        "\n",
        "def get_audio_array(audio):\n",
        "    audio_array = np.array(audio['array'])\n",
        "    audio_rate = audio['sampling_rate']\n",
        "    return audio_array, audio_rate\n",
        "\n",
        "def get_audio(audio):\n",
        "    audio_array, audio_rate = get_audio_array(audio)\n",
        "    return Audio(audio_array, rate = audio_rate)\n",
        "\n",
        "# get some examples from the evaluation set\n",
        "eval_dataset = raw_datasets[\"test\"]\n",
        "eval_dataset = eval_dataset.shuffle()\n",
        "eval_dataset = eval_dataset.select(range(3))\n",
        "\n",
        "# get the model's predictions on the evaluation set\n",
        "eval_preds = trainer.predict(eval_dataset)\n"
      ]
    },
    {
      "attachments": {},
      "cell_type": "markdown",
      "id": "ca743fbd-602c-48d4-ba8d-a2fe60af64ba",
      "metadata": {
        "id": "ca743fbd-602c-48d4-ba8d-a2fe60af64ba"
      },
      "source": [
        "## Closing Remarks"
      ]
    },
    {
      "attachments": {},
      "cell_type": "markdown",
      "id": "7f737783-2870-4e35-aa11-86a42d7d997a",
      "metadata": {
        "id": "7f737783-2870-4e35-aa11-86a42d7d997a"
      },
      "source": [
        "In this blog, we covered a step-by-step guide on fine-tuning Whisper for multilingual ASR\n",
        "using 🤗 Datasets, Transformers and the Hugging Face Hub. For more details on the Whisper model, the Common Voice dataset and the theory behind fine-tuning, refere to the accompanying [blog post](https://huggingface.co/blog/fine-tune-whisper). If you're interested in fine-tuning other\n",
        "Transformers models, both for English and multilingual ASR, be sure to check out the\n",
        "examples scripts at [examples/pytorch/speech-recognition](https://github.com/huggingface/transformers/tree/main/examples/pytorch/speech-recognition)."
      ]
    }
  ],
  "metadata": {
    "colab": {
      "provenance": [],
      "toc_visible": true
    },
    "kernelspec": {
      "display_name": "Python 3 (ipykernel)",
      "language": "python",
      "name": "python3"
    },
    "language_info": {
      "codemirror_mode": {
        "name": "ipython",
        "version": 3
      },
      "file_extension": ".py",
      "mimetype": "text/x-python",
      "name": "python",
      "nbconvert_exporter": "python",
      "pygments_lexer": "ipython3",
      "version": "3.10.10"
    },
    "widgets": {
      "application/vnd.jupyter.widget-state+json": {
        "0c6ef909fe15437d871adecbea14315a": {
          "model_module": "@jupyter-widgets/controls",
          "model_module_version": "1.5.0",
          "model_name": "DescriptionStyleModel",
          "state": {
            "_model_module": "@jupyter-widgets/controls",
            "_model_module_version": "1.5.0",
            "_model_name": "DescriptionStyleModel",
            "_view_count": null,
            "_view_module": "@jupyter-widgets/base",
            "_view_module_version": "1.2.0",
            "_view_name": "StyleView",
            "description_width": ""
          }
        },
        "1faa2cc7430c4819b3c67d4642e5ed37": {
          "model_module": "@jupyter-widgets/controls",
          "model_module_version": "1.5.0",
          "model_name": "ProgressStyleModel",
          "state": {
            "_model_module": "@jupyter-widgets/controls",
            "_model_module_version": "1.5.0",
            "_model_name": "ProgressStyleModel",
            "_view_count": null,
            "_view_module": "@jupyter-widgets/base",
            "_view_module_version": "1.2.0",
            "_view_name": "StyleView",
            "bar_color": null,
            "description_width": ""
          }
        },
        "3b6326fa66054f969c47d877fc748720": {
          "model_module": "@jupyter-widgets/base",
          "model_module_version": "1.2.0",
          "model_name": "LayoutModel",
          "state": {
            "_model_module": "@jupyter-widgets/base",
            "_model_module_version": "1.2.0",
            "_model_name": "LayoutModel",
            "_view_count": null,
            "_view_module": "@jupyter-widgets/base",
            "_view_module_version": "1.2.0",
            "_view_name": "LayoutView",
            "align_content": null,
            "align_items": null,
            "align_self": null,
            "border": null,
            "bottom": null,
            "display": null,
            "flex": null,
            "flex_flow": null,
            "grid_area": null,
            "grid_auto_columns": null,
            "grid_auto_flow": null,
            "grid_auto_rows": null,
            "grid_column": null,
            "grid_gap": null,
            "grid_row": null,
            "grid_template_areas": null,
            "grid_template_columns": null,
            "grid_template_rows": null,
            "height": null,
            "justify_content": null,
            "justify_items": null,
            "left": null,
            "margin": null,
            "max_height": null,
            "max_width": null,
            "min_height": null,
            "min_width": null,
            "object_fit": null,
            "object_position": null,
            "order": null,
            "overflow": null,
            "overflow_x": null,
            "overflow_y": null,
            "padding": null,
            "right": null,
            "top": null,
            "visibility": null,
            "width": null
          }
        },
        "468419d3ccfa494086981a4a82d6033a": {
          "model_module": "@jupyter-widgets/controls",
          "model_module_version": "1.5.0",
          "model_name": "HTMLModel",
          "state": {
            "_dom_classes": [],
            "_model_module": "@jupyter-widgets/controls",
            "_model_module_version": "1.5.0",
            "_model_name": "HTMLModel",
            "_view_count": null,
            "_view_module": "@jupyter-widgets/controls",
            "_view_module_version": "1.5.0",
            "_view_name": "HTMLView",
            "description": "",
            "description_tooltip": null,
            "layout": "IPY_MODEL_e200fecaccc64b24a9f6a2a145a5b915",
            "placeholder": "​",
            "style": "IPY_MODEL_0c6ef909fe15437d871adecbea14315a",
            "value": " 2.54k/2.54k [00:00&lt;00:00, 31.4kB/s]"
          }
        },
        "9166186d355343d1b993a82b4ee2a685": {
          "model_module": "@jupyter-widgets/controls",
          "model_module_version": "1.5.0",
          "model_name": "HBoxModel",
          "state": {
            "_dom_classes": [],
            "_model_module": "@jupyter-widgets/controls",
            "_model_module_version": "1.5.0",
            "_model_name": "HBoxModel",
            "_view_count": null,
            "_view_module": "@jupyter-widgets/controls",
            "_view_module_version": "1.5.0",
            "_view_name": "HBoxView",
            "box_style": "",
            "children": [
              "IPY_MODEL_ad56824961654ff09822160b12a4a027",
              "IPY_MODEL_b77b115840024f298535780007281b33",
              "IPY_MODEL_468419d3ccfa494086981a4a82d6033a"
            ],
            "layout": "IPY_MODEL_3b6326fa66054f969c47d877fc748720"
          }
        },
        "9a144408ebfd48dcb05625f3138e0433": {
          "model_module": "@jupyter-widgets/base",
          "model_module_version": "1.2.0",
          "model_name": "LayoutModel",
          "state": {
            "_model_module": "@jupyter-widgets/base",
            "_model_module_version": "1.2.0",
            "_model_name": "LayoutModel",
            "_view_count": null,
            "_view_module": "@jupyter-widgets/base",
            "_view_module_version": "1.2.0",
            "_view_name": "LayoutView",
            "align_content": null,
            "align_items": null,
            "align_self": null,
            "border": null,
            "bottom": null,
            "display": null,
            "flex": null,
            "flex_flow": null,
            "grid_area": null,
            "grid_auto_columns": null,
            "grid_auto_flow": null,
            "grid_auto_rows": null,
            "grid_column": null,
            "grid_gap": null,
            "grid_row": null,
            "grid_template_areas": null,
            "grid_template_columns": null,
            "grid_template_rows": null,
            "height": null,
            "justify_content": null,
            "justify_items": null,
            "left": null,
            "margin": null,
            "max_height": null,
            "max_width": null,
            "min_height": null,
            "min_width": null,
            "object_fit": null,
            "object_position": null,
            "order": null,
            "overflow": null,
            "overflow_x": null,
            "overflow_y": null,
            "padding": null,
            "right": null,
            "top": null,
            "visibility": null,
            "width": null
          }
        },
        "ad480193700545b48e46216888ce7a7a": {
          "model_module": "@jupyter-widgets/base",
          "model_module_version": "1.2.0",
          "model_name": "LayoutModel",
          "state": {
            "_model_module": "@jupyter-widgets/base",
            "_model_module_version": "1.2.0",
            "_model_name": "LayoutModel",
            "_view_count": null,
            "_view_module": "@jupyter-widgets/base",
            "_view_module_version": "1.2.0",
            "_view_name": "LayoutView",
            "align_content": null,
            "align_items": null,
            "align_self": null,
            "border": null,
            "bottom": null,
            "display": null,
            "flex": null,
            "flex_flow": null,
            "grid_area": null,
            "grid_auto_columns": null,
            "grid_auto_flow": null,
            "grid_auto_rows": null,
            "grid_column": null,
            "grid_gap": null,
            "grid_row": null,
            "grid_template_areas": null,
            "grid_template_columns": null,
            "grid_template_rows": null,
            "height": null,
            "justify_content": null,
            "justify_items": null,
            "left": null,
            "margin": null,
            "max_height": null,
            "max_width": null,
            "min_height": null,
            "min_width": null,
            "object_fit": null,
            "object_position": null,
            "order": null,
            "overflow": null,
            "overflow_x": null,
            "overflow_y": null,
            "padding": null,
            "right": null,
            "top": null,
            "visibility": null,
            "width": null
          }
        },
        "ad56824961654ff09822160b12a4a027": {
          "model_module": "@jupyter-widgets/controls",
          "model_module_version": "1.5.0",
          "model_name": "HTMLModel",
          "state": {
            "_dom_classes": [],
            "_model_module": "@jupyter-widgets/controls",
            "_model_module_version": "1.5.0",
            "_model_name": "HTMLModel",
            "_view_count": null,
            "_view_module": "@jupyter-widgets/controls",
            "_view_module_version": "1.5.0",
            "_view_name": "HTMLView",
            "description": "",
            "description_tooltip": null,
            "layout": "IPY_MODEL_9a144408ebfd48dcb05625f3138e0433",
            "placeholder": "​",
            "style": "IPY_MODEL_dc39a74c6ec640a2bf57de3c4f7cec0b",
            "value": "Downloading readme: 100%"
          }
        },
        "b77b115840024f298535780007281b33": {
          "model_module": "@jupyter-widgets/controls",
          "model_module_version": "1.5.0",
          "model_name": "FloatProgressModel",
          "state": {
            "_dom_classes": [],
            "_model_module": "@jupyter-widgets/controls",
            "_model_module_version": "1.5.0",
            "_model_name": "FloatProgressModel",
            "_view_count": null,
            "_view_module": "@jupyter-widgets/controls",
            "_view_module_version": "1.5.0",
            "_view_name": "ProgressView",
            "bar_style": "success",
            "description": "",
            "description_tooltip": null,
            "layout": "IPY_MODEL_ad480193700545b48e46216888ce7a7a",
            "max": 2540,
            "min": 0,
            "orientation": "horizontal",
            "style": "IPY_MODEL_1faa2cc7430c4819b3c67d4642e5ed37",
            "value": 2540
          }
        },
        "dc39a74c6ec640a2bf57de3c4f7cec0b": {
          "model_module": "@jupyter-widgets/controls",
          "model_module_version": "1.5.0",
          "model_name": "DescriptionStyleModel",
          "state": {
            "_model_module": "@jupyter-widgets/controls",
            "_model_module_version": "1.5.0",
            "_model_name": "DescriptionStyleModel",
            "_view_count": null,
            "_view_module": "@jupyter-widgets/base",
            "_view_module_version": "1.2.0",
            "_view_name": "StyleView",
            "description_width": ""
          }
        },
        "e200fecaccc64b24a9f6a2a145a5b915": {
          "model_module": "@jupyter-widgets/base",
          "model_module_version": "1.2.0",
          "model_name": "LayoutModel",
          "state": {
            "_model_module": "@jupyter-widgets/base",
            "_model_module_version": "1.2.0",
            "_model_name": "LayoutModel",
            "_view_count": null,
            "_view_module": "@jupyter-widgets/base",
            "_view_module_version": "1.2.0",
            "_view_name": "LayoutView",
            "align_content": null,
            "align_items": null,
            "align_self": null,
            "border": null,
            "bottom": null,
            "display": null,
            "flex": null,
            "flex_flow": null,
            "grid_area": null,
            "grid_auto_columns": null,
            "grid_auto_flow": null,
            "grid_auto_rows": null,
            "grid_column": null,
            "grid_gap": null,
            "grid_row": null,
            "grid_template_areas": null,
            "grid_template_columns": null,
            "grid_template_rows": null,
            "height": null,
            "justify_content": null,
            "justify_items": null,
            "left": null,
            "margin": null,
            "max_height": null,
            "max_width": null,
            "min_height": null,
            "min_width": null,
            "object_fit": null,
            "object_position": null,
            "order": null,
            "overflow": null,
            "overflow_x": null,
            "overflow_y": null,
            "padding": null,
            "right": null,
            "top": null,
            "visibility": null,
            "width": null
          }
        }
      }
    }
  },
  "nbformat": 4,
  "nbformat_minor": 5
}
