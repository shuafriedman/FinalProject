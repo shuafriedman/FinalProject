{
  "cells": [
    {
      "cell_type": "markdown",
      "id": "75b58048-7d14-4fc6-8085-1fc08c81b4a6",
      "metadata": {
        "id": "75b58048-7d14-4fc6-8085-1fc08c81b4a6"
      },
      "source": [
        "# Fine-Tune Whisper For Multilingual ASR with 🤗 Transformers"
      ]
    },
    {
      "cell_type": "markdown",
      "id": "fbfa8ad5-4cdc-4512-9058-836cbbf65e1a",
      "metadata": {
        "id": "fbfa8ad5-4cdc-4512-9058-836cbbf65e1a"
      },
      "source": [
        "In this Colab, we present a step-by-step guide on how to fine-tune Whisper\n",
        "for any multilingual ASR dataset using Hugging Face 🤗 Transformers. This is a\n",
        "more \"hands-on\" version of the accompanying [blog post](https://huggingface.co/blog/fine-tune-whisper).\n",
        "For a more in-depth explanation of Whisper, the Common Voice dataset and the theory behind fine-tuning, the reader is advised to refer to the blog post."
      ]
    },
    {
      "cell_type": "markdown",
      "id": "afe0d503-ae4e-4aa7-9af4-dbcba52db41e",
      "metadata": {
        "id": "afe0d503-ae4e-4aa7-9af4-dbcba52db41e"
      },
      "source": [
        "## Introduction"
      ]
    },
    {
      "cell_type": "markdown",
      "id": "9ae91ed4-9c3e-4ade-938e-f4c2dcfbfdc0",
      "metadata": {
        "id": "9ae91ed4-9c3e-4ade-938e-f4c2dcfbfdc0"
      },
      "source": [
        "Whisper is a pre-trained model for automatic speech recognition (ASR)\n",
        "published in [September 2022](https://openai.com/blog/whisper/) by the authors\n",
        "Alec Radford et al. from OpenAI. Unlike many of its predecessors, such as\n",
        "[Wav2Vec 2.0](https://arxiv.org/abs/2006.11477), which are pre-trained\n",
        "on un-labelled audio data, Whisper is pre-trained on a vast quantity of\n",
        "**labelled** audio-transcription data, 680,000 hours to be precise.\n",
        "This is an order of magnitude more data than the un-labelled audio data used\n",
        "to train Wav2Vec 2.0 (60,000 hours). What is more, 117,000 hours of this\n",
        "pre-training data is multilingual ASR data. This results in checkpoints\n",
        "that can be applied to over 96 languages, many of which are considered\n",
        "_low-resource_.\n",
        "\n",
        "When scaled to 680,000 hours of labelled pre-training data, Whisper models\n",
        "demonstrate a strong ability to generalise to many datasets and domains.\n",
        "The pre-trained checkpoints achieve competitive results to state-of-the-art\n",
        "ASR systems, with near 3% word error rate (WER) on the test-clean subset of\n",
        "LibriSpeech ASR and a new state-of-the-art on TED-LIUM with 4.7% WER (_c.f._\n",
        "Table 8 of the [Whisper paper](https://cdn.openai.com/papers/whisper.pdf)).\n",
        "The extensive multilingual ASR knowledge acquired by Whisper during pre-training\n",
        "can be leveraged for other low-resource languages; through fine-tuning, the\n",
        "pre-trained checkpoints can be adapted for specific datasets and languages\n",
        "to further improve upon these results. We'll show just how Whisper can be fine-tuned\n",
        "for low-resource languages in this Colab."
      ]
    },
    {
      "cell_type": "markdown",
      "id": "e59b91d6-be24-4b5e-bb38-4977ea143a72",
      "metadata": {
        "id": "e59b91d6-be24-4b5e-bb38-4977ea143a72"
      },
      "source": [
        "<figure>\n",
        "<img src=\"https://raw.githubusercontent.com/sanchit-gandhi/notebooks/main/whisper_architecture.svg\" alt=\"Trulli\" style=\"width:100%\">\n",
        "<figcaption align = \"center\"><b>Figure 1:</b> Whisper model. The architecture\n",
        "follows the standard Transformer-based encoder-decoder model. A\n",
        "log-Mel spectrogram is input to the encoder. The last encoder\n",
        "hidden states are input to the decoder via cross-attention mechanisms. The\n",
        "decoder autoregressively predicts text tokens, jointly conditional on the\n",
        "encoder hidden states and previously predicted tokens. Figure source:\n",
        "<a href=\"https://openai.com/blog/whisper/\">OpenAI Whisper Blog</a>.</figcaption>\n",
        "</figure>"
      ]
    },
    {
      "cell_type": "markdown",
      "id": "21b6316e-8a55-4549-a154-66d3da2ab74a",
      "metadata": {
        "id": "21b6316e-8a55-4549-a154-66d3da2ab74a"
      },
      "source": [
        "The Whisper checkpoints come in five configurations of varying model sizes.\n",
        "The smallest four are trained on either English-only or multilingual data.\n",
        "The largest checkpoint is multilingual only. All nine of the pre-trained checkpoints\n",
        "are available on the [Hugging Face Hub](https://huggingface.co/models?search=openai/whisper). The\n",
        "checkpoints are summarised in the following table with links to the models on the Hub:\n",
        "\n",
        "| Size   | Layers | Width | Heads | Parameters | English-only                                         | Multilingual                                      |\n",
        "|--------|--------|-------|-------|------------|------------------------------------------------------|---------------------------------------------------|\n",
        "| tiny   | 4      | 384   | 6     | 39 M       | [✓](https://huggingface.co/openai/whisper-tiny.en)   | [✓](https://huggingface.co/openai/whisper-tiny.)  |\n",
        "| base   | 6      | 512   | 8     | 74 M       | [✓](https://huggingface.co/openai/whisper-base.en)   | [✓](https://huggingface.co/openai/whisper-base)   |\n",
        "| small  | 12     | 768   | 12    | 244 M      | [✓](https://huggingface.co/openai/whisper-small.en)  | [✓](https://huggingface.co/openai/whisper-small)  |\n",
        "| medium | 24     | 1024  | 16    | 769 M      | [✓](https://huggingface.co/openai/whisper-medium.en) | [✓](https://huggingface.co/openai/whisper-medium) |\n",
        "| large  | 32     | 1280  | 20    | 1550 M     | x                                                    | [✓](https://huggingface.co/openai/whisper-large)  |\n",
        "\n",
        "For demonstration purposes, we'll fine-tune the multilingual version of the\n",
        "[`\"small\"`](https://huggingface.co/openai/whisper-small) checkpoint with 244M params (~= 1GB).\n",
        "As for our data, we'll train and evaluate our system on a low-resource language\n",
        "taken from the [Common Voice](https://huggingface.co/datasets/mozilla-foundation/raw_datasets_11_0)\n",
        "dataset. We'll show that with as little as 8 hours of fine-tuning data, we can achieve\n",
        "strong performance in this language."
      ]
    },
    {
      "cell_type": "markdown",
      "id": "3a680dfc-cbba-4f6c-8a1f-e1a5ff3f123a",
      "metadata": {
        "id": "3a680dfc-cbba-4f6c-8a1f-e1a5ff3f123a"
      },
      "source": [
        "------------------------------------------------------------------------\n",
        "\n",
        "\\\\({}^1\\\\) The name Whisper follows from the acronym “WSPSR”, which stands for “Web-scale Supervised Pre-training for Speech Recognition”."
      ]
    },
    {
      "cell_type": "markdown",
      "id": "b219c9dd-39b6-4a95-b2a1-3f547a1e7bc0",
      "metadata": {
        "id": "b219c9dd-39b6-4a95-b2a1-3f547a1e7bc0"
      },
      "source": [
        "## Load Dataset"
      ]
    },
    {
      "cell_type": "markdown",
      "id": "674429c5-0ab4-4adf-975b-621bb69eca38",
      "metadata": {
        "id": "674429c5-0ab4-4adf-975b-621bb69eca38"
      },
      "source": [
        "Using 🤗 Datasets, downloading and preparing data is extremely simple.\n",
        "We can download and prepare the Common Voice splits in just one line of code.\n",
        "\n",
        "First, ensure you have accepted the terms of use on the Hugging Face Hub: [mozilla-foundation/raw_datasets_11_0](https://huggingface.co/datasets/mozilla-foundation/raw_datasets_11_0). Once you have accepted the terms, you will have full access to the dataset and be able to download the data locally.\n",
        "\n",
        "Since Hindi is very low-resource, we'll combine the `train` and `validation`\n",
        "splits to give approximately 8 hours of training data. We'll use the 4 hours\n",
        "of `test` data as our held-out test set:"
      ]
    },
    {
      "cell_type": "code",
      "execution_count": 1,
      "id": "8lV_SS8Oyxwn",
      "metadata": {
        "colab": {
          "base_uri": "https://localhost:8080/"
        },
        "id": "8lV_SS8Oyxwn",
        "outputId": "1232872a-c148-4af9-a96d-b8cb42e09deb"
      },
      "outputs": [],
      "source": [
        "# !pip install transformers datasets accelerate evaluate jiwer librosa soundfile"
      ]
    },
    {
      "cell_type": "code",
      "execution_count": 2,
      "id": "bd6a3592",
      "metadata": {},
      "outputs": [
        {
          "data": {
            "text/plain": [
              "True"
            ]
          },
          "execution_count": 2,
          "metadata": {},
          "output_type": "execute_result"
        }
      ],
      "source": [
        "import os\n",
        "os.path.exists(\"datasets/kan_dataset\")"
      ]
    },
    {
      "cell_type": "code",
      "execution_count": 3,
      "id": "a2787582-554f-44ce-9f38-4180a5ed6b44",
      "metadata": {
        "colab": {
          "base_uri": "https://localhost:8080/",
          "height": 176,
          "referenced_widgets": [
            "9166186d355343d1b993a82b4ee2a685",
            "ad56824961654ff09822160b12a4a027",
            "b77b115840024f298535780007281b33",
            "468419d3ccfa494086981a4a82d6033a",
            "3b6326fa66054f969c47d877fc748720",
            "9a144408ebfd48dcb05625f3138e0433",
            "dc39a74c6ec640a2bf57de3c4f7cec0b",
            "ad480193700545b48e46216888ce7a7a",
            "1faa2cc7430c4819b3c67d4642e5ed37",
            "e200fecaccc64b24a9f6a2a145a5b915",
            "0c6ef909fe15437d871adecbea14315a"
          ]
        },
        "id": "a2787582-554f-44ce-9f38-4180a5ed6b44",
        "outputId": "fa84f177-5deb-420f-ee9d-c0db251b4121"
      },
      "outputs": [
        {
          "name": "stdout",
          "output_type": "stream",
          "text": [
            "loading local data\n",
            "IterableDatasetDict({\n",
            "    train: Dataset({\n",
            "        features: ['audio', 'sentence'],\n",
            "        num_rows: 8000\n",
            "    })\n",
            "    test: Dataset({\n",
            "        features: ['audio', 'sentence'],\n",
            "        num_rows: 2000\n",
            "    })\n",
            "})\n"
          ]
        }
      ],
      "source": [
        "from datasets import load_dataset, IterableDatasetDict, load_from_disk\n",
        "import os\n",
        "path = os.getcwd()\n",
        "dataset_path = \"datasets/kan_dataset\"\n",
        "raw_datasets = IterableDatasetDict()\n",
        "if os.path.exists(dataset_path)==False:\n",
        "    print('getting dataset from huggingface')\n",
        "    raw_datasets[\"train\"] = load_dataset(\"imvladikon/hebrew_speech_kan\", split=\"train\")  # set split=\"train+validation\" for low-resource\n",
        "    raw_datasets[\"test\"] = load_dataset(\"imvladikon/hebrew_speech_kan\", split=\"validation\") #no test for imvladikon hebrew\n",
        "    raw_datasets[\"train\"].save_to_disk(dataset_path + \"/train\")\n",
        "    raw_datasets[\"test\"].save_to_disk(dataset_path + \"/test\")\n",
        "else:\n",
        "    print(\"loading local data\")\n",
        "    raw_datasets[\"train\"] = load_from_disk(dataset_path + \"/train\")\n",
        "    raw_datasets[\"test\"] = load_from_disk(dataset_path + \"/test\")\n",
        "\n",
        "print(raw_datasets)"
      ]
    },
    {
      "cell_type": "code",
      "execution_count": 4,
      "id": "e507c8b1",
      "metadata": {},
      "outputs": [],
      "source": [
        "# only take 500 samples for training\n",
        "raw_datasets[\"train\"] = raw_datasets[\"train\"].shuffle().select(range(500))\n",
        "raw_datasets[\"test\"] = raw_datasets[\"test\"].shuffle().select(range(100))"
      ]
    },
    {
      "cell_type": "markdown",
      "id": "d5c7c3d6-7197-41e7-a088-49b753c1681f",
      "metadata": {
        "id": "d5c7c3d6-7197-41e7-a088-49b753c1681f"
      },
      "source": [
        "Most ASR datasets only provide input audio samples (`audio`) and the\n",
        "corresponding transcribed text (`sentence`). Common Voice contains additional\n",
        "metadata information, such as `accent` and `locale`, which we can disregard for ASR.\n",
        "Keeping the notebook as general as possible, we only consider the input audio and\n",
        "transcribed text for fine-tuning, discarding the additional metadata information:"
      ]
    },
    {
      "cell_type": "code",
      "execution_count": 6,
      "id": "20ba635d-518c-47ac-97ee-3cad25f1e0ce",
      "metadata": {
        "id": "20ba635d-518c-47ac-97ee-3cad25f1e0ce"
      },
      "outputs": [],
      "source": [
        "# raw_datasets = raw_datasets.remove_columns([\"accent\", \"age\", \"client_id\", \"down_votes\", \"gender\", \"locale\", \"path\", \"segment\", \"up_votes\"])\n",
        "\n",
        "# print(raw_datasets)"
      ]
    },
    {
      "cell_type": "markdown",
      "id": "2d63b2d2-f68a-4d74-b7f1-5127f6d16605",
      "metadata": {
        "id": "2d63b2d2-f68a-4d74-b7f1-5127f6d16605"
      },
      "source": [
        "## Prepare Feature Extractor, Tokenizer and Data"
      ]
    },
    {
      "cell_type": "markdown",
      "id": "601c3099-1026-439e-93e2-5635b3ba5a73",
      "metadata": {
        "id": "601c3099-1026-439e-93e2-5635b3ba5a73"
      },
      "source": [
        "The ASR pipeline can be de-composed into three stages:\n",
        "1) A feature extractor which pre-processes the raw audio-inputs\n",
        "2) The model which performs the sequence-to-sequence mapping\n",
        "3) A tokenizer which post-processes the model outputs to text format\n",
        "\n",
        "In 🤗 Transformers, the Whisper model has an associated feature extractor and tokenizer,\n",
        "called [WhisperFeatureExtractor](https://huggingface.co/docs/transformers/main/model_doc/whisper#transformers.WhisperFeatureExtractor)\n",
        "and [WhisperTokenizer](https://huggingface.co/docs/transformers/main/model_doc/whisper#transformers.WhisperTokenizer)\n",
        "respectively.\n",
        "\n",
        "We'll go through details for setting-up the feature extractor and tokenizer one-by-one!"
      ]
    },
    {
      "cell_type": "markdown",
      "id": "560332eb-3558-41a1-b500-e83a9f695f84",
      "metadata": {
        "id": "560332eb-3558-41a1-b500-e83a9f695f84"
      },
      "source": [
        "### Load WhisperFeatureExtractor"
      ]
    },
    {
      "cell_type": "markdown",
      "id": "32ec8068-0bd7-412d-b662-0edb9d1e7365",
      "metadata": {
        "id": "32ec8068-0bd7-412d-b662-0edb9d1e7365"
      },
      "source": [
        "The Whisper feature extractor performs two operations:\n",
        "1. Pads / truncates the audio inputs to 30s: any audio inputs shorter than 30s are padded to 30s with silence (zeros), and those longer that 30s are truncated to 30s\n",
        "2. Converts the audio inputs to _log-Mel spectrogram_ input features, a visual representation of the audio and the form of the input expected by the Whisper model"
      ]
    },
    {
      "cell_type": "markdown",
      "id": "589d9ec1-d12b-4b64-93f7-04c63997da19",
      "metadata": {
        "id": "589d9ec1-d12b-4b64-93f7-04c63997da19"
      },
      "source": [
        "<figure>\n",
        "<img src=\"https://raw.githubusercontent.com/sanchit-gandhi/notebooks/main/spectrogram.jpg\" alt=\"Trulli\" style=\"width:100%\">\n",
        "<figcaption align = \"center\"><b>Figure 2:</b> Conversion of sampled audio array to log-Mel spectrogram.\n",
        "Left: sampled 1-dimensional audio signal. Right: corresponding log-Mel spectrogram. Figure source:\n",
        "<a href=\"https://ai.googleblog.com/2019/04/specaugment-new-data-augmentation.html\">Google SpecAugment Blog</a>.\n",
        "</figcaption>"
      ]
    },
    {
      "cell_type": "markdown",
      "id": "b2ef54d5-b946-4c1d-9fdc-adc5d01b46aa",
      "metadata": {
        "id": "b2ef54d5-b946-4c1d-9fdc-adc5d01b46aa"
      },
      "source": [
        "We'll load the feature extractor from the pre-trained checkpoint with the default values:"
      ]
    },
    {
      "cell_type": "code",
      "execution_count": 7,
      "id": "bc77d7bb-f9e2-47f5-b663-30f7a4321ce5",
      "metadata": {
        "id": "bc77d7bb-f9e2-47f5-b663-30f7a4321ce5"
      },
      "outputs": [],
      "source": [
        "from transformers import WhisperFeatureExtractor\n",
        "\n",
        "feature_extractor = WhisperFeatureExtractor.from_pretrained(\"openai/whisper-small\")"
      ]
    },
    {
      "cell_type": "markdown",
      "id": "93748af7-b917-4ecf-a0c8-7d89077ff9cb",
      "metadata": {
        "id": "93748af7-b917-4ecf-a0c8-7d89077ff9cb"
      },
      "source": [
        "### Load WhisperTokenizer"
      ]
    },
    {
      "cell_type": "markdown",
      "id": "2bc82609-a9fb-447a-a2af-99597c864029",
      "metadata": {
        "id": "2bc82609-a9fb-447a-a2af-99597c864029"
      },
      "source": [
        "The Whisper model outputs a sequence of _token ids_. The tokenizer maps each of these token ids to their corresponding text string. For Hindi, we can load the pre-trained tokenizer and use it for fine-tuning without any further modifications. We simply have to\n",
        "specify the target language and the task. These arguments inform the\n",
        "tokenizer to prefix the language and task tokens to the start of encoded\n",
        "label sequences:"
      ]
    },
    {
      "cell_type": "code",
      "execution_count": 8,
      "id": "c7b07f9b-ae0e-4f89-98f0-0c50d432eab6",
      "metadata": {
        "colab": {
          "referenced_widgets": [
            "90d056e20b3e4f14ae0199a1a4ab1bb0",
            "d82a88daec0e4f14add691b7b903064c",
            "350acdb0f40e454099fa901e66de55f0",
            "2e6a82a462cc411d90fa1bea4ee60790",
            "c74bfee0198b4817832ea86e8e88d96c",
            "04fb2d81eff646068e10475a08ae42f4"
          ]
        },
        "id": "c7b07f9b-ae0e-4f89-98f0-0c50d432eab6",
        "outputId": "5c004b44-86e7-4e00-88be-39e0af5eed69"
      },
      "outputs": [],
      "source": [
        "from transformers import WhisperTokenizer\n",
        "\n",
        "tokenizer = WhisperTokenizer.from_pretrained(\"openai/whisper-small\", language=\"Hebrew\", task=\"transcribe\")"
      ]
    },
    {
      "cell_type": "markdown",
      "id": "d2ef23f3-f4a8-483a-a2dc-080a7496cb1b",
      "metadata": {
        "id": "d2ef23f3-f4a8-483a-a2dc-080a7496cb1b"
      },
      "source": [
        "### Combine To Create A WhisperProcessor"
      ]
    },
    {
      "cell_type": "markdown",
      "id": "5ff67654-5a29-4bb8-a69d-0228946c6f8d",
      "metadata": {
        "id": "5ff67654-5a29-4bb8-a69d-0228946c6f8d"
      },
      "source": [
        "To simplify using the feature extractor and tokenizer, we can _wrap_\n",
        "both into a single `WhisperProcessor` class. This processor object\n",
        "inherits from the `WhisperFeatureExtractor` and `WhisperProcessor`,\n",
        "and can be used on the audio inputs and model predictions as required.\n",
        "In doing so, we only need to keep track of two objects during training:\n",
        "the `processor` and the `model`:"
      ]
    },
    {
      "cell_type": "code",
      "execution_count": 9,
      "id": "77d9f0c5-8607-4642-a8ac-c3ab2e223ea6",
      "metadata": {
        "id": "77d9f0c5-8607-4642-a8ac-c3ab2e223ea6"
      },
      "outputs": [],
      "source": [
        "from transformers import WhisperProcessor\n",
        "\n",
        "processor = WhisperProcessor.from_pretrained(\"openai/whisper-small\", language=\"Hebrew\", task=\"transcribe\")"
      ]
    },
    {
      "cell_type": "markdown",
      "id": "381acd09-0b0f-4d04-9eb3-f028ac0e5f2c",
      "metadata": {
        "id": "381acd09-0b0f-4d04-9eb3-f028ac0e5f2c"
      },
      "source": [
        "### Prepare Data"
      ]
    },
    {
      "cell_type": "markdown",
      "id": "9649bf01-2e8a-45e5-8fca-441c13637b8f",
      "metadata": {
        "id": "9649bf01-2e8a-45e5-8fca-441c13637b8f"
      },
      "source": [
        "Let's print the first example of the Common Voice dataset to see\n",
        "what form the data is in:"
      ]
    },
    {
      "cell_type": "code",
      "execution_count": 10,
      "id": "6e6b0ec5-0c94-4e2c-ae24-c791be1b2255",
      "metadata": {
        "id": "6e6b0ec5-0c94-4e2c-ae24-c791be1b2255"
      },
      "outputs": [
        {
          "name": "stdout",
          "output_type": "stream",
          "text": [
            "{'audio': {'path': 'e5a815920ffa4968854e6ce3e4aa5c0b75.wav', 'array': array([-0.02957153, -0.02093506, -0.02876282, ...,  0.04142761,\n",
            "        0.04951477,  0.04373169]), 'sampling_rate': 16000}, 'sentence': 'התמקדה בעיקר בשידורי תעמולה'}\n"
          ]
        }
      ],
      "source": [
        "print(raw_datasets[\"train\"][0])"
      ]
    },
    {
      "cell_type": "code",
      "execution_count": 11,
      "id": "4d07a962",
      "metadata": {},
      "outputs": [
        {
          "data": {
            "text/html": [
              "\n",
              "                <audio  controls=\"controls\" >\n",
              "                    <source src=\"data:audio/wav;base64,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\" type=\"audio/wav\" />\n",
              "                    Your browser does not support the audio element.\n",
              "                </audio>\n",
              "              "
            ],
            "text/plain": [
              "<IPython.lib.display.Audio object>"
            ]
          },
          "execution_count": 11,
          "metadata": {},
          "output_type": "execute_result"
        }
      ],
      "source": [
        "import numpy as np\n",
        "from IPython.display import Audio\n",
        "\n",
        "audio_array = np.array(raw_datasets[\"train\"][1]['audio']['array'])\n",
        "audio_rate = raw_datasets[\"train\"][1]['audio']['sampling_rate']\n",
        "Audio(audio_array, rate = audio_rate)"
      ]
    },
    {
      "cell_type": "markdown",
      "id": "5a679f05-063d-41b3-9b58-4fc9c6ccf4fd",
      "metadata": {
        "id": "5a679f05-063d-41b3-9b58-4fc9c6ccf4fd"
      },
      "source": [
        "Since\n",
        "our input audio is sampled at 48kHz, we need to _downsample_ it to\n",
        "16kHz prior to passing it to the Whisper feature extractor, 16kHz being the sampling rate expected by the Whisper model.\n",
        "\n",
        "We'll set the audio inputs to the correct sampling rate using dataset's\n",
        "[`cast_column`](https://huggingface.co/docs/datasets/package_reference/main_classes.html?highlight=cast_column#datasets.DatasetDict.cast_column)\n",
        "method. This operation does not change the audio in-place,\n",
        "but rather signals to `datasets` to resample audio samples _on the fly_ the\n",
        "first time that they are loaded:"
      ]
    },
    {
      "cell_type": "code",
      "execution_count": 12,
      "id": "f12e2e57-156f-417b-8cfb-69221cc198e8",
      "metadata": {
        "id": "f12e2e57-156f-417b-8cfb-69221cc198e8"
      },
      "outputs": [],
      "source": [
        "from datasets import Audio\n",
        "\n",
        "raw_datasets = raw_datasets.cast_column(\"audio\", Audio(sampling_rate=16000))"
      ]
    },
    {
      "cell_type": "markdown",
      "id": "00382a3e-abec-4cdd-a54c-d1aaa3ea4707",
      "metadata": {
        "id": "00382a3e-abec-4cdd-a54c-d1aaa3ea4707"
      },
      "source": [
        "Re-loading the first audio sample in the Common Voice dataset will resample\n",
        "it to the desired sampling rate:"
      ]
    },
    {
      "cell_type": "code",
      "execution_count": 13,
      "id": "87122d71-289a-466a-afcf-fa354b18946b",
      "metadata": {
        "id": "87122d71-289a-466a-afcf-fa354b18946b"
      },
      "outputs": [
        {
          "name": "stdout",
          "output_type": "stream",
          "text": [
            "{'audio': {'path': 'e5a815920ffa4968854e6ce3e4aa5c0b75.wav', 'array': array([-0.02957153, -0.02093506, -0.02876282, ...,  0.04142761,\n",
            "        0.04951477,  0.04373169]), 'sampling_rate': 16000}, 'sentence': 'התמקדה בעיקר בשידורי תעמולה'}\n"
          ]
        }
      ],
      "source": [
        "print(raw_datasets[\"train\"][0])"
      ]
    },
    {
      "cell_type": "markdown",
      "id": "3df7378a-a4c0-45d7-8d07-defbd1062ab6",
      "metadata": {
        "id": "3df7378a-a4c0-45d7-8d07-defbd1062ab6"
      },
      "source": [
        "We'll define our pre-processing strategy. We advise that you **do not** lower-case the transcriptions or remove punctuation unless mixing different datasets. This will enable you to fine-tune Whisper models that can predict punctuation and casing. Later, you will see how we can evaluate the predictions without punctuation or casing, so that the models benefit from the WER improvement obtained by normalising the transcriptions while still predicting fully formatted transcriptions."
      ]
    },
    {
      "cell_type": "code",
      "execution_count": 14,
      "id": "d041650e-1c48-4439-87b3-5b6f4a514107",
      "metadata": {
        "id": "d041650e-1c48-4439-87b3-5b6f4a514107"
      },
      "outputs": [],
      "source": [
        "from transformers.models.whisper.english_normalizer import BasicTextNormalizer\n",
        "\n",
        "do_lower_case = False\n",
        "do_remove_punctuation = False\n",
        "\n",
        "normalizer = BasicTextNormalizer()"
      ]
    },
    {
      "cell_type": "markdown",
      "id": "89e12c2e-2f14-479b-987b-f0c75c881095",
      "metadata": {
        "id": "89e12c2e-2f14-479b-987b-f0c75c881095"
      },
      "source": [
        "Now we can write a function to prepare our data ready for the model:\n",
        "1. We load and resample the audio data by calling `batch[\"audio\"]`. As explained above, 🤗 Datasets performs any necessary resampling operations on the fly.\n",
        "2. We use the feature extractor to compute the log-Mel spectrogram input features from our 1-dimensional audio array.\n",
        "3. We perform any optional pre-processing (lower-case or remove punctuation).\n",
        "4. We encode the transcriptions to label ids through the use of the tokenizer."
      ]
    },
    {
      "cell_type": "code",
      "execution_count": 15,
      "id": "c085911c-a10a-41ef-8874-306e0503e9bb",
      "metadata": {
        "id": "c085911c-a10a-41ef-8874-306e0503e9bb"
      },
      "outputs": [],
      "source": [
        "def prepare_dataset(batch):\n",
        "    # load and (possibly) resample audio data to 16kHz\n",
        "    audio = batch[\"audio\"]\n",
        "\n",
        "    # compute log-Mel input features from input audio array\n",
        "    batch[\"input_features\"] = processor.feature_extractor(audio[\"array\"], sampling_rate=audio[\"sampling_rate\"]).input_features[0]\n",
        "    # compute input length of audio sample in seconds\n",
        "    batch[\"input_length\"] = len(audio[\"array\"]) / audio[\"sampling_rate\"]\n",
        "\n",
        "    # optional pre-processing steps\n",
        "    transcription = batch[\"sentence\"]\n",
        "    if do_lower_case:\n",
        "        transcription = transcription.lower()\n",
        "    if do_remove_punctuation:\n",
        "        transcription = normalizer(transcription).strip()\n",
        "\n",
        "    # encode target text to label ids\n",
        "    batch[\"labels\"] = processor.tokenizer(transcription).input_ids\n",
        "    return batch"
      ]
    },
    {
      "cell_type": "markdown",
      "id": "8c960965-9fb6-466f-9dbd-c9d43e71d9d0",
      "metadata": {
        "id": "8c960965-9fb6-466f-9dbd-c9d43e71d9d0"
      },
      "source": [
        "We can apply the data preparation function to all of our training examples using dataset's `.map` method. The argument `num_proc` specifies how many CPU cores to use. Setting `num_proc` > 1 will enable multiprocessing. If the `.map` method hangs with multiprocessing, set `num_proc=1` and process the dataset sequentially."
      ]
    },
    {
      "cell_type": "code",
      "execution_count": 16,
      "id": "7b73ab39-ffaf-4b9e-86e5-782963c6134b",
      "metadata": {
        "id": "7b73ab39-ffaf-4b9e-86e5-782963c6134b"
      },
      "outputs": [
        {
          "data": {
            "application/vnd.jupyter.widget-view+json": {
              "model_id": "111e88aa621d45e180449be6b655a9dd",
              "version_major": 2,
              "version_minor": 0
            },
            "text/plain": [
              "Map:   0%|          | 0/500 [00:00<?, ? examples/s]"
            ]
          },
          "metadata": {},
          "output_type": "display_data"
        },
        {
          "data": {
            "application/vnd.jupyter.widget-view+json": {
              "model_id": "749c4dd34cf24d1db9afe3f534cd7775",
              "version_major": 2,
              "version_minor": 0
            },
            "text/plain": [
              "Map:   0%|          | 0/100 [00:00<?, ? examples/s]"
            ]
          },
          "metadata": {},
          "output_type": "display_data"
        }
      ],
      "source": [
        "raw_datasets = raw_datasets.map(prepare_dataset, remove_columns=raw_datasets[\"train\"].features.keys()).with_format(\"torch\")"
      ]
    },
    {
      "cell_type": "markdown",
      "id": "54ce0fdb-7218-4a4d-b175-383980fec0df",
      "metadata": {
        "id": "54ce0fdb-7218-4a4d-b175-383980fec0df"
      },
      "source": [
        "Finally, we filter any training data with audio samples longer than 30s. These samples would otherwise be truncated by the Whisper feature-extractor which could affect the stability of training. We define a function that returns `True` for samples that are less than 30s, and `False` for those that are longer:"
      ]
    },
    {
      "cell_type": "code",
      "execution_count": 17,
      "id": "01cb25ef-4bb0-4325-9461-f59198acadf6",
      "metadata": {
        "id": "01cb25ef-4bb0-4325-9461-f59198acadf6"
      },
      "outputs": [],
      "source": [
        "max_input_length = 30.0\n",
        "\n",
        "def is_audio_in_length_range(length):\n",
        "    return length < max_input_length"
      ]
    },
    {
      "cell_type": "markdown",
      "id": "30e676a8-7ca8-4850-8c5d-5b2b00d13fba",
      "metadata": {
        "id": "30e676a8-7ca8-4850-8c5d-5b2b00d13fba"
      },
      "source": [
        "We apply our filter function to all samples of our training dataset through 🤗 Datasets' `.filter` method:"
      ]
    },
    {
      "cell_type": "code",
      "execution_count": 18,
      "id": "333f7f6e-6053-4d3b-8924-c733c79b82ac",
      "metadata": {
        "id": "333f7f6e-6053-4d3b-8924-c733c79b82ac"
      },
      "outputs": [
        {
          "data": {
            "application/vnd.jupyter.widget-view+json": {
              "model_id": "a1723f1387454ceebf85561d8a1b46c2",
              "version_major": 2,
              "version_minor": 0
            },
            "text/plain": [
              "Filter:   0%|          | 0/500 [00:00<?, ? examples/s]"
            ]
          },
          "metadata": {},
          "output_type": "display_data"
        }
      ],
      "source": [
        "raw_datasets[\"train\"] = raw_datasets[\"train\"].filter(\n",
        "    is_audio_in_length_range,\n",
        "    input_columns=[\"input_length\"],\n",
        ")"
      ]
    },
    {
      "cell_type": "markdown",
      "id": "263a5a58-0239-4a25-b0df-c625fc9c5810",
      "metadata": {
        "id": "263a5a58-0239-4a25-b0df-c625fc9c5810"
      },
      "source": [
        "## Training and Evaluation"
      ]
    },
    {
      "cell_type": "markdown",
      "id": "a693e768-c5a6-453f-89a1-b601dcf7daf7",
      "metadata": {
        "id": "a693e768-c5a6-453f-89a1-b601dcf7daf7"
      },
      "source": [
        "Now that we've prepared our data, we're ready to dive into the training pipeline.\n",
        "The [🤗 Trainer](https://huggingface.co/transformers/master/main_classes/trainer.html?highlight=trainer)\n",
        "will do much of the heavy lifting for us. All we have to do is:\n",
        "\n",
        "- Define a data collator: the data collator takes our pre-processed data and prepares PyTorch tensors ready for the model.\n",
        "\n",
        "- Evaluation metrics: during evaluation, we want to evaluate the model using the [word error rate (WER)](https://huggingface.co/metrics/wer) metric. We need to define a `compute_metrics` function that handles this computation.\n",
        "\n",
        "- Load a pre-trained checkpoint: we need to load a pre-trained checkpoint and configure it correctly for training.\n",
        "\n",
        "- Define the training configuration: this will be used by the 🤗 Trainer to define the training schedule.\n",
        "\n",
        "Once we've fine-tuned the model, we will evaluate it on the test data to verify that we have correctly trained it\n",
        "to transcribe speech in Hindi."
      ]
    },
    {
      "cell_type": "markdown",
      "id": "8d230e6d-624c-400a-bbf5-fa660881df25",
      "metadata": {
        "id": "8d230e6d-624c-400a-bbf5-fa660881df25"
      },
      "source": [
        "### Define a Data Collator"
      ]
    },
    {
      "cell_type": "markdown",
      "id": "04def221-0637-4a69-b242-d3f0c1d0ee78",
      "metadata": {
        "id": "04def221-0637-4a69-b242-d3f0c1d0ee78"
      },
      "source": [
        "The data collator for a sequence-to-sequence speech model is unique in the sense that it\n",
        "treats the `input_features` and `labels` independently: the  `input_features` must be\n",
        "handled by the feature extractor and the `labels` by the tokenizer.\n",
        "\n",
        "The `input_features` are already padded to 30s and converted to a log-Mel spectrogram\n",
        "of fixed dimension by action of the feature extractor, so all we have to do is convert the `input_features`\n",
        "to batched PyTorch tensors. We do this using the feature extractor's `.pad` method with `return_tensors=pt`.\n",
        "\n",
        "The `labels` on the other hand are un-padded. We first pad the sequences\n",
        "to the maximum length in the batch using the tokenizer's `.pad` method. The padding tokens\n",
        "are then replaced by `-100` so that these tokens are **not** taken into account when\n",
        "computing the loss. We then cut the BOS token from the start of the label sequence as we\n",
        "append it later during training.\n",
        "\n",
        "We can leverage the `WhisperProcessor` we defined earlier to perform both the\n",
        "feature extractor and the tokenizer operations:"
      ]
    },
    {
      "cell_type": "code",
      "execution_count": 19,
      "id": "8326221e-ec13-4731-bb4e-51e5fc1486c5",
      "metadata": {
        "id": "8326221e-ec13-4731-bb4e-51e5fc1486c5"
      },
      "outputs": [],
      "source": [
        "import torch\n",
        "\n",
        "from dataclasses import dataclass\n",
        "from typing import Any, Dict, List, Union\n",
        "\n",
        "@dataclass\n",
        "class DataCollatorSpeechSeq2SeqWithPadding:\n",
        "    processor: Any\n",
        "\n",
        "    def __call__(self, features: List[Dict[str, Union[List[int], torch.Tensor]]]) -> Dict[str, torch.Tensor]:\n",
        "        # split inputs and labels since they have to be of different lengths and need different padding methods\n",
        "        # first treat the audio inputs by simply returning torch tensors\n",
        "        input_features = [{\"input_features\": feature[\"input_features\"]} for feature in features]\n",
        "        batch = self.processor.feature_extractor.pad(input_features, return_tensors=\"pt\")\n",
        "\n",
        "        # get the tokenized label sequences\n",
        "        label_features = [{\"input_ids\": feature[\"labels\"]} for feature in features]\n",
        "        # pad the labels to max length\n",
        "        labels_batch = self.processor.tokenizer.pad(label_features, return_tensors=\"pt\")\n",
        "\n",
        "        # replace padding with -100 to ignore loss correctly\n",
        "        labels = labels_batch[\"input_ids\"].masked_fill(labels_batch.attention_mask.ne(1), -100)\n",
        "\n",
        "        # if bos token is appended in previous tokenization step,\n",
        "        # cut bos token here as it's append later anyways\n",
        "        if (labels[:, 0] == self.processor.tokenizer.bos_token_id).all().cpu().item():\n",
        "            labels = labels[:, 1:]\n",
        "\n",
        "        batch[\"labels\"] = labels\n",
        "\n",
        "        return batch"
      ]
    },
    {
      "cell_type": "markdown",
      "id": "3cae7dbf-8a50-456e-a3a8-7fd005390f86",
      "metadata": {
        "id": "3cae7dbf-8a50-456e-a3a8-7fd005390f86"
      },
      "source": [
        "Let's initialise the data collator we've just defined:"
      ]
    },
    {
      "cell_type": "code",
      "execution_count": 20,
      "id": "fc834702-c0d3-4a96-b101-7b87be32bf42",
      "metadata": {
        "id": "fc834702-c0d3-4a96-b101-7b87be32bf42"
      },
      "outputs": [],
      "source": [
        "data_collator = DataCollatorSpeechSeq2SeqWithPadding(processor=processor)"
      ]
    },
    {
      "cell_type": "markdown",
      "id": "d62bb2ab-750a-45e7-82e9-61d6f4805698",
      "metadata": {
        "id": "d62bb2ab-750a-45e7-82e9-61d6f4805698"
      },
      "source": [
        "### Evaluation Metrics"
      ]
    },
    {
      "cell_type": "markdown",
      "id": "66fee1a7-a44c-461e-b047-c3917221572e",
      "metadata": {
        "id": "66fee1a7-a44c-461e-b047-c3917221572e"
      },
      "source": [
        "We'll use the word error rate (WER) metric, the 'de-facto' metric for assessing\n",
        "ASR systems. For more information, refer to the WER [docs](https://huggingface.co/metrics/wer). We'll load the WER metric from 🤗 Evaluate:"
      ]
    },
    {
      "cell_type": "code",
      "execution_count": 21,
      "id": "b22b4011-f31f-4b57-b684-c52332f92890",
      "metadata": {
        "id": "b22b4011-f31f-4b57-b684-c52332f92890"
      },
      "outputs": [],
      "source": [
        "import evaluate\n",
        "\n",
        "metric = evaluate.load(\"wer\")"
      ]
    },
    {
      "cell_type": "markdown",
      "id": "4f32cab6-31f0-4cb9-af4c-40ba0f5fc508",
      "metadata": {
        "id": "4f32cab6-31f0-4cb9-af4c-40ba0f5fc508"
      },
      "source": [
        "We then simply have to define a function that takes our model\n",
        "predictions and returns the WER metric. This function, called\n",
        "`compute_metrics`, first replaces `-100` with the `pad_token_id`\n",
        "in the `label_ids` (undoing the step we applied in the\n",
        "data collator to ignore padded tokens correctly in the loss).\n",
        "It then decodes the predicted and label ids to strings. Finally,\n",
        "it computes the WER between the predictions and reference labels.\n",
        "Here, we have the option of evaluating with the 'normalised' transcriptions\n",
        "and predictions. We recommend you set this to `True` to benefit from the WER\n",
        "improvement obtained by normalising the transcriptions."
      ]
    },
    {
      "cell_type": "code",
      "execution_count": 22,
      "id": "23959a70-22d0-4ffe-9fa1-72b61e75bb52",
      "metadata": {
        "id": "23959a70-22d0-4ffe-9fa1-72b61e75bb52"
      },
      "outputs": [],
      "source": [
        "# evaluate with the 'normalised' WER\n",
        "do_normalize_eval = True\n",
        "\n",
        "def compute_metrics(pred):\n",
        "    pred_ids = pred.predictions\n",
        "    label_ids = pred.label_ids\n",
        "\n",
        "    # replace -100 with the pad_token_id\n",
        "    label_ids[label_ids == -100] = processor.tokenizer.pad_token_id\n",
        "\n",
        "    # we do not want to group tokens when computing the metrics\n",
        "    pred_str = processor.tokenizer.batch_decode(pred_ids, skip_special_tokens=True)\n",
        "    label_str = processor.tokenizer.batch_decode(label_ids, skip_special_tokens=True)\n",
        "\n",
        "    if do_normalize_eval:\n",
        "        pred_str = [normalizer(pred) for pred in pred_str]\n",
        "        label_str = [normalizer(label) for label in label_str]\n",
        "\n",
        "    wer = 100 * metric.compute(predictions=pred_str, references=label_str)\n",
        "\n",
        "    return {\"wer\": wer}"
      ]
    },
    {
      "cell_type": "markdown",
      "id": "daf2a825-6d9f-4a23-b145-c37c0039075b",
      "metadata": {
        "id": "daf2a825-6d9f-4a23-b145-c37c0039075b"
      },
      "source": [
        "### Load a Pre-Trained Checkpoint"
      ]
    },
    {
      "cell_type": "markdown",
      "id": "437a97fa-4864-476b-8abc-f28b8166cfa5",
      "metadata": {
        "id": "437a97fa-4864-476b-8abc-f28b8166cfa5"
      },
      "source": [
        "Now let's load the pre-trained Whisper `small` checkpoint. Again, this\n",
        "is trivial through use of 🤗 Transformers!"
      ]
    },
    {
      "cell_type": "code",
      "execution_count": 23,
      "id": "5a10cc4b-07ec-4ebd-ac1d-7c601023594f",
      "metadata": {
        "id": "5a10cc4b-07ec-4ebd-ac1d-7c601023594f"
      },
      "outputs": [],
      "source": [
        "from transformers import WhisperForConditionalGeneration\n",
        "\n",
        "model = WhisperForConditionalGeneration.from_pretrained(\"openai/whisper-small\")"
      ]
    },
    {
      "cell_type": "markdown",
      "id": "a15ead5f-2277-4a39-937b-585c2497b2df",
      "metadata": {
        "id": "a15ead5f-2277-4a39-937b-585c2497b2df"
      },
      "source": [
        "Override generation arguments - no tokens are forced as decoder outputs (see [`forced_decoder_ids`](https://huggingface.co/docs/transformers/main_classes/text_generation#transformers.generation_utils.GenerationMixin.generate.forced_decoder_ids)), no tokens are suppressed during generation (see [`suppress_tokens`](https://huggingface.co/docs/transformers/main_classes/text_generation#transformers.generation_utils.GenerationMixin.generate.suppress_tokens)). Set `use_cache` to False since we're using gradient checkpointing, and the two are incompatible:"
      ]
    },
    {
      "cell_type": "code",
      "execution_count": 24,
      "id": "62038ba3-88ed-4fce-84db-338f50dcd04f",
      "metadata": {
        "id": "62038ba3-88ed-4fce-84db-338f50dcd04f"
      },
      "outputs": [],
      "source": [
        "model.config.forced_decoder_ids = None\n",
        "model.config.suppress_tokens = []\n",
        "model.config.use_cache = False"
      ]
    },
    {
      "cell_type": "markdown",
      "id": "2178dea4-80ca-47b6-b6ea-ba1915c90c06",
      "metadata": {
        "id": "2178dea4-80ca-47b6-b6ea-ba1915c90c06"
      },
      "source": [
        "### Define the Training Configuration"
      ]
    },
    {
      "cell_type": "markdown",
      "id": "c21af1e9-0188-4134-ac82-defc7bdcc436",
      "metadata": {
        "id": "c21af1e9-0188-4134-ac82-defc7bdcc436"
      },
      "source": [
        "In the final step, we define all the parameters related to training. For more detail on the training arguments, refer to the Seq2SeqTrainingArguments [docs](https://huggingface.co/docs/transformers/main_classes/trainer#transformers.Seq2SeqTrainingArguments)."
      ]
    },
    {
      "cell_type": "code",
      "execution_count": 28,
      "id": "0ae3e9af-97b7-4aa0-ae85-20b23b5bcb3a",
      "metadata": {
        "id": "0ae3e9af-97b7-4aa0-ae85-20b23b5bcb3a"
      },
      "outputs": [],
      "source": [
        "from transformers import Seq2SeqTrainingArguments\n",
        "\n",
        "training_args = Seq2SeqTrainingArguments(\n",
        "    output_dir=\"models/whisper-small\",\n",
        "    per_device_train_batch_size=16,\n",
        "    gradient_accumulation_steps=3,  # increase by 2x for every 2x decrease in batch size\n",
        "    learning_rate=1e-5,\n",
        "    warmup_steps=500,\n",
        "    max_steps=5000,\n",
        "    gradient_checkpointing=True,\n",
        "    # fp16=True,\n",
        "    evaluation_strategy=\"steps\",\n",
        "    per_device_eval_batch_size=8,\n",
        "    predict_with_generate=True,\n",
        "    generation_max_length=225,\n",
        "    save_steps=1000,\n",
        "    eval_steps=1000,\n",
        "    logging_steps=25,\n",
        "    # report_to=[\"tensorboard\"],\n",
        "    load_best_model_at_end=True,\n",
        "    metric_for_best_model=\"wer\",\n",
        "    greater_is_better=False,\n",
        "    num_train_epochs=1,\n",
        "    save_total_limit=1\n",
        ")"
      ]
    },
    {
      "cell_type": "markdown",
      "id": "b3a944d8-3112-4552-82a0-be25988b3857",
      "metadata": {
        "id": "b3a944d8-3112-4552-82a0-be25988b3857"
      },
      "source": [
        "**Note**: if one does not want to upload the model checkpoints to the Hub,\n",
        "set `push_to_hub=False`."
      ]
    },
    {
      "cell_type": "markdown",
      "id": "bac29114-d226-4f54-97cf-8718c9f94e1e",
      "metadata": {
        "id": "bac29114-d226-4f54-97cf-8718c9f94e1e"
      },
      "source": [
        "We can forward the training arguments to the 🤗 Trainer along with our model,\n",
        "dataset, data collator and `compute_metrics` function:"
      ]
    },
    {
      "cell_type": "code",
      "execution_count": 29,
      "id": "d546d7fe-0543-479a-b708-2ebabec19493",
      "metadata": {
        "id": "d546d7fe-0543-479a-b708-2ebabec19493"
      },
      "outputs": [],
      "source": [
        "from transformers import Seq2SeqTrainer\n",
        "\n",
        "trainer = Seq2SeqTrainer(\n",
        "    args=training_args,\n",
        "    model=model,\n",
        "    train_dataset=raw_datasets[\"train\"],\n",
        "    eval_dataset=raw_datasets[\"test\"],\n",
        "    data_collator=data_collator,\n",
        "    compute_metrics=compute_metrics,\n",
        "    tokenizer=processor.feature_extractor,\n",
        ")"
      ]
    },
    {
      "cell_type": "markdown",
      "id": "uOrRhDGtN5S4",
      "metadata": {
        "id": "uOrRhDGtN5S4"
      },
      "source": [
        "We'll save the processor object once before starting training. Since the processor is not trainable, it won't change over the course of training:"
      ]
    },
    {
      "cell_type": "code",
      "execution_count": 30,
      "id": "-2zQwMfEOBJq",
      "metadata": {
        "id": "-2zQwMfEOBJq"
      },
      "outputs": [],
      "source": [
        "processor.save_pretrained(training_args.output_dir)"
      ]
    },
    {
      "cell_type": "markdown",
      "id": "7f404cf9-4345-468c-8196-4bd101d9bd51",
      "metadata": {
        "id": "7f404cf9-4345-468c-8196-4bd101d9bd51"
      },
      "source": [
        "### Training"
      ]
    },
    {
      "cell_type": "markdown",
      "id": "5e8b8d56-5a70-4f68-bd2e-f0752d0bd112",
      "metadata": {
        "id": "5e8b8d56-5a70-4f68-bd2e-f0752d0bd112"
      },
      "source": [
        "Training will take approximately 5-10 hours depending on your GPU. The peak GPU memory for the given training configuration is approximately 36GB.\n",
        "Depending on your GPU, it is possible that you will encounter a CUDA `\"out-of-memory\"` error when you launch training.\n",
        "In this case, you can reduce the `per_device_train_batch_size` incrementally by factors of 2\n",
        "and employ [`gradient_accumulation_steps`](https://huggingface.co/docs/transformers/main_classes/trainer#transformers.Seq2SeqTrainingArguments.gradient_accumulation_steps)\n",
        "to compensate.\n",
        "\n",
        "To launch training, simply execute:"
      ]
    },
    {
      "cell_type": "code",
      "execution_count": 31,
      "id": "ee8b7b8e-1c9a-4d77-9137-1778a629e6de",
      "metadata": {
        "id": "ee8b7b8e-1c9a-4d77-9137-1778a629e6de"
      },
      "outputs": [
        {
          "data": {
            "application/vnd.jupyter.widget-view+json": {
              "model_id": "0192eb003f1d461ea0d9a4b71ebbe3c0",
              "version_major": 2,
              "version_minor": 0
            },
            "text/plain": [
              "  0%|          | 0/5000 [00:00<?, ?it/s]"
            ]
          },
          "metadata": {},
          "output_type": "display_data"
        },
        {
          "name": "stderr",
          "output_type": "stream",
          "text": [
            "/Users/shua/Desktop/msc-ml-datamining/FinalProject/.venv/lib/python3.11/site-packages/torch/utils/checkpoint.py:429: UserWarning: torch.utils.checkpoint: please pass in use_reentrant=True or use_reentrant=False explicitly. The default value of use_reentrant will be updated to be False in the future. To maintain current behavior, pass use_reentrant=True. It is recommended that you use use_reentrant=False. Refer to docs for more details on the differences between the two variants.\n",
            "  warnings.warn(\n"
          ]
        },
        {
          "ename": "KeyboardInterrupt",
          "evalue": "",
          "output_type": "error",
          "traceback": [
            "\u001b[0;31m---------------------------------------------------------------------------\u001b[0m",
            "\u001b[0;31mKeyboardInterrupt\u001b[0m                         Traceback (most recent call last)",
            "Cell \u001b[0;32mIn[31], line 1\u001b[0m\n\u001b[0;32m----> 1\u001b[0m \u001b[43mtrainer\u001b[49m\u001b[38;5;241;43m.\u001b[39;49m\u001b[43mtrain\u001b[49m\u001b[43m(\u001b[49m\u001b[43m)\u001b[49m\n",
            "File \u001b[0;32m~/Desktop/msc-ml-datamining/FinalProject/.venv/lib/python3.11/site-packages/transformers/trainer.py:1537\u001b[0m, in \u001b[0;36mTrainer.train\u001b[0;34m(self, resume_from_checkpoint, trial, ignore_keys_for_eval, **kwargs)\u001b[0m\n\u001b[1;32m   1535\u001b[0m         hf_hub_utils\u001b[38;5;241m.\u001b[39menable_progress_bars()\n\u001b[1;32m   1536\u001b[0m \u001b[38;5;28;01melse\u001b[39;00m:\n\u001b[0;32m-> 1537\u001b[0m     \u001b[38;5;28;01mreturn\u001b[39;00m \u001b[43minner_training_loop\u001b[49m\u001b[43m(\u001b[49m\n\u001b[1;32m   1538\u001b[0m \u001b[43m        \u001b[49m\u001b[43margs\u001b[49m\u001b[38;5;241;43m=\u001b[39;49m\u001b[43margs\u001b[49m\u001b[43m,\u001b[49m\n\u001b[1;32m   1539\u001b[0m \u001b[43m        \u001b[49m\u001b[43mresume_from_checkpoint\u001b[49m\u001b[38;5;241;43m=\u001b[39;49m\u001b[43mresume_from_checkpoint\u001b[49m\u001b[43m,\u001b[49m\n\u001b[1;32m   1540\u001b[0m \u001b[43m        \u001b[49m\u001b[43mtrial\u001b[49m\u001b[38;5;241;43m=\u001b[39;49m\u001b[43mtrial\u001b[49m\u001b[43m,\u001b[49m\n\u001b[1;32m   1541\u001b[0m \u001b[43m        \u001b[49m\u001b[43mignore_keys_for_eval\u001b[49m\u001b[38;5;241;43m=\u001b[39;49m\u001b[43mignore_keys_for_eval\u001b[49m\u001b[43m,\u001b[49m\n\u001b[1;32m   1542\u001b[0m \u001b[43m    \u001b[49m\u001b[43m)\u001b[49m\n",
            "File \u001b[0;32m~/Desktop/msc-ml-datamining/FinalProject/.venv/lib/python3.11/site-packages/transformers/trainer.py:1854\u001b[0m, in \u001b[0;36mTrainer._inner_training_loop\u001b[0;34m(self, batch_size, args, resume_from_checkpoint, trial, ignore_keys_for_eval)\u001b[0m\n\u001b[1;32m   1851\u001b[0m     \u001b[38;5;28mself\u001b[39m\u001b[38;5;241m.\u001b[39mcontrol \u001b[38;5;241m=\u001b[39m \u001b[38;5;28mself\u001b[39m\u001b[38;5;241m.\u001b[39mcallback_handler\u001b[38;5;241m.\u001b[39mon_step_begin(args, \u001b[38;5;28mself\u001b[39m\u001b[38;5;241m.\u001b[39mstate, \u001b[38;5;28mself\u001b[39m\u001b[38;5;241m.\u001b[39mcontrol)\n\u001b[1;32m   1853\u001b[0m \u001b[38;5;28;01mwith\u001b[39;00m \u001b[38;5;28mself\u001b[39m\u001b[38;5;241m.\u001b[39maccelerator\u001b[38;5;241m.\u001b[39maccumulate(model):\n\u001b[0;32m-> 1854\u001b[0m     tr_loss_step \u001b[38;5;241m=\u001b[39m \u001b[38;5;28;43mself\u001b[39;49m\u001b[38;5;241;43m.\u001b[39;49m\u001b[43mtraining_step\u001b[49m\u001b[43m(\u001b[49m\u001b[43mmodel\u001b[49m\u001b[43m,\u001b[49m\u001b[43m \u001b[49m\u001b[43minputs\u001b[49m\u001b[43m)\u001b[49m\n\u001b[1;32m   1856\u001b[0m \u001b[38;5;28;01mif\u001b[39;00m (\n\u001b[1;32m   1857\u001b[0m     args\u001b[38;5;241m.\u001b[39mlogging_nan_inf_filter\n\u001b[1;32m   1858\u001b[0m     \u001b[38;5;129;01mand\u001b[39;00m \u001b[38;5;129;01mnot\u001b[39;00m is_torch_tpu_available()\n\u001b[1;32m   1859\u001b[0m     \u001b[38;5;129;01mand\u001b[39;00m (torch\u001b[38;5;241m.\u001b[39misnan(tr_loss_step) \u001b[38;5;129;01mor\u001b[39;00m torch\u001b[38;5;241m.\u001b[39misinf(tr_loss_step))\n\u001b[1;32m   1860\u001b[0m ):\n\u001b[1;32m   1861\u001b[0m     \u001b[38;5;66;03m# if loss is nan or inf simply add the average of previous logged losses\u001b[39;00m\n\u001b[1;32m   1862\u001b[0m     tr_loss \u001b[38;5;241m+\u001b[39m\u001b[38;5;241m=\u001b[39m tr_loss \u001b[38;5;241m/\u001b[39m (\u001b[38;5;241m1\u001b[39m \u001b[38;5;241m+\u001b[39m \u001b[38;5;28mself\u001b[39m\u001b[38;5;241m.\u001b[39mstate\u001b[38;5;241m.\u001b[39mglobal_step \u001b[38;5;241m-\u001b[39m \u001b[38;5;28mself\u001b[39m\u001b[38;5;241m.\u001b[39m_globalstep_last_logged)\n",
            "File \u001b[0;32m~/Desktop/msc-ml-datamining/FinalProject/.venv/lib/python3.11/site-packages/transformers/trainer.py:2737\u001b[0m, in \u001b[0;36mTrainer.training_step\u001b[0;34m(self, model, inputs)\u001b[0m\n\u001b[1;32m   2735\u001b[0m         scaled_loss\u001b[38;5;241m.\u001b[39mbackward()\n\u001b[1;32m   2736\u001b[0m \u001b[38;5;28;01melse\u001b[39;00m:\n\u001b[0;32m-> 2737\u001b[0m     \u001b[38;5;28;43mself\u001b[39;49m\u001b[38;5;241;43m.\u001b[39;49m\u001b[43maccelerator\u001b[49m\u001b[38;5;241;43m.\u001b[39;49m\u001b[43mbackward\u001b[49m\u001b[43m(\u001b[49m\u001b[43mloss\u001b[49m\u001b[43m)\u001b[49m\n\u001b[1;32m   2739\u001b[0m \u001b[38;5;28;01mreturn\u001b[39;00m loss\u001b[38;5;241m.\u001b[39mdetach() \u001b[38;5;241m/\u001b[39m \u001b[38;5;28mself\u001b[39m\u001b[38;5;241m.\u001b[39margs\u001b[38;5;241m.\u001b[39mgradient_accumulation_steps\n",
            "File \u001b[0;32m~/Desktop/msc-ml-datamining/FinalProject/.venv/lib/python3.11/site-packages/accelerate/accelerator.py:1905\u001b[0m, in \u001b[0;36mAccelerator.backward\u001b[0;34m(self, loss, **kwargs)\u001b[0m\n\u001b[1;32m   1903\u001b[0m     \u001b[38;5;28mself\u001b[39m\u001b[38;5;241m.\u001b[39mscaler\u001b[38;5;241m.\u001b[39mscale(loss)\u001b[38;5;241m.\u001b[39mbackward(\u001b[38;5;241m*\u001b[39m\u001b[38;5;241m*\u001b[39mkwargs)\n\u001b[1;32m   1904\u001b[0m \u001b[38;5;28;01melse\u001b[39;00m:\n\u001b[0;32m-> 1905\u001b[0m     \u001b[43mloss\u001b[49m\u001b[38;5;241;43m.\u001b[39;49m\u001b[43mbackward\u001b[49m\u001b[43m(\u001b[49m\u001b[38;5;241;43m*\u001b[39;49m\u001b[38;5;241;43m*\u001b[39;49m\u001b[43mkwargs\u001b[49m\u001b[43m)\u001b[49m\n",
            "File \u001b[0;32m~/Desktop/msc-ml-datamining/FinalProject/.venv/lib/python3.11/site-packages/torch/_tensor.py:492\u001b[0m, in \u001b[0;36mTensor.backward\u001b[0;34m(self, gradient, retain_graph, create_graph, inputs)\u001b[0m\n\u001b[1;32m    482\u001b[0m \u001b[38;5;28;01mif\u001b[39;00m has_torch_function_unary(\u001b[38;5;28mself\u001b[39m):\n\u001b[1;32m    483\u001b[0m     \u001b[38;5;28;01mreturn\u001b[39;00m handle_torch_function(\n\u001b[1;32m    484\u001b[0m         Tensor\u001b[38;5;241m.\u001b[39mbackward,\n\u001b[1;32m    485\u001b[0m         (\u001b[38;5;28mself\u001b[39m,),\n\u001b[0;32m   (...)\u001b[0m\n\u001b[1;32m    490\u001b[0m         inputs\u001b[38;5;241m=\u001b[39minputs,\n\u001b[1;32m    491\u001b[0m     )\n\u001b[0;32m--> 492\u001b[0m \u001b[43mtorch\u001b[49m\u001b[38;5;241;43m.\u001b[39;49m\u001b[43mautograd\u001b[49m\u001b[38;5;241;43m.\u001b[39;49m\u001b[43mbackward\u001b[49m\u001b[43m(\u001b[49m\n\u001b[1;32m    493\u001b[0m \u001b[43m    \u001b[49m\u001b[38;5;28;43mself\u001b[39;49m\u001b[43m,\u001b[49m\u001b[43m \u001b[49m\u001b[43mgradient\u001b[49m\u001b[43m,\u001b[49m\u001b[43m \u001b[49m\u001b[43mretain_graph\u001b[49m\u001b[43m,\u001b[49m\u001b[43m \u001b[49m\u001b[43mcreate_graph\u001b[49m\u001b[43m,\u001b[49m\u001b[43m \u001b[49m\u001b[43minputs\u001b[49m\u001b[38;5;241;43m=\u001b[39;49m\u001b[43minputs\u001b[49m\n\u001b[1;32m    494\u001b[0m \u001b[43m\u001b[49m\u001b[43m)\u001b[49m\n",
            "File \u001b[0;32m~/Desktop/msc-ml-datamining/FinalProject/.venv/lib/python3.11/site-packages/torch/autograd/__init__.py:251\u001b[0m, in \u001b[0;36mbackward\u001b[0;34m(tensors, grad_tensors, retain_graph, create_graph, grad_variables, inputs)\u001b[0m\n\u001b[1;32m    246\u001b[0m     retain_graph \u001b[38;5;241m=\u001b[39m create_graph\n\u001b[1;32m    248\u001b[0m \u001b[38;5;66;03m# The reason we repeat the same comment below is that\u001b[39;00m\n\u001b[1;32m    249\u001b[0m \u001b[38;5;66;03m# some Python versions print out the first line of a multi-line function\u001b[39;00m\n\u001b[1;32m    250\u001b[0m \u001b[38;5;66;03m# calls in the traceback and some print out the last line\u001b[39;00m\n\u001b[0;32m--> 251\u001b[0m \u001b[43mVariable\u001b[49m\u001b[38;5;241;43m.\u001b[39;49m\u001b[43m_execution_engine\u001b[49m\u001b[38;5;241;43m.\u001b[39;49m\u001b[43mrun_backward\u001b[49m\u001b[43m(\u001b[49m\u001b[43m  \u001b[49m\u001b[38;5;66;43;03m# Calls into the C++ engine to run the backward pass\u001b[39;49;00m\n\u001b[1;32m    252\u001b[0m \u001b[43m    \u001b[49m\u001b[43mtensors\u001b[49m\u001b[43m,\u001b[49m\n\u001b[1;32m    253\u001b[0m \u001b[43m    \u001b[49m\u001b[43mgrad_tensors_\u001b[49m\u001b[43m,\u001b[49m\n\u001b[1;32m    254\u001b[0m \u001b[43m    \u001b[49m\u001b[43mretain_graph\u001b[49m\u001b[43m,\u001b[49m\n\u001b[1;32m    255\u001b[0m \u001b[43m    \u001b[49m\u001b[43mcreate_graph\u001b[49m\u001b[43m,\u001b[49m\n\u001b[1;32m    256\u001b[0m \u001b[43m    \u001b[49m\u001b[43minputs\u001b[49m\u001b[43m,\u001b[49m\n\u001b[1;32m    257\u001b[0m \u001b[43m    \u001b[49m\u001b[43mallow_unreachable\u001b[49m\u001b[38;5;241;43m=\u001b[39;49m\u001b[38;5;28;43;01mTrue\u001b[39;49;00m\u001b[43m,\u001b[49m\n\u001b[1;32m    258\u001b[0m \u001b[43m    \u001b[49m\u001b[43maccumulate_grad\u001b[49m\u001b[38;5;241;43m=\u001b[39;49m\u001b[38;5;28;43;01mTrue\u001b[39;49;00m\u001b[43m,\u001b[49m\n\u001b[1;32m    259\u001b[0m \u001b[43m\u001b[49m\u001b[43m)\u001b[49m\n",
            "\u001b[0;31mKeyboardInterrupt\u001b[0m: "
          ]
        }
      ],
      "source": [
        "trainer.train()"
      ]
    },
    {
      "cell_type": "markdown",
      "id": "810ced54-7187-4a06-b2fe-ba6dcca94dc3",
      "metadata": {
        "id": "810ced54-7187-4a06-b2fe-ba6dcca94dc3"
      },
      "source": [
        "We can label our checkpoint with the `whisper-event` tag on push by setting the appropriate key-word arguments (kwargs):"
      ]
    },
    {
      "cell_type": "code",
      "execution_count": null,
      "id": "c704f91e-241b-48c9-b8e0-f0da396a9663",
      "metadata": {
        "id": "c704f91e-241b-48c9-b8e0-f0da396a9663"
      },
      "outputs": [],
      "source": [
        "kwargs = {\n",
        "    \"dataset_tags\": \"mozilla-foundation/raw_datasets_11_0\",\n",
        "    \"dataset\": \"Common Voice 11.0\",  # a 'pretty' name for the training dataset\n",
        "    \"language\": \"hi\",\n",
        "    \"model_name\": \"Whisper Small Hi - Sanchit Gandhi\",  # a 'pretty' name for your model\n",
        "    \"finetuned_from\": \"openai/whisper-small\",\n",
        "    \"tasks\": \"automatic-speech-recognition\",\n",
        "    \"tags\": \"whisper-event\",\n",
        "}"
      ]
    },
    {
      "cell_type": "markdown",
      "id": "090d676a-f944-4297-a938-a40eda0b2b68",
      "metadata": {
        "id": "090d676a-f944-4297-a938-a40eda0b2b68"
      },
      "source": [
        "The training results can now be uploaded to the Hub. To do so, execute the `push_to_hub` command and save the preprocessor object we created:"
      ]
    },
    {
      "cell_type": "code",
      "execution_count": null,
      "id": "d7030622-caf7-4039-939b-6195cdaa2585",
      "metadata": {
        "id": "d7030622-caf7-4039-939b-6195cdaa2585"
      },
      "outputs": [],
      "source": [
        "trainer.push_to_hub(**kwargs)"
      ]
    },
    {
      "cell_type": "markdown",
      "id": "ca743fbd-602c-48d4-ba8d-a2fe60af64ba",
      "metadata": {
        "id": "ca743fbd-602c-48d4-ba8d-a2fe60af64ba"
      },
      "source": [
        "## Closing Remarks"
      ]
    },
    {
      "cell_type": "markdown",
      "id": "7f737783-2870-4e35-aa11-86a42d7d997a",
      "metadata": {
        "id": "7f737783-2870-4e35-aa11-86a42d7d997a"
      },
      "source": [
        "In this blog, we covered a step-by-step guide on fine-tuning Whisper for multilingual ASR\n",
        "using 🤗 Datasets, Transformers and the Hugging Face Hub. For more details on the Whisper model, the Common Voice dataset and the theory behind fine-tuning, refere to the accompanying [blog post](https://huggingface.co/blog/fine-tune-whisper). If you're interested in fine-tuning other\n",
        "Transformers models, both for English and multilingual ASR, be sure to check out the\n",
        "examples scripts at [examples/pytorch/speech-recognition](https://github.com/huggingface/transformers/tree/main/examples/pytorch/speech-recognition)."
      ]
    }
  ],
  "metadata": {
    "colab": {
      "provenance": [],
      "toc_visible": true
    },
    "kernelspec": {
      "display_name": "Python 3 (ipykernel)",
      "language": "python",
      "name": "python3"
    },
    "language_info": {
      "codemirror_mode": {
        "name": "ipython",
        "version": 3
      },
      "file_extension": ".py",
      "mimetype": "text/x-python",
      "name": "python",
      "nbconvert_exporter": "python",
      "pygments_lexer": "ipython3",
      "version": "3.11.6"
    },
    "widgets": {
      "application/vnd.jupyter.widget-state+json": {
        "0c6ef909fe15437d871adecbea14315a": {
          "model_module": "@jupyter-widgets/controls",
          "model_module_version": "1.5.0",
          "model_name": "DescriptionStyleModel",
          "state": {
            "_model_module": "@jupyter-widgets/controls",
            "_model_module_version": "1.5.0",
            "_model_name": "DescriptionStyleModel",
            "_view_count": null,
            "_view_module": "@jupyter-widgets/base",
            "_view_module_version": "1.2.0",
            "_view_name": "StyleView",
            "description_width": ""
          }
        },
        "1faa2cc7430c4819b3c67d4642e5ed37": {
          "model_module": "@jupyter-widgets/controls",
          "model_module_version": "1.5.0",
          "model_name": "ProgressStyleModel",
          "state": {
            "_model_module": "@jupyter-widgets/controls",
            "_model_module_version": "1.5.0",
            "_model_name": "ProgressStyleModel",
            "_view_count": null,
            "_view_module": "@jupyter-widgets/base",
            "_view_module_version": "1.2.0",
            "_view_name": "StyleView",
            "bar_color": null,
            "description_width": ""
          }
        },
        "3b6326fa66054f969c47d877fc748720": {
          "model_module": "@jupyter-widgets/base",
          "model_module_version": "1.2.0",
          "model_name": "LayoutModel",
          "state": {
            "_model_module": "@jupyter-widgets/base",
            "_model_module_version": "1.2.0",
            "_model_name": "LayoutModel",
            "_view_count": null,
            "_view_module": "@jupyter-widgets/base",
            "_view_module_version": "1.2.0",
            "_view_name": "LayoutView",
            "align_content": null,
            "align_items": null,
            "align_self": null,
            "border": null,
            "bottom": null,
            "display": null,
            "flex": null,
            "flex_flow": null,
            "grid_area": null,
            "grid_auto_columns": null,
            "grid_auto_flow": null,
            "grid_auto_rows": null,
            "grid_column": null,
            "grid_gap": null,
            "grid_row": null,
            "grid_template_areas": null,
            "grid_template_columns": null,
            "grid_template_rows": null,
            "height": null,
            "justify_content": null,
            "justify_items": null,
            "left": null,
            "margin": null,
            "max_height": null,
            "max_width": null,
            "min_height": null,
            "min_width": null,
            "object_fit": null,
            "object_position": null,
            "order": null,
            "overflow": null,
            "overflow_x": null,
            "overflow_y": null,
            "padding": null,
            "right": null,
            "top": null,
            "visibility": null,
            "width": null
          }
        },
        "468419d3ccfa494086981a4a82d6033a": {
          "model_module": "@jupyter-widgets/controls",
          "model_module_version": "1.5.0",
          "model_name": "HTMLModel",
          "state": {
            "_dom_classes": [],
            "_model_module": "@jupyter-widgets/controls",
            "_model_module_version": "1.5.0",
            "_model_name": "HTMLModel",
            "_view_count": null,
            "_view_module": "@jupyter-widgets/controls",
            "_view_module_version": "1.5.0",
            "_view_name": "HTMLView",
            "description": "",
            "description_tooltip": null,
            "layout": "IPY_MODEL_e200fecaccc64b24a9f6a2a145a5b915",
            "placeholder": "​",
            "style": "IPY_MODEL_0c6ef909fe15437d871adecbea14315a",
            "value": " 2.54k/2.54k [00:00&lt;00:00, 31.4kB/s]"
          }
        },
        "9166186d355343d1b993a82b4ee2a685": {
          "model_module": "@jupyter-widgets/controls",
          "model_module_version": "1.5.0",
          "model_name": "HBoxModel",
          "state": {
            "_dom_classes": [],
            "_model_module": "@jupyter-widgets/controls",
            "_model_module_version": "1.5.0",
            "_model_name": "HBoxModel",
            "_view_count": null,
            "_view_module": "@jupyter-widgets/controls",
            "_view_module_version": "1.5.0",
            "_view_name": "HBoxView",
            "box_style": "",
            "children": [
              "IPY_MODEL_ad56824961654ff09822160b12a4a027",
              "IPY_MODEL_b77b115840024f298535780007281b33",
              "IPY_MODEL_468419d3ccfa494086981a4a82d6033a"
            ],
            "layout": "IPY_MODEL_3b6326fa66054f969c47d877fc748720"
          }
        },
        "9a144408ebfd48dcb05625f3138e0433": {
          "model_module": "@jupyter-widgets/base",
          "model_module_version": "1.2.0",
          "model_name": "LayoutModel",
          "state": {
            "_model_module": "@jupyter-widgets/base",
            "_model_module_version": "1.2.0",
            "_model_name": "LayoutModel",
            "_view_count": null,
            "_view_module": "@jupyter-widgets/base",
            "_view_module_version": "1.2.0",
            "_view_name": "LayoutView",
            "align_content": null,
            "align_items": null,
            "align_self": null,
            "border": null,
            "bottom": null,
            "display": null,
            "flex": null,
            "flex_flow": null,
            "grid_area": null,
            "grid_auto_columns": null,
            "grid_auto_flow": null,
            "grid_auto_rows": null,
            "grid_column": null,
            "grid_gap": null,
            "grid_row": null,
            "grid_template_areas": null,
            "grid_template_columns": null,
            "grid_template_rows": null,
            "height": null,
            "justify_content": null,
            "justify_items": null,
            "left": null,
            "margin": null,
            "max_height": null,
            "max_width": null,
            "min_height": null,
            "min_width": null,
            "object_fit": null,
            "object_position": null,
            "order": null,
            "overflow": null,
            "overflow_x": null,
            "overflow_y": null,
            "padding": null,
            "right": null,
            "top": null,
            "visibility": null,
            "width": null
          }
        },
        "ad480193700545b48e46216888ce7a7a": {
          "model_module": "@jupyter-widgets/base",
          "model_module_version": "1.2.0",
          "model_name": "LayoutModel",
          "state": {
            "_model_module": "@jupyter-widgets/base",
            "_model_module_version": "1.2.0",
            "_model_name": "LayoutModel",
            "_view_count": null,
            "_view_module": "@jupyter-widgets/base",
            "_view_module_version": "1.2.0",
            "_view_name": "LayoutView",
            "align_content": null,
            "align_items": null,
            "align_self": null,
            "border": null,
            "bottom": null,
            "display": null,
            "flex": null,
            "flex_flow": null,
            "grid_area": null,
            "grid_auto_columns": null,
            "grid_auto_flow": null,
            "grid_auto_rows": null,
            "grid_column": null,
            "grid_gap": null,
            "grid_row": null,
            "grid_template_areas": null,
            "grid_template_columns": null,
            "grid_template_rows": null,
            "height": null,
            "justify_content": null,
            "justify_items": null,
            "left": null,
            "margin": null,
            "max_height": null,
            "max_width": null,
            "min_height": null,
            "min_width": null,
            "object_fit": null,
            "object_position": null,
            "order": null,
            "overflow": null,
            "overflow_x": null,
            "overflow_y": null,
            "padding": null,
            "right": null,
            "top": null,
            "visibility": null,
            "width": null
          }
        },
        "ad56824961654ff09822160b12a4a027": {
          "model_module": "@jupyter-widgets/controls",
          "model_module_version": "1.5.0",
          "model_name": "HTMLModel",
          "state": {
            "_dom_classes": [],
            "_model_module": "@jupyter-widgets/controls",
            "_model_module_version": "1.5.0",
            "_model_name": "HTMLModel",
            "_view_count": null,
            "_view_module": "@jupyter-widgets/controls",
            "_view_module_version": "1.5.0",
            "_view_name": "HTMLView",
            "description": "",
            "description_tooltip": null,
            "layout": "IPY_MODEL_9a144408ebfd48dcb05625f3138e0433",
            "placeholder": "​",
            "style": "IPY_MODEL_dc39a74c6ec640a2bf57de3c4f7cec0b",
            "value": "Downloading readme: 100%"
          }
        },
        "b77b115840024f298535780007281b33": {
          "model_module": "@jupyter-widgets/controls",
          "model_module_version": "1.5.0",
          "model_name": "FloatProgressModel",
          "state": {
            "_dom_classes": [],
            "_model_module": "@jupyter-widgets/controls",
            "_model_module_version": "1.5.0",
            "_model_name": "FloatProgressModel",
            "_view_count": null,
            "_view_module": "@jupyter-widgets/controls",
            "_view_module_version": "1.5.0",
            "_view_name": "ProgressView",
            "bar_style": "success",
            "description": "",
            "description_tooltip": null,
            "layout": "IPY_MODEL_ad480193700545b48e46216888ce7a7a",
            "max": 2540,
            "min": 0,
            "orientation": "horizontal",
            "style": "IPY_MODEL_1faa2cc7430c4819b3c67d4642e5ed37",
            "value": 2540
          }
        },
        "dc39a74c6ec640a2bf57de3c4f7cec0b": {
          "model_module": "@jupyter-widgets/controls",
          "model_module_version": "1.5.0",
          "model_name": "DescriptionStyleModel",
          "state": {
            "_model_module": "@jupyter-widgets/controls",
            "_model_module_version": "1.5.0",
            "_model_name": "DescriptionStyleModel",
            "_view_count": null,
            "_view_module": "@jupyter-widgets/base",
            "_view_module_version": "1.2.0",
            "_view_name": "StyleView",
            "description_width": ""
          }
        },
        "e200fecaccc64b24a9f6a2a145a5b915": {
          "model_module": "@jupyter-widgets/base",
          "model_module_version": "1.2.0",
          "model_name": "LayoutModel",
          "state": {
            "_model_module": "@jupyter-widgets/base",
            "_model_module_version": "1.2.0",
            "_model_name": "LayoutModel",
            "_view_count": null,
            "_view_module": "@jupyter-widgets/base",
            "_view_module_version": "1.2.0",
            "_view_name": "LayoutView",
            "align_content": null,
            "align_items": null,
            "align_self": null,
            "border": null,
            "bottom": null,
            "display": null,
            "flex": null,
            "flex_flow": null,
            "grid_area": null,
            "grid_auto_columns": null,
            "grid_auto_flow": null,
            "grid_auto_rows": null,
            "grid_column": null,
            "grid_gap": null,
            "grid_row": null,
            "grid_template_areas": null,
            "grid_template_columns": null,
            "grid_template_rows": null,
            "height": null,
            "justify_content": null,
            "justify_items": null,
            "left": null,
            "margin": null,
            "max_height": null,
            "max_width": null,
            "min_height": null,
            "min_width": null,
            "object_fit": null,
            "object_position": null,
            "order": null,
            "overflow": null,
            "overflow_x": null,
            "overflow_y": null,
            "padding": null,
            "right": null,
            "top": null,
            "visibility": null,
            "width": null
          }
        }
      }
    }
  },
  "nbformat": 4,
  "nbformat_minor": 5
}
